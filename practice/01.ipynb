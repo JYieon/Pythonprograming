{
 "cells": [
  {
   "cell_type": "code",
   "execution_count": 1,
   "metadata": {},
   "outputs": [
    {
     "name": "stdout",
     "output_type": "stream",
     "text": [
      "Requirement already satisfied: gensim==3.7.3 in c:\\users\\6206-14\\appdata\\local\\programs\\python\\python38\\lib\\site-packages (3.7.3)\n",
      "Requirement already satisfied: numpy>=1.11.3 in c:\\users\\6206-14\\appdata\\local\\programs\\python\\python38\\lib\\site-packages (from gensim==3.7.3) (1.24.4)\n",
      "Requirement already satisfied: scipy>=0.18.1 in c:\\users\\6206-14\\appdata\\local\\programs\\python\\python38\\lib\\site-packages (from gensim==3.7.3) (1.10.1)\n",
      "Requirement already satisfied: six>=1.5.0 in c:\\users\\6206-14\\appdata\\local\\programs\\python\\python38\\lib\\site-packages (from gensim==3.7.3) (1.16.0)\n",
      "Requirement already satisfied: smart_open>=1.7.0 in c:\\users\\6206-14\\appdata\\local\\programs\\python\\python38\\lib\\site-packages (from gensim==3.7.3) (7.0.1)\n",
      "Requirement already satisfied: wrapt in c:\\users\\6206-14\\appdata\\local\\programs\\python\\python38\\lib\\site-packages (from smart_open>=1.7.0->gensim==3.7.3) (1.16.0)\n"
     ]
    }
   ],
   "source": [
    "#Python 3.8에서 gensim 3.7.3 설치\n",
    "import sys\n",
    "\n",
    "!{sys.executable} -m pip install gensim==3.7.3\n",
    "import gensim"
   ]
  },
  {
   "cell_type": "code",
   "execution_count": 2,
   "metadata": {},
   "outputs": [
    {
     "name": "stdout",
     "output_type": "stream",
     "text": [
      "Package            Version\n",
      "------------------ -----------\n",
      "asttokens          2.4.1\n",
      "backcall           0.2.0\n",
      "colorama           0.4.6\n",
      "comm               0.2.2\n",
      "debugpy            1.8.1\n",
      "decorator          5.1.1\n",
      "executing          2.0.1\n",
      "gensim             3.7.3\n",
      "importlib_metadata 7.0.2\n",
      "ipykernel          6.29.3\n",
      "ipython            8.12.3\n",
      "jedi               0.19.1\n",
      "jupyter_client     8.6.1\n",
      "jupyter_core       5.7.2\n",
      "matplotlib-inline  0.1.6\n",
      "nest-asyncio       1.6.0\n",
      "numpy              1.24.4\n",
      "packaging          24.0\n",
      "parso              0.8.3\n",
      "pickleshare        0.7.5\n",
      "pip                24.0\n",
      "platformdirs       4.2.0\n",
      "prompt-toolkit     3.0.43\n",
      "psutil             5.9.8\n",
      "pure-eval          0.2.2\n",
      "Pygments           2.17.2\n",
      "python-dateutil    2.9.0.post0\n",
      "pywin32            306\n",
      "pyzmq              25.1.2\n",
      "scipy              1.10.1\n",
      "setuptools         49.2.1\n",
      "six                1.16.0\n",
      "smart-open         7.0.1\n",
      "stack-data         0.6.3\n",
      "tornado            6.4\n",
      "traitlets          5.14.2\n",
      "typing_extensions  4.10.0\n",
      "wcwidth            0.2.13\n",
      "wrapt              1.16.0\n",
      "zipp               3.18.1\n",
      "Note: you may need to restart the kernel to use updated packages.\n"
     ]
    }
   ],
   "source": [
    "pip list"
   ]
  },
  {
   "cell_type": "code",
   "execution_count": 3,
   "metadata": {},
   "outputs": [],
   "source": [
    "import gensim"
   ]
  },
  {
   "cell_type": "code",
   "execution_count": 12,
   "metadata": {},
   "outputs": [
    {
     "name": "stdout",
     "output_type": "stream",
     "text": [
      "Note: you may need to restart the kernel to use updated packages.\n"
     ]
    },
    {
     "name": "stderr",
     "output_type": "stream",
     "text": [
      "ERROR: unknown command \"python\"\n",
      "\n"
     ]
    }
   ],
   "source": []
  }
 ],
 "metadata": {
  "kernelspec": {
   "display_name": "Python 3",
   "language": "python",
   "name": "python3"
  },
  "language_info": {
   "codemirror_mode": {
    "name": "ipython",
    "version": 3
   },
   "file_extension": ".py",
   "mimetype": "text/x-python",
   "name": "python",
   "nbconvert_exporter": "python",
   "pygments_lexer": "ipython3",
   "version": "3.8.6rc1"
  }
 },
 "nbformat": 4,
 "nbformat_minor": 2
}
