{
  "cells": [
    {
      "cell_type": "markdown",
      "metadata": {
        "id": "ZmBWeL7PWnwf"
      },
      "source": [
        "# Ch08. OECD 국가의 GDP데이터로 실무의 데이터 다루기"
      ]
    },
    {
      "cell_type": "markdown",
      "metadata": {
        "id": "z1mb2nw0mUPI"
      },
      "source": [
        "## 1. 결측값 채우기 (fillna)"
      ]
    },
    {
      "cell_type": "markdown",
      "metadata": {},
      "source": [
        "### 학습 목표\n",
        "- 결측값을 지정한 값으로 채운다. (`fillna` 함수의 `value` 인자)\n",
        "- 결측값을 근접한 값으로 채운다. (`fillna` 함수의 `method` 인자)"
      ]
    },
    {
      "cell_type": "markdown",
      "metadata": {
        "id": "eXxmlkVR0sQ2"
      },
      "source": [
        "> pandas fillna\n",
        "\n",
        "\n",
        "결측값 null(대표적으로 NaN)을 지정한 값으로 채우는 함수\n",
        "\n",
        "\n",
        "<img src=https://i.ibb.co/rcbvvQ5/08-01.jpg, width=600>\n",
        "\n",
        "\n",
        "**value** (scalar, 딕셔너리, 시리즈, 데이터 프레임)\n",
        "\n",
        "NaN을 채울 값\n",
        "\n",
        "- scalar를 입력하면 동일한 값으로 채운다\n",
        "\n",
        "- 딕셔너리나 시리즈를 입력하면 key에 맞는 열마다 다른 값을 채운다\n",
        "\n",
        "- 데이터 프레임은 인덱스가 동일한 값을 채운다\n",
        " \n",
        "\n",
        "**method** (인수는 ‘backfill’, ‘bfill’, ‘pad’, ‘ffill’, None / 기본값은 None)\n",
        "\n",
        "근접한 값으로 NaN을 채울 때 사용하는 인자\n",
        "\n",
        "- ffill / pad : 이전 값으로 채운다\n",
        "- bfill / backfill: 이후의 값으로 채운다\n",
        "\n",
        " \n",
        "<img src=https://i.ibb.co/9h9cshK/08-01-02.jpg, width=600>\n",
        " \n",
        "\n",
        " \n",
        "\n",
        "**axis** (인수는 0 또는 1 / 기본값은 0)\n",
        "\n",
        "method로 근접한 값을 채울 때 축을 지정하는 인자, 0이면 열에서 근접한 값을 채운다\n",
        "\n",
        "<br><br>\n",
        " \n",
        "\n",
        "fillna 공식문서 : https://pandas.pydata.org/docs/reference/api/pandas.DataFrame.fillna.html\n",
        "\n"
      ]
    },
    {
      "cell_type": "code",
      "execution_count": 1,
      "metadata": {
        "colab": {
          "base_uri": "https://localhost:8080/",
          "height": 175
        },
        "id": "DVNkn8HzmUde",
        "outputId": "21431721-75a9-4fe7-91d4-c56a35a05ed6"
      },
      "outputs": [
        {
          "data": {
            "text/html": [
              "<div>\n",
              "<style scoped>\n",
              "    .dataframe tbody tr th:only-of-type {\n",
              "        vertical-align: middle;\n",
              "    }\n",
              "\n",
              "    .dataframe tbody tr th {\n",
              "        vertical-align: top;\n",
              "    }\n",
              "\n",
              "    .dataframe thead th {\n",
              "        text-align: right;\n",
              "    }\n",
              "</style>\n",
              "<table border=\"1\" class=\"dataframe\">\n",
              "  <thead>\n",
              "    <tr style=\"text-align: right;\">\n",
              "      <th></th>\n",
              "      <th>국어</th>\n",
              "      <th>영어</th>\n",
              "      <th>수학</th>\n",
              "    </tr>\n",
              "  </thead>\n",
              "  <tbody>\n",
              "    <tr>\n",
              "      <th>A</th>\n",
              "      <td>88.0</td>\n",
              "      <td>66.0</td>\n",
              "      <td>NaN</td>\n",
              "    </tr>\n",
              "    <tr>\n",
              "      <th>B</th>\n",
              "      <td>NaN</td>\n",
              "      <td>NaN</td>\n",
              "      <td>69.0</td>\n",
              "    </tr>\n",
              "    <tr>\n",
              "      <th>C</th>\n",
              "      <td>69.0</td>\n",
              "      <td>82.0</td>\n",
              "      <td>NaN</td>\n",
              "    </tr>\n",
              "    <tr>\n",
              "      <th>D</th>\n",
              "      <td>71.0</td>\n",
              "      <td>89.0</td>\n",
              "      <td>98.0</td>\n",
              "    </tr>\n",
              "  </tbody>\n",
              "</table>\n",
              "</div>"
            ],
            "text/plain": [
              "     국어    영어    수학\n",
              "A  88.0  66.0   NaN\n",
              "B   NaN   NaN  69.0\n",
              "C  69.0  82.0   NaN\n",
              "D  71.0  89.0  98.0"
            ]
          },
          "execution_count": 1,
          "metadata": {},
          "output_type": "execute_result"
        }
      ],
      "source": [
        "# 실습 준비 코드\n",
        "import pandas as pd\n",
        "data = [[88, 66, None], [None, None, 69], [69, 82, None], [71, 89, 98]]\n",
        "data1 = [[0, 1, 2] , [3, 4, 5], [6, 7, 8], [9, 10, 11]]\n",
        "df = pd.DataFrame(data, index=list('ABCD'), columns=['국어', '영어', '수학'])\n",
        "df1 = pd.DataFrame(data1, index=df.index, columns=df.columns) \n",
        "df"
      ]
    },
    {
      "cell_type": "code",
      "execution_count": 2,
      "metadata": {
        "colab": {
          "base_uri": "https://localhost:8080/",
          "height": 175
        },
        "id": "sg_ZpqY8CpVp",
        "outputId": "ae829b39-1adb-48f9-86b7-03eccb313983"
      },
      "outputs": [
        {
          "data": {
            "text/html": [
              "<div>\n",
              "<style scoped>\n",
              "    .dataframe tbody tr th:only-of-type {\n",
              "        vertical-align: middle;\n",
              "    }\n",
              "\n",
              "    .dataframe tbody tr th {\n",
              "        vertical-align: top;\n",
              "    }\n",
              "\n",
              "    .dataframe thead th {\n",
              "        text-align: right;\n",
              "    }\n",
              "</style>\n",
              "<table border=\"1\" class=\"dataframe\">\n",
              "  <thead>\n",
              "    <tr style=\"text-align: right;\">\n",
              "      <th></th>\n",
              "      <th>국어</th>\n",
              "      <th>영어</th>\n",
              "      <th>수학</th>\n",
              "    </tr>\n",
              "  </thead>\n",
              "  <tbody>\n",
              "    <tr>\n",
              "      <th>A</th>\n",
              "      <td>88.0</td>\n",
              "      <td>66.0</td>\n",
              "      <td>0.0</td>\n",
              "    </tr>\n",
              "    <tr>\n",
              "      <th>B</th>\n",
              "      <td>0.0</td>\n",
              "      <td>0.0</td>\n",
              "      <td>69.0</td>\n",
              "    </tr>\n",
              "    <tr>\n",
              "      <th>C</th>\n",
              "      <td>69.0</td>\n",
              "      <td>82.0</td>\n",
              "      <td>0.0</td>\n",
              "    </tr>\n",
              "    <tr>\n",
              "      <th>D</th>\n",
              "      <td>71.0</td>\n",
              "      <td>89.0</td>\n",
              "      <td>98.0</td>\n",
              "    </tr>\n",
              "  </tbody>\n",
              "</table>\n",
              "</div>"
            ],
            "text/plain": [
              "     국어    영어    수학\n",
              "A  88.0  66.0   0.0\n",
              "B   0.0   0.0  69.0\n",
              "C  69.0  82.0   0.0\n",
              "D  71.0  89.0  98.0"
            ]
          },
          "execution_count": 2,
          "metadata": {},
          "output_type": "execute_result"
        }
      ],
      "source": [
        "# 값으로 채우기 (scalar로 채우기)\n",
        "df.fillna(0)"
      ]
    },
    {
      "cell_type": "code",
      "execution_count": 3,
      "metadata": {
        "colab": {
          "base_uri": "https://localhost:8080/",
          "height": 175
        },
        "id": "rtmDkUS8DFwo",
        "outputId": "ade36b2a-6db1-4b8c-ccbf-c3ba1690c884"
      },
      "outputs": [
        {
          "data": {
            "text/html": [
              "<div>\n",
              "<style scoped>\n",
              "    .dataframe tbody tr th:only-of-type {\n",
              "        vertical-align: middle;\n",
              "    }\n",
              "\n",
              "    .dataframe tbody tr th {\n",
              "        vertical-align: top;\n",
              "    }\n",
              "\n",
              "    .dataframe thead th {\n",
              "        text-align: right;\n",
              "    }\n",
              "</style>\n",
              "<table border=\"1\" class=\"dataframe\">\n",
              "  <thead>\n",
              "    <tr style=\"text-align: right;\">\n",
              "      <th></th>\n",
              "      <th>국어</th>\n",
              "      <th>영어</th>\n",
              "      <th>수학</th>\n",
              "    </tr>\n",
              "  </thead>\n",
              "  <tbody>\n",
              "    <tr>\n",
              "      <th>A</th>\n",
              "      <td>88.0</td>\n",
              "      <td>66.0</td>\n",
              "      <td>2.0</td>\n",
              "    </tr>\n",
              "    <tr>\n",
              "      <th>B</th>\n",
              "      <td>0.0</td>\n",
              "      <td>1.0</td>\n",
              "      <td>69.0</td>\n",
              "    </tr>\n",
              "    <tr>\n",
              "      <th>C</th>\n",
              "      <td>69.0</td>\n",
              "      <td>82.0</td>\n",
              "      <td>2.0</td>\n",
              "    </tr>\n",
              "    <tr>\n",
              "      <th>D</th>\n",
              "      <td>71.0</td>\n",
              "      <td>89.0</td>\n",
              "      <td>98.0</td>\n",
              "    </tr>\n",
              "  </tbody>\n",
              "</table>\n",
              "</div>"
            ],
            "text/plain": [
              "     국어    영어    수학\n",
              "A  88.0  66.0   2.0\n",
              "B   0.0   1.0  69.0\n",
              "C  69.0  82.0   2.0\n",
              "D  71.0  89.0  98.0"
            ]
          },
          "execution_count": 3,
          "metadata": {},
          "output_type": "execute_result"
        }
      ],
      "source": [
        "# 맵퍼로 채우기 (열마다 다른 값으로 채운다)\n",
        "df.fillna({'국어': 0, '영어': 1, '수학': 2})"
      ]
    },
    {
      "cell_type": "code",
      "execution_count": 4,
      "metadata": {
        "colab": {
          "base_uri": "https://localhost:8080/",
          "height": 175
        },
        "id": "rWa8Jem5z1ya",
        "outputId": "6ada9389-94f6-4ce1-e4b7-a4c86036e0ca"
      },
      "outputs": [
        {
          "data": {
            "text/html": [
              "<div>\n",
              "<style scoped>\n",
              "    .dataframe tbody tr th:only-of-type {\n",
              "        vertical-align: middle;\n",
              "    }\n",
              "\n",
              "    .dataframe tbody tr th {\n",
              "        vertical-align: top;\n",
              "    }\n",
              "\n",
              "    .dataframe thead th {\n",
              "        text-align: right;\n",
              "    }\n",
              "</style>\n",
              "<table border=\"1\" class=\"dataframe\">\n",
              "  <thead>\n",
              "    <tr style=\"text-align: right;\">\n",
              "      <th></th>\n",
              "      <th>국어</th>\n",
              "      <th>영어</th>\n",
              "      <th>수학</th>\n",
              "    </tr>\n",
              "  </thead>\n",
              "  <tbody>\n",
              "    <tr>\n",
              "      <th>A</th>\n",
              "      <td>88.0</td>\n",
              "      <td>66.0</td>\n",
              "      <td>NaN</td>\n",
              "    </tr>\n",
              "    <tr>\n",
              "      <th>B</th>\n",
              "      <td>0.0</td>\n",
              "      <td>1.0</td>\n",
              "      <td>69.0</td>\n",
              "    </tr>\n",
              "    <tr>\n",
              "      <th>C</th>\n",
              "      <td>69.0</td>\n",
              "      <td>82.0</td>\n",
              "      <td>NaN</td>\n",
              "    </tr>\n",
              "    <tr>\n",
              "      <th>D</th>\n",
              "      <td>71.0</td>\n",
              "      <td>89.0</td>\n",
              "      <td>98.0</td>\n",
              "    </tr>\n",
              "  </tbody>\n",
              "</table>\n",
              "</div>"
            ],
            "text/plain": [
              "     국어    영어    수학\n",
              "A  88.0  66.0   NaN\n",
              "B   0.0   1.0  69.0\n",
              "C  69.0  82.0   NaN\n",
              "D  71.0  89.0  98.0"
            ]
          },
          "execution_count": 4,
          "metadata": {},
          "output_type": "execute_result"
        }
      ],
      "source": [
        "# 모든 열을 key에 지정할 필요는 없다\n",
        "df.fillna({'국어': 0, '영어': 1})"
      ]
    },
    {
      "cell_type": "code",
      "execution_count": 5,
      "metadata": {
        "colab": {
          "base_uri": "https://localhost:8080/",
          "height": 175
        },
        "id": "Wr9F6lkGDLrA",
        "outputId": "e4ee82a6-624e-469e-eb0d-31cf904243a8"
      },
      "outputs": [
        {
          "data": {
            "text/html": [
              "<div>\n",
              "<style scoped>\n",
              "    .dataframe tbody tr th:only-of-type {\n",
              "        vertical-align: middle;\n",
              "    }\n",
              "\n",
              "    .dataframe tbody tr th {\n",
              "        vertical-align: top;\n",
              "    }\n",
              "\n",
              "    .dataframe thead th {\n",
              "        text-align: right;\n",
              "    }\n",
              "</style>\n",
              "<table border=\"1\" class=\"dataframe\">\n",
              "  <thead>\n",
              "    <tr style=\"text-align: right;\">\n",
              "      <th></th>\n",
              "      <th>국어</th>\n",
              "      <th>영어</th>\n",
              "      <th>수학</th>\n",
              "    </tr>\n",
              "  </thead>\n",
              "  <tbody>\n",
              "    <tr>\n",
              "      <th>A</th>\n",
              "      <td>88.0</td>\n",
              "      <td>66.0</td>\n",
              "      <td>83.5</td>\n",
              "    </tr>\n",
              "    <tr>\n",
              "      <th>B</th>\n",
              "      <td>76.0</td>\n",
              "      <td>79.0</td>\n",
              "      <td>69.0</td>\n",
              "    </tr>\n",
              "    <tr>\n",
              "      <th>C</th>\n",
              "      <td>69.0</td>\n",
              "      <td>82.0</td>\n",
              "      <td>83.5</td>\n",
              "    </tr>\n",
              "    <tr>\n",
              "      <th>D</th>\n",
              "      <td>71.0</td>\n",
              "      <td>89.0</td>\n",
              "      <td>98.0</td>\n",
              "    </tr>\n",
              "  </tbody>\n",
              "</table>\n",
              "</div>"
            ],
            "text/plain": [
              "     국어    영어    수학\n",
              "A  88.0  66.0  83.5\n",
              "B  76.0  79.0  69.0\n",
              "C  69.0  82.0  83.5\n",
              "D  71.0  89.0  98.0"
            ]
          },
          "execution_count": 5,
          "metadata": {},
          "output_type": "execute_result"
        }
      ],
      "source": [
        "# 열의 평균으로 채우기\n",
        "df.fillna(df.mean())"
      ]
    },
    {
      "cell_type": "code",
      "execution_count": 6,
      "metadata": {
        "colab": {
          "base_uri": "https://localhost:8080/",
          "height": 0
        },
        "id": "AfmaHrXGDOel",
        "outputId": "7a839548-dc7c-4e43-eae2-09c962128d3d"
      },
      "outputs": [
        {
          "data": {
            "text/plain": [
              "국어    88.0\n",
              "영어    66.0\n",
              "수학    77.0\n",
              "Name: A, dtype: float64"
            ]
          },
          "execution_count": 6,
          "metadata": {},
          "output_type": "execute_result"
        }
      ],
      "source": [
        "# 행의 평균으로 채우는 것은 기본으로는 불가능하니 lambda 함수를 만들자\n",
        "x = df.loc['A']\n",
        "x.fillna(x.mean())"
      ]
    },
    {
      "cell_type": "code",
      "execution_count": 7,
      "metadata": {
        "colab": {
          "base_uri": "https://localhost:8080/",
          "height": 175
        },
        "id": "a0MAX0y9DlWk",
        "outputId": "1c88c50f-d688-4722-830f-180b461882da"
      },
      "outputs": [
        {
          "data": {
            "text/html": [
              "<div>\n",
              "<style scoped>\n",
              "    .dataframe tbody tr th:only-of-type {\n",
              "        vertical-align: middle;\n",
              "    }\n",
              "\n",
              "    .dataframe tbody tr th {\n",
              "        vertical-align: top;\n",
              "    }\n",
              "\n",
              "    .dataframe thead th {\n",
              "        text-align: right;\n",
              "    }\n",
              "</style>\n",
              "<table border=\"1\" class=\"dataframe\">\n",
              "  <thead>\n",
              "    <tr style=\"text-align: right;\">\n",
              "      <th></th>\n",
              "      <th>국어</th>\n",
              "      <th>영어</th>\n",
              "      <th>수학</th>\n",
              "    </tr>\n",
              "  </thead>\n",
              "  <tbody>\n",
              "    <tr>\n",
              "      <th>A</th>\n",
              "      <td>88.0</td>\n",
              "      <td>66.0</td>\n",
              "      <td>77.0</td>\n",
              "    </tr>\n",
              "    <tr>\n",
              "      <th>B</th>\n",
              "      <td>69.0</td>\n",
              "      <td>69.0</td>\n",
              "      <td>69.0</td>\n",
              "    </tr>\n",
              "    <tr>\n",
              "      <th>C</th>\n",
              "      <td>69.0</td>\n",
              "      <td>82.0</td>\n",
              "      <td>75.5</td>\n",
              "    </tr>\n",
              "    <tr>\n",
              "      <th>D</th>\n",
              "      <td>71.0</td>\n",
              "      <td>89.0</td>\n",
              "      <td>98.0</td>\n",
              "    </tr>\n",
              "  </tbody>\n",
              "</table>\n",
              "</div>"
            ],
            "text/plain": [
              "     국어    영어    수학\n",
              "A  88.0  66.0  77.0\n",
              "B  69.0  69.0  69.0\n",
              "C  69.0  82.0  75.5\n",
              "D  71.0  89.0  98.0"
            ]
          },
          "execution_count": 7,
          "metadata": {},
          "output_type": "execute_result"
        }
      ],
      "source": [
        "# 시리즈의 평균값으로 시리즈를 채우는 lambda 함수를 apply로 행별(axis=1)로 적용\n",
        "df.apply(lambda x: x.fillna(x.mean()), axis=1)"
      ]
    },
    {
      "cell_type": "code",
      "execution_count": 8,
      "metadata": {
        "colab": {
          "base_uri": "https://localhost:8080/",
          "height": 175
        },
        "id": "96PFK3JfDpU_",
        "outputId": "54648786-fe57-4019-9b44-ae51b1d0e353"
      },
      "outputs": [
        {
          "data": {
            "text/html": [
              "<div>\n",
              "<style scoped>\n",
              "    .dataframe tbody tr th:only-of-type {\n",
              "        vertical-align: middle;\n",
              "    }\n",
              "\n",
              "    .dataframe tbody tr th {\n",
              "        vertical-align: top;\n",
              "    }\n",
              "\n",
              "    .dataframe thead th {\n",
              "        text-align: right;\n",
              "    }\n",
              "</style>\n",
              "<table border=\"1\" class=\"dataframe\">\n",
              "  <thead>\n",
              "    <tr style=\"text-align: right;\">\n",
              "      <th></th>\n",
              "      <th>국어</th>\n",
              "      <th>영어</th>\n",
              "      <th>수학</th>\n",
              "    </tr>\n",
              "  </thead>\n",
              "  <tbody>\n",
              "    <tr>\n",
              "      <th>A</th>\n",
              "      <td>88.0</td>\n",
              "      <td>66.0</td>\n",
              "      <td>NaN</td>\n",
              "    </tr>\n",
              "    <tr>\n",
              "      <th>B</th>\n",
              "      <td>88.0</td>\n",
              "      <td>66.0</td>\n",
              "      <td>69.0</td>\n",
              "    </tr>\n",
              "    <tr>\n",
              "      <th>C</th>\n",
              "      <td>69.0</td>\n",
              "      <td>82.0</td>\n",
              "      <td>69.0</td>\n",
              "    </tr>\n",
              "    <tr>\n",
              "      <th>D</th>\n",
              "      <td>71.0</td>\n",
              "      <td>89.0</td>\n",
              "      <td>98.0</td>\n",
              "    </tr>\n",
              "  </tbody>\n",
              "</table>\n",
              "</div>"
            ],
            "text/plain": [
              "     국어    영어    수학\n",
              "A  88.0  66.0   NaN\n",
              "B  88.0  66.0  69.0\n",
              "C  69.0  82.0  69.0\n",
              "D  71.0  89.0  98.0"
            ]
          },
          "execution_count": 8,
          "metadata": {},
          "output_type": "execute_result"
        }
      ],
      "source": [
        "# 열의 전방값으로 채우기\n",
        "df.fillna(method='ffill')"
      ]
    },
    {
      "cell_type": "code",
      "execution_count": 9,
      "metadata": {
        "colab": {
          "base_uri": "https://localhost:8080/",
          "height": 175
        },
        "id": "mSA2ExrwDsoh",
        "outputId": "093b4fb1-fb8d-43a2-8b96-98773c1bd4df"
      },
      "outputs": [
        {
          "data": {
            "text/html": [
              "<div>\n",
              "<style scoped>\n",
              "    .dataframe tbody tr th:only-of-type {\n",
              "        vertical-align: middle;\n",
              "    }\n",
              "\n",
              "    .dataframe tbody tr th {\n",
              "        vertical-align: top;\n",
              "    }\n",
              "\n",
              "    .dataframe thead th {\n",
              "        text-align: right;\n",
              "    }\n",
              "</style>\n",
              "<table border=\"1\" class=\"dataframe\">\n",
              "  <thead>\n",
              "    <tr style=\"text-align: right;\">\n",
              "      <th></th>\n",
              "      <th>국어</th>\n",
              "      <th>영어</th>\n",
              "      <th>수학</th>\n",
              "    </tr>\n",
              "  </thead>\n",
              "  <tbody>\n",
              "    <tr>\n",
              "      <th>A</th>\n",
              "      <td>88.0</td>\n",
              "      <td>66.0</td>\n",
              "      <td>NaN</td>\n",
              "    </tr>\n",
              "    <tr>\n",
              "      <th>B</th>\n",
              "      <td>88.0</td>\n",
              "      <td>66.0</td>\n",
              "      <td>69.0</td>\n",
              "    </tr>\n",
              "    <tr>\n",
              "      <th>C</th>\n",
              "      <td>69.0</td>\n",
              "      <td>82.0</td>\n",
              "      <td>69.0</td>\n",
              "    </tr>\n",
              "    <tr>\n",
              "      <th>D</th>\n",
              "      <td>71.0</td>\n",
              "      <td>89.0</td>\n",
              "      <td>98.0</td>\n",
              "    </tr>\n",
              "  </tbody>\n",
              "</table>\n",
              "</div>"
            ],
            "text/plain": [
              "     국어    영어    수학\n",
              "A  88.0  66.0   NaN\n",
              "B  88.0  66.0  69.0\n",
              "C  69.0  82.0  69.0\n",
              "D  71.0  89.0  98.0"
            ]
          },
          "execution_count": 9,
          "metadata": {},
          "output_type": "execute_result"
        }
      ],
      "source": [
        "# 열의 전방값으로 채우는 함수 ffill\n",
        "df.ffill()"
      ]
    },
    {
      "cell_type": "code",
      "execution_count": 10,
      "metadata": {
        "colab": {
          "base_uri": "https://localhost:8080/",
          "height": 175
        },
        "id": "i2qu8BHMDu0O",
        "outputId": "25a13df0-5aae-4b60-cd99-1707580e6d03"
      },
      "outputs": [
        {
          "data": {
            "text/html": [
              "<div>\n",
              "<style scoped>\n",
              "    .dataframe tbody tr th:only-of-type {\n",
              "        vertical-align: middle;\n",
              "    }\n",
              "\n",
              "    .dataframe tbody tr th {\n",
              "        vertical-align: top;\n",
              "    }\n",
              "\n",
              "    .dataframe thead th {\n",
              "        text-align: right;\n",
              "    }\n",
              "</style>\n",
              "<table border=\"1\" class=\"dataframe\">\n",
              "  <thead>\n",
              "    <tr style=\"text-align: right;\">\n",
              "      <th></th>\n",
              "      <th>국어</th>\n",
              "      <th>영어</th>\n",
              "      <th>수학</th>\n",
              "    </tr>\n",
              "  </thead>\n",
              "  <tbody>\n",
              "    <tr>\n",
              "      <th>A</th>\n",
              "      <td>88.0</td>\n",
              "      <td>66.0</td>\n",
              "      <td>69.0</td>\n",
              "    </tr>\n",
              "    <tr>\n",
              "      <th>B</th>\n",
              "      <td>69.0</td>\n",
              "      <td>82.0</td>\n",
              "      <td>69.0</td>\n",
              "    </tr>\n",
              "    <tr>\n",
              "      <th>C</th>\n",
              "      <td>69.0</td>\n",
              "      <td>82.0</td>\n",
              "      <td>98.0</td>\n",
              "    </tr>\n",
              "    <tr>\n",
              "      <th>D</th>\n",
              "      <td>71.0</td>\n",
              "      <td>89.0</td>\n",
              "      <td>98.0</td>\n",
              "    </tr>\n",
              "  </tbody>\n",
              "</table>\n",
              "</div>"
            ],
            "text/plain": [
              "     국어    영어    수학\n",
              "A  88.0  66.0  69.0\n",
              "B  69.0  82.0  69.0\n",
              "C  69.0  82.0  98.0\n",
              "D  71.0  89.0  98.0"
            ]
          },
          "execution_count": 10,
          "metadata": {},
          "output_type": "execute_result"
        }
      ],
      "source": [
        "# 열의 후방값으로 채우기\n",
        "df.fillna(method='bfill')"
      ]
    },
    {
      "cell_type": "code",
      "execution_count": 11,
      "metadata": {
        "colab": {
          "base_uri": "https://localhost:8080/",
          "height": 175
        },
        "id": "giL7W_78Dx0E",
        "outputId": "276274ae-28b6-4bba-880a-cc5aae402ce7"
      },
      "outputs": [
        {
          "data": {
            "text/html": [
              "<div>\n",
              "<style scoped>\n",
              "    .dataframe tbody tr th:only-of-type {\n",
              "        vertical-align: middle;\n",
              "    }\n",
              "\n",
              "    .dataframe tbody tr th {\n",
              "        vertical-align: top;\n",
              "    }\n",
              "\n",
              "    .dataframe thead th {\n",
              "        text-align: right;\n",
              "    }\n",
              "</style>\n",
              "<table border=\"1\" class=\"dataframe\">\n",
              "  <thead>\n",
              "    <tr style=\"text-align: right;\">\n",
              "      <th></th>\n",
              "      <th>국어</th>\n",
              "      <th>영어</th>\n",
              "      <th>수학</th>\n",
              "    </tr>\n",
              "  </thead>\n",
              "  <tbody>\n",
              "    <tr>\n",
              "      <th>A</th>\n",
              "      <td>88.0</td>\n",
              "      <td>66.0</td>\n",
              "      <td>69.0</td>\n",
              "    </tr>\n",
              "    <tr>\n",
              "      <th>B</th>\n",
              "      <td>69.0</td>\n",
              "      <td>82.0</td>\n",
              "      <td>69.0</td>\n",
              "    </tr>\n",
              "    <tr>\n",
              "      <th>C</th>\n",
              "      <td>69.0</td>\n",
              "      <td>82.0</td>\n",
              "      <td>98.0</td>\n",
              "    </tr>\n",
              "    <tr>\n",
              "      <th>D</th>\n",
              "      <td>71.0</td>\n",
              "      <td>89.0</td>\n",
              "      <td>98.0</td>\n",
              "    </tr>\n",
              "  </tbody>\n",
              "</table>\n",
              "</div>"
            ],
            "text/plain": [
              "     국어    영어    수학\n",
              "A  88.0  66.0  69.0\n",
              "B  69.0  82.0  69.0\n",
              "C  69.0  82.0  98.0\n",
              "D  71.0  89.0  98.0"
            ]
          },
          "execution_count": 11,
          "metadata": {},
          "output_type": "execute_result"
        }
      ],
      "source": [
        "# 열의 후방값으로 채우는 함수 bfill\n",
        "df.bfill()"
      ]
    },
    {
      "cell_type": "code",
      "execution_count": 12,
      "metadata": {
        "colab": {
          "base_uri": "https://localhost:8080/",
          "height": 175
        },
        "id": "S9N6pMOpDzbQ",
        "outputId": "f8daa9a6-114d-4572-8171-22b361f4e79e"
      },
      "outputs": [
        {
          "data": {
            "text/html": [
              "<div>\n",
              "<style scoped>\n",
              "    .dataframe tbody tr th:only-of-type {\n",
              "        vertical-align: middle;\n",
              "    }\n",
              "\n",
              "    .dataframe tbody tr th {\n",
              "        vertical-align: top;\n",
              "    }\n",
              "\n",
              "    .dataframe thead th {\n",
              "        text-align: right;\n",
              "    }\n",
              "</style>\n",
              "<table border=\"1\" class=\"dataframe\">\n",
              "  <thead>\n",
              "    <tr style=\"text-align: right;\">\n",
              "      <th></th>\n",
              "      <th>국어</th>\n",
              "      <th>영어</th>\n",
              "      <th>수학</th>\n",
              "    </tr>\n",
              "  </thead>\n",
              "  <tbody>\n",
              "    <tr>\n",
              "      <th>A</th>\n",
              "      <td>88.0</td>\n",
              "      <td>66.0</td>\n",
              "      <td>66.0</td>\n",
              "    </tr>\n",
              "    <tr>\n",
              "      <th>B</th>\n",
              "      <td>NaN</td>\n",
              "      <td>NaN</td>\n",
              "      <td>69.0</td>\n",
              "    </tr>\n",
              "    <tr>\n",
              "      <th>C</th>\n",
              "      <td>69.0</td>\n",
              "      <td>82.0</td>\n",
              "      <td>82.0</td>\n",
              "    </tr>\n",
              "    <tr>\n",
              "      <th>D</th>\n",
              "      <td>71.0</td>\n",
              "      <td>89.0</td>\n",
              "      <td>98.0</td>\n",
              "    </tr>\n",
              "  </tbody>\n",
              "</table>\n",
              "</div>"
            ],
            "text/plain": [
              "     국어    영어    수학\n",
              "A  88.0  66.0  66.0\n",
              "B   NaN   NaN  69.0\n",
              "C  69.0  82.0  82.0\n",
              "D  71.0  89.0  98.0"
            ]
          },
          "execution_count": 12,
          "metadata": {},
          "output_type": "execute_result"
        }
      ],
      "source": [
        "# 행의 전방값으로 채우기 (axis=1)\n",
        "df.fillna(method='ffill', axis=1)"
      ]
    },
    {
      "cell_type": "markdown",
      "metadata": {
        "id": "GlwVmkTq0p9C"
      },
      "source": [
        "## 2. 열을 레이블로 필터링하기(filter)"
      ]
    },
    {
      "cell_type": "markdown",
      "metadata": {},
      "source": [
        "### 학습 목표\n",
        "- 열을 이름에 문자열 포함 여부로 필터링한다. (`filter` 함수의 `like` 인자)\n",
        "- 열의 이름을 간단한 정규 표현식으로 필터링한다. (`filter` 함수의 `regex` 인자)"
      ]
    },
    {
      "cell_type": "markdown",
      "metadata": {
        "id": "YAuVAUwOGXfS"
      },
      "source": [
        "> pandas filter\n",
        "\n",
        "\n",
        "인덱스의 레이블로 데이터프레임이나 시리즈를 필터링하는 함수\n",
        "\n",
        "<img src=https://i.ibb.co/hXvVHKW/08-02-01.jpg, width=600>\n",
        "\n",
        "\n",
        "\n",
        "**items**\n",
        "\n",
        "필터링때 정확하게 일치하는 문자열을  지정하는 인자\n",
        "\n",
        " \n",
        "\n",
        "**like**\n",
        "\n",
        "필터링때 포함하는 문자열을  지정하는 인자\n",
        "\n",
        " \n",
        "\n",
        "**regex** (regular expression)\n",
        "\n",
        "필터링때 정규 표현식을 지정하는 인자\n",
        "\n",
        " \n",
        "\n",
        "**axis** (0 or 1 / 기본값은 1)\n",
        "\n",
        "index를 필터링하는지 columns를 필터링하는지 결정하는 인자\n",
        "\n",
        "<br><br>\n",
        "\n",
        "filter 판다스 공식문서 : https://pandas.pydata.org/docs/reference/api/pandas.DataFrame.filter.html"
      ]
    },
    {
      "cell_type": "code",
      "execution_count": 13,
      "metadata": {
        "colab": {
          "base_uri": "https://localhost:8080/",
          "height": 143
        },
        "id": "fyEqkVl1vVZG",
        "outputId": "9c234eff-d1ed-4b5d-d4ab-ab0942c5285e"
      },
      "outputs": [
        {
          "data": {
            "text/html": [
              "<div>\n",
              "<style scoped>\n",
              "    .dataframe tbody tr th:only-of-type {\n",
              "        vertical-align: middle;\n",
              "    }\n",
              "\n",
              "    .dataframe tbody tr th {\n",
              "        vertical-align: top;\n",
              "    }\n",
              "\n",
              "    .dataframe thead th {\n",
              "        text-align: right;\n",
              "    }\n",
              "</style>\n",
              "<table border=\"1\" class=\"dataframe\">\n",
              "  <thead>\n",
              "    <tr style=\"text-align: right;\">\n",
              "      <th></th>\n",
              "      <th>A</th>\n",
              "      <th>BC</th>\n",
              "      <th>AC</th>\n",
              "      <th>DA</th>\n",
              "    </tr>\n",
              "  </thead>\n",
              "  <tbody>\n",
              "    <tr>\n",
              "      <th>0</th>\n",
              "      <td>0</td>\n",
              "      <td>1</td>\n",
              "      <td>2</td>\n",
              "      <td>3</td>\n",
              "    </tr>\n",
              "    <tr>\n",
              "      <th>1</th>\n",
              "      <td>4</td>\n",
              "      <td>5</td>\n",
              "      <td>6</td>\n",
              "      <td>7</td>\n",
              "    </tr>\n",
              "    <tr>\n",
              "      <th>2</th>\n",
              "      <td>8</td>\n",
              "      <td>9</td>\n",
              "      <td>10</td>\n",
              "      <td>11</td>\n",
              "    </tr>\n",
              "  </tbody>\n",
              "</table>\n",
              "</div>"
            ],
            "text/plain": [
              "   A  BC  AC  DA\n",
              "0  0   1   2   3\n",
              "1  4   5   6   7\n",
              "2  8   9  10  11"
            ]
          },
          "execution_count": 13,
          "metadata": {},
          "output_type": "execute_result"
        }
      ],
      "source": [
        "# 실습 준비 코드\n",
        "import pandas as pd\n",
        "data = [[0, 1, 2, 3], [4, 5, 6, 7], [8, 9, 10, 11]]\n",
        "df = pd.DataFrame(data, columns=['A', 'BC', 'AC', 'DA'])\n",
        "df"
      ]
    },
    {
      "cell_type": "code",
      "execution_count": 14,
      "metadata": {
        "colab": {
          "base_uri": "https://localhost:8080/",
          "height": 143
        },
        "id": "FRxyWwNY3G3Z",
        "outputId": "f31d3d90-0a36-4814-f2ff-44bbb1f7fd67"
      },
      "outputs": [
        {
          "data": {
            "text/html": [
              "<div>\n",
              "<style scoped>\n",
              "    .dataframe tbody tr th:only-of-type {\n",
              "        vertical-align: middle;\n",
              "    }\n",
              "\n",
              "    .dataframe tbody tr th {\n",
              "        vertical-align: top;\n",
              "    }\n",
              "\n",
              "    .dataframe thead th {\n",
              "        text-align: right;\n",
              "    }\n",
              "</style>\n",
              "<table border=\"1\" class=\"dataframe\">\n",
              "  <thead>\n",
              "    <tr style=\"text-align: right;\">\n",
              "      <th></th>\n",
              "      <th>A</th>\n",
              "      <th>AC</th>\n",
              "      <th>DA</th>\n",
              "    </tr>\n",
              "  </thead>\n",
              "  <tbody>\n",
              "    <tr>\n",
              "      <th>0</th>\n",
              "      <td>0</td>\n",
              "      <td>2</td>\n",
              "      <td>3</td>\n",
              "    </tr>\n",
              "    <tr>\n",
              "      <th>1</th>\n",
              "      <td>4</td>\n",
              "      <td>6</td>\n",
              "      <td>7</td>\n",
              "    </tr>\n",
              "    <tr>\n",
              "      <th>2</th>\n",
              "      <td>8</td>\n",
              "      <td>10</td>\n",
              "      <td>11</td>\n",
              "    </tr>\n",
              "  </tbody>\n",
              "</table>\n",
              "</div>"
            ],
            "text/plain": [
              "   A  AC  DA\n",
              "0  0   2   3\n",
              "1  4   6   7\n",
              "2  8  10  11"
            ]
          },
          "execution_count": 14,
          "metadata": {},
          "output_type": "execute_result"
        }
      ],
      "source": [
        "# 레이블에 A가 포함되는 열 필터링\n",
        "df.filter(like='A')"
      ]
    },
    {
      "cell_type": "code",
      "execution_count": 15,
      "metadata": {
        "colab": {
          "base_uri": "https://localhost:8080/",
          "height": 143
        },
        "id": "lF1xdSv2Mx6I",
        "outputId": "0d46a752-d70c-4ff9-e3d6-a564e3c6a9a7"
      },
      "outputs": [
        {
          "data": {
            "text/html": [
              "<div>\n",
              "<style scoped>\n",
              "    .dataframe tbody tr th:only-of-type {\n",
              "        vertical-align: middle;\n",
              "    }\n",
              "\n",
              "    .dataframe tbody tr th {\n",
              "        vertical-align: top;\n",
              "    }\n",
              "\n",
              "    .dataframe thead th {\n",
              "        text-align: right;\n",
              "    }\n",
              "</style>\n",
              "<table border=\"1\" class=\"dataframe\">\n",
              "  <thead>\n",
              "    <tr style=\"text-align: right;\">\n",
              "      <th></th>\n",
              "      <th>A</th>\n",
              "      <th>AC</th>\n",
              "    </tr>\n",
              "  </thead>\n",
              "  <tbody>\n",
              "    <tr>\n",
              "      <th>0</th>\n",
              "      <td>0</td>\n",
              "      <td>2</td>\n",
              "    </tr>\n",
              "    <tr>\n",
              "      <th>1</th>\n",
              "      <td>4</td>\n",
              "      <td>6</td>\n",
              "    </tr>\n",
              "    <tr>\n",
              "      <th>2</th>\n",
              "      <td>8</td>\n",
              "      <td>10</td>\n",
              "    </tr>\n",
              "  </tbody>\n",
              "</table>\n",
              "</div>"
            ],
            "text/plain": [
              "   A  AC\n",
              "0  0   2\n",
              "1  4   6\n",
              "2  8  10"
            ]
          },
          "execution_count": 15,
          "metadata": {},
          "output_type": "execute_result"
        }
      ],
      "source": [
        "# 레이블이 A로 시작되는 열 필터링\n",
        "df.filter(regex=r'^A')"
      ]
    },
    {
      "cell_type": "code",
      "execution_count": 16,
      "metadata": {
        "colab": {
          "base_uri": "https://localhost:8080/",
          "height": 143
        },
        "id": "RO1_SQpLM2Vi",
        "outputId": "6e81e537-58c8-4626-ce7d-3ea04def2dcd"
      },
      "outputs": [
        {
          "data": {
            "text/html": [
              "<div>\n",
              "<style scoped>\n",
              "    .dataframe tbody tr th:only-of-type {\n",
              "        vertical-align: middle;\n",
              "    }\n",
              "\n",
              "    .dataframe tbody tr th {\n",
              "        vertical-align: top;\n",
              "    }\n",
              "\n",
              "    .dataframe thead th {\n",
              "        text-align: right;\n",
              "    }\n",
              "</style>\n",
              "<table border=\"1\" class=\"dataframe\">\n",
              "  <thead>\n",
              "    <tr style=\"text-align: right;\">\n",
              "      <th></th>\n",
              "      <th>BC</th>\n",
              "      <th>AC</th>\n",
              "    </tr>\n",
              "  </thead>\n",
              "  <tbody>\n",
              "    <tr>\n",
              "      <th>0</th>\n",
              "      <td>1</td>\n",
              "      <td>2</td>\n",
              "    </tr>\n",
              "    <tr>\n",
              "      <th>1</th>\n",
              "      <td>5</td>\n",
              "      <td>6</td>\n",
              "    </tr>\n",
              "    <tr>\n",
              "      <th>2</th>\n",
              "      <td>9</td>\n",
              "      <td>10</td>\n",
              "    </tr>\n",
              "  </tbody>\n",
              "</table>\n",
              "</div>"
            ],
            "text/plain": [
              "   BC  AC\n",
              "0   1   2\n",
              "1   5   6\n",
              "2   9  10"
            ]
          },
          "execution_count": 16,
          "metadata": {},
          "output_type": "execute_result"
        }
      ],
      "source": [
        "# 레이블이 B 또는 C를 포함하는 열 필터링\n",
        "df.filter(regex=r'B|C')"
      ]
    },
    {
      "cell_type": "markdown",
      "metadata": {
        "id": "QYRox3kcHTV5"
      },
      "source": [
        "정규표현식을 배우지 않은 사람들도\n",
        "\n",
        "- ^ : 시작\n",
        "- $ : 끝 \n",
        "- | : 또는\n",
        "\n",
        "간단한 위 세가지만 활용해도 크게 도움이 된다"
      ]
    },
    {
      "cell_type": "markdown",
      "metadata": {
        "id": "-KiQ10I0M77l"
      },
      "source": [
        "## 3. 실무 데이터의 문제점"
      ]
    },
    {
      "cell_type": "markdown",
      "metadata": {
        "id": "2R1YD0-9Wp8_"
      },
      "source": [
        "\n",
        "OECD 국가 주요 지표 : https://kosis.kr/statHtml/statHtml.do?orgId=101&tblId=DT_2KAAG01"
      ]
    },
    {
      "cell_type": "markdown",
      "metadata": {
        "id": "0MKhPnjQoSQg"
      },
      "source": [
        "**문제점**\n",
        "1. columns가 멀티인덱스인데도 열이 너무 많다. 이런 피벗테이블은 한눈에 알아볼 수 없다\n",
        "\n",
        "2. 국가의 데이터에 대륙을 구분하기 위한 행이 존재한다\n",
        "\n",
        "3. 각 대륙의 GDP가 높은 나라는?\n",
        "\n",
        "  <img src=https://i.ibb.co/KXG9qWQ/08-03-01.png, width=300>\n",
        "\n",
        "\n",
        "→ 피벗테이블로서의 기능도 못하고 데이터를 집계할수 있도록 관리하는 기능도 못하고 있다\n",
        "\n",
        "\n",
        "**raw 데이터 처럼 집계를 할 수 있는 데이터로 만들어 필요한 요약은 피벗테이블로 집계해 제공할수 있으면 문제가 해결된다**"
      ]
    },
    {
      "cell_type": "markdown",
      "metadata": {
        "id": "3N2AuoQxWqUa"
      },
      "source": [
        "## 4. OECD의 GDP 데이터 전처리하기"
      ]
    },
    {
      "cell_type": "markdown",
      "metadata": {
        "id": "thAuzawblogQ"
      },
      "source": [
        "통계청 데이터는 전처리해야 될것이 지나치게 많아 약간의 전처리를 한 데이터를 사용하겠습니다"
      ]
    },
    {
      "cell_type": "code",
      "execution_count": 17,
      "metadata": {
        "id": "iRB9_jSgWecI"
      },
      "outputs": [],
      "source": [
        "# 프로젝트 코드\n",
        "import pandas as pd\n",
        "pd.options.display.max_rows = 6\n",
        "url = './08_01_oecd_gdp.csv'"
      ]
    },
    {
      "cell_type": "markdown",
      "metadata": {
        "id": "XZhaWrfqnbPt"
      },
      "source": [
        "<img src=https://i.ibb.co/6r5G71s/1.jpg, width=600>"
      ]
    },
    {
      "cell_type": "code",
      "execution_count": 18,
      "metadata": {
        "colab": {
          "base_uri": "https://localhost:8080/",
          "height": 405
        },
        "id": "uAyxAEdBLV36",
        "outputId": "0c329aee-0b8b-4721-ed02-0bae906906e4"
      },
      "outputs": [
        {
          "data": {
            "text/html": [
              "<div>\n",
              "<style scoped>\n",
              "    .dataframe tbody tr th:only-of-type {\n",
              "        vertical-align: middle;\n",
              "    }\n",
              "\n",
              "    .dataframe tbody tr th {\n",
              "        vertical-align: top;\n",
              "    }\n",
              "\n",
              "    .dataframe thead tr th {\n",
              "        text-align: left;\n",
              "    }\n",
              "\n",
              "    .dataframe thead tr:last-of-type th {\n",
              "        text-align: right;\n",
              "    }\n",
              "</style>\n",
              "<table border=\"1\" class=\"dataframe\">\n",
              "  <thead>\n",
              "    <tr>\n",
              "      <th></th>\n",
              "      <th colspan=\"5\" halign=\"left\">2019</th>\n",
              "      <th colspan=\"5\" halign=\"left\">2020</th>\n",
              "    </tr>\n",
              "    <tr>\n",
              "      <th></th>\n",
              "      <th>1인당 GDP</th>\n",
              "      <th>GDP 성장률</th>\n",
              "      <th>GDP</th>\n",
              "      <th>수입</th>\n",
              "      <th>수출</th>\n",
              "      <th>1인당 GDP</th>\n",
              "      <th>GDP 성장률</th>\n",
              "      <th>GDP</th>\n",
              "      <th>수입</th>\n",
              "      <th>수출</th>\n",
              "    </tr>\n",
              "    <tr>\n",
              "      <th>국가</th>\n",
              "      <th></th>\n",
              "      <th></th>\n",
              "      <th></th>\n",
              "      <th></th>\n",
              "      <th></th>\n",
              "      <th></th>\n",
              "      <th></th>\n",
              "      <th></th>\n",
              "      <th></th>\n",
              "      <th></th>\n",
              "    </tr>\n",
              "  </thead>\n",
              "  <tbody>\n",
              "    <tr>\n",
              "      <th>아시아</th>\n",
              "      <td>NaN</td>\n",
              "      <td>NaN</td>\n",
              "      <td>NaN</td>\n",
              "      <td>NaN</td>\n",
              "      <td>NaN</td>\n",
              "      <td>NaN</td>\n",
              "      <td>NaN</td>\n",
              "      <td>NaN</td>\n",
              "      <td>NaN</td>\n",
              "      <td>NaN</td>\n",
              "    </tr>\n",
              "    <tr>\n",
              "      <th>대한민국</th>\n",
              "      <td>31929.0</td>\n",
              "      <td>2.2</td>\n",
              "      <td>1651.0</td>\n",
              "      <td>503343</td>\n",
              "      <td>542233.0</td>\n",
              "      <td>31637.0</td>\n",
              "      <td>-0.9</td>\n",
              "      <td>1638.2</td>\n",
              "      <td>467633</td>\n",
              "      <td>512498</td>\n",
              "    </tr>\n",
              "    <tr>\n",
              "      <th>이스라엘</th>\n",
              "      <td>43589.0</td>\n",
              "      <td>3.5</td>\n",
              "      <td>394.7</td>\n",
              "      <td>75697</td>\n",
              "      <td>51899.0</td>\n",
              "      <td>43611.0</td>\n",
              "      <td>-2.4</td>\n",
              "      <td>402.0</td>\n",
              "      <td>69810</td>\n",
              "      <td>49372</td>\n",
              "    </tr>\n",
              "    <tr>\n",
              "      <th>...</th>\n",
              "      <td>...</td>\n",
              "      <td>...</td>\n",
              "      <td>...</td>\n",
              "      <td>...</td>\n",
              "      <td>...</td>\n",
              "      <td>...</td>\n",
              "      <td>...</td>\n",
              "      <td>...</td>\n",
              "      <td>...</td>\n",
              "      <td>...</td>\n",
              "    </tr>\n",
              "    <tr>\n",
              "      <th>오세아니아</th>\n",
              "      <td>NaN</td>\n",
              "      <td>NaN</td>\n",
              "      <td>NaN</td>\n",
              "      <td>NaN</td>\n",
              "      <td>NaN</td>\n",
              "      <td>NaN</td>\n",
              "      <td>NaN</td>\n",
              "      <td>NaN</td>\n",
              "      <td>NaN</td>\n",
              "      <td>NaN</td>\n",
              "    </tr>\n",
              "    <tr>\n",
              "      <th>오스트레일리아</th>\n",
              "      <td>55057.0</td>\n",
              "      <td>2.2</td>\n",
              "      <td>1396.6</td>\n",
              "      <td>154043</td>\n",
              "      <td>271006.0</td>\n",
              "      <td>51812.0</td>\n",
              "      <td>-0.3</td>\n",
              "      <td>1330.9</td>\n",
              "      <td>146522</td>\n",
              "      <td>250570</td>\n",
              "    </tr>\n",
              "    <tr>\n",
              "      <th>뉴질랜드</th>\n",
              "      <td>41999.0</td>\n",
              "      <td>1.6</td>\n",
              "      <td>209.1</td>\n",
              "      <td>42362</td>\n",
              "      <td>39516.0</td>\n",
              "      <td>41792.0</td>\n",
              "      <td>1.0</td>\n",
              "      <td>212.5</td>\n",
              "      <td>37135</td>\n",
              "      <td>38897</td>\n",
              "    </tr>\n",
              "  </tbody>\n",
              "</table>\n",
              "<p>43 rows × 10 columns</p>\n",
              "</div>"
            ],
            "text/plain": [
              "            2019                                       2020                  \\\n",
              "         1인당 GDP GDP 성장률     GDP      수입        수출  1인당 GDP GDP 성장률     GDP   \n",
              "국가                                                                            \n",
              "아시아          NaN     NaN     NaN     NaN       NaN      NaN     NaN     NaN   \n",
              "대한민국     31929.0     2.2  1651.0  503343  542233.0  31637.0    -0.9  1638.2   \n",
              "이스라엘     43589.0     3.5   394.7   75697   51899.0  43611.0    -2.4   402.0   \n",
              "...          ...     ...     ...     ...       ...      ...     ...     ...   \n",
              "오세아니아        NaN     NaN     NaN     NaN       NaN      NaN     NaN     NaN   \n",
              "오스트레일리아  55057.0     2.2  1396.6  154043  271006.0  51812.0    -0.3  1330.9   \n",
              "뉴질랜드     41999.0     1.6   209.1   42362   39516.0  41792.0     1.0   212.5   \n",
              "\n",
              "                         \n",
              "             수입      수출  \n",
              "국가                       \n",
              "아시아         NaN     NaN  \n",
              "대한민국     467633  512498  \n",
              "이스라엘      69810   49372  \n",
              "...         ...     ...  \n",
              "오세아니아       NaN     NaN  \n",
              "오스트레일리아  146522  250570  \n",
              "뉴질랜드      37135   38897  \n",
              "\n",
              "[43 rows x 10 columns]"
            ]
          },
          "execution_count": 18,
          "metadata": {},
          "output_type": "execute_result"
        }
      ],
      "source": [
        "df_ex1 = pd.read_csv(url, header=[0, 1], index_col=0)\n",
        "df_ex1"
      ]
    },
    {
      "cell_type": "markdown",
      "metadata": {
        "id": "yTtB7IgCoFJg"
      },
      "source": [
        "<img src=https://i.ibb.co/FXmmzv7/2.jpg, width=600>"
      ]
    },
    {
      "cell_type": "code",
      "execution_count": 19,
      "metadata": {
        "colab": {
          "base_uri": "https://localhost:8080/",
          "height": 298
        },
        "id": "ZDWE5yyRtlSD",
        "outputId": "88655ef1-3f42-47c9-d5f4-6b7ceb16f813"
      },
      "outputs": [
        {
          "data": {
            "text/html": [
              "<div>\n",
              "<style scoped>\n",
              "    .dataframe tbody tr th:only-of-type {\n",
              "        vertical-align: middle;\n",
              "    }\n",
              "\n",
              "    .dataframe tbody tr th {\n",
              "        vertical-align: top;\n",
              "    }\n",
              "\n",
              "    .dataframe thead th {\n",
              "        text-align: right;\n",
              "    }\n",
              "</style>\n",
              "<table border=\"1\" class=\"dataframe\">\n",
              "  <thead>\n",
              "    <tr style=\"text-align: right;\">\n",
              "      <th></th>\n",
              "      <th>국가</th>\n",
              "      <th>연도</th>\n",
              "      <th>1인당 GDP</th>\n",
              "      <th>GDP</th>\n",
              "      <th>GDP 성장률</th>\n",
              "    </tr>\n",
              "  </thead>\n",
              "  <tbody>\n",
              "    <tr>\n",
              "      <th>0</th>\n",
              "      <td>아시아</td>\n",
              "      <td>2019</td>\n",
              "      <td>NaN</td>\n",
              "      <td>NaN</td>\n",
              "      <td>NaN</td>\n",
              "    </tr>\n",
              "    <tr>\n",
              "      <th>1</th>\n",
              "      <td>아시아</td>\n",
              "      <td>2020</td>\n",
              "      <td>NaN</td>\n",
              "      <td>NaN</td>\n",
              "      <td>NaN</td>\n",
              "    </tr>\n",
              "    <tr>\n",
              "      <th>2</th>\n",
              "      <td>대한민국</td>\n",
              "      <td>2019</td>\n",
              "      <td>31929.0</td>\n",
              "      <td>1651.0</td>\n",
              "      <td>2.2</td>\n",
              "    </tr>\n",
              "    <tr>\n",
              "      <th>...</th>\n",
              "      <td>...</td>\n",
              "      <td>...</td>\n",
              "      <td>...</td>\n",
              "      <td>...</td>\n",
              "      <td>...</td>\n",
              "    </tr>\n",
              "    <tr>\n",
              "      <th>83</th>\n",
              "      <td>오스트레일리아</td>\n",
              "      <td>2020</td>\n",
              "      <td>51812.0</td>\n",
              "      <td>1330.9</td>\n",
              "      <td>-0.3</td>\n",
              "    </tr>\n",
              "    <tr>\n",
              "      <th>84</th>\n",
              "      <td>뉴질랜드</td>\n",
              "      <td>2019</td>\n",
              "      <td>41999.0</td>\n",
              "      <td>209.1</td>\n",
              "      <td>1.6</td>\n",
              "    </tr>\n",
              "    <tr>\n",
              "      <th>85</th>\n",
              "      <td>뉴질랜드</td>\n",
              "      <td>2020</td>\n",
              "      <td>41792.0</td>\n",
              "      <td>212.5</td>\n",
              "      <td>1.0</td>\n",
              "    </tr>\n",
              "  </tbody>\n",
              "</table>\n",
              "<p>86 rows × 5 columns</p>\n",
              "</div>"
            ],
            "text/plain": [
              "         국가    연도  1인당 GDP     GDP  GDP 성장률\n",
              "0       아시아  2019      NaN     NaN      NaN\n",
              "1       아시아  2020      NaN     NaN      NaN\n",
              "2      대한민국  2019  31929.0  1651.0      2.2\n",
              "..      ...   ...      ...     ...      ...\n",
              "83  오스트레일리아  2020  51812.0  1330.9     -0.3\n",
              "84     뉴질랜드  2019  41999.0   209.1      1.6\n",
              "85     뉴질랜드  2020  41792.0   212.5      1.0\n",
              "\n",
              "[86 rows x 5 columns]"
            ]
          },
          "execution_count": 19,
          "metadata": {},
          "output_type": "execute_result"
        }
      ],
      "source": [
        "# 필요한 GDP열만 남긴 뒤 연도와 국가를 열로 만들고 열 이름을 수정\n",
        "df_ex2 = (df_ex1\n",
        "          .stack(0, dropna=False) #피봇테이블을 누적데이터로 변환\n",
        "          .filter(like='GDP')\n",
        "          .reset_index() #인덱스 정리\n",
        "          .rename(columns={'level_1':'연도'}))\n",
        "df_ex2"
      ]
    },
    {
      "cell_type": "markdown",
      "metadata": {
        "id": "kR1pJqA1oM_m"
      },
      "source": [
        "<img src=https://i.ibb.co/41RCL6R/3.jpg, width=600>"
      ]
    },
    {
      "cell_type": "code",
      "execution_count": 20,
      "metadata": {
        "colab": {
          "base_uri": "https://localhost:8080/",
          "height": 298
        },
        "id": "chBVHRbiuMvI",
        "outputId": "bf68dca5-63db-4efe-c5e1-021df1776409"
      },
      "outputs": [
        {
          "data": {
            "text/html": [
              "<div>\n",
              "<style scoped>\n",
              "    .dataframe tbody tr th:only-of-type {\n",
              "        vertical-align: middle;\n",
              "    }\n",
              "\n",
              "    .dataframe tbody tr th {\n",
              "        vertical-align: top;\n",
              "    }\n",
              "\n",
              "    .dataframe thead th {\n",
              "        text-align: right;\n",
              "    }\n",
              "</style>\n",
              "<table border=\"1\" class=\"dataframe\">\n",
              "  <thead>\n",
              "    <tr style=\"text-align: right;\">\n",
              "      <th></th>\n",
              "      <th>국가</th>\n",
              "      <th>연도</th>\n",
              "      <th>1인당 GDP</th>\n",
              "      <th>GDP</th>\n",
              "      <th>GDP 성장률</th>\n",
              "      <th>구분</th>\n",
              "    </tr>\n",
              "  </thead>\n",
              "  <tbody>\n",
              "    <tr>\n",
              "      <th>0</th>\n",
              "      <td>대한민국</td>\n",
              "      <td>2019</td>\n",
              "      <td>31929.0</td>\n",
              "      <td>1651.0</td>\n",
              "      <td>2.2</td>\n",
              "      <td>아시아</td>\n",
              "    </tr>\n",
              "    <tr>\n",
              "      <th>1</th>\n",
              "      <td>대한민국</td>\n",
              "      <td>2020</td>\n",
              "      <td>31637.0</td>\n",
              "      <td>1638.2</td>\n",
              "      <td>-0.9</td>\n",
              "      <td>아시아</td>\n",
              "    </tr>\n",
              "    <tr>\n",
              "      <th>2</th>\n",
              "      <td>이스라엘</td>\n",
              "      <td>2019</td>\n",
              "      <td>43589.0</td>\n",
              "      <td>394.7</td>\n",
              "      <td>3.5</td>\n",
              "      <td>아시아</td>\n",
              "    </tr>\n",
              "    <tr>\n",
              "      <th>...</th>\n",
              "      <td>...</td>\n",
              "      <td>...</td>\n",
              "      <td>...</td>\n",
              "      <td>...</td>\n",
              "      <td>...</td>\n",
              "      <td>...</td>\n",
              "    </tr>\n",
              "    <tr>\n",
              "      <th>73</th>\n",
              "      <td>오스트레일리아</td>\n",
              "      <td>2020</td>\n",
              "      <td>51812.0</td>\n",
              "      <td>1330.9</td>\n",
              "      <td>-0.3</td>\n",
              "      <td>오세아니아</td>\n",
              "    </tr>\n",
              "    <tr>\n",
              "      <th>74</th>\n",
              "      <td>뉴질랜드</td>\n",
              "      <td>2019</td>\n",
              "      <td>41999.0</td>\n",
              "      <td>209.1</td>\n",
              "      <td>1.6</td>\n",
              "      <td>오세아니아</td>\n",
              "    </tr>\n",
              "    <tr>\n",
              "      <th>75</th>\n",
              "      <td>뉴질랜드</td>\n",
              "      <td>2020</td>\n",
              "      <td>41792.0</td>\n",
              "      <td>212.5</td>\n",
              "      <td>1.0</td>\n",
              "      <td>오세아니아</td>\n",
              "    </tr>\n",
              "  </tbody>\n",
              "</table>\n",
              "<p>76 rows × 6 columns</p>\n",
              "</div>"
            ],
            "text/plain": [
              "         국가    연도  1인당 GDP     GDP  GDP 성장률     구분\n",
              "0      대한민국  2019  31929.0  1651.0      2.2    아시아\n",
              "1      대한민국  2020  31637.0  1638.2     -0.9    아시아\n",
              "2      이스라엘  2019  43589.0   394.7      3.5    아시아\n",
              "..      ...   ...      ...     ...      ...    ...\n",
              "73  오스트레일리아  2020  51812.0  1330.9     -0.3  오세아니아\n",
              "74     뉴질랜드  2019  41999.0   209.1      1.6  오세아니아\n",
              "75     뉴질랜드  2020  41792.0   212.5      1.0  오세아니아\n",
              "\n",
              "[76 rows x 6 columns]"
            ]
          },
          "execution_count": 20,
          "metadata": {},
          "output_type": "execute_result"
        }
      ],
      "source": [
        "# 대륙구분을 행에서 하는 것이 아니고 구분 열을 만들고 대륙 구분 행 삭제\n",
        "cond1 = df_ex2['GDP'].isnull()\n",
        "df_ex2['구분'] = df_ex2['국가'].mask(~cond1).fillna(method='ffill')\n",
        "df_ex3 = df_ex2[~cond1].reset_index(drop=True)\n",
        "df_ex3"
      ]
    },
    {
      "cell_type": "markdown",
      "metadata": {
        "id": "MCaZ4BFSoXlw"
      },
      "source": [
        "**df_ex3는 집계가 가능한 raw data와 마찬가지이므로 다양한 집계를 해보자**"
      ]
    },
    {
      "cell_type": "code",
      "execution_count": 21,
      "metadata": {
        "colab": {
          "base_uri": "https://localhost:8080/",
          "height": 238
        },
        "id": "ZTOxU9LcwtBK",
        "outputId": "e11322ad-3453-4a49-ef43-0fe6ab0dabe6"
      },
      "outputs": [
        {
          "data": {
            "text/html": [
              "<div>\n",
              "<style scoped>\n",
              "    .dataframe tbody tr th:only-of-type {\n",
              "        vertical-align: middle;\n",
              "    }\n",
              "\n",
              "    .dataframe tbody tr th {\n",
              "        vertical-align: top;\n",
              "    }\n",
              "\n",
              "    .dataframe thead th {\n",
              "        text-align: right;\n",
              "    }\n",
              "</style>\n",
              "<table border=\"1\" class=\"dataframe\">\n",
              "  <thead>\n",
              "    <tr style=\"text-align: right;\">\n",
              "      <th>연도</th>\n",
              "      <th>2019</th>\n",
              "      <th>2020</th>\n",
              "    </tr>\n",
              "    <tr>\n",
              "      <th>구분</th>\n",
              "      <th></th>\n",
              "      <th></th>\n",
              "    </tr>\n",
              "  </thead>\n",
              "  <tbody>\n",
              "    <tr>\n",
              "      <th>남아메리카</th>\n",
              "      <td>3.3</td>\n",
              "      <td>-4.5</td>\n",
              "    </tr>\n",
              "    <tr>\n",
              "      <th>북아메리카</th>\n",
              "      <td>2.2</td>\n",
              "      <td>-3.5</td>\n",
              "    </tr>\n",
              "    <tr>\n",
              "      <th>아시아</th>\n",
              "      <td>3.5</td>\n",
              "      <td>1.8</td>\n",
              "    </tr>\n",
              "    <tr>\n",
              "      <th>오세아니아</th>\n",
              "      <td>2.2</td>\n",
              "      <td>1.0</td>\n",
              "    </tr>\n",
              "    <tr>\n",
              "      <th>유럽</th>\n",
              "      <td>5.6</td>\n",
              "      <td>3.4</td>\n",
              "    </tr>\n",
              "  </tbody>\n",
              "</table>\n",
              "</div>"
            ],
            "text/plain": [
              "연도     2019  2020\n",
              "구분               \n",
              "남아메리카   3.3  -4.5\n",
              "북아메리카   2.2  -3.5\n",
              "아시아     3.5   1.8\n",
              "오세아니아   2.2   1.0\n",
              "유럽      5.6   3.4"
            ]
          },
          "execution_count": 21,
          "metadata": {},
          "output_type": "execute_result"
        }
      ],
      "source": [
        "# 연도별 대륙별 GDP 성장률의 최대 피벗 테이블\n",
        "df_ex3.pivot_table('GDP 성장률', index='구분', columns='연도', \n",
        "                   aggfunc='max')"
      ]
    },
    {
      "cell_type": "code",
      "execution_count": 22,
      "metadata": {
        "colab": {
          "base_uri": "https://localhost:8080/",
          "height": 238
        },
        "id": "YWRori49w5qU",
        "outputId": "1ec9b0ac-21e9-48b3-d60d-92452070170b"
      },
      "outputs": [
        {
          "data": {
            "text/html": [
              "<div>\n",
              "<style scoped>\n",
              "    .dataframe tbody tr th:only-of-type {\n",
              "        vertical-align: middle;\n",
              "    }\n",
              "\n",
              "    .dataframe tbody tr th {\n",
              "        vertical-align: top;\n",
              "    }\n",
              "\n",
              "    .dataframe thead th {\n",
              "        text-align: right;\n",
              "    }\n",
              "</style>\n",
              "<table border=\"1\" class=\"dataframe\">\n",
              "  <thead>\n",
              "    <tr style=\"text-align: right;\">\n",
              "      <th>연도</th>\n",
              "      <th>2019</th>\n",
              "      <th>2020</th>\n",
              "    </tr>\n",
              "    <tr>\n",
              "      <th>구분</th>\n",
              "      <th></th>\n",
              "      <th></th>\n",
              "    </tr>\n",
              "  </thead>\n",
              "  <tbody>\n",
              "    <tr>\n",
              "      <th>남아메리카</th>\n",
              "      <td>콜롬비아</td>\n",
              "      <td>코스타리카</td>\n",
              "    </tr>\n",
              "    <tr>\n",
              "      <th>북아메리카</th>\n",
              "      <td>미국</td>\n",
              "      <td>미국</td>\n",
              "    </tr>\n",
              "    <tr>\n",
              "      <th>아시아</th>\n",
              "      <td>이스라엘</td>\n",
              "      <td>튀르키예</td>\n",
              "    </tr>\n",
              "    <tr>\n",
              "      <th>오세아니아</th>\n",
              "      <td>오스트레일리아</td>\n",
              "      <td>뉴질랜드</td>\n",
              "    </tr>\n",
              "    <tr>\n",
              "      <th>유럽</th>\n",
              "      <td>아일랜드</td>\n",
              "      <td>아일랜드</td>\n",
              "    </tr>\n",
              "  </tbody>\n",
              "</table>\n",
              "</div>"
            ],
            "text/plain": [
              "연도        2019   2020\n",
              "구분                   \n",
              "남아메리카     콜롬비아  코스타리카\n",
              "북아메리카       미국     미국\n",
              "아시아       이스라엘   튀르키예\n",
              "오세아니아  오스트레일리아   뉴질랜드\n",
              "유럽        아일랜드   아일랜드"
            ]
          },
          "execution_count": 22,
          "metadata": {},
          "output_type": "execute_result"
        }
      ],
      "source": [
        "# 연도별 대륙별 GDP 성장률의 최대인 국가 피벗 테이블\n",
        "df_ex3.pivot_table('GDP 성장률', index='구분', columns='연도', \n",
        "                   aggfunc=lambda x: df_ex3.loc[x.idxmax(), '국가'])"
      ]
    },
    {
      "cell_type": "markdown",
      "metadata": {},
      "source": []
    }
  ],
  "metadata": {
    "colab": {
      "provenance": []
    },
    "kernelspec": {
      "display_name": "Python 3",
      "name": "python3"
    },
    "language_info": {
      "codemirror_mode": {
        "name": "ipython",
        "version": 3
      },
      "file_extension": ".py",
      "mimetype": "text/x-python",
      "name": "python",
      "nbconvert_exporter": "python",
      "pygments_lexer": "ipython3",
      "version": "3.8.6rc1"
    }
  },
  "nbformat": 4,
  "nbformat_minor": 0
}
