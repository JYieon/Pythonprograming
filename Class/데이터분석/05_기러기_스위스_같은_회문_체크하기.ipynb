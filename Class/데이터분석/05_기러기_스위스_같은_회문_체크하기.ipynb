{
  "cells": [
    {
      "cell_type": "markdown",
      "metadata": {
        "id": "xx2RNXaS7z1R"
      },
      "source": [
        "# Ch05. 기러기 스위스 같은 회문 체크하기"
      ]
    },
    {
      "cell_type": "markdown",
      "metadata": {
        "id": "t1JZFTQYwEp-"
      },
      "source": [
        "\n",
        "## 1. apply 함수를 사용하는 이유"
      ]
    },
    {
      "cell_type": "markdown",
      "metadata": {
        "id": "558m3v688NzI"
      },
      "source": [
        "**feature engineering**\n",
        "\n",
        "- 기존 데이터로 더 유용한 새로운 특성(feature)을 만드는 것\n",
        "\n",
        "- 이제까지 배운 함수만으로 모든 feature engineering을 할 수 없다\n",
        "\n",
        "- 이럴때 `apply`의 도움이 필요하다\n"
      ]
    },
    {
      "cell_type": "markdown",
      "metadata": {
        "id": "TbAnS_MF8eIJ"
      },
      "source": [
        "**apply**\n",
        "\n",
        "- 함수를 적용하게 해주는 함수\n",
        "\n",
        "- 데이터 프레임이나 시리즈에 직접 적용이 안되는 함수 (ex 파이썬 함수, 사용자 정의 함수) 들을 적용하게 해준다"
      ]
    },
    {
      "cell_type": "code",
      "execution_count": 3,
      "metadata": {
        "colab": {
          "base_uri": "https://localhost:8080/"
        },
        "id": "hQLRYk65g7XK",
        "outputId": "dd19055e-2d55-4e5a-91a1-bc6ae553761d"
      },
      "outputs": [
        {
          "data": {
            "text/plain": [
              "0       mom\n",
              "1       get\n",
              "2    pandas\n",
              "3     level\n",
              "dtype: object"
            ]
          },
          "execution_count": 3,
          "metadata": {},
          "output_type": "execute_result"
        }
      ],
      "source": [
        "#실습 준비 코드\n",
        "import pandas as pd\n",
        "list1 = ['mom', 'get', 'pandas', 'level']\n",
        "s1 = pd.Series(list1)\n",
        "s2 = pd.Series(['1', '2', '3'])\n",
        "s1"
      ]
    },
    {
      "cell_type": "code",
      "execution_count": 4,
      "metadata": {
        "colab": {
          "base_uri": "https://localhost:8080/"
        },
        "id": "k7a4QGtkkaO1",
        "outputId": "8f9eee21-bf30-486a-d1d3-a113549a8cc9"
      },
      "outputs": [
        {
          "name": "stdout",
          "output_type": "stream",
          "text": [
            "['mom', 'get', 'pandas', 'level']\n",
            "4\n",
            "[3, 3, 6, 5]\n"
          ]
        }
      ],
      "source": [
        "print(list1)\n",
        "print(len(list1)) # 리스트에 len이 적용되지 리스트의 원소에 적용되지 않는다\n",
        "\n",
        "# 리스트안의 원소에게 len 함수를 적용하려면 파이썬에서도 map 함수가 필요\n",
        "print(list(map(len, list1)))"
      ]
    },
    {
      "cell_type": "markdown",
      "metadata": {
        "id": "paMj15hkvvgS"
      },
      "source": [
        "리스트의 개별 원소에 `len` 함수를 적용하려면 `map` 함수의 도움이 필요하듯, 판다스에서도 데이터 프레임이나 시리즈에 적용되지 않는 함수를 적용하려면 `apply`의 도움이 필요하다"
      ]
    },
    {
      "cell_type": "code",
      "execution_count": 5,
      "metadata": {
        "colab": {
          "base_uri": "https://localhost:8080/"
        },
        "id": "29Rtz7LdlfSJ",
        "outputId": "809abd75-3199-4ae8-e804-fef3f5973a0f"
      },
      "outputs": [
        {
          "data": {
            "text/plain": [
              "0    3\n",
              "1    3\n",
              "2    6\n",
              "3    5\n",
              "dtype: int64"
            ]
          },
          "execution_count": 5,
          "metadata": {},
          "output_type": "execute_result"
        }
      ],
      "source": [
        "# s1의 각 셀에서 문자열의 길이를 반환한 시리즈를 만들자\n",
        "s1.apply(len)"
      ]
    },
    {
      "cell_type": "markdown",
      "metadata": {
        "id": "L-99atMWv4L_"
      },
      "source": [
        "`len`은 문자열의 길이를 반환하는 파이썬 함수이고 그 함수를 각 셀에 적용하려면 `apply`의 도움이 필요하다"
      ]
    },
    {
      "cell_type": "markdown",
      "metadata": {
        "id": "eeOUlrMX9AZh"
      },
      "source": [
        "이번에는 시리즈 s2를 정수로 바꾸자 `astype`으로 바꿀 수 있지만 `astype`을 모른다고 가정해보자 그렇다면 파이썬의 함수 `int`를 사용해야 한다"
      ]
    },
    {
      "cell_type": "code",
      "execution_count": 6,
      "metadata": {
        "colab": {
          "base_uri": "https://localhost:8080/"
        },
        "id": "_XH0bYVNvaki",
        "outputId": "5ff6ec3d-86c9-42fe-9968-38585d13caf2"
      },
      "outputs": [
        {
          "data": {
            "text/plain": [
              "0    1\n",
              "1    2\n",
              "2    3\n",
              "dtype: int64"
            ]
          },
          "execution_count": 6,
          "metadata": {},
          "output_type": "execute_result"
        }
      ],
      "source": [
        "# s2의 각 셀의 자료형을 정수(int)로 바꾸자. 파이썬 함수 int를 이용하자\n",
        "s2.apply(int)"
      ]
    },
    {
      "cell_type": "markdown",
      "metadata": {
        "id": "rxrgcnoX82kS"
      },
      "source": [
        "`int`는 정수로 바꾸는 파이썬 함수이고 그 함수를 각 셀에 적용하려면 `apply`의 도움이 필요하다"
      ]
    },
    {
      "cell_type": "code",
      "execution_count": 7,
      "metadata": {
        "colab": {
          "base_uri": "https://localhost:8080/"
        },
        "id": "t6AcX3hhll6s",
        "outputId": "7529f166-37d0-4c8d-c8df-bd8bd6e63150"
      },
      "outputs": [
        {
          "data": {
            "text/plain": [
              "0    1\n",
              "1    2\n",
              "2    3\n",
              "dtype: int32"
            ]
          },
          "execution_count": 7,
          "metadata": {},
          "output_type": "execute_result"
        }
      ],
      "source": [
        "# 판다스 함수 astype로도 당연히 가능하다\n",
        "s2.astype('int')"
      ]
    },
    {
      "cell_type": "markdown",
      "metadata": {
        "id": "x2xcuzEFPBLL"
      },
      "source": [
        "## 2. 시리즈에 apply 사용하기"
      ]
    },
    {
      "cell_type": "markdown",
      "metadata": {},
      "source": [
        "### 학습 목표\n",
        "- 시리즈에 파이썬 함수를 적용한다. (`apply` 함수)"
      ]
    },
    {
      "cell_type": "markdown",
      "metadata": {
        "id": "dRH8c43-Bf4v"
      },
      "source": [
        "> pandas apply\n",
        "\n",
        "<img src=https://i.ibb.co/cNcNXP4/05-01.png, width=600>\n",
        "\n",
        "\n",
        "\n",
        "데이터 프레임이나 시리즈의 개별 요소 각각에 함수를 적용해주는 함수\n",
        "\n",
        "데이터 프레임은 시리즈 단위로 함수를 적용하고, 시리즈는 셀단위로 함수를 적용한다\n",
        "\n",
        "------\n",
        "\n",
        "**func** (인수는 함수)\n",
        "\n",
        "개별 요소에 적용할 함수를 입력하는 인자\n",
        "\n",
        " \n",
        "\n",
        "**axis**  (인수는 0 or  1 / 기본값은 0)\n",
        "\n",
        "데이터 프레임에 apply를 적용하면 시리즈별로 함수를 적용되는데 그 때 개별 시리즈를 결정하는 축을 지정하는 인자\n",
        "\n",
        "- 0 : 열마다 함수를 적용한다\n",
        "- 1 : 행마다 함수를 적용한다\n",
        "\n",
        "<br><br>\n",
        "\n",
        "[apply 판다스 공식문서](https://pandas.pydata.org/docs/reference/api/pandas.DataFrame.apply.html)"
      ]
    },
    {
      "cell_type": "code",
      "execution_count": 8,
      "metadata": {
        "colab": {
          "base_uri": "https://localhost:8080/",
          "height": 175
        },
        "id": "t--pa_Gh4jMI",
        "outputId": "14c7b206-9e62-48ed-b779-3421b3f87127"
      },
      "outputs": [
        {
          "data": {
            "text/html": [
              "<div>\n",
              "<style scoped>\n",
              "    .dataframe tbody tr th:only-of-type {\n",
              "        vertical-align: middle;\n",
              "    }\n",
              "\n",
              "    .dataframe tbody tr th {\n",
              "        vertical-align: top;\n",
              "    }\n",
              "\n",
              "    .dataframe thead th {\n",
              "        text-align: right;\n",
              "    }\n",
              "</style>\n",
              "<table border=\"1\" class=\"dataframe\">\n",
              "  <thead>\n",
              "    <tr style=\"text-align: right;\">\n",
              "      <th></th>\n",
              "      <th>이름</th>\n",
              "      <th>답안</th>\n",
              "    </tr>\n",
              "  </thead>\n",
              "  <tbody>\n",
              "    <tr>\n",
              "      <th>0</th>\n",
              "      <td>차은우</td>\n",
              "      <td>mom</td>\n",
              "    </tr>\n",
              "    <tr>\n",
              "      <th>1</th>\n",
              "      <td>송중기</td>\n",
              "      <td>get</td>\n",
              "    </tr>\n",
              "    <tr>\n",
              "      <th>2</th>\n",
              "      <td>카리나</td>\n",
              "      <td>pandas</td>\n",
              "    </tr>\n",
              "    <tr>\n",
              "      <th>3</th>\n",
              "      <td>이상윤</td>\n",
              "      <td>level</td>\n",
              "    </tr>\n",
              "  </tbody>\n",
              "</table>\n",
              "</div>"
            ],
            "text/plain": [
              "    이름      답안\n",
              "0  차은우     mom\n",
              "1  송중기     get\n",
              "2  카리나  pandas\n",
              "3  이상윤   level"
            ]
          },
          "execution_count": 8,
          "metadata": {},
          "output_type": "execute_result"
        }
      ],
      "source": [
        "# 실습 준비 코드\n",
        "import pandas as pd\n",
        "data = [['차은우', 'mom'], ['송중기', 'get'], \n",
        "        ['카리나', 'pandas'], ['이상윤', 'level']]\n",
        "df = pd.DataFrame(data, columns=['이름', '답안'])\n",
        "df"
      ]
    },
    {
      "cell_type": "markdown",
      "metadata": {
        "id": "h1Ssm5FH48fS"
      },
      "source": [
        "df는 각 사람이 제출한 답안 데이터이다. 문제는 아래와 같다.\n",
        "\n",
        "\n",
        "**문제**\n",
        "> 5글자 이상의 회문을 답하라\n",
        "\n",
        "정답자를 찾아보자 (회문은 기러기처럼 거꾸로 뒤집어도 같은 단어가 되는 것을 의미한다)"
      ]
    },
    {
      "cell_type": "code",
      "execution_count": 9,
      "metadata": {
        "colab": {
          "base_uri": "https://localhost:8080/"
        },
        "id": "qPWPLBut43Te",
        "outputId": "3a8fe573-6824-463b-acfd-2c034d27f834"
      },
      "outputs": [
        {
          "data": {
            "text/plain": [
              "0    3\n",
              "1    3\n",
              "2    6\n",
              "3    5\n",
              "Name: 답안, dtype: int64"
            ]
          },
          "execution_count": 9,
          "metadata": {},
          "output_type": "execute_result"
        }
      ],
      "source": [
        "# 답안의 글자수 파악하기\n",
        "df['답안'].apply(len)"
      ]
    },
    {
      "cell_type": "code",
      "execution_count": 10,
      "metadata": {
        "colab": {
          "base_uri": "https://localhost:8080/",
          "height": 175
        },
        "id": "r4sMShwr5JaR",
        "outputId": "c849239b-570d-4722-c9c9-b02113a4a77d"
      },
      "outputs": [
        {
          "data": {
            "text/html": [
              "<div>\n",
              "<style scoped>\n",
              "    .dataframe tbody tr th:only-of-type {\n",
              "        vertical-align: middle;\n",
              "    }\n",
              "\n",
              "    .dataframe tbody tr th {\n",
              "        vertical-align: top;\n",
              "    }\n",
              "\n",
              "    .dataframe thead th {\n",
              "        text-align: right;\n",
              "    }\n",
              "</style>\n",
              "<table border=\"1\" class=\"dataframe\">\n",
              "  <thead>\n",
              "    <tr style=\"text-align: right;\">\n",
              "      <th></th>\n",
              "      <th>이름</th>\n",
              "      <th>답안</th>\n",
              "      <th>글자수</th>\n",
              "    </tr>\n",
              "  </thead>\n",
              "  <tbody>\n",
              "    <tr>\n",
              "      <th>0</th>\n",
              "      <td>차은우</td>\n",
              "      <td>mom</td>\n",
              "      <td>3</td>\n",
              "    </tr>\n",
              "    <tr>\n",
              "      <th>1</th>\n",
              "      <td>송중기</td>\n",
              "      <td>get</td>\n",
              "      <td>3</td>\n",
              "    </tr>\n",
              "    <tr>\n",
              "      <th>2</th>\n",
              "      <td>카리나</td>\n",
              "      <td>pandas</td>\n",
              "      <td>6</td>\n",
              "    </tr>\n",
              "    <tr>\n",
              "      <th>3</th>\n",
              "      <td>이상윤</td>\n",
              "      <td>level</td>\n",
              "      <td>5</td>\n",
              "    </tr>\n",
              "  </tbody>\n",
              "</table>\n",
              "</div>"
            ],
            "text/plain": [
              "    이름      답안  글자수\n",
              "0  차은우     mom    3\n",
              "1  송중기     get    3\n",
              "2  카리나  pandas    6\n",
              "3  이상윤   level    5"
            ]
          },
          "execution_count": 10,
          "metadata": {},
          "output_type": "execute_result"
        }
      ],
      "source": [
        "# 답안의 글자수를 글자수 열로 만들어보자\n",
        "df['글자수'] = df['답안'].apply(len)\n",
        "df"
      ]
    },
    {
      "cell_type": "markdown",
      "metadata": {
        "id": "vb_uxlSzO6iY"
      },
      "source": [
        "## 3. apply로 시리즈에 사용자 정의함수 적용하기"
      ]
    },
    {
      "cell_type": "markdown",
      "metadata": {},
      "source": [
        "### 학습 목표\n",
        "- 시리즈에 사용자 정의 함수를 적용한다. (`apply` 함수)\n",
        "- 사용자 정의 함수를 `lambda` 함수로 정의한다."
      ]
    },
    {
      "cell_type": "code",
      "execution_count": 11,
      "metadata": {
        "colab": {
          "base_uri": "https://localhost:8080/",
          "height": 175
        },
        "id": "pB4N06LdPKKu",
        "outputId": "05ec37ad-7309-42c0-b4b2-ad3352b66930"
      },
      "outputs": [
        {
          "data": {
            "text/html": [
              "<div>\n",
              "<style scoped>\n",
              "    .dataframe tbody tr th:only-of-type {\n",
              "        vertical-align: middle;\n",
              "    }\n",
              "\n",
              "    .dataframe tbody tr th {\n",
              "        vertical-align: top;\n",
              "    }\n",
              "\n",
              "    .dataframe thead th {\n",
              "        text-align: right;\n",
              "    }\n",
              "</style>\n",
              "<table border=\"1\" class=\"dataframe\">\n",
              "  <thead>\n",
              "    <tr style=\"text-align: right;\">\n",
              "      <th></th>\n",
              "      <th>이름</th>\n",
              "      <th>답안</th>\n",
              "      <th>글자수</th>\n",
              "    </tr>\n",
              "  </thead>\n",
              "  <tbody>\n",
              "    <tr>\n",
              "      <th>0</th>\n",
              "      <td>차은우</td>\n",
              "      <td>mom</td>\n",
              "      <td>3</td>\n",
              "    </tr>\n",
              "    <tr>\n",
              "      <th>1</th>\n",
              "      <td>송중기</td>\n",
              "      <td>get</td>\n",
              "      <td>3</td>\n",
              "    </tr>\n",
              "    <tr>\n",
              "      <th>2</th>\n",
              "      <td>카리나</td>\n",
              "      <td>pandas</td>\n",
              "      <td>6</td>\n",
              "    </tr>\n",
              "    <tr>\n",
              "      <th>3</th>\n",
              "      <td>이상윤</td>\n",
              "      <td>level</td>\n",
              "      <td>5</td>\n",
              "    </tr>\n",
              "  </tbody>\n",
              "</table>\n",
              "</div>"
            ],
            "text/plain": [
              "    이름      답안  글자수\n",
              "0  차은우     mom    3\n",
              "1  송중기     get    3\n",
              "2  카리나  pandas    6\n",
              "3  이상윤   level    5"
            ]
          },
          "execution_count": 11,
          "metadata": {},
          "output_type": "execute_result"
        }
      ],
      "source": [
        "# 실습 준비 코드\n",
        "import pandas as pd\n",
        "data = [['차은우', 'mom'], ['송중기', 'get'], \n",
        "        ['카리나', 'pandas'], ['이상윤', 'level']]\n",
        "df = pd.DataFrame(data, columns=['이름', '답안'])\n",
        "df['글자수'] = df['답안'].apply(len)\n",
        "df"
      ]
    },
    {
      "cell_type": "markdown",
      "metadata": {
        "id": "YBDusZfseSU1"
      },
      "source": [
        "답안의 문자열을 역순으로 뒤집은 역순열을 만들어 보자"
      ]
    },
    {
      "cell_type": "code",
      "execution_count": 12,
      "metadata": {
        "colab": {
          "base_uri": "https://localhost:8080/",
          "height": 35
        },
        "id": "WTnp1GX9POft",
        "outputId": "754d7bfd-e092-45ea-bf38-6dc8fe7625be"
      },
      "outputs": [
        {
          "data": {
            "text/plain": [
              "'teg'"
            ]
          },
          "execution_count": 12,
          "metadata": {},
          "output_type": "execute_result"
        }
      ],
      "source": [
        "# 문자열을 역순으로 뒤집는 사용자 정의 함수 만들기\n",
        "def rev1(x):\n",
        "  return x[::-1]\n",
        "rev1('get')"
      ]
    },
    {
      "cell_type": "code",
      "execution_count": 13,
      "metadata": {
        "colab": {
          "base_uri": "https://localhost:8080/",
          "height": 175
        },
        "id": "dkT9viepPcdR",
        "outputId": "2fc6f144-47fc-412b-d6e6-45c823a128af"
      },
      "outputs": [
        {
          "data": {
            "text/html": [
              "<div>\n",
              "<style scoped>\n",
              "    .dataframe tbody tr th:only-of-type {\n",
              "        vertical-align: middle;\n",
              "    }\n",
              "\n",
              "    .dataframe tbody tr th {\n",
              "        vertical-align: top;\n",
              "    }\n",
              "\n",
              "    .dataframe thead th {\n",
              "        text-align: right;\n",
              "    }\n",
              "</style>\n",
              "<table border=\"1\" class=\"dataframe\">\n",
              "  <thead>\n",
              "    <tr style=\"text-align: right;\">\n",
              "      <th></th>\n",
              "      <th>이름</th>\n",
              "      <th>답안</th>\n",
              "      <th>글자수</th>\n",
              "      <th>역순</th>\n",
              "    </tr>\n",
              "  </thead>\n",
              "  <tbody>\n",
              "    <tr>\n",
              "      <th>0</th>\n",
              "      <td>차은우</td>\n",
              "      <td>mom</td>\n",
              "      <td>3</td>\n",
              "      <td>mom</td>\n",
              "    </tr>\n",
              "    <tr>\n",
              "      <th>1</th>\n",
              "      <td>송중기</td>\n",
              "      <td>get</td>\n",
              "      <td>3</td>\n",
              "      <td>teg</td>\n",
              "    </tr>\n",
              "    <tr>\n",
              "      <th>2</th>\n",
              "      <td>카리나</td>\n",
              "      <td>pandas</td>\n",
              "      <td>6</td>\n",
              "      <td>sadnap</td>\n",
              "    </tr>\n",
              "    <tr>\n",
              "      <th>3</th>\n",
              "      <td>이상윤</td>\n",
              "      <td>level</td>\n",
              "      <td>5</td>\n",
              "      <td>level</td>\n",
              "    </tr>\n",
              "  </tbody>\n",
              "</table>\n",
              "</div>"
            ],
            "text/plain": [
              "    이름      답안  글자수      역순\n",
              "0  차은우     mom    3     mom\n",
              "1  송중기     get    3     teg\n",
              "2  카리나  pandas    6  sadnap\n",
              "3  이상윤   level    5   level"
            ]
          },
          "execution_count": 13,
          "metadata": {},
          "output_type": "execute_result"
        }
      ],
      "source": [
        "# apply로 사용자 정의함수 적용하기\n",
        "df['역순'] = df['답안'].apply(rev1)\n",
        "df"
      ]
    },
    {
      "cell_type": "code",
      "execution_count": 14,
      "metadata": {
        "colab": {
          "base_uri": "https://localhost:8080/"
        },
        "id": "c7WvjgTJSLRw",
        "outputId": "a9d975c2-8d0f-44e3-b2ae-1db9732a1a74"
      },
      "outputs": [
        {
          "name": "stdout",
          "output_type": "stream",
          "text": [
            "teg\n",
            "teg\n"
          ]
        }
      ],
      "source": [
        "# lambda 함수로 사용자 정의 함수 만들기. rev1과 rev2는 같은 함수이다\n",
        "def rev1(x):\n",
        "  return x[::-1]\n",
        "print(rev1('get'))\n",
        "\n",
        "rev2 = lambda x: x[::-1]\n",
        "print(rev2('get'))"
      ]
    },
    {
      "cell_type": "code",
      "execution_count": 15,
      "metadata": {
        "colab": {
          "base_uri": "https://localhost:8080/",
          "height": 175
        },
        "id": "I7Xf_hcTRzi7",
        "outputId": "46815983-f143-42de-a30c-d0d516de1c67"
      },
      "outputs": [
        {
          "data": {
            "text/html": [
              "<div>\n",
              "<style scoped>\n",
              "    .dataframe tbody tr th:only-of-type {\n",
              "        vertical-align: middle;\n",
              "    }\n",
              "\n",
              "    .dataframe tbody tr th {\n",
              "        vertical-align: top;\n",
              "    }\n",
              "\n",
              "    .dataframe thead th {\n",
              "        text-align: right;\n",
              "    }\n",
              "</style>\n",
              "<table border=\"1\" class=\"dataframe\">\n",
              "  <thead>\n",
              "    <tr style=\"text-align: right;\">\n",
              "      <th></th>\n",
              "      <th>이름</th>\n",
              "      <th>답안</th>\n",
              "      <th>글자수</th>\n",
              "      <th>역순</th>\n",
              "    </tr>\n",
              "  </thead>\n",
              "  <tbody>\n",
              "    <tr>\n",
              "      <th>0</th>\n",
              "      <td>차은우</td>\n",
              "      <td>mom</td>\n",
              "      <td>3</td>\n",
              "      <td>mom</td>\n",
              "    </tr>\n",
              "    <tr>\n",
              "      <th>1</th>\n",
              "      <td>송중기</td>\n",
              "      <td>get</td>\n",
              "      <td>3</td>\n",
              "      <td>teg</td>\n",
              "    </tr>\n",
              "    <tr>\n",
              "      <th>2</th>\n",
              "      <td>카리나</td>\n",
              "      <td>pandas</td>\n",
              "      <td>6</td>\n",
              "      <td>sadnap</td>\n",
              "    </tr>\n",
              "    <tr>\n",
              "      <th>3</th>\n",
              "      <td>이상윤</td>\n",
              "      <td>level</td>\n",
              "      <td>5</td>\n",
              "      <td>level</td>\n",
              "    </tr>\n",
              "  </tbody>\n",
              "</table>\n",
              "</div>"
            ],
            "text/plain": [
              "    이름      답안  글자수      역순\n",
              "0  차은우     mom    3     mom\n",
              "1  송중기     get    3     teg\n",
              "2  카리나  pandas    6  sadnap\n",
              "3  이상윤   level    5   level"
            ]
          },
          "execution_count": 15,
          "metadata": {},
          "output_type": "execute_result"
        }
      ],
      "source": [
        "# lambda 함수로 사용자 정의 함수 만들어 apply로 적용하기\n",
        "df['역순'] = df['답안'].apply(lambda x: x[::-1])\n",
        "df"
      ]
    },
    {
      "cell_type": "markdown",
      "metadata": {
        "id": "R1p3M_VlrDBY"
      },
      "source": [
        "**lambda 함수 쉽게 만드는 방법**\n",
        "\n",
        "<img src=https://i.ibb.co/3R6Wdsc/05-04.jpg, width=600>"
      ]
    },
    {
      "cell_type": "markdown",
      "metadata": {
        "id": "FzU8nw4XewB0"
      },
      "source": [
        "## 4. 다중요건 불리언 인덱싱"
      ]
    },
    {
      "cell_type": "markdown",
      "metadata": {},
      "source": [
        "### 학습 목표\n",
        "- 복수의 조건문을 논리연산자로 연산한다."
      ]
    },
    {
      "attachments": {
        "image.png": {
          "image/png": "[encoded data removed]"
        }
      },
      "cell_type": "markdown",
      "metadata": {},
      "source": [
        "![image.png](attachment:image.png)"
      ]
    },
    {
      "cell_type": "markdown",
      "metadata": {
        "id": "xMuGRGZpDoTE"
      },
      "source": [
        "여러개의 조건문으로 필터링을 하려면 조건문을 논리연산해야 한다"
      ]
    },
    {
      "cell_type": "code",
      "execution_count": 16,
      "metadata": {
        "id": "M5wuEj8fgOkd"
      },
      "outputs": [],
      "source": [
        "# 실습 준비 코드\n",
        "import pandas as pd\n",
        "data = [['차은우', 'mom'], ['송중기', 'get'], \n",
        "        ['카리나', 'pandas'], ['이상윤', 'level']]\n",
        "df = pd.DataFrame(data, columns=['이름', '답안'])\n",
        "df['글자수'] = df['답안'].apply(len)\n",
        "df['역순'] = df['답안'].apply(lambda x: x[::-1])\n",
        "\n",
        "df1 = pd.DataFrame([[71, 82], [91, 85], [81, 92]], \n",
        "                   index=list('ABC'), columns=['국어', '영어'])"
      ]
    },
    {
      "cell_type": "markdown",
      "metadata": {
        "id": "oTP6pMvHlIwT"
      },
      "source": [
        "다중 요건 조건문을 만들어 보자\n",
        "- 국어 점수가 80점보다 높고 국어 점수가 영어점수보다 낮은 사람"
      ]
    },
    {
      "cell_type": "code",
      "execution_count": 17,
      "metadata": {
        "colab": {
          "base_uri": "https://localhost:8080/",
          "height": 143
        },
        "id": "_BovgFyflRpt",
        "outputId": "6a455286-6d84-4c89-a7d8-328df4dfb100"
      },
      "outputs": [
        {
          "data": {
            "text/html": [
              "<div>\n",
              "<style scoped>\n",
              "    .dataframe tbody tr th:only-of-type {\n",
              "        vertical-align: middle;\n",
              "    }\n",
              "\n",
              "    .dataframe tbody tr th {\n",
              "        vertical-align: top;\n",
              "    }\n",
              "\n",
              "    .dataframe thead th {\n",
              "        text-align: right;\n",
              "    }\n",
              "</style>\n",
              "<table border=\"1\" class=\"dataframe\">\n",
              "  <thead>\n",
              "    <tr style=\"text-align: right;\">\n",
              "      <th></th>\n",
              "      <th>국어</th>\n",
              "      <th>영어</th>\n",
              "    </tr>\n",
              "  </thead>\n",
              "  <tbody>\n",
              "    <tr>\n",
              "      <th>A</th>\n",
              "      <td>71</td>\n",
              "      <td>82</td>\n",
              "    </tr>\n",
              "    <tr>\n",
              "      <th>B</th>\n",
              "      <td>91</td>\n",
              "      <td>85</td>\n",
              "    </tr>\n",
              "    <tr>\n",
              "      <th>C</th>\n",
              "      <td>81</td>\n",
              "      <td>92</td>\n",
              "    </tr>\n",
              "  </tbody>\n",
              "</table>\n",
              "</div>"
            ],
            "text/plain": [
              "   국어  영어\n",
              "A  71  82\n",
              "B  91  85\n",
              "C  81  92"
            ]
          },
          "execution_count": 17,
          "metadata": {},
          "output_type": "execute_result"
        }
      ],
      "source": [
        "df1"
      ]
    },
    {
      "cell_type": "code",
      "execution_count": 18,
      "metadata": {
        "colab": {
          "base_uri": "https://localhost:8080/"
        },
        "id": "mrGvgMuilYjf",
        "outputId": "068126b5-529a-4058-e8c4-d53171e0ee95"
      },
      "outputs": [
        {
          "data": {
            "text/plain": [
              "A    False\n",
              "B     True\n",
              "C     True\n",
              "Name: 국어, dtype: bool"
            ]
          },
          "execution_count": 18,
          "metadata": {},
          "output_type": "execute_result"
        }
      ],
      "source": [
        "# 국어점수가 80점보다 높은 사람\n",
        "df1['국어'] > 80"
      ]
    },
    {
      "cell_type": "code",
      "execution_count": 19,
      "metadata": {
        "colab": {
          "base_uri": "https://localhost:8080/"
        },
        "id": "uTMS5Bc9lTIm",
        "outputId": "47f5c15e-c655-4b15-a5e8-db6a133b786d"
      },
      "outputs": [
        {
          "data": {
            "text/plain": [
              "A     True\n",
              "B    False\n",
              "C     True\n",
              "dtype: bool"
            ]
          },
          "execution_count": 19,
          "metadata": {},
          "output_type": "execute_result"
        }
      ],
      "source": [
        "# 국어보다 영어를 잘하는 사람. 비교연산도 인덱스에 맞춰서 연산한다\n",
        "df1['국어'] < df1['영어']"
      ]
    },
    {
      "cell_type": "markdown",
      "metadata": {
        "id": "xcC1ukJBowZE"
      },
      "source": [
        "<img src=https://i.ibb.co/N1wt9tP/05-04.png, width=400>"
      ]
    },
    {
      "cell_type": "code",
      "execution_count": 20,
      "metadata": {
        "colab": {
          "base_uri": "https://localhost:8080/"
        },
        "id": "vcvuGSQflgQs",
        "outputId": "a4b7dba3-c638-49d0-8530-ac1f3ea0bf64"
      },
      "outputs": [
        {
          "data": {
            "text/plain": [
              "A    False\n",
              "B    False\n",
              "C     True\n",
              "dtype: bool"
            ]
          },
          "execution_count": 20,
          "metadata": {},
          "output_type": "execute_result"
        }
      ],
      "source": [
        "# 국어 점수가 80점보다 높고 영어점수보다 낮은 사람을 찾는 조건문\n",
        "cond1 = df1['국어'] > 80\n",
        "cond2 = df1['국어'] < df1['영어']\n",
        "cond1 & cond2"
      ]
    },
    {
      "cell_type": "markdown",
      "metadata": {
        "id": "iyRH2RdBlwJW"
      },
      "source": [
        "판다스의 논리연산에는 반드시 논리연산자를 사용해야 한다\n",
        "\n",
        "and, or, not을 사용하면 에러가 발생한다\n",
        "\n",
        "\n",
        "```python\n",
        "cond1 and cond2\n",
        "```\n",
        "\n",
        "\n",
        "\n",
        "> ValueError: The truth value of a Series is ambiguous. Use a.empty, a.bool(), a.item(), a.any() or a.all()"
      ]
    },
    {
      "cell_type": "code",
      "execution_count": 21,
      "metadata": {
        "colab": {
          "base_uri": "https://localhost:8080/",
          "height": 81
        },
        "id": "TIk7xanQTB0D",
        "outputId": "a0a01b2d-586a-49f7-8235-f2d387fd98c9"
      },
      "outputs": [
        {
          "data": {
            "text/html": [
              "<div>\n",
              "<style scoped>\n",
              "    .dataframe tbody tr th:only-of-type {\n",
              "        vertical-align: middle;\n",
              "    }\n",
              "\n",
              "    .dataframe tbody tr th {\n",
              "        vertical-align: top;\n",
              "    }\n",
              "\n",
              "    .dataframe thead th {\n",
              "        text-align: right;\n",
              "    }\n",
              "</style>\n",
              "<table border=\"1\" class=\"dataframe\">\n",
              "  <thead>\n",
              "    <tr style=\"text-align: right;\">\n",
              "      <th></th>\n",
              "      <th>국어</th>\n",
              "      <th>영어</th>\n",
              "    </tr>\n",
              "  </thead>\n",
              "  <tbody>\n",
              "    <tr>\n",
              "      <th>C</th>\n",
              "      <td>81</td>\n",
              "      <td>92</td>\n",
              "    </tr>\n",
              "  </tbody>\n",
              "</table>\n",
              "</div>"
            ],
            "text/plain": [
              "   국어  영어\n",
              "C  81  92"
            ]
          },
          "execution_count": 21,
          "metadata": {},
          "output_type": "execute_result"
        }
      ],
      "source": [
        "# 위 조건문으로 불리언 인덱싱\n",
        "df1[cond1 & cond2]"
      ]
    },
    {
      "cell_type": "markdown",
      "metadata": {
        "id": "04JsYxmBgU3C"
      },
      "source": [
        "**df에서 글자수가 5이상인 회문을 답변한 사람을 찾아라**\n",
        "\n",
        "- 거꾸로 해도 원래 단어와 같은 단어나 문장을 회문이라고 한다\n",
        "- 불리언 인덱싱(boolean indexing)을 사용하면 되지만 조건이 두개 즉 복수인 경우이다\n",
        "- 앞서 배운 논리 연산자를 이용해 여러개의 조건문을 연산해 조건문을 만들면 해결 된다"
      ]
    },
    {
      "cell_type": "code",
      "execution_count": 22,
      "metadata": {
        "colab": {
          "base_uri": "https://localhost:8080/",
          "height": 175
        },
        "id": "zmtZuOq1l1VO",
        "outputId": "5a47a505-712a-4622-eaf8-c0496e6f88c8"
      },
      "outputs": [
        {
          "data": {
            "text/html": [
              "<div>\n",
              "<style scoped>\n",
              "    .dataframe tbody tr th:only-of-type {\n",
              "        vertical-align: middle;\n",
              "    }\n",
              "\n",
              "    .dataframe tbody tr th {\n",
              "        vertical-align: top;\n",
              "    }\n",
              "\n",
              "    .dataframe thead th {\n",
              "        text-align: right;\n",
              "    }\n",
              "</style>\n",
              "<table border=\"1\" class=\"dataframe\">\n",
              "  <thead>\n",
              "    <tr style=\"text-align: right;\">\n",
              "      <th></th>\n",
              "      <th>이름</th>\n",
              "      <th>답안</th>\n",
              "      <th>글자수</th>\n",
              "      <th>역순</th>\n",
              "    </tr>\n",
              "  </thead>\n",
              "  <tbody>\n",
              "    <tr>\n",
              "      <th>0</th>\n",
              "      <td>차은우</td>\n",
              "      <td>mom</td>\n",
              "      <td>3</td>\n",
              "      <td>mom</td>\n",
              "    </tr>\n",
              "    <tr>\n",
              "      <th>1</th>\n",
              "      <td>송중기</td>\n",
              "      <td>get</td>\n",
              "      <td>3</td>\n",
              "      <td>teg</td>\n",
              "    </tr>\n",
              "    <tr>\n",
              "      <th>2</th>\n",
              "      <td>카리나</td>\n",
              "      <td>pandas</td>\n",
              "      <td>6</td>\n",
              "      <td>sadnap</td>\n",
              "    </tr>\n",
              "    <tr>\n",
              "      <th>3</th>\n",
              "      <td>이상윤</td>\n",
              "      <td>level</td>\n",
              "      <td>5</td>\n",
              "      <td>level</td>\n",
              "    </tr>\n",
              "  </tbody>\n",
              "</table>\n",
              "</div>"
            ],
            "text/plain": [
              "    이름      답안  글자수      역순\n",
              "0  차은우     mom    3     mom\n",
              "1  송중기     get    3     teg\n",
              "2  카리나  pandas    6  sadnap\n",
              "3  이상윤   level    5   level"
            ]
          },
          "execution_count": 22,
          "metadata": {},
          "output_type": "execute_result"
        }
      ],
      "source": [
        "df"
      ]
    },
    {
      "cell_type": "code",
      "execution_count": 23,
      "metadata": {
        "colab": {
          "base_uri": "https://localhost:8080/",
          "height": 81
        },
        "id": "rIS3EC5-ggRY",
        "outputId": "0efa9643-4154-4b5d-b11b-65970e060c54"
      },
      "outputs": [
        {
          "data": {
            "text/html": [
              "<div>\n",
              "<style scoped>\n",
              "    .dataframe tbody tr th:only-of-type {\n",
              "        vertical-align: middle;\n",
              "    }\n",
              "\n",
              "    .dataframe tbody tr th {\n",
              "        vertical-align: top;\n",
              "    }\n",
              "\n",
              "    .dataframe thead th {\n",
              "        text-align: right;\n",
              "    }\n",
              "</style>\n",
              "<table border=\"1\" class=\"dataframe\">\n",
              "  <thead>\n",
              "    <tr style=\"text-align: right;\">\n",
              "      <th></th>\n",
              "      <th>이름</th>\n",
              "      <th>답안</th>\n",
              "      <th>글자수</th>\n",
              "      <th>역순</th>\n",
              "    </tr>\n",
              "  </thead>\n",
              "  <tbody>\n",
              "    <tr>\n",
              "      <th>3</th>\n",
              "      <td>이상윤</td>\n",
              "      <td>level</td>\n",
              "      <td>5</td>\n",
              "      <td>level</td>\n",
              "    </tr>\n",
              "  </tbody>\n",
              "</table>\n",
              "</div>"
            ],
            "text/plain": [
              "    이름     답안  글자수     역순\n",
              "3  이상윤  level    5  level"
            ]
          },
          "execution_count": 23,
          "metadata": {},
          "output_type": "execute_result"
        }
      ],
      "source": [
        "# 글자수가 5이상인 회문을 답변한 사람\n",
        "cond1 = df['글자수'] >= 5\n",
        "cond2 = df['답안'] == df['역순']\n",
        "df[cond1 & cond2]"
      ]
    },
    {
      "cell_type": "markdown",
      "metadata": {
        "id": "-TpixhZNvDdv"
      },
      "source": [
        "## 5. 프로젝트"
      ]
    },
    {
      "cell_type": "markdown",
      "metadata": {
        "id": "kVCy4KAdvG9Q"
      },
      "source": [
        "\n",
        "\n",
        "`05_01_palindrome.csv` 파일에서 3글자의 회문인 정답을 찾고, 정답자의 소속 시도(광역단체)를 파악하라"
      ]
    },
    {
      "cell_type": "code",
      "execution_count": 24,
      "metadata": {
        "colab": {
          "base_uri": "https://localhost:8080/",
          "height": 298
        },
        "id": "JI4v134Ovf1J",
        "outputId": "5e42e5bd-362f-45c9-cd1f-f935c08a3bf9"
      },
      "outputs": [
        {
          "data": {
            "text/html": [
              "<div>\n",
              "<style scoped>\n",
              "    .dataframe tbody tr th:only-of-type {\n",
              "        vertical-align: middle;\n",
              "    }\n",
              "\n",
              "    .dataframe tbody tr th {\n",
              "        vertical-align: top;\n",
              "    }\n",
              "\n",
              "    .dataframe thead th {\n",
              "        text-align: right;\n",
              "    }\n",
              "</style>\n",
              "<table border=\"1\" class=\"dataframe\">\n",
              "  <thead>\n",
              "    <tr style=\"text-align: right;\">\n",
              "      <th></th>\n",
              "      <th>이름</th>\n",
              "      <th>주소</th>\n",
              "      <th>답안</th>\n",
              "    </tr>\n",
              "  </thead>\n",
              "  <tbody>\n",
              "    <tr>\n",
              "      <th>0</th>\n",
              "      <td>류동영</td>\n",
              "      <td>경상북도 청도군 뒷마2길</td>\n",
              "      <td>메뉴</td>\n",
              "    </tr>\n",
              "    <tr>\n",
              "      <th>1</th>\n",
              "      <td>유지수</td>\n",
              "      <td>경상북도 문경시 청암3길</td>\n",
              "      <td>목욕탕</td>\n",
              "    </tr>\n",
              "    <tr>\n",
              "      <th>2</th>\n",
              "      <td>권민식</td>\n",
              "      <td>경기도 안양시 동안구 동편로49번길</td>\n",
              "      <td>야채</td>\n",
              "    </tr>\n",
              "    <tr>\n",
              "      <th>...</th>\n",
              "      <td>...</td>\n",
              "      <td>...</td>\n",
              "      <td>...</td>\n",
              "    </tr>\n",
              "    <tr>\n",
              "      <th>997</th>\n",
              "      <td>한성균</td>\n",
              "      <td>부산광역시 영도구 청학북로</td>\n",
              "      <td>스웨터</td>\n",
              "    </tr>\n",
              "    <tr>\n",
              "      <th>998</th>\n",
              "      <td>양대환</td>\n",
              "      <td>강원도 춘천시 하중도길</td>\n",
              "      <td>남북</td>\n",
              "    </tr>\n",
              "    <tr>\n",
              "      <th>999</th>\n",
              "      <td>이종봉</td>\n",
              "      <td>충청북도 단양군 여울목2길</td>\n",
              "      <td>해외여행</td>\n",
              "    </tr>\n",
              "  </tbody>\n",
              "</table>\n",
              "<p>1000 rows × 3 columns</p>\n",
              "</div>"
            ],
            "text/plain": [
              "      이름                   주소    답안\n",
              "0    류동영        경상북도 청도군 뒷마2길    메뉴\n",
              "1    유지수        경상북도 문경시 청암3길   목욕탕\n",
              "2    권민식  경기도 안양시 동안구 동편로49번길    야채\n",
              "..   ...                  ...   ...\n",
              "997  한성균       부산광역시 영도구 청학북로   스웨터\n",
              "998  양대환         강원도 춘천시 하중도길    남북\n",
              "999  이종봉       충청북도 단양군 여울목2길  해외여행\n",
              "\n",
              "[1000 rows x 3 columns]"
            ]
          },
          "execution_count": 24,
          "metadata": {},
          "output_type": "execute_result"
        }
      ],
      "source": [
        "# 프로젝트 코드\n",
        "import pandas as pd\n",
        "pd.options.display.max_rows = 6 # 판다스 버전업에 따라 6행 출력의 바뀐 코드\n",
        "url = './05_01_palindrome.csv'\n",
        "df_ex1 = pd.read_csv(url)\n",
        "df_ex1"
      ]
    },
    {
      "cell_type": "markdown",
      "metadata": {
        "id": "edVLJeB_BNhU"
      },
      "source": [
        "**주소 열로 시도 열을 만들자**"
      ]
    },
    {
      "attachments": {
        "image.png": {
          "image/png": "[encoded data removed]"
        }
      },
      "cell_type": "markdown",
      "metadata": {},
      "source": [
        "![image.png](attachment:image.png)"
      ]
    },
    {
      "cell_type": "code",
      "execution_count": 25,
      "metadata": {
        "colab": {
          "base_uri": "https://localhost:8080/",
          "height": 35
        },
        "id": "z-JATB2awhgF",
        "outputId": "4468fd50-0f02-413e-9bb1-a48d492d668a"
      },
      "outputs": [
        {
          "data": {
            "text/plain": [
              "'경상북도'"
            ]
          },
          "execution_count": 25,
          "metadata": {},
          "output_type": "execute_result"
        }
      ],
      "source": [
        "# lambda 함수 쉽게 만드는 법\n",
        "x = '경상북도 청도군 뒷마2길'\n",
        "x.split(' ')[0] # 이 코드를 lambda x: 다음에 넣으면 된다"
      ]
    },
    {
      "cell_type": "code",
      "execution_count": 26,
      "metadata": {
        "colab": {
          "base_uri": "https://localhost:8080/",
          "height": 298
        },
        "id": "73gctWqnBCci",
        "outputId": "3f325921-8a42-45f4-d7fe-1e7dfff21db5"
      },
      "outputs": [
        {
          "data": {
            "text/html": [
              "<div>\n",
              "<style scoped>\n",
              "    .dataframe tbody tr th:only-of-type {\n",
              "        vertical-align: middle;\n",
              "    }\n",
              "\n",
              "    .dataframe tbody tr th {\n",
              "        vertical-align: top;\n",
              "    }\n",
              "\n",
              "    .dataframe thead th {\n",
              "        text-align: right;\n",
              "    }\n",
              "</style>\n",
              "<table border=\"1\" class=\"dataframe\">\n",
              "  <thead>\n",
              "    <tr style=\"text-align: right;\">\n",
              "      <th></th>\n",
              "      <th>이름</th>\n",
              "      <th>주소</th>\n",
              "      <th>답안</th>\n",
              "      <th>시도</th>\n",
              "    </tr>\n",
              "  </thead>\n",
              "  <tbody>\n",
              "    <tr>\n",
              "      <th>0</th>\n",
              "      <td>류동영</td>\n",
              "      <td>경상북도 청도군 뒷마2길</td>\n",
              "      <td>메뉴</td>\n",
              "      <td>경상북도</td>\n",
              "    </tr>\n",
              "    <tr>\n",
              "      <th>1</th>\n",
              "      <td>유지수</td>\n",
              "      <td>경상북도 문경시 청암3길</td>\n",
              "      <td>목욕탕</td>\n",
              "      <td>경상북도</td>\n",
              "    </tr>\n",
              "    <tr>\n",
              "      <th>2</th>\n",
              "      <td>권민식</td>\n",
              "      <td>경기도 안양시 동안구 동편로49번길</td>\n",
              "      <td>야채</td>\n",
              "      <td>경기도</td>\n",
              "    </tr>\n",
              "    <tr>\n",
              "      <th>...</th>\n",
              "      <td>...</td>\n",
              "      <td>...</td>\n",
              "      <td>...</td>\n",
              "      <td>...</td>\n",
              "    </tr>\n",
              "    <tr>\n",
              "      <th>997</th>\n",
              "      <td>한성균</td>\n",
              "      <td>부산광역시 영도구 청학북로</td>\n",
              "      <td>스웨터</td>\n",
              "      <td>부산광역시</td>\n",
              "    </tr>\n",
              "    <tr>\n",
              "      <th>998</th>\n",
              "      <td>양대환</td>\n",
              "      <td>강원도 춘천시 하중도길</td>\n",
              "      <td>남북</td>\n",
              "      <td>강원도</td>\n",
              "    </tr>\n",
              "    <tr>\n",
              "      <th>999</th>\n",
              "      <td>이종봉</td>\n",
              "      <td>충청북도 단양군 여울목2길</td>\n",
              "      <td>해외여행</td>\n",
              "      <td>충청북도</td>\n",
              "    </tr>\n",
              "  </tbody>\n",
              "</table>\n",
              "<p>1000 rows × 4 columns</p>\n",
              "</div>"
            ],
            "text/plain": [
              "      이름                   주소    답안     시도\n",
              "0    류동영        경상북도 청도군 뒷마2길    메뉴   경상북도\n",
              "1    유지수        경상북도 문경시 청암3길   목욕탕   경상북도\n",
              "2    권민식  경기도 안양시 동안구 동편로49번길    야채    경기도\n",
              "..   ...                  ...   ...    ...\n",
              "997  한성균       부산광역시 영도구 청학북로   스웨터  부산광역시\n",
              "998  양대환         강원도 춘천시 하중도길    남북    강원도\n",
              "999  이종봉       충청북도 단양군 여울목2길  해외여행   충청북도\n",
              "\n",
              "[1000 rows x 4 columns]"
            ]
          },
          "execution_count": 26,
          "metadata": {},
          "output_type": "execute_result"
        }
      ],
      "source": [
        "# 주소 열로 시도를 구분하는 열 만들기\n",
        "df_ex1['시도'] = df_ex1['주소'].apply(lambda x:x.split(' ')[0])\n",
        "df_ex1"
      ]
    },
    {
      "cell_type": "code",
      "execution_count": 27,
      "metadata": {
        "colab": {
          "base_uri": "https://localhost:8080/"
        },
        "id": "oj_S9_6DBhmu",
        "outputId": "be99d1c2-897d-417b-e494-f1a7204ae5d9"
      },
      "outputs": [
        {
          "data": {
            "text/plain": [
              "0      False\n",
              "1       True\n",
              "2      False\n",
              "       ...  \n",
              "997     True\n",
              "998    False\n",
              "999    False\n",
              "Name: 답안, Length: 1000, dtype: bool"
            ]
          },
          "execution_count": 27,
          "metadata": {},
          "output_type": "execute_result"
        }
      ],
      "source": [
        "# 불리언 인덱싱의 조건문1. 답안이 세글자이다\n",
        "cond1 = df_ex1['답안'].apply(len) == 3\n",
        "cond1"
      ]
    },
    {
      "cell_type": "code",
      "execution_count": 28,
      "metadata": {
        "colab": {
          "base_uri": "https://localhost:8080/"
        },
        "id": "M64vQw1zB3gO",
        "outputId": "cab37acf-5a61-42b2-f3b5-d60878475b0b"
      },
      "outputs": [
        {
          "data": {
            "text/plain": [
              "0      False\n",
              "1      False\n",
              "2      False\n",
              "       ...  \n",
              "997    False\n",
              "998    False\n",
              "999    False\n",
              "Name: 답안, Length: 1000, dtype: bool"
            ]
          },
          "execution_count": 28,
          "metadata": {},
          "output_type": "execute_result"
        }
      ],
      "source": [
        "# 불리언 인덱싱의 조건문2. 답안이 회문이다\n",
        "cond2 = df_ex1['답안'].apply(lambda x: x[::-1]) == df_ex1['답안']\n",
        "cond2"
      ]
    },
    {
      "cell_type": "code",
      "execution_count": 29,
      "metadata": {
        "colab": {
          "base_uri": "https://localhost:8080/"
        },
        "id": "BsShW_YzB-6A",
        "outputId": "1759d85d-0511-4096-cf1b-50dd8bee6214"
      },
      "outputs": [
        {
          "data": {
            "text/plain": [
              "0      False\n",
              "1      False\n",
              "2      False\n",
              "       ...  \n",
              "997    False\n",
              "998    False\n",
              "999    False\n",
              "Name: 답안, Length: 1000, dtype: bool"
            ]
          },
          "execution_count": 29,
          "metadata": {},
          "output_type": "execute_result"
        }
      ],
      "source": [
        "# 정답은 cond1과 cond2를 모두 만족시켜야 하므로 & 조건이다\n",
        "cond1 & cond2"
      ]
    },
    {
      "cell_type": "code",
      "execution_count": 30,
      "metadata": {
        "colab": {
          "base_uri": "https://localhost:8080/",
          "height": 206
        },
        "id": "_3gOcNaOCHf6",
        "outputId": "ee47a64e-8c1f-45ca-d9ea-dfe4b1624b70"
      },
      "outputs": [
        {
          "data": {
            "text/html": [
              "<div>\n",
              "<style scoped>\n",
              "    .dataframe tbody tr th:only-of-type {\n",
              "        vertical-align: middle;\n",
              "    }\n",
              "\n",
              "    .dataframe tbody tr th {\n",
              "        vertical-align: top;\n",
              "    }\n",
              "\n",
              "    .dataframe thead th {\n",
              "        text-align: right;\n",
              "    }\n",
              "</style>\n",
              "<table border=\"1\" class=\"dataframe\">\n",
              "  <thead>\n",
              "    <tr style=\"text-align: right;\">\n",
              "      <th></th>\n",
              "      <th>이름</th>\n",
              "      <th>주소</th>\n",
              "      <th>답안</th>\n",
              "      <th>시도</th>\n",
              "    </tr>\n",
              "  </thead>\n",
              "  <tbody>\n",
              "    <tr>\n",
              "      <th>35</th>\n",
              "      <td>강승주</td>\n",
              "      <td>서울특별시 용산구 독서당로29길</td>\n",
              "      <td>기러기</td>\n",
              "      <td>서울특별시</td>\n",
              "    </tr>\n",
              "    <tr>\n",
              "      <th>41</th>\n",
              "      <td>백서하</td>\n",
              "      <td>인천광역시 강화군 교동북로169번길</td>\n",
              "      <td>토마토</td>\n",
              "      <td>인천광역시</td>\n",
              "    </tr>\n",
              "    <tr>\n",
              "      <th>57</th>\n",
              "      <td>오우진</td>\n",
              "      <td>서울특별시 노원구 동일로193길</td>\n",
              "      <td>스위스</td>\n",
              "      <td>서울특별시</td>\n",
              "    </tr>\n",
              "    <tr>\n",
              "      <th>617</th>\n",
              "      <td>정성빈</td>\n",
              "      <td>경기도 성남시 분당구 발이봉로11번길</td>\n",
              "      <td>인도인</td>\n",
              "      <td>경기도</td>\n",
              "    </tr>\n",
              "    <tr>\n",
              "      <th>917</th>\n",
              "      <td>차용석</td>\n",
              "      <td>강원도 횡성군 수남로108번길</td>\n",
              "      <td>별똥별</td>\n",
              "      <td>강원도</td>\n",
              "    </tr>\n",
              "  </tbody>\n",
              "</table>\n",
              "</div>"
            ],
            "text/plain": [
              "      이름                    주소   답안     시도\n",
              "35   강승주     서울특별시 용산구 독서당로29길  기러기  서울특별시\n",
              "41   백서하   인천광역시 강화군 교동북로169번길  토마토  인천광역시\n",
              "57   오우진     서울특별시 노원구 동일로193길  스위스  서울특별시\n",
              "617  정성빈  경기도 성남시 분당구 발이봉로11번길  인도인    경기도\n",
              "917  차용석      강원도 횡성군 수남로108번길  별똥별    강원도"
            ]
          },
          "execution_count": 30,
          "metadata": {},
          "output_type": "execute_result"
        }
      ],
      "source": [
        "# 정답만을 필터링\n",
        "df_ex1[cond1 & cond2]"
      ]
    },
    {
      "cell_type": "code",
      "execution_count": 31,
      "metadata": {
        "colab": {
          "base_uri": "https://localhost:8080/"
        },
        "id": "EzX92_ueB68g",
        "outputId": "9885237a-b95d-4cbb-9bb9-866435252aee"
      },
      "outputs": [
        {
          "data": {
            "text/plain": [
              "시도\n",
              "서울특별시    2\n",
              "인천광역시    1\n",
              "경기도      1\n",
              "강원도      1\n",
              "Name: count, dtype: int64"
            ]
          },
          "execution_count": 31,
          "metadata": {},
          "output_type": "execute_result"
        }
      ],
      "source": [
        "# 정답자의 시도를 집계하자\n",
        "df_ex1.loc[cond1 & cond2, '시도'].value_counts()\n",
        "#loc(조건, 추출하려는 열)"
      ]
    },
    {
      "cell_type": "markdown",
      "metadata": {
        "id": "C_trfPUbqBgp"
      },
      "source": [
        "## 6. 문자열 다루기"
      ]
    },
    {
      "cell_type": "markdown",
      "metadata": {},
      "source": [
        "### 학습 목표\n",
        "- 파이썬의 문자열 함수들을 시리즈에 적용한다. (`apply` 함수)\n",
        "- 판다스의 문자열 함수들을 사용한다."
      ]
    },
    {
      "cell_type": "markdown",
      "metadata": {
        "id": "geIkQmKNiXaX"
      },
      "source": [
        "우리는 문자열을 다루는 판다스 함수를 아직 알지 못해서 apply 함수로 파이썬의 문자열 함수를 적용했다 \n",
        "\n",
        "판다스도 문자열을 다루는 함수들이 있다\n",
        "\n",
        "> 판다스 문자열 다루는 함수들의 특징\n",
        "\n",
        "- str 접근자를 사용한다\n",
        "- 시리즈에만 적용된다\n",
        "- 대체로 기본값으로 정규표현식을 사용할 수 있다"
      ]
    },
    {
      "cell_type": "code",
      "execution_count": 32,
      "metadata": {
        "colab": {
          "base_uri": "https://localhost:8080/",
          "height": 175
        },
        "id": "PzbYZImkqJip",
        "outputId": "398790b5-9ce4-4940-cc0c-ff476abddf56"
      },
      "outputs": [
        {
          "data": {
            "text/html": [
              "<div>\n",
              "<style scoped>\n",
              "    .dataframe tbody tr th:only-of-type {\n",
              "        vertical-align: middle;\n",
              "    }\n",
              "\n",
              "    .dataframe tbody tr th {\n",
              "        vertical-align: top;\n",
              "    }\n",
              "\n",
              "    .dataframe thead th {\n",
              "        text-align: right;\n",
              "    }\n",
              "</style>\n",
              "<table border=\"1\" class=\"dataframe\">\n",
              "  <thead>\n",
              "    <tr style=\"text-align: right;\">\n",
              "      <th></th>\n",
              "      <th>A</th>\n",
              "      <th>B</th>\n",
              "      <th>C</th>\n",
              "      <th>D</th>\n",
              "      <th>E</th>\n",
              "    </tr>\n",
              "  </thead>\n",
              "  <tbody>\n",
              "    <tr>\n",
              "      <th>0</th>\n",
              "      <td>mom</td>\n",
              "      <td>cat01</td>\n",
              "      <td>cat-01</td>\n",
              "      <td>cat</td>\n",
              "      <td>cat01</td>\n",
              "    </tr>\n",
              "    <tr>\n",
              "      <th>1</th>\n",
              "      <td>get</td>\n",
              "      <td>dog02</td>\n",
              "      <td>dog-01</td>\n",
              "      <td>dog</td>\n",
              "      <td>01cat</td>\n",
              "    </tr>\n",
              "    <tr>\n",
              "      <th>2</th>\n",
              "      <td>pandas</td>\n",
              "      <td>cow01</td>\n",
              "      <td>rabbit-01</td>\n",
              "      <td>cow</td>\n",
              "      <td>dog01</td>\n",
              "    </tr>\n",
              "    <tr>\n",
              "      <th>3</th>\n",
              "      <td>level</td>\n",
              "      <td>cow02</td>\n",
              "      <td>dog-02</td>\n",
              "      <td>cow</td>\n",
              "      <td>cow01</td>\n",
              "    </tr>\n",
              "  </tbody>\n",
              "</table>\n",
              "</div>"
            ],
            "text/plain": [
              "        A      B          C       D      E\n",
              "0     mom  cat01     cat-01     cat  cat01\n",
              "1     get  dog02     dog-01     dog  01cat\n",
              "2  pandas  cow01  rabbit-01     cow  dog01\n",
              "3   level  cow02     dog-02     cow  cow01"
            ]
          },
          "execution_count": 32,
          "metadata": {},
          "output_type": "execute_result"
        }
      ],
      "source": [
        "# 실습 준비 코드\n",
        "import pandas as pd\n",
        "data = [['mom', 'cat01', 'cat-01', '   cat', 'cat01'], \n",
        "        ['get', 'dog02', 'dog-01', '  dog', '01cat'], \n",
        "        ['pandas', 'cow01', 'rabbit-01', ' cow', 'dog01'], \n",
        "        ['level', 'cow02', 'dog-02',  'cow', 'cow01']]\n",
        "df = pd.DataFrame(data, columns=list('ABCDE'))\n",
        "df"
      ]
    },
    {
      "cell_type": "markdown",
      "metadata": {
        "id": "usWg1cS_1rrT"
      },
      "source": [
        "apply로 파이썬의 문자열 함수를 사용하는 경우와 판다스의 문자열 함수를 사용하는 경우를 모두 실행하니까 결과를 비교해보자"
      ]
    },
    {
      "cell_type": "code",
      "execution_count": 33,
      "metadata": {
        "colab": {
          "base_uri": "https://localhost:8080/"
        },
        "id": "0CwFvc3SiZmb",
        "outputId": "27e7eff4-36b8-4d9e-ddf8-81e456cc5c50"
      },
      "outputs": [
        {
          "name": "stdout",
          "output_type": "stream",
          "text": [
            "0    3\n",
            "1    3\n",
            "2    6\n",
            "3    5\n",
            "Name: A, dtype: int64\n",
            "\n",
            "\n",
            "0    3\n",
            "1    3\n",
            "2    6\n",
            "3    5\n",
            "Name: A, dtype: int64\n"
          ]
        }
      ],
      "source": [
        "# A열의 문자열의 길이\n",
        "print(df['A'].apply(len))\n",
        "print('\\n') # 줄바꿈\n",
        "print(df['A'].str.len()) #apply와 같은 기능을 하는 pandas함수"
      ]
    },
    {
      "cell_type": "code",
      "execution_count": 34,
      "metadata": {
        "colab": {
          "base_uri": "https://localhost:8080/"
        },
        "id": "pdDJQcqR1SCl",
        "outputId": "1cb5ed07-0d3b-40ff-937c-a40ae0fe6be5"
      },
      "outputs": [
        {
          "name": "stdout",
          "output_type": "stream",
          "text": [
            "0    cat\n",
            "1    dog\n",
            "2    cow\n",
            "3    cow\n",
            "Name: B, dtype: object\n",
            "\n",
            "\n",
            "0    cat\n",
            "1    dog\n",
            "2    cow\n",
            "3    cow\n",
            "Name: B, dtype: object\n"
          ]
        }
      ],
      "source": [
        "# B열에서 각 셀마다 앞의 세글자만 슬라이싱\n",
        "print(df['B'].apply(lambda x: x[:3]))\n",
        "print('\\n') # 줄바꿈\n",
        "print(df['B'].str[:3])"
      ]
    },
    {
      "cell_type": "code",
      "execution_count": 35,
      "metadata": {
        "colab": {
          "base_uri": "https://localhost:8080/"
        },
        "id": "pk8vj-On1dUf",
        "outputId": "68958769-83dc-4fe6-b38c-a7fddeb78949"
      },
      "outputs": [
        {
          "name": "stdout",
          "output_type": "stream",
          "text": [
            "0       cat\n",
            "1       dog\n",
            "2    rabbit\n",
            "3       dog\n",
            "Name: C, dtype: object\n",
            "\n",
            "\n",
            "0       cat\n",
            "1       dog\n",
            "2    rabbit\n",
            "3       dog\n",
            "Name: C, dtype: object\n"
          ]
        }
      ],
      "source": [
        "# C열에서 각 셀마다 - 앞 부분을 가져오기\n",
        "print(df['C'].apply(lambda x: x.split('-')[0]))\n",
        "print('\\n') # 줄바꿈\n",
        "print(df['C'].str.split('-').str[0])"
      ]
    },
    {
      "cell_type": "code",
      "execution_count": 36,
      "metadata": {
        "colab": {
          "base_uri": "https://localhost:8080/"
        },
        "id": "Nn5u7MXX2JCT",
        "outputId": "2061bfe9-52a7-4519-e32b-0c704ad6a3c3"
      },
      "outputs": [
        {
          "data": {
            "text/plain": [
              "0     True\n",
              "1    False\n",
              "2    False\n",
              "3    False\n",
              "Name: D, dtype: bool"
            ]
          },
          "execution_count": 36,
          "metadata": {},
          "output_type": "execute_result"
        }
      ],
      "source": [
        "# D열에서 각 셀마다 cat 포함여부를 bool로 만들기 - 판다스 문자열 함수만\n",
        "df['D'].str.contains('cat')"
      ]
    },
    {
      "cell_type": "markdown",
      "metadata": {
        "id": "13ls-xH_iFsJ"
      },
      "source": [
        "정규 표현식에서 \n",
        "\n",
        "```python\n",
        "r'cat|dog'\n",
        "```\n",
        "위는 cat 또는 dog를 의미한다\n",
        "\n"
      ]
    },
    {
      "cell_type": "code",
      "execution_count": 37,
      "metadata": {
        "colab": {
          "base_uri": "https://localhost:8080/"
        },
        "id": "mUjQq3ZO2Zdy",
        "outputId": "cd8573b3-3e3e-44da-8842-9e6b965ff2b2"
      },
      "outputs": [
        {
          "data": {
            "text/plain": [
              "0     True\n",
              "1     True\n",
              "2    False\n",
              "3    False\n",
              "Name: D, dtype: bool"
            ]
          },
          "execution_count": 37,
          "metadata": {},
          "output_type": "execute_result"
        }
      ],
      "source": [
        "# D열에서 cat 또는 dog 포함여부를 bool로 만들기 - 정규표현식\n",
        "df['D'].str.contains(r'cat|dog')"
      ]
    },
    {
      "cell_type": "code",
      "execution_count": 38,
      "metadata": {
        "colab": {
          "base_uri": "https://localhost:8080/"
        },
        "id": "YZ9rCTPN2jMR",
        "outputId": "5888c55b-3af6-46ac-8400-a038cca8ac9e"
      },
      "outputs": [
        {
          "data": {
            "text/plain": [
              "0     True\n",
              "1     True\n",
              "2     True\n",
              "3    False\n",
              "Name: E, dtype: bool"
            ]
          },
          "execution_count": 38,
          "metadata": {},
          "output_type": "execute_result"
        }
      ],
      "source": [
        "# E열에서 각 셀마다 cat 포함여부를 bool로 만들기 - 판다스 문자열 함수만\n",
        "df['E'].str.contains(r'cat|dog')"
      ]
    },
    {
      "cell_type": "markdown",
      "metadata": {
        "id": "rvWtgv7Di7FI"
      },
      "source": [
        "`str.extract` 함수는 반드시 문자열 안에 소괄호로 그룹핑(grouping)을 해야한다"
      ]
    },
    {
      "cell_type": "code",
      "execution_count": 39,
      "metadata": {
        "colab": {
          "base_uri": "https://localhost:8080/",
          "height": 175
        },
        "id": "ygmOCvse2nsE",
        "outputId": "87946cfe-173b-4ab9-8a45-2a08208f5b87"
      },
      "outputs": [
        {
          "data": {
            "text/html": [
              "<div>\n",
              "<style scoped>\n",
              "    .dataframe tbody tr th:only-of-type {\n",
              "        vertical-align: middle;\n",
              "    }\n",
              "\n",
              "    .dataframe tbody tr th {\n",
              "        vertical-align: top;\n",
              "    }\n",
              "\n",
              "    .dataframe thead th {\n",
              "        text-align: right;\n",
              "    }\n",
              "</style>\n",
              "<table border=\"1\" class=\"dataframe\">\n",
              "  <thead>\n",
              "    <tr style=\"text-align: right;\">\n",
              "      <th></th>\n",
              "      <th>0</th>\n",
              "    </tr>\n",
              "  </thead>\n",
              "  <tbody>\n",
              "    <tr>\n",
              "      <th>0</th>\n",
              "      <td>cat</td>\n",
              "    </tr>\n",
              "    <tr>\n",
              "      <th>1</th>\n",
              "      <td>cat</td>\n",
              "    </tr>\n",
              "    <tr>\n",
              "      <th>2</th>\n",
              "      <td>NaN</td>\n",
              "    </tr>\n",
              "    <tr>\n",
              "      <th>3</th>\n",
              "      <td>NaN</td>\n",
              "    </tr>\n",
              "  </tbody>\n",
              "</table>\n",
              "</div>"
            ],
            "text/plain": [
              "     0\n",
              "0  cat\n",
              "1  cat\n",
              "2  NaN\n",
              "3  NaN"
            ]
          },
          "execution_count": 39,
          "metadata": {},
          "output_type": "execute_result"
        }
      ],
      "source": [
        "# E열에서 cat을 가지고 있다면 cat을 추출하기\n",
        "df['E'].str.extract('(cat)') #extract함수는 소괄호로 감싸주기"
      ]
    },
    {
      "cell_type": "code",
      "execution_count": null,
      "metadata": {
        "colab": {
          "base_uri": "https://localhost:8080/",
          "height": 175
        },
        "id": "XR4IUhL12vxJ",
        "outputId": "a7551024-43f2-43c1-cc67-fe82183ffe38"
      },
      "outputs": [],
      "source": [
        "# E열에서 cat 또는 dog를 가지고 있다면 해당 문자열을 추출하기 - 정규표현식\n",
        "df['E'].str.extract(r'(cat|dog)')"
      ]
    },
    {
      "cell_type": "markdown",
      "metadata": {
        "id": "DFGfk0ycmzJA"
      },
      "source": [
        "## 7. 숫자형 자료형으로 바꾸기(to_numeric)"
      ]
    },
    {
      "cell_type": "markdown",
      "metadata": {},
      "source": [
        "### 학습 목표\n",
        "- `astype`이 아닌 `to_numeric`을 쓰는 이유를 이해한다.\n",
        "- `to_numeric` 함수의 에러 처리 방식을 학습한다. (`error` 인자)"
      ]
    },
    {
      "cell_type": "code",
      "execution_count": null,
      "metadata": {
        "colab": {
          "base_uri": "https://localhost:8080/"
        },
        "id": "_nF894qEZ7k0",
        "outputId": "a2755256-abbd-4f5d-c441-b45f6dfba88d"
      },
      "outputs": [],
      "source": [
        "# 실습 준비 코드\n",
        "import pandas as pd\n",
        "s1 = pd.Series(['87', '70', '98', '-'])\n",
        "s1"
      ]
    },
    {
      "cell_type": "markdown",
      "metadata": {
        "id": "jc-5MCwU3S6i"
      },
      "source": [
        "s1의 자료형을 정수로 바꾸려고 `astype`을 사용하면 에러가 발생한다\n",
        "\n",
        "```python\n",
        "s1.astype('int')\n",
        "```\n",
        "\n",
        "\n",
        "> ValueError: invalid literal for int() with base 10: '-'\n",
        "\n",
        "\n",
        "- `astype`은 숫자로 바꿀 수 없는 문자열이 끼어있는 시리즈를 숫자로 바꿀 수 없다\n",
        "\n",
        "- 이때는 `pd.to_numeric` 함수를 사용해야 한다"
      ]
    },
    {
      "cell_type": "code",
      "execution_count": null,
      "metadata": {
        "colab": {
          "base_uri": "https://localhost:8080/"
        },
        "id": "FLaaXJaR3NnO",
        "outputId": "6a05363a-3df6-4a73-889a-415b802998f6"
      },
      "outputs": [],
      "source": [
        "# to_numeric의 errors='coerce'는 바꿀 수 없으면 NaN으로 변환한다\n",
        "pd.to_numeric(s1, errors='coerce')"
      ]
    },
    {
      "cell_type": "code",
      "execution_count": null,
      "metadata": {
        "colab": {
          "base_uri": "https://localhost:8080/"
        },
        "id": "Tm4tJjYD31qr",
        "outputId": "571e1fa9-c361-4563-ade9-32549bcccac2"
      },
      "outputs": [],
      "source": [
        "# errors='ignore'는 바꿀 수 없으면 전체를 바꾸지 않고 그대로 돌려준다\n",
        "pd.to_numeric(s1, errors='ignore')"
      ]
    },
    {
      "cell_type": "markdown",
      "metadata": {
        "id": "C17eJ01RZ-ak"
      },
      "source": [
        "## 8. 데이터 프레임에 apply 사용하기"
      ]
    },
    {
      "cell_type": "markdown",
      "metadata": {},
      "source": [
        "### 학습 목표\n",
        "- `apply` 함수를 데이터 프레임에 적용한다.\n",
        "- `apply` 함수를 적용할 때 축의 의미를 이해한다. (`axis` 인자)"
      ]
    },
    {
      "cell_type": "markdown",
      "metadata": {
        "id": "7x7wsErhogTi"
      },
      "source": [
        "<img src=https://i.ibb.co/BgJ7hL7/05-08.jpg, width=600>"
      ]
    },
    {
      "cell_type": "code",
      "execution_count": null,
      "metadata": {
        "id": "rOEQ1Q-Im4Cr"
      },
      "outputs": [],
      "source": [
        "# 실습 준비 코드\n",
        "import pandas as pd\n",
        "s1 = pd.Series(['87', '70', '98', '-'])\n",
        "data1 = [['87', '-', '70'], ['70', '72', '73'], \n",
        "         ['98', '76', '-'], ['-', '77', '95']]\n",
        "data2 = [[87, 99, 70], [70, 72, 73], [98, 76, 80], [93, 77, 95]]\n",
        "df1 = pd.DataFrame(data1, index=list('ABCD'), columns=['국어', '영어', '수학'])\n",
        "df2 = pd.DataFrame(data2, index=list('ABCD'), columns=['국어', '영어', '수학'])\n",
        "\n",
        "data3 = [['차은우', 'A', '할인'], ['송중기', 'B', '할인'], \n",
        "         ['카리나', 'C', '할인'], ['안유진', 'C', '할인'], \n",
        "         ['이상윤', 'A', '정상가'], ['박효신', 'A', '정상가']]\n",
        "\n",
        "df3 = pd.DataFrame(data3, columns=['이름', '제품', '할인여부'])\n",
        "df4 = pd.DataFrame([[5000, 4000], [1200, 1000], [2000, 1500]], \n",
        "                   index=list('ABC'), columns=['정상가', '할인'])"
      ]
    },
    {
      "cell_type": "markdown",
      "metadata": {
        "id": "rzjhHFryMnbM"
      },
      "source": [
        "**s1을 숫자형 자료형으로 바꾸어라**\n",
        "- `astype`으로는 '-'을 숫자로 바꿀 수 없기때문에 불가능하다 \n",
        "- `pd.to_numeric` 함수를 사용하면 숫자로 바꿀 수 없는 값은 NaN으로 바꿀 수 있다(`errors='coerce'`)\n",
        "- `pd.to_numeric` 함수는 시리즈에만 사용가능한 함수이다 (데이터프레임에는 불가)"
      ]
    },
    {
      "cell_type": "code",
      "execution_count": null,
      "metadata": {
        "colab": {
          "base_uri": "https://localhost:8080/"
        },
        "id": "GFCE9mYbN8cG",
        "outputId": "77fcec2b-0096-4532-9ea0-e36b3edbf39a"
      },
      "outputs": [],
      "source": [
        "s1"
      ]
    },
    {
      "cell_type": "code",
      "execution_count": null,
      "metadata": {
        "colab": {
          "base_uri": "https://localhost:8080/"
        },
        "id": "Ji1WVBzfN98Y",
        "outputId": "410490d4-5874-4f9d-aef0-b3f9219790ac"
      },
      "outputs": [],
      "source": [
        "pd.to_numeric(s1, errors='coerce')"
      ]
    },
    {
      "cell_type": "markdown",
      "metadata": {
        "id": "4xkxGzPyOeSL"
      },
      "source": [
        "**데이터 프레임인 df1을 숫자형으로 바꾸어라** \n",
        "- 시리즈에만 적용되는 `pd.to_numeric` 함수를 `apply`로 데이터 프레임 전체에 적용하면 된다"
      ]
    },
    {
      "cell_type": "code",
      "execution_count": null,
      "metadata": {
        "colab": {
          "base_uri": "https://localhost:8080/",
          "height": 175
        },
        "id": "jNxN3ycAObEL",
        "outputId": "8d5a464a-0bcb-4f57-ea87-06dbd24692dc"
      },
      "outputs": [],
      "source": [
        "df1"
      ]
    },
    {
      "cell_type": "code",
      "execution_count": null,
      "metadata": {
        "colab": {
          "base_uri": "https://localhost:8080/",
          "height": 175
        },
        "id": "z5VCRxldOlOk",
        "outputId": "c501a6a9-6dd0-4776-b97c-8bac795d266c"
      },
      "outputs": [],
      "source": [
        "# 시리즈에만 적용되는 pd.to_numeric을 데이터프레임에 적용하려면 apply가 필요\n",
        "df1.apply(pd.to_numeric, errors='coerce')"
      ]
    },
    {
      "cell_type": "code",
      "execution_count": null,
      "metadata": {
        "colab": {
          "base_uri": "https://localhost:8080/"
        },
        "id": "V-CpBZV9OyeL",
        "outputId": "fccb9984-8efa-4fbf-9999-ebb02d62995e"
      },
      "outputs": [],
      "source": [
        "# 자료형이 잘 바뀐건지 확인\n",
        "df1.apply(pd.to_numeric, errors='coerce').info()"
      ]
    },
    {
      "cell_type": "markdown",
      "metadata": {
        "id": "LHNdTvuA0hGn"
      },
      "source": [
        "**데이터 프레임에 apply를 적용할 때 축에 따라 다르게 적용된다**"
      ]
    },
    {
      "cell_type": "code",
      "execution_count": null,
      "metadata": {
        "colab": {
          "base_uri": "https://localhost:8080/",
          "height": 175
        },
        "id": "GDxZkpSYyP9N",
        "outputId": "5a972949-cfd4-4389-98a3-c71d4887b1ea"
      },
      "outputs": [],
      "source": [
        "df2"
      ]
    },
    {
      "cell_type": "code",
      "execution_count": null,
      "metadata": {
        "colab": {
          "base_uri": "https://localhost:8080/"
        },
        "id": "31afBDoeyS2Q",
        "outputId": "b10253cb-f18d-47e0-993b-ff480461dee5"
      },
      "outputs": [],
      "source": [
        "# 데이터 프레임에 apply를 적용할 때 축에 따라 다르게 적용된다\n",
        "print(df2.apply(sum))\n",
        "print('\\n') # 줄바꿈\n",
        "print(df2.apply(sum, axis=1))"
      ]
    },
    {
      "cell_type": "markdown",
      "metadata": {
        "id": "_EKvsA_Sy3mY"
      },
      "source": [
        "위 예시에 `sum`을 이용한 것은  축에 따른 `apply`를 여러분께 보여주기 위한 것이다 \n",
        "\n",
        "`sum`은 데이터프레임에 적용하면 시리즈 별로 적용하는 함수이므로 굳이 `apply`와 적용할 필요가 없다"
      ]
    },
    {
      "cell_type": "code",
      "execution_count": null,
      "metadata": {
        "colab": {
          "base_uri": "https://localhost:8080/"
        },
        "id": "4e3MV9gsysYp",
        "outputId": "03957aad-8501-4bee-f11f-f58dfea563f5"
      },
      "outputs": [],
      "source": [
        "# sum은 apply가 필요한 함수는 아니다\n",
        "print(df2.sum())\n",
        "print('\\n') # 줄바꿈\n",
        "print(df2.sum(axis=1)) "
      ]
    },
    {
      "cell_type": "markdown",
      "metadata": {
        "id": "FtjnbNmgzJXa"
      },
      "source": [
        "축에 따라 달리 적용되는 것을 더 명확하게 확인하기 위해 시리즈를 슬라이싱하는 사용자 정의 함수를 만들자"
      ]
    },
    {
      "cell_type": "code",
      "execution_count": null,
      "metadata": {
        "colab": {
          "base_uri": "https://localhost:8080/",
          "height": 112
        },
        "id": "KfjnXzlQyfQ7",
        "outputId": "6422b56d-d8a8-4d56-b2f4-44061e4189f7"
      },
      "outputs": [],
      "source": [
        "# axis=0일 때 슬라이싱\n",
        "df2.apply(lambda x: x[:2])"
      ]
    },
    {
      "cell_type": "code",
      "execution_count": null,
      "metadata": {
        "colab": {
          "base_uri": "https://localhost:8080/",
          "height": 175
        },
        "id": "EzPBbF_OykBO",
        "outputId": "61ba842e-055e-4fd3-c282-e1c65e4eaf0e"
      },
      "outputs": [],
      "source": [
        "# axis=1일 때 슬라이싱\n",
        "df2.apply(lambda x: x[:2], axis=1)"
      ]
    },
    {
      "cell_type": "markdown",
      "metadata": {
        "id": "yKs2dFU30YH-"
      },
      "source": [
        "**둘 이상의 열에 행단위로 함수를 적용할 때도 데이터프레임에 apply를 적용할 수 있다**"
      ]
    },
    {
      "cell_type": "code",
      "execution_count": null,
      "metadata": {
        "colab": {
          "base_uri": "https://localhost:8080/",
          "height": 238
        },
        "id": "9PHWJMPM46j6",
        "outputId": "56e2b729-7090-4705-f784-a682a0e7b109"
      },
      "outputs": [],
      "source": [
        "df3"
      ]
    },
    {
      "cell_type": "code",
      "execution_count": null,
      "metadata": {
        "colab": {
          "base_uri": "https://localhost:8080/",
          "height": 238
        },
        "id": "N4FX6s510nRQ",
        "outputId": "fb434ad7-82cd-484e-a18c-d9f5bc41c02a"
      },
      "outputs": [],
      "source": [
        "# df3는 df2에서 구매된 상품들의 가격을 나타내는 데이터프레임이다\n",
        "df3"
      ]
    },
    {
      "cell_type": "code",
      "execution_count": null,
      "metadata": {
        "colab": {
          "base_uri": "https://localhost:8080/"
        },
        "id": "RHPjJCbNpo5O",
        "outputId": "e18d22b3-d2fe-4f9a-df1a-e5901d56ce59"
      },
      "outputs": [],
      "source": [
        "# apply를 이용해 두개 이상의 열에 행단위로 함수를 적용할 수 있다\n",
        "df3.apply(lambda x: df4.loc[x['제품'], x['할인여부']], axis=1)"
      ]
    },
    {
      "cell_type": "code",
      "execution_count": null,
      "metadata": {
        "colab": {
          "base_uri": "https://localhost:8080/",
          "height": 238
        },
        "id": "XZA-BvJsp19I",
        "outputId": "91f6a2d9-f0d8-4a0b-a1f2-a9525d9025df"
      },
      "outputs": [],
      "source": [
        "# 위 결과를 가격열로 만들자\n",
        "df3['가격'] = df3.apply(lambda x: df4.loc[x['제품'], x['할인여부']], axis=1)\n",
        "df3"
      ]
    }
  ],
  "metadata": {
    "colab": {
      "provenance": []
    },
    "kernelspec": {
      "display_name": "Python 3",
      "name": "python3"
    },
    "language_info": {
      "codemirror_mode": {
        "name": "ipython",
        "version": 3
      },
      "file_extension": ".py",
      "mimetype": "text/x-python",
      "name": "python",
      "nbconvert_exporter": "python",
      "pygments_lexer": "ipython3",
      "version": "3.8.6"
    }
  },
  "nbformat": 4,
  "nbformat_minor": 0
}
