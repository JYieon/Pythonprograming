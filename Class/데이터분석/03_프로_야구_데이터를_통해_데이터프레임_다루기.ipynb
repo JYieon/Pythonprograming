{
  "cells": [
    {
      "cell_type": "markdown",
      "metadata": {
        "id": "N3WpmR8rVZZx"
      },
      "source": [
        "# Ch03. 프로 야구 데이터를 통해 데이터프레임 다루기"
      ]
    },
    {
      "cell_type": "markdown",
      "metadata": {
        "id": "QPY8wGGhy9-6"
      },
      "source": [
        "\n",
        "> KBO 데이터를 이용해 최정 선수의 일별 누적 장타율 구하기\n",
        " \n",
        "\n"
      ]
    },
    {
      "cell_type": "markdown",
      "metadata": {
        "id": "1HWx_5-BVR2O"
      },
      "source": [
        "## 1. 웹크롤링 결과를 데이터프레임으로 불러오기 (read_html)"
      ]
    },
    {
      "cell_type": "markdown",
      "metadata": {},
      "source": [
        "### 학습 목표\n",
        "- 웹 페이지에서 표를 데이터 프레임으로 불러온다. (`read_html` 함수)\n",
        "- 불러온 여러개의 표를 하나로 결합한다. (`concat` 함수)"
      ]
    },
    {
      "cell_type": "markdown",
      "metadata": {
        "id": "Bq15VolnRHaz"
      },
      "source": [
        "\n",
        "\n",
        "> pandas read_html\n",
        "\n",
        "웹페이지의 테이블을 데이터프레임으로 불러오는 함수. 리스트에 데이터프레임을 담아준다.\n",
        "\n",
        "\n",
        "---\n",
        "\n",
        "\n",
        "**io**\n",
        "\n",
        "웹페이지의 경로명\n",
        "\n",
        "**match** (인수는 문자열 혹은 정규표현식 / 기본값은 ‘.+’ )\n",
        "\n",
        "테이블 중에서 특정 문자열을 포함한 테이블을 지정하는 인자. 기본값은 빈 문자열을 제외한 모든 문자열이다.(지정하지 않으면 문자열이 포함된 모든 테이블을 가져온다)\n",
        "\n",
        "**header** (인수는 정수, 정수의 리스트 / 기본값은 None)\n",
        "\n",
        "columns를 지정하는 인자. 리스트로 지정하면 멀티 인덱스인 columns가 된다. \n",
        "\n",
        "**index_col** (인수는 정수, 정수의 리스트 / 기본값은 None)\n",
        "\n",
        "index를 지정하는 인자. 지정하지 않으면 RangeIndex가 index로 부여된다. 리스트로 지정하면 멀티 인덱스인 index가 된다.\n",
        "\n",
        "[read_html 판다스 공식문서](https://pandas.pydata.org/docs/reference/api/pandas.read_html.html)"
      ]
    },
    {
      "cell_type": "code",
      "execution_count": null,
      "metadata": {
        "id": "TN3IvKnKWBo2"
      },
      "outputs": [],
      "source": [
        "import pandas as pd\n",
        "pd.options.display.max_rows = 6 \n",
        "pd.options.display.float_format = '{:.2f}'.format # 소수점 2자리까지만 출력\n",
        "import sys\n",
        "!{sys.executable} -m pip install lxml"
      ]
    },
    {
      "cell_type": "code",
      "execution_count": null,
      "metadata": {
        "colab": {
          "base_uri": "https://localhost:8080/"
        },
        "id": "npH9xTVdVp_X",
        "outputId": "8db0ad5e-b268-4f86-8d4f-865117afffb8"
      },
      "outputs": [],
      "source": [
        "# 해당 웹사이트의 모든 표를 데이터프레임으로 만들어 리스트에 담아준다\n",
        "url = 'https://www.koreabaseball.com/Record/Player/HitterDetail/Daily.aspx?playerId=75847'\n",
        "dfs = pd.read_html(url)\n",
        "dfs"
      ]
    },
    {
      "cell_type": "code",
      "execution_count": null,
      "metadata": {
        "colab": {
          "base_uri": "https://localhost:8080/",
          "height": 298
        },
        "id": "K1HjTyPgWxTq",
        "outputId": "18543d28-6936-4822-e757-32fe7b346e14"
      },
      "outputs": [],
      "source": [
        "# 데이터프레임의 리스트에서 첫번째 데이터프레임만 불러올 때\n",
        "dfs[0]"
      ]
    },
    {
      "cell_type": "code",
      "execution_count": null,
      "metadata": {
        "colab": {
          "base_uri": "https://localhost:8080/",
          "height": 342
        },
        "id": "qP1clfwULAth",
        "outputId": "bf2de3f9-e81e-4438-95df-48aae5a68e1d"
      },
      "outputs": [],
      "source": [
        "# dfs의 모든 데이터프레임의 날짜 열의 이름이 달라 concat로는 outer join을 한다\n",
        "pd.concat(dfs)"
      ]
    },
    {
      "cell_type": "code",
      "execution_count": null,
      "metadata": {
        "colab": {
          "base_uri": "https://localhost:8080/",
          "height": 298
        },
        "id": "exjwq_KvLP_8",
        "outputId": "55227b71-8660-4fc8-b6ae-a79c690e740f"
      },
      "outputs": [],
      "source": [
        "# 열의 이름이 다른 날짜에 해당 하는 열을 index로 만들어 dfs를 부르고 concat를 하자\n",
        "dfs = pd.read_html(url, index_col=0)\n",
        "pd.concat(dfs)"
      ]
    },
    {
      "cell_type": "code",
      "execution_count": null,
      "metadata": {
        "colab": {
          "base_uri": "https://localhost:8080/",
          "height": 298
        },
        "id": "pv5f_rVVJHuF",
        "outputId": "f2f18bba-2a94-4eb6-e101-37fc5ffe4293"
      },
      "outputs": [],
      "source": [
        "# 결과를 변수 df_ex1으로 지정하자 (메인 프로젝트 코드)\n",
        "df_ex1 = pd.concat(dfs)\n",
        "df_ex1"
      ]
    },
    {
      "cell_type": "markdown",
      "metadata": {
        "id": "rkM3Y_w6Lpsk"
      },
      "source": [
        "## 2. 데이터프레임의 정보 파악하기"
      ]
    },
    {
      "cell_type": "markdown",
      "metadata": {},
      "source": [
        "### 학습 목표\n",
        "- 함수와 속성들로 데이터 프레임의 정보를 파악한다. (`info`, `describe` 등)"
      ]
    },
    {
      "cell_type": "markdown",
      "metadata": {
        "id": "C9RSypkQSw5U"
      },
      "source": [
        "<img src=https://i.ibb.co/9qVKL78/01.png, width=400>"
      ]
    },
    {
      "cell_type": "code",
      "execution_count": null,
      "metadata": {
        "colab": {
          "base_uri": "https://localhost:8080/",
          "height": 298
        },
        "id": "5HlFCKbKL51f",
        "outputId": "92f75210-c2ad-48b6-936f-5d8f545665ce"
      },
      "outputs": [],
      "source": [
        "# 프로젝트 코드\n",
        "import pandas as pd\n",
        "pd.options.display.max_rows = 6 \n",
        "pd.options.display.float_format = '{:.2f}'.format\n",
        "url = 'https://www.koreabaseball.com/Record/Player/HitterDetail/Daily.aspx?playerId=75847'\n",
        "dfs = pd.read_html(url, index_col=0)\n",
        "df_ex1 = pd.concat(dfs)\n",
        "df_ex1"
      ]
    },
    {
      "cell_type": "code",
      "execution_count": null,
      "metadata": {
        "colab": {
          "base_uri": "https://localhost:8080/"
        },
        "id": "hIbwxW9T9T_f",
        "outputId": "087f3c80-884d-4e6e-d8fe-84b24e75bdc3"
      },
      "outputs": [],
      "source": [
        "# index 확인하기\n",
        "# 합계 열도 모두 합쳐져서 index가 되었다. 추후에 합계 열을 제거해야 한다\n",
        "df_ex1.index"
      ]
    },
    {
      "cell_type": "code",
      "execution_count": null,
      "metadata": {
        "colab": {
          "base_uri": "https://localhost:8080/"
        },
        "id": "ETBPTwK5axON",
        "outputId": "80653306-fec9-4ff0-d6c6-eab6fb5fe42f"
      },
      "outputs": [],
      "source": [
        "# columns 확인하기\n",
        "df_ex1.columns"
      ]
    },
    {
      "cell_type": "code",
      "execution_count": null,
      "metadata": {
        "colab": {
          "base_uri": "https://localhost:8080/"
        },
        "id": "ZtdSXXjp9iAb",
        "outputId": "d7dd70e4-bfd7-4599-c2a8-33a2614a62b7"
      },
      "outputs": [],
      "source": [
        "# PA 타석, AB 타수, R 득점, H 안타, 2B 2루타, 3B 3루타, HR 홈런, RBI 타점\n",
        "# SB 도루, CS 도루실패, BB 볼넷, HBP 몸에 맞는 볼, SO 삼진, GDP 병살타, AVG2 시즌누적타율\n",
        "df_ex1.info()"
      ]
    },
    {
      "cell_type": "code",
      "execution_count": null,
      "metadata": {
        "colab": {
          "base_uri": "https://localhost:8080/"
        },
        "id": "Gy4N3jRmA31B",
        "outputId": "db262e06-b507-420e-f190-ff94d0f5b915"
      },
      "outputs": [],
      "source": [
        "# 데이터 프레임 크기 파악하기\n",
        "df_ex1.shape"
      ]
    },
    {
      "cell_type": "code",
      "execution_count": null,
      "metadata": {
        "colab": {
          "base_uri": "https://localhost:8080/"
        },
        "id": "KmllwHodSGrE",
        "outputId": "d18bce47-b12c-4a76-f752-54648654a264"
      },
      "outputs": [],
      "source": [
        "# 데이터 프레임의 행의 수(주로 코드에 넣을 때)\n",
        "df_ex1.shape[0]"
      ]
    },
    {
      "cell_type": "code",
      "execution_count": null,
      "metadata": {
        "colab": {
          "base_uri": "https://localhost:8080/"
        },
        "id": "hwAAgmw9A8N0",
        "outputId": "a98926e7-5512-4e44-87d1-77b9d220d1dd"
      },
      "outputs": [],
      "source": [
        "# 데이터 프레임 각 열의 dtype\n",
        "# object: 문자열 혹은 문자열과 다른 데이터 타입이 섞여 있는 경우\n",
        "df_ex1.dtypes"
      ]
    },
    {
      "cell_type": "code",
      "execution_count": null,
      "metadata": {
        "colab": {
          "base_uri": "https://localhost:8080/",
          "height": 364
        },
        "id": "jES9ywyVH-X1",
        "outputId": "8926abba-5b67-4196-c107-2aca3976323c"
      },
      "outputs": [],
      "source": [
        "# 숫자 열들의 기본적인 통계자료\n",
        "pd.options.display.max_rows = 8 # 판다스 버전업에 따라 8행만 출력의 바뀐 코드\n",
        "pd.options.display.float_format = '{:.2f}'.format\n",
        "df_ex1.describe()"
      ]
    },
    {
      "cell_type": "code",
      "execution_count": null,
      "metadata": {
        "colab": {
          "base_uri": "https://localhost:8080/"
        },
        "id": "vfzUuQO7Atkl",
        "outputId": "03bb65ac-72f1-48fd-cf61-2502e0e15ae9"
      },
      "outputs": [],
      "source": [
        "# 고유값\n",
        "df_ex1['AB'].unique()"
      ]
    },
    {
      "cell_type": "markdown",
      "metadata": {
        "id": "f1u5jgvkSgyT"
      },
      "source": [
        "## 3. 데이터프레임의 인덱싱과 슬라이싱 (loc와 iloc)"
      ]
    },
    {
      "cell_type": "markdown",
      "metadata": {},
      "source": [
        "### 학습 목표\n",
        "- 데이터 프레임의 인덱싱과 슬라이싱을 해본다. (`[ ]`, `loc` 인덱서, `iloc` 인덱서)\n",
        "- 행이나 열을 삭제한다. (`drop` 함수)"
      ]
    },
    {
      "cell_type": "markdown",
      "metadata": {
        "id": "pGpS2MxoHj--"
      },
      "source": [
        "<img src=https://i.ibb.co/zJYNK4q/image.jpg, width=600>"
      ]
    },
    {
      "cell_type": "code",
      "execution_count": null,
      "metadata": {
        "colab": {
          "base_uri": "https://localhost:8080/",
          "height": 175
        },
        "id": "yTgK1VBuYNKJ",
        "outputId": "f2b1d86a-74c8-46c4-85da-d5ad9cb295c6"
      },
      "outputs": [],
      "source": [
        "# 실습 준비코드\n",
        "data = [[1, 3, 1, 0, 4, 1], [6, 5, 8, 9, 0, 3],[7, 6, 2, 3, 4, 8], [9, 0, 2, 0, 6, 5]]\n",
        "df = pd.DataFrame(data, index=list('가나다라'), columns=list('ABCDEF'))\n",
        "df"
      ]
    },
    {
      "cell_type": "code",
      "execution_count": null,
      "metadata": {
        "colab": {
          "base_uri": "https://localhost:8080/",
          "height": 143
        },
        "id": "1yLd89Xx_lHB",
        "outputId": "6b3ab738-5396-4d89-e24a-d3196fd12c29"
      },
      "outputs": [],
      "source": [
        "# 대괄호 인덱싱 (각기 실행해보세요)\n",
        "df['A'] # A열\n",
        "df[['A', 'C']] # A열과 C열\n",
        "df['가':'다'] # 가행부터 다행까지 슬라이싱"
      ]
    },
    {
      "cell_type": "code",
      "execution_count": null,
      "metadata": {
        "colab": {
          "base_uri": "https://localhost:8080/",
          "height": 143
        },
        "id": "AQpnlHH2_6YJ",
        "outputId": "f8620fc0-e62d-4a96-89de-22119d0953a5"
      },
      "outputs": [],
      "source": [
        "# loc 인덱싱 (각기 실행해보세요)\n",
        "df.loc['가', 'A'] # 가 행의 A열\n",
        "df.loc[['가', '나'], ['A', 'C']] # 가, 나 행과 A열과 C열\n",
        "df.loc[['가', '나'], ['A', 'B', 'C']] # 가, 나 행과 A열과 B열과 C열 (인덱싱)\n",
        "df.loc[['가', '나'], 'A':'C'] # 가, 나 행과 A열과 B열과 C열 (슬라이싱)\n",
        "df.loc[['가', '나'], 'B':] # 가, 나 행과 B열에서 끝까지\n",
        "df.loc['가':'다', :] # 가행부터 다행까지 열은 전부\n",
        "df.loc['가':'다'] # 가행부터 다행까지 열은 전부"
      ]
    },
    {
      "cell_type": "code",
      "execution_count": null,
      "metadata": {
        "colab": {
          "base_uri": "https://localhost:8080/",
          "height": 112
        },
        "id": "0xydN6PxA1XD",
        "outputId": "63faebf4-a794-4f37-dbce-c2e8396a290c"
      },
      "outputs": [],
      "source": [
        "# iloc 인덱싱 (각기 실행해보세요)\n",
        "df.iloc[0, :] # 첫번째 행\n",
        "df.iloc[0] # 첫번째 행\n",
        "df.iloc[:3, 2:] # 시작부터 다행까지 C열부터 끝까지\n",
        "df.iloc[[0, 1], 2:] # 가행과 나행 C열부터 끝까지"
      ]
    },
    {
      "cell_type": "markdown",
      "metadata": {
        "id": "NgepDol-VIoM"
      },
      "source": [
        "> pandas drop\n",
        "\n",
        "데이터 프레임의 행이나 열을 삭제하는 함수\n",
        "\n",
        "---\n",
        "**labels** (인수는 레이블 혹은 리스트)\n",
        "\n",
        "드롭할 행의 레이블(이름)이나 열의 레이블. 복수라면 리스트 로 묶어서 입력한다.\n",
        "\n",
        "**axis** (인수는 0 또는 1/기본값은 0)\n",
        "\n",
        "삭제할 부분이 행인지 열인지를 지정하는 인자. 기본값은 0이고 행을 삭제한다\n",
        "\n",
        "**level** (멀티 인덱스의 레벨 / 기본값은 None)\n",
        "\n",
        "멀티인덱스일 때 삭제할 레벨을 지정하는 인자\n",
        "\n",
        "[drop 판다스 공식문서](https://pandas.pydata.org/docs/reference/api/pandas.DataFrame.drop.html)\n"
      ]
    },
    {
      "cell_type": "code",
      "execution_count": null,
      "metadata": {
        "colab": {
          "base_uri": "https://localhost:8080/",
          "height": 175
        },
        "id": "f7L30VNnBNwU",
        "outputId": "c0a50195-02eb-4852-a0ff-ab5335b34084"
      },
      "outputs": [],
      "source": [
        "# D열만 빼고 모두 가져오기\n",
        "df[['A', 'B', 'C', 'E', 'F']] # 인덱싱으로는 번거롭다\n",
        "df.drop('D', axis=1) # 삭제가 더 편리하다"
      ]
    },
    {
      "cell_type": "code",
      "execution_count": null,
      "metadata": {
        "colab": {
          "base_uri": "https://localhost:8080/",
          "height": 112
        },
        "id": "rNWQnFkOBWyR",
        "outputId": "c33f47b5-1713-476e-b3b7-b508376aefb8"
      },
      "outputs": [],
      "source": [
        "# 행은 나와 다 그리고 열은 C열만 빼고 다 가져오기\n",
        "df.loc[['나', '다'], ['A', 'B', 'D', 'E', 'F']]"
      ]
    },
    {
      "cell_type": "code",
      "execution_count": null,
      "metadata": {
        "colab": {
          "base_uri": "https://localhost:8080/",
          "height": 112
        },
        "id": "DjRA5XMQBmeB",
        "outputId": "7e342ee3-2137-4f7b-e9a2-fbed37fd1a2c"
      },
      "outputs": [],
      "source": [
        "# 인덱싱만 하는것보다 인덱싱과 drop 함수를 섞는 것이 편리할 때가 많다\n",
        "df.loc[['나', '다']].drop('C', axis=1)"
      ]
    },
    {
      "cell_type": "code",
      "execution_count": null,
      "metadata": {
        "colab": {
          "base_uri": "https://localhost:8080/",
          "height": 298
        },
        "id": "JjOZpHDVdF-6",
        "outputId": "ac6452e3-b90a-49e0-afd8-e8a73a589b38"
      },
      "outputs": [],
      "source": [
        "# 프로젝트 코드\n",
        "import pandas as pd\n",
        "pd.options.display.max_rows = 6 \n",
        "pd.options.display.float_format = '{:.3f}'.format\n",
        "url = 'https://www.koreabaseball.com/Record/Player/HitterDetail/Daily.aspx?playerId=75847'\n",
        "dfs = pd.read_html(url, index_col=0)\n",
        "df_ex1 = pd.concat(dfs)\n",
        "df_ex1"
      ]
    },
    {
      "cell_type": "code",
      "execution_count": null,
      "metadata": {
        "colab": {
          "base_uri": "https://localhost:8080/",
          "height": 298
        },
        "id": "mkaIVNMjbZ7w",
        "outputId": "2d61b026-5444-4983-d564-5cf81e450c9d"
      },
      "outputs": [],
      "source": [
        "# 장타율을 구하는데 필요한 열만 인덱싱하고 합계행을 삭제한다\n",
        "df_ex2 = df_ex1[['AB', 'H', '2B', '3B', 'HR']].drop('합계')\n",
        "df_ex2"
      ]
    },
    {
      "cell_type": "markdown",
      "metadata": {
        "id": "1L9TANgLSrK9"
      },
      "source": [
        "## 4. 데이터프레임과 시리즈의 연산"
      ]
    },
    {
      "cell_type": "markdown",
      "metadata": {},
      "source": [
        "### 학습 목표\n",
        "- 데이터 프레임과 시리즈의 연산의 특징을 이해한다."
      ]
    },
    {
      "cell_type": "markdown",
      "metadata": {
        "id": "K8y4bWteIm_A"
      },
      "source": [
        "<img src=https://i.ibb.co/GQ5cZxj/image.jpg, width=600>"
      ]
    },
    {
      "cell_type": "code",
      "execution_count": null,
      "metadata": {
        "id": "e-Sv_8WiKOzP"
      },
      "outputs": [],
      "source": [
        "# 실습준비 코드\n",
        "import pandas as pd\n",
        "s1 = pd.Series([0, 1, 2, 3], index=list('ABCD'))\n",
        "s2 = pd.Series([2, 3, 4, 5], index=list('ABCD'))\n",
        "s3 = pd.Series([2, 3, 4], index=list('CAD'))\n",
        "df1 = pd.DataFrame([[50, 40], [60, 70], [90, 70], [40, 20]], \n",
        "                   index=list('ABCD'), columns=['국어', '영어'])\n",
        "df2 = pd.DataFrame([[50, 60], [40, 70], [80, 70], [40, 90]], \n",
        "                   index=list('BADC'), columns=['국어', '영어'])"
      ]
    },
    {
      "cell_type": "code",
      "execution_count": null,
      "metadata": {
        "colab": {
          "base_uri": "https://localhost:8080/"
        },
        "id": "9O9udSNnfaob",
        "outputId": "0a9753d0-27f6-41c4-c0e0-2d10e2d4e6ae"
      },
      "outputs": [],
      "source": [
        "# 시리즈와 스칼라(상수)의 연산 (각각 실행해보세요)\n",
        "s1 + 1\n",
        "s1 * 2"
      ]
    },
    {
      "cell_type": "code",
      "execution_count": null,
      "metadata": {
        "colab": {
          "base_uri": "https://localhost:8080/"
        },
        "id": "VMxySltqfk80",
        "outputId": "772417ca-da5c-4339-a4d1-e2db28c51b19"
      },
      "outputs": [],
      "source": [
        "# 시리즈와 스칼라(상수)의 비교연산\n",
        "s1 > 2"
      ]
    },
    {
      "cell_type": "code",
      "execution_count": null,
      "metadata": {
        "colab": {
          "base_uri": "https://localhost:8080/"
        },
        "id": "sgvK5PUAfpu-",
        "outputId": "fc6ad664-d69e-4230-839e-8b9e449b773a"
      },
      "outputs": [],
      "source": [
        "# 시리즈와 시리즈의 연산\n",
        "s1 + s2"
      ]
    },
    {
      "cell_type": "code",
      "execution_count": null,
      "metadata": {
        "colab": {
          "base_uri": "https://localhost:8080/"
        },
        "id": "neZuIUY8fuAp",
        "outputId": "015ae760-5d7a-4c5c-cdf4-36b8246c1ccb"
      },
      "outputs": [],
      "source": [
        "# 시리즈와 시리즈의 연산 (인덱스의 구성이 서로 다를 때)\n",
        "s1 + s3"
      ]
    },
    {
      "cell_type": "code",
      "execution_count": null,
      "metadata": {
        "colab": {
          "base_uri": "https://localhost:8080/",
          "height": 175
        },
        "id": "NuHBRllFfx2u",
        "outputId": "4e7f77cf-b1e6-4d98-d945-7d28379b20f1"
      },
      "outputs": [],
      "source": [
        "# 데이터 프레임과 스칼라(상수)의 연산 (각각 실행해 보세요)\n",
        "df1 + 1\n",
        "df1 == 70"
      ]
    },
    {
      "cell_type": "code",
      "execution_count": null,
      "metadata": {
        "colab": {
          "base_uri": "https://localhost:8080/",
          "height": 175
        },
        "id": "pkI2HrL-f4if",
        "outputId": "11d9d3a1-819e-45af-aff8-19511c74136f"
      },
      "outputs": [],
      "source": [
        "# 데이터 프레임과 데이터 프레임의 연산\n",
        "df1 + df2"
      ]
    },
    {
      "cell_type": "code",
      "execution_count": null,
      "metadata": {
        "colab": {
          "base_uri": "https://localhost:8080/"
        },
        "id": "ZX8XHCgDf7dy",
        "outputId": "bf77ddd0-b68d-489c-c9c3-826e64ba8e58"
      },
      "outputs": [],
      "source": [
        "# 데이터 프레임의 열간의 연산(시리즈의 연산)\n",
        "df1['국어'] + df1['영어']"
      ]
    },
    {
      "cell_type": "markdown",
      "metadata": {
        "id": "oEMbWkUfgA-i"
      },
      "source": [
        "## 5. 열 다루기"
      ]
    },
    {
      "cell_type": "markdown",
      "metadata": {},
      "source": [
        "### 학습 목표\n",
        "- 데이터 프레임에서 배정 방식으로 열을 생성한다.\n",
        "- 데이터 프레임에서 배정 방식으로 열을 수정한다."
      ]
    },
    {
      "cell_type": "code",
      "execution_count": null,
      "metadata": {
        "colab": {
          "base_uri": "https://localhost:8080/",
          "height": 175
        },
        "id": "-Xr9cHYEgH7c",
        "outputId": "7f2fad9a-818f-4dd1-fae3-04fa026d3385"
      },
      "outputs": [],
      "source": [
        "# 실습준비 코드\n",
        "import pandas as pd\n",
        "dict1 = {'A': 1, 'B': 2, 'C': 4}\n",
        "df1 = pd.DataFrame([[50, 40], [60, 70], [90, 70], [40, 20]], \n",
        "                   index=list('ABCD'), columns=['국어', '영어'])\n",
        "df2 = pd.DataFrame([[50, 60], [40, 70], [80, 70], [40, 90]], \n",
        "                   index=list('BADC'), columns=['국어', '영어'])\n",
        "df1"
      ]
    },
    {
      "cell_type": "code",
      "execution_count": null,
      "metadata": {
        "colab": {
          "base_uri": "https://localhost:8080/",
          "height": 175
        },
        "id": "SBvWHbhg8cLl",
        "outputId": "faf10171-7b9b-41c2-9420-98ec5a45d43e"
      },
      "outputs": [],
      "source": [
        "# 수학 열 만들기\n",
        "df1['수학'] = 'pass'\n",
        "df1"
      ]
    },
    {
      "cell_type": "code",
      "execution_count": null,
      "metadata": {
        "colab": {
          "base_uri": "https://localhost:8080/",
          "height": 175
        },
        "id": "HohVugzE8lBm",
        "outputId": "e0c94a32-34df-449f-e72b-1796a63f169e"
      },
      "outputs": [],
      "source": [
        "# 열 수정하기\n",
        "df1['수학'] = '-'\n",
        "df1"
      ]
    },
    {
      "cell_type": "code",
      "execution_count": null,
      "metadata": {
        "colab": {
          "base_uri": "https://localhost:8080/",
          "height": 175
        },
        "id": "KG3XpeyV8rz4",
        "outputId": "2239c097-3b04-4701-8492-066163c1e551"
      },
      "outputs": [],
      "source": [
        "# 열 수정하기\n",
        "df1['수학'] = [10, 20, 30, 40]\n",
        "df1"
      ]
    },
    {
      "cell_type": "code",
      "execution_count": null,
      "metadata": {
        "colab": {
          "base_uri": "https://localhost:8080/",
          "height": 175
        },
        "id": "3GOnRHsu8yBT",
        "outputId": "22c942b4-410f-4678-c2aa-62620b8a18ed"
      },
      "outputs": [],
      "source": [
        "# 시리즈를 배정하기\n",
        "s1 = pd.Series([10, 20, 30, 40], index=list('ABCD'))\n",
        "df1['수학'] = s1\n",
        "df1"
      ]
    },
    {
      "cell_type": "code",
      "execution_count": null,
      "metadata": {
        "colab": {
          "base_uri": "https://localhost:8080/",
          "height": 175
        },
        "id": "PRp0LU7MrXV0",
        "outputId": "61bc6d42-d555-4984-f084-7c7044774cf1"
      },
      "outputs": [],
      "source": [
        "# 복수의 열 한번에 만들기\n",
        "df1[['과학', '사회']] = 'pass'\n",
        "df1"
      ]
    },
    {
      "cell_type": "code",
      "execution_count": null,
      "metadata": {
        "colab": {
          "base_uri": "https://localhost:8080/",
          "height": 175
        },
        "id": "cR9lBYD1gh1i",
        "outputId": "5216363d-b196-4776-97a0-f618cbea5b84"
      },
      "outputs": [],
      "source": [
        "# 열간의 연산으로 열 만들기\n",
        "df2['총점'] = df2['국어'] + df2['영어']\n",
        "df2"
      ]
    },
    {
      "cell_type": "code",
      "execution_count": null,
      "metadata": {
        "colab": {
          "base_uri": "https://localhost:8080/",
          "height": 298
        },
        "id": "8qREu7NcgjtV",
        "outputId": "4aff6d19-0ef8-49f4-9cab-674be6f8cd74"
      },
      "outputs": [],
      "source": [
        "# 프로젝트 코드\n",
        "import pandas as pd\n",
        "pd.options.display.max_rows = 6 \n",
        "pd.options.display.float_format = '{:.3f}'.format # 소수점 세자리까지 출력옵션\n",
        "url = 'https://www.koreabaseball.com/Record/Player/HitterDetail/Daily.aspx?playerId=75847'\n",
        "dfs = pd.read_html(url, index_col=0)\n",
        "df_ex1 = pd.concat(dfs)\n",
        "df_ex2 = df_ex1[['AB', 'H', '2B', '3B', 'HR']].drop('합계')\n",
        "df_ex2"
      ]
    },
    {
      "cell_type": "code",
      "execution_count": null,
      "metadata": {
        "colab": {
          "base_uri": "https://localhost:8080/",
          "height": 298
        },
        "id": "CHdY_Aq7hDqM",
        "outputId": "c09471aa-f032-42e8-d35c-a14d1f7bd5be"
      },
      "outputs": [],
      "source": [
        "# 루타 열을 만들자\n",
        "df_ex2['루타'] = df_ex2['H'] + (df_ex2['2B'] * 2) + (df_ex2['3B'] * 3) + (df_ex2['HR'] * 4)\n",
        "df_ex2"
      ]
    },
    {
      "cell_type": "markdown",
      "metadata": {
        "id": "gLH5Y-SNhlxp"
      },
      "source": [
        "## 6. 데이터 프레임에 각종 통계함수 적용하기"
      ]
    },
    {
      "cell_type": "markdown",
      "metadata": {},
      "source": [
        "### 학습 목표\n",
        "- 데이터 프레임에 집계함수를 적용한다. (`mean`, `sum` 등)\n",
        "- 데이터 프레임에 누적 통계함수를 적용한다. (`cumsum` 함수)\n",
        "- 데이터 프레임으로 간단한 시각화를 한다. (`plot` 함수)"
      ]
    },
    {
      "cell_type": "markdown",
      "metadata": {
        "id": "vr0WlQPGTi7G"
      },
      "source": [
        "<img src=https://i.ibb.co/3CJXHrF/02.jpg, width=400>"
      ]
    },
    {
      "cell_type": "code",
      "execution_count": null,
      "metadata": {
        "colab": {
          "base_uri": "https://localhost:8080/",
          "height": 298
        },
        "id": "MmyCk0KChxmW",
        "outputId": "73693e75-6305-4852-f0be-30cdfe5506f9"
      },
      "outputs": [],
      "source": [
        "# 프로젝트 코드\n",
        "import pandas as pd\n",
        "pd.options.display.max_rows = 6 \n",
        "pd.options.display.float_format = '{:.3f}'.format # 소수점 세자리까지 출력옵션\n",
        "url = 'https://www.koreabaseball.com/Record/Player/HitterDetail/Daily.aspx?playerId=75847'\n",
        "dfs = pd.read_html(url, index_col=0)\n",
        "df_ex1 = pd.concat(dfs)\n",
        "df_ex2 = df_ex1[['AB', 'H', '2B', '3B', 'HR']].drop('합계')\n",
        "df_ex2['루타'] = df_ex2['H'] + (df_ex2['2B'] * 2) + (df_ex2['3B'] * 3) + (df_ex2['HR'] * 4)\n",
        "df_ex2"
      ]
    },
    {
      "cell_type": "code",
      "execution_count": null,
      "metadata": {
        "colab": {
          "base_uri": "https://localhost:8080/",
          "height": 206
        },
        "id": "9qySodwBKyvC",
        "outputId": "9da64542-a75e-483c-ae2b-e811a7a202ab"
      },
      "outputs": [],
      "source": [
        "# df_ex2의 윗 다섯 줄을 따로 df로 지정하자\n",
        "df = df_ex2.head(5).copy()\n",
        "df"
      ]
    },
    {
      "cell_type": "code",
      "execution_count": null,
      "metadata": {
        "colab": {
          "base_uri": "https://localhost:8080/"
        },
        "id": "sBqEw8F8K44o",
        "outputId": "f9468583-1a19-44c6-96a0-b90e32c5d180"
      },
      "outputs": [],
      "source": [
        "# 각 열의 합\n",
        "df.sum()"
      ]
    },
    {
      "cell_type": "code",
      "execution_count": null,
      "metadata": {
        "colab": {
          "base_uri": "https://localhost:8080/"
        },
        "id": "yrIoMUINI6_L",
        "outputId": "ebc9e759-c238-42a8-8584-93d1c862c023"
      },
      "outputs": [],
      "source": [
        "# 각 열의 평균\n",
        "df.mean()"
      ]
    },
    {
      "cell_type": "code",
      "execution_count": null,
      "metadata": {
        "colab": {
          "base_uri": "https://localhost:8080/"
        },
        "id": "l_BaBVX5LAs0",
        "outputId": "df196213-5764-44a4-abde-8732971ff790"
      },
      "outputs": [],
      "source": [
        "# 각 행의 합\n",
        "df.sum(axis=1)"
      ]
    },
    {
      "cell_type": "code",
      "execution_count": null,
      "metadata": {
        "colab": {
          "base_uri": "https://localhost:8080/",
          "height": 206
        },
        "id": "Lc26J_W9LSIt",
        "outputId": "63db2a2a-1e0f-4f54-b3df-7eb1411f96ef"
      },
      "outputs": [],
      "source": [
        "# 누적합\n",
        "df.cumsum()"
      ]
    },
    {
      "cell_type": "code",
      "execution_count": null,
      "metadata": {
        "colab": {
          "base_uri": "https://localhost:8080/",
          "height": 298
        },
        "id": "QodEkxSLjIBf",
        "outputId": "689c5f8e-1a05-4503-c990-1405263ab9fb"
      },
      "outputs": [],
      "source": [
        "# 프로젝트 변수인 df_ex2에 장타율 열 생성\n",
        "df_ex2['누적루타'] = df_ex2['루타'].cumsum()\n",
        "df_ex2['누적타수'] = df_ex2['AB'].cumsum()\n",
        "df_ex2['SLG'] = df_ex2['누적루타'] / df_ex2['누적타수']\n",
        "df_ex2"
      ]
    },
    {
      "cell_type": "code",
      "execution_count": null,
      "metadata": {
        "colab": {
          "base_uri": "https://localhost:8080/",
          "height": 283
        },
        "id": "4ZLnAo01FHlM",
        "outputId": "186773f2-625f-4663-af9b-2ba70e93de3a"
      },
      "outputs": [],
      "source": [
        "import sys\n",
        "!{sys.executable} -m pip install matplotlib\n",
        "\n",
        "# 장타율 시각화 하기\n",
        "df_ex2.plot(y='SLG')"
      ]
    },
    {
      "cell_type": "markdown",
      "metadata": {
        "id": "rNjQtMqITI6T"
      },
      "source": [
        "## 7. 요약강의"
      ]
    },
    {
      "cell_type": "code",
      "execution_count": null,
      "metadata": {
        "colab": {
          "base_uri": "https://localhost:8080/",
          "height": 283
        },
        "id": "MzpaGS236lud",
        "outputId": "4e18cb2d-d21c-486f-f2b3-8aaecc56bb17"
      },
      "outputs": [],
      "source": [
        "import pandas as pd\n",
        "pd.options.display.max_rows = 6 \n",
        "pd.options.display.float_format = '{:.3f}'.format # 소수점 세자리까지 출력옵션\n",
        "\n",
        "# 해당 웹사이트의 모든 표를 데이터프레임으로 만들어 리스트에 담아준다\n",
        "url = 'https://www.koreabaseball.com/Record/Player/HitterDetail/Daily.aspx?playerId=75847'\n",
        "dfs = pd.read_html(url, index_col=0)\n",
        "\n",
        "# 리스트의 모든 데이터프레임 결합하기\n",
        "df_ex1 = pd.concat(dfs)\n",
        "\n",
        "# 일부 열만 인덱싱하고 합계 행 삭제하기\n",
        "df_ex2 = df_ex1[['AB', 'H', '2B', '3B', 'HR']].drop('합계')\n",
        "\n",
        "# 연산해서 열 만들기\n",
        "df_ex2['루타'] = df_ex2['H'] + (df_ex2['2B'] * 2) + (df_ex2['3B'] * 3) + (df_ex2['HR'] * 4)\n",
        "df_ex2['누적루타'] = df_ex2['루타'].cumsum()\n",
        "df_ex2['누적타수'] = df_ex2['AB'].cumsum()\n",
        "df_ex2['SLG'] = df_ex2['누적루타'] / df_ex2['누적타수']\n",
        "\n",
        "# 판다스의 시각화\n",
        "df_ex2.plot(y='SLG')"
      ]
    },
    {
      "cell_type": "markdown",
      "metadata": {
        "id": "jREXKihUehIR"
      },
      "source": [
        "**참고 사이트**\n",
        "\n",
        "판다스 공식 문서 [https://pandas.pydata.org/docs/](https://pandas.pydata.org/docs/)"
      ]
    }
  ],
  "metadata": {
    "colab": {
      "provenance": []
    },
    "kernelspec": {
      "display_name": "Python 3",
      "name": "python3"
    },
    "language_info": {
      "codemirror_mode": {
        "name": "ipython",
        "version": 3
      },
      "file_extension": ".py",
      "mimetype": "text/x-python",
      "name": "python",
      "nbconvert_exporter": "python",
      "pygments_lexer": "ipython3",
      "version": "3.11.5"
    }
  },
  "nbformat": 4,
  "nbformat_minor": 0
}
