{
  "cells": [
    {
      "cell_type": "markdown",
      "metadata": {
        "id": "N3WpmR8rVZZx"
      },
      "source": [
        "# Ch03. 프로 야구 데이터를 통해 데이터프레임 다루기"
      ]
    },
    {
      "cell_type": "markdown",
      "metadata": {
        "id": "QPY8wGGhy9-6"
      },
      "source": [
        "\n",
        "> KBO 데이터를 이용해 최정 선수의 일별 누적 장타율 구하기\n",
        " \n",
        "\n"
      ]
    },
    {
      "cell_type": "markdown",
      "metadata": {
        "id": "1HWx_5-BVR2O"
      },
      "source": [
        "## 1. 웹크롤링 결과를 데이터프레임으로 불러오기 (read_html)"
      ]
    },
    {
      "cell_type": "markdown",
      "metadata": {},
      "source": [
        "### 학습 목표\n",
        "- 웹 페이지에서 표를 데이터 프레임으로 불러온다. (`read_html` 함수)\n",
        "- 불러온 여러개의 표를 하나로 결합한다. (`concat` 함수)"
      ]
    },
    {
      "cell_type": "markdown",
      "metadata": {
        "id": "Bq15VolnRHaz"
      },
      "source": [
        "\n",
        "\n",
        "> pandas read_html\n",
        "\n",
        "웹페이지의 테이블을 데이터프레임으로 불러오는 함수. 리스트에 데이터프레임을 담아준다.\n",
        "\n",
        "\n",
        "---\n",
        "\n",
        "\n",
        "**io**\n",
        "\n",
        "웹페이지의 경로명\n",
        "\n",
        "**match** (인수는 문자열 혹은 정규표현식 / 기본값은 ‘.+’ )\n",
        "\n",
        "테이블 중에서 특정 문자열을 포함한 테이블을 지정하는 인자. 기본값은 빈 문자열을 제외한 모든 문자열이다.(지정하지 않으면 문자열이 포함된 모든 테이블을 가져온다)\n",
        "\n",
        "**header** (인수는 정수, 정수의 리스트 / 기본값은 None)\n",
        "\n",
        "columns를 지정하는 인자. 리스트로 지정하면 멀티 인덱스인 columns가 된다. \n",
        "\n",
        "**index_col** (인수는 정수, 정수의 리스트 / 기본값은 None)\n",
        "\n",
        "index를 지정하는 인자. 지정하지 않으면 RangeIndex가 index로 부여된다. 리스트로 지정하면 멀티 인덱스인 index가 된다.\n",
        "\n",
        "[read_html 판다스 공식문서](https://pandas.pydata.org/docs/reference/api/pandas.read_html.html)"
      ]
    },
    {
      "cell_type": "code",
      "execution_count": 1,
      "metadata": {
        "id": "TN3IvKnKWBo2"
      },
      "outputs": [
        {
          "name": "stdout",
          "output_type": "stream",
          "text": [
            "Requirement already satisfied: lxml in c:\\users\\6206-14\\appdata\\local\\programs\\python\\python38\\lib\\site-packages (5.2.1)\n"
          ]
        }
      ],
      "source": [
        "import pandas as pd\n",
        "pd.options.display.max_rows = 6 \n",
        "pd.options.display.float_format = '{:.2f}'.format # 소수점 2자리까지만 출력\n",
        "import sys\n",
        "!{sys.executable} -m pip install lxml"
      ]
    },
    {
      "cell_type": "code",
      "execution_count": 2,
      "metadata": {
        "colab": {
          "base_uri": "https://localhost:8080/"
        },
        "id": "npH9xTVdVp_X",
        "outputId": "8db0ad5e-b268-4f86-8d4f-865117afffb8"
      },
      "outputs": [
        {
          "data": {
            "text/plain": [
              "[       3월  상대  AVG1  PA  AB  R  H  2B  3B  HR  RBI  SB  CS  BB  HBP  SO  GDP  \\\n",
              " 0   03.23  롯데  0.50   4   4  1  2   0   0   1    3   0   0   0    0   2    0   \n",
              " 1   03.24  롯데  0.20   5   5  1  1   0   0   1    3   0   0   0    0   2    1   \n",
              " 2   03.26  한화  0.00   4   2  0  0   0   0   0    0   0   0   1    1   1    0   \n",
              " ..    ...  ..   ...  ..  .. .. ..  ..  ..  ..  ...  ..  ..  ..  ...  ..  ...   \n",
              " 6   03.30  삼성  0.33   5   3  2  1   0   0   0    1   2   0   2    0   1    0   \n",
              " 7   03.31  삼성  0.20   5   5  0  1   1   0   0    0   0   0   0    0   1    1   \n",
              " 8      합계  합계  0.29  36  31  7  9   1   0   4   13   2   0   4    1   9    2   \n",
              " \n",
              "     AVG2  \n",
              " 0   0.50  \n",
              " 1   0.33  \n",
              " 2   0.27  \n",
              " ..   ...  \n",
              " 6   0.31  \n",
              " 7   0.29  \n",
              " 8   0.29  \n",
              " \n",
              " [9 rows x 18 columns],\n",
              "        4월  상대   AVG1  PA  AB   R   H  2B  3B  HR  RBI  SB  CS  BB  HBP  SO  \\\n",
              " 0   04.02  두산  1.000   2   1   1   1   0   0   1    1   0   0   1    0   0   \n",
              " 1   04.04  두산  0.000   1   1   0   0   0   0   0    0   0   0   0    0   1   \n",
              " 2   04.05  NC  0.000   4   4   0   0   0   0   0    0   0   0   0    0   1   \n",
              " ..    ...  ..    ...  ..  ..  ..  ..  ..  ..  ..  ...  ..  ..  ..  ...  ..   \n",
              " 16  04.28  KT  0.500   4   4   2   2   1   0   1    4   0   0   0    0   2   \n",
              " 17  04.30  한화  0.333   4   3   0   1   0   0   0    0   0   0   1    0   0   \n",
              " 18     합계  합계  0.286  71  63  13  18   4   0   7   14   1   0   6    2  16   \n",
              " \n",
              "     GDP  AVG2  \n",
              " 0     0  0.31  \n",
              " 1     0  0.30  \n",
              " 2     0  0.27  \n",
              " ..  ...   ...  \n",
              " 16    0  0.29  \n",
              " 17    0  0.29  \n",
              " 18    1  0.29  \n",
              " \n",
              " [19 rows x 18 columns],\n",
              "        5월   상대  AVG1  PA  AB  R  H  2B  3B  HR  RBI  SB  CS  BB  HBP  SO  GDP  \\\n",
              " 0   05.01   한화  0.00   5   3  1  0   0   0   0    0   0   0   2    0   1    0   \n",
              " 1   05.02   한화  0.40   5   5  0  2   1   0   0    0   0   0   0    0   0    0   \n",
              " 2   05.03   NC  0.50   3   2  1  1   1   0   0    1   0   0   1    0   0    1   \n",
              " ..    ...  ...   ...  ..  .. .. ..  ..  ..  ..  ...  ..  ..  ..  ...  ..  ...   \n",
              " 8   05.12  KIA  0.00   4   2  0  0   0   0   0    0   0   0   2    0   0    0   \n",
              " 9   05.12  KIA  0.20   6   5  2  1   0   0   1    1   0   0   0    1   1    0   \n",
              " 10     합계   합계  0.23  45  35  5  8   5   0   1    6   0   0   6    3   7    1   \n",
              " \n",
              "     AVG2  \n",
              " 0   0.28  \n",
              " 1   0.28  \n",
              " 2   0.29  \n",
              " ..   ...  \n",
              " 8   0.27  \n",
              " 9   0.27  \n",
              " 10  0.27  \n",
              " \n",
              " [11 rows x 18 columns]]"
            ]
          },
          "execution_count": 2,
          "metadata": {},
          "output_type": "execute_result"
        }
      ],
      "source": [
        "# 해당 웹사이트의 모든 표를 데이터프레임으로 만들어 리스트에 담아준다\n",
        "url = 'https://www.koreabaseball.com/Record/Player/HitterDetail/Daily.aspx?playerId=75847'\n",
        "dfs = pd.read_html(url)\n",
        "dfs"
      ]
    },
    {
      "cell_type": "code",
      "execution_count": 3,
      "metadata": {
        "colab": {
          "base_uri": "https://localhost:8080/",
          "height": 298
        },
        "id": "K1HjTyPgWxTq",
        "outputId": "18543d28-6936-4822-e757-32fe7b346e14"
      },
      "outputs": [
        {
          "data": {
            "text/html": [
              "<div>\n",
              "<style scoped>\n",
              "    .dataframe tbody tr th:only-of-type {\n",
              "        vertical-align: middle;\n",
              "    }\n",
              "\n",
              "    .dataframe tbody tr th {\n",
              "        vertical-align: top;\n",
              "    }\n",
              "\n",
              "    .dataframe thead th {\n",
              "        text-align: right;\n",
              "    }\n",
              "</style>\n",
              "<table border=\"1\" class=\"dataframe\">\n",
              "  <thead>\n",
              "    <tr style=\"text-align: right;\">\n",
              "      <th></th>\n",
              "      <th>3월</th>\n",
              "      <th>상대</th>\n",
              "      <th>AVG1</th>\n",
              "      <th>PA</th>\n",
              "      <th>AB</th>\n",
              "      <th>R</th>\n",
              "      <th>H</th>\n",
              "      <th>2B</th>\n",
              "      <th>3B</th>\n",
              "      <th>HR</th>\n",
              "      <th>RBI</th>\n",
              "      <th>SB</th>\n",
              "      <th>CS</th>\n",
              "      <th>BB</th>\n",
              "      <th>HBP</th>\n",
              "      <th>SO</th>\n",
              "      <th>GDP</th>\n",
              "      <th>AVG2</th>\n",
              "    </tr>\n",
              "  </thead>\n",
              "  <tbody>\n",
              "    <tr>\n",
              "      <th>0</th>\n",
              "      <td>03.23</td>\n",
              "      <td>롯데</td>\n",
              "      <td>0.50</td>\n",
              "      <td>4</td>\n",
              "      <td>4</td>\n",
              "      <td>1</td>\n",
              "      <td>2</td>\n",
              "      <td>0</td>\n",
              "      <td>0</td>\n",
              "      <td>1</td>\n",
              "      <td>3</td>\n",
              "      <td>0</td>\n",
              "      <td>0</td>\n",
              "      <td>0</td>\n",
              "      <td>0</td>\n",
              "      <td>2</td>\n",
              "      <td>0</td>\n",
              "      <td>0.50</td>\n",
              "    </tr>\n",
              "    <tr>\n",
              "      <th>1</th>\n",
              "      <td>03.24</td>\n",
              "      <td>롯데</td>\n",
              "      <td>0.20</td>\n",
              "      <td>5</td>\n",
              "      <td>5</td>\n",
              "      <td>1</td>\n",
              "      <td>1</td>\n",
              "      <td>0</td>\n",
              "      <td>0</td>\n",
              "      <td>1</td>\n",
              "      <td>3</td>\n",
              "      <td>0</td>\n",
              "      <td>0</td>\n",
              "      <td>0</td>\n",
              "      <td>0</td>\n",
              "      <td>2</td>\n",
              "      <td>1</td>\n",
              "      <td>0.33</td>\n",
              "    </tr>\n",
              "    <tr>\n",
              "      <th>2</th>\n",
              "      <td>03.26</td>\n",
              "      <td>한화</td>\n",
              "      <td>0.00</td>\n",
              "      <td>4</td>\n",
              "      <td>2</td>\n",
              "      <td>0</td>\n",
              "      <td>0</td>\n",
              "      <td>0</td>\n",
              "      <td>0</td>\n",
              "      <td>0</td>\n",
              "      <td>0</td>\n",
              "      <td>0</td>\n",
              "      <td>0</td>\n",
              "      <td>1</td>\n",
              "      <td>1</td>\n",
              "      <td>1</td>\n",
              "      <td>0</td>\n",
              "      <td>0.27</td>\n",
              "    </tr>\n",
              "    <tr>\n",
              "      <th>...</th>\n",
              "      <td>...</td>\n",
              "      <td>...</td>\n",
              "      <td>...</td>\n",
              "      <td>...</td>\n",
              "      <td>...</td>\n",
              "      <td>...</td>\n",
              "      <td>...</td>\n",
              "      <td>...</td>\n",
              "      <td>...</td>\n",
              "      <td>...</td>\n",
              "      <td>...</td>\n",
              "      <td>...</td>\n",
              "      <td>...</td>\n",
              "      <td>...</td>\n",
              "      <td>...</td>\n",
              "      <td>...</td>\n",
              "      <td>...</td>\n",
              "      <td>...</td>\n",
              "    </tr>\n",
              "    <tr>\n",
              "      <th>6</th>\n",
              "      <td>03.30</td>\n",
              "      <td>삼성</td>\n",
              "      <td>0.33</td>\n",
              "      <td>5</td>\n",
              "      <td>3</td>\n",
              "      <td>2</td>\n",
              "      <td>1</td>\n",
              "      <td>0</td>\n",
              "      <td>0</td>\n",
              "      <td>0</td>\n",
              "      <td>1</td>\n",
              "      <td>2</td>\n",
              "      <td>0</td>\n",
              "      <td>2</td>\n",
              "      <td>0</td>\n",
              "      <td>1</td>\n",
              "      <td>0</td>\n",
              "      <td>0.31</td>\n",
              "    </tr>\n",
              "    <tr>\n",
              "      <th>7</th>\n",
              "      <td>03.31</td>\n",
              "      <td>삼성</td>\n",
              "      <td>0.20</td>\n",
              "      <td>5</td>\n",
              "      <td>5</td>\n",
              "      <td>0</td>\n",
              "      <td>1</td>\n",
              "      <td>1</td>\n",
              "      <td>0</td>\n",
              "      <td>0</td>\n",
              "      <td>0</td>\n",
              "      <td>0</td>\n",
              "      <td>0</td>\n",
              "      <td>0</td>\n",
              "      <td>0</td>\n",
              "      <td>1</td>\n",
              "      <td>1</td>\n",
              "      <td>0.29</td>\n",
              "    </tr>\n",
              "    <tr>\n",
              "      <th>8</th>\n",
              "      <td>합계</td>\n",
              "      <td>합계</td>\n",
              "      <td>0.29</td>\n",
              "      <td>36</td>\n",
              "      <td>31</td>\n",
              "      <td>7</td>\n",
              "      <td>9</td>\n",
              "      <td>1</td>\n",
              "      <td>0</td>\n",
              "      <td>4</td>\n",
              "      <td>13</td>\n",
              "      <td>2</td>\n",
              "      <td>0</td>\n",
              "      <td>4</td>\n",
              "      <td>1</td>\n",
              "      <td>9</td>\n",
              "      <td>2</td>\n",
              "      <td>0.29</td>\n",
              "    </tr>\n",
              "  </tbody>\n",
              "</table>\n",
              "<p>9 rows × 18 columns</p>\n",
              "</div>"
            ],
            "text/plain": [
              "       3월  상대  AVG1  PA  AB  R  H  2B  3B  HR  RBI  SB  CS  BB  HBP  SO  GDP  \\\n",
              "0   03.23  롯데  0.50   4   4  1  2   0   0   1    3   0   0   0    0   2    0   \n",
              "1   03.24  롯데  0.20   5   5  1  1   0   0   1    3   0   0   0    0   2    1   \n",
              "2   03.26  한화  0.00   4   2  0  0   0   0   0    0   0   0   1    1   1    0   \n",
              "..    ...  ..   ...  ..  .. .. ..  ..  ..  ..  ...  ..  ..  ..  ...  ..  ...   \n",
              "6   03.30  삼성  0.33   5   3  2  1   0   0   0    1   2   0   2    0   1    0   \n",
              "7   03.31  삼성  0.20   5   5  0  1   1   0   0    0   0   0   0    0   1    1   \n",
              "8      합계  합계  0.29  36  31  7  9   1   0   4   13   2   0   4    1   9    2   \n",
              "\n",
              "    AVG2  \n",
              "0   0.50  \n",
              "1   0.33  \n",
              "2   0.27  \n",
              "..   ...  \n",
              "6   0.31  \n",
              "7   0.29  \n",
              "8   0.29  \n",
              "\n",
              "[9 rows x 18 columns]"
            ]
          },
          "execution_count": 3,
          "metadata": {},
          "output_type": "execute_result"
        }
      ],
      "source": [
        "# 데이터프레임의 리스트에서 첫번째 데이터프레임만 불러올 때\n",
        "dfs[0]"
      ]
    },
    {
      "cell_type": "code",
      "execution_count": 4,
      "metadata": {
        "colab": {
          "base_uri": "https://localhost:8080/",
          "height": 342
        },
        "id": "qP1clfwULAth",
        "outputId": "bf2de3f9-e81e-4438-95df-48aae5a68e1d"
      },
      "outputs": [
        {
          "data": {
            "text/html": [
              "<div>\n",
              "<style scoped>\n",
              "    .dataframe tbody tr th:only-of-type {\n",
              "        vertical-align: middle;\n",
              "    }\n",
              "\n",
              "    .dataframe tbody tr th {\n",
              "        vertical-align: top;\n",
              "    }\n",
              "\n",
              "    .dataframe thead th {\n",
              "        text-align: right;\n",
              "    }\n",
              "</style>\n",
              "<table border=\"1\" class=\"dataframe\">\n",
              "  <thead>\n",
              "    <tr style=\"text-align: right;\">\n",
              "      <th></th>\n",
              "      <th>3월</th>\n",
              "      <th>상대</th>\n",
              "      <th>AVG1</th>\n",
              "      <th>PA</th>\n",
              "      <th>AB</th>\n",
              "      <th>R</th>\n",
              "      <th>H</th>\n",
              "      <th>2B</th>\n",
              "      <th>3B</th>\n",
              "      <th>HR</th>\n",
              "      <th>RBI</th>\n",
              "      <th>SB</th>\n",
              "      <th>CS</th>\n",
              "      <th>BB</th>\n",
              "      <th>HBP</th>\n",
              "      <th>SO</th>\n",
              "      <th>GDP</th>\n",
              "      <th>AVG2</th>\n",
              "      <th>4월</th>\n",
              "      <th>5월</th>\n",
              "    </tr>\n",
              "  </thead>\n",
              "  <tbody>\n",
              "    <tr>\n",
              "      <th>0</th>\n",
              "      <td>03.23</td>\n",
              "      <td>롯데</td>\n",
              "      <td>0.50</td>\n",
              "      <td>4</td>\n",
              "      <td>4</td>\n",
              "      <td>1</td>\n",
              "      <td>2</td>\n",
              "      <td>0</td>\n",
              "      <td>0</td>\n",
              "      <td>1</td>\n",
              "      <td>3</td>\n",
              "      <td>0</td>\n",
              "      <td>0</td>\n",
              "      <td>0</td>\n",
              "      <td>0</td>\n",
              "      <td>2</td>\n",
              "      <td>0</td>\n",
              "      <td>0.50</td>\n",
              "      <td>NaN</td>\n",
              "      <td>NaN</td>\n",
              "    </tr>\n",
              "    <tr>\n",
              "      <th>1</th>\n",
              "      <td>03.24</td>\n",
              "      <td>롯데</td>\n",
              "      <td>0.20</td>\n",
              "      <td>5</td>\n",
              "      <td>5</td>\n",
              "      <td>1</td>\n",
              "      <td>1</td>\n",
              "      <td>0</td>\n",
              "      <td>0</td>\n",
              "      <td>1</td>\n",
              "      <td>3</td>\n",
              "      <td>0</td>\n",
              "      <td>0</td>\n",
              "      <td>0</td>\n",
              "      <td>0</td>\n",
              "      <td>2</td>\n",
              "      <td>1</td>\n",
              "      <td>0.33</td>\n",
              "      <td>NaN</td>\n",
              "      <td>NaN</td>\n",
              "    </tr>\n",
              "    <tr>\n",
              "      <th>2</th>\n",
              "      <td>03.26</td>\n",
              "      <td>한화</td>\n",
              "      <td>0.00</td>\n",
              "      <td>4</td>\n",
              "      <td>2</td>\n",
              "      <td>0</td>\n",
              "      <td>0</td>\n",
              "      <td>0</td>\n",
              "      <td>0</td>\n",
              "      <td>0</td>\n",
              "      <td>0</td>\n",
              "      <td>0</td>\n",
              "      <td>0</td>\n",
              "      <td>1</td>\n",
              "      <td>1</td>\n",
              "      <td>1</td>\n",
              "      <td>0</td>\n",
              "      <td>0.27</td>\n",
              "      <td>NaN</td>\n",
              "      <td>NaN</td>\n",
              "    </tr>\n",
              "    <tr>\n",
              "      <th>...</th>\n",
              "      <td>...</td>\n",
              "      <td>...</td>\n",
              "      <td>...</td>\n",
              "      <td>...</td>\n",
              "      <td>...</td>\n",
              "      <td>...</td>\n",
              "      <td>...</td>\n",
              "      <td>...</td>\n",
              "      <td>...</td>\n",
              "      <td>...</td>\n",
              "      <td>...</td>\n",
              "      <td>...</td>\n",
              "      <td>...</td>\n",
              "      <td>...</td>\n",
              "      <td>...</td>\n",
              "      <td>...</td>\n",
              "      <td>...</td>\n",
              "      <td>...</td>\n",
              "      <td>...</td>\n",
              "      <td>...</td>\n",
              "    </tr>\n",
              "    <tr>\n",
              "      <th>8</th>\n",
              "      <td>NaN</td>\n",
              "      <td>KIA</td>\n",
              "      <td>0.00</td>\n",
              "      <td>4</td>\n",
              "      <td>2</td>\n",
              "      <td>0</td>\n",
              "      <td>0</td>\n",
              "      <td>0</td>\n",
              "      <td>0</td>\n",
              "      <td>0</td>\n",
              "      <td>0</td>\n",
              "      <td>0</td>\n",
              "      <td>0</td>\n",
              "      <td>2</td>\n",
              "      <td>0</td>\n",
              "      <td>0</td>\n",
              "      <td>0</td>\n",
              "      <td>0.27</td>\n",
              "      <td>NaN</td>\n",
              "      <td>05.12</td>\n",
              "    </tr>\n",
              "    <tr>\n",
              "      <th>9</th>\n",
              "      <td>NaN</td>\n",
              "      <td>KIA</td>\n",
              "      <td>0.20</td>\n",
              "      <td>6</td>\n",
              "      <td>5</td>\n",
              "      <td>2</td>\n",
              "      <td>1</td>\n",
              "      <td>0</td>\n",
              "      <td>0</td>\n",
              "      <td>1</td>\n",
              "      <td>1</td>\n",
              "      <td>0</td>\n",
              "      <td>0</td>\n",
              "      <td>0</td>\n",
              "      <td>1</td>\n",
              "      <td>1</td>\n",
              "      <td>0</td>\n",
              "      <td>0.27</td>\n",
              "      <td>NaN</td>\n",
              "      <td>05.12</td>\n",
              "    </tr>\n",
              "    <tr>\n",
              "      <th>10</th>\n",
              "      <td>NaN</td>\n",
              "      <td>합계</td>\n",
              "      <td>0.23</td>\n",
              "      <td>45</td>\n",
              "      <td>35</td>\n",
              "      <td>5</td>\n",
              "      <td>8</td>\n",
              "      <td>5</td>\n",
              "      <td>0</td>\n",
              "      <td>1</td>\n",
              "      <td>6</td>\n",
              "      <td>0</td>\n",
              "      <td>0</td>\n",
              "      <td>6</td>\n",
              "      <td>3</td>\n",
              "      <td>7</td>\n",
              "      <td>1</td>\n",
              "      <td>0.27</td>\n",
              "      <td>NaN</td>\n",
              "      <td>합계</td>\n",
              "    </tr>\n",
              "  </tbody>\n",
              "</table>\n",
              "<p>39 rows × 20 columns</p>\n",
              "</div>"
            ],
            "text/plain": [
              "       3월   상대 AVG1  PA  AB  R  H  2B  3B  HR  RBI  SB  CS  BB  HBP  SO  GDP  \\\n",
              "0   03.23   롯데 0.50   4   4  1  2   0   0   1    3   0   0   0    0   2    0   \n",
              "1   03.24   롯데 0.20   5   5  1  1   0   0   1    3   0   0   0    0   2    1   \n",
              "2   03.26   한화 0.00   4   2  0  0   0   0   0    0   0   0   1    1   1    0   \n",
              "..    ...  ...  ...  ..  .. .. ..  ..  ..  ..  ...  ..  ..  ..  ...  ..  ...   \n",
              "8     NaN  KIA 0.00   4   2  0  0   0   0   0    0   0   0   2    0   0    0   \n",
              "9     NaN  KIA 0.20   6   5  2  1   0   0   1    1   0   0   0    1   1    0   \n",
              "10    NaN   합계 0.23  45  35  5  8   5   0   1    6   0   0   6    3   7    1   \n",
              "\n",
              "    AVG2   4월     5월  \n",
              "0   0.50  NaN    NaN  \n",
              "1   0.33  NaN    NaN  \n",
              "2   0.27  NaN    NaN  \n",
              "..   ...  ...    ...  \n",
              "8   0.27  NaN  05.12  \n",
              "9   0.27  NaN  05.12  \n",
              "10  0.27  NaN     합계  \n",
              "\n",
              "[39 rows x 20 columns]"
            ]
          },
          "execution_count": 4,
          "metadata": {},
          "output_type": "execute_result"
        }
      ],
      "source": [
        "# dfs의 모든 데이터프레임의 날짜 열의 이름이 달라 concat로는 outer join을 한다\n",
        "pd.concat(dfs)"
      ]
    },
    {
      "cell_type": "code",
      "execution_count": 5,
      "metadata": {
        "colab": {
          "base_uri": "https://localhost:8080/",
          "height": 298
        },
        "id": "exjwq_KvLP_8",
        "outputId": "55227b71-8660-4fc8-b6ae-a79c690e740f"
      },
      "outputs": [
        {
          "data": {
            "text/html": [
              "<div>\n",
              "<style scoped>\n",
              "    .dataframe tbody tr th:only-of-type {\n",
              "        vertical-align: middle;\n",
              "    }\n",
              "\n",
              "    .dataframe tbody tr th {\n",
              "        vertical-align: top;\n",
              "    }\n",
              "\n",
              "    .dataframe thead th {\n",
              "        text-align: right;\n",
              "    }\n",
              "</style>\n",
              "<table border=\"1\" class=\"dataframe\">\n",
              "  <thead>\n",
              "    <tr style=\"text-align: right;\">\n",
              "      <th></th>\n",
              "      <th>상대</th>\n",
              "      <th>AVG1</th>\n",
              "      <th>PA</th>\n",
              "      <th>AB</th>\n",
              "      <th>R</th>\n",
              "      <th>H</th>\n",
              "      <th>2B</th>\n",
              "      <th>3B</th>\n",
              "      <th>HR</th>\n",
              "      <th>RBI</th>\n",
              "      <th>SB</th>\n",
              "      <th>CS</th>\n",
              "      <th>BB</th>\n",
              "      <th>HBP</th>\n",
              "      <th>SO</th>\n",
              "      <th>GDP</th>\n",
              "      <th>AVG2</th>\n",
              "    </tr>\n",
              "  </thead>\n",
              "  <tbody>\n",
              "    <tr>\n",
              "      <th>03.23</th>\n",
              "      <td>롯데</td>\n",
              "      <td>0.50</td>\n",
              "      <td>4</td>\n",
              "      <td>4</td>\n",
              "      <td>1</td>\n",
              "      <td>2</td>\n",
              "      <td>0</td>\n",
              "      <td>0</td>\n",
              "      <td>1</td>\n",
              "      <td>3</td>\n",
              "      <td>0</td>\n",
              "      <td>0</td>\n",
              "      <td>0</td>\n",
              "      <td>0</td>\n",
              "      <td>2</td>\n",
              "      <td>0</td>\n",
              "      <td>0.50</td>\n",
              "    </tr>\n",
              "    <tr>\n",
              "      <th>03.24</th>\n",
              "      <td>롯데</td>\n",
              "      <td>0.20</td>\n",
              "      <td>5</td>\n",
              "      <td>5</td>\n",
              "      <td>1</td>\n",
              "      <td>1</td>\n",
              "      <td>0</td>\n",
              "      <td>0</td>\n",
              "      <td>1</td>\n",
              "      <td>3</td>\n",
              "      <td>0</td>\n",
              "      <td>0</td>\n",
              "      <td>0</td>\n",
              "      <td>0</td>\n",
              "      <td>2</td>\n",
              "      <td>1</td>\n",
              "      <td>0.33</td>\n",
              "    </tr>\n",
              "    <tr>\n",
              "      <th>03.26</th>\n",
              "      <td>한화</td>\n",
              "      <td>0.00</td>\n",
              "      <td>4</td>\n",
              "      <td>2</td>\n",
              "      <td>0</td>\n",
              "      <td>0</td>\n",
              "      <td>0</td>\n",
              "      <td>0</td>\n",
              "      <td>0</td>\n",
              "      <td>0</td>\n",
              "      <td>0</td>\n",
              "      <td>0</td>\n",
              "      <td>1</td>\n",
              "      <td>1</td>\n",
              "      <td>1</td>\n",
              "      <td>0</td>\n",
              "      <td>0.27</td>\n",
              "    </tr>\n",
              "    <tr>\n",
              "      <th>...</th>\n",
              "      <td>...</td>\n",
              "      <td>...</td>\n",
              "      <td>...</td>\n",
              "      <td>...</td>\n",
              "      <td>...</td>\n",
              "      <td>...</td>\n",
              "      <td>...</td>\n",
              "      <td>...</td>\n",
              "      <td>...</td>\n",
              "      <td>...</td>\n",
              "      <td>...</td>\n",
              "      <td>...</td>\n",
              "      <td>...</td>\n",
              "      <td>...</td>\n",
              "      <td>...</td>\n",
              "      <td>...</td>\n",
              "      <td>...</td>\n",
              "    </tr>\n",
              "    <tr>\n",
              "      <th>05.12</th>\n",
              "      <td>KIA</td>\n",
              "      <td>0.00</td>\n",
              "      <td>4</td>\n",
              "      <td>2</td>\n",
              "      <td>0</td>\n",
              "      <td>0</td>\n",
              "      <td>0</td>\n",
              "      <td>0</td>\n",
              "      <td>0</td>\n",
              "      <td>0</td>\n",
              "      <td>0</td>\n",
              "      <td>0</td>\n",
              "      <td>2</td>\n",
              "      <td>0</td>\n",
              "      <td>0</td>\n",
              "      <td>0</td>\n",
              "      <td>0.27</td>\n",
              "    </tr>\n",
              "    <tr>\n",
              "      <th>05.12</th>\n",
              "      <td>KIA</td>\n",
              "      <td>0.20</td>\n",
              "      <td>6</td>\n",
              "      <td>5</td>\n",
              "      <td>2</td>\n",
              "      <td>1</td>\n",
              "      <td>0</td>\n",
              "      <td>0</td>\n",
              "      <td>1</td>\n",
              "      <td>1</td>\n",
              "      <td>0</td>\n",
              "      <td>0</td>\n",
              "      <td>0</td>\n",
              "      <td>1</td>\n",
              "      <td>1</td>\n",
              "      <td>0</td>\n",
              "      <td>0.27</td>\n",
              "    </tr>\n",
              "    <tr>\n",
              "      <th>합계</th>\n",
              "      <td>합계</td>\n",
              "      <td>0.23</td>\n",
              "      <td>45</td>\n",
              "      <td>35</td>\n",
              "      <td>5</td>\n",
              "      <td>8</td>\n",
              "      <td>5</td>\n",
              "      <td>0</td>\n",
              "      <td>1</td>\n",
              "      <td>6</td>\n",
              "      <td>0</td>\n",
              "      <td>0</td>\n",
              "      <td>6</td>\n",
              "      <td>3</td>\n",
              "      <td>7</td>\n",
              "      <td>1</td>\n",
              "      <td>0.27</td>\n",
              "    </tr>\n",
              "  </tbody>\n",
              "</table>\n",
              "<p>39 rows × 17 columns</p>\n",
              "</div>"
            ],
            "text/plain": [
              "        상대 AVG1  PA  AB  R  H  2B  3B  HR  RBI  SB  CS  BB  HBP  SO  GDP  AVG2\n",
              "03.23   롯데 0.50   4   4  1  2   0   0   1    3   0   0   0    0   2    0  0.50\n",
              "03.24   롯데 0.20   5   5  1  1   0   0   1    3   0   0   0    0   2    1  0.33\n",
              "03.26   한화 0.00   4   2  0  0   0   0   0    0   0   0   1    1   1    0  0.27\n",
              "...    ...  ...  ..  .. .. ..  ..  ..  ..  ...  ..  ..  ..  ...  ..  ...   ...\n",
              "05.12  KIA 0.00   4   2  0  0   0   0   0    0   0   0   2    0   0    0  0.27\n",
              "05.12  KIA 0.20   6   5  2  1   0   0   1    1   0   0   0    1   1    0  0.27\n",
              "합계      합계 0.23  45  35  5  8   5   0   1    6   0   0   6    3   7    1  0.27\n",
              "\n",
              "[39 rows x 17 columns]"
            ]
          },
          "execution_count": 5,
          "metadata": {},
          "output_type": "execute_result"
        }
      ],
      "source": [
        "# 열의 이름이 다른 날짜에 해당 하는 열을 index로 만들어 dfs를 부르고 concat를 하자\n",
        "dfs = pd.read_html(url, index_col=0) #첫번째 열을 인덱스로 빼줌(경기날짜)\n",
        "pd.concat(dfs)"
      ]
    },
    {
      "cell_type": "code",
      "execution_count": 6,
      "metadata": {
        "colab": {
          "base_uri": "https://localhost:8080/",
          "height": 298
        },
        "id": "pv5f_rVVJHuF",
        "outputId": "f2f18bba-2a94-4eb6-e101-37fc5ffe4293"
      },
      "outputs": [
        {
          "data": {
            "text/html": [
              "<div>\n",
              "<style scoped>\n",
              "    .dataframe tbody tr th:only-of-type {\n",
              "        vertical-align: middle;\n",
              "    }\n",
              "\n",
              "    .dataframe tbody tr th {\n",
              "        vertical-align: top;\n",
              "    }\n",
              "\n",
              "    .dataframe thead th {\n",
              "        text-align: right;\n",
              "    }\n",
              "</style>\n",
              "<table border=\"1\" class=\"dataframe\">\n",
              "  <thead>\n",
              "    <tr style=\"text-align: right;\">\n",
              "      <th></th>\n",
              "      <th>상대</th>\n",
              "      <th>AVG1</th>\n",
              "      <th>PA</th>\n",
              "      <th>AB</th>\n",
              "      <th>R</th>\n",
              "      <th>H</th>\n",
              "      <th>2B</th>\n",
              "      <th>3B</th>\n",
              "      <th>HR</th>\n",
              "      <th>RBI</th>\n",
              "      <th>SB</th>\n",
              "      <th>CS</th>\n",
              "      <th>BB</th>\n",
              "      <th>HBP</th>\n",
              "      <th>SO</th>\n",
              "      <th>GDP</th>\n",
              "      <th>AVG2</th>\n",
              "    </tr>\n",
              "  </thead>\n",
              "  <tbody>\n",
              "    <tr>\n",
              "      <th>03.23</th>\n",
              "      <td>롯데</td>\n",
              "      <td>0.50</td>\n",
              "      <td>4</td>\n",
              "      <td>4</td>\n",
              "      <td>1</td>\n",
              "      <td>2</td>\n",
              "      <td>0</td>\n",
              "      <td>0</td>\n",
              "      <td>1</td>\n",
              "      <td>3</td>\n",
              "      <td>0</td>\n",
              "      <td>0</td>\n",
              "      <td>0</td>\n",
              "      <td>0</td>\n",
              "      <td>2</td>\n",
              "      <td>0</td>\n",
              "      <td>0.50</td>\n",
              "    </tr>\n",
              "    <tr>\n",
              "      <th>03.24</th>\n",
              "      <td>롯데</td>\n",
              "      <td>0.20</td>\n",
              "      <td>5</td>\n",
              "      <td>5</td>\n",
              "      <td>1</td>\n",
              "      <td>1</td>\n",
              "      <td>0</td>\n",
              "      <td>0</td>\n",
              "      <td>1</td>\n",
              "      <td>3</td>\n",
              "      <td>0</td>\n",
              "      <td>0</td>\n",
              "      <td>0</td>\n",
              "      <td>0</td>\n",
              "      <td>2</td>\n",
              "      <td>1</td>\n",
              "      <td>0.33</td>\n",
              "    </tr>\n",
              "    <tr>\n",
              "      <th>03.26</th>\n",
              "      <td>한화</td>\n",
              "      <td>0.00</td>\n",
              "      <td>4</td>\n",
              "      <td>2</td>\n",
              "      <td>0</td>\n",
              "      <td>0</td>\n",
              "      <td>0</td>\n",
              "      <td>0</td>\n",
              "      <td>0</td>\n",
              "      <td>0</td>\n",
              "      <td>0</td>\n",
              "      <td>0</td>\n",
              "      <td>1</td>\n",
              "      <td>1</td>\n",
              "      <td>1</td>\n",
              "      <td>0</td>\n",
              "      <td>0.27</td>\n",
              "    </tr>\n",
              "    <tr>\n",
              "      <th>...</th>\n",
              "      <td>...</td>\n",
              "      <td>...</td>\n",
              "      <td>...</td>\n",
              "      <td>...</td>\n",
              "      <td>...</td>\n",
              "      <td>...</td>\n",
              "      <td>...</td>\n",
              "      <td>...</td>\n",
              "      <td>...</td>\n",
              "      <td>...</td>\n",
              "      <td>...</td>\n",
              "      <td>...</td>\n",
              "      <td>...</td>\n",
              "      <td>...</td>\n",
              "      <td>...</td>\n",
              "      <td>...</td>\n",
              "      <td>...</td>\n",
              "    </tr>\n",
              "    <tr>\n",
              "      <th>05.12</th>\n",
              "      <td>KIA</td>\n",
              "      <td>0.00</td>\n",
              "      <td>4</td>\n",
              "      <td>2</td>\n",
              "      <td>0</td>\n",
              "      <td>0</td>\n",
              "      <td>0</td>\n",
              "      <td>0</td>\n",
              "      <td>0</td>\n",
              "      <td>0</td>\n",
              "      <td>0</td>\n",
              "      <td>0</td>\n",
              "      <td>2</td>\n",
              "      <td>0</td>\n",
              "      <td>0</td>\n",
              "      <td>0</td>\n",
              "      <td>0.27</td>\n",
              "    </tr>\n",
              "    <tr>\n",
              "      <th>05.12</th>\n",
              "      <td>KIA</td>\n",
              "      <td>0.20</td>\n",
              "      <td>6</td>\n",
              "      <td>5</td>\n",
              "      <td>2</td>\n",
              "      <td>1</td>\n",
              "      <td>0</td>\n",
              "      <td>0</td>\n",
              "      <td>1</td>\n",
              "      <td>1</td>\n",
              "      <td>0</td>\n",
              "      <td>0</td>\n",
              "      <td>0</td>\n",
              "      <td>1</td>\n",
              "      <td>1</td>\n",
              "      <td>0</td>\n",
              "      <td>0.27</td>\n",
              "    </tr>\n",
              "    <tr>\n",
              "      <th>합계</th>\n",
              "      <td>합계</td>\n",
              "      <td>0.23</td>\n",
              "      <td>45</td>\n",
              "      <td>35</td>\n",
              "      <td>5</td>\n",
              "      <td>8</td>\n",
              "      <td>5</td>\n",
              "      <td>0</td>\n",
              "      <td>1</td>\n",
              "      <td>6</td>\n",
              "      <td>0</td>\n",
              "      <td>0</td>\n",
              "      <td>6</td>\n",
              "      <td>3</td>\n",
              "      <td>7</td>\n",
              "      <td>1</td>\n",
              "      <td>0.27</td>\n",
              "    </tr>\n",
              "  </tbody>\n",
              "</table>\n",
              "<p>39 rows × 17 columns</p>\n",
              "</div>"
            ],
            "text/plain": [
              "        상대 AVG1  PA  AB  R  H  2B  3B  HR  RBI  SB  CS  BB  HBP  SO  GDP  AVG2\n",
              "03.23   롯데 0.50   4   4  1  2   0   0   1    3   0   0   0    0   2    0  0.50\n",
              "03.24   롯데 0.20   5   5  1  1   0   0   1    3   0   0   0    0   2    1  0.33\n",
              "03.26   한화 0.00   4   2  0  0   0   0   0    0   0   0   1    1   1    0  0.27\n",
              "...    ...  ...  ..  .. .. ..  ..  ..  ..  ...  ..  ..  ..  ...  ..  ...   ...\n",
              "05.12  KIA 0.00   4   2  0  0   0   0   0    0   0   0   2    0   0    0  0.27\n",
              "05.12  KIA 0.20   6   5  2  1   0   0   1    1   0   0   0    1   1    0  0.27\n",
              "합계      합계 0.23  45  35  5  8   5   0   1    6   0   0   6    3   7    1  0.27\n",
              "\n",
              "[39 rows x 17 columns]"
            ]
          },
          "execution_count": 6,
          "metadata": {},
          "output_type": "execute_result"
        }
      ],
      "source": [
        "# 결과를 변수 df_ex1으로 지정하자 (메인 프로젝트 코드)\n",
        "df_ex1 = pd.concat(dfs)\n",
        "df_ex1"
      ]
    },
    {
      "cell_type": "markdown",
      "metadata": {
        "id": "rkM3Y_w6Lpsk"
      },
      "source": [
        "## 2. 데이터프레임의 정보 파악하기"
      ]
    },
    {
      "cell_type": "markdown",
      "metadata": {},
      "source": [
        "### 학습 목표\n",
        "- 함수와 속성들로 데이터 프레임의 정보를 파악한다. (`info`, `describe` 등)"
      ]
    },
    {
      "cell_type": "markdown",
      "metadata": {
        "id": "C9RSypkQSw5U"
      },
      "source": [
        "<img src=https://i.ibb.co/9qVKL78/01.png, width=400>"
      ]
    },
    {
      "cell_type": "code",
      "execution_count": 7,
      "metadata": {
        "colab": {
          "base_uri": "https://localhost:8080/",
          "height": 298
        },
        "id": "5HlFCKbKL51f",
        "outputId": "92f75210-c2ad-48b6-936f-5d8f545665ce"
      },
      "outputs": [
        {
          "data": {
            "text/html": [
              "<div>\n",
              "<style scoped>\n",
              "    .dataframe tbody tr th:only-of-type {\n",
              "        vertical-align: middle;\n",
              "    }\n",
              "\n",
              "    .dataframe tbody tr th {\n",
              "        vertical-align: top;\n",
              "    }\n",
              "\n",
              "    .dataframe thead th {\n",
              "        text-align: right;\n",
              "    }\n",
              "</style>\n",
              "<table border=\"1\" class=\"dataframe\">\n",
              "  <thead>\n",
              "    <tr style=\"text-align: right;\">\n",
              "      <th></th>\n",
              "      <th>상대</th>\n",
              "      <th>AVG1</th>\n",
              "      <th>PA</th>\n",
              "      <th>AB</th>\n",
              "      <th>R</th>\n",
              "      <th>H</th>\n",
              "      <th>2B</th>\n",
              "      <th>3B</th>\n",
              "      <th>HR</th>\n",
              "      <th>RBI</th>\n",
              "      <th>SB</th>\n",
              "      <th>CS</th>\n",
              "      <th>BB</th>\n",
              "      <th>HBP</th>\n",
              "      <th>SO</th>\n",
              "      <th>GDP</th>\n",
              "      <th>AVG2</th>\n",
              "    </tr>\n",
              "  </thead>\n",
              "  <tbody>\n",
              "    <tr>\n",
              "      <th>03.23</th>\n",
              "      <td>롯데</td>\n",
              "      <td>0.50</td>\n",
              "      <td>4</td>\n",
              "      <td>4</td>\n",
              "      <td>1</td>\n",
              "      <td>2</td>\n",
              "      <td>0</td>\n",
              "      <td>0</td>\n",
              "      <td>1</td>\n",
              "      <td>3</td>\n",
              "      <td>0</td>\n",
              "      <td>0</td>\n",
              "      <td>0</td>\n",
              "      <td>0</td>\n",
              "      <td>2</td>\n",
              "      <td>0</td>\n",
              "      <td>0.50</td>\n",
              "    </tr>\n",
              "    <tr>\n",
              "      <th>03.24</th>\n",
              "      <td>롯데</td>\n",
              "      <td>0.20</td>\n",
              "      <td>5</td>\n",
              "      <td>5</td>\n",
              "      <td>1</td>\n",
              "      <td>1</td>\n",
              "      <td>0</td>\n",
              "      <td>0</td>\n",
              "      <td>1</td>\n",
              "      <td>3</td>\n",
              "      <td>0</td>\n",
              "      <td>0</td>\n",
              "      <td>0</td>\n",
              "      <td>0</td>\n",
              "      <td>2</td>\n",
              "      <td>1</td>\n",
              "      <td>0.33</td>\n",
              "    </tr>\n",
              "    <tr>\n",
              "      <th>03.26</th>\n",
              "      <td>한화</td>\n",
              "      <td>0.00</td>\n",
              "      <td>4</td>\n",
              "      <td>2</td>\n",
              "      <td>0</td>\n",
              "      <td>0</td>\n",
              "      <td>0</td>\n",
              "      <td>0</td>\n",
              "      <td>0</td>\n",
              "      <td>0</td>\n",
              "      <td>0</td>\n",
              "      <td>0</td>\n",
              "      <td>1</td>\n",
              "      <td>1</td>\n",
              "      <td>1</td>\n",
              "      <td>0</td>\n",
              "      <td>0.27</td>\n",
              "    </tr>\n",
              "    <tr>\n",
              "      <th>...</th>\n",
              "      <td>...</td>\n",
              "      <td>...</td>\n",
              "      <td>...</td>\n",
              "      <td>...</td>\n",
              "      <td>...</td>\n",
              "      <td>...</td>\n",
              "      <td>...</td>\n",
              "      <td>...</td>\n",
              "      <td>...</td>\n",
              "      <td>...</td>\n",
              "      <td>...</td>\n",
              "      <td>...</td>\n",
              "      <td>...</td>\n",
              "      <td>...</td>\n",
              "      <td>...</td>\n",
              "      <td>...</td>\n",
              "      <td>...</td>\n",
              "    </tr>\n",
              "    <tr>\n",
              "      <th>05.12</th>\n",
              "      <td>KIA</td>\n",
              "      <td>0.00</td>\n",
              "      <td>4</td>\n",
              "      <td>2</td>\n",
              "      <td>0</td>\n",
              "      <td>0</td>\n",
              "      <td>0</td>\n",
              "      <td>0</td>\n",
              "      <td>0</td>\n",
              "      <td>0</td>\n",
              "      <td>0</td>\n",
              "      <td>0</td>\n",
              "      <td>2</td>\n",
              "      <td>0</td>\n",
              "      <td>0</td>\n",
              "      <td>0</td>\n",
              "      <td>0.27</td>\n",
              "    </tr>\n",
              "    <tr>\n",
              "      <th>05.12</th>\n",
              "      <td>KIA</td>\n",
              "      <td>0.20</td>\n",
              "      <td>6</td>\n",
              "      <td>5</td>\n",
              "      <td>2</td>\n",
              "      <td>1</td>\n",
              "      <td>0</td>\n",
              "      <td>0</td>\n",
              "      <td>1</td>\n",
              "      <td>1</td>\n",
              "      <td>0</td>\n",
              "      <td>0</td>\n",
              "      <td>0</td>\n",
              "      <td>1</td>\n",
              "      <td>1</td>\n",
              "      <td>0</td>\n",
              "      <td>0.27</td>\n",
              "    </tr>\n",
              "    <tr>\n",
              "      <th>합계</th>\n",
              "      <td>합계</td>\n",
              "      <td>0.23</td>\n",
              "      <td>45</td>\n",
              "      <td>35</td>\n",
              "      <td>5</td>\n",
              "      <td>8</td>\n",
              "      <td>5</td>\n",
              "      <td>0</td>\n",
              "      <td>1</td>\n",
              "      <td>6</td>\n",
              "      <td>0</td>\n",
              "      <td>0</td>\n",
              "      <td>6</td>\n",
              "      <td>3</td>\n",
              "      <td>7</td>\n",
              "      <td>1</td>\n",
              "      <td>0.27</td>\n",
              "    </tr>\n",
              "  </tbody>\n",
              "</table>\n",
              "<p>39 rows × 17 columns</p>\n",
              "</div>"
            ],
            "text/plain": [
              "        상대 AVG1  PA  AB  R  H  2B  3B  HR  RBI  SB  CS  BB  HBP  SO  GDP  AVG2\n",
              "03.23   롯데 0.50   4   4  1  2   0   0   1    3   0   0   0    0   2    0  0.50\n",
              "03.24   롯데 0.20   5   5  1  1   0   0   1    3   0   0   0    0   2    1  0.33\n",
              "03.26   한화 0.00   4   2  0  0   0   0   0    0   0   0   1    1   1    0  0.27\n",
              "...    ...  ...  ..  .. .. ..  ..  ..  ..  ...  ..  ..  ..  ...  ..  ...   ...\n",
              "05.12  KIA 0.00   4   2  0  0   0   0   0    0   0   0   2    0   0    0  0.27\n",
              "05.12  KIA 0.20   6   5  2  1   0   0   1    1   0   0   0    1   1    0  0.27\n",
              "합계      합계 0.23  45  35  5  8   5   0   1    6   0   0   6    3   7    1  0.27\n",
              "\n",
              "[39 rows x 17 columns]"
            ]
          },
          "execution_count": 7,
          "metadata": {},
          "output_type": "execute_result"
        }
      ],
      "source": [
        "# 프로젝트 코드\n",
        "import pandas as pd\n",
        "pd.options.display.max_rows = 6 \n",
        "pd.options.display.float_format = '{:.2f}'.format\n",
        "url = 'https://www.koreabaseball.com/Record/Player/HitterDetail/Daily.aspx?playerId=75847'\n",
        "dfs = pd.read_html(url, index_col=0)\n",
        "df_ex1 = pd.concat(dfs)\n",
        "df_ex1"
      ]
    },
    {
      "cell_type": "code",
      "execution_count": 8,
      "metadata": {
        "colab": {
          "base_uri": "https://localhost:8080/"
        },
        "id": "hIbwxW9T9T_f",
        "outputId": "087f3c80-884d-4e6e-d8fe-84b24e75bdc3"
      },
      "outputs": [
        {
          "data": {
            "text/plain": [
              "Index(['03.23', '03.24', '03.26', '03.27', '03.28', '03.29', '03.30', '03.31',\n",
              "       '합계', '04.02', '04.04', '04.05', '04.06', '04.07', '04.09', '04.10',\n",
              "       '04.12', '04.13', '04.14', '04.16', '04.17', '04.24', '04.25', '04.26',\n",
              "       '04.27', '04.28', '04.30', '합계', '05.01', '05.02', '05.03', '05.04',\n",
              "       '05.07', '05.08', '05.09', '05.10', '05.12', '05.12', '합계'],\n",
              "      dtype='object')"
            ]
          },
          "execution_count": 8,
          "metadata": {},
          "output_type": "execute_result"
        }
      ],
      "source": [
        "# index 확인하기\n",
        "# 합계 열도 모두 합쳐져서 index가 되었다. 추후에 합계 열을 제거해야 한다\n",
        "df_ex1.index"
      ]
    },
    {
      "cell_type": "code",
      "execution_count": 9,
      "metadata": {
        "colab": {
          "base_uri": "https://localhost:8080/"
        },
        "id": "ETBPTwK5axON",
        "outputId": "80653306-fec9-4ff0-d6c6-eab6fb5fe42f"
      },
      "outputs": [
        {
          "data": {
            "text/plain": [
              "Index(['상대', 'AVG1', 'PA', 'AB', 'R', 'H', '2B', '3B', 'HR', 'RBI', 'SB', 'CS',\n",
              "       'BB', 'HBP', 'SO', 'GDP', 'AVG2'],\n",
              "      dtype='object')"
            ]
          },
          "execution_count": 9,
          "metadata": {},
          "output_type": "execute_result"
        }
      ],
      "source": [
        "# columns 확인하기\n",
        "df_ex1.columns"
      ]
    },
    {
      "cell_type": "code",
      "execution_count": 10,
      "metadata": {
        "colab": {
          "base_uri": "https://localhost:8080/"
        },
        "id": "ZtdSXXjp9iAb",
        "outputId": "d7dd70e4-bfd7-4599-c2a8-33a2614a62b7"
      },
      "outputs": [
        {
          "name": "stdout",
          "output_type": "stream",
          "text": [
            "<class 'pandas.core.frame.DataFrame'>\n",
            "Index: 39 entries, 03.23 to 합계\n",
            "Data columns (total 17 columns):\n",
            " #   Column  Non-Null Count  Dtype  \n",
            "---  ------  --------------  -----  \n",
            " 0   상대      39 non-null     object \n",
            " 1   AVG1    39 non-null     object \n",
            " 2   PA      39 non-null     int64  \n",
            " 3   AB      39 non-null     int64  \n",
            " 4   R       39 non-null     int64  \n",
            " 5   H       39 non-null     int64  \n",
            " 6   2B      39 non-null     int64  \n",
            " 7   3B      39 non-null     int64  \n",
            " 8   HR      39 non-null     int64  \n",
            " 9   RBI     39 non-null     int64  \n",
            " 10  SB      39 non-null     int64  \n",
            " 11  CS      39 non-null     int64  \n",
            " 12  BB      39 non-null     int64  \n",
            " 13  HBP     39 non-null     int64  \n",
            " 14  SO      39 non-null     int64  \n",
            " 15  GDP     39 non-null     int64  \n",
            " 16  AVG2    39 non-null     float64\n",
            "dtypes: float64(1), int64(14), object(2)\n",
            "memory usage: 5.5+ KB\n"
          ]
        }
      ],
      "source": [
        "# PA 타석, AB 타수, R 득점, H 안타, 2B 2루타, 3B 3루타, HR 홈런, RBI 타점\n",
        "# SB 도루, CS 도루실패, BB 볼넷, HBP 몸에 맞는 볼, SO 삼진, GDP 병살타, AVG2 시즌누적타율\n",
        "df_ex1.info()"
      ]
    },
    {
      "cell_type": "code",
      "execution_count": 11,
      "metadata": {
        "colab": {
          "base_uri": "https://localhost:8080/"
        },
        "id": "Gy4N3jRmA31B",
        "outputId": "db262e06-b507-420e-f190-ff94d0f5b915"
      },
      "outputs": [
        {
          "data": {
            "text/plain": [
              "(39, 17)"
            ]
          },
          "execution_count": 11,
          "metadata": {},
          "output_type": "execute_result"
        }
      ],
      "source": [
        "# 데이터 프레임 크기 파악하기\n",
        "df_ex1.shape"
      ]
    },
    {
      "cell_type": "code",
      "execution_count": 12,
      "metadata": {
        "colab": {
          "base_uri": "https://localhost:8080/"
        },
        "id": "KmllwHodSGrE",
        "outputId": "d18bce47-b12c-4a76-f752-54648654a264"
      },
      "outputs": [
        {
          "data": {
            "text/plain": [
              "39"
            ]
          },
          "execution_count": 12,
          "metadata": {},
          "output_type": "execute_result"
        }
      ],
      "source": [
        "# 데이터 프레임의 행의 수(주로 코드에 넣을 때)\n",
        "df_ex1.shape[0]"
      ]
    },
    {
      "cell_type": "code",
      "execution_count": 13,
      "metadata": {
        "colab": {
          "base_uri": "https://localhost:8080/"
        },
        "id": "hwAAgmw9A8N0",
        "outputId": "a98926e7-5512-4e44-87d1-77b9d220d1dd"
      },
      "outputs": [
        {
          "data": {
            "text/plain": [
              "상대       object\n",
              "AVG1     object\n",
              "PA        int64\n",
              "         ...   \n",
              "SO        int64\n",
              "GDP       int64\n",
              "AVG2    float64\n",
              "Length: 17, dtype: object"
            ]
          },
          "execution_count": 13,
          "metadata": {},
          "output_type": "execute_result"
        }
      ],
      "source": [
        "# 데이터 프레임 각 열의 dtype\n",
        "# object: 문자열 혹은 문자열과 다른 데이터 타입이 섞여 있는 경우\n",
        "df_ex1.dtypes"
      ]
    },
    {
      "cell_type": "code",
      "execution_count": 14,
      "metadata": {
        "colab": {
          "base_uri": "https://localhost:8080/",
          "height": 364
        },
        "id": "jES9ywyVH-X1",
        "outputId": "8926abba-5b67-4196-c107-2aca3976323c"
      },
      "outputs": [
        {
          "data": {
            "text/html": [
              "<div>\n",
              "<style scoped>\n",
              "    .dataframe tbody tr th:only-of-type {\n",
              "        vertical-align: middle;\n",
              "    }\n",
              "\n",
              "    .dataframe tbody tr th {\n",
              "        vertical-align: top;\n",
              "    }\n",
              "\n",
              "    .dataframe thead th {\n",
              "        text-align: right;\n",
              "    }\n",
              "</style>\n",
              "<table border=\"1\" class=\"dataframe\">\n",
              "  <thead>\n",
              "    <tr style=\"text-align: right;\">\n",
              "      <th></th>\n",
              "      <th>PA</th>\n",
              "      <th>AB</th>\n",
              "      <th>R</th>\n",
              "      <th>H</th>\n",
              "      <th>2B</th>\n",
              "      <th>3B</th>\n",
              "      <th>HR</th>\n",
              "      <th>RBI</th>\n",
              "      <th>SB</th>\n",
              "      <th>CS</th>\n",
              "      <th>BB</th>\n",
              "      <th>HBP</th>\n",
              "      <th>SO</th>\n",
              "      <th>GDP</th>\n",
              "      <th>AVG2</th>\n",
              "    </tr>\n",
              "  </thead>\n",
              "  <tbody>\n",
              "    <tr>\n",
              "      <th>count</th>\n",
              "      <td>39.00</td>\n",
              "      <td>39.00</td>\n",
              "      <td>39.00</td>\n",
              "      <td>39.00</td>\n",
              "      <td>39.00</td>\n",
              "      <td>39.00</td>\n",
              "      <td>39.00</td>\n",
              "      <td>39.00</td>\n",
              "      <td>39.00</td>\n",
              "      <td>39.00</td>\n",
              "      <td>39.00</td>\n",
              "      <td>39.00</td>\n",
              "      <td>39.00</td>\n",
              "      <td>39.00</td>\n",
              "      <td>39.00</td>\n",
              "    </tr>\n",
              "    <tr>\n",
              "      <th>mean</th>\n",
              "      <td>7.79</td>\n",
              "      <td>6.62</td>\n",
              "      <td>1.28</td>\n",
              "      <td>1.79</td>\n",
              "      <td>0.51</td>\n",
              "      <td>0.00</td>\n",
              "      <td>0.62</td>\n",
              "      <td>1.69</td>\n",
              "      <td>0.15</td>\n",
              "      <td>0.00</td>\n",
              "      <td>0.82</td>\n",
              "      <td>0.31</td>\n",
              "      <td>1.64</td>\n",
              "      <td>0.21</td>\n",
              "      <td>0.28</td>\n",
              "    </tr>\n",
              "    <tr>\n",
              "      <th>std</th>\n",
              "      <td>13.26</td>\n",
              "      <td>11.44</td>\n",
              "      <td>2.41</td>\n",
              "      <td>3.25</td>\n",
              "      <td>1.07</td>\n",
              "      <td>0.00</td>\n",
              "      <td>1.31</td>\n",
              "      <td>3.16</td>\n",
              "      <td>0.49</td>\n",
              "      <td>0.00</td>\n",
              "      <td>1.48</td>\n",
              "      <td>0.66</td>\n",
              "      <td>2.94</td>\n",
              "      <td>0.47</td>\n",
              "      <td>0.04</td>\n",
              "    </tr>\n",
              "    <tr>\n",
              "      <th>min</th>\n",
              "      <td>1.00</td>\n",
              "      <td>0.00</td>\n",
              "      <td>0.00</td>\n",
              "      <td>0.00</td>\n",
              "      <td>0.00</td>\n",
              "      <td>0.00</td>\n",
              "      <td>0.00</td>\n",
              "      <td>0.00</td>\n",
              "      <td>0.00</td>\n",
              "      <td>0.00</td>\n",
              "      <td>0.00</td>\n",
              "      <td>0.00</td>\n",
              "      <td>0.00</td>\n",
              "      <td>0.00</td>\n",
              "      <td>0.21</td>\n",
              "    </tr>\n",
              "    <tr>\n",
              "      <th>25%</th>\n",
              "      <td>4.00</td>\n",
              "      <td>3.00</td>\n",
              "      <td>0.00</td>\n",
              "      <td>0.00</td>\n",
              "      <td>0.00</td>\n",
              "      <td>0.00</td>\n",
              "      <td>0.00</td>\n",
              "      <td>0.00</td>\n",
              "      <td>0.00</td>\n",
              "      <td>0.00</td>\n",
              "      <td>0.00</td>\n",
              "      <td>0.00</td>\n",
              "      <td>0.00</td>\n",
              "      <td>0.00</td>\n",
              "      <td>0.27</td>\n",
              "    </tr>\n",
              "    <tr>\n",
              "      <th>50%</th>\n",
              "      <td>4.00</td>\n",
              "      <td>4.00</td>\n",
              "      <td>1.00</td>\n",
              "      <td>1.00</td>\n",
              "      <td>0.00</td>\n",
              "      <td>0.00</td>\n",
              "      <td>0.00</td>\n",
              "      <td>1.00</td>\n",
              "      <td>0.00</td>\n",
              "      <td>0.00</td>\n",
              "      <td>0.00</td>\n",
              "      <td>0.00</td>\n",
              "      <td>1.00</td>\n",
              "      <td>0.00</td>\n",
              "      <td>0.28</td>\n",
              "    </tr>\n",
              "    <tr>\n",
              "      <th>75%</th>\n",
              "      <td>5.00</td>\n",
              "      <td>5.00</td>\n",
              "      <td>2.00</td>\n",
              "      <td>2.00</td>\n",
              "      <td>1.00</td>\n",
              "      <td>0.00</td>\n",
              "      <td>1.00</td>\n",
              "      <td>1.00</td>\n",
              "      <td>0.00</td>\n",
              "      <td>0.00</td>\n",
              "      <td>1.00</td>\n",
              "      <td>0.00</td>\n",
              "      <td>1.00</td>\n",
              "      <td>0.00</td>\n",
              "      <td>0.29</td>\n",
              "    </tr>\n",
              "    <tr>\n",
              "      <th>max</th>\n",
              "      <td>71.00</td>\n",
              "      <td>63.00</td>\n",
              "      <td>13.00</td>\n",
              "      <td>18.00</td>\n",
              "      <td>5.00</td>\n",
              "      <td>0.00</td>\n",
              "      <td>7.00</td>\n",
              "      <td>14.00</td>\n",
              "      <td>2.00</td>\n",
              "      <td>0.00</td>\n",
              "      <td>6.00</td>\n",
              "      <td>3.00</td>\n",
              "      <td>16.00</td>\n",
              "      <td>2.00</td>\n",
              "      <td>0.50</td>\n",
              "    </tr>\n",
              "  </tbody>\n",
              "</table>\n",
              "</div>"
            ],
            "text/plain": [
              "         PA    AB     R     H    2B    3B    HR   RBI    SB    CS    BB   HBP  \\\n",
              "count 39.00 39.00 39.00 39.00 39.00 39.00 39.00 39.00 39.00 39.00 39.00 39.00   \n",
              "mean   7.79  6.62  1.28  1.79  0.51  0.00  0.62  1.69  0.15  0.00  0.82  0.31   \n",
              "std   13.26 11.44  2.41  3.25  1.07  0.00  1.31  3.16  0.49  0.00  1.48  0.66   \n",
              "min    1.00  0.00  0.00  0.00  0.00  0.00  0.00  0.00  0.00  0.00  0.00  0.00   \n",
              "25%    4.00  3.00  0.00  0.00  0.00  0.00  0.00  0.00  0.00  0.00  0.00  0.00   \n",
              "50%    4.00  4.00  1.00  1.00  0.00  0.00  0.00  1.00  0.00  0.00  0.00  0.00   \n",
              "75%    5.00  5.00  2.00  2.00  1.00  0.00  1.00  1.00  0.00  0.00  1.00  0.00   \n",
              "max   71.00 63.00 13.00 18.00  5.00  0.00  7.00 14.00  2.00  0.00  6.00  3.00   \n",
              "\n",
              "         SO   GDP  AVG2  \n",
              "count 39.00 39.00 39.00  \n",
              "mean   1.64  0.21  0.28  \n",
              "std    2.94  0.47  0.04  \n",
              "min    0.00  0.00  0.21  \n",
              "25%    0.00  0.00  0.27  \n",
              "50%    1.00  0.00  0.28  \n",
              "75%    1.00  0.00  0.29  \n",
              "max   16.00  2.00  0.50  "
            ]
          },
          "execution_count": 14,
          "metadata": {},
          "output_type": "execute_result"
        }
      ],
      "source": [
        "# 숫자 열들의 기본적인 통계자료\n",
        "pd.options.display.max_rows = 8 # 판다스 버전업에 따라 8행만 출력의 바뀐 코드\n",
        "pd.options.display.float_format = '{:.2f}'.format\n",
        "df_ex1.describe()"
      ]
    },
    {
      "cell_type": "code",
      "execution_count": 15,
      "metadata": {
        "colab": {
          "base_uri": "https://localhost:8080/"
        },
        "id": "vfzUuQO7Atkl",
        "outputId": "03bb65ac-72f1-48fd-cf61-2502e0e15ae9"
      },
      "outputs": [
        {
          "data": {
            "text/plain": [
              "array([ 4,  5,  2,  3, 31,  1,  0, 63, 35], dtype=int64)"
            ]
          },
          "execution_count": 15,
          "metadata": {},
          "output_type": "execute_result"
        }
      ],
      "source": [
        "# 고유값\n",
        "df_ex1['AB'].unique()"
      ]
    },
    {
      "cell_type": "markdown",
      "metadata": {
        "id": "f1u5jgvkSgyT"
      },
      "source": [
        "## 3. 데이터프레임의 인덱싱과 슬라이싱 (loc와 iloc)"
      ]
    },
    {
      "cell_type": "markdown",
      "metadata": {},
      "source": [
        "### 학습 목표\n",
        "- 데이터 프레임의 인덱싱과 슬라이싱을 해본다. (`[ ]`, `loc` 인덱서, `iloc` 인덱서)\n",
        "- 행이나 열을 삭제한다. (`drop` 함수)"
      ]
    },
    {
      "cell_type": "markdown",
      "metadata": {
        "id": "pGpS2MxoHj--"
      },
      "source": [
        "<img src=https://i.ibb.co/zJYNK4q/image.jpg, width=600>"
      ]
    },
    {
      "cell_type": "code",
      "execution_count": 16,
      "metadata": {
        "colab": {
          "base_uri": "https://localhost:8080/",
          "height": 175
        },
        "id": "yTgK1VBuYNKJ",
        "outputId": "f2b1d86a-74c8-46c4-85da-d5ad9cb295c6"
      },
      "outputs": [
        {
          "data": {
            "text/html": [
              "<div>\n",
              "<style scoped>\n",
              "    .dataframe tbody tr th:only-of-type {\n",
              "        vertical-align: middle;\n",
              "    }\n",
              "\n",
              "    .dataframe tbody tr th {\n",
              "        vertical-align: top;\n",
              "    }\n",
              "\n",
              "    .dataframe thead th {\n",
              "        text-align: right;\n",
              "    }\n",
              "</style>\n",
              "<table border=\"1\" class=\"dataframe\">\n",
              "  <thead>\n",
              "    <tr style=\"text-align: right;\">\n",
              "      <th></th>\n",
              "      <th>A</th>\n",
              "      <th>B</th>\n",
              "      <th>C</th>\n",
              "      <th>D</th>\n",
              "      <th>E</th>\n",
              "      <th>F</th>\n",
              "    </tr>\n",
              "  </thead>\n",
              "  <tbody>\n",
              "    <tr>\n",
              "      <th>가</th>\n",
              "      <td>1</td>\n",
              "      <td>3</td>\n",
              "      <td>1</td>\n",
              "      <td>0</td>\n",
              "      <td>4</td>\n",
              "      <td>1</td>\n",
              "    </tr>\n",
              "    <tr>\n",
              "      <th>나</th>\n",
              "      <td>6</td>\n",
              "      <td>5</td>\n",
              "      <td>8</td>\n",
              "      <td>9</td>\n",
              "      <td>0</td>\n",
              "      <td>3</td>\n",
              "    </tr>\n",
              "    <tr>\n",
              "      <th>다</th>\n",
              "      <td>7</td>\n",
              "      <td>6</td>\n",
              "      <td>2</td>\n",
              "      <td>3</td>\n",
              "      <td>4</td>\n",
              "      <td>8</td>\n",
              "    </tr>\n",
              "    <tr>\n",
              "      <th>라</th>\n",
              "      <td>9</td>\n",
              "      <td>0</td>\n",
              "      <td>2</td>\n",
              "      <td>0</td>\n",
              "      <td>6</td>\n",
              "      <td>5</td>\n",
              "    </tr>\n",
              "  </tbody>\n",
              "</table>\n",
              "</div>"
            ],
            "text/plain": [
              "   A  B  C  D  E  F\n",
              "가  1  3  1  0  4  1\n",
              "나  6  5  8  9  0  3\n",
              "다  7  6  2  3  4  8\n",
              "라  9  0  2  0  6  5"
            ]
          },
          "execution_count": 16,
          "metadata": {},
          "output_type": "execute_result"
        }
      ],
      "source": [
        "# 실습 준비코드\n",
        "data = [[1, 3, 1, 0, 4, 1], [6, 5, 8, 9, 0, 3],[7, 6, 2, 3, 4, 8], [9, 0, 2, 0, 6, 5]]\n",
        "df = pd.DataFrame(data, index=list('가나다라'), columns=list('ABCDEF'))\n",
        "df"
      ]
    },
    {
      "cell_type": "code",
      "execution_count": 17,
      "metadata": {
        "colab": {
          "base_uri": "https://localhost:8080/",
          "height": 143
        },
        "id": "1yLd89Xx_lHB",
        "outputId": "6b3ab738-5396-4d89-e24a-d3196fd12c29"
      },
      "outputs": [
        {
          "data": {
            "text/html": [
              "<div>\n",
              "<style scoped>\n",
              "    .dataframe tbody tr th:only-of-type {\n",
              "        vertical-align: middle;\n",
              "    }\n",
              "\n",
              "    .dataframe tbody tr th {\n",
              "        vertical-align: top;\n",
              "    }\n",
              "\n",
              "    .dataframe thead th {\n",
              "        text-align: right;\n",
              "    }\n",
              "</style>\n",
              "<table border=\"1\" class=\"dataframe\">\n",
              "  <thead>\n",
              "    <tr style=\"text-align: right;\">\n",
              "      <th></th>\n",
              "      <th>A</th>\n",
              "      <th>B</th>\n",
              "      <th>C</th>\n",
              "      <th>D</th>\n",
              "      <th>E</th>\n",
              "      <th>F</th>\n",
              "    </tr>\n",
              "  </thead>\n",
              "  <tbody>\n",
              "    <tr>\n",
              "      <th>가</th>\n",
              "      <td>1</td>\n",
              "      <td>3</td>\n",
              "      <td>1</td>\n",
              "      <td>0</td>\n",
              "      <td>4</td>\n",
              "      <td>1</td>\n",
              "    </tr>\n",
              "    <tr>\n",
              "      <th>나</th>\n",
              "      <td>6</td>\n",
              "      <td>5</td>\n",
              "      <td>8</td>\n",
              "      <td>9</td>\n",
              "      <td>0</td>\n",
              "      <td>3</td>\n",
              "    </tr>\n",
              "    <tr>\n",
              "      <th>다</th>\n",
              "      <td>7</td>\n",
              "      <td>6</td>\n",
              "      <td>2</td>\n",
              "      <td>3</td>\n",
              "      <td>4</td>\n",
              "      <td>8</td>\n",
              "    </tr>\n",
              "  </tbody>\n",
              "</table>\n",
              "</div>"
            ],
            "text/plain": [
              "   A  B  C  D  E  F\n",
              "가  1  3  1  0  4  1\n",
              "나  6  5  8  9  0  3\n",
              "다  7  6  2  3  4  8"
            ]
          },
          "execution_count": 17,
          "metadata": {},
          "output_type": "execute_result"
        }
      ],
      "source": [
        "# 대괄호 인덱싱 (각기 실행해보세요)\n",
        "df['A'] # A열\n",
        "df[['A', 'C']] # A열과 C열\n",
        "df['가':'다'] # 가행부터 다행까지 슬라이싱"
      ]
    },
    {
      "cell_type": "code",
      "execution_count": 18,
      "metadata": {
        "colab": {
          "base_uri": "https://localhost:8080/",
          "height": 143
        },
        "id": "AQpnlHH2_6YJ",
        "outputId": "f8620fc0-e62d-4a96-89de-22119d0953a5"
      },
      "outputs": [
        {
          "data": {
            "text/html": [
              "<div>\n",
              "<style scoped>\n",
              "    .dataframe tbody tr th:only-of-type {\n",
              "        vertical-align: middle;\n",
              "    }\n",
              "\n",
              "    .dataframe tbody tr th {\n",
              "        vertical-align: top;\n",
              "    }\n",
              "\n",
              "    .dataframe thead th {\n",
              "        text-align: right;\n",
              "    }\n",
              "</style>\n",
              "<table border=\"1\" class=\"dataframe\">\n",
              "  <thead>\n",
              "    <tr style=\"text-align: right;\">\n",
              "      <th></th>\n",
              "      <th>A</th>\n",
              "      <th>B</th>\n",
              "      <th>C</th>\n",
              "      <th>D</th>\n",
              "      <th>E</th>\n",
              "      <th>F</th>\n",
              "    </tr>\n",
              "  </thead>\n",
              "  <tbody>\n",
              "    <tr>\n",
              "      <th>가</th>\n",
              "      <td>1</td>\n",
              "      <td>3</td>\n",
              "      <td>1</td>\n",
              "      <td>0</td>\n",
              "      <td>4</td>\n",
              "      <td>1</td>\n",
              "    </tr>\n",
              "    <tr>\n",
              "      <th>나</th>\n",
              "      <td>6</td>\n",
              "      <td>5</td>\n",
              "      <td>8</td>\n",
              "      <td>9</td>\n",
              "      <td>0</td>\n",
              "      <td>3</td>\n",
              "    </tr>\n",
              "    <tr>\n",
              "      <th>다</th>\n",
              "      <td>7</td>\n",
              "      <td>6</td>\n",
              "      <td>2</td>\n",
              "      <td>3</td>\n",
              "      <td>4</td>\n",
              "      <td>8</td>\n",
              "    </tr>\n",
              "  </tbody>\n",
              "</table>\n",
              "</div>"
            ],
            "text/plain": [
              "   A  B  C  D  E  F\n",
              "가  1  3  1  0  4  1\n",
              "나  6  5  8  9  0  3\n",
              "다  7  6  2  3  4  8"
            ]
          },
          "execution_count": 18,
          "metadata": {},
          "output_type": "execute_result"
        }
      ],
      "source": [
        "# loc 인덱싱 (각기 실행해보세요)\n",
        "df.loc['가', 'A'] # 가 행의 A열\n",
        "df.loc[['가', '나'], ['A', 'C']] # 가, 나 행과 A열과 C열\n",
        "df.loc[['가', '나'], ['A', 'B', 'C']] # 가, 나 행과 A열과 B열과 C열 (인덱싱)\n",
        "df.loc[['가', '나'], 'A':'C'] # 가, 나 행과 A열과 B열과 C열 (슬라이싱)\n",
        "df.loc[['가', '나'], 'B':] # 가, 나 행과 B열에서 끝까지\n",
        "df.loc['가':'다', :] # 가행부터 다행까지 열은 전부\n",
        "df.loc['가':'다'] # 가행부터 다행까지 열은 전부"
      ]
    },
    {
      "cell_type": "code",
      "execution_count": 19,
      "metadata": {
        "colab": {
          "base_uri": "https://localhost:8080/",
          "height": 112
        },
        "id": "0xydN6PxA1XD",
        "outputId": "63faebf4-a794-4f37-dbce-c2e8396a290c"
      },
      "outputs": [
        {
          "data": {
            "text/html": [
              "<div>\n",
              "<style scoped>\n",
              "    .dataframe tbody tr th:only-of-type {\n",
              "        vertical-align: middle;\n",
              "    }\n",
              "\n",
              "    .dataframe tbody tr th {\n",
              "        vertical-align: top;\n",
              "    }\n",
              "\n",
              "    .dataframe thead th {\n",
              "        text-align: right;\n",
              "    }\n",
              "</style>\n",
              "<table border=\"1\" class=\"dataframe\">\n",
              "  <thead>\n",
              "    <tr style=\"text-align: right;\">\n",
              "      <th></th>\n",
              "      <th>C</th>\n",
              "      <th>D</th>\n",
              "      <th>E</th>\n",
              "      <th>F</th>\n",
              "    </tr>\n",
              "  </thead>\n",
              "  <tbody>\n",
              "    <tr>\n",
              "      <th>가</th>\n",
              "      <td>1</td>\n",
              "      <td>0</td>\n",
              "      <td>4</td>\n",
              "      <td>1</td>\n",
              "    </tr>\n",
              "    <tr>\n",
              "      <th>나</th>\n",
              "      <td>8</td>\n",
              "      <td>9</td>\n",
              "      <td>0</td>\n",
              "      <td>3</td>\n",
              "    </tr>\n",
              "  </tbody>\n",
              "</table>\n",
              "</div>"
            ],
            "text/plain": [
              "   C  D  E  F\n",
              "가  1  0  4  1\n",
              "나  8  9  0  3"
            ]
          },
          "execution_count": 19,
          "metadata": {},
          "output_type": "execute_result"
        }
      ],
      "source": [
        "# iloc 인덱싱 (각기 실행해보세요)\n",
        "df.iloc[0, :] # 첫번째 행\n",
        "df.iloc[0] # 첫번째 행\n",
        "df.iloc[:3, 2:] # 시작부터 다행까지 C열부터 끝까지\n",
        "df.iloc[[0, 1], 2:] # 가행과 나행 C열부터 끝까지"
      ]
    },
    {
      "cell_type": "markdown",
      "metadata": {
        "id": "NgepDol-VIoM"
      },
      "source": [
        "> pandas drop\n",
        "\n",
        "데이터 프레임의 행이나 열을 삭제하는 함수\n",
        "\n",
        "---\n",
        "**labels** (인수는 레이블 혹은 리스트)\n",
        "\n",
        "드롭할 행의 레이블(이름)이나 열의 레이블. 복수라면 리스트 로 묶어서 입력한다.\n",
        "\n",
        "**axis** (인수는 0 또는 1/기본값은 0)\n",
        "\n",
        "삭제할 부분이 행인지 열인지를 지정하는 인자. 기본값은 0이고 행을 삭제한다\n",
        "\n",
        "**level** (멀티 인덱스의 레벨 / 기본값은 None)\n",
        "\n",
        "멀티인덱스일 때 삭제할 레벨을 지정하는 인자\n",
        "\n",
        "[drop 판다스 공식문서](https://pandas.pydata.org/docs/reference/api/pandas.DataFrame.drop.html)\n"
      ]
    },
    {
      "cell_type": "code",
      "execution_count": 20,
      "metadata": {
        "colab": {
          "base_uri": "https://localhost:8080/",
          "height": 175
        },
        "id": "f7L30VNnBNwU",
        "outputId": "c0a50195-02eb-4852-a0ff-ab5335b34084"
      },
      "outputs": [
        {
          "data": {
            "text/html": [
              "<div>\n",
              "<style scoped>\n",
              "    .dataframe tbody tr th:only-of-type {\n",
              "        vertical-align: middle;\n",
              "    }\n",
              "\n",
              "    .dataframe tbody tr th {\n",
              "        vertical-align: top;\n",
              "    }\n",
              "\n",
              "    .dataframe thead th {\n",
              "        text-align: right;\n",
              "    }\n",
              "</style>\n",
              "<table border=\"1\" class=\"dataframe\">\n",
              "  <thead>\n",
              "    <tr style=\"text-align: right;\">\n",
              "      <th></th>\n",
              "      <th>A</th>\n",
              "      <th>B</th>\n",
              "      <th>C</th>\n",
              "      <th>E</th>\n",
              "      <th>F</th>\n",
              "    </tr>\n",
              "  </thead>\n",
              "  <tbody>\n",
              "    <tr>\n",
              "      <th>가</th>\n",
              "      <td>1</td>\n",
              "      <td>3</td>\n",
              "      <td>1</td>\n",
              "      <td>4</td>\n",
              "      <td>1</td>\n",
              "    </tr>\n",
              "    <tr>\n",
              "      <th>나</th>\n",
              "      <td>6</td>\n",
              "      <td>5</td>\n",
              "      <td>8</td>\n",
              "      <td>0</td>\n",
              "      <td>3</td>\n",
              "    </tr>\n",
              "    <tr>\n",
              "      <th>다</th>\n",
              "      <td>7</td>\n",
              "      <td>6</td>\n",
              "      <td>2</td>\n",
              "      <td>4</td>\n",
              "      <td>8</td>\n",
              "    </tr>\n",
              "    <tr>\n",
              "      <th>라</th>\n",
              "      <td>9</td>\n",
              "      <td>0</td>\n",
              "      <td>2</td>\n",
              "      <td>6</td>\n",
              "      <td>5</td>\n",
              "    </tr>\n",
              "  </tbody>\n",
              "</table>\n",
              "</div>"
            ],
            "text/plain": [
              "   A  B  C  E  F\n",
              "가  1  3  1  4  1\n",
              "나  6  5  8  0  3\n",
              "다  7  6  2  4  8\n",
              "라  9  0  2  6  5"
            ]
          },
          "execution_count": 20,
          "metadata": {},
          "output_type": "execute_result"
        }
      ],
      "source": [
        "# D열만 빼고 모두 가져오기\n",
        "df[['A', 'B', 'C', 'E', 'F']] # 인덱싱으로는 번거롭다\n",
        "df.drop('D', axis=1) # 삭제가 더 편리하다"
      ]
    },
    {
      "cell_type": "code",
      "execution_count": 21,
      "metadata": {
        "colab": {
          "base_uri": "https://localhost:8080/",
          "height": 112
        },
        "id": "rNWQnFkOBWyR",
        "outputId": "c33f47b5-1713-476e-b3b7-b508376aefb8"
      },
      "outputs": [
        {
          "data": {
            "text/html": [
              "<div>\n",
              "<style scoped>\n",
              "    .dataframe tbody tr th:only-of-type {\n",
              "        vertical-align: middle;\n",
              "    }\n",
              "\n",
              "    .dataframe tbody tr th {\n",
              "        vertical-align: top;\n",
              "    }\n",
              "\n",
              "    .dataframe thead th {\n",
              "        text-align: right;\n",
              "    }\n",
              "</style>\n",
              "<table border=\"1\" class=\"dataframe\">\n",
              "  <thead>\n",
              "    <tr style=\"text-align: right;\">\n",
              "      <th></th>\n",
              "      <th>A</th>\n",
              "      <th>B</th>\n",
              "      <th>D</th>\n",
              "      <th>E</th>\n",
              "      <th>F</th>\n",
              "    </tr>\n",
              "  </thead>\n",
              "  <tbody>\n",
              "    <tr>\n",
              "      <th>나</th>\n",
              "      <td>6</td>\n",
              "      <td>5</td>\n",
              "      <td>9</td>\n",
              "      <td>0</td>\n",
              "      <td>3</td>\n",
              "    </tr>\n",
              "    <tr>\n",
              "      <th>다</th>\n",
              "      <td>7</td>\n",
              "      <td>6</td>\n",
              "      <td>3</td>\n",
              "      <td>4</td>\n",
              "      <td>8</td>\n",
              "    </tr>\n",
              "  </tbody>\n",
              "</table>\n",
              "</div>"
            ],
            "text/plain": [
              "   A  B  D  E  F\n",
              "나  6  5  9  0  3\n",
              "다  7  6  3  4  8"
            ]
          },
          "execution_count": 21,
          "metadata": {},
          "output_type": "execute_result"
        }
      ],
      "source": [
        "# 행은 나와 다 그리고 열은 C열만 빼고 다 가져오기\n",
        "df.loc[['나', '다'], ['A', 'B', 'D', 'E', 'F']]"
      ]
    },
    {
      "cell_type": "code",
      "execution_count": 22,
      "metadata": {
        "colab": {
          "base_uri": "https://localhost:8080/",
          "height": 112
        },
        "id": "DjRA5XMQBmeB",
        "outputId": "7e342ee3-2137-4f7b-e9a2-fbed37fd1a2c"
      },
      "outputs": [
        {
          "data": {
            "text/html": [
              "<div>\n",
              "<style scoped>\n",
              "    .dataframe tbody tr th:only-of-type {\n",
              "        vertical-align: middle;\n",
              "    }\n",
              "\n",
              "    .dataframe tbody tr th {\n",
              "        vertical-align: top;\n",
              "    }\n",
              "\n",
              "    .dataframe thead th {\n",
              "        text-align: right;\n",
              "    }\n",
              "</style>\n",
              "<table border=\"1\" class=\"dataframe\">\n",
              "  <thead>\n",
              "    <tr style=\"text-align: right;\">\n",
              "      <th></th>\n",
              "      <th>A</th>\n",
              "      <th>B</th>\n",
              "      <th>D</th>\n",
              "      <th>E</th>\n",
              "      <th>F</th>\n",
              "    </tr>\n",
              "  </thead>\n",
              "  <tbody>\n",
              "    <tr>\n",
              "      <th>나</th>\n",
              "      <td>6</td>\n",
              "      <td>5</td>\n",
              "      <td>9</td>\n",
              "      <td>0</td>\n",
              "      <td>3</td>\n",
              "    </tr>\n",
              "    <tr>\n",
              "      <th>다</th>\n",
              "      <td>7</td>\n",
              "      <td>6</td>\n",
              "      <td>3</td>\n",
              "      <td>4</td>\n",
              "      <td>8</td>\n",
              "    </tr>\n",
              "  </tbody>\n",
              "</table>\n",
              "</div>"
            ],
            "text/plain": [
              "   A  B  D  E  F\n",
              "나  6  5  9  0  3\n",
              "다  7  6  3  4  8"
            ]
          },
          "execution_count": 22,
          "metadata": {},
          "output_type": "execute_result"
        }
      ],
      "source": [
        "# 인덱싱만 하는것보다 인덱싱과 drop 함수를 섞는 것이 편리할 때가 많다\n",
        "df.loc[['나', '다']].drop('C', axis=1)"
      ]
    },
    {
      "cell_type": "code",
      "execution_count": 23,
      "metadata": {
        "colab": {
          "base_uri": "https://localhost:8080/",
          "height": 298
        },
        "id": "JjOZpHDVdF-6",
        "outputId": "ac6452e3-b90a-49e0-afd8-e8a73a589b38"
      },
      "outputs": [
        {
          "data": {
            "text/html": [
              "<div>\n",
              "<style scoped>\n",
              "    .dataframe tbody tr th:only-of-type {\n",
              "        vertical-align: middle;\n",
              "    }\n",
              "\n",
              "    .dataframe tbody tr th {\n",
              "        vertical-align: top;\n",
              "    }\n",
              "\n",
              "    .dataframe thead th {\n",
              "        text-align: right;\n",
              "    }\n",
              "</style>\n",
              "<table border=\"1\" class=\"dataframe\">\n",
              "  <thead>\n",
              "    <tr style=\"text-align: right;\">\n",
              "      <th></th>\n",
              "      <th>상대</th>\n",
              "      <th>AVG1</th>\n",
              "      <th>PA</th>\n",
              "      <th>AB</th>\n",
              "      <th>R</th>\n",
              "      <th>H</th>\n",
              "      <th>2B</th>\n",
              "      <th>3B</th>\n",
              "      <th>HR</th>\n",
              "      <th>RBI</th>\n",
              "      <th>SB</th>\n",
              "      <th>CS</th>\n",
              "      <th>BB</th>\n",
              "      <th>HBP</th>\n",
              "      <th>SO</th>\n",
              "      <th>GDP</th>\n",
              "      <th>AVG2</th>\n",
              "    </tr>\n",
              "  </thead>\n",
              "  <tbody>\n",
              "    <tr>\n",
              "      <th>03.23</th>\n",
              "      <td>롯데</td>\n",
              "      <td>0.500</td>\n",
              "      <td>4</td>\n",
              "      <td>4</td>\n",
              "      <td>1</td>\n",
              "      <td>2</td>\n",
              "      <td>0</td>\n",
              "      <td>0</td>\n",
              "      <td>1</td>\n",
              "      <td>3</td>\n",
              "      <td>0</td>\n",
              "      <td>0</td>\n",
              "      <td>0</td>\n",
              "      <td>0</td>\n",
              "      <td>2</td>\n",
              "      <td>0</td>\n",
              "      <td>0.500</td>\n",
              "    </tr>\n",
              "    <tr>\n",
              "      <th>03.24</th>\n",
              "      <td>롯데</td>\n",
              "      <td>0.200</td>\n",
              "      <td>5</td>\n",
              "      <td>5</td>\n",
              "      <td>1</td>\n",
              "      <td>1</td>\n",
              "      <td>0</td>\n",
              "      <td>0</td>\n",
              "      <td>1</td>\n",
              "      <td>3</td>\n",
              "      <td>0</td>\n",
              "      <td>0</td>\n",
              "      <td>0</td>\n",
              "      <td>0</td>\n",
              "      <td>2</td>\n",
              "      <td>1</td>\n",
              "      <td>0.333</td>\n",
              "    </tr>\n",
              "    <tr>\n",
              "      <th>03.26</th>\n",
              "      <td>한화</td>\n",
              "      <td>0.000</td>\n",
              "      <td>4</td>\n",
              "      <td>2</td>\n",
              "      <td>0</td>\n",
              "      <td>0</td>\n",
              "      <td>0</td>\n",
              "      <td>0</td>\n",
              "      <td>0</td>\n",
              "      <td>0</td>\n",
              "      <td>0</td>\n",
              "      <td>0</td>\n",
              "      <td>1</td>\n",
              "      <td>1</td>\n",
              "      <td>1</td>\n",
              "      <td>0</td>\n",
              "      <td>0.273</td>\n",
              "    </tr>\n",
              "    <tr>\n",
              "      <th>...</th>\n",
              "      <td>...</td>\n",
              "      <td>...</td>\n",
              "      <td>...</td>\n",
              "      <td>...</td>\n",
              "      <td>...</td>\n",
              "      <td>...</td>\n",
              "      <td>...</td>\n",
              "      <td>...</td>\n",
              "      <td>...</td>\n",
              "      <td>...</td>\n",
              "      <td>...</td>\n",
              "      <td>...</td>\n",
              "      <td>...</td>\n",
              "      <td>...</td>\n",
              "      <td>...</td>\n",
              "      <td>...</td>\n",
              "      <td>...</td>\n",
              "    </tr>\n",
              "    <tr>\n",
              "      <th>05.12</th>\n",
              "      <td>KIA</td>\n",
              "      <td>0.000</td>\n",
              "      <td>4</td>\n",
              "      <td>2</td>\n",
              "      <td>0</td>\n",
              "      <td>0</td>\n",
              "      <td>0</td>\n",
              "      <td>0</td>\n",
              "      <td>0</td>\n",
              "      <td>0</td>\n",
              "      <td>0</td>\n",
              "      <td>0</td>\n",
              "      <td>2</td>\n",
              "      <td>0</td>\n",
              "      <td>0</td>\n",
              "      <td>0</td>\n",
              "      <td>0.274</td>\n",
              "    </tr>\n",
              "    <tr>\n",
              "      <th>05.12</th>\n",
              "      <td>KIA</td>\n",
              "      <td>0.200</td>\n",
              "      <td>6</td>\n",
              "      <td>5</td>\n",
              "      <td>2</td>\n",
              "      <td>1</td>\n",
              "      <td>0</td>\n",
              "      <td>0</td>\n",
              "      <td>1</td>\n",
              "      <td>1</td>\n",
              "      <td>0</td>\n",
              "      <td>0</td>\n",
              "      <td>0</td>\n",
              "      <td>1</td>\n",
              "      <td>1</td>\n",
              "      <td>0</td>\n",
              "      <td>0.271</td>\n",
              "    </tr>\n",
              "    <tr>\n",
              "      <th>합계</th>\n",
              "      <td>합계</td>\n",
              "      <td>0.229</td>\n",
              "      <td>45</td>\n",
              "      <td>35</td>\n",
              "      <td>5</td>\n",
              "      <td>8</td>\n",
              "      <td>5</td>\n",
              "      <td>0</td>\n",
              "      <td>1</td>\n",
              "      <td>6</td>\n",
              "      <td>0</td>\n",
              "      <td>0</td>\n",
              "      <td>6</td>\n",
              "      <td>3</td>\n",
              "      <td>7</td>\n",
              "      <td>1</td>\n",
              "      <td>0.271</td>\n",
              "    </tr>\n",
              "  </tbody>\n",
              "</table>\n",
              "<p>39 rows × 17 columns</p>\n",
              "</div>"
            ],
            "text/plain": [
              "        상대  AVG1  PA  AB  R  H  2B  3B  HR  RBI  SB  CS  BB  HBP  SO  GDP  \\\n",
              "03.23   롯데 0.500   4   4  1  2   0   0   1    3   0   0   0    0   2    0   \n",
              "03.24   롯데 0.200   5   5  1  1   0   0   1    3   0   0   0    0   2    1   \n",
              "03.26   한화 0.000   4   2  0  0   0   0   0    0   0   0   1    1   1    0   \n",
              "...    ...   ...  ..  .. .. ..  ..  ..  ..  ...  ..  ..  ..  ...  ..  ...   \n",
              "05.12  KIA 0.000   4   2  0  0   0   0   0    0   0   0   2    0   0    0   \n",
              "05.12  KIA 0.200   6   5  2  1   0   0   1    1   0   0   0    1   1    0   \n",
              "합계      합계 0.229  45  35  5  8   5   0   1    6   0   0   6    3   7    1   \n",
              "\n",
              "       AVG2  \n",
              "03.23 0.500  \n",
              "03.24 0.333  \n",
              "03.26 0.273  \n",
              "...     ...  \n",
              "05.12 0.274  \n",
              "05.12 0.271  \n",
              "합계    0.271  \n",
              "\n",
              "[39 rows x 17 columns]"
            ]
          },
          "execution_count": 23,
          "metadata": {},
          "output_type": "execute_result"
        }
      ],
      "source": [
        "# 프로젝트 코드\n",
        "import pandas as pd\n",
        "pd.options.display.max_rows = 6 \n",
        "pd.options.display.float_format = '{:.3f}'.format\n",
        "url = 'https://www.koreabaseball.com/Record/Player/HitterDetail/Daily.aspx?playerId=75847'\n",
        "dfs = pd.read_html(url, index_col=0)\n",
        "df_ex1 = pd.concat(dfs)\n",
        "df_ex1"
      ]
    },
    {
      "cell_type": "code",
      "execution_count": 24,
      "metadata": {
        "colab": {
          "base_uri": "https://localhost:8080/",
          "height": 298
        },
        "id": "mkaIVNMjbZ7w",
        "outputId": "2d61b026-5444-4983-d564-5cf81e450c9d"
      },
      "outputs": [
        {
          "data": {
            "text/html": [
              "<div>\n",
              "<style scoped>\n",
              "    .dataframe tbody tr th:only-of-type {\n",
              "        vertical-align: middle;\n",
              "    }\n",
              "\n",
              "    .dataframe tbody tr th {\n",
              "        vertical-align: top;\n",
              "    }\n",
              "\n",
              "    .dataframe thead th {\n",
              "        text-align: right;\n",
              "    }\n",
              "</style>\n",
              "<table border=\"1\" class=\"dataframe\">\n",
              "  <thead>\n",
              "    <tr style=\"text-align: right;\">\n",
              "      <th></th>\n",
              "      <th>AB</th>\n",
              "      <th>H</th>\n",
              "      <th>2B</th>\n",
              "      <th>3B</th>\n",
              "      <th>HR</th>\n",
              "    </tr>\n",
              "  </thead>\n",
              "  <tbody>\n",
              "    <tr>\n",
              "      <th>03.23</th>\n",
              "      <td>4</td>\n",
              "      <td>2</td>\n",
              "      <td>0</td>\n",
              "      <td>0</td>\n",
              "      <td>1</td>\n",
              "    </tr>\n",
              "    <tr>\n",
              "      <th>03.24</th>\n",
              "      <td>5</td>\n",
              "      <td>1</td>\n",
              "      <td>0</td>\n",
              "      <td>0</td>\n",
              "      <td>1</td>\n",
              "    </tr>\n",
              "    <tr>\n",
              "      <th>03.26</th>\n",
              "      <td>2</td>\n",
              "      <td>0</td>\n",
              "      <td>0</td>\n",
              "      <td>0</td>\n",
              "      <td>0</td>\n",
              "    </tr>\n",
              "    <tr>\n",
              "      <th>...</th>\n",
              "      <td>...</td>\n",
              "      <td>...</td>\n",
              "      <td>...</td>\n",
              "      <td>...</td>\n",
              "      <td>...</td>\n",
              "    </tr>\n",
              "    <tr>\n",
              "      <th>05.10</th>\n",
              "      <td>3</td>\n",
              "      <td>1</td>\n",
              "      <td>0</td>\n",
              "      <td>0</td>\n",
              "      <td>0</td>\n",
              "    </tr>\n",
              "    <tr>\n",
              "      <th>05.12</th>\n",
              "      <td>2</td>\n",
              "      <td>0</td>\n",
              "      <td>0</td>\n",
              "      <td>0</td>\n",
              "      <td>0</td>\n",
              "    </tr>\n",
              "    <tr>\n",
              "      <th>05.12</th>\n",
              "      <td>5</td>\n",
              "      <td>1</td>\n",
              "      <td>0</td>\n",
              "      <td>0</td>\n",
              "      <td>1</td>\n",
              "    </tr>\n",
              "  </tbody>\n",
              "</table>\n",
              "<p>36 rows × 5 columns</p>\n",
              "</div>"
            ],
            "text/plain": [
              "       AB  H  2B  3B  HR\n",
              "03.23   4  2   0   0   1\n",
              "03.24   5  1   0   0   1\n",
              "03.26   2  0   0   0   0\n",
              "...    .. ..  ..  ..  ..\n",
              "05.10   3  1   0   0   0\n",
              "05.12   2  0   0   0   0\n",
              "05.12   5  1   0   0   1\n",
              "\n",
              "[36 rows x 5 columns]"
            ]
          },
          "execution_count": 24,
          "metadata": {},
          "output_type": "execute_result"
        }
      ],
      "source": [
        "# 장타율을 구하는데 필요한 열만 인덱싱하고 합계행을 삭제한다\n",
        "df_ex2 = df_ex1[['AB', 'H', '2B', '3B', 'HR']].drop('합계')\n",
        "df_ex2"
      ]
    },
    {
      "cell_type": "markdown",
      "metadata": {
        "id": "1L9TANgLSrK9"
      },
      "source": [
        "## 4. 데이터프레임과 시리즈의 연산"
      ]
    },
    {
      "cell_type": "markdown",
      "metadata": {},
      "source": [
        "### 학습 목표\n",
        "- 데이터 프레임과 시리즈의 연산의 특징을 이해한다."
      ]
    },
    {
      "cell_type": "markdown",
      "metadata": {
        "id": "K8y4bWteIm_A"
      },
      "source": [
        "<img src=https://i.ibb.co/GQ5cZxj/image.jpg, width=600>"
      ]
    },
    {
      "cell_type": "code",
      "execution_count": 25,
      "metadata": {
        "id": "e-Sv_8WiKOzP"
      },
      "outputs": [],
      "source": [
        "# 실습준비 코드\n",
        "import pandas as pd\n",
        "s1 = pd.Series([0, 1, 2, 3], index=list('ABCD'))\n",
        "s2 = pd.Series([2, 3, 4, 5], index=list('ABCD'))\n",
        "s3 = pd.Series([2, 3, 4], index=list('CAD'))\n",
        "df1 = pd.DataFrame([[50, 40], [60, 70], [90, 70], [40, 20]], \n",
        "                   index=list('ABCD'), columns=['국어', '영어'])\n",
        "df2 = pd.DataFrame([[50, 60], [40, 70], [80, 70], [40, 90]], \n",
        "                   index=list('BADC'), columns=['국어', '영어'])"
      ]
    },
    {
      "cell_type": "code",
      "execution_count": 26,
      "metadata": {
        "colab": {
          "base_uri": "https://localhost:8080/"
        },
        "id": "9O9udSNnfaob",
        "outputId": "0a9753d0-27f6-41c4-c0e0-2d10e2d4e6ae"
      },
      "outputs": [
        {
          "data": {
            "text/plain": [
              "A    0\n",
              "B    2\n",
              "C    4\n",
              "D    6\n",
              "dtype: int64"
            ]
          },
          "execution_count": 26,
          "metadata": {},
          "output_type": "execute_result"
        }
      ],
      "source": [
        "# 시리즈와 스칼라(상수)의 연산 (각각 실행해보세요)\n",
        "s1 + 1\n",
        "s1 * 2"
      ]
    },
    {
      "cell_type": "code",
      "execution_count": 27,
      "metadata": {
        "colab": {
          "base_uri": "https://localhost:8080/"
        },
        "id": "VMxySltqfk80",
        "outputId": "772417ca-da5c-4339-a4d1-e2db28c51b19"
      },
      "outputs": [
        {
          "data": {
            "text/plain": [
              "A    False\n",
              "B    False\n",
              "C    False\n",
              "D     True\n",
              "dtype: bool"
            ]
          },
          "execution_count": 27,
          "metadata": {},
          "output_type": "execute_result"
        }
      ],
      "source": [
        "# 시리즈와 스칼라(상수)의 비교연산\n",
        "s1 > 2"
      ]
    },
    {
      "cell_type": "code",
      "execution_count": 28,
      "metadata": {
        "colab": {
          "base_uri": "https://localhost:8080/"
        },
        "id": "sgvK5PUAfpu-",
        "outputId": "fc6ad664-d69e-4230-839e-8b9e449b773a"
      },
      "outputs": [
        {
          "data": {
            "text/plain": [
              "A    2\n",
              "B    4\n",
              "C    6\n",
              "D    8\n",
              "dtype: int64"
            ]
          },
          "execution_count": 28,
          "metadata": {},
          "output_type": "execute_result"
        }
      ],
      "source": [
        "# 시리즈와 시리즈의 연산\n",
        "s1 + s2"
      ]
    },
    {
      "cell_type": "code",
      "execution_count": 29,
      "metadata": {
        "colab": {
          "base_uri": "https://localhost:8080/"
        },
        "id": "neZuIUY8fuAp",
        "outputId": "015ae760-5d7a-4c5c-cdf4-36b8246c1ccb"
      },
      "outputs": [
        {
          "data": {
            "text/plain": [
              "A   3.000\n",
              "B     NaN\n",
              "C   4.000\n",
              "D   7.000\n",
              "dtype: float64"
            ]
          },
          "execution_count": 29,
          "metadata": {},
          "output_type": "execute_result"
        }
      ],
      "source": [
        "# 시리즈와 시리즈의 연산 (인덱스의 구성이 서로 다를 때)\n",
        "s1 + s3"
      ]
    },
    {
      "cell_type": "code",
      "execution_count": 30,
      "metadata": {
        "colab": {
          "base_uri": "https://localhost:8080/",
          "height": 175
        },
        "id": "NuHBRllFfx2u",
        "outputId": "4e7f77cf-b1e6-4d98-d945-7d28379b20f1"
      },
      "outputs": [
        {
          "data": {
            "text/html": [
              "<div>\n",
              "<style scoped>\n",
              "    .dataframe tbody tr th:only-of-type {\n",
              "        vertical-align: middle;\n",
              "    }\n",
              "\n",
              "    .dataframe tbody tr th {\n",
              "        vertical-align: top;\n",
              "    }\n",
              "\n",
              "    .dataframe thead th {\n",
              "        text-align: right;\n",
              "    }\n",
              "</style>\n",
              "<table border=\"1\" class=\"dataframe\">\n",
              "  <thead>\n",
              "    <tr style=\"text-align: right;\">\n",
              "      <th></th>\n",
              "      <th>국어</th>\n",
              "      <th>영어</th>\n",
              "    </tr>\n",
              "  </thead>\n",
              "  <tbody>\n",
              "    <tr>\n",
              "      <th>A</th>\n",
              "      <td>False</td>\n",
              "      <td>False</td>\n",
              "    </tr>\n",
              "    <tr>\n",
              "      <th>B</th>\n",
              "      <td>False</td>\n",
              "      <td>True</td>\n",
              "    </tr>\n",
              "    <tr>\n",
              "      <th>C</th>\n",
              "      <td>False</td>\n",
              "      <td>True</td>\n",
              "    </tr>\n",
              "    <tr>\n",
              "      <th>D</th>\n",
              "      <td>False</td>\n",
              "      <td>False</td>\n",
              "    </tr>\n",
              "  </tbody>\n",
              "</table>\n",
              "</div>"
            ],
            "text/plain": [
              "      국어     영어\n",
              "A  False  False\n",
              "B  False   True\n",
              "C  False   True\n",
              "D  False  False"
            ]
          },
          "execution_count": 30,
          "metadata": {},
          "output_type": "execute_result"
        }
      ],
      "source": [
        "# 데이터 프레임과 스칼라(상수)의 연산 (각각 실행해 보세요)\n",
        "df1 + 1\n",
        "df1 == 70"
      ]
    },
    {
      "cell_type": "code",
      "execution_count": 31,
      "metadata": {
        "colab": {
          "base_uri": "https://localhost:8080/",
          "height": 175
        },
        "id": "pkI2HrL-f4if",
        "outputId": "11d9d3a1-819e-45af-aff8-19511c74136f"
      },
      "outputs": [
        {
          "data": {
            "text/html": [
              "<div>\n",
              "<style scoped>\n",
              "    .dataframe tbody tr th:only-of-type {\n",
              "        vertical-align: middle;\n",
              "    }\n",
              "\n",
              "    .dataframe tbody tr th {\n",
              "        vertical-align: top;\n",
              "    }\n",
              "\n",
              "    .dataframe thead th {\n",
              "        text-align: right;\n",
              "    }\n",
              "</style>\n",
              "<table border=\"1\" class=\"dataframe\">\n",
              "  <thead>\n",
              "    <tr style=\"text-align: right;\">\n",
              "      <th></th>\n",
              "      <th>국어</th>\n",
              "      <th>영어</th>\n",
              "    </tr>\n",
              "  </thead>\n",
              "  <tbody>\n",
              "    <tr>\n",
              "      <th>A</th>\n",
              "      <td>90</td>\n",
              "      <td>110</td>\n",
              "    </tr>\n",
              "    <tr>\n",
              "      <th>B</th>\n",
              "      <td>110</td>\n",
              "      <td>130</td>\n",
              "    </tr>\n",
              "    <tr>\n",
              "      <th>C</th>\n",
              "      <td>130</td>\n",
              "      <td>160</td>\n",
              "    </tr>\n",
              "    <tr>\n",
              "      <th>D</th>\n",
              "      <td>120</td>\n",
              "      <td>90</td>\n",
              "    </tr>\n",
              "  </tbody>\n",
              "</table>\n",
              "</div>"
            ],
            "text/plain": [
              "    국어   영어\n",
              "A   90  110\n",
              "B  110  130\n",
              "C  130  160\n",
              "D  120   90"
            ]
          },
          "execution_count": 31,
          "metadata": {},
          "output_type": "execute_result"
        }
      ],
      "source": [
        "# 데이터 프레임과 데이터 프레임의 연산\n",
        "df1 + df2"
      ]
    },
    {
      "cell_type": "code",
      "execution_count": 32,
      "metadata": {
        "colab": {
          "base_uri": "https://localhost:8080/"
        },
        "id": "ZX8XHCgDf7dy",
        "outputId": "bf77ddd0-b68d-489c-c9c3-826e64ba8e58"
      },
      "outputs": [
        {
          "data": {
            "text/plain": [
              "A     90\n",
              "B    130\n",
              "C    160\n",
              "D     60\n",
              "dtype: int64"
            ]
          },
          "execution_count": 32,
          "metadata": {},
          "output_type": "execute_result"
        }
      ],
      "source": [
        "# 데이터 프레임의 열간의 연산(시리즈의 연산)\n",
        "df1['국어'] + df1['영어']"
      ]
    },
    {
      "cell_type": "markdown",
      "metadata": {
        "id": "oEMbWkUfgA-i"
      },
      "source": [
        "## 5. 열 다루기"
      ]
    },
    {
      "cell_type": "markdown",
      "metadata": {},
      "source": [
        "### 학습 목표\n",
        "- 데이터 프레임에서 배정 방식으로 열을 생성한다.\n",
        "- 데이터 프레임에서 배정 방식으로 열을 수정한다."
      ]
    },
    {
      "cell_type": "code",
      "execution_count": 33,
      "metadata": {
        "colab": {
          "base_uri": "https://localhost:8080/",
          "height": 175
        },
        "id": "-Xr9cHYEgH7c",
        "outputId": "7f2fad9a-818f-4dd1-fae3-04fa026d3385"
      },
      "outputs": [
        {
          "data": {
            "text/html": [
              "<div>\n",
              "<style scoped>\n",
              "    .dataframe tbody tr th:only-of-type {\n",
              "        vertical-align: middle;\n",
              "    }\n",
              "\n",
              "    .dataframe tbody tr th {\n",
              "        vertical-align: top;\n",
              "    }\n",
              "\n",
              "    .dataframe thead th {\n",
              "        text-align: right;\n",
              "    }\n",
              "</style>\n",
              "<table border=\"1\" class=\"dataframe\">\n",
              "  <thead>\n",
              "    <tr style=\"text-align: right;\">\n",
              "      <th></th>\n",
              "      <th>국어</th>\n",
              "      <th>영어</th>\n",
              "    </tr>\n",
              "  </thead>\n",
              "  <tbody>\n",
              "    <tr>\n",
              "      <th>A</th>\n",
              "      <td>50</td>\n",
              "      <td>40</td>\n",
              "    </tr>\n",
              "    <tr>\n",
              "      <th>B</th>\n",
              "      <td>60</td>\n",
              "      <td>70</td>\n",
              "    </tr>\n",
              "    <tr>\n",
              "      <th>C</th>\n",
              "      <td>90</td>\n",
              "      <td>70</td>\n",
              "    </tr>\n",
              "    <tr>\n",
              "      <th>D</th>\n",
              "      <td>40</td>\n",
              "      <td>20</td>\n",
              "    </tr>\n",
              "  </tbody>\n",
              "</table>\n",
              "</div>"
            ],
            "text/plain": [
              "   국어  영어\n",
              "A  50  40\n",
              "B  60  70\n",
              "C  90  70\n",
              "D  40  20"
            ]
          },
          "execution_count": 33,
          "metadata": {},
          "output_type": "execute_result"
        }
      ],
      "source": [
        "# 실습준비 코드\n",
        "import pandas as pd\n",
        "dict1 = {'A': 1, 'B': 2, 'C': 4}\n",
        "df1 = pd.DataFrame([[50, 40], [60, 70], [90, 70], [40, 20]], \n",
        "                   index=list('ABCD'), columns=['국어', '영어'])\n",
        "df2 = pd.DataFrame([[50, 60], [40, 70], [80, 70], [40, 90]], \n",
        "                   index=list('BADC'), columns=['국어', '영어'])\n",
        "df1"
      ]
    },
    {
      "cell_type": "code",
      "execution_count": 34,
      "metadata": {
        "colab": {
          "base_uri": "https://localhost:8080/",
          "height": 175
        },
        "id": "SBvWHbhg8cLl",
        "outputId": "faf10171-7b9b-41c2-9420-98ec5a45d43e"
      },
      "outputs": [
        {
          "data": {
            "text/html": [
              "<div>\n",
              "<style scoped>\n",
              "    .dataframe tbody tr th:only-of-type {\n",
              "        vertical-align: middle;\n",
              "    }\n",
              "\n",
              "    .dataframe tbody tr th {\n",
              "        vertical-align: top;\n",
              "    }\n",
              "\n",
              "    .dataframe thead th {\n",
              "        text-align: right;\n",
              "    }\n",
              "</style>\n",
              "<table border=\"1\" class=\"dataframe\">\n",
              "  <thead>\n",
              "    <tr style=\"text-align: right;\">\n",
              "      <th></th>\n",
              "      <th>국어</th>\n",
              "      <th>영어</th>\n",
              "      <th>수학</th>\n",
              "    </tr>\n",
              "  </thead>\n",
              "  <tbody>\n",
              "    <tr>\n",
              "      <th>A</th>\n",
              "      <td>50</td>\n",
              "      <td>40</td>\n",
              "      <td>pass</td>\n",
              "    </tr>\n",
              "    <tr>\n",
              "      <th>B</th>\n",
              "      <td>60</td>\n",
              "      <td>70</td>\n",
              "      <td>pass</td>\n",
              "    </tr>\n",
              "    <tr>\n",
              "      <th>C</th>\n",
              "      <td>90</td>\n",
              "      <td>70</td>\n",
              "      <td>pass</td>\n",
              "    </tr>\n",
              "    <tr>\n",
              "      <th>D</th>\n",
              "      <td>40</td>\n",
              "      <td>20</td>\n",
              "      <td>pass</td>\n",
              "    </tr>\n",
              "  </tbody>\n",
              "</table>\n",
              "</div>"
            ],
            "text/plain": [
              "   국어  영어    수학\n",
              "A  50  40  pass\n",
              "B  60  70  pass\n",
              "C  90  70  pass\n",
              "D  40  20  pass"
            ]
          },
          "execution_count": 34,
          "metadata": {},
          "output_type": "execute_result"
        }
      ],
      "source": [
        "# 수학 열 만들기\n",
        "df1['수학'] = 'pass'\n",
        "df1"
      ]
    },
    {
      "cell_type": "code",
      "execution_count": 35,
      "metadata": {
        "colab": {
          "base_uri": "https://localhost:8080/",
          "height": 175
        },
        "id": "HohVugzE8lBm",
        "outputId": "e0c94a32-34df-449f-e72b-1796a63f169e"
      },
      "outputs": [
        {
          "data": {
            "text/html": [
              "<div>\n",
              "<style scoped>\n",
              "    .dataframe tbody tr th:only-of-type {\n",
              "        vertical-align: middle;\n",
              "    }\n",
              "\n",
              "    .dataframe tbody tr th {\n",
              "        vertical-align: top;\n",
              "    }\n",
              "\n",
              "    .dataframe thead th {\n",
              "        text-align: right;\n",
              "    }\n",
              "</style>\n",
              "<table border=\"1\" class=\"dataframe\">\n",
              "  <thead>\n",
              "    <tr style=\"text-align: right;\">\n",
              "      <th></th>\n",
              "      <th>국어</th>\n",
              "      <th>영어</th>\n",
              "      <th>수학</th>\n",
              "    </tr>\n",
              "  </thead>\n",
              "  <tbody>\n",
              "    <tr>\n",
              "      <th>A</th>\n",
              "      <td>50</td>\n",
              "      <td>40</td>\n",
              "      <td>-</td>\n",
              "    </tr>\n",
              "    <tr>\n",
              "      <th>B</th>\n",
              "      <td>60</td>\n",
              "      <td>70</td>\n",
              "      <td>-</td>\n",
              "    </tr>\n",
              "    <tr>\n",
              "      <th>C</th>\n",
              "      <td>90</td>\n",
              "      <td>70</td>\n",
              "      <td>-</td>\n",
              "    </tr>\n",
              "    <tr>\n",
              "      <th>D</th>\n",
              "      <td>40</td>\n",
              "      <td>20</td>\n",
              "      <td>-</td>\n",
              "    </tr>\n",
              "  </tbody>\n",
              "</table>\n",
              "</div>"
            ],
            "text/plain": [
              "   국어  영어 수학\n",
              "A  50  40  -\n",
              "B  60  70  -\n",
              "C  90  70  -\n",
              "D  40  20  -"
            ]
          },
          "execution_count": 35,
          "metadata": {},
          "output_type": "execute_result"
        }
      ],
      "source": [
        "# 열 수정하기\n",
        "df1['수학'] = '-'\n",
        "df1"
      ]
    },
    {
      "cell_type": "code",
      "execution_count": 36,
      "metadata": {
        "colab": {
          "base_uri": "https://localhost:8080/",
          "height": 175
        },
        "id": "KG3XpeyV8rz4",
        "outputId": "2239c097-3b04-4701-8492-066163c1e551"
      },
      "outputs": [
        {
          "data": {
            "text/html": [
              "<div>\n",
              "<style scoped>\n",
              "    .dataframe tbody tr th:only-of-type {\n",
              "        vertical-align: middle;\n",
              "    }\n",
              "\n",
              "    .dataframe tbody tr th {\n",
              "        vertical-align: top;\n",
              "    }\n",
              "\n",
              "    .dataframe thead th {\n",
              "        text-align: right;\n",
              "    }\n",
              "</style>\n",
              "<table border=\"1\" class=\"dataframe\">\n",
              "  <thead>\n",
              "    <tr style=\"text-align: right;\">\n",
              "      <th></th>\n",
              "      <th>국어</th>\n",
              "      <th>영어</th>\n",
              "      <th>수학</th>\n",
              "    </tr>\n",
              "  </thead>\n",
              "  <tbody>\n",
              "    <tr>\n",
              "      <th>A</th>\n",
              "      <td>50</td>\n",
              "      <td>40</td>\n",
              "      <td>10</td>\n",
              "    </tr>\n",
              "    <tr>\n",
              "      <th>B</th>\n",
              "      <td>60</td>\n",
              "      <td>70</td>\n",
              "      <td>20</td>\n",
              "    </tr>\n",
              "    <tr>\n",
              "      <th>C</th>\n",
              "      <td>90</td>\n",
              "      <td>70</td>\n",
              "      <td>30</td>\n",
              "    </tr>\n",
              "    <tr>\n",
              "      <th>D</th>\n",
              "      <td>40</td>\n",
              "      <td>20</td>\n",
              "      <td>40</td>\n",
              "    </tr>\n",
              "  </tbody>\n",
              "</table>\n",
              "</div>"
            ],
            "text/plain": [
              "   국어  영어  수학\n",
              "A  50  40  10\n",
              "B  60  70  20\n",
              "C  90  70  30\n",
              "D  40  20  40"
            ]
          },
          "execution_count": 36,
          "metadata": {},
          "output_type": "execute_result"
        }
      ],
      "source": [
        "# 열 수정하기\n",
        "df1['수학'] = [10, 20, 30, 40]\n",
        "df1"
      ]
    },
    {
      "cell_type": "code",
      "execution_count": 37,
      "metadata": {
        "colab": {
          "base_uri": "https://localhost:8080/",
          "height": 175
        },
        "id": "3GOnRHsu8yBT",
        "outputId": "22c942b4-410f-4678-c2aa-62620b8a18ed"
      },
      "outputs": [
        {
          "data": {
            "text/html": [
              "<div>\n",
              "<style scoped>\n",
              "    .dataframe tbody tr th:only-of-type {\n",
              "        vertical-align: middle;\n",
              "    }\n",
              "\n",
              "    .dataframe tbody tr th {\n",
              "        vertical-align: top;\n",
              "    }\n",
              "\n",
              "    .dataframe thead th {\n",
              "        text-align: right;\n",
              "    }\n",
              "</style>\n",
              "<table border=\"1\" class=\"dataframe\">\n",
              "  <thead>\n",
              "    <tr style=\"text-align: right;\">\n",
              "      <th></th>\n",
              "      <th>국어</th>\n",
              "      <th>영어</th>\n",
              "      <th>수학</th>\n",
              "    </tr>\n",
              "  </thead>\n",
              "  <tbody>\n",
              "    <tr>\n",
              "      <th>A</th>\n",
              "      <td>50</td>\n",
              "      <td>40</td>\n",
              "      <td>10</td>\n",
              "    </tr>\n",
              "    <tr>\n",
              "      <th>B</th>\n",
              "      <td>60</td>\n",
              "      <td>70</td>\n",
              "      <td>20</td>\n",
              "    </tr>\n",
              "    <tr>\n",
              "      <th>C</th>\n",
              "      <td>90</td>\n",
              "      <td>70</td>\n",
              "      <td>30</td>\n",
              "    </tr>\n",
              "    <tr>\n",
              "      <th>D</th>\n",
              "      <td>40</td>\n",
              "      <td>20</td>\n",
              "      <td>40</td>\n",
              "    </tr>\n",
              "  </tbody>\n",
              "</table>\n",
              "</div>"
            ],
            "text/plain": [
              "   국어  영어  수학\n",
              "A  50  40  10\n",
              "B  60  70  20\n",
              "C  90  70  30\n",
              "D  40  20  40"
            ]
          },
          "execution_count": 37,
          "metadata": {},
          "output_type": "execute_result"
        }
      ],
      "source": [
        "# 시리즈를 배정하기\n",
        "s1 = pd.Series([10, 20, 30, 40], index=list('ABCD'))\n",
        "df1['수학'] = s1\n",
        "df1"
      ]
    },
    {
      "cell_type": "code",
      "execution_count": 38,
      "metadata": {
        "colab": {
          "base_uri": "https://localhost:8080/",
          "height": 175
        },
        "id": "PRp0LU7MrXV0",
        "outputId": "61bc6d42-d555-4984-f084-7c7044774cf1"
      },
      "outputs": [
        {
          "data": {
            "text/html": [
              "<div>\n",
              "<style scoped>\n",
              "    .dataframe tbody tr th:only-of-type {\n",
              "        vertical-align: middle;\n",
              "    }\n",
              "\n",
              "    .dataframe tbody tr th {\n",
              "        vertical-align: top;\n",
              "    }\n",
              "\n",
              "    .dataframe thead th {\n",
              "        text-align: right;\n",
              "    }\n",
              "</style>\n",
              "<table border=\"1\" class=\"dataframe\">\n",
              "  <thead>\n",
              "    <tr style=\"text-align: right;\">\n",
              "      <th></th>\n",
              "      <th>국어</th>\n",
              "      <th>영어</th>\n",
              "      <th>수학</th>\n",
              "      <th>과학</th>\n",
              "      <th>사회</th>\n",
              "    </tr>\n",
              "  </thead>\n",
              "  <tbody>\n",
              "    <tr>\n",
              "      <th>A</th>\n",
              "      <td>50</td>\n",
              "      <td>40</td>\n",
              "      <td>10</td>\n",
              "      <td>pass</td>\n",
              "      <td>pass</td>\n",
              "    </tr>\n",
              "    <tr>\n",
              "      <th>B</th>\n",
              "      <td>60</td>\n",
              "      <td>70</td>\n",
              "      <td>20</td>\n",
              "      <td>pass</td>\n",
              "      <td>pass</td>\n",
              "    </tr>\n",
              "    <tr>\n",
              "      <th>C</th>\n",
              "      <td>90</td>\n",
              "      <td>70</td>\n",
              "      <td>30</td>\n",
              "      <td>pass</td>\n",
              "      <td>pass</td>\n",
              "    </tr>\n",
              "    <tr>\n",
              "      <th>D</th>\n",
              "      <td>40</td>\n",
              "      <td>20</td>\n",
              "      <td>40</td>\n",
              "      <td>pass</td>\n",
              "      <td>pass</td>\n",
              "    </tr>\n",
              "  </tbody>\n",
              "</table>\n",
              "</div>"
            ],
            "text/plain": [
              "   국어  영어  수학    과학    사회\n",
              "A  50  40  10  pass  pass\n",
              "B  60  70  20  pass  pass\n",
              "C  90  70  30  pass  pass\n",
              "D  40  20  40  pass  pass"
            ]
          },
          "execution_count": 38,
          "metadata": {},
          "output_type": "execute_result"
        }
      ],
      "source": [
        "# 복수의 열 한번에 만들기\n",
        "df1[['과학', '사회']] = 'pass'\n",
        "df1"
      ]
    },
    {
      "cell_type": "code",
      "execution_count": 39,
      "metadata": {
        "colab": {
          "base_uri": "https://localhost:8080/",
          "height": 175
        },
        "id": "cR9lBYD1gh1i",
        "outputId": "5216363d-b196-4776-97a0-f618cbea5b84"
      },
      "outputs": [
        {
          "data": {
            "text/html": [
              "<div>\n",
              "<style scoped>\n",
              "    .dataframe tbody tr th:only-of-type {\n",
              "        vertical-align: middle;\n",
              "    }\n",
              "\n",
              "    .dataframe tbody tr th {\n",
              "        vertical-align: top;\n",
              "    }\n",
              "\n",
              "    .dataframe thead th {\n",
              "        text-align: right;\n",
              "    }\n",
              "</style>\n",
              "<table border=\"1\" class=\"dataframe\">\n",
              "  <thead>\n",
              "    <tr style=\"text-align: right;\">\n",
              "      <th></th>\n",
              "      <th>국어</th>\n",
              "      <th>영어</th>\n",
              "      <th>총점</th>\n",
              "    </tr>\n",
              "  </thead>\n",
              "  <tbody>\n",
              "    <tr>\n",
              "      <th>B</th>\n",
              "      <td>50</td>\n",
              "      <td>60</td>\n",
              "      <td>110</td>\n",
              "    </tr>\n",
              "    <tr>\n",
              "      <th>A</th>\n",
              "      <td>40</td>\n",
              "      <td>70</td>\n",
              "      <td>110</td>\n",
              "    </tr>\n",
              "    <tr>\n",
              "      <th>D</th>\n",
              "      <td>80</td>\n",
              "      <td>70</td>\n",
              "      <td>150</td>\n",
              "    </tr>\n",
              "    <tr>\n",
              "      <th>C</th>\n",
              "      <td>40</td>\n",
              "      <td>90</td>\n",
              "      <td>130</td>\n",
              "    </tr>\n",
              "  </tbody>\n",
              "</table>\n",
              "</div>"
            ],
            "text/plain": [
              "   국어  영어   총점\n",
              "B  50  60  110\n",
              "A  40  70  110\n",
              "D  80  70  150\n",
              "C  40  90  130"
            ]
          },
          "execution_count": 39,
          "metadata": {},
          "output_type": "execute_result"
        }
      ],
      "source": [
        "# 열간의 연산으로 열 만들기\n",
        "df2['총점'] = df2['국어'] + df2['영어']\n",
        "df2"
      ]
    },
    {
      "cell_type": "code",
      "execution_count": null,
      "metadata": {
        "colab": {
          "base_uri": "https://localhost:8080/",
          "height": 298
        },
        "id": "8qREu7NcgjtV",
        "outputId": "4aff6d19-0ef8-49f4-9cab-674be6f8cd74"
      },
      "outputs": [],
      "source": [
        "# 프로젝트 코드\n",
        "import pandas as pd\n",
        "pd.options.display.max_rows = 6 \n",
        "pd.options.display.float_format = '{:.3f}'.format # 소수점 세자리까지 출력옵션\n",
        "url = 'https://www.koreabaseball.com/Record/Player/HitterDetail/Daily.aspx?playerId=75847'\n",
        "dfs = pd.read_html(url, index_col=0)\n",
        "df_ex1 = pd.concat(dfs)\n",
        "df_ex2 = df_ex1[['AB', 'H', '2B', '3B', 'HR']].drop('합계')\n",
        "df_ex2"
      ]
    },
    {
      "cell_type": "code",
      "execution_count": 40,
      "metadata": {
        "colab": {
          "base_uri": "https://localhost:8080/",
          "height": 298
        },
        "id": "CHdY_Aq7hDqM",
        "outputId": "c09471aa-f032-42e8-d35c-a14d1f7bd5be"
      },
      "outputs": [
        {
          "data": {
            "text/html": [
              "<div>\n",
              "<style scoped>\n",
              "    .dataframe tbody tr th:only-of-type {\n",
              "        vertical-align: middle;\n",
              "    }\n",
              "\n",
              "    .dataframe tbody tr th {\n",
              "        vertical-align: top;\n",
              "    }\n",
              "\n",
              "    .dataframe thead th {\n",
              "        text-align: right;\n",
              "    }\n",
              "</style>\n",
              "<table border=\"1\" class=\"dataframe\">\n",
              "  <thead>\n",
              "    <tr style=\"text-align: right;\">\n",
              "      <th></th>\n",
              "      <th>AB</th>\n",
              "      <th>H</th>\n",
              "      <th>2B</th>\n",
              "      <th>3B</th>\n",
              "      <th>HR</th>\n",
              "      <th>루타</th>\n",
              "    </tr>\n",
              "  </thead>\n",
              "  <tbody>\n",
              "    <tr>\n",
              "      <th>03.23</th>\n",
              "      <td>4</td>\n",
              "      <td>2</td>\n",
              "      <td>0</td>\n",
              "      <td>0</td>\n",
              "      <td>1</td>\n",
              "      <td>6</td>\n",
              "    </tr>\n",
              "    <tr>\n",
              "      <th>03.24</th>\n",
              "      <td>5</td>\n",
              "      <td>1</td>\n",
              "      <td>0</td>\n",
              "      <td>0</td>\n",
              "      <td>1</td>\n",
              "      <td>5</td>\n",
              "    </tr>\n",
              "    <tr>\n",
              "      <th>03.26</th>\n",
              "      <td>2</td>\n",
              "      <td>0</td>\n",
              "      <td>0</td>\n",
              "      <td>0</td>\n",
              "      <td>0</td>\n",
              "      <td>0</td>\n",
              "    </tr>\n",
              "    <tr>\n",
              "      <th>...</th>\n",
              "      <td>...</td>\n",
              "      <td>...</td>\n",
              "      <td>...</td>\n",
              "      <td>...</td>\n",
              "      <td>...</td>\n",
              "      <td>...</td>\n",
              "    </tr>\n",
              "    <tr>\n",
              "      <th>05.10</th>\n",
              "      <td>3</td>\n",
              "      <td>1</td>\n",
              "      <td>0</td>\n",
              "      <td>0</td>\n",
              "      <td>0</td>\n",
              "      <td>1</td>\n",
              "    </tr>\n",
              "    <tr>\n",
              "      <th>05.12</th>\n",
              "      <td>2</td>\n",
              "      <td>0</td>\n",
              "      <td>0</td>\n",
              "      <td>0</td>\n",
              "      <td>0</td>\n",
              "      <td>0</td>\n",
              "    </tr>\n",
              "    <tr>\n",
              "      <th>05.12</th>\n",
              "      <td>5</td>\n",
              "      <td>1</td>\n",
              "      <td>0</td>\n",
              "      <td>0</td>\n",
              "      <td>1</td>\n",
              "      <td>5</td>\n",
              "    </tr>\n",
              "  </tbody>\n",
              "</table>\n",
              "<p>36 rows × 6 columns</p>\n",
              "</div>"
            ],
            "text/plain": [
              "       AB  H  2B  3B  HR  루타\n",
              "03.23   4  2   0   0   1   6\n",
              "03.24   5  1   0   0   1   5\n",
              "03.26   2  0   0   0   0   0\n",
              "...    .. ..  ..  ..  ..  ..\n",
              "05.10   3  1   0   0   0   1\n",
              "05.12   2  0   0   0   0   0\n",
              "05.12   5  1   0   0   1   5\n",
              "\n",
              "[36 rows x 6 columns]"
            ]
          },
          "execution_count": 40,
          "metadata": {},
          "output_type": "execute_result"
        }
      ],
      "source": [
        "# 루타 열을 만들자\n",
        "df_ex2['루타'] = df_ex2['H'] + (df_ex2['2B'] * 2) + (df_ex2['3B'] * 3) + (df_ex2['HR'] * 4)\n",
        "df_ex2"
      ]
    },
    {
      "cell_type": "markdown",
      "metadata": {
        "id": "gLH5Y-SNhlxp"
      },
      "source": [
        "## 6. 데이터 프레임에 각종 통계함수 적용하기"
      ]
    },
    {
      "cell_type": "markdown",
      "metadata": {},
      "source": [
        "### 학습 목표\n",
        "- 데이터 프레임에 집계함수를 적용한다. (`mean`, `sum` 등)\n",
        "- 데이터 프레임에 누적 통계함수를 적용한다. (`cumsum` 함수)\n",
        "- 데이터 프레임으로 간단한 시각화를 한다. (`plot` 함수)"
      ]
    },
    {
      "cell_type": "markdown",
      "metadata": {
        "id": "vr0WlQPGTi7G"
      },
      "source": [
        "<img src=https://i.ibb.co/3CJXHrF/02.jpg, width=400>"
      ]
    },
    {
      "cell_type": "code",
      "execution_count": 41,
      "metadata": {
        "colab": {
          "base_uri": "https://localhost:8080/",
          "height": 298
        },
        "id": "MmyCk0KChxmW",
        "outputId": "73693e75-6305-4852-f0be-30cdfe5506f9"
      },
      "outputs": [
        {
          "data": {
            "text/html": [
              "<div>\n",
              "<style scoped>\n",
              "    .dataframe tbody tr th:only-of-type {\n",
              "        vertical-align: middle;\n",
              "    }\n",
              "\n",
              "    .dataframe tbody tr th {\n",
              "        vertical-align: top;\n",
              "    }\n",
              "\n",
              "    .dataframe thead th {\n",
              "        text-align: right;\n",
              "    }\n",
              "</style>\n",
              "<table border=\"1\" class=\"dataframe\">\n",
              "  <thead>\n",
              "    <tr style=\"text-align: right;\">\n",
              "      <th></th>\n",
              "      <th>AB</th>\n",
              "      <th>H</th>\n",
              "      <th>2B</th>\n",
              "      <th>3B</th>\n",
              "      <th>HR</th>\n",
              "      <th>루타</th>\n",
              "    </tr>\n",
              "  </thead>\n",
              "  <tbody>\n",
              "    <tr>\n",
              "      <th>03.23</th>\n",
              "      <td>4</td>\n",
              "      <td>2</td>\n",
              "      <td>0</td>\n",
              "      <td>0</td>\n",
              "      <td>1</td>\n",
              "      <td>6</td>\n",
              "    </tr>\n",
              "    <tr>\n",
              "      <th>03.24</th>\n",
              "      <td>5</td>\n",
              "      <td>1</td>\n",
              "      <td>0</td>\n",
              "      <td>0</td>\n",
              "      <td>1</td>\n",
              "      <td>5</td>\n",
              "    </tr>\n",
              "    <tr>\n",
              "      <th>03.26</th>\n",
              "      <td>2</td>\n",
              "      <td>0</td>\n",
              "      <td>0</td>\n",
              "      <td>0</td>\n",
              "      <td>0</td>\n",
              "      <td>0</td>\n",
              "    </tr>\n",
              "    <tr>\n",
              "      <th>...</th>\n",
              "      <td>...</td>\n",
              "      <td>...</td>\n",
              "      <td>...</td>\n",
              "      <td>...</td>\n",
              "      <td>...</td>\n",
              "      <td>...</td>\n",
              "    </tr>\n",
              "    <tr>\n",
              "      <th>05.10</th>\n",
              "      <td>3</td>\n",
              "      <td>1</td>\n",
              "      <td>0</td>\n",
              "      <td>0</td>\n",
              "      <td>0</td>\n",
              "      <td>1</td>\n",
              "    </tr>\n",
              "    <tr>\n",
              "      <th>05.12</th>\n",
              "      <td>2</td>\n",
              "      <td>0</td>\n",
              "      <td>0</td>\n",
              "      <td>0</td>\n",
              "      <td>0</td>\n",
              "      <td>0</td>\n",
              "    </tr>\n",
              "    <tr>\n",
              "      <th>05.12</th>\n",
              "      <td>5</td>\n",
              "      <td>1</td>\n",
              "      <td>0</td>\n",
              "      <td>0</td>\n",
              "      <td>1</td>\n",
              "      <td>5</td>\n",
              "    </tr>\n",
              "  </tbody>\n",
              "</table>\n",
              "<p>36 rows × 6 columns</p>\n",
              "</div>"
            ],
            "text/plain": [
              "       AB  H  2B  3B  HR  루타\n",
              "03.23   4  2   0   0   1   6\n",
              "03.24   5  1   0   0   1   5\n",
              "03.26   2  0   0   0   0   0\n",
              "...    .. ..  ..  ..  ..  ..\n",
              "05.10   3  1   0   0   0   1\n",
              "05.12   2  0   0   0   0   0\n",
              "05.12   5  1   0   0   1   5\n",
              "\n",
              "[36 rows x 6 columns]"
            ]
          },
          "execution_count": 41,
          "metadata": {},
          "output_type": "execute_result"
        }
      ],
      "source": [
        "# 프로젝트 코드\n",
        "import pandas as pd\n",
        "pd.options.display.max_rows = 6 \n",
        "pd.options.display.float_format = '{:.3f}'.format # 소수점 세자리까지 출력옵션\n",
        "url = 'https://www.koreabaseball.com/Record/Player/HitterDetail/Daily.aspx?playerId=75847'\n",
        "dfs = pd.read_html(url, index_col=0)\n",
        "df_ex1 = pd.concat(dfs)\n",
        "df_ex2 = df_ex1[['AB', 'H', '2B', '3B', 'HR']].drop('합계')\n",
        "df_ex2['루타'] = df_ex2['H'] + (df_ex2['2B'] * 2) + (df_ex2['3B'] * 3) + (df_ex2['HR'] * 4)\n",
        "df_ex2"
      ]
    },
    {
      "cell_type": "code",
      "execution_count": 42,
      "metadata": {
        "colab": {
          "base_uri": "https://localhost:8080/",
          "height": 206
        },
        "id": "9qySodwBKyvC",
        "outputId": "9da64542-a75e-483c-ae2b-e811a7a202ab"
      },
      "outputs": [
        {
          "data": {
            "text/html": [
              "<div>\n",
              "<style scoped>\n",
              "    .dataframe tbody tr th:only-of-type {\n",
              "        vertical-align: middle;\n",
              "    }\n",
              "\n",
              "    .dataframe tbody tr th {\n",
              "        vertical-align: top;\n",
              "    }\n",
              "\n",
              "    .dataframe thead th {\n",
              "        text-align: right;\n",
              "    }\n",
              "</style>\n",
              "<table border=\"1\" class=\"dataframe\">\n",
              "  <thead>\n",
              "    <tr style=\"text-align: right;\">\n",
              "      <th></th>\n",
              "      <th>AB</th>\n",
              "      <th>H</th>\n",
              "      <th>2B</th>\n",
              "      <th>3B</th>\n",
              "      <th>HR</th>\n",
              "      <th>루타</th>\n",
              "    </tr>\n",
              "  </thead>\n",
              "  <tbody>\n",
              "    <tr>\n",
              "      <th>03.23</th>\n",
              "      <td>4</td>\n",
              "      <td>2</td>\n",
              "      <td>0</td>\n",
              "      <td>0</td>\n",
              "      <td>1</td>\n",
              "      <td>6</td>\n",
              "    </tr>\n",
              "    <tr>\n",
              "      <th>03.24</th>\n",
              "      <td>5</td>\n",
              "      <td>1</td>\n",
              "      <td>0</td>\n",
              "      <td>0</td>\n",
              "      <td>1</td>\n",
              "      <td>5</td>\n",
              "    </tr>\n",
              "    <tr>\n",
              "      <th>03.26</th>\n",
              "      <td>2</td>\n",
              "      <td>0</td>\n",
              "      <td>0</td>\n",
              "      <td>0</td>\n",
              "      <td>0</td>\n",
              "      <td>0</td>\n",
              "    </tr>\n",
              "    <tr>\n",
              "      <th>03.27</th>\n",
              "      <td>3</td>\n",
              "      <td>0</td>\n",
              "      <td>0</td>\n",
              "      <td>0</td>\n",
              "      <td>0</td>\n",
              "      <td>0</td>\n",
              "    </tr>\n",
              "    <tr>\n",
              "      <th>03.28</th>\n",
              "      <td>5</td>\n",
              "      <td>2</td>\n",
              "      <td>0</td>\n",
              "      <td>0</td>\n",
              "      <td>1</td>\n",
              "      <td>6</td>\n",
              "    </tr>\n",
              "  </tbody>\n",
              "</table>\n",
              "</div>"
            ],
            "text/plain": [
              "       AB  H  2B  3B  HR  루타\n",
              "03.23   4  2   0   0   1   6\n",
              "03.24   5  1   0   0   1   5\n",
              "03.26   2  0   0   0   0   0\n",
              "03.27   3  0   0   0   0   0\n",
              "03.28   5  2   0   0   1   6"
            ]
          },
          "execution_count": 42,
          "metadata": {},
          "output_type": "execute_result"
        }
      ],
      "source": [
        "# df_ex2의 윗 다섯 줄을 따로 df로 지정하자\n",
        "df = df_ex2.head(5).copy()\n",
        "df"
      ]
    },
    {
      "cell_type": "code",
      "execution_count": 43,
      "metadata": {
        "colab": {
          "base_uri": "https://localhost:8080/"
        },
        "id": "sBqEw8F8K44o",
        "outputId": "f9468583-1a19-44c6-96a0-b90e32c5d180"
      },
      "outputs": [
        {
          "data": {
            "text/plain": [
              "AB    19\n",
              "H      5\n",
              "2B     0\n",
              "3B     0\n",
              "HR     3\n",
              "루타    17\n",
              "dtype: int64"
            ]
          },
          "execution_count": 43,
          "metadata": {},
          "output_type": "execute_result"
        }
      ],
      "source": [
        "# 각 열의 합\n",
        "df.sum()"
      ]
    },
    {
      "cell_type": "code",
      "execution_count": 44,
      "metadata": {
        "colab": {
          "base_uri": "https://localhost:8080/"
        },
        "id": "yrIoMUINI6_L",
        "outputId": "ebc9e759-c238-42a8-8584-93d1c862c023"
      },
      "outputs": [
        {
          "data": {
            "text/plain": [
              "AB   3.800\n",
              "H    1.000\n",
              "2B   0.000\n",
              "3B   0.000\n",
              "HR   0.600\n",
              "루타   3.400\n",
              "dtype: float64"
            ]
          },
          "execution_count": 44,
          "metadata": {},
          "output_type": "execute_result"
        }
      ],
      "source": [
        "# 각 열의 평균\n",
        "df.mean()"
      ]
    },
    {
      "cell_type": "code",
      "execution_count": 45,
      "metadata": {
        "colab": {
          "base_uri": "https://localhost:8080/"
        },
        "id": "l_BaBVX5LAs0",
        "outputId": "df196213-5764-44a4-abde-8732971ff790"
      },
      "outputs": [
        {
          "data": {
            "text/plain": [
              "03.23    13\n",
              "03.24    12\n",
              "03.26     2\n",
              "03.27     3\n",
              "03.28    14\n",
              "dtype: int64"
            ]
          },
          "execution_count": 45,
          "metadata": {},
          "output_type": "execute_result"
        }
      ],
      "source": [
        "# 각 행의 합\n",
        "df.sum(axis=1)"
      ]
    },
    {
      "cell_type": "code",
      "execution_count": 46,
      "metadata": {
        "colab": {
          "base_uri": "https://localhost:8080/",
          "height": 206
        },
        "id": "Lc26J_W9LSIt",
        "outputId": "63db2a2a-1e0f-4f54-b3df-7eb1411f96ef"
      },
      "outputs": [
        {
          "data": {
            "text/html": [
              "<div>\n",
              "<style scoped>\n",
              "    .dataframe tbody tr th:only-of-type {\n",
              "        vertical-align: middle;\n",
              "    }\n",
              "\n",
              "    .dataframe tbody tr th {\n",
              "        vertical-align: top;\n",
              "    }\n",
              "\n",
              "    .dataframe thead th {\n",
              "        text-align: right;\n",
              "    }\n",
              "</style>\n",
              "<table border=\"1\" class=\"dataframe\">\n",
              "  <thead>\n",
              "    <tr style=\"text-align: right;\">\n",
              "      <th></th>\n",
              "      <th>AB</th>\n",
              "      <th>H</th>\n",
              "      <th>2B</th>\n",
              "      <th>3B</th>\n",
              "      <th>HR</th>\n",
              "      <th>루타</th>\n",
              "    </tr>\n",
              "  </thead>\n",
              "  <tbody>\n",
              "    <tr>\n",
              "      <th>03.23</th>\n",
              "      <td>4</td>\n",
              "      <td>2</td>\n",
              "      <td>0</td>\n",
              "      <td>0</td>\n",
              "      <td>1</td>\n",
              "      <td>6</td>\n",
              "    </tr>\n",
              "    <tr>\n",
              "      <th>03.24</th>\n",
              "      <td>9</td>\n",
              "      <td>3</td>\n",
              "      <td>0</td>\n",
              "      <td>0</td>\n",
              "      <td>2</td>\n",
              "      <td>11</td>\n",
              "    </tr>\n",
              "    <tr>\n",
              "      <th>03.26</th>\n",
              "      <td>11</td>\n",
              "      <td>3</td>\n",
              "      <td>0</td>\n",
              "      <td>0</td>\n",
              "      <td>2</td>\n",
              "      <td>11</td>\n",
              "    </tr>\n",
              "    <tr>\n",
              "      <th>03.27</th>\n",
              "      <td>14</td>\n",
              "      <td>3</td>\n",
              "      <td>0</td>\n",
              "      <td>0</td>\n",
              "      <td>2</td>\n",
              "      <td>11</td>\n",
              "    </tr>\n",
              "    <tr>\n",
              "      <th>03.28</th>\n",
              "      <td>19</td>\n",
              "      <td>5</td>\n",
              "      <td>0</td>\n",
              "      <td>0</td>\n",
              "      <td>3</td>\n",
              "      <td>17</td>\n",
              "    </tr>\n",
              "  </tbody>\n",
              "</table>\n",
              "</div>"
            ],
            "text/plain": [
              "       AB  H  2B  3B  HR  루타\n",
              "03.23   4  2   0   0   1   6\n",
              "03.24   9  3   0   0   2  11\n",
              "03.26  11  3   0   0   2  11\n",
              "03.27  14  3   0   0   2  11\n",
              "03.28  19  5   0   0   3  17"
            ]
          },
          "execution_count": 46,
          "metadata": {},
          "output_type": "execute_result"
        }
      ],
      "source": [
        "# 누적합\n",
        "df.cumsum()"
      ]
    },
    {
      "cell_type": "code",
      "execution_count": 47,
      "metadata": {
        "colab": {
          "base_uri": "https://localhost:8080/",
          "height": 298
        },
        "id": "QodEkxSLjIBf",
        "outputId": "689c5f8e-1a05-4503-c990-1405263ab9fb"
      },
      "outputs": [
        {
          "data": {
            "text/html": [
              "<div>\n",
              "<style scoped>\n",
              "    .dataframe tbody tr th:only-of-type {\n",
              "        vertical-align: middle;\n",
              "    }\n",
              "\n",
              "    .dataframe tbody tr th {\n",
              "        vertical-align: top;\n",
              "    }\n",
              "\n",
              "    .dataframe thead th {\n",
              "        text-align: right;\n",
              "    }\n",
              "</style>\n",
              "<table border=\"1\" class=\"dataframe\">\n",
              "  <thead>\n",
              "    <tr style=\"text-align: right;\">\n",
              "      <th></th>\n",
              "      <th>AB</th>\n",
              "      <th>H</th>\n",
              "      <th>2B</th>\n",
              "      <th>3B</th>\n",
              "      <th>HR</th>\n",
              "      <th>루타</th>\n",
              "      <th>누적루타</th>\n",
              "      <th>누적타수</th>\n",
              "      <th>SLG</th>\n",
              "    </tr>\n",
              "  </thead>\n",
              "  <tbody>\n",
              "    <tr>\n",
              "      <th>03.23</th>\n",
              "      <td>4</td>\n",
              "      <td>2</td>\n",
              "      <td>0</td>\n",
              "      <td>0</td>\n",
              "      <td>1</td>\n",
              "      <td>6</td>\n",
              "      <td>6</td>\n",
              "      <td>4</td>\n",
              "      <td>1.500</td>\n",
              "    </tr>\n",
              "    <tr>\n",
              "      <th>03.24</th>\n",
              "      <td>5</td>\n",
              "      <td>1</td>\n",
              "      <td>0</td>\n",
              "      <td>0</td>\n",
              "      <td>1</td>\n",
              "      <td>5</td>\n",
              "      <td>11</td>\n",
              "      <td>9</td>\n",
              "      <td>1.222</td>\n",
              "    </tr>\n",
              "    <tr>\n",
              "      <th>03.26</th>\n",
              "      <td>2</td>\n",
              "      <td>0</td>\n",
              "      <td>0</td>\n",
              "      <td>0</td>\n",
              "      <td>0</td>\n",
              "      <td>0</td>\n",
              "      <td>11</td>\n",
              "      <td>11</td>\n",
              "      <td>1.000</td>\n",
              "    </tr>\n",
              "    <tr>\n",
              "      <th>...</th>\n",
              "      <td>...</td>\n",
              "      <td>...</td>\n",
              "      <td>...</td>\n",
              "      <td>...</td>\n",
              "      <td>...</td>\n",
              "      <td>...</td>\n",
              "      <td>...</td>\n",
              "      <td>...</td>\n",
              "      <td>...</td>\n",
              "    </tr>\n",
              "    <tr>\n",
              "      <th>05.10</th>\n",
              "      <td>3</td>\n",
              "      <td>1</td>\n",
              "      <td>0</td>\n",
              "      <td>0</td>\n",
              "      <td>0</td>\n",
              "      <td>1</td>\n",
              "      <td>98</td>\n",
              "      <td>122</td>\n",
              "      <td>0.803</td>\n",
              "    </tr>\n",
              "    <tr>\n",
              "      <th>05.12</th>\n",
              "      <td>2</td>\n",
              "      <td>0</td>\n",
              "      <td>0</td>\n",
              "      <td>0</td>\n",
              "      <td>0</td>\n",
              "      <td>0</td>\n",
              "      <td>98</td>\n",
              "      <td>124</td>\n",
              "      <td>0.790</td>\n",
              "    </tr>\n",
              "    <tr>\n",
              "      <th>05.12</th>\n",
              "      <td>5</td>\n",
              "      <td>1</td>\n",
              "      <td>0</td>\n",
              "      <td>0</td>\n",
              "      <td>1</td>\n",
              "      <td>5</td>\n",
              "      <td>103</td>\n",
              "      <td>129</td>\n",
              "      <td>0.798</td>\n",
              "    </tr>\n",
              "  </tbody>\n",
              "</table>\n",
              "<p>36 rows × 9 columns</p>\n",
              "</div>"
            ],
            "text/plain": [
              "       AB  H  2B  3B  HR  루타  누적루타  누적타수   SLG\n",
              "03.23   4  2   0   0   1   6     6     4 1.500\n",
              "03.24   5  1   0   0   1   5    11     9 1.222\n",
              "03.26   2  0   0   0   0   0    11    11 1.000\n",
              "...    .. ..  ..  ..  ..  ..   ...   ...   ...\n",
              "05.10   3  1   0   0   0   1    98   122 0.803\n",
              "05.12   2  0   0   0   0   0    98   124 0.790\n",
              "05.12   5  1   0   0   1   5   103   129 0.798\n",
              "\n",
              "[36 rows x 9 columns]"
            ]
          },
          "execution_count": 47,
          "metadata": {},
          "output_type": "execute_result"
        }
      ],
      "source": [
        "# 프로젝트 변수인 df_ex2에 장타율 열 생성\n",
        "df_ex2['누적루타'] = df_ex2['루타'].cumsum()\n",
        "df_ex2['누적타수'] = df_ex2['AB'].cumsum()\n",
        "df_ex2['SLG'] = df_ex2['누적루타'] / df_ex2['누적타수']\n",
        "df_ex2"
      ]
    },
    {
      "cell_type": "code",
      "execution_count": 48,
      "metadata": {
        "colab": {
          "base_uri": "https://localhost:8080/",
          "height": 283
        },
        "id": "4ZLnAo01FHlM",
        "outputId": "186773f2-625f-4663-af9b-2ba70e93de3a"
      },
      "outputs": [
        {
          "name": "stdout",
          "output_type": "stream",
          "text": [
            "Collecting matplotlib\n",
            "  Downloading matplotlib-3.7.5-cp38-cp38-win_amd64.whl.metadata (5.8 kB)\n",
            "Collecting contourpy>=1.0.1 (from matplotlib)\n",
            "  Downloading contourpy-1.1.1-cp38-cp38-win_amd64.whl.metadata (5.9 kB)\n",
            "Collecting cycler>=0.10 (from matplotlib)\n",
            "  Downloading cycler-0.12.1-py3-none-any.whl.metadata (3.8 kB)\n",
            "Collecting fonttools>=4.22.0 (from matplotlib)\n",
            "  Downloading fonttools-4.51.0-cp38-cp38-win_amd64.whl.metadata (162 kB)\n",
            "     ---------------------------------------- 0.0/162.8 kB ? eta -:--:--\n",
            "     -------------------------------------- 162.8/162.8 kB 9.5 MB/s eta 0:00:00\n",
            "Collecting kiwisolver>=1.0.1 (from matplotlib)\n",
            "  Downloading kiwisolver-1.4.5-cp38-cp38-win_amd64.whl.metadata (6.5 kB)\n",
            "Requirement already satisfied: numpy<2,>=1.20 in c:\\users\\6206-14\\appdata\\local\\programs\\python\\python38\\lib\\site-packages (from matplotlib) (1.24.4)\n",
            "Requirement already satisfied: packaging>=20.0 in c:\\users\\6206-14\\appdata\\roaming\\python\\python38\\site-packages (from matplotlib) (24.0)\n",
            "Requirement already satisfied: pillow>=6.2.0 in c:\\users\\6206-14\\appdata\\local\\programs\\python\\python38\\lib\\site-packages (from matplotlib) (10.3.0)\n",
            "Requirement already satisfied: pyparsing>=2.3.1 in c:\\users\\6206-14\\appdata\\local\\programs\\python\\python38\\lib\\site-packages (from matplotlib) (3.1.2)\n",
            "Requirement already satisfied: python-dateutil>=2.7 in c:\\users\\6206-14\\appdata\\roaming\\python\\python38\\site-packages (from matplotlib) (2.9.0.post0)\n",
            "Collecting importlib-resources>=3.2.0 (from matplotlib)\n",
            "  Downloading importlib_resources-6.4.0-py3-none-any.whl.metadata (3.9 kB)\n",
            "Requirement already satisfied: zipp>=3.1.0 in c:\\users\\6206-14\\appdata\\roaming\\python\\python38\\site-packages (from importlib-resources>=3.2.0->matplotlib) (3.18.1)\n",
            "Requirement already satisfied: six>=1.5 in c:\\users\\6206-14\\appdata\\local\\programs\\python\\python38\\lib\\site-packages (from python-dateutil>=2.7->matplotlib) (1.16.0)\n",
            "Downloading matplotlib-3.7.5-cp38-cp38-win_amd64.whl (7.5 MB)\n",
            "   ---------------------------------------- 0.0/7.5 MB ? eta -:--:--\n",
            "   -- ------------------------------------- 0.5/7.5 MB 9.8 MB/s eta 0:00:01\n",
            "   ------ --------------------------------- 1.2/7.5 MB 12.4 MB/s eta 0:00:01\n",
            "   --------- ------------------------------ 1.8/7.5 MB 13.9 MB/s eta 0:00:01\n",
            "   ------------ --------------------------- 2.3/7.5 MB 12.4 MB/s eta 0:00:01\n",
            "   --------------- ------------------------ 2.9/7.5 MB 11.8 MB/s eta 0:00:01\n",
            "   ------------------ --------------------- 3.5/7.5 MB 12.5 MB/s eta 0:00:01\n",
            "   --------------------- ------------------ 4.1/7.5 MB 12.6 MB/s eta 0:00:01\n",
            "   ------------------------- -------------- 4.7/7.5 MB 12.0 MB/s eta 0:00:01\n",
            "   ---------------------------- ----------- 5.3/7.5 MB 11.6 MB/s eta 0:00:01\n",
            "   ------------------------------- -------- 5.9/7.5 MB 11.8 MB/s eta 0:00:01\n",
            "   ---------------------------------- ----- 6.5/7.5 MB 11.9 MB/s eta 0:00:01\n",
            "   ------------------------------------- -- 7.1/7.5 MB 11.6 MB/s eta 0:00:01\n",
            "   ---------------------------------------  7.5/7.5 MB 11.7 MB/s eta 0:00:01\n",
            "   ---------------------------------------- 7.5/7.5 MB 11.2 MB/s eta 0:00:00\n",
            "Downloading contourpy-1.1.1-cp38-cp38-win_amd64.whl (477 kB)\n",
            "   ---------------------------------------- 0.0/477.9 kB ? eta -:--:--\n",
            "   --------------------------------------  471.0/477.9 kB 14.9 MB/s eta 0:00:01\n",
            "   --------------------------------------- 477.9/477.9 kB 10.0 MB/s eta 0:00:00\n",
            "Downloading cycler-0.12.1-py3-none-any.whl (8.3 kB)\n",
            "Downloading fonttools-4.51.0-cp38-cp38-win_amd64.whl (1.5 MB)\n",
            "   ---------------------------------------- 0.0/1.5 MB ? eta -:--:--\n",
            "   ----------- ---------------------------- 0.4/1.5 MB 28.0 MB/s eta 0:00:01\n",
            "   ------------------------ --------------- 0.9/1.5 MB 14.5 MB/s eta 0:00:01\n",
            "   ---------------------------------------  1.5/1.5 MB 13.7 MB/s eta 0:00:01\n",
            "   ---------------------------------------- 1.5/1.5 MB 10.7 MB/s eta 0:00:00\n",
            "Downloading importlib_resources-6.4.0-py3-none-any.whl (38 kB)\n",
            "Downloading kiwisolver-1.4.5-cp38-cp38-win_amd64.whl (56 kB)\n",
            "   ---------------------------------------- 0.0/56.2 kB ? eta -:--:--\n",
            "   ---------------------------------------- 56.2/56.2 kB ? eta 0:00:00\n",
            "Installing collected packages: kiwisolver, importlib-resources, fonttools, cycler, contourpy, matplotlib\n",
            "Successfully installed contourpy-1.1.1 cycler-0.12.1 fonttools-4.51.0 importlib-resources-6.4.0 kiwisolver-1.4.5 matplotlib-3.7.5\n"
          ]
        },
        {
          "data": {
            "text/plain": [
              "<Axes: >"
            ]
          },
          "execution_count": 48,
          "metadata": {},
          "output_type": "execute_result"
        },
        {
          "data": {
            "image/png": "[encoded data removed]",
            "text/plain": [
              "<Figure size 640x480 with 1 Axes>"
            ]
          },
          "metadata": {},
          "output_type": "display_data"
        }
      ],
      "source": [
        "import sys\n",
        "!{sys.executable} -m pip install matplotlib\n",
        "\n",
        "# 장타율 시각화 하기\n",
        "df_ex2.plot(y='SLG')"
      ]
    },
    {
      "cell_type": "markdown",
      "metadata": {
        "id": "rNjQtMqITI6T"
      },
      "source": [
        "## 7. 요약강의"
      ]
    },
    {
      "cell_type": "code",
      "execution_count": 49,
      "metadata": {
        "colab": {
          "base_uri": "https://localhost:8080/",
          "height": 283
        },
        "id": "MzpaGS236lud",
        "outputId": "4e18cb2d-d21c-486f-f2b3-8aaecc56bb17"
      },
      "outputs": [
        {
          "data": {
            "text/plain": [
              "<Axes: >"
            ]
          },
          "execution_count": 49,
          "metadata": {},
          "output_type": "execute_result"
        },
        {
          "data": {
            "image/png": "[encoded data removed]",
            "text/plain": [
              "<Figure size 640x480 with 1 Axes>"
            ]
          },
          "metadata": {},
          "output_type": "display_data"
        }
      ],
      "source": [
        "import pandas as pd\n",
        "pd.options.display.max_rows = 6 \n",
        "pd.options.display.float_format = '{:.3f}'.format # 소수점 세자리까지 출력옵션\n",
        "\n",
        "# 해당 웹사이트의 모든 표를 데이터프레임으로 만들어 리스트에 담아준다\n",
        "url = 'https://www.koreabaseball.com/Record/Player/HitterDetail/Daily.aspx?playerId=75847'\n",
        "dfs = pd.read_html(url, index_col=0)\n",
        "\n",
        "# 리스트의 모든 데이터프레임 결합하기\n",
        "df_ex1 = pd.concat(dfs)\n",
        "\n",
        "# 일부 열만 인덱싱하고 합계 행 삭제하기\n",
        "df_ex2 = df_ex1[['AB', 'H', '2B', '3B', 'HR']].drop('합계')\n",
        "\n",
        "# 연산해서 열 만들기\n",
        "df_ex2['루타'] = df_ex2['H'] + (df_ex2['2B'] * 2) + (df_ex2['3B'] * 3) + (df_ex2['HR'] * 4)\n",
        "df_ex2['누적루타'] = df_ex2['루타'].cumsum()\n",
        "df_ex2['누적타수'] = df_ex2['AB'].cumsum()\n",
        "df_ex2['SLG'] = df_ex2['누적루타'] / df_ex2['누적타수']\n",
        "\n",
        "# 판다스의 시각화\n",
        "df_ex2.plot(y='SLG')"
      ]
    },
    {
      "cell_type": "markdown",
      "metadata": {
        "id": "jREXKihUehIR"
      },
      "source": [
        "**참고 사이트**\n",
        "\n",
        "판다스 공식 문서 [https://pandas.pydata.org/docs/](https://pandas.pydata.org/docs/)"
      ]
    }
  ],
  "metadata": {
    "colab": {
      "provenance": []
    },
    "kernelspec": {
      "display_name": "Python 3",
      "name": "python3"
    },
    "language_info": {
      "codemirror_mode": {
        "name": "ipython",
        "version": 3
      },
      "file_extension": ".py",
      "mimetype": "text/x-python",
      "name": "python",
      "nbconvert_exporter": "python",
      "pygments_lexer": "ipython3",
      "version": "3.8.6rc1"
    }
  },
  "nbformat": 4,
  "nbformat_minor": 0
}
