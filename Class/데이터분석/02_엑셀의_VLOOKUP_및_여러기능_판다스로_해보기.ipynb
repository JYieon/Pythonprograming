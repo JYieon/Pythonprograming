{
  "cells": [
    {
      "cell_type": "markdown",
      "metadata": {
        "id": "DIIAyrXf3DOX"
      },
      "source": [
        "# Ch2. 엑셀의 VLOOKUP 및 여러기능 판다스로 해보기"
      ]
    },
    {
      "cell_type": "markdown",
      "metadata": {
        "id": "bJ_Dt5Cg3T9E"
      },
      "source": [
        "## 1. 엑셀 파일에서 데이터프레임 불러오기(read_excel)"
      ]
    },
    {
      "cell_type": "markdown",
      "metadata": {},
      "source": [
        "### 학습 목표\n",
        "1. 엑셀파일에서 데이터프레임을 불러온다. (`pd.read_excel` 함수)\n",
        "1. 엑셀파일의 특정 시트를 지정해 불러온다. (`pd.read_excel` 함수의 `sheet_name` 인자)"
      ]
    },
    {
      "cell_type": "markdown",
      "metadata": {
        "id": "_Pxan6SR2Apk"
      },
      "source": [
        "> pandas read_excel\n",
        "\n",
        "엑셀파일을 데이터프레임으로 불러오는 함수\n",
        "\n",
        "**io**\n",
        "\n",
        "파일의 경로명\n",
        "\n",
        "**sheet_name** (인수는 문자열, 정수, 리스트 / 기본값은 0)\n",
        "\n",
        "불러올 시트를 지정하는 인자\n",
        "\n",
        "\n",
        "예)\n",
        "\n",
        "* 지정하지 않을 때: 첫번째 시트를 불러온다\n",
        "\n",
        "* 1: 2번째 시트를 불러온다\n",
        "\n",
        "* \"Sheet1\": 문자열을 입력하면 해당 이름을 가진 시트를 불러온다. 여기서는 \"Sheet1\"이라는 이름의 시트를 불러온다\n",
        "\n",
        "* [0, 1, \"Sheet5\"]: 첫번째 시트와 두번째 시트 그리고 \"Sheet5\"라는 이름의 시트 세개를 딕셔너리로 통합해 가져온다.\n",
        "\n",
        "* None: 모든 시트를 딕셔너리로 통합해 가져온다.\n",
        " \n",
        "\n",
        "**header** (인수는 정수, 정수의 리스트 / 기본값은 0)\n",
        "\n",
        "columns를 지정하는 인자. 지정하지 않으면 맨 윗줄이 columns가 된다. 리스트로 지정하면 멀티 인덱스인 columns가 된다.\n",
        "\n",
        "**index_col** (인수는 정수, 정수의 리스트 / 기본값은 None)\n",
        "\n",
        "index를 지정하는 인자. 지정하지 않으면 RangeIndex가 index로 부여된다. 리스트로 지정하면 멀티 인덱스인 index가 된다.\n",
        "\n",
        " \n",
        "[read_excel 판다스 공식 문서](https://pandas.pydata.org/docs/reference/api/pandas.read_excel.html)"
      ]
    },
    {
      "cell_type": "code",
      "execution_count": 1,
      "metadata": {
        "id": "Jj3qJriO0jPp"
      },
      "outputs": [],
      "source": [
        "import pandas as pd"
      ]
    },
    {
      "cell_type": "code",
      "execution_count": 2,
      "metadata": {
        "colab": {
          "base_uri": "https://localhost:8080/",
          "height": 175
        },
        "id": "bUhejFYbj6hv",
        "outputId": "af5d5169-33ee-4a75-d877-28688fa51fff"
      },
      "outputs": [
        {
          "data": {
            "text/html": [
              "<div>\n",
              "<style scoped>\n",
              "    .dataframe tbody tr th:only-of-type {\n",
              "        vertical-align: middle;\n",
              "    }\n",
              "\n",
              "    .dataframe tbody tr th {\n",
              "        vertical-align: top;\n",
              "    }\n",
              "\n",
              "    .dataframe thead th {\n",
              "        text-align: right;\n",
              "    }\n",
              "</style>\n",
              "<table border=\"1\" class=\"dataframe\">\n",
              "  <thead>\n",
              "    <tr style=\"text-align: right;\">\n",
              "      <th></th>\n",
              "      <th>이름</th>\n",
              "      <th>국어</th>\n",
              "      <th>영어</th>\n",
              "      <th>수학</th>\n",
              "    </tr>\n",
              "  </thead>\n",
              "  <tbody>\n",
              "    <tr>\n",
              "      <th>0</th>\n",
              "      <td>송중기</td>\n",
              "      <td>63</td>\n",
              "      <td>93</td>\n",
              "      <td>97</td>\n",
              "    </tr>\n",
              "    <tr>\n",
              "      <th>1</th>\n",
              "      <td>김나현</td>\n",
              "      <td>89</td>\n",
              "      <td>83</td>\n",
              "      <td>71</td>\n",
              "    </tr>\n",
              "    <tr>\n",
              "      <th>2</th>\n",
              "      <td>권보아</td>\n",
              "      <td>83</td>\n",
              "      <td>76</td>\n",
              "      <td>92</td>\n",
              "    </tr>\n",
              "    <tr>\n",
              "      <th>3</th>\n",
              "      <td>박효신</td>\n",
              "      <td>94</td>\n",
              "      <td>88</td>\n",
              "      <td>73</td>\n",
              "    </tr>\n",
              "  </tbody>\n",
              "</table>\n",
              "</div>"
            ],
            "text/plain": [
              "    이름  국어  영어  수학\n",
              "0  송중기  63  93  97\n",
              "1  김나현  89  83  71\n",
              "2  권보아  83  76  92\n",
              "3  박효신  94  88  73"
            ]
          },
          "execution_count": 2,
          "metadata": {},
          "output_type": "execute_result"
        }
      ],
      "source": [
        "# 먼저 파일을 업로드 후 경로를 복사해서 변수(여기서는 url)로 지정한다\n",
        "url = './02_01_read_excel.xlsx'\n",
        "\n",
        "# read_excel 함수로 데이터프레임을 불러온다. 기본값으로는 첫번째 시트\n",
        "df = pd.read_excel(url)\n",
        "df"
      ]
    },
    {
      "cell_type": "code",
      "execution_count": 3,
      "metadata": {
        "colab": {
          "base_uri": "https://localhost:8080/",
          "height": 175
        },
        "id": "FzskT-uV4RTL",
        "outputId": "27e6b202-f0be-46d1-881a-667bfe700e1d"
      },
      "outputs": [
        {
          "data": {
            "text/html": [
              "<div>\n",
              "<style scoped>\n",
              "    .dataframe tbody tr th:only-of-type {\n",
              "        vertical-align: middle;\n",
              "    }\n",
              "\n",
              "    .dataframe tbody tr th {\n",
              "        vertical-align: top;\n",
              "    }\n",
              "\n",
              "    .dataframe thead th {\n",
              "        text-align: right;\n",
              "    }\n",
              "</style>\n",
              "<table border=\"1\" class=\"dataframe\">\n",
              "  <thead>\n",
              "    <tr style=\"text-align: right;\">\n",
              "      <th></th>\n",
              "      <th>두</th>\n",
              "      <th>번</th>\n",
              "      <th>째</th>\n",
              "      <th>시트</th>\n",
              "    </tr>\n",
              "  </thead>\n",
              "  <tbody>\n",
              "    <tr>\n",
              "      <th>0</th>\n",
              "      <td>송중기</td>\n",
              "      <td>63</td>\n",
              "      <td>93</td>\n",
              "      <td>97</td>\n",
              "    </tr>\n",
              "    <tr>\n",
              "      <th>1</th>\n",
              "      <td>김나현</td>\n",
              "      <td>89</td>\n",
              "      <td>83</td>\n",
              "      <td>71</td>\n",
              "    </tr>\n",
              "    <tr>\n",
              "      <th>2</th>\n",
              "      <td>권보아</td>\n",
              "      <td>83</td>\n",
              "      <td>76</td>\n",
              "      <td>92</td>\n",
              "    </tr>\n",
              "    <tr>\n",
              "      <th>3</th>\n",
              "      <td>박효신</td>\n",
              "      <td>94</td>\n",
              "      <td>88</td>\n",
              "      <td>73</td>\n",
              "    </tr>\n",
              "  </tbody>\n",
              "</table>\n",
              "</div>"
            ],
            "text/plain": [
              "     두   번   째  시트\n",
              "0  송중기  63  93  97\n",
              "1  김나현  89  83  71\n",
              "2  권보아  83  76  92\n",
              "3  박효신  94  88  73"
            ]
          },
          "execution_count": 3,
          "metadata": {},
          "output_type": "execute_result"
        }
      ],
      "source": [
        "# 두번째 시트 불러오기\n",
        "pd.read_excel(url, sheet_name=1)"
      ]
    },
    {
      "cell_type": "code",
      "execution_count": 4,
      "metadata": {
        "colab": {
          "base_uri": "https://localhost:8080/",
          "height": 175
        },
        "id": "xzGOxryW4YIU",
        "outputId": "180f1b2d-d7c6-4c77-834d-27293ca786f8"
      },
      "outputs": [
        {
          "data": {
            "text/html": [
              "<div>\n",
              "<style scoped>\n",
              "    .dataframe tbody tr th:only-of-type {\n",
              "        vertical-align: middle;\n",
              "    }\n",
              "\n",
              "    .dataframe tbody tr th {\n",
              "        vertical-align: top;\n",
              "    }\n",
              "\n",
              "    .dataframe thead th {\n",
              "        text-align: right;\n",
              "    }\n",
              "</style>\n",
              "<table border=\"1\" class=\"dataframe\">\n",
              "  <thead>\n",
              "    <tr style=\"text-align: right;\">\n",
              "      <th></th>\n",
              "      <th>이름</th>\n",
              "      <th>국어</th>\n",
              "      <th>영어</th>\n",
              "      <th>수학</th>\n",
              "    </tr>\n",
              "  </thead>\n",
              "  <tbody>\n",
              "    <tr>\n",
              "      <th>0</th>\n",
              "      <td>송중기</td>\n",
              "      <td>63</td>\n",
              "      <td>93</td>\n",
              "      <td>97</td>\n",
              "    </tr>\n",
              "    <tr>\n",
              "      <th>1</th>\n",
              "      <td>김나현</td>\n",
              "      <td>89</td>\n",
              "      <td>83</td>\n",
              "      <td>71</td>\n",
              "    </tr>\n",
              "    <tr>\n",
              "      <th>2</th>\n",
              "      <td>권보아</td>\n",
              "      <td>83</td>\n",
              "      <td>76</td>\n",
              "      <td>92</td>\n",
              "    </tr>\n",
              "    <tr>\n",
              "      <th>3</th>\n",
              "      <td>박효신</td>\n",
              "      <td>94</td>\n",
              "      <td>88</td>\n",
              "      <td>73</td>\n",
              "    </tr>\n",
              "  </tbody>\n",
              "</table>\n",
              "</div>"
            ],
            "text/plain": [
              "    이름  국어  영어  수학\n",
              "0  송중기  63  93  97\n",
              "1  김나현  89  83  71\n",
              "2  권보아  83  76  92\n",
              "3  박효신  94  88  73"
            ]
          },
          "execution_count": 4,
          "metadata": {},
          "output_type": "execute_result"
        }
      ],
      "source": [
        "# 세번째 시트를 불러오되 세번째 행을 columns로 지정하기\n",
        "pd.read_excel(url, sheet_name=2, header=2)"
      ]
    },
    {
      "cell_type": "code",
      "execution_count": 5,
      "metadata": {
        "colab": {
          "base_uri": "https://localhost:8080/",
          "height": 175
        },
        "id": "nhiSJ2wOncUK",
        "outputId": "dc51f130-432e-463e-eb1e-d26e9b9190f3"
      },
      "outputs": [
        {
          "data": {
            "text/html": [
              "<div>\n",
              "<style scoped>\n",
              "    .dataframe tbody tr th:only-of-type {\n",
              "        vertical-align: middle;\n",
              "    }\n",
              "\n",
              "    .dataframe tbody tr th {\n",
              "        vertical-align: top;\n",
              "    }\n",
              "\n",
              "    .dataframe thead th {\n",
              "        text-align: right;\n",
              "    }\n",
              "</style>\n",
              "<table border=\"1\" class=\"dataframe\">\n",
              "  <thead>\n",
              "    <tr style=\"text-align: right;\">\n",
              "      <th></th>\n",
              "      <th>국어</th>\n",
              "      <th>영어</th>\n",
              "      <th>수학</th>\n",
              "    </tr>\n",
              "  </thead>\n",
              "  <tbody>\n",
              "    <tr>\n",
              "      <th>송중기</th>\n",
              "      <td>63</td>\n",
              "      <td>93</td>\n",
              "      <td>97</td>\n",
              "    </tr>\n",
              "    <tr>\n",
              "      <th>김나현</th>\n",
              "      <td>89</td>\n",
              "      <td>83</td>\n",
              "      <td>71</td>\n",
              "    </tr>\n",
              "    <tr>\n",
              "      <th>권보아</th>\n",
              "      <td>83</td>\n",
              "      <td>76</td>\n",
              "      <td>92</td>\n",
              "    </tr>\n",
              "    <tr>\n",
              "      <th>박효신</th>\n",
              "      <td>94</td>\n",
              "      <td>88</td>\n",
              "      <td>73</td>\n",
              "    </tr>\n",
              "  </tbody>\n",
              "</table>\n",
              "</div>"
            ],
            "text/plain": [
              "     국어  영어  수학\n",
              "송중기  63  93  97\n",
              "김나현  89  83  71\n",
              "권보아  83  76  92\n",
              "박효신  94  88  73"
            ]
          },
          "execution_count": 5,
          "metadata": {},
          "output_type": "execute_result"
        }
      ],
      "source": [
        "# 네번째 시트를 불러오되 첫번째 열을 index로 지정하기\n",
        "pd.read_excel(url, sheet_name=3, index_col=0)"
      ]
    },
    {
      "cell_type": "markdown",
      "metadata": {
        "id": "KTBWP_cB3yPE"
      },
      "source": [
        "## 2. 단일요건 vlookup (merge)"
      ]
    },
    {
      "cell_type": "markdown",
      "metadata": {},
      "source": [
        "### 학습 목표\n",
        "- 판다스에서 엑셀의 VLOOKUP과 같은 병합을 한다. (`merge` 함수)"
      ]
    },
    {
      "cell_type": "markdown",
      "metadata": {
        "id": "XPJt5riq_Z77"
      },
      "source": [
        "**vlookup 이란?**\n",
        "\n",
        "<img src=https://i.ibb.co/ZYnKKps/vlookup.png, width=600>\n",
        "\n",
        "* 두 데이터프레임을 기준 열의 내용에 따라 병합하는 엑셀 함수\n",
        "\n",
        "* 엑셀에서 가장 유용한 함수로 꼽힌다"
      ]
    },
    {
      "cell_type": "markdown",
      "metadata": {
        "id": "_zxSljkv31Fx"
      },
      "source": [
        "\n",
        "\n",
        "> padas merge\n",
        "\n",
        "\n",
        "\n",
        "**right** (인수 데이터프레임 혹은 시리즈)\n",
        "\n",
        "병합할 객체\n",
        "\n",
        "**how** (인수는 ‘left’, ‘right’, ‘outer’, ‘inner’, ‘cross’ / 기본값은 ‘inner’)\n",
        "\n",
        "병합할 방식을 결정하는 인자.\n",
        "\n",
        "* left: 왼쪽 데이터프레임의 키(key)만을 병합에 사용한다.(엑셀의 vlookup과 유사)\n",
        "\n",
        "* right: 오른쪽 데이터프레임의 키(key)만을 병합에 사용한다.\n",
        "\n",
        "* outer: 양쪽 데이터프레임의 키(key)들의 합집합을 병합에 사용한다.\n",
        "\n",
        "* inner: 양쪽 데이터프레임의 키(key)들의 교집합을 병합에 사용한다.\n",
        "\n",
        "* cross: 양쪽 데이터프레임의 곱집합(cartesian product)을 생성한다.\n",
        " \n",
        "\n",
        "**on** (인수는 열의 레이블 또는 리스트 / 기본값은 None)\n",
        "\n",
        "병합의 기준이 되는 열을 지정하는 인자. 기본 값은 양쪽 데이터프레임에서 이름이 공통인 열들이 지정된다. 리스트로 입력하면 복수의 열을 기준으로 병합한다.\n",
        "\n",
        "[merge 판다스 공식 문서](https://pandas.pydata.org/docs/reference/api/pandas.DataFrame.merge.html)\n",
        "\n"
      ]
    },
    {
      "cell_type": "code",
      "execution_count": 6,
      "metadata": {
        "id": "VpWbXbcH4Kh_"
      },
      "outputs": [],
      "source": [
        "import pandas as pd"
      ]
    },
    {
      "cell_type": "code",
      "execution_count": 7,
      "metadata": {
        "id": "dLKX7ZKDky9k"
      },
      "outputs": [],
      "source": [
        "# 판다스 출력옵션 조절\n",
        "pd.options.display.max_rows = 6 \n",
        "# 6줄의 데이터만 출력되도록 세팅"
      ]
    },
    {
      "cell_type": "code",
      "execution_count": 8,
      "metadata": {
        "colab": {
          "base_uri": "https://localhost:8080/",
          "height": 298
        },
        "id": "T4Kzw3lT6raW",
        "outputId": "ce7a443b-63d1-4685-9377-ae88dbc2fb41"
      },
      "outputs": [
        {
          "data": {
            "text/html": [
              "<div>\n",
              "<style scoped>\n",
              "    .dataframe tbody tr th:only-of-type {\n",
              "        vertical-align: middle;\n",
              "    }\n",
              "\n",
              "    .dataframe tbody tr th {\n",
              "        vertical-align: top;\n",
              "    }\n",
              "\n",
              "    .dataframe thead th {\n",
              "        text-align: right;\n",
              "    }\n",
              "</style>\n",
              "<table border=\"1\" class=\"dataframe\">\n",
              "  <thead>\n",
              "    <tr style=\"text-align: right;\">\n",
              "      <th></th>\n",
              "      <th>이름</th>\n",
              "      <th>제품</th>\n",
              "    </tr>\n",
              "  </thead>\n",
              "  <tbody>\n",
              "    <tr>\n",
              "      <th>0</th>\n",
              "      <td>백철민</td>\n",
              "      <td>아이스티</td>\n",
              "    </tr>\n",
              "    <tr>\n",
              "      <th>1</th>\n",
              "      <td>박태인</td>\n",
              "      <td>레몬에이드</td>\n",
              "    </tr>\n",
              "    <tr>\n",
              "      <th>2</th>\n",
              "      <td>국지용</td>\n",
              "      <td>아메리카노</td>\n",
              "    </tr>\n",
              "    <tr>\n",
              "      <th>...</th>\n",
              "      <td>...</td>\n",
              "      <td>...</td>\n",
              "    </tr>\n",
              "    <tr>\n",
              "      <th>371</th>\n",
              "      <td>기주봉</td>\n",
              "      <td>아이스티</td>\n",
              "    </tr>\n",
              "    <tr>\n",
              "      <th>372</th>\n",
              "      <td>백승환</td>\n",
              "      <td>바닐라라떼</td>\n",
              "    </tr>\n",
              "    <tr>\n",
              "      <th>373</th>\n",
              "      <td>계승현</td>\n",
              "      <td>레몬에이드</td>\n",
              "    </tr>\n",
              "  </tbody>\n",
              "</table>\n",
              "<p>374 rows × 2 columns</p>\n",
              "</div>"
            ],
            "text/plain": [
              "      이름     제품\n",
              "0    백철민   아이스티\n",
              "1    박태인  레몬에이드\n",
              "2    국지용  아메리카노\n",
              "..   ...    ...\n",
              "371  기주봉   아이스티\n",
              "372  백승환  바닐라라떼\n",
              "373  계승현  레몬에이드\n",
              "\n",
              "[374 rows x 2 columns]"
            ]
          },
          "execution_count": 8,
          "metadata": {},
          "output_type": "execute_result"
        }
      ],
      "source": [
        "url = './02_02_merge01.xlsx'\n",
        "df1 = pd.read_excel(url)\n",
        "df1"
      ]
    },
    {
      "cell_type": "code",
      "execution_count": 9,
      "metadata": {
        "colab": {
          "base_uri": "https://localhost:8080/",
          "height": 298
        },
        "id": "4dvVxpN376Gg",
        "outputId": "7cdf8741-bf67-4a9c-fd26-10eb2f8bd9b7"
      },
      "outputs": [
        {
          "data": {
            "text/html": [
              "<div>\n",
              "<style scoped>\n",
              "    .dataframe tbody tr th:only-of-type {\n",
              "        vertical-align: middle;\n",
              "    }\n",
              "\n",
              "    .dataframe tbody tr th {\n",
              "        vertical-align: top;\n",
              "    }\n",
              "\n",
              "    .dataframe thead th {\n",
              "        text-align: right;\n",
              "    }\n",
              "</style>\n",
              "<table border=\"1\" class=\"dataframe\">\n",
              "  <thead>\n",
              "    <tr style=\"text-align: right;\">\n",
              "      <th></th>\n",
              "      <th>제품</th>\n",
              "      <th>가격</th>\n",
              "    </tr>\n",
              "  </thead>\n",
              "  <tbody>\n",
              "    <tr>\n",
              "      <th>0</th>\n",
              "      <td>아메리카노</td>\n",
              "      <td>3900</td>\n",
              "    </tr>\n",
              "    <tr>\n",
              "      <th>1</th>\n",
              "      <td>바닐라라떼</td>\n",
              "      <td>3900</td>\n",
              "    </tr>\n",
              "    <tr>\n",
              "      <th>2</th>\n",
              "      <td>까페라떼</td>\n",
              "      <td>3900</td>\n",
              "    </tr>\n",
              "    <tr>\n",
              "      <th>...</th>\n",
              "      <td>...</td>\n",
              "      <td>...</td>\n",
              "    </tr>\n",
              "    <tr>\n",
              "      <th>7</th>\n",
              "      <td>자몽티</td>\n",
              "      <td>4100</td>\n",
              "    </tr>\n",
              "    <tr>\n",
              "      <th>8</th>\n",
              "      <td>레몬에이드</td>\n",
              "      <td>4400</td>\n",
              "    </tr>\n",
              "    <tr>\n",
              "      <th>9</th>\n",
              "      <td>오렌지주스</td>\n",
              "      <td>3600</td>\n",
              "    </tr>\n",
              "  </tbody>\n",
              "</table>\n",
              "<p>10 rows × 2 columns</p>\n",
              "</div>"
            ],
            "text/plain": [
              "       제품    가격\n",
              "0   아메리카노  3900\n",
              "1   바닐라라떼  3900\n",
              "2    까페라떼  3900\n",
              "..    ...   ...\n",
              "7     자몽티  4100\n",
              "8   레몬에이드  4400\n",
              "9   오렌지주스  3600\n",
              "\n",
              "[10 rows x 2 columns]"
            ]
          },
          "execution_count": 9,
          "metadata": {},
          "output_type": "execute_result"
        }
      ],
      "source": [
        "df2 = pd.read_excel(url, sheet_name=1)\n",
        "df2"
      ]
    },
    {
      "cell_type": "code",
      "execution_count": 10,
      "metadata": {
        "colab": {
          "base_uri": "https://localhost:8080/",
          "height": 298
        },
        "id": "HC2IsZ779GMz",
        "outputId": "4f67ff9c-dd6b-429a-92a9-f28f2767c605"
      },
      "outputs": [
        {
          "data": {
            "text/html": [
              "<div>\n",
              "<style scoped>\n",
              "    .dataframe tbody tr th:only-of-type {\n",
              "        vertical-align: middle;\n",
              "    }\n",
              "\n",
              "    .dataframe tbody tr th {\n",
              "        vertical-align: top;\n",
              "    }\n",
              "\n",
              "    .dataframe thead th {\n",
              "        text-align: right;\n",
              "    }\n",
              "</style>\n",
              "<table border=\"1\" class=\"dataframe\">\n",
              "  <thead>\n",
              "    <tr style=\"text-align: right;\">\n",
              "      <th></th>\n",
              "      <th>이름</th>\n",
              "      <th>제품</th>\n",
              "      <th>가격</th>\n",
              "    </tr>\n",
              "  </thead>\n",
              "  <tbody>\n",
              "    <tr>\n",
              "      <th>0</th>\n",
              "      <td>백철민</td>\n",
              "      <td>아이스티</td>\n",
              "      <td>4400</td>\n",
              "    </tr>\n",
              "    <tr>\n",
              "      <th>1</th>\n",
              "      <td>박태인</td>\n",
              "      <td>레몬에이드</td>\n",
              "      <td>4400</td>\n",
              "    </tr>\n",
              "    <tr>\n",
              "      <th>2</th>\n",
              "      <td>국지용</td>\n",
              "      <td>아메리카노</td>\n",
              "      <td>3900</td>\n",
              "    </tr>\n",
              "    <tr>\n",
              "      <th>...</th>\n",
              "      <td>...</td>\n",
              "      <td>...</td>\n",
              "      <td>...</td>\n",
              "    </tr>\n",
              "    <tr>\n",
              "      <th>371</th>\n",
              "      <td>기주봉</td>\n",
              "      <td>아이스티</td>\n",
              "      <td>4400</td>\n",
              "    </tr>\n",
              "    <tr>\n",
              "      <th>372</th>\n",
              "      <td>백승환</td>\n",
              "      <td>바닐라라떼</td>\n",
              "      <td>3900</td>\n",
              "    </tr>\n",
              "    <tr>\n",
              "      <th>373</th>\n",
              "      <td>계승현</td>\n",
              "      <td>레몬에이드</td>\n",
              "      <td>4400</td>\n",
              "    </tr>\n",
              "  </tbody>\n",
              "</table>\n",
              "<p>374 rows × 3 columns</p>\n",
              "</div>"
            ],
            "text/plain": [
              "      이름     제품    가격\n",
              "0    백철민   아이스티  4400\n",
              "1    박태인  레몬에이드  4400\n",
              "2    국지용  아메리카노  3900\n",
              "..   ...    ...   ...\n",
              "371  기주봉   아이스티  4400\n",
              "372  백승환  바닐라라떼  3900\n",
              "373  계승현  레몬에이드  4400\n",
              "\n",
              "[374 rows x 3 columns]"
            ]
          },
          "execution_count": 10,
          "metadata": {},
          "output_type": "execute_result"
        }
      ],
      "source": [
        "# df1과 df2를 vlookup 방식으로 병합\n",
        "df3 = df1.merge(df2, how='left', on='제품')\n",
        "df3"
      ]
    },
    {
      "cell_type": "code",
      "execution_count": 11,
      "metadata": {
        "id": "kvfHi26G5ITs"
      },
      "outputs": [],
      "source": [
        "# 결과를 엑셀 파일로 저장하기\n",
        "df3.to_excel('result_merge01.xlsx')\n",
        "#인덱스 번호까지 저장됨"
      ]
    },
    {
      "cell_type": "markdown",
      "metadata": {
        "id": "nEJtAQK05lwt"
      },
      "source": [
        "## 3. 다중요건 vlookup (merge)"
      ]
    },
    {
      "cell_type": "markdown",
      "metadata": {},
      "source": [
        "### 학습 목표\n",
        "- 엑셀의 다중 요건 VLOOKUP과 같은 병합을 한다. (`merge` 함수)"
      ]
    },
    {
      "cell_type": "markdown",
      "metadata": {
        "id": "bc_CkXfj_sQZ"
      },
      "source": [
        "**다중 요건 vlookup 이란?**\n",
        "\n",
        "<img src=https://i.ibb.co/MP73fmX/vlookup.png, width=600>\n",
        "\n",
        "* 복수의 열을 기준으로 vlookup을 하는 것\n",
        "\n",
        "* 위 그림의 경우 업체와 음료 모두 기준 열로 삼아 두 데이터프레임을 병합하였다"
      ]
    },
    {
      "cell_type": "code",
      "execution_count": 12,
      "metadata": {
        "id": "TYSV7b2MD3JC"
      },
      "outputs": [],
      "source": [
        "import pandas as pd\n",
        "pd.options.display.max_rows = 6 \n",
        "data1 = [['송중기', '별다방', '아이스티'],\n",
        "         ['김나현', '콩다방', '카페오레'],\n",
        "         ['권보아', '별다방', '카페오레'],\n",
        "         ['박효신', '콩다방', '아이스티'],\n",
        "         ['김범수', '별다방', '카페오레']]\n",
        "data2 = [['별다방', '아이스티', 4500],\n",
        "         ['별다방', '카페오레', 4000],\n",
        "         ['콩다방', '아이스티', 6000],\n",
        "         ['콩다방', '카페오레', 5500]]\n",
        "df1 = pd.DataFrame(data1, columns=['이름', '업체', '음료'])\n",
        "df2 = pd.DataFrame(data2, columns=['업체', '음료', '가격'])"
      ]
    },
    {
      "cell_type": "code",
      "execution_count": 13,
      "metadata": {
        "colab": {
          "base_uri": "https://localhost:8080/",
          "height": 206
        },
        "id": "e6c2qZ0hNWPg",
        "outputId": "43228922-7026-4456-9406-776064b224f0"
      },
      "outputs": [
        {
          "data": {
            "text/html": [
              "<div>\n",
              "<style scoped>\n",
              "    .dataframe tbody tr th:only-of-type {\n",
              "        vertical-align: middle;\n",
              "    }\n",
              "\n",
              "    .dataframe tbody tr th {\n",
              "        vertical-align: top;\n",
              "    }\n",
              "\n",
              "    .dataframe thead th {\n",
              "        text-align: right;\n",
              "    }\n",
              "</style>\n",
              "<table border=\"1\" class=\"dataframe\">\n",
              "  <thead>\n",
              "    <tr style=\"text-align: right;\">\n",
              "      <th></th>\n",
              "      <th>이름</th>\n",
              "      <th>업체</th>\n",
              "      <th>음료</th>\n",
              "      <th>가격</th>\n",
              "    </tr>\n",
              "  </thead>\n",
              "  <tbody>\n",
              "    <tr>\n",
              "      <th>0</th>\n",
              "      <td>송중기</td>\n",
              "      <td>별다방</td>\n",
              "      <td>아이스티</td>\n",
              "      <td>4500</td>\n",
              "    </tr>\n",
              "    <tr>\n",
              "      <th>1</th>\n",
              "      <td>김나현</td>\n",
              "      <td>콩다방</td>\n",
              "      <td>카페오레</td>\n",
              "      <td>5500</td>\n",
              "    </tr>\n",
              "    <tr>\n",
              "      <th>2</th>\n",
              "      <td>권보아</td>\n",
              "      <td>별다방</td>\n",
              "      <td>카페오레</td>\n",
              "      <td>4000</td>\n",
              "    </tr>\n",
              "    <tr>\n",
              "      <th>3</th>\n",
              "      <td>박효신</td>\n",
              "      <td>콩다방</td>\n",
              "      <td>아이스티</td>\n",
              "      <td>6000</td>\n",
              "    </tr>\n",
              "    <tr>\n",
              "      <th>4</th>\n",
              "      <td>김범수</td>\n",
              "      <td>별다방</td>\n",
              "      <td>카페오레</td>\n",
              "      <td>4000</td>\n",
              "    </tr>\n",
              "  </tbody>\n",
              "</table>\n",
              "</div>"
            ],
            "text/plain": [
              "    이름   업체    음료    가격\n",
              "0  송중기  별다방  아이스티  4500\n",
              "1  김나현  콩다방  카페오레  5500\n",
              "2  권보아  별다방  카페오레  4000\n",
              "3  박효신  콩다방  아이스티  6000\n",
              "4  김범수  별다방  카페오레  4000"
            ]
          },
          "execution_count": 13,
          "metadata": {},
          "output_type": "execute_result"
        }
      ],
      "source": [
        "# df1과 df2를 업체와 음료 두개의 열로 vlookup 하기\n",
        "df1.merge(df2, how='left', on=['업체', '음료'])"
      ]
    },
    {
      "cell_type": "code",
      "execution_count": 14,
      "metadata": {
        "colab": {
          "base_uri": "https://localhost:8080/",
          "height": 206
        },
        "id": "25PIxmKH_QCC",
        "outputId": "3302892d-a26c-4288-a8da-e88d12b44b89"
      },
      "outputs": [
        {
          "data": {
            "text/html": [
              "<div>\n",
              "<style scoped>\n",
              "    .dataframe tbody tr th:only-of-type {\n",
              "        vertical-align: middle;\n",
              "    }\n",
              "\n",
              "    .dataframe tbody tr th {\n",
              "        vertical-align: top;\n",
              "    }\n",
              "\n",
              "    .dataframe thead th {\n",
              "        text-align: right;\n",
              "    }\n",
              "</style>\n",
              "<table border=\"1\" class=\"dataframe\">\n",
              "  <thead>\n",
              "    <tr style=\"text-align: right;\">\n",
              "      <th></th>\n",
              "      <th>이름</th>\n",
              "      <th>업체</th>\n",
              "      <th>음료</th>\n",
              "      <th>가격</th>\n",
              "    </tr>\n",
              "  </thead>\n",
              "  <tbody>\n",
              "    <tr>\n",
              "      <th>0</th>\n",
              "      <td>송중기</td>\n",
              "      <td>별다방</td>\n",
              "      <td>아이스티</td>\n",
              "      <td>4500</td>\n",
              "    </tr>\n",
              "    <tr>\n",
              "      <th>1</th>\n",
              "      <td>김나현</td>\n",
              "      <td>콩다방</td>\n",
              "      <td>카페오레</td>\n",
              "      <td>5500</td>\n",
              "    </tr>\n",
              "    <tr>\n",
              "      <th>2</th>\n",
              "      <td>권보아</td>\n",
              "      <td>별다방</td>\n",
              "      <td>카페오레</td>\n",
              "      <td>4000</td>\n",
              "    </tr>\n",
              "    <tr>\n",
              "      <th>3</th>\n",
              "      <td>박효신</td>\n",
              "      <td>콩다방</td>\n",
              "      <td>아이스티</td>\n",
              "      <td>6000</td>\n",
              "    </tr>\n",
              "    <tr>\n",
              "      <th>4</th>\n",
              "      <td>김범수</td>\n",
              "      <td>별다방</td>\n",
              "      <td>카페오레</td>\n",
              "      <td>4000</td>\n",
              "    </tr>\n",
              "  </tbody>\n",
              "</table>\n",
              "</div>"
            ],
            "text/plain": [
              "    이름   업체    음료    가격\n",
              "0  송중기  별다방  아이스티  4500\n",
              "1  김나현  콩다방  카페오레  5500\n",
              "2  권보아  별다방  카페오레  4000\n",
              "3  박효신  콩다방  아이스티  6000\n",
              "4  김범수  별다방  카페오레  4000"
            ]
          },
          "execution_count": 14,
          "metadata": {},
          "output_type": "execute_result"
        }
      ],
      "source": [
        "# 기본 값으로 양쪽 데이터프레임에서 공통인 열이 모두 on으로 지정된다\n",
        "df1.merge(df2, how='left')"
      ]
    },
    {
      "cell_type": "code",
      "execution_count": 22,
      "metadata": {
        "id": "ekvyuhpjBJmS"
      },
      "outputs": [],
      "source": [
        "# 엑셀파일로 한번 더 실습해보자\n",
        "url = './02_03_merge02.xlsx'\n",
        "df3 = pd.read_excel(url)\n",
        "df4 = pd.read_excel(url, sheet_name=1)"
      ]
    },
    {
      "cell_type": "code",
      "execution_count": 16,
      "metadata": {
        "id": "x63rt33nBy1V"
      },
      "outputs": [],
      "source": [
        "# df3와 df4를 다중요건 vlookup을 한 뒤 엑셀파일로 저장하자\n",
        "df3.merge(df4, how='left').to_excel('result_merge02.xlsx', index=False)"
      ]
    },
    {
      "cell_type": "markdown",
      "metadata": {
        "id": "gsecGUQv70Cp"
      },
      "source": [
        "## 4. 행과 열의 이름 바꾸기(rename)"
      ]
    },
    {
      "cell_type": "markdown",
      "metadata": {},
      "source": [
        "### 학습 목표\n",
        "- index나 columns의 레이블(이름)을 바꿔보자. (`rename` 함수)\n",
        "- `mapper`가 무엇인지 이해한다.\n",
        "- 함수 적용 결과가 원본을 덮어쓰지 않는다(`inplace=False`)는 것의 의미를 이해한다."
      ]
    },
    {
      "cell_type": "markdown",
      "metadata": {
        "id": "OmqpEsQE8AW_"
      },
      "source": [
        "> pandas rename\n",
        "\n",
        "\n",
        "**index** (인수는 mapper)\n",
        "\n",
        "index의 이름을 바꾸는 인자\n",
        "\n",
        "* mapper란? 딕셔너리나 시리즈나 함수와 같이 맵핑을 할수 있는 매개체\n",
        "\n",
        "**columns** (인수는 mapper)\n",
        "\n",
        "columns의 이름을 바꾸는 인자 \n",
        "\n",
        "**level** (인수는 level의 로케이션 혹은 레이블 /  기본값은 None)\n",
        "\n",
        "멀티인덱스에서 이름을 바꿀 레벨을 지정하는 인자. 기본값은 모든 level에서 이름을 바꾼다.\n",
        "\n",
        "[rename 판다스 공식문서](https://pandas.pydata.org/docs/reference/api/pandas.DataFrame.rename.html)"
      ]
    },
    {
      "cell_type": "code",
      "execution_count": 17,
      "metadata": {
        "id": "PfNcwXSJnMEg"
      },
      "outputs": [],
      "source": [
        "import pandas as pd\n",
        "pd.options.display.max_rows = 6 \n",
        "data1 = [['송중기', '별다방', '아이스티'],\n",
        "         ['김나현', '콩다방', '카페오레'],\n",
        "         ['권보아', '별다방', '카페오레'],\n",
        "         ['박효신', '콩다방', '아이스티'],\n",
        "         ['김범수', '별다방', '카페오레']]\n",
        "data2 = [['별다방', '아이스티', 4500],\n",
        "         ['별다방', '카페오레', 4000],\n",
        "         ['콩다방', '아이스티', 6000],\n",
        "         ['콩다방', '카페오레', 5500]]\n",
        "df1 = pd.DataFrame(data1, columns=['이름', '업체', '음료'])\n",
        "df2 = pd.DataFrame(data2, columns=['업체', '제품', '가격'])"
      ]
    },
    {
      "cell_type": "code",
      "execution_count": 18,
      "metadata": {
        "colab": {
          "base_uri": "https://localhost:8080/",
          "height": 175
        },
        "id": "T8Vbr1cvhtRL",
        "outputId": "f6039a80-27a2-4623-b956-a280a453b94d"
      },
      "outputs": [
        {
          "data": {
            "text/html": [
              "<div>\n",
              "<style scoped>\n",
              "    .dataframe tbody tr th:only-of-type {\n",
              "        vertical-align: middle;\n",
              "    }\n",
              "\n",
              "    .dataframe tbody tr th {\n",
              "        vertical-align: top;\n",
              "    }\n",
              "\n",
              "    .dataframe thead th {\n",
              "        text-align: right;\n",
              "    }\n",
              "</style>\n",
              "<table border=\"1\" class=\"dataframe\">\n",
              "  <thead>\n",
              "    <tr style=\"text-align: right;\">\n",
              "      <th></th>\n",
              "      <th>업체</th>\n",
              "      <th>음료</th>\n",
              "      <th>가격</th>\n",
              "    </tr>\n",
              "  </thead>\n",
              "  <tbody>\n",
              "    <tr>\n",
              "      <th>0</th>\n",
              "      <td>별다방</td>\n",
              "      <td>아이스티</td>\n",
              "      <td>4500</td>\n",
              "    </tr>\n",
              "    <tr>\n",
              "      <th>1</th>\n",
              "      <td>별다방</td>\n",
              "      <td>카페오레</td>\n",
              "      <td>4000</td>\n",
              "    </tr>\n",
              "    <tr>\n",
              "      <th>2</th>\n",
              "      <td>콩다방</td>\n",
              "      <td>아이스티</td>\n",
              "      <td>6000</td>\n",
              "    </tr>\n",
              "    <tr>\n",
              "      <th>3</th>\n",
              "      <td>콩다방</td>\n",
              "      <td>카페오레</td>\n",
              "      <td>5500</td>\n",
              "    </tr>\n",
              "  </tbody>\n",
              "</table>\n",
              "</div>"
            ],
            "text/plain": [
              "    업체    음료    가격\n",
              "0  별다방  아이스티  4500\n",
              "1  별다방  카페오레  4000\n",
              "2  콩다방  아이스티  6000\n",
              "3  콩다방  카페오레  5500"
            ]
          },
          "execution_count": 18,
          "metadata": {},
          "output_type": "execute_result"
        }
      ],
      "source": [
        "# 제품 열을 음료 열로 열의 이름을 바꿔보자\n",
        "df2.rename(columns={'제품':'음료'})"
      ]
    },
    {
      "cell_type": "code",
      "execution_count": 19,
      "metadata": {
        "colab": {
          "base_uri": "https://localhost:8080/",
          "height": 175
        },
        "id": "qbdZpEUnh2Iz",
        "outputId": "80adbac0-6cf8-458d-b4ea-39750d2d1bec"
      },
      "outputs": [
        {
          "data": {
            "text/html": [
              "<div>\n",
              "<style scoped>\n",
              "    .dataframe tbody tr th:only-of-type {\n",
              "        vertical-align: middle;\n",
              "    }\n",
              "\n",
              "    .dataframe tbody tr th {\n",
              "        vertical-align: top;\n",
              "    }\n",
              "\n",
              "    .dataframe thead th {\n",
              "        text-align: right;\n",
              "    }\n",
              "</style>\n",
              "<table border=\"1\" class=\"dataframe\">\n",
              "  <thead>\n",
              "    <tr style=\"text-align: right;\">\n",
              "      <th></th>\n",
              "      <th>업체</th>\n",
              "      <th>제품</th>\n",
              "      <th>가격</th>\n",
              "    </tr>\n",
              "  </thead>\n",
              "  <tbody>\n",
              "    <tr>\n",
              "      <th>0</th>\n",
              "      <td>별다방</td>\n",
              "      <td>아이스티</td>\n",
              "      <td>4500</td>\n",
              "    </tr>\n",
              "    <tr>\n",
              "      <th>1</th>\n",
              "      <td>별다방</td>\n",
              "      <td>카페오레</td>\n",
              "      <td>4000</td>\n",
              "    </tr>\n",
              "    <tr>\n",
              "      <th>2</th>\n",
              "      <td>콩다방</td>\n",
              "      <td>아이스티</td>\n",
              "      <td>6000</td>\n",
              "    </tr>\n",
              "    <tr>\n",
              "      <th>3</th>\n",
              "      <td>콩다방</td>\n",
              "      <td>카페오레</td>\n",
              "      <td>5500</td>\n",
              "    </tr>\n",
              "  </tbody>\n",
              "</table>\n",
              "</div>"
            ],
            "text/plain": [
              "    업체    제품    가격\n",
              "0  별다방  아이스티  4500\n",
              "1  별다방  카페오레  4000\n",
              "2  콩다방  아이스티  6000\n",
              "3  콩다방  카페오레  5500"
            ]
          },
          "execution_count": 19,
          "metadata": {},
          "output_type": "execute_result"
        }
      ],
      "source": [
        "# df2를 실행해보라(함수의 결과는 원본을 덮어쓰지 않는다)\n",
        "df2"
      ]
    },
    {
      "cell_type": "markdown",
      "metadata": {
        "id": "KoLheq3CE5eB"
      },
      "source": [
        "<img src=https://i.ibb.co/hWXRMcJ/inplace.png, width=400>"
      ]
    },
    {
      "cell_type": "code",
      "execution_count": 23,
      "metadata": {
        "colab": {
          "base_uri": "https://localhost:8080/",
          "height": 206
        },
        "id": "6VFnEphohwxV",
        "outputId": "3cc58588-e97e-47b5-e928-941b62a2e4b8"
      },
      "outputs": [
        {
          "data": {
            "text/html": [
              "<div>\n",
              "<style scoped>\n",
              "    .dataframe tbody tr th:only-of-type {\n",
              "        vertical-align: middle;\n",
              "    }\n",
              "\n",
              "    .dataframe tbody tr th {\n",
              "        vertical-align: top;\n",
              "    }\n",
              "\n",
              "    .dataframe thead th {\n",
              "        text-align: right;\n",
              "    }\n",
              "</style>\n",
              "<table border=\"1\" class=\"dataframe\">\n",
              "  <thead>\n",
              "    <tr style=\"text-align: right;\">\n",
              "      <th></th>\n",
              "      <th>이름</th>\n",
              "      <th>업체</th>\n",
              "      <th>음료</th>\n",
              "      <th>가격</th>\n",
              "    </tr>\n",
              "  </thead>\n",
              "  <tbody>\n",
              "    <tr>\n",
              "      <th>0</th>\n",
              "      <td>송중기</td>\n",
              "      <td>별다방</td>\n",
              "      <td>아이스티</td>\n",
              "      <td>4500</td>\n",
              "    </tr>\n",
              "    <tr>\n",
              "      <th>1</th>\n",
              "      <td>김나현</td>\n",
              "      <td>콩다방</td>\n",
              "      <td>카페오레</td>\n",
              "      <td>5500</td>\n",
              "    </tr>\n",
              "    <tr>\n",
              "      <th>2</th>\n",
              "      <td>권보아</td>\n",
              "      <td>별다방</td>\n",
              "      <td>카페오레</td>\n",
              "      <td>4000</td>\n",
              "    </tr>\n",
              "    <tr>\n",
              "      <th>3</th>\n",
              "      <td>박효신</td>\n",
              "      <td>콩다방</td>\n",
              "      <td>아이스티</td>\n",
              "      <td>6000</td>\n",
              "    </tr>\n",
              "    <tr>\n",
              "      <th>4</th>\n",
              "      <td>김범수</td>\n",
              "      <td>별다방</td>\n",
              "      <td>카페오레</td>\n",
              "      <td>4000</td>\n",
              "    </tr>\n",
              "  </tbody>\n",
              "</table>\n",
              "</div>"
            ],
            "text/plain": [
              "    이름   업체    음료    가격\n",
              "0  송중기  별다방  아이스티  4500\n",
              "1  김나현  콩다방  카페오레  5500\n",
              "2  권보아  별다방  카페오레  4000\n",
              "3  박효신  콩다방  아이스티  6000\n",
              "4  김범수  별다방  카페오레  4000"
            ]
          },
          "execution_count": 23,
          "metadata": {},
          "output_type": "execute_result"
        }
      ],
      "source": [
        "# 함수의 적용결과가 원본을 덮어쓰지 않기에 새로운 변수로 지정해야 한다\n",
        "df3 = df2.rename(columns={'제품':'음료'})\n",
        "df1.merge(df3, how='left')"
      ]
    },
    {
      "cell_type": "code",
      "execution_count": 24,
      "metadata": {
        "colab": {
          "base_uri": "https://localhost:8080/",
          "height": 206
        },
        "id": "MwX4P8XOQtda",
        "outputId": "e213ab43-7c9d-4bd0-8acb-91fade131c3a"
      },
      "outputs": [
        {
          "data": {
            "text/html": [
              "<div>\n",
              "<style scoped>\n",
              "    .dataframe tbody tr th:only-of-type {\n",
              "        vertical-align: middle;\n",
              "    }\n",
              "\n",
              "    .dataframe tbody tr th {\n",
              "        vertical-align: top;\n",
              "    }\n",
              "\n",
              "    .dataframe thead th {\n",
              "        text-align: right;\n",
              "    }\n",
              "</style>\n",
              "<table border=\"1\" class=\"dataframe\">\n",
              "  <thead>\n",
              "    <tr style=\"text-align: right;\">\n",
              "      <th></th>\n",
              "      <th>이름</th>\n",
              "      <th>업체</th>\n",
              "      <th>음료</th>\n",
              "      <th>가격</th>\n",
              "    </tr>\n",
              "  </thead>\n",
              "  <tbody>\n",
              "    <tr>\n",
              "      <th>0</th>\n",
              "      <td>송중기</td>\n",
              "      <td>별다방</td>\n",
              "      <td>아이스티</td>\n",
              "      <td>4500</td>\n",
              "    </tr>\n",
              "    <tr>\n",
              "      <th>1</th>\n",
              "      <td>김나현</td>\n",
              "      <td>콩다방</td>\n",
              "      <td>카페오레</td>\n",
              "      <td>5500</td>\n",
              "    </tr>\n",
              "    <tr>\n",
              "      <th>2</th>\n",
              "      <td>권보아</td>\n",
              "      <td>별다방</td>\n",
              "      <td>카페오레</td>\n",
              "      <td>4000</td>\n",
              "    </tr>\n",
              "    <tr>\n",
              "      <th>3</th>\n",
              "      <td>박효신</td>\n",
              "      <td>콩다방</td>\n",
              "      <td>아이스티</td>\n",
              "      <td>6000</td>\n",
              "    </tr>\n",
              "    <tr>\n",
              "      <th>4</th>\n",
              "      <td>김범수</td>\n",
              "      <td>별다방</td>\n",
              "      <td>카페오레</td>\n",
              "      <td>4000</td>\n",
              "    </tr>\n",
              "  </tbody>\n",
              "</table>\n",
              "</div>"
            ],
            "text/plain": [
              "    이름   업체    음료    가격\n",
              "0  송중기  별다방  아이스티  4500\n",
              "1  김나현  콩다방  카페오레  5500\n",
              "2  권보아  별다방  카페오레  4000\n",
              "3  박효신  콩다방  아이스티  6000\n",
              "4  김범수  별다방  카페오레  4000"
            ]
          },
          "execution_count": 24,
          "metadata": {},
          "output_type": "execute_result"
        }
      ],
      "source": [
        "# 혹은 함수를 적용 결과를 그대로 사용해도 된다\n",
        "df1.merge(df2.rename(columns={'제품':'음료'}), how='left')"
      ]
    },
    {
      "cell_type": "markdown",
      "metadata": {
        "id": "S7FAoM6TE0s-"
      },
      "source": [
        "<img src=https://i.ibb.co/HXyDK9t/image.png, width=600>"
      ]
    },
    {
      "cell_type": "markdown",
      "metadata": {
        "id": "6ShbY0IjGh_1"
      },
      "source": [
        "## 5. 정렬하기 (sort_values)"
      ]
    },
    {
      "cell_type": "markdown",
      "metadata": {},
      "source": [
        "### 학습 목표\n",
        "- 특정 열을 기준으로 정렬한다. (`sort_values` 함수)\n",
        "- 오름차순과 내림차순으로 정렬한다. (`sort_values` 함수의 `ascending` 인자)\n",
        "- 복수의 열을 기준으로 오름차순과 내림차순을 섞어서 정렬한다."
      ]
    },
    {
      "cell_type": "markdown",
      "metadata": {
        "id": "kjV67nntGp6q"
      },
      "source": [
        "\n",
        "\n",
        "> pandas sort_values\n",
        "\n",
        "\n",
        "\n",
        "**by** (인수는 label 또는 label의 리스트)\n",
        "\n",
        "정렬의 기준이 될 배열(주로 정렬의 기준인 열)을 지정하는 인자\n",
        "\n",
        " \n",
        "\n",
        "**ascending** (인수는 bool 또는 bool의 리스트 / 기본값은 True)\n",
        "\n",
        "정렬 순서를 오름차순으로 정렬할지 내림차순으로 정렬할지 지정하는 인자\n",
        "\n",
        "[sort_values 판다스 공식 문서](https://pandas.pydata.org/docs/reference/api/pandas.DataFrame.sort_values.html)"
      ]
    },
    {
      "cell_type": "code",
      "execution_count": 25,
      "metadata": {
        "colab": {
          "base_uri": "https://localhost:8080/",
          "height": 175
        },
        "id": "ZMT53xwjhq1s",
        "outputId": "9bd49c77-0207-4166-e470-319e1f8ee30c"
      },
      "outputs": [
        {
          "data": {
            "text/html": [
              "<div>\n",
              "<style scoped>\n",
              "    .dataframe tbody tr th:only-of-type {\n",
              "        vertical-align: middle;\n",
              "    }\n",
              "\n",
              "    .dataframe tbody tr th {\n",
              "        vertical-align: top;\n",
              "    }\n",
              "\n",
              "    .dataframe thead th {\n",
              "        text-align: right;\n",
              "    }\n",
              "</style>\n",
              "<table border=\"1\" class=\"dataframe\">\n",
              "  <thead>\n",
              "    <tr style=\"text-align: right;\">\n",
              "      <th></th>\n",
              "      <th>국어</th>\n",
              "      <th>영어</th>\n",
              "      <th>수학</th>\n",
              "      <th>과학</th>\n",
              "      <th>나이</th>\n",
              "    </tr>\n",
              "  </thead>\n",
              "  <tbody>\n",
              "    <tr>\n",
              "      <th>A</th>\n",
              "      <td>60</td>\n",
              "      <td>84</td>\n",
              "      <td>80</td>\n",
              "      <td>70</td>\n",
              "      <td>19</td>\n",
              "    </tr>\n",
              "    <tr>\n",
              "      <th>B</th>\n",
              "      <td>77</td>\n",
              "      <td>62</td>\n",
              "      <td>95</td>\n",
              "      <td>85</td>\n",
              "      <td>17</td>\n",
              "    </tr>\n",
              "    <tr>\n",
              "      <th>C</th>\n",
              "      <td>61</td>\n",
              "      <td>97</td>\n",
              "      <td>72</td>\n",
              "      <td>67</td>\n",
              "      <td>15</td>\n",
              "    </tr>\n",
              "    <tr>\n",
              "      <th>D</th>\n",
              "      <td>75</td>\n",
              "      <td>65</td>\n",
              "      <td>95</td>\n",
              "      <td>51</td>\n",
              "      <td>18</td>\n",
              "    </tr>\n",
              "  </tbody>\n",
              "</table>\n",
              "</div>"
            ],
            "text/plain": [
              "   국어  영어  수학  과학  나이\n",
              "A  60  84  80  70  19\n",
              "B  77  62  95  85  17\n",
              "C  61  97  72  67  15\n",
              "D  75  65  95  51  18"
            ]
          },
          "execution_count": 25,
          "metadata": {},
          "output_type": "execute_result"
        }
      ],
      "source": [
        "import pandas as pd\n",
        "data = [[60, 84, 80, 70, 19],\n",
        "        [77, 62, 95, 85, 17],\n",
        "        [61, 97, 72, 67, 15],\n",
        "        [75, 65, 95, 51, 18]]\n",
        "cols = ['국어', '영어', '수학', '과학', '나이']\n",
        "df = pd.DataFrame(data, index=['A', 'B', 'C', 'D'], columns=cols)\n",
        "df"
      ]
    },
    {
      "cell_type": "code",
      "execution_count": 26,
      "metadata": {
        "colab": {
          "base_uri": "https://localhost:8080/",
          "height": 175
        },
        "id": "Y10bMSfimi2O",
        "outputId": "8731563e-756e-4196-dcc5-12b29cfd8b2a"
      },
      "outputs": [
        {
          "data": {
            "text/html": [
              "<div>\n",
              "<style scoped>\n",
              "    .dataframe tbody tr th:only-of-type {\n",
              "        vertical-align: middle;\n",
              "    }\n",
              "\n",
              "    .dataframe tbody tr th {\n",
              "        vertical-align: top;\n",
              "    }\n",
              "\n",
              "    .dataframe thead th {\n",
              "        text-align: right;\n",
              "    }\n",
              "</style>\n",
              "<table border=\"1\" class=\"dataframe\">\n",
              "  <thead>\n",
              "    <tr style=\"text-align: right;\">\n",
              "      <th></th>\n",
              "      <th>국어</th>\n",
              "      <th>영어</th>\n",
              "      <th>수학</th>\n",
              "      <th>과학</th>\n",
              "      <th>나이</th>\n",
              "    </tr>\n",
              "  </thead>\n",
              "  <tbody>\n",
              "    <tr>\n",
              "      <th>A</th>\n",
              "      <td>60</td>\n",
              "      <td>84</td>\n",
              "      <td>80</td>\n",
              "      <td>70</td>\n",
              "      <td>19</td>\n",
              "    </tr>\n",
              "    <tr>\n",
              "      <th>C</th>\n",
              "      <td>61</td>\n",
              "      <td>97</td>\n",
              "      <td>72</td>\n",
              "      <td>67</td>\n",
              "      <td>15</td>\n",
              "    </tr>\n",
              "    <tr>\n",
              "      <th>D</th>\n",
              "      <td>75</td>\n",
              "      <td>65</td>\n",
              "      <td>95</td>\n",
              "      <td>51</td>\n",
              "      <td>18</td>\n",
              "    </tr>\n",
              "    <tr>\n",
              "      <th>B</th>\n",
              "      <td>77</td>\n",
              "      <td>62</td>\n",
              "      <td>95</td>\n",
              "      <td>85</td>\n",
              "      <td>17</td>\n",
              "    </tr>\n",
              "  </tbody>\n",
              "</table>\n",
              "</div>"
            ],
            "text/plain": [
              "   국어  영어  수학  과학  나이\n",
              "A  60  84  80  70  19\n",
              "C  61  97  72  67  15\n",
              "D  75  65  95  51  18\n",
              "B  77  62  95  85  17"
            ]
          },
          "execution_count": 26,
          "metadata": {},
          "output_type": "execute_result"
        }
      ],
      "source": [
        "# 국어열을 기준으로 오름차순으로 정렬하기\n",
        "df.sort_values('국어')"
      ]
    },
    {
      "cell_type": "code",
      "execution_count": 27,
      "metadata": {
        "colab": {
          "base_uri": "https://localhost:8080/",
          "height": 175
        },
        "id": "n1ugg4XBmqYm",
        "outputId": "be09575f-cbe9-4c5c-da1b-27b0eaa83f60"
      },
      "outputs": [
        {
          "data": {
            "text/html": [
              "<div>\n",
              "<style scoped>\n",
              "    .dataframe tbody tr th:only-of-type {\n",
              "        vertical-align: middle;\n",
              "    }\n",
              "\n",
              "    .dataframe tbody tr th {\n",
              "        vertical-align: top;\n",
              "    }\n",
              "\n",
              "    .dataframe thead th {\n",
              "        text-align: right;\n",
              "    }\n",
              "</style>\n",
              "<table border=\"1\" class=\"dataframe\">\n",
              "  <thead>\n",
              "    <tr style=\"text-align: right;\">\n",
              "      <th></th>\n",
              "      <th>국어</th>\n",
              "      <th>영어</th>\n",
              "      <th>수학</th>\n",
              "      <th>과학</th>\n",
              "      <th>나이</th>\n",
              "    </tr>\n",
              "  </thead>\n",
              "  <tbody>\n",
              "    <tr>\n",
              "      <th>A</th>\n",
              "      <td>60</td>\n",
              "      <td>84</td>\n",
              "      <td>80</td>\n",
              "      <td>70</td>\n",
              "      <td>19</td>\n",
              "    </tr>\n",
              "    <tr>\n",
              "      <th>B</th>\n",
              "      <td>77</td>\n",
              "      <td>62</td>\n",
              "      <td>95</td>\n",
              "      <td>85</td>\n",
              "      <td>17</td>\n",
              "    </tr>\n",
              "    <tr>\n",
              "      <th>C</th>\n",
              "      <td>61</td>\n",
              "      <td>97</td>\n",
              "      <td>72</td>\n",
              "      <td>67</td>\n",
              "      <td>15</td>\n",
              "    </tr>\n",
              "    <tr>\n",
              "      <th>D</th>\n",
              "      <td>75</td>\n",
              "      <td>65</td>\n",
              "      <td>95</td>\n",
              "      <td>51</td>\n",
              "      <td>18</td>\n",
              "    </tr>\n",
              "  </tbody>\n",
              "</table>\n",
              "</div>"
            ],
            "text/plain": [
              "   국어  영어  수학  과학  나이\n",
              "A  60  84  80  70  19\n",
              "B  77  62  95  85  17\n",
              "C  61  97  72  67  15\n",
              "D  75  65  95  51  18"
            ]
          },
          "execution_count": 27,
          "metadata": {},
          "output_type": "execute_result"
        }
      ],
      "source": [
        "# df는 바뀌지 않는다 (원본을 덮어쓰지 않음)\n",
        "df"
      ]
    },
    {
      "cell_type": "code",
      "execution_count": 28,
      "metadata": {
        "colab": {
          "base_uri": "https://localhost:8080/",
          "height": 175
        },
        "id": "ztEWV4O0mm-j",
        "outputId": "b10832cc-ab8b-4cb2-c79b-d5314a3e8fb8"
      },
      "outputs": [
        {
          "data": {
            "text/html": [
              "<div>\n",
              "<style scoped>\n",
              "    .dataframe tbody tr th:only-of-type {\n",
              "        vertical-align: middle;\n",
              "    }\n",
              "\n",
              "    .dataframe tbody tr th {\n",
              "        vertical-align: top;\n",
              "    }\n",
              "\n",
              "    .dataframe thead th {\n",
              "        text-align: right;\n",
              "    }\n",
              "</style>\n",
              "<table border=\"1\" class=\"dataframe\">\n",
              "  <thead>\n",
              "    <tr style=\"text-align: right;\">\n",
              "      <th></th>\n",
              "      <th>국어</th>\n",
              "      <th>영어</th>\n",
              "      <th>수학</th>\n",
              "      <th>과학</th>\n",
              "      <th>나이</th>\n",
              "    </tr>\n",
              "  </thead>\n",
              "  <tbody>\n",
              "    <tr>\n",
              "      <th>C</th>\n",
              "      <td>61</td>\n",
              "      <td>97</td>\n",
              "      <td>72</td>\n",
              "      <td>67</td>\n",
              "      <td>15</td>\n",
              "    </tr>\n",
              "    <tr>\n",
              "      <th>A</th>\n",
              "      <td>60</td>\n",
              "      <td>84</td>\n",
              "      <td>80</td>\n",
              "      <td>70</td>\n",
              "      <td>19</td>\n",
              "    </tr>\n",
              "    <tr>\n",
              "      <th>D</th>\n",
              "      <td>75</td>\n",
              "      <td>65</td>\n",
              "      <td>95</td>\n",
              "      <td>51</td>\n",
              "      <td>18</td>\n",
              "    </tr>\n",
              "    <tr>\n",
              "      <th>B</th>\n",
              "      <td>77</td>\n",
              "      <td>62</td>\n",
              "      <td>95</td>\n",
              "      <td>85</td>\n",
              "      <td>17</td>\n",
              "    </tr>\n",
              "  </tbody>\n",
              "</table>\n",
              "</div>"
            ],
            "text/plain": [
              "   국어  영어  수학  과학  나이\n",
              "C  61  97  72  67  15\n",
              "A  60  84  80  70  19\n",
              "D  75  65  95  51  18\n",
              "B  77  62  95  85  17"
            ]
          },
          "execution_count": 28,
          "metadata": {},
          "output_type": "execute_result"
        }
      ],
      "source": [
        "# 영어 열을 기준으로 내림차순으로 정렬하기\n",
        "df.sort_values('영어', ascending=False)"
      ]
    },
    {
      "cell_type": "code",
      "execution_count": 29,
      "metadata": {
        "colab": {
          "base_uri": "https://localhost:8080/",
          "height": 175
        },
        "id": "Tux_3WcqmuOe",
        "outputId": "90def734-af08-4512-8323-71b506b33260"
      },
      "outputs": [
        {
          "data": {
            "text/html": [
              "<div>\n",
              "<style scoped>\n",
              "    .dataframe tbody tr th:only-of-type {\n",
              "        vertical-align: middle;\n",
              "    }\n",
              "\n",
              "    .dataframe tbody tr th {\n",
              "        vertical-align: top;\n",
              "    }\n",
              "\n",
              "    .dataframe thead th {\n",
              "        text-align: right;\n",
              "    }\n",
              "</style>\n",
              "<table border=\"1\" class=\"dataframe\">\n",
              "  <thead>\n",
              "    <tr style=\"text-align: right;\">\n",
              "      <th></th>\n",
              "      <th>국어</th>\n",
              "      <th>영어</th>\n",
              "      <th>수학</th>\n",
              "      <th>과학</th>\n",
              "      <th>나이</th>\n",
              "    </tr>\n",
              "  </thead>\n",
              "  <tbody>\n",
              "    <tr>\n",
              "      <th>B</th>\n",
              "      <td>77</td>\n",
              "      <td>62</td>\n",
              "      <td>95</td>\n",
              "      <td>85</td>\n",
              "      <td>17</td>\n",
              "    </tr>\n",
              "    <tr>\n",
              "      <th>D</th>\n",
              "      <td>75</td>\n",
              "      <td>65</td>\n",
              "      <td>95</td>\n",
              "      <td>51</td>\n",
              "      <td>18</td>\n",
              "    </tr>\n",
              "    <tr>\n",
              "      <th>A</th>\n",
              "      <td>60</td>\n",
              "      <td>84</td>\n",
              "      <td>80</td>\n",
              "      <td>70</td>\n",
              "      <td>19</td>\n",
              "    </tr>\n",
              "    <tr>\n",
              "      <th>C</th>\n",
              "      <td>61</td>\n",
              "      <td>97</td>\n",
              "      <td>72</td>\n",
              "      <td>67</td>\n",
              "      <td>15</td>\n",
              "    </tr>\n",
              "  </tbody>\n",
              "</table>\n",
              "</div>"
            ],
            "text/plain": [
              "   국어  영어  수학  과학  나이\n",
              "B  77  62  95  85  17\n",
              "D  75  65  95  51  18\n",
              "A  60  84  80  70  19\n",
              "C  61  97  72  67  15"
            ]
          },
          "execution_count": 29,
          "metadata": {},
          "output_type": "execute_result"
        }
      ],
      "source": [
        "# 수학으로 정렬하되 수학이 동점이면 과학으로 정렬 (모두 내림차순)\n",
        "df.sort_values(['수학', '과학'], ascending=False)"
      ]
    },
    {
      "cell_type": "code",
      "execution_count": 30,
      "metadata": {
        "colab": {
          "base_uri": "https://localhost:8080/",
          "height": 175
        },
        "id": "DFk2ZbWFkSM_",
        "outputId": "cdb68a4f-9d36-4559-ca8e-7f240b66bf4d"
      },
      "outputs": [
        {
          "data": {
            "text/html": [
              "<div>\n",
              "<style scoped>\n",
              "    .dataframe tbody tr th:only-of-type {\n",
              "        vertical-align: middle;\n",
              "    }\n",
              "\n",
              "    .dataframe tbody tr th {\n",
              "        vertical-align: top;\n",
              "    }\n",
              "\n",
              "    .dataframe thead th {\n",
              "        text-align: right;\n",
              "    }\n",
              "</style>\n",
              "<table border=\"1\" class=\"dataframe\">\n",
              "  <thead>\n",
              "    <tr style=\"text-align: right;\">\n",
              "      <th></th>\n",
              "      <th>국어</th>\n",
              "      <th>영어</th>\n",
              "      <th>수학</th>\n",
              "      <th>과학</th>\n",
              "      <th>나이</th>\n",
              "    </tr>\n",
              "  </thead>\n",
              "  <tbody>\n",
              "    <tr>\n",
              "      <th>D</th>\n",
              "      <td>75</td>\n",
              "      <td>65</td>\n",
              "      <td>95</td>\n",
              "      <td>51</td>\n",
              "      <td>18</td>\n",
              "    </tr>\n",
              "    <tr>\n",
              "      <th>B</th>\n",
              "      <td>77</td>\n",
              "      <td>62</td>\n",
              "      <td>95</td>\n",
              "      <td>85</td>\n",
              "      <td>17</td>\n",
              "    </tr>\n",
              "    <tr>\n",
              "      <th>A</th>\n",
              "      <td>60</td>\n",
              "      <td>84</td>\n",
              "      <td>80</td>\n",
              "      <td>70</td>\n",
              "      <td>19</td>\n",
              "    </tr>\n",
              "    <tr>\n",
              "      <th>C</th>\n",
              "      <td>61</td>\n",
              "      <td>97</td>\n",
              "      <td>72</td>\n",
              "      <td>67</td>\n",
              "      <td>15</td>\n",
              "    </tr>\n",
              "  </tbody>\n",
              "</table>\n",
              "</div>"
            ],
            "text/plain": [
              "   국어  영어  수학  과학  나이\n",
              "D  75  65  95  51  18\n",
              "B  77  62  95  85  17\n",
              "A  60  84  80  70  19\n",
              "C  61  97  72  67  15"
            ]
          },
          "execution_count": 30,
          "metadata": {},
          "output_type": "execute_result"
        }
      ],
      "source": [
        "# 수학으로 내림차순으로 정렬하되 수학이 동점이면 과학으로 오름차순 정렬\n",
        "df.sort_values(['수학', '과학'], ascending=[0, 1])"
      ]
    },
    {
      "cell_type": "markdown",
      "metadata": {
        "id": "6BRwZWb8HM01"
      },
      "source": [
        "## 6. 범위로 병합하기 (merge_asof)"
      ]
    },
    {
      "cell_type": "markdown",
      "metadata": {},
      "source": [
        "### 학습 목표\n",
        "- 엑셀의 vlookup False에 해당하는 유사일치 병합을 한다. (`merge_asof` 함수)\n",
        "- 특정 열은 일치시키면서 유사일치 병합을 한다. (`merge_asof` 함수의 `by` 인자)"
      ]
    },
    {
      "cell_type": "markdown",
      "metadata": {
        "id": "puuVk8TpINYI"
      },
      "source": [
        "\n",
        "\n",
        "> pandas merge_asof\n",
        "\n",
        "\n",
        "\n",
        "**left** (인수는 데이터프레임 혹은 시리즈)\n",
        "\n",
        "병합할 객체1\n",
        "\n",
        "**right** (인수는 데이터프레임 혹은 시리즈)\n",
        "\n",
        "병합할 객체2\n",
        "\n",
        "**on** (인수는 열의 레이블)\n",
        "\n",
        "유사일치로 병합할 기준이 되는 열의 레이블을 지정한다.\n",
        "\n",
        "* 반드시 하나의 열만 지정해야 한다.\n",
        "* 숫자나 datetime 같이 유사일치가 가능한 자료형의 열이어야 한다.\n",
        "* 오름차순으로 정렬이 되어 있어야 한다.\n",
        "\n",
        "**by** (인수는 열의 레이블 또는 열의 레이블의 리스트)\n",
        "\n",
        "정확히 일치시킬 열을 지정하는 인자.\n",
        " \n",
        "**direction** (인수는 ‘backward’, ‘forward’, ‘nearest’ / 기본값은 ‘backward’)\n",
        "\n",
        "경계를 기준으로 유사일치시킬 방향을 결정하는 인자\n",
        "\n",
        "\n",
        "* ‘backward’는 작은 값중 최대를 찾아 병합한다. 기본값이다.\n",
        "\n",
        "* ‘forward’는 큰 값중 최소를 찾아 병합한다.\n",
        "\n",
        "* ‘nearest’는 가장 가까운 값을 찾아 병합한다.\n",
        "\n",
        "[merge_asof 함수 판다스 공식문서](https://pandas.pydata.org/pandas-docs/stable/reference/api/pandas.merge_asof.html)"
      ]
    },
    {
      "cell_type": "code",
      "execution_count": 31,
      "metadata": {
        "colab": {
          "base_uri": "https://localhost:8080/",
          "height": 175
        },
        "id": "Ukk6pf4Cqgun",
        "outputId": "c09d6957-cc98-46d1-be71-b5e9a7bf6fd6"
      },
      "outputs": [
        {
          "data": {
            "text/html": [
              "<div>\n",
              "<style scoped>\n",
              "    .dataframe tbody tr th:only-of-type {\n",
              "        vertical-align: middle;\n",
              "    }\n",
              "\n",
              "    .dataframe tbody tr th {\n",
              "        vertical-align: top;\n",
              "    }\n",
              "\n",
              "    .dataframe thead th {\n",
              "        text-align: right;\n",
              "    }\n",
              "</style>\n",
              "<table border=\"1\" class=\"dataframe\">\n",
              "  <thead>\n",
              "    <tr style=\"text-align: right;\">\n",
              "      <th></th>\n",
              "      <th>점수</th>\n",
              "      <th>학점</th>\n",
              "    </tr>\n",
              "  </thead>\n",
              "  <tbody>\n",
              "    <tr>\n",
              "      <th>0</th>\n",
              "      <td>90</td>\n",
              "      <td>A</td>\n",
              "    </tr>\n",
              "    <tr>\n",
              "      <th>1</th>\n",
              "      <td>80</td>\n",
              "      <td>B</td>\n",
              "    </tr>\n",
              "    <tr>\n",
              "      <th>2</th>\n",
              "      <td>70</td>\n",
              "      <td>C</td>\n",
              "    </tr>\n",
              "    <tr>\n",
              "      <th>3</th>\n",
              "      <td>0</td>\n",
              "      <td>F</td>\n",
              "    </tr>\n",
              "  </tbody>\n",
              "</table>\n",
              "</div>"
            ],
            "text/plain": [
              "   점수 학점\n",
              "0  90  A\n",
              "1  80  B\n",
              "2  70  C\n",
              "3   0  F"
            ]
          },
          "execution_count": 31,
          "metadata": {},
          "output_type": "execute_result"
        }
      ],
      "source": [
        "import pandas as pd\n",
        "pd.options.display.max_rows = 6 \n",
        "data1 = [['가', 88], ['나', 72], ['다', 80], ['라', 60], ['마', 95]]\n",
        "data2 = [[90, 'A'], [80, 'B'], [70, 'C'], [0, 'F']]\n",
        "df1 = pd.DataFrame(data1, columns=['이름', '점수'])\n",
        "df2 = pd.DataFrame(data2, columns=['점수', '학점'])\n",
        "df2"
      ]
    },
    {
      "cell_type": "code",
      "execution_count": 32,
      "metadata": {
        "colab": {
          "base_uri": "https://localhost:8080/",
          "height": 206
        },
        "id": "L-PeSJpN4PLY",
        "outputId": "b6506b1c-853e-4c00-c0ce-def79b3a3578"
      },
      "outputs": [
        {
          "data": {
            "text/html": [
              "<div>\n",
              "<style scoped>\n",
              "    .dataframe tbody tr th:only-of-type {\n",
              "        vertical-align: middle;\n",
              "    }\n",
              "\n",
              "    .dataframe tbody tr th {\n",
              "        vertical-align: top;\n",
              "    }\n",
              "\n",
              "    .dataframe thead th {\n",
              "        text-align: right;\n",
              "    }\n",
              "</style>\n",
              "<table border=\"1\" class=\"dataframe\">\n",
              "  <thead>\n",
              "    <tr style=\"text-align: right;\">\n",
              "      <th></th>\n",
              "      <th>이름</th>\n",
              "      <th>점수</th>\n",
              "      <th>학점</th>\n",
              "    </tr>\n",
              "  </thead>\n",
              "  <tbody>\n",
              "    <tr>\n",
              "      <th>0</th>\n",
              "      <td>라</td>\n",
              "      <td>60</td>\n",
              "      <td>F</td>\n",
              "    </tr>\n",
              "    <tr>\n",
              "      <th>1</th>\n",
              "      <td>나</td>\n",
              "      <td>72</td>\n",
              "      <td>C</td>\n",
              "    </tr>\n",
              "    <tr>\n",
              "      <th>2</th>\n",
              "      <td>다</td>\n",
              "      <td>80</td>\n",
              "      <td>B</td>\n",
              "    </tr>\n",
              "    <tr>\n",
              "      <th>3</th>\n",
              "      <td>가</td>\n",
              "      <td>88</td>\n",
              "      <td>B</td>\n",
              "    </tr>\n",
              "    <tr>\n",
              "      <th>4</th>\n",
              "      <td>마</td>\n",
              "      <td>95</td>\n",
              "      <td>A</td>\n",
              "    </tr>\n",
              "  </tbody>\n",
              "</table>\n",
              "</div>"
            ],
            "text/plain": [
              "  이름  점수 학점\n",
              "0  라  60  F\n",
              "1  나  72  C\n",
              "2  다  80  B\n",
              "3  가  88  B\n",
              "4  마  95  A"
            ]
          },
          "execution_count": 32,
          "metadata": {},
          "output_type": "execute_result"
        }
      ],
      "source": [
        "# 점수를 기준으로 범위로 병합한다 (반드시 오름차순으로 정렬되어 있어야함)\n",
        "df1 = df1.sort_values('점수')\n",
        "df2 = df2.sort_values('점수')\n",
        "pd.merge_asof(df1, df2, on='점수')"
      ]
    },
    {
      "cell_type": "code",
      "execution_count": 33,
      "metadata": {
        "id": "-iWx-Zp45RBo"
      },
      "outputs": [],
      "source": [
        "# 엑셀파일로 merge_asof 실습하기\n",
        "url = './02_06_merge_asof.xlsx'\n",
        "df3 = pd.read_excel(url)\n",
        "df4 = pd.read_excel(url, sheet_name=1).sort_values('수량')"
      ]
    },
    {
      "cell_type": "code",
      "execution_count": 34,
      "metadata": {
        "colab": {
          "base_uri": "https://localhost:8080/",
          "height": 298
        },
        "id": "nkJGEthq6ul2",
        "outputId": "73656818-799b-4faa-821b-a0f7ca9027a2"
      },
      "outputs": [
        {
          "data": {
            "text/html": [
              "<div>\n",
              "<style scoped>\n",
              "    .dataframe tbody tr th:only-of-type {\n",
              "        vertical-align: middle;\n",
              "    }\n",
              "\n",
              "    .dataframe tbody tr th {\n",
              "        vertical-align: top;\n",
              "    }\n",
              "\n",
              "    .dataframe thead th {\n",
              "        text-align: right;\n",
              "    }\n",
              "</style>\n",
              "<table border=\"1\" class=\"dataframe\">\n",
              "  <thead>\n",
              "    <tr style=\"text-align: right;\">\n",
              "      <th></th>\n",
              "      <th>사이즈</th>\n",
              "      <th>종류</th>\n",
              "      <th>수량</th>\n",
              "      <th>단가</th>\n",
              "    </tr>\n",
              "  </thead>\n",
              "  <tbody>\n",
              "    <tr>\n",
              "      <th>0</th>\n",
              "      <td>A3</td>\n",
              "      <td>풀컬러</td>\n",
              "      <td>10</td>\n",
              "      <td>360</td>\n",
              "    </tr>\n",
              "    <tr>\n",
              "      <th>1</th>\n",
              "      <td>A4</td>\n",
              "      <td>컬러</td>\n",
              "      <td>10</td>\n",
              "      <td>90</td>\n",
              "    </tr>\n",
              "    <tr>\n",
              "      <th>2</th>\n",
              "      <td>A4</td>\n",
              "      <td>풀컬러</td>\n",
              "      <td>29</td>\n",
              "      <td>180</td>\n",
              "    </tr>\n",
              "    <tr>\n",
              "      <th>...</th>\n",
              "      <td>...</td>\n",
              "      <td>...</td>\n",
              "      <td>...</td>\n",
              "      <td>...</td>\n",
              "    </tr>\n",
              "    <tr>\n",
              "      <th>97</th>\n",
              "      <td>A4</td>\n",
              "      <td>컬러</td>\n",
              "      <td>962</td>\n",
              "      <td>50</td>\n",
              "    </tr>\n",
              "    <tr>\n",
              "      <th>98</th>\n",
              "      <td>B5</td>\n",
              "      <td>컬러</td>\n",
              "      <td>973</td>\n",
              "      <td>40</td>\n",
              "    </tr>\n",
              "    <tr>\n",
              "      <th>99</th>\n",
              "      <td>A4</td>\n",
              "      <td>풀컬러</td>\n",
              "      <td>975</td>\n",
              "      <td>100</td>\n",
              "    </tr>\n",
              "  </tbody>\n",
              "</table>\n",
              "<p>100 rows × 4 columns</p>\n",
              "</div>"
            ],
            "text/plain": [
              "   사이즈   종류   수량   단가\n",
              "0   A3  풀컬러   10  360\n",
              "1   A4   컬러   10   90\n",
              "2   A4  풀컬러   29  180\n",
              "..  ..  ...  ...  ...\n",
              "97  A4   컬러  962   50\n",
              "98  B5   컬러  973   40\n",
              "99  A4  풀컬러  975  100\n",
              "\n",
              "[100 rows x 4 columns]"
            ]
          },
          "execution_count": 34,
          "metadata": {},
          "output_type": "execute_result"
        }
      ],
      "source": [
        "# 사이즈와 종류는 정확히 일치시키고 수량은 범위로 병합한다\n",
        "df5 = pd.merge_asof(df3, df4, on='수량', by=['사이즈', '종류'])\n",
        "df5"
      ]
    },
    {
      "cell_type": "code",
      "execution_count": 35,
      "metadata": {
        "id": "VvdAI7eoIGMs"
      },
      "outputs": [],
      "source": [
        "# 결과를 index는 제외하고 엑셀파일로 저장한다\n",
        "df5.to_excel('result_merge_asof.xlsx', index=False)"
      ]
    },
    {
      "cell_type": "markdown",
      "metadata": {
        "id": "HY886LmQIKjF"
      },
      "source": [
        "## 7. 데이터 프레임 결합하기 (concat)"
      ]
    },
    {
      "cell_type": "markdown",
      "metadata": {},
      "source": [
        "### 학습 목표\n",
        "- 데이터 프레임을 결합한다. (`concat` 함수)\n",
        "- 행방향과 열방향으로 결합한다. (`concat` 함수의 `axis` 인자)\n",
        "- `inner join`과 `outer join`을 이해한다."
      ]
    },
    {
      "cell_type": "markdown",
      "metadata": {
        "id": "O6JVk1sqKHzV"
      },
      "source": [
        "\n",
        "\n",
        "> pandas concat\n",
        "\n",
        "\n",
        "\n",
        "**objs** (인수는 시리즈 혹은 데이터프레임의 배열)\n",
        "\n",
        "결합할 시리즈나 데이터프레임들을 리스트로 지정하는 인자\n",
        "\n",
        "**axis** (인수는 0 또는 1 / 기본값은 0)\n",
        "\n",
        "결합할 축 방향을 지정하는 인자. axis=0일때는 행이 증가하는 방향으로 결합하고, axis=1일때는 열이 증가하는 방향으로 결합한다.\n",
        "\n",
        "**join** (인수는 ‘inner’, ‘outer’ / 기본값은 ‘outer’)\n",
        "\n",
        "결합방식을 지정하는 인자. \n",
        "\n",
        "\n",
        "* inner는 columns가 교집합으로 결합한다. (axis=0일때는 index가 교집합)\n",
        "* outer는 columns가 합집합으로 결합한다. (axis=0일때는 index가 교집합)\n",
        " \n",
        "\n",
        "**keys** (인수는 배열 / 기본값은 None)\n",
        "\n",
        "결합하는 각 데이터프레임에 레벨을 부여하는 인자\n",
        "\n",
        "[concat 함수 판다스 공식문서](https://pandas.pydata.org/docs/reference/api/pandas.DataFrame.sort_values.html)"
      ]
    },
    {
      "cell_type": "code",
      "execution_count": 36,
      "metadata": {
        "id": "3bvVcw_wlRni"
      },
      "outputs": [],
      "source": [
        "import pandas as pd\n",
        "\n",
        "data1 = [[80, 69, 83, 98], [71, 90, 69, 66], [74, 72, 72, 95]]\n",
        "data2 = [[68, 70, 84, 70], [65, 91, 90, 66], [78, 94, 96, 64]]\n",
        "data3 = [[84, 70, 70, 68], [90, 66, 91, 65], [96, 64, 94, 78]]\n",
        "idx1 = ['송중기', '박보검', '김나현']\n",
        "idx2 = ['권보아', '김범수', '박효신']\n",
        "col = ['국어', '수학', '영어', '과학']\n",
        "\n",
        "df1 = pd.DataFrame(data1, index=idx1, columns=col)\n",
        "df2 = pd.DataFrame(data2, index=idx2, columns=col)\n",
        "df3 = pd.DataFrame([[65, 82], [85, 60], [75, 78]],\n",
        "                   index=idx1, columns=['사회', '음악'])\n",
        "df4 = pd.DataFrame(data3, index=idx2, \n",
        "                   columns=['영어', '과학', '수학', '사회'])"
      ]
    },
    {
      "cell_type": "code",
      "execution_count": 37,
      "metadata": {
        "colab": {
          "base_uri": "https://localhost:8080/",
          "height": 238
        },
        "id": "RXYd4uYCKxD0",
        "outputId": "f373d02a-88af-45ee-d821-41ae3e7cd7e9"
      },
      "outputs": [
        {
          "data": {
            "text/html": [
              "<div>\n",
              "<style scoped>\n",
              "    .dataframe tbody tr th:only-of-type {\n",
              "        vertical-align: middle;\n",
              "    }\n",
              "\n",
              "    .dataframe tbody tr th {\n",
              "        vertical-align: top;\n",
              "    }\n",
              "\n",
              "    .dataframe thead th {\n",
              "        text-align: right;\n",
              "    }\n",
              "</style>\n",
              "<table border=\"1\" class=\"dataframe\">\n",
              "  <thead>\n",
              "    <tr style=\"text-align: right;\">\n",
              "      <th></th>\n",
              "      <th>국어</th>\n",
              "      <th>수학</th>\n",
              "      <th>영어</th>\n",
              "      <th>과학</th>\n",
              "    </tr>\n",
              "  </thead>\n",
              "  <tbody>\n",
              "    <tr>\n",
              "      <th>송중기</th>\n",
              "      <td>80</td>\n",
              "      <td>69</td>\n",
              "      <td>83</td>\n",
              "      <td>98</td>\n",
              "    </tr>\n",
              "    <tr>\n",
              "      <th>박보검</th>\n",
              "      <td>71</td>\n",
              "      <td>90</td>\n",
              "      <td>69</td>\n",
              "      <td>66</td>\n",
              "    </tr>\n",
              "    <tr>\n",
              "      <th>김나현</th>\n",
              "      <td>74</td>\n",
              "      <td>72</td>\n",
              "      <td>72</td>\n",
              "      <td>95</td>\n",
              "    </tr>\n",
              "    <tr>\n",
              "      <th>권보아</th>\n",
              "      <td>68</td>\n",
              "      <td>70</td>\n",
              "      <td>84</td>\n",
              "      <td>70</td>\n",
              "    </tr>\n",
              "    <tr>\n",
              "      <th>김범수</th>\n",
              "      <td>65</td>\n",
              "      <td>91</td>\n",
              "      <td>90</td>\n",
              "      <td>66</td>\n",
              "    </tr>\n",
              "    <tr>\n",
              "      <th>박효신</th>\n",
              "      <td>78</td>\n",
              "      <td>94</td>\n",
              "      <td>96</td>\n",
              "      <td>64</td>\n",
              "    </tr>\n",
              "  </tbody>\n",
              "</table>\n",
              "</div>"
            ],
            "text/plain": [
              "     국어  수학  영어  과학\n",
              "송중기  80  69  83  98\n",
              "박보검  71  90  69  66\n",
              "김나현  74  72  72  95\n",
              "권보아  68  70  84  70\n",
              "김범수  65  91  90  66\n",
              "박효신  78  94  96  64"
            ]
          },
          "execution_count": 37,
          "metadata": {},
          "output_type": "execute_result"
        }
      ],
      "source": [
        "# 세로로 결합\n",
        "pd.concat([df1, df2])"
      ]
    },
    {
      "cell_type": "code",
      "execution_count": 38,
      "metadata": {
        "colab": {
          "base_uri": "https://localhost:8080/",
          "height": 143
        },
        "id": "cwXvbx21K3UZ",
        "outputId": "561cad13-3090-4c35-c658-84fd03f7c78a"
      },
      "outputs": [
        {
          "data": {
            "text/html": [
              "<div>\n",
              "<style scoped>\n",
              "    .dataframe tbody tr th:only-of-type {\n",
              "        vertical-align: middle;\n",
              "    }\n",
              "\n",
              "    .dataframe tbody tr th {\n",
              "        vertical-align: top;\n",
              "    }\n",
              "\n",
              "    .dataframe thead th {\n",
              "        text-align: right;\n",
              "    }\n",
              "</style>\n",
              "<table border=\"1\" class=\"dataframe\">\n",
              "  <thead>\n",
              "    <tr style=\"text-align: right;\">\n",
              "      <th></th>\n",
              "      <th>국어</th>\n",
              "      <th>수학</th>\n",
              "      <th>영어</th>\n",
              "      <th>과학</th>\n",
              "      <th>사회</th>\n",
              "      <th>음악</th>\n",
              "    </tr>\n",
              "  </thead>\n",
              "  <tbody>\n",
              "    <tr>\n",
              "      <th>송중기</th>\n",
              "      <td>80</td>\n",
              "      <td>69</td>\n",
              "      <td>83</td>\n",
              "      <td>98</td>\n",
              "      <td>65</td>\n",
              "      <td>82</td>\n",
              "    </tr>\n",
              "    <tr>\n",
              "      <th>박보검</th>\n",
              "      <td>71</td>\n",
              "      <td>90</td>\n",
              "      <td>69</td>\n",
              "      <td>66</td>\n",
              "      <td>85</td>\n",
              "      <td>60</td>\n",
              "    </tr>\n",
              "    <tr>\n",
              "      <th>김나현</th>\n",
              "      <td>74</td>\n",
              "      <td>72</td>\n",
              "      <td>72</td>\n",
              "      <td>95</td>\n",
              "      <td>75</td>\n",
              "      <td>78</td>\n",
              "    </tr>\n",
              "  </tbody>\n",
              "</table>\n",
              "</div>"
            ],
            "text/plain": [
              "     국어  수학  영어  과학  사회  음악\n",
              "송중기  80  69  83  98  65  82\n",
              "박보검  71  90  69  66  85  60\n",
              "김나현  74  72  72  95  75  78"
            ]
          },
          "execution_count": 38,
          "metadata": {},
          "output_type": "execute_result"
        }
      ],
      "source": [
        "# 가로로 결합\n",
        "pd.concat([df1, df3], axis=1) #1은 열, 0은 행을 의미"
      ]
    },
    {
      "cell_type": "code",
      "execution_count": 39,
      "metadata": {
        "colab": {
          "base_uri": "https://localhost:8080/",
          "height": 238
        },
        "id": "Yv2b-5pAK_-M",
        "outputId": "26272698-f74d-4c70-fadb-3d70788b3f73"
      },
      "outputs": [
        {
          "data": {
            "text/html": [
              "<div>\n",
              "<style scoped>\n",
              "    .dataframe tbody tr th:only-of-type {\n",
              "        vertical-align: middle;\n",
              "    }\n",
              "\n",
              "    .dataframe tbody tr th {\n",
              "        vertical-align: top;\n",
              "    }\n",
              "\n",
              "    .dataframe thead th {\n",
              "        text-align: right;\n",
              "    }\n",
              "</style>\n",
              "<table border=\"1\" class=\"dataframe\">\n",
              "  <thead>\n",
              "    <tr style=\"text-align: right;\">\n",
              "      <th></th>\n",
              "      <th>국어</th>\n",
              "      <th>수학</th>\n",
              "      <th>영어</th>\n",
              "      <th>과학</th>\n",
              "      <th>사회</th>\n",
              "    </tr>\n",
              "  </thead>\n",
              "  <tbody>\n",
              "    <tr>\n",
              "      <th>송중기</th>\n",
              "      <td>80.0</td>\n",
              "      <td>69</td>\n",
              "      <td>83</td>\n",
              "      <td>98</td>\n",
              "      <td>NaN</td>\n",
              "    </tr>\n",
              "    <tr>\n",
              "      <th>박보검</th>\n",
              "      <td>71.0</td>\n",
              "      <td>90</td>\n",
              "      <td>69</td>\n",
              "      <td>66</td>\n",
              "      <td>NaN</td>\n",
              "    </tr>\n",
              "    <tr>\n",
              "      <th>김나현</th>\n",
              "      <td>74.0</td>\n",
              "      <td>72</td>\n",
              "      <td>72</td>\n",
              "      <td>95</td>\n",
              "      <td>NaN</td>\n",
              "    </tr>\n",
              "    <tr>\n",
              "      <th>권보아</th>\n",
              "      <td>NaN</td>\n",
              "      <td>70</td>\n",
              "      <td>84</td>\n",
              "      <td>70</td>\n",
              "      <td>68.0</td>\n",
              "    </tr>\n",
              "    <tr>\n",
              "      <th>김범수</th>\n",
              "      <td>NaN</td>\n",
              "      <td>91</td>\n",
              "      <td>90</td>\n",
              "      <td>66</td>\n",
              "      <td>65.0</td>\n",
              "    </tr>\n",
              "    <tr>\n",
              "      <th>박효신</th>\n",
              "      <td>NaN</td>\n",
              "      <td>94</td>\n",
              "      <td>96</td>\n",
              "      <td>64</td>\n",
              "      <td>78.0</td>\n",
              "    </tr>\n",
              "  </tbody>\n",
              "</table>\n",
              "</div>"
            ],
            "text/plain": [
              "       국어  수학  영어  과학    사회\n",
              "송중기  80.0  69  83  98   NaN\n",
              "박보검  71.0  90  69  66   NaN\n",
              "김나현  74.0  72  72  95   NaN\n",
              "권보아   NaN  70  84  70  68.0\n",
              "김범수   NaN  91  90  66  65.0\n",
              "박효신   NaN  94  96  64  78.0"
            ]
          },
          "execution_count": 39,
          "metadata": {},
          "output_type": "execute_result"
        }
      ],
      "source": [
        "# outer join으로 결합\n",
        "pd.concat([df1, df4])"
      ]
    },
    {
      "cell_type": "code",
      "execution_count": 40,
      "metadata": {
        "colab": {
          "base_uri": "https://localhost:8080/",
          "height": 238
        },
        "id": "y59figJprZDK",
        "outputId": "ec6e31a4-b7d0-4af3-c946-2d3e1b4fc651"
      },
      "outputs": [
        {
          "data": {
            "text/html": [
              "<div>\n",
              "<style scoped>\n",
              "    .dataframe tbody tr th:only-of-type {\n",
              "        vertical-align: middle;\n",
              "    }\n",
              "\n",
              "    .dataframe tbody tr th {\n",
              "        vertical-align: top;\n",
              "    }\n",
              "\n",
              "    .dataframe thead th {\n",
              "        text-align: right;\n",
              "    }\n",
              "</style>\n",
              "<table border=\"1\" class=\"dataframe\">\n",
              "  <thead>\n",
              "    <tr style=\"text-align: right;\">\n",
              "      <th></th>\n",
              "      <th>수학</th>\n",
              "      <th>영어</th>\n",
              "      <th>과학</th>\n",
              "    </tr>\n",
              "  </thead>\n",
              "  <tbody>\n",
              "    <tr>\n",
              "      <th>송중기</th>\n",
              "      <td>69</td>\n",
              "      <td>83</td>\n",
              "      <td>98</td>\n",
              "    </tr>\n",
              "    <tr>\n",
              "      <th>박보검</th>\n",
              "      <td>90</td>\n",
              "      <td>69</td>\n",
              "      <td>66</td>\n",
              "    </tr>\n",
              "    <tr>\n",
              "      <th>김나현</th>\n",
              "      <td>72</td>\n",
              "      <td>72</td>\n",
              "      <td>95</td>\n",
              "    </tr>\n",
              "    <tr>\n",
              "      <th>권보아</th>\n",
              "      <td>70</td>\n",
              "      <td>84</td>\n",
              "      <td>70</td>\n",
              "    </tr>\n",
              "    <tr>\n",
              "      <th>김범수</th>\n",
              "      <td>91</td>\n",
              "      <td>90</td>\n",
              "      <td>66</td>\n",
              "    </tr>\n",
              "    <tr>\n",
              "      <th>박효신</th>\n",
              "      <td>94</td>\n",
              "      <td>96</td>\n",
              "      <td>64</td>\n",
              "    </tr>\n",
              "  </tbody>\n",
              "</table>\n",
              "</div>"
            ],
            "text/plain": [
              "     수학  영어  과학\n",
              "송중기  69  83  98\n",
              "박보검  90  69  66\n",
              "김나현  72  72  95\n",
              "권보아  70  84  70\n",
              "김범수  91  90  66\n",
              "박효신  94  96  64"
            ]
          },
          "execution_count": 40,
          "metadata": {},
          "output_type": "execute_result"
        }
      ],
      "source": [
        "# inner join으로 결합\n",
        "pd.concat([df1, df4], join='inner')"
      ]
    },
    {
      "cell_type": "code",
      "execution_count": 41,
      "metadata": {
        "colab": {
          "base_uri": "https://localhost:8080/",
          "height": 238
        },
        "id": "CqoEkv0CszD3",
        "outputId": "dd0d58d2-3060-406d-e099-922acc54b8b4"
      },
      "outputs": [
        {
          "data": {
            "text/html": [
              "<div>\n",
              "<style scoped>\n",
              "    .dataframe tbody tr th:only-of-type {\n",
              "        vertical-align: middle;\n",
              "    }\n",
              "\n",
              "    .dataframe tbody tr th {\n",
              "        vertical-align: top;\n",
              "    }\n",
              "\n",
              "    .dataframe thead th {\n",
              "        text-align: right;\n",
              "    }\n",
              "</style>\n",
              "<table border=\"1\" class=\"dataframe\">\n",
              "  <thead>\n",
              "    <tr style=\"text-align: right;\">\n",
              "      <th></th>\n",
              "      <th>이름</th>\n",
              "      <th>국어</th>\n",
              "      <th>영어</th>\n",
              "      <th>소속</th>\n",
              "    </tr>\n",
              "  </thead>\n",
              "  <tbody>\n",
              "    <tr>\n",
              "      <th>0</th>\n",
              "      <td>송중기</td>\n",
              "      <td>63</td>\n",
              "      <td>93</td>\n",
              "      <td>1반</td>\n",
              "    </tr>\n",
              "    <tr>\n",
              "      <th>1</th>\n",
              "      <td>김나현</td>\n",
              "      <td>89</td>\n",
              "      <td>83</td>\n",
              "      <td>1반</td>\n",
              "    </tr>\n",
              "    <tr>\n",
              "      <th>0</th>\n",
              "      <td>권보아</td>\n",
              "      <td>83</td>\n",
              "      <td>76</td>\n",
              "      <td>2반</td>\n",
              "    </tr>\n",
              "    <tr>\n",
              "      <th>1</th>\n",
              "      <td>박효신</td>\n",
              "      <td>94</td>\n",
              "      <td>88</td>\n",
              "      <td>2반</td>\n",
              "    </tr>\n",
              "    <tr>\n",
              "      <th>0</th>\n",
              "      <td>권혁수</td>\n",
              "      <td>58</td>\n",
              "      <td>91</td>\n",
              "      <td>3반</td>\n",
              "    </tr>\n",
              "    <tr>\n",
              "      <th>1</th>\n",
              "      <td>주현영</td>\n",
              "      <td>77</td>\n",
              "      <td>49</td>\n",
              "      <td>3반</td>\n",
              "    </tr>\n",
              "  </tbody>\n",
              "</table>\n",
              "</div>"
            ],
            "text/plain": [
              "    이름  국어  영어  소속\n",
              "0  송중기  63  93  1반\n",
              "1  김나현  89  83  1반\n",
              "0  권보아  83  76  2반\n",
              "1  박효신  94  88  2반\n",
              "0  권혁수  58  91  3반\n",
              "1  주현영  77  49  3반"
            ]
          },
          "execution_count": 41,
          "metadata": {},
          "output_type": "execute_result"
        }
      ],
      "source": [
        "# 엑셀파일에서 3개의 시트를 병합하기\n",
        "url = './02_07_concat.xlsx'\n",
        "df1 = pd.read_excel(url)\n",
        "df2 = pd.read_excel(url, sheet_name=1)\n",
        "df3 = pd.read_excel(url, sheet_name=2)\n",
        "pd.concat([df1, df2, df3])"
      ]
    },
    {
      "cell_type": "code",
      "execution_count": 42,
      "metadata": {
        "colab": {
          "base_uri": "https://localhost:8080/"
        },
        "id": "Pl1cCSPcblMh",
        "outputId": "96611a54-ae7e-43c3-e435-92a6ee7a15ce"
      },
      "outputs": [
        {
          "data": {
            "text/plain": [
              "dict_values(['value1', 'value2'])"
            ]
          },
          "execution_count": 42,
          "metadata": {},
          "output_type": "execute_result"
        }
      ],
      "source": [
        "# 딕셔너리에서 밸류(value)만 리스트에 담는 방법\n",
        "dict_1 = {'key1': 'value1', 'key2':'value2'}\n",
        "dict_1.values()"
      ]
    },
    {
      "cell_type": "code",
      "execution_count": 43,
      "metadata": {
        "colab": {
          "base_uri": "https://localhost:8080/",
          "height": 238
        },
        "id": "BmyLtbHsuO6u",
        "outputId": "01e693fd-4f3e-4950-b239-5a162eecfca3"
      },
      "outputs": [
        {
          "data": {
            "text/html": [
              "<div>\n",
              "<style scoped>\n",
              "    .dataframe tbody tr th:only-of-type {\n",
              "        vertical-align: middle;\n",
              "    }\n",
              "\n",
              "    .dataframe tbody tr th {\n",
              "        vertical-align: top;\n",
              "    }\n",
              "\n",
              "    .dataframe thead th {\n",
              "        text-align: right;\n",
              "    }\n",
              "</style>\n",
              "<table border=\"1\" class=\"dataframe\">\n",
              "  <thead>\n",
              "    <tr style=\"text-align: right;\">\n",
              "      <th></th>\n",
              "      <th>이름</th>\n",
              "      <th>국어</th>\n",
              "      <th>영어</th>\n",
              "      <th>소속</th>\n",
              "    </tr>\n",
              "  </thead>\n",
              "  <tbody>\n",
              "    <tr>\n",
              "      <th>0</th>\n",
              "      <td>송중기</td>\n",
              "      <td>63</td>\n",
              "      <td>93</td>\n",
              "      <td>1반</td>\n",
              "    </tr>\n",
              "    <tr>\n",
              "      <th>1</th>\n",
              "      <td>김나현</td>\n",
              "      <td>89</td>\n",
              "      <td>83</td>\n",
              "      <td>1반</td>\n",
              "    </tr>\n",
              "    <tr>\n",
              "      <th>0</th>\n",
              "      <td>권보아</td>\n",
              "      <td>83</td>\n",
              "      <td>76</td>\n",
              "      <td>2반</td>\n",
              "    </tr>\n",
              "    <tr>\n",
              "      <th>1</th>\n",
              "      <td>박효신</td>\n",
              "      <td>94</td>\n",
              "      <td>88</td>\n",
              "      <td>2반</td>\n",
              "    </tr>\n",
              "    <tr>\n",
              "      <th>0</th>\n",
              "      <td>권혁수</td>\n",
              "      <td>58</td>\n",
              "      <td>91</td>\n",
              "      <td>3반</td>\n",
              "    </tr>\n",
              "    <tr>\n",
              "      <th>1</th>\n",
              "      <td>주현영</td>\n",
              "      <td>77</td>\n",
              "      <td>49</td>\n",
              "      <td>3반</td>\n",
              "    </tr>\n",
              "  </tbody>\n",
              "</table>\n",
              "</div>"
            ],
            "text/plain": [
              "    이름  국어  영어  소속\n",
              "0  송중기  63  93  1반\n",
              "1  김나현  89  83  1반\n",
              "0  권보아  83  76  2반\n",
              "1  박효신  94  88  2반\n",
              "0  권혁수  58  91  3반\n",
              "1  주현영  77  49  3반"
            ]
          },
          "execution_count": 43,
          "metadata": {},
          "output_type": "execute_result"
        }
      ],
      "source": [
        "# 엑셀파일의 모든 시트를 병합하는 코드\n",
        "pd.concat(pd.read_excel(url, sheet_name=None).values())"
      ]
    }
  ],
  "metadata": {
    "colab": {
      "provenance": []
    },
    "kernelspec": {
      "display_name": "Python 3",
      "name": "python3"
    },
    "language_info": {
      "codemirror_mode": {
        "name": "ipython",
        "version": 3
      },
      "file_extension": ".py",
      "mimetype": "text/x-python",
      "name": "python",
      "nbconvert_exporter": "python",
      "pygments_lexer": "ipython3",
      "version": "3.8.6rc1"
    }
  },
  "nbformat": 4,
  "nbformat_minor": 0
}
