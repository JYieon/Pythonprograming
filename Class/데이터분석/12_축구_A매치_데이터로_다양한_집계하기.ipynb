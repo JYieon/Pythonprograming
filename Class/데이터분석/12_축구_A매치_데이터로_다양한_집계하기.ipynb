{
  "cells": [
    {
      "cell_type": "markdown",
      "metadata": {
        "id": "exFgNKeqYNpw"
      },
      "source": [
        "# Ch12. 축구 A매치 데이터로 다양한 집계하기"
      ]
    },
    {
      "cell_type": "markdown",
      "metadata": {
        "id": "jzTXK2kdF582"
      },
      "source": [
        "1993 ~ 2022 축구 A매치 데이터를 사용한다."
      ]
    },
    {
      "cell_type": "markdown",
      "metadata": {
        "id": "9NJGoFCJYJAw"
      },
      "source": [
        "## 1. 전 세계 데이터를 value_counts로 간단히 집계하기"
      ]
    },
    {
      "cell_type": "code",
      "execution_count": 1,
      "metadata": {
        "id": "KR92lDay9KX6"
      },
      "outputs": [],
      "source": [
        "# 프로젝트 코드\n",
        "import pandas as pd\n",
        "pd.options.display.max_rows = 6\n",
        "pd.options.display.float_format = '{:.2f}'.format\n",
        "url = './12_01_soccer_match.csv'"
      ]
    },
    {
      "cell_type": "code",
      "execution_count": 2,
      "metadata": {
        "colab": {
          "base_uri": "https://localhost:8080/",
          "height": 342
        },
        "id": "hVY4bqysRwb5",
        "outputId": "5ccb1f8e-5934-45aa-d5f3-777427b3c222"
      },
      "outputs": [
        {
          "data": {
            "text/html": [
              "<div>\n",
              "<style scoped>\n",
              "    .dataframe tbody tr th:only-of-type {\n",
              "        vertical-align: middle;\n",
              "    }\n",
              "\n",
              "    .dataframe tbody tr th {\n",
              "        vertical-align: top;\n",
              "    }\n",
              "\n",
              "    .dataframe thead th {\n",
              "        text-align: right;\n",
              "    }\n",
              "</style>\n",
              "<table border=\"1\" class=\"dataframe\">\n",
              "  <thead>\n",
              "    <tr style=\"text-align: right;\">\n",
              "      <th></th>\n",
              "      <th>date</th>\n",
              "      <th>nation</th>\n",
              "      <th>continent</th>\n",
              "      <th>H/A</th>\n",
              "      <th>oppenent</th>\n",
              "      <th>o_continent</th>\n",
              "      <th>score</th>\n",
              "      <th>o_score</th>\n",
              "      <th>tournament</th>\n",
              "      <th>result</th>\n",
              "    </tr>\n",
              "  </thead>\n",
              "  <tbody>\n",
              "    <tr>\n",
              "      <th>0</th>\n",
              "      <td>1993-08-08</td>\n",
              "      <td>Bolivia</td>\n",
              "      <td>South America</td>\n",
              "      <td>Home</td>\n",
              "      <td>Uruguay</td>\n",
              "      <td>South America</td>\n",
              "      <td>3</td>\n",
              "      <td>1</td>\n",
              "      <td>Others</td>\n",
              "      <td>Win</td>\n",
              "    </tr>\n",
              "    <tr>\n",
              "      <th>1</th>\n",
              "      <td>1993-08-08</td>\n",
              "      <td>Uruguay</td>\n",
              "      <td>South America</td>\n",
              "      <td>Away</td>\n",
              "      <td>Bolivia</td>\n",
              "      <td>South America</td>\n",
              "      <td>1</td>\n",
              "      <td>3</td>\n",
              "      <td>Others</td>\n",
              "      <td>Lose</td>\n",
              "    </tr>\n",
              "    <tr>\n",
              "      <th>2</th>\n",
              "      <td>1993-08-08</td>\n",
              "      <td>Mexico</td>\n",
              "      <td>North America</td>\n",
              "      <td>Home</td>\n",
              "      <td>Brazil</td>\n",
              "      <td>South America</td>\n",
              "      <td>1</td>\n",
              "      <td>1</td>\n",
              "      <td>Frendly</td>\n",
              "      <td>Draw</td>\n",
              "    </tr>\n",
              "    <tr>\n",
              "      <th>...</th>\n",
              "      <td>...</td>\n",
              "      <td>...</td>\n",
              "      <td>...</td>\n",
              "      <td>...</td>\n",
              "      <td>...</td>\n",
              "      <td>...</td>\n",
              "      <td>...</td>\n",
              "      <td>...</td>\n",
              "      <td>...</td>\n",
              "      <td>...</td>\n",
              "    </tr>\n",
              "    <tr>\n",
              "      <th>47839</th>\n",
              "      <td>2022-06-14</td>\n",
              "      <td>Japan</td>\n",
              "      <td>Asia</td>\n",
              "      <td>Away</td>\n",
              "      <td>Tunisia</td>\n",
              "      <td>Africa</td>\n",
              "      <td>0</td>\n",
              "      <td>3</td>\n",
              "      <td>Others</td>\n",
              "      <td>Lose</td>\n",
              "    </tr>\n",
              "    <tr>\n",
              "      <th>47840</th>\n",
              "      <td>2022-06-14</td>\n",
              "      <td>Korea</td>\n",
              "      <td>Asia</td>\n",
              "      <td>Home</td>\n",
              "      <td>Egypt</td>\n",
              "      <td>Africa</td>\n",
              "      <td>4</td>\n",
              "      <td>1</td>\n",
              "      <td>Frendly</td>\n",
              "      <td>Win</td>\n",
              "    </tr>\n",
              "    <tr>\n",
              "      <th>47841</th>\n",
              "      <td>2022-06-14</td>\n",
              "      <td>Egypt</td>\n",
              "      <td>Africa</td>\n",
              "      <td>Away</td>\n",
              "      <td>Korea</td>\n",
              "      <td>Asia</td>\n",
              "      <td>1</td>\n",
              "      <td>4</td>\n",
              "      <td>Frendly</td>\n",
              "      <td>Lose</td>\n",
              "    </tr>\n",
              "  </tbody>\n",
              "</table>\n",
              "<p>47842 rows × 10 columns</p>\n",
              "</div>"
            ],
            "text/plain": [
              "            date   nation      continent   H/A oppenent    o_continent  score  \\\n",
              "0     1993-08-08  Bolivia  South America  Home  Uruguay  South America      3   \n",
              "1     1993-08-08  Uruguay  South America  Away  Bolivia  South America      1   \n",
              "2     1993-08-08   Mexico  North America  Home   Brazil  South America      1   \n",
              "...          ...      ...            ...   ...      ...            ...    ...   \n",
              "47839 2022-06-14    Japan           Asia  Away  Tunisia         Africa      0   \n",
              "47840 2022-06-14    Korea           Asia  Home    Egypt         Africa      4   \n",
              "47841 2022-06-14    Egypt         Africa  Away    Korea           Asia      1   \n",
              "\n",
              "       o_score tournament result  \n",
              "0            1     Others    Win  \n",
              "1            3     Others   Lose  \n",
              "2            1    Frendly   Draw  \n",
              "...        ...        ...    ...  \n",
              "47839        3     Others   Lose  \n",
              "47840        1    Frendly    Win  \n",
              "47841        4    Frendly   Lose  \n",
              "\n",
              "[47842 rows x 10 columns]"
            ]
          },
          "execution_count": 2,
          "metadata": {},
          "output_type": "execute_result"
        }
      ],
      "source": [
        "# date 열을 datetime으로 적용해 데이터 프레임부르기\n",
        "df = pd.read_csv(url, parse_dates=['date'])\n",
        "df"
      ]
    },
    {
      "cell_type": "markdown",
      "metadata": {
        "id": "qdv-ANQ61YrH"
      },
      "source": [
        "df의 열\n",
        "- date : 경기 날짜\n",
        "- nation : 경기를 치른 국가\n",
        "- continent : nation 열의 국가의 소속대륙\n",
        "- H/A : nation 열의 국가가 Home인지 Away인지 여부\n",
        "- oppenent : 상대팀 \n",
        "- o_continent : 상대팀의 소속대륙\n",
        "- score : nation 열의 국가의 득점\n",
        "- o_score : 상대팀의 득점\n",
        "- tournament : 경기 구분(Friendly : 친선, WC : 월드컵, Others: 그외)\n",
        "- result : 경기 결과"
      ]
    },
    {
      "cell_type": "code",
      "execution_count": 3,
      "metadata": {
        "colab": {
          "base_uri": "https://localhost:8080/"
        },
        "id": "fBYT27niPzMn",
        "outputId": "ed4a9b6b-1d99-43ea-fb52-09d5c5fce189"
      },
      "outputs": [
        {
          "name": "stdout",
          "output_type": "stream",
          "text": [
            "<class 'pandas.core.frame.DataFrame'>\n",
            "RangeIndex: 47842 entries, 0 to 47841\n",
            "Data columns (total 10 columns):\n",
            " #   Column       Non-Null Count  Dtype         \n",
            "---  ------       --------------  -----         \n",
            " 0   date         47842 non-null  datetime64[ns]\n",
            " 1   nation       47842 non-null  object        \n",
            " 2   continent    47842 non-null  object        \n",
            " 3   H/A          47842 non-null  object        \n",
            " 4   oppenent     47842 non-null  object        \n",
            " 5   o_continent  47842 non-null  object        \n",
            " 6   score        47842 non-null  int64         \n",
            " 7   o_score      47842 non-null  int64         \n",
            " 8   tournament   47842 non-null  object        \n",
            " 9   result       47842 non-null  object        \n",
            "dtypes: datetime64[ns](1), int64(2), object(7)\n",
            "memory usage: 3.7+ MB\n"
          ]
        }
      ],
      "source": [
        "df.info()"
      ]
    },
    {
      "cell_type": "markdown",
      "metadata": {
        "id": "QKLSig3_fDqF"
      },
      "source": [
        "국가별 A매치 경기수와 총 득점 집계하기"
      ]
    },
    {
      "cell_type": "code",
      "execution_count": 4,
      "metadata": {
        "colab": {
          "base_uri": "https://localhost:8080/"
        },
        "id": "xKV7H3yGJWf0",
        "outputId": "e020f5f8-672d-492d-dd40-189f18e19698"
      },
      "outputs": [
        {
          "data": {
            "text/plain": [
              "nation\n",
              "Mexico          517\n",
              "Saudi Arabia    471\n",
              "USA             464\n",
              "Korea           436\n",
              "Brazil          433\n",
              "Name: count, dtype: int64"
            ]
          },
          "execution_count": 4,
          "metadata": {},
          "output_type": "execute_result"
        }
      ],
      "source": [
        "# 경기수가 많은 나라 top5\n",
        "df['nation'].value_counts()[:5]"
      ]
    },
    {
      "cell_type": "code",
      "execution_count": 5,
      "metadata": {
        "colab": {
          "base_uri": "https://localhost:8080/",
          "height": 337
        },
        "id": "Lm8Ge5JXJkii",
        "outputId": "68eedc34-ce48-4bba-f881-65d9f2cf448d"
      },
      "outputs": [
        {
          "data": {
            "text/plain": [
              "<Axes: xlabel='nation'>"
            ]
          },
          "execution_count": 5,
          "metadata": {},
          "output_type": "execute_result"
        },
        {
          "data": {
            "image/png": "[encoded data removed]",
            "text/plain": [
              "<Figure size 640x480 with 1 Axes>"
            ]
          },
          "metadata": {},
          "output_type": "display_data"
        }
      ],
      "source": [
        "# 경기수가 많은 나라 top5 그래프\n",
        "df['nation'].value_counts()[:5].plot(kind='bar')"
      ]
    },
    {
      "cell_type": "code",
      "execution_count": 6,
      "metadata": {
        "colab": {
          "base_uri": "https://localhost:8080/"
        },
        "id": "Yxv5JK8sQH5U",
        "outputId": "d1bd82e6-ac51-443a-d44d-dc088a44a18d"
      },
      "outputs": [
        {
          "data": {
            "text/plain": [
              "nation\n",
              "Brazil     292\n",
              "Mexico     266\n",
              "Spain      241\n",
              "USA        239\n",
              "Germany    237\n",
              "Name: count, dtype: int64"
            ]
          },
          "execution_count": 6,
          "metadata": {},
          "output_type": "execute_result"
        }
      ],
      "source": [
        "# 승리 많은 나라 top5\n",
        "cond1 = df['result'] == 'Win'\n",
        "df.loc[cond1, 'nation'].value_counts()[:5]"
      ]
    },
    {
      "cell_type": "code",
      "execution_count": 7,
      "metadata": {
        "colab": {
          "base_uri": "https://localhost:8080/",
          "height": 319
        },
        "id": "xCUt9i4YQWos",
        "outputId": "a90b7640-1257-4514-9842-8f5c1506397c"
      },
      "outputs": [
        {
          "data": {
            "text/plain": [
              "<Axes: xlabel='nation'>"
            ]
          },
          "execution_count": 7,
          "metadata": {},
          "output_type": "execute_result"
        },
        {
          "data": {
            "image/png": "[encoded data removed]",
            "text/plain": [
              "<Figure size 640x480 with 1 Axes>"
            ]
          },
          "metadata": {},
          "output_type": "display_data"
        }
      ],
      "source": [
        "# 승리 많은 나라 top5 그래프\n",
        "df.loc[cond1, 'nation'].value_counts()[:5].plot(kind='bar')"
      ]
    },
    {
      "cell_type": "markdown",
      "metadata": {
        "id": "3_hOwYM1d7W6"
      },
      "source": [
        "## 2. 전 세계 데이터를 groupby로 다양한 집계하기"
      ]
    },
    {
      "cell_type": "code",
      "execution_count": 8,
      "metadata": {
        "colab": {
          "base_uri": "https://localhost:8080/",
          "height": 342
        },
        "id": "YXosElSOeBlv",
        "outputId": "94568bac-8e9f-4bdb-a9a6-121d2a565c0c"
      },
      "outputs": [
        {
          "data": {
            "text/html": [
              "<div>\n",
              "<style scoped>\n",
              "    .dataframe tbody tr th:only-of-type {\n",
              "        vertical-align: middle;\n",
              "    }\n",
              "\n",
              "    .dataframe tbody tr th {\n",
              "        vertical-align: top;\n",
              "    }\n",
              "\n",
              "    .dataframe thead th {\n",
              "        text-align: right;\n",
              "    }\n",
              "</style>\n",
              "<table border=\"1\" class=\"dataframe\">\n",
              "  <thead>\n",
              "    <tr style=\"text-align: right;\">\n",
              "      <th></th>\n",
              "      <th>date</th>\n",
              "      <th>nation</th>\n",
              "      <th>continent</th>\n",
              "      <th>H/A</th>\n",
              "      <th>oppenent</th>\n",
              "      <th>o_continent</th>\n",
              "      <th>score</th>\n",
              "      <th>o_score</th>\n",
              "      <th>tournament</th>\n",
              "      <th>result</th>\n",
              "    </tr>\n",
              "  </thead>\n",
              "  <tbody>\n",
              "    <tr>\n",
              "      <th>0</th>\n",
              "      <td>1993-08-08</td>\n",
              "      <td>Bolivia</td>\n",
              "      <td>South America</td>\n",
              "      <td>Home</td>\n",
              "      <td>Uruguay</td>\n",
              "      <td>South America</td>\n",
              "      <td>3</td>\n",
              "      <td>1</td>\n",
              "      <td>Others</td>\n",
              "      <td>Win</td>\n",
              "    </tr>\n",
              "    <tr>\n",
              "      <th>1</th>\n",
              "      <td>1993-08-08</td>\n",
              "      <td>Uruguay</td>\n",
              "      <td>South America</td>\n",
              "      <td>Away</td>\n",
              "      <td>Bolivia</td>\n",
              "      <td>South America</td>\n",
              "      <td>1</td>\n",
              "      <td>3</td>\n",
              "      <td>Others</td>\n",
              "      <td>Lose</td>\n",
              "    </tr>\n",
              "    <tr>\n",
              "      <th>2</th>\n",
              "      <td>1993-08-08</td>\n",
              "      <td>Mexico</td>\n",
              "      <td>North America</td>\n",
              "      <td>Home</td>\n",
              "      <td>Brazil</td>\n",
              "      <td>South America</td>\n",
              "      <td>1</td>\n",
              "      <td>1</td>\n",
              "      <td>Frendly</td>\n",
              "      <td>Draw</td>\n",
              "    </tr>\n",
              "    <tr>\n",
              "      <th>...</th>\n",
              "      <td>...</td>\n",
              "      <td>...</td>\n",
              "      <td>...</td>\n",
              "      <td>...</td>\n",
              "      <td>...</td>\n",
              "      <td>...</td>\n",
              "      <td>...</td>\n",
              "      <td>...</td>\n",
              "      <td>...</td>\n",
              "      <td>...</td>\n",
              "    </tr>\n",
              "    <tr>\n",
              "      <th>47839</th>\n",
              "      <td>2022-06-14</td>\n",
              "      <td>Japan</td>\n",
              "      <td>Asia</td>\n",
              "      <td>Away</td>\n",
              "      <td>Tunisia</td>\n",
              "      <td>Africa</td>\n",
              "      <td>0</td>\n",
              "      <td>3</td>\n",
              "      <td>Others</td>\n",
              "      <td>Lose</td>\n",
              "    </tr>\n",
              "    <tr>\n",
              "      <th>47840</th>\n",
              "      <td>2022-06-14</td>\n",
              "      <td>Korea</td>\n",
              "      <td>Asia</td>\n",
              "      <td>Home</td>\n",
              "      <td>Egypt</td>\n",
              "      <td>Africa</td>\n",
              "      <td>4</td>\n",
              "      <td>1</td>\n",
              "      <td>Frendly</td>\n",
              "      <td>Win</td>\n",
              "    </tr>\n",
              "    <tr>\n",
              "      <th>47841</th>\n",
              "      <td>2022-06-14</td>\n",
              "      <td>Egypt</td>\n",
              "      <td>Africa</td>\n",
              "      <td>Away</td>\n",
              "      <td>Korea</td>\n",
              "      <td>Asia</td>\n",
              "      <td>1</td>\n",
              "      <td>4</td>\n",
              "      <td>Frendly</td>\n",
              "      <td>Lose</td>\n",
              "    </tr>\n",
              "  </tbody>\n",
              "</table>\n",
              "<p>47842 rows × 10 columns</p>\n",
              "</div>"
            ],
            "text/plain": [
              "            date   nation      continent   H/A oppenent    o_continent  score  \\\n",
              "0     1993-08-08  Bolivia  South America  Home  Uruguay  South America      3   \n",
              "1     1993-08-08  Uruguay  South America  Away  Bolivia  South America      1   \n",
              "2     1993-08-08   Mexico  North America  Home   Brazil  South America      1   \n",
              "...          ...      ...            ...   ...      ...            ...    ...   \n",
              "47839 2022-06-14    Japan           Asia  Away  Tunisia         Africa      0   \n",
              "47840 2022-06-14    Korea           Asia  Home    Egypt         Africa      4   \n",
              "47841 2022-06-14    Egypt         Africa  Away    Korea           Asia      1   \n",
              "\n",
              "       o_score tournament result  \n",
              "0            1     Others    Win  \n",
              "1            3     Others   Lose  \n",
              "2            1    Frendly   Draw  \n",
              "...        ...        ...    ...  \n",
              "47839        3     Others   Lose  \n",
              "47840        1    Frendly    Win  \n",
              "47841        4    Frendly   Lose  \n",
              "\n",
              "[47842 rows x 10 columns]"
            ]
          },
          "execution_count": 8,
          "metadata": {},
          "output_type": "execute_result"
        }
      ],
      "source": [
        "# 프로젝트 코드\n",
        "import pandas as pd\n",
        "pd.options.display.max_rows = 6\n",
        "pd.options.display.float_format = '{:.2f}'.format\n",
        "url = './12_01_soccer_match.csv'\n",
        "\n",
        "# date 열을 datetime으로 적용해 데이터 프레임부르기\n",
        "df = pd.read_csv(url, parse_dates=['date'])\n",
        "df"
      ]
    },
    {
      "cell_type": "markdown",
      "metadata": {
        "id": "lFrZ5jd5e90M"
      },
      "source": [
        "국가별 누적 득점 집계하기"
      ]
    },
    {
      "cell_type": "code",
      "execution_count": 9,
      "metadata": {
        "colab": {
          "base_uri": "https://localhost:8080/"
        },
        "id": "zfLo9pqMHaLv",
        "outputId": "981ba384-7502-412c-eff7-9b39152780bf"
      },
      "outputs": [
        {
          "data": {
            "text/plain": [
              "nation\n",
              "Brazil     954\n",
              "Germany    875\n",
              "Mexico     858\n",
              "Spain      781\n",
              "Japan      776\n",
              "Name: score, dtype: int64"
            ]
          },
          "execution_count": 9,
          "metadata": {},
          "output_type": "execute_result"
        }
      ],
      "source": [
        "# 누적 득점 많은 나라 top5\n",
        "df.groupby('nation')['score'].sum().sort_values(ascending=False)[:5]"
      ]
    },
    {
      "cell_type": "code",
      "execution_count": 10,
      "metadata": {
        "colab": {
          "base_uri": "https://localhost:8080/",
          "height": 337
        },
        "id": "2Sx25FPuJ4f-",
        "outputId": "8407aab5-866e-43d2-e394-6a3ff34892aa"
      },
      "outputs": [
        {
          "data": {
            "text/plain": [
              "<Axes: xlabel='nation'>"
            ]
          },
          "execution_count": 10,
          "metadata": {},
          "output_type": "execute_result"
        },
        {
          "data": {
            "image/png": "[encoded data removed]",
            "text/plain": [
              "<Figure size 640x480 with 1 Axes>"
            ]
          },
          "metadata": {},
          "output_type": "display_data"
        }
      ],
      "source": [
        "# 누적 득점 많은 나라 top5 그래프\n",
        "df.groupby('nation')['score'].sum().sort_values(ascending=False)[:5].plot(kind='bar')"
      ]
    },
    {
      "cell_type": "markdown",
      "metadata": {
        "id": "5VoI9pxvk-Ch"
      },
      "source": [
        "이제껏 배운 것을 복습할겸 정렬을 하고 슬라이싱을 했지만 그것이 번거롭다면 간편한 함수 `nlargest`를 쓸 수 있다\n",
        "\n",
        "작은 순서대로 뽑을 때는 `nsmallest`를 쓸 수 있다\n",
        "\n",
        "- pandas 공식문서 nlargest : https://pandas.pydata.org/docs/reference/api/pandas.DataFrame.nlargest.html\n",
        "- pandas 공식문서 nsmallest : https://pandas.pydata.org/docs/reference/api/pandas.DataFrame.nsmallest.html"
      ]
    },
    {
      "cell_type": "code",
      "execution_count": 11,
      "metadata": {
        "colab": {
          "base_uri": "https://localhost:8080/"
        },
        "id": "2LF5Tv2LkFmJ",
        "outputId": "8fa7e973-55ba-44cb-adf1-2536d67d338e"
      },
      "outputs": [
        {
          "data": {
            "text/plain": [
              "nation\n",
              "Brazil     954\n",
              "Germany    875\n",
              "Mexico     858\n",
              "Spain      781\n",
              "Japan      776\n",
              "Name: score, dtype: int64"
            ]
          },
          "execution_count": 11,
          "metadata": {},
          "output_type": "execute_result"
        }
      ],
      "source": [
        "# 간편한 함수 nlargest를 쓸 수도 있다\n",
        "df.groupby('nation')['score'].sum().nlargest(5)"
      ]
    },
    {
      "cell_type": "markdown",
      "metadata": {
        "id": "_IZAOqwRl_KS"
      },
      "source": [
        "국가별 평균 득점 집계하기"
      ]
    },
    {
      "cell_type": "code",
      "execution_count": 12,
      "metadata": {
        "colab": {
          "base_uri": "https://localhost:8080/"
        },
        "id": "Ova6Xs42IgFb",
        "outputId": "0c6f563f-0925-4116-b4b8-fddb2868b1d4"
      },
      "outputs": [
        {
          "data": {
            "text/plain": [
              "nation\n",
              "Germany         2.24\n",
              "Spain           2.21\n",
              "Brazil          2.20\n",
              "New Caledonia   2.20\n",
              "Netherlands     2.06\n",
              "Name: score, dtype: float64"
            ]
          },
          "execution_count": 12,
          "metadata": {},
          "output_type": "execute_result"
        }
      ],
      "source": [
        "# 평균 득점이 높은 나라 top 5\n",
        "df.groupby('nation')['score'].mean().sort_values(ascending=False)[:5]"
      ]
    },
    {
      "cell_type": "markdown",
      "metadata": {
        "id": "3OUXUpLQmCS_"
      },
      "source": [
        "New Caledonia 와 같이 경기수가 적은 나라가 평균 득점 상위에 오르는 것을 방지하기 위해 \n",
        "\n",
        "A매치 100경기 이상의 국가들만 평균 득점을 집계하겠다"
      ]
    },
    {
      "cell_type": "code",
      "execution_count": 13,
      "metadata": {
        "colab": {
          "base_uri": "https://localhost:8080/",
          "height": 342
        },
        "id": "PTutzEf19ML6",
        "outputId": "759b2f85-6e1f-430a-d721-cf97eb64d615"
      },
      "outputs": [
        {
          "data": {
            "text/html": [
              "<div>\n",
              "<style scoped>\n",
              "    .dataframe tbody tr th:only-of-type {\n",
              "        vertical-align: middle;\n",
              "    }\n",
              "\n",
              "    .dataframe tbody tr th {\n",
              "        vertical-align: top;\n",
              "    }\n",
              "\n",
              "    .dataframe thead th {\n",
              "        text-align: right;\n",
              "    }\n",
              "</style>\n",
              "<table border=\"1\" class=\"dataframe\">\n",
              "  <thead>\n",
              "    <tr style=\"text-align: right;\">\n",
              "      <th></th>\n",
              "      <th>date</th>\n",
              "      <th>nation</th>\n",
              "      <th>continent</th>\n",
              "      <th>H/A</th>\n",
              "      <th>oppenent</th>\n",
              "      <th>o_continent</th>\n",
              "      <th>score</th>\n",
              "      <th>o_score</th>\n",
              "      <th>tournament</th>\n",
              "      <th>result</th>\n",
              "    </tr>\n",
              "  </thead>\n",
              "  <tbody>\n",
              "    <tr>\n",
              "      <th>0</th>\n",
              "      <td>1993-08-08</td>\n",
              "      <td>Bolivia</td>\n",
              "      <td>South America</td>\n",
              "      <td>Home</td>\n",
              "      <td>Uruguay</td>\n",
              "      <td>South America</td>\n",
              "      <td>3</td>\n",
              "      <td>1</td>\n",
              "      <td>Others</td>\n",
              "      <td>Win</td>\n",
              "    </tr>\n",
              "    <tr>\n",
              "      <th>1</th>\n",
              "      <td>1993-08-08</td>\n",
              "      <td>Uruguay</td>\n",
              "      <td>South America</td>\n",
              "      <td>Away</td>\n",
              "      <td>Bolivia</td>\n",
              "      <td>South America</td>\n",
              "      <td>1</td>\n",
              "      <td>3</td>\n",
              "      <td>Others</td>\n",
              "      <td>Lose</td>\n",
              "    </tr>\n",
              "    <tr>\n",
              "      <th>2</th>\n",
              "      <td>1993-08-08</td>\n",
              "      <td>Mexico</td>\n",
              "      <td>North America</td>\n",
              "      <td>Home</td>\n",
              "      <td>Brazil</td>\n",
              "      <td>South America</td>\n",
              "      <td>1</td>\n",
              "      <td>1</td>\n",
              "      <td>Frendly</td>\n",
              "      <td>Draw</td>\n",
              "    </tr>\n",
              "    <tr>\n",
              "      <th>...</th>\n",
              "      <td>...</td>\n",
              "      <td>...</td>\n",
              "      <td>...</td>\n",
              "      <td>...</td>\n",
              "      <td>...</td>\n",
              "      <td>...</td>\n",
              "      <td>...</td>\n",
              "      <td>...</td>\n",
              "      <td>...</td>\n",
              "      <td>...</td>\n",
              "    </tr>\n",
              "    <tr>\n",
              "      <th>47839</th>\n",
              "      <td>2022-06-14</td>\n",
              "      <td>Japan</td>\n",
              "      <td>Asia</td>\n",
              "      <td>Away</td>\n",
              "      <td>Tunisia</td>\n",
              "      <td>Africa</td>\n",
              "      <td>0</td>\n",
              "      <td>3</td>\n",
              "      <td>Others</td>\n",
              "      <td>Lose</td>\n",
              "    </tr>\n",
              "    <tr>\n",
              "      <th>47840</th>\n",
              "      <td>2022-06-14</td>\n",
              "      <td>Korea</td>\n",
              "      <td>Asia</td>\n",
              "      <td>Home</td>\n",
              "      <td>Egypt</td>\n",
              "      <td>Africa</td>\n",
              "      <td>4</td>\n",
              "      <td>1</td>\n",
              "      <td>Frendly</td>\n",
              "      <td>Win</td>\n",
              "    </tr>\n",
              "    <tr>\n",
              "      <th>47841</th>\n",
              "      <td>2022-06-14</td>\n",
              "      <td>Egypt</td>\n",
              "      <td>Africa</td>\n",
              "      <td>Away</td>\n",
              "      <td>Korea</td>\n",
              "      <td>Asia</td>\n",
              "      <td>1</td>\n",
              "      <td>4</td>\n",
              "      <td>Frendly</td>\n",
              "      <td>Lose</td>\n",
              "    </tr>\n",
              "  </tbody>\n",
              "</table>\n",
              "<p>45217 rows × 10 columns</p>\n",
              "</div>"
            ],
            "text/plain": [
              "            date   nation      continent   H/A oppenent    o_continent  score  \\\n",
              "0     1993-08-08  Bolivia  South America  Home  Uruguay  South America      3   \n",
              "1     1993-08-08  Uruguay  South America  Away  Bolivia  South America      1   \n",
              "2     1993-08-08   Mexico  North America  Home   Brazil  South America      1   \n",
              "...          ...      ...            ...   ...      ...            ...    ...   \n",
              "47839 2022-06-14    Japan           Asia  Away  Tunisia         Africa      0   \n",
              "47840 2022-06-14    Korea           Asia  Home    Egypt         Africa      4   \n",
              "47841 2022-06-14    Egypt         Africa  Away    Korea           Asia      1   \n",
              "\n",
              "       o_score tournament result  \n",
              "0            1     Others    Win  \n",
              "1            3     Others   Lose  \n",
              "2            1    Frendly   Draw  \n",
              "...        ...        ...    ...  \n",
              "47839        3     Others   Lose  \n",
              "47840        1    Frendly    Win  \n",
              "47841        4    Frendly   Lose  \n",
              "\n",
              "[45217 rows x 10 columns]"
            ]
          },
          "execution_count": 13,
          "metadata": {},
          "output_type": "execute_result"
        }
      ],
      "source": [
        "# 총 게임수가 100경기 이상의 국가들만의 데이터\n",
        "cond2 = df.groupby('nation')['score'].transform('count') >= 100\n",
        "df[cond2]"
      ]
    },
    {
      "cell_type": "code",
      "execution_count": 14,
      "metadata": {
        "colab": {
          "base_uri": "https://localhost:8080/"
        },
        "id": "i6VoBd3KIoE7",
        "outputId": "946df3c3-805c-4a95-d0af-aef183e8cd9a"
      },
      "outputs": [
        {
          "data": {
            "text/plain": [
              "nation\n",
              "Germany       2.24\n",
              "Spain         2.21\n",
              "Brazil        2.20\n",
              "Netherlands   2.06\n",
              "Australia     2.05\n",
              "Name: score, dtype: float64"
            ]
          },
          "execution_count": 14,
          "metadata": {},
          "output_type": "execute_result"
        }
      ],
      "source": [
        "# 100경기 이상 경기한 나라 중 평균 득점이 높은 5개국\n",
        "df[cond2].groupby('nation')['score'].mean().sort_values(ascending=False)[:5]"
      ]
    },
    {
      "cell_type": "code",
      "execution_count": 15,
      "metadata": {
        "colab": {
          "base_uri": "https://localhost:8080/",
          "height": 348
        },
        "id": "B3bNdnDPKYp4",
        "outputId": "6bd49139-8fab-4fe7-872d-7fa27724b2b9"
      },
      "outputs": [
        {
          "data": {
            "text/plain": [
              "<Axes: xlabel='nation'>"
            ]
          },
          "execution_count": 15,
          "metadata": {},
          "output_type": "execute_result"
        },
        {
          "data": {
            "image/png": "[encoded data removed]",
            "text/plain": [
              "<Figure size 640x480 with 1 Axes>"
            ]
          },
          "metadata": {},
          "output_type": "display_data"
        }
      ],
      "source": [
        "# 100경기 이상 경기한 나라 중 평균 득점이 높은 나라 그래프\n",
        "df[cond2].groupby('nation')['score'].mean().sort_values(ascending=False)[:5].plot(kind='bar')"
      ]
    },
    {
      "cell_type": "markdown",
      "metadata": {
        "id": "l2jX0EQIP_Rh"
      },
      "source": [
        "월드컵 다득점 국가 집계하기"
      ]
    },
    {
      "cell_type": "code",
      "execution_count": 16,
      "metadata": {
        "colab": {
          "base_uri": "https://localhost:8080/",
          "height": 342
        },
        "id": "RSU0_4J0epiz",
        "outputId": "e6eba65a-85b6-48fd-e2e5-90861c0ce893"
      },
      "outputs": [
        {
          "data": {
            "text/html": [
              "<div>\n",
              "<style scoped>\n",
              "    .dataframe tbody tr th:only-of-type {\n",
              "        vertical-align: middle;\n",
              "    }\n",
              "\n",
              "    .dataframe tbody tr th {\n",
              "        vertical-align: top;\n",
              "    }\n",
              "\n",
              "    .dataframe thead th {\n",
              "        text-align: right;\n",
              "    }\n",
              "</style>\n",
              "<table border=\"1\" class=\"dataframe\">\n",
              "  <thead>\n",
              "    <tr style=\"text-align: right;\">\n",
              "      <th></th>\n",
              "      <th>date</th>\n",
              "      <th>nation</th>\n",
              "      <th>continent</th>\n",
              "      <th>H/A</th>\n",
              "      <th>oppenent</th>\n",
              "      <th>o_continent</th>\n",
              "      <th>score</th>\n",
              "      <th>o_score</th>\n",
              "      <th>tournament</th>\n",
              "      <th>result</th>\n",
              "    </tr>\n",
              "  </thead>\n",
              "  <tbody>\n",
              "    <tr>\n",
              "      <th>770</th>\n",
              "      <td>1994-06-17</td>\n",
              "      <td>Germany</td>\n",
              "      <td>Europe</td>\n",
              "      <td>Home</td>\n",
              "      <td>Bolivia</td>\n",
              "      <td>South America</td>\n",
              "      <td>1</td>\n",
              "      <td>0</td>\n",
              "      <td>WC</td>\n",
              "      <td>Win</td>\n",
              "    </tr>\n",
              "    <tr>\n",
              "      <th>771</th>\n",
              "      <td>1994-06-17</td>\n",
              "      <td>Bolivia</td>\n",
              "      <td>South America</td>\n",
              "      <td>Away</td>\n",
              "      <td>Germany</td>\n",
              "      <td>Europe</td>\n",
              "      <td>0</td>\n",
              "      <td>1</td>\n",
              "      <td>WC</td>\n",
              "      <td>Lose</td>\n",
              "    </tr>\n",
              "    <tr>\n",
              "      <th>772</th>\n",
              "      <td>1994-06-17</td>\n",
              "      <td>Spain</td>\n",
              "      <td>Europe</td>\n",
              "      <td>Home</td>\n",
              "      <td>Korea</td>\n",
              "      <td>Asia</td>\n",
              "      <td>2</td>\n",
              "      <td>2</td>\n",
              "      <td>WC</td>\n",
              "      <td>Draw</td>\n",
              "    </tr>\n",
              "    <tr>\n",
              "      <th>...</th>\n",
              "      <td>...</td>\n",
              "      <td>...</td>\n",
              "      <td>...</td>\n",
              "      <td>...</td>\n",
              "      <td>...</td>\n",
              "      <td>...</td>\n",
              "      <td>...</td>\n",
              "      <td>...</td>\n",
              "      <td>...</td>\n",
              "      <td>...</td>\n",
              "    </tr>\n",
              "    <tr>\n",
              "      <th>40897</th>\n",
              "      <td>2018-07-14</td>\n",
              "      <td>England</td>\n",
              "      <td>Europe</td>\n",
              "      <td>Away</td>\n",
              "      <td>Belgium</td>\n",
              "      <td>Europe</td>\n",
              "      <td>0</td>\n",
              "      <td>2</td>\n",
              "      <td>WC</td>\n",
              "      <td>Lose</td>\n",
              "    </tr>\n",
              "    <tr>\n",
              "      <th>40898</th>\n",
              "      <td>2018-07-15</td>\n",
              "      <td>Croatia</td>\n",
              "      <td>Europe</td>\n",
              "      <td>Home</td>\n",
              "      <td>France</td>\n",
              "      <td>Europe</td>\n",
              "      <td>2</td>\n",
              "      <td>4</td>\n",
              "      <td>WC</td>\n",
              "      <td>Lose</td>\n",
              "    </tr>\n",
              "    <tr>\n",
              "      <th>40899</th>\n",
              "      <td>2018-07-15</td>\n",
              "      <td>France</td>\n",
              "      <td>Europe</td>\n",
              "      <td>Away</td>\n",
              "      <td>Croatia</td>\n",
              "      <td>Europe</td>\n",
              "      <td>4</td>\n",
              "      <td>2</td>\n",
              "      <td>WC</td>\n",
              "      <td>Win</td>\n",
              "    </tr>\n",
              "  </tbody>\n",
              "</table>\n",
              "<p>864 rows × 10 columns</p>\n",
              "</div>"
            ],
            "text/plain": [
              "            date   nation      continent   H/A oppenent    o_continent  score  \\\n",
              "770   1994-06-17  Germany         Europe  Home  Bolivia  South America      1   \n",
              "771   1994-06-17  Bolivia  South America  Away  Germany         Europe      0   \n",
              "772   1994-06-17    Spain         Europe  Home    Korea           Asia      2   \n",
              "...          ...      ...            ...   ...      ...            ...    ...   \n",
              "40897 2018-07-14  England         Europe  Away  Belgium         Europe      0   \n",
              "40898 2018-07-15  Croatia         Europe  Home   France         Europe      2   \n",
              "40899 2018-07-15   France         Europe  Away  Croatia         Europe      4   \n",
              "\n",
              "       o_score tournament result  \n",
              "770          0         WC    Win  \n",
              "771          1         WC   Lose  \n",
              "772          2         WC   Draw  \n",
              "...        ...        ...    ...  \n",
              "40897        2         WC   Lose  \n",
              "40898        4         WC   Lose  \n",
              "40899        2         WC    Win  \n",
              "\n",
              "[864 rows x 10 columns]"
            ]
          },
          "execution_count": 16,
          "metadata": {},
          "output_type": "execute_result"
        }
      ],
      "source": [
        "# 전체 데이터에서 월드컵 관련 데이터만 필터링\n",
        "cond3 = df['tournament'] == 'WC'\n",
        "df[cond3]"
      ]
    },
    {
      "cell_type": "code",
      "execution_count": 17,
      "metadata": {
        "colab": {
          "base_uri": "https://localhost:8080/"
        },
        "id": "lk2cZayoP_s9",
        "outputId": "822677e4-d113-47f5-db6c-4d0cb154db4b"
      },
      "outputs": [
        {
          "data": {
            "text/plain": [
              "nation\n",
              "Brazil         81\n",
              "Germany        79\n",
              "Spain          56\n",
              "Argentina      55\n",
              "Netherlands    49\n",
              "Name: score, dtype: int64"
            ]
          },
          "execution_count": 17,
          "metadata": {},
          "output_type": "execute_result"
        }
      ],
      "source": [
        "# 월드컵 다득점 상위 5개국\n",
        "df[cond3].groupby('nation')['score'].sum().sort_values(ascending=False)[:5]"
      ]
    },
    {
      "cell_type": "code",
      "execution_count": 18,
      "metadata": {
        "colab": {
          "base_uri": "https://localhost:8080/",
          "height": 348
        },
        "id": "zLQM1p4SeiCR",
        "outputId": "16dce32f-8393-4789-9312-80c4bc87af32"
      },
      "outputs": [
        {
          "data": {
            "text/plain": [
              "<Axes: xlabel='nation'>"
            ]
          },
          "execution_count": 18,
          "metadata": {},
          "output_type": "execute_result"
        },
        {
          "data": {
            "image/png": "[encoded data removed]",
            "text/plain": [
              "<Figure size 640x480 with 1 Axes>"
            ]
          },
          "metadata": {},
          "output_type": "display_data"
        }
      ],
      "source": [
        "# 월드컵 다득점 상위 5개국 그래프\n",
        "df[cond3].groupby('nation')['score'].sum().sort_values(ascending=False)[:5].plot(kind='bar')"
      ]
    },
    {
      "cell_type": "markdown",
      "metadata": {
        "id": "e_PLGU7Efk7f"
      },
      "source": [
        "## 3. 한국축구 데이터를 groupby와 resample로 집계하기"
      ]
    },
    {
      "cell_type": "code",
      "execution_count": 19,
      "metadata": {
        "colab": {
          "base_uri": "https://localhost:8080/",
          "height": 342
        },
        "id": "C48B2kQYuoLC",
        "outputId": "f3b1cd11-e4e2-4fc6-a117-d7c0c7a17518"
      },
      "outputs": [
        {
          "data": {
            "text/html": [
              "<div>\n",
              "<style scoped>\n",
              "    .dataframe tbody tr th:only-of-type {\n",
              "        vertical-align: middle;\n",
              "    }\n",
              "\n",
              "    .dataframe tbody tr th {\n",
              "        vertical-align: top;\n",
              "    }\n",
              "\n",
              "    .dataframe thead th {\n",
              "        text-align: right;\n",
              "    }\n",
              "</style>\n",
              "<table border=\"1\" class=\"dataframe\">\n",
              "  <thead>\n",
              "    <tr style=\"text-align: right;\">\n",
              "      <th></th>\n",
              "      <th>date</th>\n",
              "      <th>nation</th>\n",
              "      <th>continent</th>\n",
              "      <th>H/A</th>\n",
              "      <th>oppenent</th>\n",
              "      <th>o_continent</th>\n",
              "      <th>score</th>\n",
              "      <th>o_score</th>\n",
              "      <th>tournament</th>\n",
              "      <th>result</th>\n",
              "    </tr>\n",
              "  </thead>\n",
              "  <tbody>\n",
              "    <tr>\n",
              "      <th>0</th>\n",
              "      <td>1993-08-08</td>\n",
              "      <td>Bolivia</td>\n",
              "      <td>South America</td>\n",
              "      <td>Home</td>\n",
              "      <td>Uruguay</td>\n",
              "      <td>South America</td>\n",
              "      <td>3</td>\n",
              "      <td>1</td>\n",
              "      <td>Others</td>\n",
              "      <td>Win</td>\n",
              "    </tr>\n",
              "    <tr>\n",
              "      <th>1</th>\n",
              "      <td>1993-08-08</td>\n",
              "      <td>Uruguay</td>\n",
              "      <td>South America</td>\n",
              "      <td>Away</td>\n",
              "      <td>Bolivia</td>\n",
              "      <td>South America</td>\n",
              "      <td>1</td>\n",
              "      <td>3</td>\n",
              "      <td>Others</td>\n",
              "      <td>Lose</td>\n",
              "    </tr>\n",
              "    <tr>\n",
              "      <th>2</th>\n",
              "      <td>1993-08-08</td>\n",
              "      <td>Mexico</td>\n",
              "      <td>North America</td>\n",
              "      <td>Home</td>\n",
              "      <td>Brazil</td>\n",
              "      <td>South America</td>\n",
              "      <td>1</td>\n",
              "      <td>1</td>\n",
              "      <td>Frendly</td>\n",
              "      <td>Draw</td>\n",
              "    </tr>\n",
              "    <tr>\n",
              "      <th>...</th>\n",
              "      <td>...</td>\n",
              "      <td>...</td>\n",
              "      <td>...</td>\n",
              "      <td>...</td>\n",
              "      <td>...</td>\n",
              "      <td>...</td>\n",
              "      <td>...</td>\n",
              "      <td>...</td>\n",
              "      <td>...</td>\n",
              "      <td>...</td>\n",
              "    </tr>\n",
              "    <tr>\n",
              "      <th>47839</th>\n",
              "      <td>2022-06-14</td>\n",
              "      <td>Japan</td>\n",
              "      <td>Asia</td>\n",
              "      <td>Away</td>\n",
              "      <td>Tunisia</td>\n",
              "      <td>Africa</td>\n",
              "      <td>0</td>\n",
              "      <td>3</td>\n",
              "      <td>Others</td>\n",
              "      <td>Lose</td>\n",
              "    </tr>\n",
              "    <tr>\n",
              "      <th>47840</th>\n",
              "      <td>2022-06-14</td>\n",
              "      <td>Korea</td>\n",
              "      <td>Asia</td>\n",
              "      <td>Home</td>\n",
              "      <td>Egypt</td>\n",
              "      <td>Africa</td>\n",
              "      <td>4</td>\n",
              "      <td>1</td>\n",
              "      <td>Frendly</td>\n",
              "      <td>Win</td>\n",
              "    </tr>\n",
              "    <tr>\n",
              "      <th>47841</th>\n",
              "      <td>2022-06-14</td>\n",
              "      <td>Egypt</td>\n",
              "      <td>Africa</td>\n",
              "      <td>Away</td>\n",
              "      <td>Korea</td>\n",
              "      <td>Asia</td>\n",
              "      <td>1</td>\n",
              "      <td>4</td>\n",
              "      <td>Frendly</td>\n",
              "      <td>Lose</td>\n",
              "    </tr>\n",
              "  </tbody>\n",
              "</table>\n",
              "<p>47842 rows × 10 columns</p>\n",
              "</div>"
            ],
            "text/plain": [
              "            date   nation      continent   H/A oppenent    o_continent  score  \\\n",
              "0     1993-08-08  Bolivia  South America  Home  Uruguay  South America      3   \n",
              "1     1993-08-08  Uruguay  South America  Away  Bolivia  South America      1   \n",
              "2     1993-08-08   Mexico  North America  Home   Brazil  South America      1   \n",
              "...          ...      ...            ...   ...      ...            ...    ...   \n",
              "47839 2022-06-14    Japan           Asia  Away  Tunisia         Africa      0   \n",
              "47840 2022-06-14    Korea           Asia  Home    Egypt         Africa      4   \n",
              "47841 2022-06-14    Egypt         Africa  Away    Korea           Asia      1   \n",
              "\n",
              "       o_score tournament result  \n",
              "0            1     Others    Win  \n",
              "1            3     Others   Lose  \n",
              "2            1    Frendly   Draw  \n",
              "...        ...        ...    ...  \n",
              "47839        3     Others   Lose  \n",
              "47840        1    Frendly    Win  \n",
              "47841        4    Frendly   Lose  \n",
              "\n",
              "[47842 rows x 10 columns]"
            ]
          },
          "execution_count": 19,
          "metadata": {},
          "output_type": "execute_result"
        }
      ],
      "source": [
        "# 프로젝트 코드\n",
        "import pandas as pd\n",
        "pd.options.display.max_rows = 6\n",
        "pd.options.display.float_format = '{:.2f}'.format\n",
        "url = './12_01_soccer_match.csv'\n",
        "\n",
        "# date 열을 datetime으로 적용해 데이터 프레임부르기\n",
        "df = pd.read_csv(url, parse_dates=['date'])\n",
        "df"
      ]
    },
    {
      "cell_type": "code",
      "execution_count": 20,
      "metadata": {
        "colab": {
          "base_uri": "https://localhost:8080/",
          "height": 330
        },
        "id": "MPdel5yVMHFK",
        "outputId": "ed83b706-2351-4ea9-a5e8-fa056c265045"
      },
      "outputs": [
        {
          "data": {
            "text/html": [
              "<div>\n",
              "<style scoped>\n",
              "    .dataframe tbody tr th:only-of-type {\n",
              "        vertical-align: middle;\n",
              "    }\n",
              "\n",
              "    .dataframe tbody tr th {\n",
              "        vertical-align: top;\n",
              "    }\n",
              "\n",
              "    .dataframe thead th {\n",
              "        text-align: right;\n",
              "    }\n",
              "</style>\n",
              "<table border=\"1\" class=\"dataframe\">\n",
              "  <thead>\n",
              "    <tr style=\"text-align: right;\">\n",
              "      <th></th>\n",
              "      <th>nation</th>\n",
              "      <th>continent</th>\n",
              "      <th>H/A</th>\n",
              "      <th>oppenent</th>\n",
              "      <th>o_continent</th>\n",
              "      <th>score</th>\n",
              "      <th>o_score</th>\n",
              "      <th>tournament</th>\n",
              "      <th>result</th>\n",
              "    </tr>\n",
              "    <tr>\n",
              "      <th>date</th>\n",
              "      <th></th>\n",
              "      <th></th>\n",
              "      <th></th>\n",
              "      <th></th>\n",
              "      <th></th>\n",
              "      <th></th>\n",
              "      <th></th>\n",
              "      <th></th>\n",
              "      <th></th>\n",
              "    </tr>\n",
              "  </thead>\n",
              "  <tbody>\n",
              "    <tr>\n",
              "      <th>1993-09-24</th>\n",
              "      <td>Korea</td>\n",
              "      <td>Asia</td>\n",
              "      <td>Away</td>\n",
              "      <td>Australia</td>\n",
              "      <td>Oceania</td>\n",
              "      <td>1</td>\n",
              "      <td>1</td>\n",
              "      <td>Frendly</td>\n",
              "      <td>Draw</td>\n",
              "    </tr>\n",
              "    <tr>\n",
              "      <th>1993-09-26</th>\n",
              "      <td>Korea</td>\n",
              "      <td>Asia</td>\n",
              "      <td>Away</td>\n",
              "      <td>Australia</td>\n",
              "      <td>Oceania</td>\n",
              "      <td>1</td>\n",
              "      <td>0</td>\n",
              "      <td>Frendly</td>\n",
              "      <td>Win</td>\n",
              "    </tr>\n",
              "    <tr>\n",
              "      <th>1993-10-16</th>\n",
              "      <td>Korea</td>\n",
              "      <td>Asia</td>\n",
              "      <td>Away</td>\n",
              "      <td>IR Iran</td>\n",
              "      <td>Asia</td>\n",
              "      <td>3</td>\n",
              "      <td>0</td>\n",
              "      <td>Others</td>\n",
              "      <td>Win</td>\n",
              "    </tr>\n",
              "    <tr>\n",
              "      <th>...</th>\n",
              "      <td>...</td>\n",
              "      <td>...</td>\n",
              "      <td>...</td>\n",
              "      <td>...</td>\n",
              "      <td>...</td>\n",
              "      <td>...</td>\n",
              "      <td>...</td>\n",
              "      <td>...</td>\n",
              "      <td>...</td>\n",
              "    </tr>\n",
              "    <tr>\n",
              "      <th>2022-06-06</th>\n",
              "      <td>Korea</td>\n",
              "      <td>Asia</td>\n",
              "      <td>Home</td>\n",
              "      <td>Chile</td>\n",
              "      <td>South America</td>\n",
              "      <td>2</td>\n",
              "      <td>0</td>\n",
              "      <td>Frendly</td>\n",
              "      <td>Win</td>\n",
              "    </tr>\n",
              "    <tr>\n",
              "      <th>2022-06-10</th>\n",
              "      <td>Korea</td>\n",
              "      <td>Asia</td>\n",
              "      <td>Home</td>\n",
              "      <td>Paraguay</td>\n",
              "      <td>South America</td>\n",
              "      <td>2</td>\n",
              "      <td>2</td>\n",
              "      <td>Frendly</td>\n",
              "      <td>Draw</td>\n",
              "    </tr>\n",
              "    <tr>\n",
              "      <th>2022-06-14</th>\n",
              "      <td>Korea</td>\n",
              "      <td>Asia</td>\n",
              "      <td>Home</td>\n",
              "      <td>Egypt</td>\n",
              "      <td>Africa</td>\n",
              "      <td>4</td>\n",
              "      <td>1</td>\n",
              "      <td>Frendly</td>\n",
              "      <td>Win</td>\n",
              "    </tr>\n",
              "  </tbody>\n",
              "</table>\n",
              "<p>436 rows × 9 columns</p>\n",
              "</div>"
            ],
            "text/plain": [
              "           nation continent   H/A   oppenent    o_continent  score  o_score  \\\n",
              "date                                                                          \n",
              "1993-09-24  Korea      Asia  Away  Australia        Oceania      1        1   \n",
              "1993-09-26  Korea      Asia  Away  Australia        Oceania      1        0   \n",
              "1993-10-16  Korea      Asia  Away    IR Iran           Asia      3        0   \n",
              "...           ...       ...   ...        ...            ...    ...      ...   \n",
              "2022-06-06  Korea      Asia  Home      Chile  South America      2        0   \n",
              "2022-06-10  Korea      Asia  Home   Paraguay  South America      2        2   \n",
              "2022-06-14  Korea      Asia  Home      Egypt         Africa      4        1   \n",
              "\n",
              "           tournament result  \n",
              "date                          \n",
              "1993-09-24    Frendly   Draw  \n",
              "1993-09-26    Frendly    Win  \n",
              "1993-10-16     Others    Win  \n",
              "...               ...    ...  \n",
              "2022-06-06    Frendly    Win  \n",
              "2022-06-10    Frendly   Draw  \n",
              "2022-06-14    Frendly    Win  \n",
              "\n",
              "[436 rows x 9 columns]"
            ]
          },
          "execution_count": 20,
          "metadata": {},
          "output_type": "execute_result"
        }
      ],
      "source": [
        "# 한국의 데이터만 필터링하고 DatetimeIndex로 만들기\n",
        "cond4 = df['nation'] == 'Korea'\n",
        "df_kr = df[cond4].set_index('date')\n",
        "df_kr"
      ]
    },
    {
      "cell_type": "code",
      "execution_count": 21,
      "metadata": {
        "colab": {
          "base_uri": "https://localhost:8080/",
          "height": 330
        },
        "id": "A56XK1bvNv2Q",
        "outputId": "c24f2be4-8161-4258-ac11-b1f6911634c1"
      },
      "outputs": [
        {
          "data": {
            "text/html": [
              "<div>\n",
              "<style scoped>\n",
              "    .dataframe tbody tr th:only-of-type {\n",
              "        vertical-align: middle;\n",
              "    }\n",
              "\n",
              "    .dataframe tbody tr th {\n",
              "        vertical-align: top;\n",
              "    }\n",
              "\n",
              "    .dataframe thead th {\n",
              "        text-align: right;\n",
              "    }\n",
              "</style>\n",
              "<table border=\"1\" class=\"dataframe\">\n",
              "  <thead>\n",
              "    <tr style=\"text-align: right;\">\n",
              "      <th></th>\n",
              "      <th>nation</th>\n",
              "      <th>continent</th>\n",
              "      <th>H/A</th>\n",
              "      <th>oppenent</th>\n",
              "      <th>o_continent</th>\n",
              "      <th>score</th>\n",
              "      <th>o_score</th>\n",
              "      <th>tournament</th>\n",
              "      <th>result</th>\n",
              "    </tr>\n",
              "    <tr>\n",
              "      <th>date</th>\n",
              "      <th></th>\n",
              "      <th></th>\n",
              "      <th></th>\n",
              "      <th></th>\n",
              "      <th></th>\n",
              "      <th></th>\n",
              "      <th></th>\n",
              "      <th></th>\n",
              "      <th></th>\n",
              "    </tr>\n",
              "  </thead>\n",
              "  <tbody>\n",
              "    <tr>\n",
              "      <th>2002-01-19</th>\n",
              "      <td>Korea</td>\n",
              "      <td>Asia</td>\n",
              "      <td>Home</td>\n",
              "      <td>USA</td>\n",
              "      <td>North America</td>\n",
              "      <td>1</td>\n",
              "      <td>2</td>\n",
              "      <td>Others</td>\n",
              "      <td>Lose</td>\n",
              "    </tr>\n",
              "    <tr>\n",
              "      <th>2002-01-23</th>\n",
              "      <td>Korea</td>\n",
              "      <td>Asia</td>\n",
              "      <td>Away</td>\n",
              "      <td>Cuba</td>\n",
              "      <td>North America</td>\n",
              "      <td>0</td>\n",
              "      <td>0</td>\n",
              "      <td>Others</td>\n",
              "      <td>Draw</td>\n",
              "    </tr>\n",
              "    <tr>\n",
              "      <th>2002-01-27</th>\n",
              "      <td>Korea</td>\n",
              "      <td>Asia</td>\n",
              "      <td>Home</td>\n",
              "      <td>Mexico</td>\n",
              "      <td>North America</td>\n",
              "      <td>0</td>\n",
              "      <td>0</td>\n",
              "      <td>Others</td>\n",
              "      <td>Draw</td>\n",
              "    </tr>\n",
              "    <tr>\n",
              "      <th>...</th>\n",
              "      <td>...</td>\n",
              "      <td>...</td>\n",
              "      <td>...</td>\n",
              "      <td>...</td>\n",
              "      <td>...</td>\n",
              "      <td>...</td>\n",
              "      <td>...</td>\n",
              "      <td>...</td>\n",
              "      <td>...</td>\n",
              "    </tr>\n",
              "    <tr>\n",
              "      <th>2002-06-29</th>\n",
              "      <td>Korea</td>\n",
              "      <td>Asia</td>\n",
              "      <td>Away</td>\n",
              "      <td>Turkey</td>\n",
              "      <td>Europe</td>\n",
              "      <td>2</td>\n",
              "      <td>3</td>\n",
              "      <td>WC</td>\n",
              "      <td>Lose</td>\n",
              "    </tr>\n",
              "    <tr>\n",
              "      <th>2002-09-07</th>\n",
              "      <td>Korea</td>\n",
              "      <td>Asia</td>\n",
              "      <td>Away</td>\n",
              "      <td>Korea DPR</td>\n",
              "      <td>Asia</td>\n",
              "      <td>0</td>\n",
              "      <td>0</td>\n",
              "      <td>Frendly</td>\n",
              "      <td>Draw</td>\n",
              "    </tr>\n",
              "    <tr>\n",
              "      <th>2002-11-20</th>\n",
              "      <td>Korea</td>\n",
              "      <td>Asia</td>\n",
              "      <td>Away</td>\n",
              "      <td>Brazil</td>\n",
              "      <td>South America</td>\n",
              "      <td>2</td>\n",
              "      <td>3</td>\n",
              "      <td>Frendly</td>\n",
              "      <td>Lose</td>\n",
              "    </tr>\n",
              "  </tbody>\n",
              "</table>\n",
              "<p>23 rows × 9 columns</p>\n",
              "</div>"
            ],
            "text/plain": [
              "           nation continent   H/A   oppenent    o_continent  score  o_score  \\\n",
              "date                                                                          \n",
              "2002-01-19  Korea      Asia  Home        USA  North America      1        2   \n",
              "2002-01-23  Korea      Asia  Away       Cuba  North America      0        0   \n",
              "2002-01-27  Korea      Asia  Home     Mexico  North America      0        0   \n",
              "...           ...       ...   ...        ...            ...    ...      ...   \n",
              "2002-06-29  Korea      Asia  Away     Turkey         Europe      2        3   \n",
              "2002-09-07  Korea      Asia  Away  Korea DPR           Asia      0        0   \n",
              "2002-11-20  Korea      Asia  Away     Brazil  South America      2        3   \n",
              "\n",
              "           tournament result  \n",
              "date                          \n",
              "2002-01-19     Others   Lose  \n",
              "2002-01-23     Others   Draw  \n",
              "2002-01-27     Others   Draw  \n",
              "...               ...    ...  \n",
              "2002-06-29         WC   Lose  \n",
              "2002-09-07    Frendly   Draw  \n",
              "2002-11-20    Frendly   Lose  \n",
              "\n",
              "[23 rows x 9 columns]"
            ]
          },
          "execution_count": 21,
          "metadata": {},
          "output_type": "execute_result"
        }
      ],
      "source": [
        "# 한국 데이터 중 2002년도의 데이터만 필터링\n",
        "df_kr.loc['2002']"
      ]
    },
    {
      "cell_type": "code",
      "execution_count": 22,
      "metadata": {
        "colab": {
          "base_uri": "https://localhost:8080/"
        },
        "id": "lT95sIUkPc4n",
        "outputId": "2fac59ad-e86c-4cce-f8e8-fd24aedbda31"
      },
      "outputs": [
        {
          "data": {
            "text/plain": [
              "0     Win\n",
              "1    Lose\n",
              "2     Win\n",
              "3    Draw\n",
              "dtype: object"
            ]
          },
          "execution_count": 22,
          "metadata": {},
          "output_type": "execute_result"
        }
      ],
      "source": [
        "# 승률을 구하기 위한 lambda 함수 만들기 위해 시리즈 생성\n",
        "x = pd.Series(['Win', 'Lose', 'Win', 'Draw'])\n",
        "x"
      ]
    },
    {
      "cell_type": "code",
      "execution_count": 23,
      "metadata": {
        "colab": {
          "base_uri": "https://localhost:8080/"
        },
        "id": "4wYDRintPow3",
        "outputId": "57c2cbe4-6d57-4b71-f29e-4cd955d91e8d"
      },
      "outputs": [
        {
          "data": {
            "text/plain": [
              "0.5"
            ]
          },
          "execution_count": 23,
          "metadata": {},
          "output_type": "execute_result"
        }
      ],
      "source": [
        "# x의 승률은 다음과 같다\n",
        "(x == 'Win').mean()"
      ]
    },
    {
      "cell_type": "code",
      "execution_count": 24,
      "metadata": {
        "colab": {
          "base_uri": "https://localhost:8080/"
        },
        "id": "9YpMrckfvEOU",
        "outputId": "82ff35fa-30f4-4986-ddf1-95ddd575c804"
      },
      "outputs": [
        {
          "data": {
            "text/plain": [
              "0.5"
            ]
          },
          "execution_count": 24,
          "metadata": {},
          "output_type": "execute_result"
        }
      ],
      "source": [
        "# 비교연산 == 대신 연산함수 eq를 쓰면 좀 더 코드가 깔끔하다 (실습은 ==로 진행)\n",
        "x.eq('Win').mean()"
      ]
    },
    {
      "cell_type": "code",
      "execution_count": 25,
      "metadata": {
        "colab": {
          "base_uri": "https://localhost:8080/"
        },
        "id": "7NS1YCBsPzXY",
        "outputId": "57764c09-d150-44e6-ae05-a992dda4eb15"
      },
      "outputs": [
        {
          "data": {
            "text/plain": [
              "o_continent\n",
              "Africa          0.44\n",
              "Asia            0.58\n",
              "Europe          0.37\n",
              "North America   0.40\n",
              "Oceania         0.53\n",
              "South America   0.31\n",
              "Name: result, dtype: float64"
            ]
          },
          "execution_count": 25,
          "metadata": {},
          "output_type": "execute_result"
        }
      ],
      "source": [
        "# 상대 대륙별 한국팀의 승률\n",
        "df_kr.groupby('o_continent')['result'].agg(lambda x: (x == 'Win').mean())"
      ]
    },
    {
      "cell_type": "code",
      "execution_count": 26,
      "metadata": {
        "colab": {
          "base_uri": "https://localhost:8080/"
        },
        "id": "yqzHHf4mQEqw",
        "outputId": "3e21dd94-0c4d-453f-db84-31a62d7dd5c6"
      },
      "outputs": [
        {
          "data": {
            "text/plain": [
              "o_continent\n",
              "Africa          0.44\n",
              "Asia            0.58\n",
              "Europe          0.37\n",
              "North America   0.40\n",
              "Oceania         0.53\n",
              "South America   0.31\n",
              "Name: result, dtype: float64"
            ]
          },
          "execution_count": 26,
          "metadata": {},
          "output_type": "execute_result"
        }
      ],
      "source": [
        "# 승률을 구하는 lambda 함수는 자주 쓰게 될것 같으니 함수 wp로 선언하자\n",
        "wp = lambda x: (x == 'Win').mean()\n",
        "df_kr.groupby('o_continent')['result'].agg(wp)"
      ]
    },
    {
      "cell_type": "code",
      "execution_count": 27,
      "metadata": {
        "colab": {
          "base_uri": "https://localhost:8080/",
          "height": 269
        },
        "id": "nAz-FX3KMQHq",
        "outputId": "e20b14fe-a63a-4606-f3a1-7afded76699c"
      },
      "outputs": [
        {
          "data": {
            "text/html": [
              "<div>\n",
              "<style scoped>\n",
              "    .dataframe tbody tr th:only-of-type {\n",
              "        vertical-align: middle;\n",
              "    }\n",
              "\n",
              "    .dataframe tbody tr th {\n",
              "        vertical-align: top;\n",
              "    }\n",
              "\n",
              "    .dataframe thead th {\n",
              "        text-align: right;\n",
              "    }\n",
              "</style>\n",
              "<table border=\"1\" class=\"dataframe\">\n",
              "  <thead>\n",
              "    <tr style=\"text-align: right;\">\n",
              "      <th></th>\n",
              "      <th>wp</th>\n",
              "      <th>goal per game</th>\n",
              "    </tr>\n",
              "    <tr>\n",
              "      <th>o_continent</th>\n",
              "      <th></th>\n",
              "      <th></th>\n",
              "    </tr>\n",
              "  </thead>\n",
              "  <tbody>\n",
              "    <tr>\n",
              "      <th>Africa</th>\n",
              "      <td>0.44</td>\n",
              "      <td>1.44</td>\n",
              "    </tr>\n",
              "    <tr>\n",
              "      <th>Asia</th>\n",
              "      <td>0.58</td>\n",
              "      <td>1.87</td>\n",
              "    </tr>\n",
              "    <tr>\n",
              "      <th>Europe</th>\n",
              "      <td>0.37</td>\n",
              "      <td>1.29</td>\n",
              "    </tr>\n",
              "    <tr>\n",
              "      <th>North America</th>\n",
              "      <td>0.40</td>\n",
              "      <td>1.34</td>\n",
              "    </tr>\n",
              "    <tr>\n",
              "      <th>Oceania</th>\n",
              "      <td>0.53</td>\n",
              "      <td>1.21</td>\n",
              "    </tr>\n",
              "    <tr>\n",
              "      <th>South America</th>\n",
              "      <td>0.31</td>\n",
              "      <td>1.00</td>\n",
              "    </tr>\n",
              "  </tbody>\n",
              "</table>\n",
              "</div>"
            ],
            "text/plain": [
              "                wp  goal per game\n",
              "o_continent                      \n",
              "Africa        0.44           1.44\n",
              "Asia          0.58           1.87\n",
              "Europe        0.37           1.29\n",
              "North America 0.40           1.34\n",
              "Oceania       0.53           1.21\n",
              "South America 0.31           1.00"
            ]
          },
          "execution_count": 27,
          "metadata": {},
          "output_type": "execute_result"
        }
      ],
      "source": [
        "# 한국의 상대 대륙별 승률과 평균 득점을 동시에\n",
        "wp = lambda x: (x == 'Win').mean()\n",
        "(df_kr\n",
        " .groupby('o_continent').agg({'result': wp, 'score': 'mean'})\n",
        " .set_axis(['wp', 'goal per game'], axis=1))"
      ]
    },
    {
      "cell_type": "code",
      "execution_count": 28,
      "metadata": {
        "colab": {
          "base_uri": "https://localhost:8080/"
        },
        "id": "m7sEIRgSNbMf",
        "outputId": "60042f27-7c7b-4ef9-8c3c-43436b423c1a"
      },
      "outputs": [
        {
          "data": {
            "text/plain": [
              "date\n",
              "1993-12-31   0.43\n",
              "1994-12-31   0.29\n",
              "1995-12-31   0.33\n",
              "             ... \n",
              "2020-12-31   0.50\n",
              "2021-12-31   0.70\n",
              "2022-12-31   0.70\n",
              "Freq: A-DEC, Name: result, Length: 30, dtype: float64"
            ]
          },
          "execution_count": 28,
          "metadata": {},
          "output_type": "execute_result"
        }
      ],
      "source": [
        "# 연도별 한국의 승률\n",
        "df_kr.resample('Y')['result'].agg(wp)"
      ]
    },
    {
      "cell_type": "code",
      "execution_count": 29,
      "metadata": {
        "colab": {
          "base_uri": "https://localhost:8080/",
          "height": 297
        },
        "id": "Vz1gG8HbOfNU",
        "outputId": "2810d942-c51c-4c0c-c521-92a21fdc448b"
      },
      "outputs": [
        {
          "data": {
            "text/plain": [
              "<Axes: xlabel='date'>"
            ]
          },
          "execution_count": 29,
          "metadata": {},
          "output_type": "execute_result"
        },
        {
          "data": {
            "image/png": "[encoded data removed]",
            "text/plain": [
              "<Figure size 640x480 with 1 Axes>"
            ]
          },
          "metadata": {},
          "output_type": "display_data"
        }
      ],
      "source": [
        "# 연도별 한국의 승률 그래프\n",
        "df_kr.resample('Y')['result'].agg(wp).plot()"
      ]
    },
    {
      "cell_type": "code",
      "execution_count": 30,
      "metadata": {
        "colab": {
          "base_uri": "https://localhost:8080/"
        },
        "id": "Df9iVjAQJN_A",
        "outputId": "cd2c19b0-87a1-4def-ae8d-3f136843716f"
      },
      "outputs": [
        {
          "data": {
            "text/plain": [
              "result\n",
              "Draw   0.39\n",
              "Lose   0.35\n",
              "Win    0.26\n",
              "Name: proportion, dtype: float64"
            ]
          },
          "execution_count": 30,
          "metadata": {},
          "output_type": "execute_result"
        }
      ],
      "source": [
        "# 2002년의 승률 확인\n",
        "df_kr.loc['2002', 'result'].value_counts(normalize=True)"
      ]
    },
    {
      "cell_type": "code",
      "execution_count": 31,
      "metadata": {
        "colab": {
          "base_uri": "https://localhost:8080/"
        },
        "id": "3oPO2tSYO2Aw",
        "outputId": "ecffe338-f9b3-4ce6-f8d3-1f1163ad8792"
      },
      "outputs": [
        {
          "data": {
            "text/plain": [
              "date\n",
              "1993-12-31   1.57\n",
              "1994-12-31   1.36\n",
              "1995-12-31   1.22\n",
              "             ... \n",
              "2020-12-31   2.00\n",
              "2021-12-31   2.00\n",
              "2022-12-31   2.30\n",
              "Freq: A-DEC, Name: score, Length: 30, dtype: float64"
            ]
          },
          "execution_count": 31,
          "metadata": {},
          "output_type": "execute_result"
        }
      ],
      "source": [
        "# 연도별 한국의 평균 득점\n",
        "df_kr.resample('Y')['score'].mean()"
      ]
    },
    {
      "cell_type": "code",
      "execution_count": 32,
      "metadata": {
        "colab": {
          "base_uri": "https://localhost:8080/",
          "height": 300
        },
        "id": "ZGq-A36rPKjP",
        "outputId": "dd1a39ef-ce6c-46b9-83d1-742d438d443c"
      },
      "outputs": [
        {
          "data": {
            "text/plain": [
              "<Axes: xlabel='date'>"
            ]
          },
          "execution_count": 32,
          "metadata": {},
          "output_type": "execute_result"
        },
        {
          "data": {
            "image/png": "[encoded data removed]",
            "text/plain": [
              "<Figure size 640x480 with 1 Axes>"
            ]
          },
          "metadata": {},
          "output_type": "display_data"
        }
      ],
      "source": [
        "# 연도별 한국의 평균 득점 그래프\n",
        "df_kr.resample('Y')['score'].mean().plot()"
      ]
    },
    {
      "cell_type": "code",
      "execution_count": null,
      "metadata": {},
      "outputs": [],
      "source": []
    }
  ],
  "metadata": {
    "colab": {
      "provenance": []
    },
    "kernelspec": {
      "display_name": "Python 3",
      "name": "python3"
    },
    "language_info": {
      "codemirror_mode": {
        "name": "ipython",
        "version": 3
      },
      "file_extension": ".py",
      "mimetype": "text/x-python",
      "name": "python",
      "nbconvert_exporter": "python",
      "pygments_lexer": "ipython3",
      "version": "3.8.6rc1"
    }
  },
  "nbformat": 4,
  "nbformat_minor": 0
}
