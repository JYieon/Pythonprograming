{
  "cells": [
    {
      "cell_type": "markdown",
      "metadata": {
        "id": "xx2RNXaS7z1R"
      },
      "source": [
        "# Ch04. 시험성적 처리하기"
      ]
    },
    {
      "cell_type": "markdown",
      "metadata": {
        "id": "WvSQ68zr73vk"
      },
      "source": [
        "## 1. csv 파일에서 데이터프레임 불러오기"
      ]
    },
    {
      "cell_type": "markdown",
      "metadata": {},
      "source": [
        "### 학습 목표\n",
        "- csv파일에서 데이터 프레임을 불러온다. (`read_csv` 함수)"
      ]
    },
    {
      "cell_type": "markdown",
      "metadata": {
        "id": "6-T-yCUDe7-x"
      },
      "source": [
        "**csv 파일이란?**\n",
        "\n",
        "<img src=https://i.ibb.co/nnySkZc/04-01.png, width=600>\n"
      ]
    },
    {
      "cell_type": "markdown",
      "metadata": {
        "id": "t4OjwXOXfa9O"
      },
      "source": [
        "> pandas read_csv\n",
        "\n",
        "csv파일을 데이터프레임으로 불러오는 함수\n",
        "\n",
        "----------\n",
        "**filepath_or_buffer**\n",
        "\n",
        "파일의 경로명\n",
        "\n",
        "**sep** (인수는 문자열 / 기본값은 ',')\n",
        "\n",
        "구분자를 지정하는 인자\n",
        "\n",
        "**header** (인수는 정수, 정수의 리스트 / 기본값은 'infer')\n",
        "\n",
        "columns를 지정하는 인자. 지정하지 않으면 대부분 맨 윗줄이 columns가 된다.(기본 값이 0인것과 비슷하다)\n",
        "\n",
        "리스트로 지정하면 멀티 인덱스인 columns가 된다.\n",
        "\n",
        "\n",
        "**index_col** (인수는 정수, 정수의 리스트 / 기본값은 None)\n",
        "\n",
        "index를 지정하는 인자. 지정하지 않으면 RangeIndex가 index로 부여된다. 리스트로 지정하면 멀티 인덱스인 index가 된다.\n",
        " \n",
        "[read_csv 판다스 공식문서](https://pandas.pydata.org/docs/reference/api/pandas.read_csv.html)"
      ]
    },
    {
      "cell_type": "code",
      "execution_count": 1,
      "metadata": {
        "id": "hvwV7oFd8Ctd"
      },
      "outputs": [],
      "source": [
        "# 프로젝트 코드\n",
        "import pandas as pd\n",
        "pd.options.display.max_rows = 8 # 판다스 버전업에 따라 8행만 출력의 바뀐 코드\n",
        "url = './04_01_score.csv'"
      ]
    },
    {
      "cell_type": "code",
      "execution_count": 2,
      "metadata": {
        "colab": {
          "base_uri": "https://localhost:8080/",
          "height": 361
        },
        "id": "TANigUT78yHh",
        "outputId": "b19d3fd9-2c2d-41df-c07a-705341ff6fa3"
      },
      "outputs": [
        {
          "data": {
            "text/html": [
              "<div>\n",
              "<style scoped>\n",
              "    .dataframe tbody tr th:only-of-type {\n",
              "        vertical-align: middle;\n",
              "    }\n",
              "\n",
              "    .dataframe tbody tr th {\n",
              "        vertical-align: top;\n",
              "    }\n",
              "\n",
              "    .dataframe thead th {\n",
              "        text-align: right;\n",
              "    }\n",
              "</style>\n",
              "<table border=\"1\" class=\"dataframe\">\n",
              "  <thead>\n",
              "    <tr style=\"text-align: right;\">\n",
              "      <th></th>\n",
              "      <th>이름</th>\n",
              "      <th>점수</th>\n",
              "    </tr>\n",
              "  </thead>\n",
              "  <tbody>\n",
              "    <tr>\n",
              "      <th>0</th>\n",
              "      <td>노성빈</td>\n",
              "      <td>22</td>\n",
              "    </tr>\n",
              "    <tr>\n",
              "      <th>1</th>\n",
              "      <td>문주용</td>\n",
              "      <td>52</td>\n",
              "    </tr>\n",
              "    <tr>\n",
              "      <th>2</th>\n",
              "      <td>최태주</td>\n",
              "      <td>71</td>\n",
              "    </tr>\n",
              "    <tr>\n",
              "      <th>3</th>\n",
              "      <td>황혁범</td>\n",
              "      <td>53</td>\n",
              "    </tr>\n",
              "    <tr>\n",
              "      <th>...</th>\n",
              "      <td>...</td>\n",
              "      <td>...</td>\n",
              "    </tr>\n",
              "    <tr>\n",
              "      <th>96</th>\n",
              "      <td>신민기</td>\n",
              "      <td>22</td>\n",
              "    </tr>\n",
              "    <tr>\n",
              "      <th>97</th>\n",
              "      <td>지도훈</td>\n",
              "      <td>24</td>\n",
              "    </tr>\n",
              "    <tr>\n",
              "      <th>98</th>\n",
              "      <td>류형석</td>\n",
              "      <td>41</td>\n",
              "    </tr>\n",
              "    <tr>\n",
              "      <th>99</th>\n",
              "      <td>유남길</td>\n",
              "      <td>67</td>\n",
              "    </tr>\n",
              "  </tbody>\n",
              "</table>\n",
              "<p>100 rows × 2 columns</p>\n",
              "</div>"
            ],
            "text/plain": [
              "     이름  점수\n",
              "0   노성빈  22\n",
              "1   문주용  52\n",
              "2   최태주  71\n",
              "3   황혁범  53\n",
              "..  ...  ..\n",
              "96  신민기  22\n",
              "97  지도훈  24\n",
              "98  류형석  41\n",
              "99  유남길  67\n",
              "\n",
              "[100 rows x 2 columns]"
            ]
          },
          "execution_count": 2,
          "metadata": {},
          "output_type": "execute_result"
        }
      ],
      "source": [
        "# csv 파일에서 데이터 프레임 불러오기\n",
        "df_ex1 = pd.read_csv(url)\n",
        "df_ex1"
      ]
    },
    {
      "cell_type": "code",
      "execution_count": 3,
      "metadata": {
        "colab": {
          "base_uri": "https://localhost:8080/"
        },
        "id": "X21gCgpW83vR",
        "outputId": "a84345bd-0467-4e28-cb6c-3f05b6e8f23d"
      },
      "outputs": [
        {
          "name": "stdout",
          "output_type": "stream",
          "text": [
            "<class 'pandas.core.frame.DataFrame'>\n",
            "RangeIndex: 100 entries, 0 to 99\n",
            "Data columns (total 2 columns):\n",
            " #   Column  Non-Null Count  Dtype \n",
            "---  ------  --------------  ----- \n",
            " 0   이름      100 non-null    object\n",
            " 1   점수      100 non-null    int64 \n",
            "dtypes: int64(1), object(1)\n",
            "memory usage: 1.7+ KB\n"
          ]
        }
      ],
      "source": [
        "# info 함수로 데이터 확인하기\n",
        "df_ex1.info()"
      ]
    },
    {
      "cell_type": "code",
      "execution_count": 4,
      "metadata": {
        "colab": {
          "base_uri": "https://localhost:8080/",
          "height": 300
        },
        "id": "4hvZpx_O86aX",
        "outputId": "1855a014-b021-4ac6-b050-f245cc8e3bb0"
      },
      "outputs": [
        {
          "data": {
            "text/html": [
              "<div>\n",
              "<style scoped>\n",
              "    .dataframe tbody tr th:only-of-type {\n",
              "        vertical-align: middle;\n",
              "    }\n",
              "\n",
              "    .dataframe tbody tr th {\n",
              "        vertical-align: top;\n",
              "    }\n",
              "\n",
              "    .dataframe thead th {\n",
              "        text-align: right;\n",
              "    }\n",
              "</style>\n",
              "<table border=\"1\" class=\"dataframe\">\n",
              "  <thead>\n",
              "    <tr style=\"text-align: right;\">\n",
              "      <th></th>\n",
              "      <th>점수</th>\n",
              "    </tr>\n",
              "  </thead>\n",
              "  <tbody>\n",
              "    <tr>\n",
              "      <th>count</th>\n",
              "      <td>100.000000</td>\n",
              "    </tr>\n",
              "    <tr>\n",
              "      <th>mean</th>\n",
              "      <td>50.890000</td>\n",
              "    </tr>\n",
              "    <tr>\n",
              "      <th>std</th>\n",
              "      <td>18.143588</td>\n",
              "    </tr>\n",
              "    <tr>\n",
              "      <th>min</th>\n",
              "      <td>20.000000</td>\n",
              "    </tr>\n",
              "    <tr>\n",
              "      <th>25%</th>\n",
              "      <td>35.750000</td>\n",
              "    </tr>\n",
              "    <tr>\n",
              "      <th>50%</th>\n",
              "      <td>50.500000</td>\n",
              "    </tr>\n",
              "    <tr>\n",
              "      <th>75%</th>\n",
              "      <td>65.500000</td>\n",
              "    </tr>\n",
              "    <tr>\n",
              "      <th>max</th>\n",
              "      <td>79.000000</td>\n",
              "    </tr>\n",
              "  </tbody>\n",
              "</table>\n",
              "</div>"
            ],
            "text/plain": [
              "               점수\n",
              "count  100.000000\n",
              "mean    50.890000\n",
              "std     18.143588\n",
              "min     20.000000\n",
              "25%     35.750000\n",
              "50%     50.500000\n",
              "75%     65.500000\n",
              "max     79.000000"
            ]
          },
          "execution_count": 4,
          "metadata": {},
          "output_type": "execute_result"
        }
      ],
      "source": [
        "# describe 함수로 데이터 확인하기\n",
        "df_ex1.describe()"
      ]
    },
    {
      "cell_type": "markdown",
      "metadata": {
        "id": "gS6F8Niektrd"
      },
      "source": [
        "## 2. feature engineering이란?"
      ]
    },
    {
      "cell_type": "markdown",
      "metadata": {
        "id": "iHkj6UR6vWYd"
      },
      "source": [
        "<img src=https://i.ibb.co/zZdfspc/04-02.png, width=600>\n",
        "\n",
        "**feature engineering**\n",
        "\n",
        "- 번역하면 특성공학이지만 뜻이 와닿지는 않는다. 데이터 가공하기라는 표현도 쓴다\n",
        "\n",
        "- 일반적으로 원시(raw) 데이터에서는 열은 특성, 행은 개체를 나타낸다\n",
        "\n",
        "- 기존 열(feature)을 가공해 더 유용한 특성을 가지는 열을 만드는 것이 feature engineering이다"
      ]
    },
    {
      "cell_type": "markdown",
      "metadata": {
        "id": "lEeb8JTx5Y1d"
      },
      "source": [
        "## 3. 등수 매기기(rank)"
      ]
    },
    {
      "cell_type": "markdown",
      "metadata": {},
      "source": [
        "### 학습 목표\n",
        "- 시리즈의 등수를 매긴다. (`rank` 함수)\n",
        "- 오름차순과 내림차순으로 등수를 매긴다. (`rank` 함수의 `ascending` 인자)\n",
        "- 다양한 방법으로 동점자를 처리한다. (`rank` 함수의 `method` 인자)"
      ]
    },
    {
      "cell_type": "markdown",
      "metadata": {
        "id": "fZUrrvJEk1ey"
      },
      "source": [
        "> pandas rank\n",
        "\n",
        "\n",
        "<img src=https://i.ibb.co/s5g5fxw/04-03.png, width=600>\n",
        "\n",
        "데이터 프레임이나 시리즈의 순위를 매기는 함수\n",
        "\n",
        " \n",
        "\n",
        "**method** (인수는 ‘average’, ‘min’, ‘max’, ‘first’, ‘dense’ / 기본 값은 ‘average’)\n",
        "\n",
        "동점자 처리방식을 지정하는 인자\n",
        "\n",
        "- average: 평균 순위\n",
        "- min: 최소 순위\n",
        "- max: 최대 순위\n",
        "- first: 출현 순서에 따라 순위 부여\n",
        "- dense: ‘min’ 과 같지만 동점자가 여러명 있어도  다음 순위가 1을 더해서  부여한다\n",
        "\n",
        " ex. 90, 89, 89, 88을 각각 1, 2, 2, 3을 부여한다 (4위가 아니라 3위를 부여한다) \n",
        "\n",
        "**ascending** (인수는 bool / 기본 값은 True)\n",
        "\n",
        "오름차순과 내림차순을 결정하는 인자, 기본값은 오름차순 (True)\n",
        "\n",
        "[rank 판다스 공식문서](https://pandas.pydata.org/docs/reference/api/pandas.DataFrame.rank.html)"
      ]
    },
    {
      "cell_type": "code",
      "execution_count": 5,
      "metadata": {
        "colab": {
          "base_uri": "https://localhost:8080/",
          "height": 238
        },
        "id": "7FTHIUSm5az2",
        "outputId": "029b621f-4dd7-4c32-9874-e976751ff889"
      },
      "outputs": [
        {
          "data": {
            "text/html": [
              "<div>\n",
              "<style scoped>\n",
              "    .dataframe tbody tr th:only-of-type {\n",
              "        vertical-align: middle;\n",
              "    }\n",
              "\n",
              "    .dataframe tbody tr th {\n",
              "        vertical-align: top;\n",
              "    }\n",
              "\n",
              "    .dataframe thead th {\n",
              "        text-align: right;\n",
              "    }\n",
              "</style>\n",
              "<table border=\"1\" class=\"dataframe\">\n",
              "  <thead>\n",
              "    <tr style=\"text-align: right;\">\n",
              "      <th></th>\n",
              "      <th>이름</th>\n",
              "      <th>영어</th>\n",
              "      <th>국어</th>\n",
              "      <th>나이</th>\n",
              "    </tr>\n",
              "  </thead>\n",
              "  <tbody>\n",
              "    <tr>\n",
              "      <th>0</th>\n",
              "      <td>송중기</td>\n",
              "      <td>91</td>\n",
              "      <td>82</td>\n",
              "      <td>17</td>\n",
              "    </tr>\n",
              "    <tr>\n",
              "      <th>1</th>\n",
              "      <td>권보아</td>\n",
              "      <td>82</td>\n",
              "      <td>95</td>\n",
              "      <td>17</td>\n",
              "    </tr>\n",
              "    <tr>\n",
              "      <th>2</th>\n",
              "      <td>김나현</td>\n",
              "      <td>71</td>\n",
              "      <td>95</td>\n",
              "      <td>18</td>\n",
              "    </tr>\n",
              "    <tr>\n",
              "      <th>3</th>\n",
              "      <td>박효신</td>\n",
              "      <td>90</td>\n",
              "      <td>72</td>\n",
              "      <td>18</td>\n",
              "    </tr>\n",
              "    <tr>\n",
              "      <th>4</th>\n",
              "      <td>김선미</td>\n",
              "      <td>80</td>\n",
              "      <td>72</td>\n",
              "      <td>19</td>\n",
              "    </tr>\n",
              "    <tr>\n",
              "      <th>5</th>\n",
              "      <td>강승주</td>\n",
              "      <td>78</td>\n",
              "      <td>95</td>\n",
              "      <td>19</td>\n",
              "    </tr>\n",
              "  </tbody>\n",
              "</table>\n",
              "</div>"
            ],
            "text/plain": [
              "    이름  영어  국어  나이\n",
              "0  송중기  91  82  17\n",
              "1  권보아  82  95  17\n",
              "2  김나현  71  95  18\n",
              "3  박효신  90  72  18\n",
              "4  김선미  80  72  19\n",
              "5  강승주  78  95  19"
            ]
          },
          "execution_count": 5,
          "metadata": {},
          "output_type": "execute_result"
        }
      ],
      "source": [
        "# 실습준비코드\n",
        "import pandas as pd\n",
        "data = [['송중기', 91, 82, 17], ['권보아', 82, 95, 17], \n",
        "        ['김나현', 71, 95, 18], ['박효신', 90, 72, 18], \n",
        "        ['김선미', 80, 72, 19], ['강승주', 78, 95, 19]]\n",
        "df = pd.DataFrame(data, columns=['이름', '영어', '국어', '나이'])\n",
        "df1 = df.copy() # df와 똑같은 데이터프레임을 복사해 df1으로 선언\n",
        "df"
      ]
    },
    {
      "cell_type": "code",
      "execution_count": 6,
      "metadata": {
        "colab": {
          "base_uri": "https://localhost:8080/",
          "height": 238
        },
        "id": "T9T5SyRp77cb",
        "outputId": "92dc4cbf-a1da-45c7-b018-495f11838b6a"
      },
      "outputs": [
        {
          "data": {
            "text/html": [
              "<div>\n",
              "<style scoped>\n",
              "    .dataframe tbody tr th:only-of-type {\n",
              "        vertical-align: middle;\n",
              "    }\n",
              "\n",
              "    .dataframe tbody tr th {\n",
              "        vertical-align: top;\n",
              "    }\n",
              "\n",
              "    .dataframe thead th {\n",
              "        text-align: right;\n",
              "    }\n",
              "</style>\n",
              "<table border=\"1\" class=\"dataframe\">\n",
              "  <thead>\n",
              "    <tr style=\"text-align: right;\">\n",
              "      <th></th>\n",
              "      <th>이름</th>\n",
              "      <th>영어</th>\n",
              "      <th>국어</th>\n",
              "      <th>나이</th>\n",
              "      <th>영어오름</th>\n",
              "    </tr>\n",
              "  </thead>\n",
              "  <tbody>\n",
              "    <tr>\n",
              "      <th>0</th>\n",
              "      <td>송중기</td>\n",
              "      <td>91</td>\n",
              "      <td>82</td>\n",
              "      <td>17</td>\n",
              "      <td>6.0</td>\n",
              "    </tr>\n",
              "    <tr>\n",
              "      <th>1</th>\n",
              "      <td>권보아</td>\n",
              "      <td>82</td>\n",
              "      <td>95</td>\n",
              "      <td>17</td>\n",
              "      <td>4.0</td>\n",
              "    </tr>\n",
              "    <tr>\n",
              "      <th>2</th>\n",
              "      <td>김나현</td>\n",
              "      <td>71</td>\n",
              "      <td>95</td>\n",
              "      <td>18</td>\n",
              "      <td>1.0</td>\n",
              "    </tr>\n",
              "    <tr>\n",
              "      <th>3</th>\n",
              "      <td>박효신</td>\n",
              "      <td>90</td>\n",
              "      <td>72</td>\n",
              "      <td>18</td>\n",
              "      <td>5.0</td>\n",
              "    </tr>\n",
              "    <tr>\n",
              "      <th>4</th>\n",
              "      <td>김선미</td>\n",
              "      <td>80</td>\n",
              "      <td>72</td>\n",
              "      <td>19</td>\n",
              "      <td>3.0</td>\n",
              "    </tr>\n",
              "    <tr>\n",
              "      <th>5</th>\n",
              "      <td>강승주</td>\n",
              "      <td>78</td>\n",
              "      <td>95</td>\n",
              "      <td>19</td>\n",
              "      <td>2.0</td>\n",
              "    </tr>\n",
              "  </tbody>\n",
              "</table>\n",
              "</div>"
            ],
            "text/plain": [
              "    이름  영어  국어  나이  영어오름\n",
              "0  송중기  91  82  17   6.0\n",
              "1  권보아  82  95  17   4.0\n",
              "2  김나현  71  95  18   1.0\n",
              "3  박효신  90  72  18   5.0\n",
              "4  김선미  80  72  19   3.0\n",
              "5  강승주  78  95  19   2.0"
            ]
          },
          "execution_count": 6,
          "metadata": {},
          "output_type": "execute_result"
        }
      ],
      "source": [
        "# 영어열로 오름차순으로 등수매기기 (원본 보존을 위해 df1으로 실습합니다)\n",
        "df1['영어오름'] = df1['영어'].rank()\n",
        "df1"
      ]
    },
    {
      "cell_type": "code",
      "execution_count": 7,
      "metadata": {
        "colab": {
          "base_uri": "https://localhost:8080/",
          "height": 238
        },
        "id": "jiCs9dxq81U4",
        "outputId": "e820074b-322a-4d9f-dd03-950b7a19c05a"
      },
      "outputs": [
        {
          "data": {
            "text/html": [
              "<div>\n",
              "<style scoped>\n",
              "    .dataframe tbody tr th:only-of-type {\n",
              "        vertical-align: middle;\n",
              "    }\n",
              "\n",
              "    .dataframe tbody tr th {\n",
              "        vertical-align: top;\n",
              "    }\n",
              "\n",
              "    .dataframe thead th {\n",
              "        text-align: right;\n",
              "    }\n",
              "</style>\n",
              "<table border=\"1\" class=\"dataframe\">\n",
              "  <thead>\n",
              "    <tr style=\"text-align: right;\">\n",
              "      <th></th>\n",
              "      <th>이름</th>\n",
              "      <th>영어</th>\n",
              "      <th>국어</th>\n",
              "      <th>나이</th>\n",
              "      <th>영어오름</th>\n",
              "      <th>영어내림</th>\n",
              "    </tr>\n",
              "  </thead>\n",
              "  <tbody>\n",
              "    <tr>\n",
              "      <th>0</th>\n",
              "      <td>송중기</td>\n",
              "      <td>91</td>\n",
              "      <td>82</td>\n",
              "      <td>17</td>\n",
              "      <td>6.0</td>\n",
              "      <td>1.0</td>\n",
              "    </tr>\n",
              "    <tr>\n",
              "      <th>1</th>\n",
              "      <td>권보아</td>\n",
              "      <td>82</td>\n",
              "      <td>95</td>\n",
              "      <td>17</td>\n",
              "      <td>4.0</td>\n",
              "      <td>3.0</td>\n",
              "    </tr>\n",
              "    <tr>\n",
              "      <th>2</th>\n",
              "      <td>김나현</td>\n",
              "      <td>71</td>\n",
              "      <td>95</td>\n",
              "      <td>18</td>\n",
              "      <td>1.0</td>\n",
              "      <td>6.0</td>\n",
              "    </tr>\n",
              "    <tr>\n",
              "      <th>3</th>\n",
              "      <td>박효신</td>\n",
              "      <td>90</td>\n",
              "      <td>72</td>\n",
              "      <td>18</td>\n",
              "      <td>5.0</td>\n",
              "      <td>2.0</td>\n",
              "    </tr>\n",
              "    <tr>\n",
              "      <th>4</th>\n",
              "      <td>김선미</td>\n",
              "      <td>80</td>\n",
              "      <td>72</td>\n",
              "      <td>19</td>\n",
              "      <td>3.0</td>\n",
              "      <td>4.0</td>\n",
              "    </tr>\n",
              "    <tr>\n",
              "      <th>5</th>\n",
              "      <td>강승주</td>\n",
              "      <td>78</td>\n",
              "      <td>95</td>\n",
              "      <td>19</td>\n",
              "      <td>2.0</td>\n",
              "      <td>5.0</td>\n",
              "    </tr>\n",
              "  </tbody>\n",
              "</table>\n",
              "</div>"
            ],
            "text/plain": [
              "    이름  영어  국어  나이  영어오름  영어내림\n",
              "0  송중기  91  82  17   6.0   1.0\n",
              "1  권보아  82  95  17   4.0   3.0\n",
              "2  김나현  71  95  18   1.0   6.0\n",
              "3  박효신  90  72  18   5.0   2.0\n",
              "4  김선미  80  72  19   3.0   4.0\n",
              "5  강승주  78  95  19   2.0   5.0"
            ]
          },
          "execution_count": 7,
          "metadata": {},
          "output_type": "execute_result"
        }
      ],
      "source": [
        "# 영어열로 내림차순으로 등수매기기\n",
        "df1['영어내림'] = df1['영어'].rank(ascending=False)\n",
        "df1"
      ]
    },
    {
      "cell_type": "code",
      "execution_count": 8,
      "metadata": {
        "colab": {
          "base_uri": "https://localhost:8080/",
          "height": 238
        },
        "id": "obu2geGC9aYm",
        "outputId": "32ce8cd3-2228-4781-8df3-1d7e737100af"
      },
      "outputs": [
        {
          "data": {
            "text/html": [
              "<div>\n",
              "<style scoped>\n",
              "    .dataframe tbody tr th:only-of-type {\n",
              "        vertical-align: middle;\n",
              "    }\n",
              "\n",
              "    .dataframe tbody tr th {\n",
              "        vertical-align: top;\n",
              "    }\n",
              "\n",
              "    .dataframe thead th {\n",
              "        text-align: right;\n",
              "    }\n",
              "</style>\n",
              "<table border=\"1\" class=\"dataframe\">\n",
              "  <thead>\n",
              "    <tr style=\"text-align: right;\">\n",
              "      <th></th>\n",
              "      <th>이름</th>\n",
              "      <th>영어</th>\n",
              "      <th>국어</th>\n",
              "      <th>나이</th>\n",
              "      <th>영어오름</th>\n",
              "      <th>영어내림</th>\n",
              "      <th>average</th>\n",
              "      <th>min</th>\n",
              "      <th>max</th>\n",
              "      <th>first</th>\n",
              "      <th>dense</th>\n",
              "    </tr>\n",
              "  </thead>\n",
              "  <tbody>\n",
              "    <tr>\n",
              "      <th>0</th>\n",
              "      <td>송중기</td>\n",
              "      <td>91</td>\n",
              "      <td>82</td>\n",
              "      <td>17</td>\n",
              "      <td>6.0</td>\n",
              "      <td>1.0</td>\n",
              "      <td>3.0</td>\n",
              "      <td>3.0</td>\n",
              "      <td>3.0</td>\n",
              "      <td>3.0</td>\n",
              "      <td>2.0</td>\n",
              "    </tr>\n",
              "    <tr>\n",
              "      <th>1</th>\n",
              "      <td>권보아</td>\n",
              "      <td>82</td>\n",
              "      <td>95</td>\n",
              "      <td>17</td>\n",
              "      <td>4.0</td>\n",
              "      <td>3.0</td>\n",
              "      <td>5.0</td>\n",
              "      <td>4.0</td>\n",
              "      <td>6.0</td>\n",
              "      <td>4.0</td>\n",
              "      <td>3.0</td>\n",
              "    </tr>\n",
              "    <tr>\n",
              "      <th>2</th>\n",
              "      <td>김나현</td>\n",
              "      <td>71</td>\n",
              "      <td>95</td>\n",
              "      <td>18</td>\n",
              "      <td>1.0</td>\n",
              "      <td>6.0</td>\n",
              "      <td>5.0</td>\n",
              "      <td>4.0</td>\n",
              "      <td>6.0</td>\n",
              "      <td>5.0</td>\n",
              "      <td>3.0</td>\n",
              "    </tr>\n",
              "    <tr>\n",
              "      <th>3</th>\n",
              "      <td>박효신</td>\n",
              "      <td>90</td>\n",
              "      <td>72</td>\n",
              "      <td>18</td>\n",
              "      <td>5.0</td>\n",
              "      <td>2.0</td>\n",
              "      <td>1.5</td>\n",
              "      <td>1.0</td>\n",
              "      <td>2.0</td>\n",
              "      <td>1.0</td>\n",
              "      <td>1.0</td>\n",
              "    </tr>\n",
              "    <tr>\n",
              "      <th>4</th>\n",
              "      <td>김선미</td>\n",
              "      <td>80</td>\n",
              "      <td>72</td>\n",
              "      <td>19</td>\n",
              "      <td>3.0</td>\n",
              "      <td>4.0</td>\n",
              "      <td>1.5</td>\n",
              "      <td>1.0</td>\n",
              "      <td>2.0</td>\n",
              "      <td>2.0</td>\n",
              "      <td>1.0</td>\n",
              "    </tr>\n",
              "    <tr>\n",
              "      <th>5</th>\n",
              "      <td>강승주</td>\n",
              "      <td>78</td>\n",
              "      <td>95</td>\n",
              "      <td>19</td>\n",
              "      <td>2.0</td>\n",
              "      <td>5.0</td>\n",
              "      <td>5.0</td>\n",
              "      <td>4.0</td>\n",
              "      <td>6.0</td>\n",
              "      <td>6.0</td>\n",
              "      <td>3.0</td>\n",
              "    </tr>\n",
              "  </tbody>\n",
              "</table>\n",
              "</div>"
            ],
            "text/plain": [
              "    이름  영어  국어  나이  영어오름  영어내림  average  min  max  first  dense\n",
              "0  송중기  91  82  17   6.0   1.0      3.0  3.0  3.0    3.0    2.0\n",
              "1  권보아  82  95  17   4.0   3.0      5.0  4.0  6.0    4.0    3.0\n",
              "2  김나현  71  95  18   1.0   6.0      5.0  4.0  6.0    5.0    3.0\n",
              "3  박효신  90  72  18   5.0   2.0      1.5  1.0  2.0    1.0    1.0\n",
              "4  김선미  80  72  19   3.0   4.0      1.5  1.0  2.0    2.0    1.0\n",
              "5  강승주  78  95  19   2.0   5.0      5.0  4.0  6.0    6.0    3.0"
            ]
          },
          "execution_count": 8,
          "metadata": {},
          "output_type": "execute_result"
        }
      ],
      "source": [
        "# 국어열로 오름차순으로 등수매길때 동점자를 다르게\n",
        "df1['average'] = df1['국어'].rank()\n",
        "df1['min'] = df1['국어'].rank(method='min')\n",
        "df1['max'] = df1['국어'].rank(method='max')\n",
        "df1['first'] = df1['국어'].rank(method='first')\n",
        "df1['dense'] = df1['국어'].rank(method='dense')\n",
        "df1"
      ]
    },
    {
      "cell_type": "markdown",
      "metadata": {
        "id": "KeWKUkTB7evI"
      },
      "source": [
        "## 4. 자료형 바꾸기(astype)"
      ]
    },
    {
      "cell_type": "markdown",
      "metadata": {},
      "source": [
        "### 학습 목표\n",
        "- 데이터 프레임과 시리즈의 자료형을 바꾼다. (`astype` 함수)"
      ]
    },
    {
      "cell_type": "markdown",
      "metadata": {
        "id": "gCPFoVijruPB"
      },
      "source": [
        "> pandas astype\n",
        "\n",
        "\n",
        "<img src=https://i.ibb.co/NYSwdZD/04-04.png, width=600>\n",
        "\n",
        "데이터 프레임이나 시리즈의 자료형을 바꾸는 함수\n",
        "\n",
        " \n",
        " \n",
        "\n",
        "**dtype**\n",
        "\n",
        "자료형을 지정하는 인자. dtype을 입력하면 된다\n",
        "\n",
        "특정 열에만 적용하고 싶을 경우 열의 레이블과 자료형을 딕셔너리로 넣으면 된다\n",
        "\n",
        "ex> A열은 문자열로 B열은 정수로 바꾸고 싶을 경우 dtype인자에  {'A':'str', 'B':'int'}을 인수로 입력하면 된다\n",
        "\n",
        "[astype 판다스 공식문서](https://pandas.pydata.org/docs/reference/api/pandas.DataFrame.astype.html)\n",
        " "
      ]
    },
    {
      "cell_type": "code",
      "execution_count": 9,
      "metadata": {
        "colab": {
          "base_uri": "https://localhost:8080/",
          "height": 175
        },
        "id": "RrImsZiy8GxL",
        "outputId": "a6a7fed3-0ecf-46ce-e923-fbd0b90b8809"
      },
      "outputs": [
        {
          "data": {
            "text/html": [
              "<div>\n",
              "<style scoped>\n",
              "    .dataframe tbody tr th:only-of-type {\n",
              "        vertical-align: middle;\n",
              "    }\n",
              "\n",
              "    .dataframe tbody tr th {\n",
              "        vertical-align: top;\n",
              "    }\n",
              "\n",
              "    .dataframe thead th {\n",
              "        text-align: right;\n",
              "    }\n",
              "</style>\n",
              "<table border=\"1\" class=\"dataframe\">\n",
              "  <thead>\n",
              "    <tr style=\"text-align: right;\">\n",
              "      <th></th>\n",
              "      <th>A</th>\n",
              "      <th>B</th>\n",
              "      <th>C</th>\n",
              "    </tr>\n",
              "  </thead>\n",
              "  <tbody>\n",
              "    <tr>\n",
              "      <th>0</th>\n",
              "      <td>8.2</td>\n",
              "      <td>9</td>\n",
              "      <td>17</td>\n",
              "    </tr>\n",
              "    <tr>\n",
              "      <th>1</th>\n",
              "      <td>7.1</td>\n",
              "      <td>9</td>\n",
              "      <td>18</td>\n",
              "    </tr>\n",
              "    <tr>\n",
              "      <th>2</th>\n",
              "      <td>9.3</td>\n",
              "      <td>7</td>\n",
              "      <td>18</td>\n",
              "    </tr>\n",
              "    <tr>\n",
              "      <th>3</th>\n",
              "      <td>7.8</td>\n",
              "      <td>7</td>\n",
              "      <td>19</td>\n",
              "    </tr>\n",
              "  </tbody>\n",
              "</table>\n",
              "</div>"
            ],
            "text/plain": [
              "     A  B   C\n",
              "0  8.2  9  17\n",
              "1  7.1  9  18\n",
              "2  9.3  7  18\n",
              "3  7.8  7  19"
            ]
          },
          "execution_count": 9,
          "metadata": {},
          "output_type": "execute_result"
        }
      ],
      "source": [
        "# 실습준비코드\n",
        "import pandas as pd\n",
        "data = [[8.2, 9, '17'], [7.1, 9, '18'], [9.3, 7, '18'], [7.8, 7, '19']]\n",
        "df = pd.DataFrame(data, columns=['A', 'B', 'C'])\n",
        "df1 = df.copy() # df와 똑같은 데이터프레임을 복사해 df1으로 선언\n",
        "df"
      ]
    },
    {
      "cell_type": "code",
      "execution_count": 10,
      "metadata": {
        "colab": {
          "base_uri": "https://localhost:8080/"
        },
        "id": "46suFsoh9_j_",
        "outputId": "85f50693-2df0-4693-896e-43f779058a2c"
      },
      "outputs": [
        {
          "name": "stdout",
          "output_type": "stream",
          "text": [
            "<class 'pandas.core.frame.DataFrame'>\n",
            "RangeIndex: 4 entries, 0 to 3\n",
            "Data columns (total 3 columns):\n",
            " #   Column  Non-Null Count  Dtype  \n",
            "---  ------  --------------  -----  \n",
            " 0   A       4 non-null      float64\n",
            " 1   B       4 non-null      int64  \n",
            " 2   C       4 non-null      object \n",
            "dtypes: float64(1), int64(1), object(1)\n",
            "memory usage: 224.0+ bytes\n"
          ]
        }
      ],
      "source": [
        "# df1의 자료형 파악하기\n",
        "df1.info()"
      ]
    },
    {
      "cell_type": "code",
      "execution_count": 11,
      "metadata": {
        "colab": {
          "base_uri": "https://localhost:8080/"
        },
        "id": "MmsNEhlp-Cls",
        "outputId": "224ac512-f4d3-4e75-c287-f70b727bef5b"
      },
      "outputs": [
        {
          "name": "stdout",
          "output_type": "stream",
          "text": [
            "<class 'pandas.core.frame.DataFrame'>\n",
            "RangeIndex: 4 entries, 0 to 3\n",
            "Data columns (total 3 columns):\n",
            " #   Column  Non-Null Count  Dtype \n",
            "---  ------  --------------  ----- \n",
            " 0   A       4 non-null      object\n",
            " 1   B       4 non-null      object\n",
            " 2   C       4 non-null      object\n",
            "dtypes: object(3)\n",
            "memory usage: 224.0+ bytes\n"
          ]
        }
      ],
      "source": [
        "# 데이터 프레임의 자료형을 문자열로 바꾸기\n",
        "df1.astype('str').info()"
      ]
    },
    {
      "cell_type": "code",
      "execution_count": 12,
      "metadata": {
        "colab": {
          "base_uri": "https://localhost:8080/"
        },
        "id": "pnvSTtd4GJzn",
        "outputId": "2f903218-de1a-4143-f8fb-ec79ee37fc04"
      },
      "outputs": [
        {
          "name": "stdout",
          "output_type": "stream",
          "text": [
            "<class 'pandas.core.frame.DataFrame'>\n",
            "RangeIndex: 4 entries, 0 to 3\n",
            "Data columns (total 3 columns):\n",
            " #   Column  Non-Null Count  Dtype\n",
            "---  ------  --------------  -----\n",
            " 0   A       4 non-null      int32\n",
            " 1   B       4 non-null      int32\n",
            " 2   C       4 non-null      int32\n",
            "dtypes: int32(3)\n",
            "memory usage: 176.0 bytes\n"
          ]
        }
      ],
      "source": [
        "# 데이터 프레임의 자료형을 정수로 바꾸기\n",
        "df1.astype('int').info()"
      ]
    },
    {
      "cell_type": "code",
      "execution_count": 13,
      "metadata": {
        "colab": {
          "base_uri": "https://localhost:8080/"
        },
        "id": "8rGml0Ac-YXJ",
        "outputId": "fbe3ca49-b1bd-45d2-dd6e-60bcb4a1ba6a"
      },
      "outputs": [
        {
          "name": "stdout",
          "output_type": "stream",
          "text": [
            "<class 'pandas.core.frame.DataFrame'>\n",
            "RangeIndex: 4 entries, 0 to 3\n",
            "Data columns (total 3 columns):\n",
            " #   Column  Non-Null Count  Dtype  \n",
            "---  ------  --------------  -----  \n",
            " 0   A       4 non-null      float64\n",
            " 1   B       4 non-null      int64  \n",
            " 2   C       4 non-null      int32  \n",
            "dtypes: float64(1), int32(1), int64(1)\n",
            "memory usage: 208.0 bytes\n"
          ]
        }
      ],
      "source": [
        "# 특정열의 자료형 바꾸기1\n",
        "df1['C'] = df1['C'].astype('int')\n",
        "df1.info()"
      ]
    },
    {
      "cell_type": "code",
      "execution_count": 14,
      "metadata": {
        "colab": {
          "base_uri": "https://localhost:8080/"
        },
        "id": "A-3QUzeN-frr",
        "outputId": "6452b043-88a2-49a1-cfc1-c5de9fc7e629"
      },
      "outputs": [
        {
          "name": "stdout",
          "output_type": "stream",
          "text": [
            "<class 'pandas.core.frame.DataFrame'>\n",
            "RangeIndex: 4 entries, 0 to 3\n",
            "Data columns (total 3 columns):\n",
            " #   Column  Non-Null Count  Dtype  \n",
            "---  ------  --------------  -----  \n",
            " 0   A       4 non-null      float64\n",
            " 1   B       4 non-null      int64  \n",
            " 2   C       4 non-null      int32  \n",
            "dtypes: float64(1), int32(1), int64(1)\n",
            "memory usage: 208.0 bytes\n"
          ]
        }
      ],
      "source": [
        "# 특정열의 자료형 바꾸기2\n",
        "df.astype({'C':'int'}).info()"
      ]
    },
    {
      "cell_type": "code",
      "execution_count": 15,
      "metadata": {
        "colab": {
          "base_uri": "https://localhost:8080/"
        },
        "id": "n5Khh-ef_G43",
        "outputId": "baaf3cf1-dff1-45fb-d055-b94d27ef91a8"
      },
      "outputs": [
        {
          "name": "stdout",
          "output_type": "stream",
          "text": [
            "<class 'pandas.core.frame.DataFrame'>\n",
            "RangeIndex: 4 entries, 0 to 3\n",
            "Data columns (total 3 columns):\n",
            " #   Column  Non-Null Count  Dtype \n",
            "---  ------  --------------  ----- \n",
            " 0   A       4 non-null      object\n",
            " 1   B       4 non-null      int64 \n",
            " 2   C       4 non-null      int32 \n",
            "dtypes: int32(1), int64(1), object(1)\n",
            "memory usage: 208.0+ bytes\n"
          ]
        }
      ],
      "source": [
        "# 여러열의 자료형 바꾸기2\n",
        "df.astype({'A': 'str', 'C':'int'}).info()"
      ]
    },
    {
      "cell_type": "markdown",
      "metadata": {
        "id": "sa2ZCuPYs_c8"
      },
      "source": [
        "**프로젝트에서 등수 열을 만들어주자**\n",
        "\n",
        "가장 높은 점수가 1등이 되는 오름차순에 동점자는 최소순위를 부여하자"
      ]
    },
    {
      "cell_type": "code",
      "execution_count": 16,
      "metadata": {
        "colab": {
          "base_uri": "https://localhost:8080/",
          "height": 298
        },
        "id": "OQpNq3KZ-ORn",
        "outputId": "6f7dcbcf-b195-4d3f-dddc-59614c749e05"
      },
      "outputs": [
        {
          "data": {
            "text/html": [
              "<div>\n",
              "<style scoped>\n",
              "    .dataframe tbody tr th:only-of-type {\n",
              "        vertical-align: middle;\n",
              "    }\n",
              "\n",
              "    .dataframe tbody tr th {\n",
              "        vertical-align: top;\n",
              "    }\n",
              "\n",
              "    .dataframe thead th {\n",
              "        text-align: right;\n",
              "    }\n",
              "</style>\n",
              "<table border=\"1\" class=\"dataframe\">\n",
              "  <thead>\n",
              "    <tr style=\"text-align: right;\">\n",
              "      <th></th>\n",
              "      <th>이름</th>\n",
              "      <th>점수</th>\n",
              "    </tr>\n",
              "  </thead>\n",
              "  <tbody>\n",
              "    <tr>\n",
              "      <th>0</th>\n",
              "      <td>노성빈</td>\n",
              "      <td>22</td>\n",
              "    </tr>\n",
              "    <tr>\n",
              "      <th>1</th>\n",
              "      <td>문주용</td>\n",
              "      <td>52</td>\n",
              "    </tr>\n",
              "    <tr>\n",
              "      <th>2</th>\n",
              "      <td>최태주</td>\n",
              "      <td>71</td>\n",
              "    </tr>\n",
              "    <tr>\n",
              "      <th>...</th>\n",
              "      <td>...</td>\n",
              "      <td>...</td>\n",
              "    </tr>\n",
              "    <tr>\n",
              "      <th>97</th>\n",
              "      <td>지도훈</td>\n",
              "      <td>24</td>\n",
              "    </tr>\n",
              "    <tr>\n",
              "      <th>98</th>\n",
              "      <td>류형석</td>\n",
              "      <td>41</td>\n",
              "    </tr>\n",
              "    <tr>\n",
              "      <th>99</th>\n",
              "      <td>유남길</td>\n",
              "      <td>67</td>\n",
              "    </tr>\n",
              "  </tbody>\n",
              "</table>\n",
              "<p>100 rows × 2 columns</p>\n",
              "</div>"
            ],
            "text/plain": [
              "     이름  점수\n",
              "0   노성빈  22\n",
              "1   문주용  52\n",
              "2   최태주  71\n",
              "..  ...  ..\n",
              "97  지도훈  24\n",
              "98  류형석  41\n",
              "99  유남길  67\n",
              "\n",
              "[100 rows x 2 columns]"
            ]
          },
          "execution_count": 16,
          "metadata": {},
          "output_type": "execute_result"
        }
      ],
      "source": [
        "# 프로젝트 코드\n",
        "import pandas as pd\n",
        "pd.options.display.max_rows = 6 \n",
        "url = './04_01_score.csv'\n",
        "df_ex1 = pd.read_csv(url)\n",
        "df_ex1"
      ]
    },
    {
      "cell_type": "code",
      "execution_count": 17,
      "metadata": {
        "colab": {
          "base_uri": "https://localhost:8080/",
          "height": 298
        },
        "id": "V3JGjmvc3RqF",
        "outputId": "73182544-3696-4037-a7c1-fdecc5f046cd"
      },
      "outputs": [
        {
          "data": {
            "text/html": [
              "<div>\n",
              "<style scoped>\n",
              "    .dataframe tbody tr th:only-of-type {\n",
              "        vertical-align: middle;\n",
              "    }\n",
              "\n",
              "    .dataframe tbody tr th {\n",
              "        vertical-align: top;\n",
              "    }\n",
              "\n",
              "    .dataframe thead th {\n",
              "        text-align: right;\n",
              "    }\n",
              "</style>\n",
              "<table border=\"1\" class=\"dataframe\">\n",
              "  <thead>\n",
              "    <tr style=\"text-align: right;\">\n",
              "      <th></th>\n",
              "      <th>이름</th>\n",
              "      <th>점수</th>\n",
              "      <th>등수</th>\n",
              "    </tr>\n",
              "  </thead>\n",
              "  <tbody>\n",
              "    <tr>\n",
              "      <th>0</th>\n",
              "      <td>노성빈</td>\n",
              "      <td>22</td>\n",
              "      <td>94</td>\n",
              "    </tr>\n",
              "    <tr>\n",
              "      <th>1</th>\n",
              "      <td>문주용</td>\n",
              "      <td>52</td>\n",
              "      <td>49</td>\n",
              "    </tr>\n",
              "    <tr>\n",
              "      <th>2</th>\n",
              "      <td>최태주</td>\n",
              "      <td>71</td>\n",
              "      <td>19</td>\n",
              "    </tr>\n",
              "    <tr>\n",
              "      <th>...</th>\n",
              "      <td>...</td>\n",
              "      <td>...</td>\n",
              "      <td>...</td>\n",
              "    </tr>\n",
              "    <tr>\n",
              "      <th>97</th>\n",
              "      <td>지도훈</td>\n",
              "      <td>24</td>\n",
              "      <td>90</td>\n",
              "    </tr>\n",
              "    <tr>\n",
              "      <th>98</th>\n",
              "      <td>류형석</td>\n",
              "      <td>41</td>\n",
              "      <td>69</td>\n",
              "    </tr>\n",
              "    <tr>\n",
              "      <th>99</th>\n",
              "      <td>유남길</td>\n",
              "      <td>67</td>\n",
              "      <td>24</td>\n",
              "    </tr>\n",
              "  </tbody>\n",
              "</table>\n",
              "<p>100 rows × 3 columns</p>\n",
              "</div>"
            ],
            "text/plain": [
              "     이름  점수  등수\n",
              "0   노성빈  22  94\n",
              "1   문주용  52  49\n",
              "2   최태주  71  19\n",
              "..  ...  ..  ..\n",
              "97  지도훈  24  90\n",
              "98  류형석  41  69\n",
              "99  유남길  67  24\n",
              "\n",
              "[100 rows x 3 columns]"
            ]
          },
          "execution_count": 17,
          "metadata": {},
          "output_type": "execute_result"
        }
      ],
      "source": [
        "# 등수열 만들기\n",
        "df_ex1['등수'] = df_ex1['점수'].rank(method='min', ascending=False).astype('int')\n",
        "df_ex1"
      ]
    },
    {
      "cell_type": "markdown",
      "metadata": {
        "id": "kCj8IpFf6O7C"
      },
      "source": [
        "## 5. 데이터 프레임 필터링하기 (불리언 인덱싱)"
      ]
    },
    {
      "cell_type": "markdown",
      "metadata": {},
      "source": [
        "### 학습 목표\n",
        "- 데이터 프레임의 필터링을 한다. (`불리언 인덱싱` 기법)\n",
        "- 불리언 인덱싱에서 대괄호와 loc의 차이를 이해한다."
      ]
    },
    {
      "cell_type": "markdown",
      "metadata": {
        "id": "hrc_R-8fwiNJ"
      },
      "source": [
        "**불리언 인덱싱(boolean indexing 이란?**\n",
        "\n",
        "<img src=https://i.ibb.co/qg31xWJ/04-05-1.png, width=600>\n",
        "\n",
        "- bool 배열로 인덱싱하는 기법\n",
        "\n",
        "- 불리언 인덱싱에 들어가는 배열은 리스트가 아니라 시리즈도 가능하다\n",
        "\n",
        "- 시리즈는 단순 연산만으로 쉽게 불리언(boolean) 시리즈로 만들 수 있으므로 이 특성과 합쳐져 불리언 인덱싱은 판다스의 필터링으로 쓰인다\n",
        "\n",
        "\n",
        "<img src=https://i.ibb.co/pX1Xs30/04-05-2.png, width=600>"
      ]
    },
    {
      "cell_type": "markdown",
      "metadata": {
        "id": "HQXffBWOxxvZ"
      },
      "source": [
        "**불리언 인덱싱에서의 조건문**\n",
        "\n",
        "위 그림에서 보이는 조건문은 \n",
        "\n",
        "\n",
        "```python\n",
        "df['국어'] > 80\n",
        "```\n",
        "\n",
        "그저 True와 False로 이루어진 시리즈이다\n",
        "\n",
        "명령어가 아님에 주의하고 시리즈이기 때문에 변수로 지정도 가능하다\n",
        "\n",
        "```python\n",
        "cond1 = df['국어'] > 80\n",
        "```\n",
        "조건문이 쓰이는 자리에 변수 cond1을 대신 입력할 수 있다.\n",
        "\n",
        "복잡한 조건문일때 조건문을 변수로 지정하면 코드가 간결해지므로 변수로 지정해 사용하자"
      ]
    },
    {
      "cell_type": "code",
      "execution_count": 18,
      "metadata": {
        "colab": {
          "base_uri": "https://localhost:8080/",
          "height": 175
        },
        "id": "-BmHIx-V3ek1",
        "outputId": "62d789fe-89e0-4c52-92c6-7e926bffb5af"
      },
      "outputs": [
        {
          "data": {
            "text/html": [
              "<div>\n",
              "<style scoped>\n",
              "    .dataframe tbody tr th:only-of-type {\n",
              "        vertical-align: middle;\n",
              "    }\n",
              "\n",
              "    .dataframe tbody tr th {\n",
              "        vertical-align: top;\n",
              "    }\n",
              "\n",
              "    .dataframe thead th {\n",
              "        text-align: right;\n",
              "    }\n",
              "</style>\n",
              "<table border=\"1\" class=\"dataframe\">\n",
              "  <thead>\n",
              "    <tr style=\"text-align: right;\">\n",
              "      <th></th>\n",
              "      <th>국어</th>\n",
              "      <th>영어</th>\n",
              "      <th>수학</th>\n",
              "    </tr>\n",
              "  </thead>\n",
              "  <tbody>\n",
              "    <tr>\n",
              "      <th>A</th>\n",
              "      <td>85</td>\n",
              "      <td>96</td>\n",
              "      <td>94</td>\n",
              "    </tr>\n",
              "    <tr>\n",
              "      <th>B</th>\n",
              "      <td>79</td>\n",
              "      <td>87</td>\n",
              "      <td>94</td>\n",
              "    </tr>\n",
              "    <tr>\n",
              "      <th>C</th>\n",
              "      <td>93</td>\n",
              "      <td>85</td>\n",
              "      <td>73</td>\n",
              "    </tr>\n",
              "    <tr>\n",
              "      <th>D</th>\n",
              "      <td>81</td>\n",
              "      <td>84</td>\n",
              "      <td>88</td>\n",
              "    </tr>\n",
              "  </tbody>\n",
              "</table>\n",
              "</div>"
            ],
            "text/plain": [
              "   국어  영어  수학\n",
              "A  85  96  94\n",
              "B  79  87  94\n",
              "C  93  85  73\n",
              "D  81  84  88"
            ]
          },
          "execution_count": 18,
          "metadata": {},
          "output_type": "execute_result"
        }
      ],
      "source": [
        "# 실습 준비 코드\n",
        "import pandas as pd\n",
        "\n",
        "data = [[85, 96, 94], [79, 87, 94], [93, 85, 73], [81, 84, 88]]\n",
        "df = pd.DataFrame(data, index=list('ABCD'), columns=['국어', '영어', '수학'])\n",
        "df"
      ]
    },
    {
      "cell_type": "code",
      "execution_count": 19,
      "metadata": {
        "colab": {
          "base_uri": "https://localhost:8080/",
          "height": 143
        },
        "id": "z2OMHp146gS0",
        "outputId": "a92a38d1-eeba-428f-d176-d97a10442f51"
      },
      "outputs": [
        {
          "data": {
            "text/html": [
              "<div>\n",
              "<style scoped>\n",
              "    .dataframe tbody tr th:only-of-type {\n",
              "        vertical-align: middle;\n",
              "    }\n",
              "\n",
              "    .dataframe tbody tr th {\n",
              "        vertical-align: top;\n",
              "    }\n",
              "\n",
              "    .dataframe thead th {\n",
              "        text-align: right;\n",
              "    }\n",
              "</style>\n",
              "<table border=\"1\" class=\"dataframe\">\n",
              "  <thead>\n",
              "    <tr style=\"text-align: right;\">\n",
              "      <th></th>\n",
              "      <th>국어</th>\n",
              "      <th>영어</th>\n",
              "      <th>수학</th>\n",
              "    </tr>\n",
              "  </thead>\n",
              "  <tbody>\n",
              "    <tr>\n",
              "      <th>A</th>\n",
              "      <td>85</td>\n",
              "      <td>96</td>\n",
              "      <td>94</td>\n",
              "    </tr>\n",
              "    <tr>\n",
              "      <th>C</th>\n",
              "      <td>93</td>\n",
              "      <td>85</td>\n",
              "      <td>73</td>\n",
              "    </tr>\n",
              "    <tr>\n",
              "      <th>D</th>\n",
              "      <td>81</td>\n",
              "      <td>84</td>\n",
              "      <td>88</td>\n",
              "    </tr>\n",
              "  </tbody>\n",
              "</table>\n",
              "</div>"
            ],
            "text/plain": [
              "   국어  영어  수학\n",
              "A  85  96  94\n",
              "C  93  85  73\n",
              "D  81  84  88"
            ]
          },
          "execution_count": 19,
          "metadata": {},
          "output_type": "execute_result"
        }
      ],
      "source": [
        "# 행을 불리언 인덱싱 (대괄호 인덱싱이나 loc 인덱싱으로 가능)\n",
        "df.loc[[True, False, True, True]]\n",
        "df[[True, False, True, True]]"
      ]
    },
    {
      "cell_type": "code",
      "execution_count": 20,
      "metadata": {
        "colab": {
          "base_uri": "https://localhost:8080/",
          "height": 175
        },
        "id": "0L8upzyj6oRe",
        "outputId": "c52bf580-924f-4929-b82e-0f0323bc288a"
      },
      "outputs": [
        {
          "data": {
            "text/html": [
              "<div>\n",
              "<style scoped>\n",
              "    .dataframe tbody tr th:only-of-type {\n",
              "        vertical-align: middle;\n",
              "    }\n",
              "\n",
              "    .dataframe tbody tr th {\n",
              "        vertical-align: top;\n",
              "    }\n",
              "\n",
              "    .dataframe thead th {\n",
              "        text-align: right;\n",
              "    }\n",
              "</style>\n",
              "<table border=\"1\" class=\"dataframe\">\n",
              "  <thead>\n",
              "    <tr style=\"text-align: right;\">\n",
              "      <th></th>\n",
              "      <th>국어</th>\n",
              "      <th>수학</th>\n",
              "    </tr>\n",
              "  </thead>\n",
              "  <tbody>\n",
              "    <tr>\n",
              "      <th>A</th>\n",
              "      <td>85</td>\n",
              "      <td>94</td>\n",
              "    </tr>\n",
              "    <tr>\n",
              "      <th>B</th>\n",
              "      <td>79</td>\n",
              "      <td>94</td>\n",
              "    </tr>\n",
              "    <tr>\n",
              "      <th>C</th>\n",
              "      <td>93</td>\n",
              "      <td>73</td>\n",
              "    </tr>\n",
              "    <tr>\n",
              "      <th>D</th>\n",
              "      <td>81</td>\n",
              "      <td>88</td>\n",
              "    </tr>\n",
              "  </tbody>\n",
              "</table>\n",
              "</div>"
            ],
            "text/plain": [
              "   국어  수학\n",
              "A  85  94\n",
              "B  79  94\n",
              "C  93  73\n",
              "D  81  88"
            ]
          },
          "execution_count": 20,
          "metadata": {},
          "output_type": "execute_result"
        }
      ],
      "source": [
        "# 열을 불리언 인덱싱 (loc 인덱싱으로 가능)\n",
        "df.loc[:, [True, False, True]]"
      ]
    },
    {
      "cell_type": "code",
      "execution_count": 21,
      "metadata": {
        "colab": {
          "base_uri": "https://localhost:8080/"
        },
        "id": "KxrlWZpa69W9",
        "outputId": "81ea02f1-4d8f-4ad9-b8d0-66dae6253184"
      },
      "outputs": [
        {
          "data": {
            "text/plain": [
              "A     True\n",
              "B    False\n",
              "C     True\n",
              "D     True\n",
              "Name: 국어, dtype: bool"
            ]
          },
          "execution_count": 21,
          "metadata": {},
          "output_type": "execute_result"
        }
      ],
      "source": [
        "df['국어'] > 80"
      ]
    },
    {
      "cell_type": "code",
      "execution_count": 22,
      "metadata": {
        "colab": {
          "base_uri": "https://localhost:8080/",
          "height": 143
        },
        "id": "GhnFyB2Y6ud9",
        "outputId": "f8face52-56e2-480f-fc9b-1facf153a319"
      },
      "outputs": [
        {
          "data": {
            "text/html": [
              "<div>\n",
              "<style scoped>\n",
              "    .dataframe tbody tr th:only-of-type {\n",
              "        vertical-align: middle;\n",
              "    }\n",
              "\n",
              "    .dataframe tbody tr th {\n",
              "        vertical-align: top;\n",
              "    }\n",
              "\n",
              "    .dataframe thead th {\n",
              "        text-align: right;\n",
              "    }\n",
              "</style>\n",
              "<table border=\"1\" class=\"dataframe\">\n",
              "  <thead>\n",
              "    <tr style=\"text-align: right;\">\n",
              "      <th></th>\n",
              "      <th>국어</th>\n",
              "      <th>영어</th>\n",
              "      <th>수학</th>\n",
              "    </tr>\n",
              "  </thead>\n",
              "  <tbody>\n",
              "    <tr>\n",
              "      <th>A</th>\n",
              "      <td>85</td>\n",
              "      <td>96</td>\n",
              "      <td>94</td>\n",
              "    </tr>\n",
              "    <tr>\n",
              "      <th>C</th>\n",
              "      <td>93</td>\n",
              "      <td>85</td>\n",
              "      <td>73</td>\n",
              "    </tr>\n",
              "    <tr>\n",
              "      <th>D</th>\n",
              "      <td>81</td>\n",
              "      <td>84</td>\n",
              "      <td>88</td>\n",
              "    </tr>\n",
              "  </tbody>\n",
              "</table>\n",
              "</div>"
            ],
            "text/plain": [
              "   국어  영어  수학\n",
              "A  85  96  94\n",
              "C  93  85  73\n",
              "D  81  84  88"
            ]
          },
          "execution_count": 22,
          "metadata": {},
          "output_type": "execute_result"
        }
      ],
      "source": [
        "# 국어점수가 80점보다 큰 사람만 필터링\n",
        "df[df['국어'] > 80]"
      ]
    },
    {
      "cell_type": "code",
      "execution_count": 23,
      "metadata": {
        "colab": {
          "base_uri": "https://localhost:8080/",
          "height": 112
        },
        "id": "UQGkAn0D7iu0",
        "outputId": "8a2af2f9-8f2e-46be-dc00-ae83fd069a72"
      },
      "outputs": [
        {
          "data": {
            "text/html": [
              "<div>\n",
              "<style scoped>\n",
              "    .dataframe tbody tr th:only-of-type {\n",
              "        vertical-align: middle;\n",
              "    }\n",
              "\n",
              "    .dataframe tbody tr th {\n",
              "        vertical-align: top;\n",
              "    }\n",
              "\n",
              "    .dataframe thead th {\n",
              "        text-align: right;\n",
              "    }\n",
              "</style>\n",
              "<table border=\"1\" class=\"dataframe\">\n",
              "  <thead>\n",
              "    <tr style=\"text-align: right;\">\n",
              "      <th></th>\n",
              "      <th>국어</th>\n",
              "      <th>영어</th>\n",
              "      <th>수학</th>\n",
              "    </tr>\n",
              "  </thead>\n",
              "  <tbody>\n",
              "    <tr>\n",
              "      <th>A</th>\n",
              "      <td>85</td>\n",
              "      <td>96</td>\n",
              "      <td>94</td>\n",
              "    </tr>\n",
              "    <tr>\n",
              "      <th>B</th>\n",
              "      <td>79</td>\n",
              "      <td>87</td>\n",
              "      <td>94</td>\n",
              "    </tr>\n",
              "  </tbody>\n",
              "</table>\n",
              "</div>"
            ],
            "text/plain": [
              "   국어  영어  수학\n",
              "A  85  96  94\n",
              "B  79  87  94"
            ]
          },
          "execution_count": 23,
          "metadata": {},
          "output_type": "execute_result"
        }
      ],
      "source": [
        "# 평균이 85점 이상인 사람만 필터링\n",
        "df[df.mean(axis=1) >= 85]"
      ]
    },
    {
      "cell_type": "code",
      "execution_count": 24,
      "metadata": {
        "colab": {
          "base_uri": "https://localhost:8080/",
          "height": 175
        },
        "id": "d7hiCZAbmiME",
        "outputId": "83fd13c3-b2e5-47e9-822b-a1ca701b3ce6"
      },
      "outputs": [
        {
          "data": {
            "text/html": [
              "<div>\n",
              "<style scoped>\n",
              "    .dataframe tbody tr th:only-of-type {\n",
              "        vertical-align: middle;\n",
              "    }\n",
              "\n",
              "    .dataframe tbody tr th {\n",
              "        vertical-align: top;\n",
              "    }\n",
              "\n",
              "    .dataframe thead th {\n",
              "        text-align: right;\n",
              "    }\n",
              "</style>\n",
              "<table border=\"1\" class=\"dataframe\">\n",
              "  <thead>\n",
              "    <tr style=\"text-align: right;\">\n",
              "      <th></th>\n",
              "      <th>국어</th>\n",
              "      <th>영어</th>\n",
              "      <th>수학</th>\n",
              "    </tr>\n",
              "  </thead>\n",
              "  <tbody>\n",
              "    <tr>\n",
              "      <th>A</th>\n",
              "      <td>85.0</td>\n",
              "      <td>96</td>\n",
              "      <td>94.0</td>\n",
              "    </tr>\n",
              "    <tr>\n",
              "      <th>B</th>\n",
              "      <td>NaN</td>\n",
              "      <td>87</td>\n",
              "      <td>94.0</td>\n",
              "    </tr>\n",
              "    <tr>\n",
              "      <th>C</th>\n",
              "      <td>93.0</td>\n",
              "      <td>85</td>\n",
              "      <td>NaN</td>\n",
              "    </tr>\n",
              "    <tr>\n",
              "      <th>D</th>\n",
              "      <td>81.0</td>\n",
              "      <td>84</td>\n",
              "      <td>88.0</td>\n",
              "    </tr>\n",
              "  </tbody>\n",
              "</table>\n",
              "</div>"
            ],
            "text/plain": [
              "     국어  영어    수학\n",
              "A  85.0  96  94.0\n",
              "B   NaN  87  94.0\n",
              "C  93.0  85   NaN\n",
              "D  81.0  84  88.0"
            ]
          },
          "execution_count": 24,
          "metadata": {},
          "output_type": "execute_result"
        }
      ],
      "source": [
        "# 2차원 배열로 불리언 인덱싱을 할때\n",
        "df[df > 80]"
      ]
    },
    {
      "cell_type": "markdown",
      "metadata": {
        "id": "bJA3HQsRw9Ab"
      },
      "source": [
        "**프로젝트에서 필터링을 해보자**\n",
        "\n",
        "- 1등의 명단을 추출해보자\n",
        "- 40점 초과인 데이터만 추출해보자"
      ]
    },
    {
      "cell_type": "code",
      "execution_count": 25,
      "metadata": {
        "colab": {
          "base_uri": "https://localhost:8080/",
          "height": 298
        },
        "id": "QXdt1i1r7Q0O",
        "outputId": "320d441b-0113-41d6-d754-d4fcfdf1d19f"
      },
      "outputs": [
        {
          "data": {
            "text/html": [
              "<div>\n",
              "<style scoped>\n",
              "    .dataframe tbody tr th:only-of-type {\n",
              "        vertical-align: middle;\n",
              "    }\n",
              "\n",
              "    .dataframe tbody tr th {\n",
              "        vertical-align: top;\n",
              "    }\n",
              "\n",
              "    .dataframe thead th {\n",
              "        text-align: right;\n",
              "    }\n",
              "</style>\n",
              "<table border=\"1\" class=\"dataframe\">\n",
              "  <thead>\n",
              "    <tr style=\"text-align: right;\">\n",
              "      <th></th>\n",
              "      <th>이름</th>\n",
              "      <th>점수</th>\n",
              "      <th>등수</th>\n",
              "    </tr>\n",
              "  </thead>\n",
              "  <tbody>\n",
              "    <tr>\n",
              "      <th>0</th>\n",
              "      <td>노성빈</td>\n",
              "      <td>22</td>\n",
              "      <td>94</td>\n",
              "    </tr>\n",
              "    <tr>\n",
              "      <th>1</th>\n",
              "      <td>문주용</td>\n",
              "      <td>52</td>\n",
              "      <td>49</td>\n",
              "    </tr>\n",
              "    <tr>\n",
              "      <th>2</th>\n",
              "      <td>최태주</td>\n",
              "      <td>71</td>\n",
              "      <td>19</td>\n",
              "    </tr>\n",
              "    <tr>\n",
              "      <th>...</th>\n",
              "      <td>...</td>\n",
              "      <td>...</td>\n",
              "      <td>...</td>\n",
              "    </tr>\n",
              "    <tr>\n",
              "      <th>97</th>\n",
              "      <td>지도훈</td>\n",
              "      <td>24</td>\n",
              "      <td>90</td>\n",
              "    </tr>\n",
              "    <tr>\n",
              "      <th>98</th>\n",
              "      <td>류형석</td>\n",
              "      <td>41</td>\n",
              "      <td>69</td>\n",
              "    </tr>\n",
              "    <tr>\n",
              "      <th>99</th>\n",
              "      <td>유남길</td>\n",
              "      <td>67</td>\n",
              "      <td>24</td>\n",
              "    </tr>\n",
              "  </tbody>\n",
              "</table>\n",
              "<p>100 rows × 3 columns</p>\n",
              "</div>"
            ],
            "text/plain": [
              "     이름  점수  등수\n",
              "0   노성빈  22  94\n",
              "1   문주용  52  49\n",
              "2   최태주  71  19\n",
              "..  ...  ..  ..\n",
              "97  지도훈  24  90\n",
              "98  류형석  41  69\n",
              "99  유남길  67  24\n",
              "\n",
              "[100 rows x 3 columns]"
            ]
          },
          "execution_count": 25,
          "metadata": {},
          "output_type": "execute_result"
        }
      ],
      "source": [
        "# 프로젝트 코드\n",
        "import pandas as pd\n",
        "pd.options.display.max_rows = 6 \n",
        "url = './04_01_score.csv'\n",
        "df_ex1 = pd.read_csv(url)\n",
        "df_ex1['등수'] = df_ex1['점수'].rank(method='min', ascending=False).astype('int')\n",
        "df_ex1"
      ]
    },
    {
      "cell_type": "code",
      "execution_count": 26,
      "metadata": {
        "colab": {
          "base_uri": "https://localhost:8080/"
        },
        "id": "kAJ-TUjy8HrX",
        "outputId": "3ba42d11-681b-4a16-919c-11c4329b4130"
      },
      "outputs": [
        {
          "data": {
            "text/plain": [
              "35    구은탁\n",
              "37    민일택\n",
              "93    문지용\n",
              "Name: 이름, dtype: object"
            ]
          },
          "execution_count": 26,
          "metadata": {},
          "output_type": "execute_result"
        }
      ],
      "source": [
        "# 1등(공동1등 포함)의 명단 추출하기\n",
        "df_ex1.loc[df_ex1['등수'] == 1, '이름']"
      ]
    },
    {
      "cell_type": "code",
      "execution_count": null,
      "metadata": {
        "colab": {
          "base_uri": "https://localhost:8080/",
          "height": 298
        },
        "id": "_PijIaip78-3",
        "outputId": "bff9050e-9681-4a07-fcc9-0a5ade7a3b72"
      },
      "outputs": [],
      "source": [
        "# 40점 이하는 낙제이다. 낙제가 아닌 성적만 필터링\n",
        "df_ex1[df_ex1['점수'] > 40]"
      ]
    },
    {
      "cell_type": "markdown",
      "metadata": {
        "id": "z51XarfeQmjO"
      },
      "source": [
        "## 6. 조건에 따라 값 부여하기(불리언 마스킹)"
      ]
    },
    {
      "cell_type": "markdown",
      "metadata": {},
      "source": [
        "### 학습 목표\n",
        "- `mask` 함수로 불리언 마스킹을 한다.\n",
        "- `np.where` 함수로 불리언 마스킹을 한다."
      ]
    },
    {
      "cell_type": "markdown",
      "metadata": {
        "id": "NHkyg88zq-s7"
      },
      "source": [
        "**불리언 마스킹(boolean masking)이란?**\n",
        "\n",
        "if문 처럼 참, 거짓에(boolean) 따라 값을 부여하는는 것(masking)"
      ]
    },
    {
      "cell_type": "markdown",
      "metadata": {
        "id": "F7xdxcv8rW2C"
      },
      "source": [
        "> pandas mask\n",
        "\n",
        "<img src=https://i.ibb.co/vP4MstR/04-06.png, width=600>\n",
        "\n",
        "True or False(bool)에 따라 값을 씌우는(masking) 함수 \n",
        "\n",
        "즉 불리언 마스킹을 하는 함수 (boolean masking)\n",
        "\n",
        " \n",
        "\n",
        "  \n",
        "\n",
        "**cond** (인수는 bool 시리즈, 데이터프레임)\n",
        "\n",
        "조건문처럼 작동하는 True 또는 False의 배열을  입력받는 인자  mask 함수는 True일 때의 값을  바꾼다. \n",
        "\n",
        "조건문의 기능을 하는 것이지 실제로는 명령어가 아니고 bool 시리즈나 데이터프레임인 배열이다(그래서 변수로 지정 가능하다)\n",
        "\n",
        " \n",
        "\n",
        " \n",
        "\n",
        "**other** (인수는 스칼라 , 시리즈, 데이터프레임, 함수 / 기본값은 nan)\n",
        "\n",
        "조건문이 True일 때 바꿀 값을 지정하는 인자. 기본값은 NaN이다\n",
        "\n",
        "\n",
        "\n"
      ]
    },
    {
      "cell_type": "code",
      "execution_count": 27,
      "metadata": {
        "colab": {
          "base_uri": "https://localhost:8080/",
          "height": 175
        },
        "id": "l2418jB2Qn3G",
        "outputId": "4f802038-2e82-4bc0-a836-b35a52015850"
      },
      "outputs": [
        {
          "data": {
            "text/html": [
              "<div>\n",
              "<style scoped>\n",
              "    .dataframe tbody tr th:only-of-type {\n",
              "        vertical-align: middle;\n",
              "    }\n",
              "\n",
              "    .dataframe tbody tr th {\n",
              "        vertical-align: top;\n",
              "    }\n",
              "\n",
              "    .dataframe thead th {\n",
              "        text-align: right;\n",
              "    }\n",
              "</style>\n",
              "<table border=\"1\" class=\"dataframe\">\n",
              "  <thead>\n",
              "    <tr style=\"text-align: right;\">\n",
              "      <th></th>\n",
              "      <th>국어</th>\n",
              "      <th>영어</th>\n",
              "      <th>수학</th>\n",
              "    </tr>\n",
              "  </thead>\n",
              "  <tbody>\n",
              "    <tr>\n",
              "      <th>A</th>\n",
              "      <td>85</td>\n",
              "      <td>96</td>\n",
              "      <td>94</td>\n",
              "    </tr>\n",
              "    <tr>\n",
              "      <th>B</th>\n",
              "      <td>79</td>\n",
              "      <td>87</td>\n",
              "      <td>94</td>\n",
              "    </tr>\n",
              "    <tr>\n",
              "      <th>C</th>\n",
              "      <td>93</td>\n",
              "      <td>85</td>\n",
              "      <td>73</td>\n",
              "    </tr>\n",
              "    <tr>\n",
              "      <th>D</th>\n",
              "      <td>81</td>\n",
              "      <td>84</td>\n",
              "      <td>88</td>\n",
              "    </tr>\n",
              "  </tbody>\n",
              "</table>\n",
              "</div>"
            ],
            "text/plain": [
              "   국어  영어  수학\n",
              "A  85  96  94\n",
              "B  79  87  94\n",
              "C  93  85  73\n",
              "D  81  84  88"
            ]
          },
          "execution_count": 27,
          "metadata": {},
          "output_type": "execute_result"
        }
      ],
      "source": [
        "# 실습 준비 코드\n",
        "import pandas as pd\n",
        "list1 = [85, 79, 93, 81]\n",
        "data = [[85, 96, 94], [79, 87, 94], [93, 85, 73], [81, 84, 88]]\n",
        "df = pd.DataFrame(data, index=list('ABCD'), columns=['국어', '영어', '수학'])\n",
        "df"
      ]
    },
    {
      "cell_type": "code",
      "execution_count": 28,
      "metadata": {
        "colab": {
          "base_uri": "https://localhost:8080/"
        },
        "id": "h35Hw6oPZhCz",
        "outputId": "b0cf3259-bcc8-4b30-d27e-d31395a65834"
      },
      "outputs": [
        {
          "name": "stdout",
          "output_type": "stream",
          "text": [
            "[85, 79, 93, 81]\n",
            "['합격', '불합격', '합격', '합격']\n"
          ]
        },
        {
          "data": {
            "text/plain": [
              "['합격', '불합격', '합격', '합격']"
            ]
          },
          "execution_count": 28,
          "metadata": {},
          "output_type": "execute_result"
        }
      ],
      "source": [
        "# 리스트의 불리언 마스킹 (각자 실습해 보세요)\n",
        "result = []\n",
        "for i in list1:\n",
        "  if i > 80:\n",
        "    result.append('합격')\n",
        "  else:\n",
        "    result.append('불합격')\n",
        "print(list1)\n",
        "print(result)\n",
        "\n",
        "# 리스트 내포(List Comprehension)을 사용하면 한줄 코드로 가능합니다\n",
        "['합격' if i > 80 else '불합격' for i in list1]"
      ]
    },
    {
      "cell_type": "code",
      "execution_count": 29,
      "metadata": {
        "colab": {
          "base_uri": "https://localhost:8080/",
          "height": 175
        },
        "id": "3Gtc1W3OVr08",
        "outputId": "f8c41230-445b-4a22-d01e-534b4edb5e26"
      },
      "outputs": [
        {
          "data": {
            "text/html": [
              "<div>\n",
              "<style scoped>\n",
              "    .dataframe tbody tr th:only-of-type {\n",
              "        vertical-align: middle;\n",
              "    }\n",
              "\n",
              "    .dataframe tbody tr th {\n",
              "        vertical-align: top;\n",
              "    }\n",
              "\n",
              "    .dataframe thead th {\n",
              "        text-align: right;\n",
              "    }\n",
              "</style>\n",
              "<table border=\"1\" class=\"dataframe\">\n",
              "  <thead>\n",
              "    <tr style=\"text-align: right;\">\n",
              "      <th></th>\n",
              "      <th>국어</th>\n",
              "      <th>영어</th>\n",
              "      <th>수학</th>\n",
              "    </tr>\n",
              "  </thead>\n",
              "  <tbody>\n",
              "    <tr>\n",
              "      <th>A</th>\n",
              "      <td>합격</td>\n",
              "      <td>합격</td>\n",
              "      <td>합격</td>\n",
              "    </tr>\n",
              "    <tr>\n",
              "      <th>B</th>\n",
              "      <td>79</td>\n",
              "      <td>합격</td>\n",
              "      <td>합격</td>\n",
              "    </tr>\n",
              "    <tr>\n",
              "      <th>C</th>\n",
              "      <td>합격</td>\n",
              "      <td>합격</td>\n",
              "      <td>73</td>\n",
              "    </tr>\n",
              "    <tr>\n",
              "      <th>D</th>\n",
              "      <td>합격</td>\n",
              "      <td>합격</td>\n",
              "      <td>합격</td>\n",
              "    </tr>\n",
              "  </tbody>\n",
              "</table>\n",
              "</div>"
            ],
            "text/plain": [
              "   국어  영어  수학\n",
              "A  합격  합격  합격\n",
              "B  79  합격  합격\n",
              "C  합격  합격  73\n",
              "D  합격  합격  합격"
            ]
          },
          "execution_count": 29,
          "metadata": {},
          "output_type": "execute_result"
        }
      ],
      "source": [
        "# 데이터프레임에 mask를 적용해 80보다 큰 데이터를 합격으로 바꾸기\n",
        "cond1 = df > 80\n",
        "df.mask(cond1, '합격')"
      ]
    },
    {
      "cell_type": "code",
      "execution_count": 30,
      "metadata": {
        "colab": {
          "base_uri": "https://localhost:8080/",
          "height": 175
        },
        "id": "zlLX6C9hWY_3",
        "outputId": "bba53436-0eb2-4920-c06b-ad84df634c4c"
      },
      "outputs": [
        {
          "data": {
            "text/html": [
              "<div>\n",
              "<style scoped>\n",
              "    .dataframe tbody tr th:only-of-type {\n",
              "        vertical-align: middle;\n",
              "    }\n",
              "\n",
              "    .dataframe tbody tr th {\n",
              "        vertical-align: top;\n",
              "    }\n",
              "\n",
              "    .dataframe thead th {\n",
              "        text-align: right;\n",
              "    }\n",
              "</style>\n",
              "<table border=\"1\" class=\"dataframe\">\n",
              "  <thead>\n",
              "    <tr style=\"text-align: right;\">\n",
              "      <th></th>\n",
              "      <th>국어</th>\n",
              "      <th>영어</th>\n",
              "      <th>수학</th>\n",
              "    </tr>\n",
              "  </thead>\n",
              "  <tbody>\n",
              "    <tr>\n",
              "      <th>A</th>\n",
              "      <td>합격</td>\n",
              "      <td>합격</td>\n",
              "      <td>합격</td>\n",
              "    </tr>\n",
              "    <tr>\n",
              "      <th>B</th>\n",
              "      <td>불합격</td>\n",
              "      <td>합격</td>\n",
              "      <td>합격</td>\n",
              "    </tr>\n",
              "    <tr>\n",
              "      <th>C</th>\n",
              "      <td>합격</td>\n",
              "      <td>합격</td>\n",
              "      <td>불합격</td>\n",
              "    </tr>\n",
              "    <tr>\n",
              "      <th>D</th>\n",
              "      <td>합격</td>\n",
              "      <td>합격</td>\n",
              "      <td>합격</td>\n",
              "    </tr>\n",
              "  </tbody>\n",
              "</table>\n",
              "</div>"
            ],
            "text/plain": [
              "    국어  영어   수학\n",
              "A   합격  합격   합격\n",
              "B  불합격  합격   합격\n",
              "C   합격  합격  불합격\n",
              "D   합격  합격   합격"
            ]
          },
          "execution_count": 30,
          "metadata": {},
          "output_type": "execute_result"
        }
      ],
      "source": [
        "# 80보다 큰 데이터는 합격 80보다 작은 데이터는 불합격\n",
        "df.mask(cond1, '합격').mask(~cond1, '불합격')"
      ]
    },
    {
      "cell_type": "code",
      "execution_count": 31,
      "metadata": {
        "colab": {
          "base_uri": "https://localhost:8080/",
          "height": 175
        },
        "id": "EssIN2dZW0pD",
        "outputId": "636b2818-e925-4f03-e2ae-5351f66125ac"
      },
      "outputs": [
        {
          "data": {
            "text/html": [
              "<div>\n",
              "<style scoped>\n",
              "    .dataframe tbody tr th:only-of-type {\n",
              "        vertical-align: middle;\n",
              "    }\n",
              "\n",
              "    .dataframe tbody tr th {\n",
              "        vertical-align: top;\n",
              "    }\n",
              "\n",
              "    .dataframe thead th {\n",
              "        text-align: right;\n",
              "    }\n",
              "</style>\n",
              "<table border=\"1\" class=\"dataframe\">\n",
              "  <thead>\n",
              "    <tr style=\"text-align: right;\">\n",
              "      <th></th>\n",
              "      <th>국어</th>\n",
              "      <th>영어</th>\n",
              "      <th>수학</th>\n",
              "    </tr>\n",
              "  </thead>\n",
              "  <tbody>\n",
              "    <tr>\n",
              "      <th>A</th>\n",
              "      <td>85</td>\n",
              "      <td>96</td>\n",
              "      <td>94</td>\n",
              "    </tr>\n",
              "    <tr>\n",
              "      <th>B</th>\n",
              "      <td>불합격</td>\n",
              "      <td>87</td>\n",
              "      <td>94</td>\n",
              "    </tr>\n",
              "    <tr>\n",
              "      <th>C</th>\n",
              "      <td>93</td>\n",
              "      <td>85</td>\n",
              "      <td>73</td>\n",
              "    </tr>\n",
              "    <tr>\n",
              "      <th>D</th>\n",
              "      <td>81</td>\n",
              "      <td>84</td>\n",
              "      <td>88</td>\n",
              "    </tr>\n",
              "  </tbody>\n",
              "</table>\n",
              "</div>"
            ],
            "text/plain": [
              "    국어  영어  수학\n",
              "A   85  96  94\n",
              "B  불합격  87  94\n",
              "C   93  85  73\n",
              "D   81  84  88"
            ]
          },
          "execution_count": 31,
          "metadata": {},
          "output_type": "execute_result"
        }
      ],
      "source": [
        "# 시리즈에 mask 함수 적용해 국어열 수정하기\n",
        "df1 = df.copy()\n",
        "cond2 = df1['국어'] <= 80\n",
        "df1['국어'] = df1['국어'].mask(cond2, '불합격')\n",
        "df1"
      ]
    },
    {
      "cell_type": "code",
      "execution_count": 32,
      "metadata": {
        "colab": {
          "base_uri": "https://localhost:8080/",
          "height": 175
        },
        "id": "_wPWFdBuXyED",
        "outputId": "ec482f3b-9fd2-406d-bab1-dd81da576d95"
      },
      "outputs": [
        {
          "data": {
            "text/html": [
              "<div>\n",
              "<style scoped>\n",
              "    .dataframe tbody tr th:only-of-type {\n",
              "        vertical-align: middle;\n",
              "    }\n",
              "\n",
              "    .dataframe tbody tr th {\n",
              "        vertical-align: top;\n",
              "    }\n",
              "\n",
              "    .dataframe thead th {\n",
              "        text-align: right;\n",
              "    }\n",
              "</style>\n",
              "<table border=\"1\" class=\"dataframe\">\n",
              "  <thead>\n",
              "    <tr style=\"text-align: right;\">\n",
              "      <th></th>\n",
              "      <th>국어</th>\n",
              "      <th>영어</th>\n",
              "      <th>수학</th>\n",
              "    </tr>\n",
              "  </thead>\n",
              "  <tbody>\n",
              "    <tr>\n",
              "      <th>A</th>\n",
              "      <td>합격</td>\n",
              "      <td>96</td>\n",
              "      <td>94</td>\n",
              "    </tr>\n",
              "    <tr>\n",
              "      <th>B</th>\n",
              "      <td>불합격</td>\n",
              "      <td>87</td>\n",
              "      <td>94</td>\n",
              "    </tr>\n",
              "    <tr>\n",
              "      <th>C</th>\n",
              "      <td>합격</td>\n",
              "      <td>85</td>\n",
              "      <td>73</td>\n",
              "    </tr>\n",
              "    <tr>\n",
              "      <th>D</th>\n",
              "      <td>합격</td>\n",
              "      <td>84</td>\n",
              "      <td>88</td>\n",
              "    </tr>\n",
              "  </tbody>\n",
              "</table>\n",
              "</div>"
            ],
            "text/plain": [
              "    국어  영어  수학\n",
              "A   합격  96  94\n",
              "B  불합격  87  94\n",
              "C   합격  85  73\n",
              "D   합격  84  88"
            ]
          },
          "execution_count": 32,
          "metadata": {},
          "output_type": "execute_result"
        }
      ],
      "source": [
        "# 다시 df와 같은 원본으로 실습해 80이하는 불합격 80이상은 합격으로\n",
        "df1 = df.copy()\n",
        "df1['국어'] = df1['국어'].mask(cond2, '불합격').mask(~cond2, '합격')\n",
        "df1"
      ]
    },
    {
      "cell_type": "code",
      "execution_count": 33,
      "metadata": {
        "colab": {
          "base_uri": "https://localhost:8080/",
          "height": 175
        },
        "id": "3-78kPWmYDhm",
        "outputId": "025e83d3-3e0f-4978-cfae-8fe25161a821"
      },
      "outputs": [
        {
          "data": {
            "text/html": [
              "<div>\n",
              "<style scoped>\n",
              "    .dataframe tbody tr th:only-of-type {\n",
              "        vertical-align: middle;\n",
              "    }\n",
              "\n",
              "    .dataframe tbody tr th {\n",
              "        vertical-align: top;\n",
              "    }\n",
              "\n",
              "    .dataframe thead th {\n",
              "        text-align: right;\n",
              "    }\n",
              "</style>\n",
              "<table border=\"1\" class=\"dataframe\">\n",
              "  <thead>\n",
              "    <tr style=\"text-align: right;\">\n",
              "      <th></th>\n",
              "      <th>국어</th>\n",
              "      <th>영어</th>\n",
              "      <th>수학</th>\n",
              "      <th>국어성적</th>\n",
              "    </tr>\n",
              "  </thead>\n",
              "  <tbody>\n",
              "    <tr>\n",
              "      <th>A</th>\n",
              "      <td>85</td>\n",
              "      <td>96</td>\n",
              "      <td>94</td>\n",
              "      <td>합격</td>\n",
              "    </tr>\n",
              "    <tr>\n",
              "      <th>B</th>\n",
              "      <td>79</td>\n",
              "      <td>87</td>\n",
              "      <td>94</td>\n",
              "      <td>불합격</td>\n",
              "    </tr>\n",
              "    <tr>\n",
              "      <th>C</th>\n",
              "      <td>93</td>\n",
              "      <td>85</td>\n",
              "      <td>73</td>\n",
              "      <td>합격</td>\n",
              "    </tr>\n",
              "    <tr>\n",
              "      <th>D</th>\n",
              "      <td>81</td>\n",
              "      <td>84</td>\n",
              "      <td>88</td>\n",
              "      <td>합격</td>\n",
              "    </tr>\n",
              "  </tbody>\n",
              "</table>\n",
              "</div>"
            ],
            "text/plain": [
              "   국어  영어  수학 국어성적\n",
              "A  85  96  94   합격\n",
              "B  79  87  94  불합격\n",
              "C  93  85  73   합격\n",
              "D  81  84  88   합격"
            ]
          },
          "execution_count": 33,
          "metadata": {},
          "output_type": "execute_result"
        }
      ],
      "source": [
        "# 다시 df와 같은 원본으로 실습하고 위 결과를 별도의 열로 만들기\n",
        "df1 = df.copy()\n",
        "df1['국어성적'] = df1['국어'].mask(cond2, '불합격').mask(~cond2, '합격')\n",
        "df1"
      ]
    },
    {
      "cell_type": "code",
      "execution_count": 34,
      "metadata": {
        "colab": {
          "base_uri": "https://localhost:8080/",
          "height": 175
        },
        "id": "O2NaJbs1XXLG",
        "outputId": "b99e6ee1-7274-4d80-a9a9-d038cb31fd57"
      },
      "outputs": [
        {
          "data": {
            "text/html": [
              "<div>\n",
              "<style scoped>\n",
              "    .dataframe tbody tr th:only-of-type {\n",
              "        vertical-align: middle;\n",
              "    }\n",
              "\n",
              "    .dataframe tbody tr th {\n",
              "        vertical-align: top;\n",
              "    }\n",
              "\n",
              "    .dataframe thead th {\n",
              "        text-align: right;\n",
              "    }\n",
              "</style>\n",
              "<table border=\"1\" class=\"dataframe\">\n",
              "  <thead>\n",
              "    <tr style=\"text-align: right;\">\n",
              "      <th></th>\n",
              "      <th>국어</th>\n",
              "      <th>영어</th>\n",
              "      <th>수학</th>\n",
              "      <th>국어성적</th>\n",
              "    </tr>\n",
              "  </thead>\n",
              "  <tbody>\n",
              "    <tr>\n",
              "      <th>A</th>\n",
              "      <td>85</td>\n",
              "      <td>96</td>\n",
              "      <td>94</td>\n",
              "      <td>합격</td>\n",
              "    </tr>\n",
              "    <tr>\n",
              "      <th>B</th>\n",
              "      <td>79</td>\n",
              "      <td>87</td>\n",
              "      <td>94</td>\n",
              "      <td>불합격</td>\n",
              "    </tr>\n",
              "    <tr>\n",
              "      <th>C</th>\n",
              "      <td>93</td>\n",
              "      <td>85</td>\n",
              "      <td>73</td>\n",
              "      <td>합격</td>\n",
              "    </tr>\n",
              "    <tr>\n",
              "      <th>D</th>\n",
              "      <td>81</td>\n",
              "      <td>84</td>\n",
              "      <td>88</td>\n",
              "      <td>합격</td>\n",
              "    </tr>\n",
              "  </tbody>\n",
              "</table>\n",
              "</div>"
            ],
            "text/plain": [
              "   국어  영어  수학 국어성적\n",
              "A  85  96  94   합격\n",
              "B  79  87  94  불합격\n",
              "C  93  85  73   합격\n",
              "D  81  84  88   합격"
            ]
          },
          "execution_count": 34,
          "metadata": {},
          "output_type": "execute_result"
        }
      ],
      "source": [
        "# numpy 함수 np.where으로도 가능하다\n",
        "import numpy as np\n",
        "df1 = df.copy()\n",
        "df1['국어성적'] = np.where(cond2, '불합격','합격')\n",
        "df1"
      ]
    },
    {
      "cell_type": "code",
      "execution_count": 35,
      "metadata": {
        "colab": {
          "base_uri": "https://localhost:8080/",
          "height": 175
        },
        "id": "SaVYgBxsshTm",
        "outputId": "3fe43575-d5ba-4482-bb54-2d03284efaa1"
      },
      "outputs": [
        {
          "data": {
            "text/html": [
              "<div>\n",
              "<style scoped>\n",
              "    .dataframe tbody tr th:only-of-type {\n",
              "        vertical-align: middle;\n",
              "    }\n",
              "\n",
              "    .dataframe tbody tr th {\n",
              "        vertical-align: top;\n",
              "    }\n",
              "\n",
              "    .dataframe thead th {\n",
              "        text-align: right;\n",
              "    }\n",
              "</style>\n",
              "<table border=\"1\" class=\"dataframe\">\n",
              "  <thead>\n",
              "    <tr style=\"text-align: right;\">\n",
              "      <th></th>\n",
              "      <th>국어</th>\n",
              "      <th>영어</th>\n",
              "      <th>수학</th>\n",
              "    </tr>\n",
              "  </thead>\n",
              "  <tbody>\n",
              "    <tr>\n",
              "      <th>A</th>\n",
              "      <td>96</td>\n",
              "      <td>96</td>\n",
              "      <td>94</td>\n",
              "    </tr>\n",
              "    <tr>\n",
              "      <th>B</th>\n",
              "      <td>87</td>\n",
              "      <td>87</td>\n",
              "      <td>94</td>\n",
              "    </tr>\n",
              "    <tr>\n",
              "      <th>C</th>\n",
              "      <td>93</td>\n",
              "      <td>85</td>\n",
              "      <td>73</td>\n",
              "    </tr>\n",
              "    <tr>\n",
              "      <th>D</th>\n",
              "      <td>84</td>\n",
              "      <td>84</td>\n",
              "      <td>88</td>\n",
              "    </tr>\n",
              "  </tbody>\n",
              "</table>\n",
              "</div>"
            ],
            "text/plain": [
              "   국어  영어  수학\n",
              "A  96  96  94\n",
              "B  87  87  94\n",
              "C  93  85  73\n",
              "D  84  84  88"
            ]
          },
          "execution_count": 35,
          "metadata": {},
          "output_type": "execute_result"
        }
      ],
      "source": [
        "# other에 시리즈도 넣을 수 있으니 각자 실습해보자  \n",
        "df1 = df.copy()\n",
        "cond3 = df1['영어'] > df1['국어']\n",
        "df1['국어'] = df1['국어'].mask(cond3, df1['영어'])\n",
        "df1 # 영어 점수가 국어 점수보다 크면 영어 점수로 국어 점수를 대체한 df1"
      ]
    },
    {
      "cell_type": "markdown",
      "metadata": {
        "id": "ja0jcmLssWCs"
      },
      "source": [
        "**프로젝트에서 불리언 마스킹(boolean masking)을 해보자**\n",
        "\n",
        "점수가 40점 초과라면 패스, 40점 이하라면 낙제를 갖는 비고열을 만들어보자"
      ]
    },
    {
      "cell_type": "code",
      "execution_count": 36,
      "metadata": {
        "colab": {
          "base_uri": "https://localhost:8080/",
          "height": 298
        },
        "id": "c8Cgvc-MqSiX",
        "outputId": "9768b138-c1fa-4591-c852-c1d348f5ac0a"
      },
      "outputs": [
        {
          "data": {
            "text/html": [
              "<div>\n",
              "<style scoped>\n",
              "    .dataframe tbody tr th:only-of-type {\n",
              "        vertical-align: middle;\n",
              "    }\n",
              "\n",
              "    .dataframe tbody tr th {\n",
              "        vertical-align: top;\n",
              "    }\n",
              "\n",
              "    .dataframe thead th {\n",
              "        text-align: right;\n",
              "    }\n",
              "</style>\n",
              "<table border=\"1\" class=\"dataframe\">\n",
              "  <thead>\n",
              "    <tr style=\"text-align: right;\">\n",
              "      <th></th>\n",
              "      <th>이름</th>\n",
              "      <th>점수</th>\n",
              "      <th>등수</th>\n",
              "    </tr>\n",
              "  </thead>\n",
              "  <tbody>\n",
              "    <tr>\n",
              "      <th>0</th>\n",
              "      <td>노성빈</td>\n",
              "      <td>22</td>\n",
              "      <td>94</td>\n",
              "    </tr>\n",
              "    <tr>\n",
              "      <th>1</th>\n",
              "      <td>문주용</td>\n",
              "      <td>52</td>\n",
              "      <td>49</td>\n",
              "    </tr>\n",
              "    <tr>\n",
              "      <th>2</th>\n",
              "      <td>최태주</td>\n",
              "      <td>71</td>\n",
              "      <td>19</td>\n",
              "    </tr>\n",
              "    <tr>\n",
              "      <th>...</th>\n",
              "      <td>...</td>\n",
              "      <td>...</td>\n",
              "      <td>...</td>\n",
              "    </tr>\n",
              "    <tr>\n",
              "      <th>97</th>\n",
              "      <td>지도훈</td>\n",
              "      <td>24</td>\n",
              "      <td>90</td>\n",
              "    </tr>\n",
              "    <tr>\n",
              "      <th>98</th>\n",
              "      <td>류형석</td>\n",
              "      <td>41</td>\n",
              "      <td>69</td>\n",
              "    </tr>\n",
              "    <tr>\n",
              "      <th>99</th>\n",
              "      <td>유남길</td>\n",
              "      <td>67</td>\n",
              "      <td>24</td>\n",
              "    </tr>\n",
              "  </tbody>\n",
              "</table>\n",
              "<p>100 rows × 3 columns</p>\n",
              "</div>"
            ],
            "text/plain": [
              "     이름  점수  등수\n",
              "0   노성빈  22  94\n",
              "1   문주용  52  49\n",
              "2   최태주  71  19\n",
              "..  ...  ..  ..\n",
              "97  지도훈  24  90\n",
              "98  류형석  41  69\n",
              "99  유남길  67  24\n",
              "\n",
              "[100 rows x 3 columns]"
            ]
          },
          "execution_count": 36,
          "metadata": {},
          "output_type": "execute_result"
        }
      ],
      "source": [
        "# 프로젝트 코드\n",
        "import pandas as pd\n",
        "pd.options.display.max_rows = 6 \n",
        "url = './04_01_score.csv'\n",
        "df_ex1 = pd.read_csv(url)\n",
        "df_ex1['등수'] = df_ex1['점수'].rank(method='min', ascending=False).astype('int')\n",
        "df_ex1"
      ]
    },
    {
      "cell_type": "code",
      "execution_count": 37,
      "metadata": {
        "colab": {
          "base_uri": "https://localhost:8080/",
          "height": 298
        },
        "id": "IH_s2rcVdNKt",
        "outputId": "5c32dabd-fa66-4d63-d289-a02b21e91d7a"
      },
      "outputs": [
        {
          "data": {
            "text/html": [
              "<div>\n",
              "<style scoped>\n",
              "    .dataframe tbody tr th:only-of-type {\n",
              "        vertical-align: middle;\n",
              "    }\n",
              "\n",
              "    .dataframe tbody tr th {\n",
              "        vertical-align: top;\n",
              "    }\n",
              "\n",
              "    .dataframe thead th {\n",
              "        text-align: right;\n",
              "    }\n",
              "</style>\n",
              "<table border=\"1\" class=\"dataframe\">\n",
              "  <thead>\n",
              "    <tr style=\"text-align: right;\">\n",
              "      <th></th>\n",
              "      <th>이름</th>\n",
              "      <th>점수</th>\n",
              "      <th>등수</th>\n",
              "      <th>비고</th>\n",
              "    </tr>\n",
              "  </thead>\n",
              "  <tbody>\n",
              "    <tr>\n",
              "      <th>0</th>\n",
              "      <td>노성빈</td>\n",
              "      <td>22</td>\n",
              "      <td>94</td>\n",
              "      <td>낙제</td>\n",
              "    </tr>\n",
              "    <tr>\n",
              "      <th>1</th>\n",
              "      <td>문주용</td>\n",
              "      <td>52</td>\n",
              "      <td>49</td>\n",
              "      <td>패스</td>\n",
              "    </tr>\n",
              "    <tr>\n",
              "      <th>2</th>\n",
              "      <td>최태주</td>\n",
              "      <td>71</td>\n",
              "      <td>19</td>\n",
              "      <td>패스</td>\n",
              "    </tr>\n",
              "    <tr>\n",
              "      <th>...</th>\n",
              "      <td>...</td>\n",
              "      <td>...</td>\n",
              "      <td>...</td>\n",
              "      <td>...</td>\n",
              "    </tr>\n",
              "    <tr>\n",
              "      <th>97</th>\n",
              "      <td>지도훈</td>\n",
              "      <td>24</td>\n",
              "      <td>90</td>\n",
              "      <td>낙제</td>\n",
              "    </tr>\n",
              "    <tr>\n",
              "      <th>98</th>\n",
              "      <td>류형석</td>\n",
              "      <td>41</td>\n",
              "      <td>69</td>\n",
              "      <td>패스</td>\n",
              "    </tr>\n",
              "    <tr>\n",
              "      <th>99</th>\n",
              "      <td>유남길</td>\n",
              "      <td>67</td>\n",
              "      <td>24</td>\n",
              "      <td>패스</td>\n",
              "    </tr>\n",
              "  </tbody>\n",
              "</table>\n",
              "<p>100 rows × 4 columns</p>\n",
              "</div>"
            ],
            "text/plain": [
              "     이름  점수  등수  비고\n",
              "0   노성빈  22  94  낙제\n",
              "1   문주용  52  49  패스\n",
              "2   최태주  71  19  패스\n",
              "..  ...  ..  ..  ..\n",
              "97  지도훈  24  90  낙제\n",
              "98  류형석  41  69  패스\n",
              "99  유남길  67  24  패스\n",
              "\n",
              "[100 rows x 4 columns]"
            ]
          },
          "execution_count": 37,
          "metadata": {},
          "output_type": "execute_result"
        }
      ],
      "source": [
        "# 점수가 40이하면 낙제 40초과면 패스인 비고 열을 만들자\n",
        "cond1 = df_ex1['점수'] > 40\n",
        "df_ex1['비고'] = df_ex1['점수'].mask(cond1, '패스').mask(~cond1, '낙제')\n",
        "df_ex1"
      ]
    },
    {
      "cell_type": "code",
      "execution_count": 38,
      "metadata": {
        "colab": {
          "base_uri": "https://localhost:8080/",
          "height": 298
        },
        "id": "h0bdIvxNdmVt",
        "outputId": "c855e672-2906-4b98-ba5e-802ba38a7858"
      },
      "outputs": [
        {
          "data": {
            "text/html": [
              "<div>\n",
              "<style scoped>\n",
              "    .dataframe tbody tr th:only-of-type {\n",
              "        vertical-align: middle;\n",
              "    }\n",
              "\n",
              "    .dataframe tbody tr th {\n",
              "        vertical-align: top;\n",
              "    }\n",
              "\n",
              "    .dataframe thead th {\n",
              "        text-align: right;\n",
              "    }\n",
              "</style>\n",
              "<table border=\"1\" class=\"dataframe\">\n",
              "  <thead>\n",
              "    <tr style=\"text-align: right;\">\n",
              "      <th></th>\n",
              "      <th>이름</th>\n",
              "      <th>점수</th>\n",
              "      <th>등수</th>\n",
              "      <th>비고</th>\n",
              "    </tr>\n",
              "  </thead>\n",
              "  <tbody>\n",
              "    <tr>\n",
              "      <th>0</th>\n",
              "      <td>노성빈</td>\n",
              "      <td>22</td>\n",
              "      <td>94</td>\n",
              "      <td>낙제</td>\n",
              "    </tr>\n",
              "    <tr>\n",
              "      <th>1</th>\n",
              "      <td>문주용</td>\n",
              "      <td>52</td>\n",
              "      <td>49</td>\n",
              "      <td>패스</td>\n",
              "    </tr>\n",
              "    <tr>\n",
              "      <th>2</th>\n",
              "      <td>최태주</td>\n",
              "      <td>71</td>\n",
              "      <td>19</td>\n",
              "      <td>패스</td>\n",
              "    </tr>\n",
              "    <tr>\n",
              "      <th>...</th>\n",
              "      <td>...</td>\n",
              "      <td>...</td>\n",
              "      <td>...</td>\n",
              "      <td>...</td>\n",
              "    </tr>\n",
              "    <tr>\n",
              "      <th>97</th>\n",
              "      <td>지도훈</td>\n",
              "      <td>24</td>\n",
              "      <td>90</td>\n",
              "      <td>낙제</td>\n",
              "    </tr>\n",
              "    <tr>\n",
              "      <th>98</th>\n",
              "      <td>류형석</td>\n",
              "      <td>41</td>\n",
              "      <td>69</td>\n",
              "      <td>패스</td>\n",
              "    </tr>\n",
              "    <tr>\n",
              "      <th>99</th>\n",
              "      <td>유남길</td>\n",
              "      <td>67</td>\n",
              "      <td>24</td>\n",
              "      <td>패스</td>\n",
              "    </tr>\n",
              "  </tbody>\n",
              "</table>\n",
              "<p>100 rows × 4 columns</p>\n",
              "</div>"
            ],
            "text/plain": [
              "     이름  점수  등수  비고\n",
              "0   노성빈  22  94  낙제\n",
              "1   문주용  52  49  패스\n",
              "2   최태주  71  19  패스\n",
              "..  ...  ..  ..  ..\n",
              "97  지도훈  24  90  낙제\n",
              "98  류형석  41  69  패스\n",
              "99  유남길  67  24  패스\n",
              "\n",
              "[100 rows x 4 columns]"
            ]
          },
          "execution_count": 38,
          "metadata": {},
          "output_type": "execute_result"
        }
      ],
      "source": [
        "# np.where 함수를 사용하면 아래와 같이 가능하다\n",
        "import numpy as np\n",
        "df_ex1['비고'] = np.where(cond1, '패스', '낙제')\n",
        "df_ex1"
      ]
    },
    {
      "cell_type": "markdown",
      "metadata": {
        "id": "GtI85fm-d7GG"
      },
      "source": [
        "## 7. 범주화해서 학점 매기기(cut)"
      ]
    },
    {
      "cell_type": "markdown",
      "metadata": {},
      "source": [
        "### 학습 목표\n",
        "- 데이터를 구간으로 나누어 범주화한다. (`cut` 함수)"
      ]
    },
    {
      "cell_type": "markdown",
      "metadata": {
        "id": "nqnUORD7RhJM"
      },
      "source": [
        "학점과 같이 구간을 나눠서 특정 값을 부여하는 것은 [merge_asof](https://kimpanda.tistory.com/70) 함수나 [mask](https://kimpanda.tistory.com/82) 함수로 가능하지만 둘다 코드가 복잡해진다\n",
        "\n",
        "- 그럴 때 cut 함수를 사용하면 손쉽게 그룹을 나눠 범주화해서 학점을 매길 수 있다"
      ]
    },
    {
      "cell_type": "markdown",
      "metadata": {
        "id": "mqjULvPpQraL"
      },
      "source": [
        "> pandas cut\n",
        "\n",
        "<img src=https://i.ibb.co/fv6BWLp/04-07-1.png, width=600>\n",
        "\n",
        "숫자와 같은 데이터를 구간별로 나눠서 범주화(categorization)하는 함수\n",
        "\n",
        " \n",
        "\n",
        "**x** (인수는 배열)\n",
        "\n",
        "구간을 나눌 배열을 입력받는 인자. 반드시 1차원이어야 한다\n",
        "\n",
        " \n",
        "\n",
        " \n",
        "\n",
        "**bins** (인수는 정수, 순서의 배열)\n",
        "\n",
        "구간을 나누는 기준을 입력받는 인자\n",
        "\n",
        "- 정수 : 정수만큼의 균등한 구간으로 분할한다\n",
        "- 순서의 배열  : ex1) [0, 20, 40, 60] 이라면 0 ~ 20, 20 ~ 40, 40 ~ 60 까지의 3개의 구간으로 분할한다\n",
        " \n",
        "\n",
        "**right** (인수는 bool / 기본값은 True)\n",
        "\n",
        "구간에서 우측 경계를 포함할지 여부를 결정하는 인자\n",
        "\n",
        "- ex1의 경우에 True라면 우측 경계를 해당 구간에 포함하므로 0초과 20이하, 20초과 40이하, 40초과 60이하로 분할한다\n",
        "\n",
        " \n",
        "\n",
        " \n",
        "\n",
        "**labels** (인수는 배열 또는  False / 기본값은 None)\n",
        "\n",
        "구간의 레이블을 지정하는 인자.  False는 가장 왼쪽 구간부터 0, 1, 2, 3... 으로 레이블을 부여한다\n",
        "\n",
        "- 기본값은 구간의 경계를 구간의 레이블로 부여한다 \n",
        "\n",
        "- ex1의 경우라면 (0, 20], (20, 40], (40. 60] 으로 부여한다\n",
        "\n",
        "- 반드시 bins 인자로 나누어진 구간수와 같아야 한다\n",
        "\n",
        "[cut 판다스 공식문서](https://pandas.pydata.org/docs/reference/api/pandas.cut.html)\n",
        " "
      ]
    },
    {
      "cell_type": "code",
      "execution_count": 39,
      "metadata": {
        "colab": {
          "base_uri": "https://localhost:8080/"
        },
        "id": "ef1XmiBpvL0W",
        "outputId": "5e1b7c33-9dd4-466f-a6b3-bd6a56170d70"
      },
      "outputs": [
        {
          "data": {
            "text/plain": [
              "0    71\n",
              "1    92\n",
              "2    77\n",
              "3    70\n",
              "dtype: int64"
            ]
          },
          "execution_count": 39,
          "metadata": {},
          "output_type": "execute_result"
        }
      ],
      "source": [
        "# 실습 준비코드\n",
        "import pandas as pd\n",
        "s = pd.Series([71, 92, 77, 70])\n",
        "s"
      ]
    },
    {
      "cell_type": "code",
      "execution_count": 40,
      "metadata": {
        "colab": {
          "base_uri": "https://localhost:8080/"
        },
        "id": "S-Q5hzmJ3-WL",
        "outputId": "da491d9d-bf2e-4a6e-a669-61d625346d47"
      },
      "outputs": [
        {
          "data": {
            "text/plain": [
              "0     (70, 80]\n",
              "1    (90, 100]\n",
              "2     (70, 80]\n",
              "3      (0, 70]\n",
              "dtype: category\n",
              "Categories (4, interval[int64, right]): [(0, 70] < (70, 80] < (80, 90] < (90, 100]]"
            ]
          },
          "execution_count": 40,
          "metadata": {},
          "output_type": "execute_result"
        }
      ],
      "source": [
        "# 구간 분류하기\n",
        "pd.cut(s, [0, 70, 80, 90, 100]) #datatype:category"
      ]
    },
    {
      "cell_type": "code",
      "execution_count": 41,
      "metadata": {
        "colab": {
          "base_uri": "https://localhost:8080/"
        },
        "id": "XVmhXt12EBg8",
        "outputId": "e77c1b46-6a7f-49f9-8ea5-36aaecee9d75"
      },
      "outputs": [
        {
          "data": {
            "text/plain": [
              "0    1\n",
              "1    3\n",
              "2    1\n",
              "3    0\n",
              "dtype: int64"
            ]
          },
          "execution_count": 41,
          "metadata": {},
          "output_type": "execute_result"
        }
      ],
      "source": [
        "# 구간 분류해 레이블을 코드화 하기\n",
        "pd.cut(s, [0, 70, 80, 90, 100], labels=False)"
      ]
    },
    {
      "cell_type": "code",
      "execution_count": 42,
      "metadata": {
        "colab": {
          "base_uri": "https://localhost:8080/"
        },
        "id": "hmghvmzB4Vgi",
        "outputId": "e4e3b06d-c06e-474f-bf41-4176e9c4d3b9"
      },
      "outputs": [
        {
          "data": {
            "text/plain": [
              "0    C\n",
              "1    A\n",
              "2    C\n",
              "3    F\n",
              "dtype: category\n",
              "Categories (4, object): ['F' < 'C' < 'B' < 'A']"
            ]
          },
          "execution_count": 42,
          "metadata": {},
          "output_type": "execute_result"
        }
      ],
      "source": [
        "# 구간 분류해 지정한 레이블을 부여하기\n",
        "pd.cut(s, [0, 70, 80, 90, 100], labels=['F', 'C', 'B', 'A'])"
      ]
    },
    {
      "cell_type": "markdown",
      "metadata": {
        "id": "b-mzzFmG0t1d"
      },
      "source": [
        "**프로젝트에서 학점을 부여해보자**\n",
        "\n",
        "<img src=https://i.ibb.co/PC39Hvt/04-07-2.png, width=200>"
      ]
    },
    {
      "cell_type": "code",
      "execution_count": 43,
      "metadata": {
        "colab": {
          "base_uri": "https://localhost:8080/",
          "height": 298
        },
        "id": "-lG-28T06lXq",
        "outputId": "2d7acd8d-b73b-4c3d-defa-d55dd6e16a59"
      },
      "outputs": [
        {
          "data": {
            "text/html": [
              "<div>\n",
              "<style scoped>\n",
              "    .dataframe tbody tr th:only-of-type {\n",
              "        vertical-align: middle;\n",
              "    }\n",
              "\n",
              "    .dataframe tbody tr th {\n",
              "        vertical-align: top;\n",
              "    }\n",
              "\n",
              "    .dataframe thead th {\n",
              "        text-align: right;\n",
              "    }\n",
              "</style>\n",
              "<table border=\"1\" class=\"dataframe\">\n",
              "  <thead>\n",
              "    <tr style=\"text-align: right;\">\n",
              "      <th></th>\n",
              "      <th>이름</th>\n",
              "      <th>점수</th>\n",
              "      <th>등수</th>\n",
              "      <th>비고</th>\n",
              "    </tr>\n",
              "  </thead>\n",
              "  <tbody>\n",
              "    <tr>\n",
              "      <th>0</th>\n",
              "      <td>노성빈</td>\n",
              "      <td>22</td>\n",
              "      <td>94</td>\n",
              "      <td>낙제</td>\n",
              "    </tr>\n",
              "    <tr>\n",
              "      <th>1</th>\n",
              "      <td>문주용</td>\n",
              "      <td>52</td>\n",
              "      <td>49</td>\n",
              "      <td>패스</td>\n",
              "    </tr>\n",
              "    <tr>\n",
              "      <th>2</th>\n",
              "      <td>최태주</td>\n",
              "      <td>71</td>\n",
              "      <td>19</td>\n",
              "      <td>패스</td>\n",
              "    </tr>\n",
              "    <tr>\n",
              "      <th>...</th>\n",
              "      <td>...</td>\n",
              "      <td>...</td>\n",
              "      <td>...</td>\n",
              "      <td>...</td>\n",
              "    </tr>\n",
              "    <tr>\n",
              "      <th>97</th>\n",
              "      <td>지도훈</td>\n",
              "      <td>24</td>\n",
              "      <td>90</td>\n",
              "      <td>낙제</td>\n",
              "    </tr>\n",
              "    <tr>\n",
              "      <th>98</th>\n",
              "      <td>류형석</td>\n",
              "      <td>41</td>\n",
              "      <td>69</td>\n",
              "      <td>패스</td>\n",
              "    </tr>\n",
              "    <tr>\n",
              "      <th>99</th>\n",
              "      <td>유남길</td>\n",
              "      <td>67</td>\n",
              "      <td>24</td>\n",
              "      <td>패스</td>\n",
              "    </tr>\n",
              "  </tbody>\n",
              "</table>\n",
              "<p>100 rows × 4 columns</p>\n",
              "</div>"
            ],
            "text/plain": [
              "     이름  점수  등수  비고\n",
              "0   노성빈  22  94  낙제\n",
              "1   문주용  52  49  패스\n",
              "2   최태주  71  19  패스\n",
              "..  ...  ..  ..  ..\n",
              "97  지도훈  24  90  낙제\n",
              "98  류형석  41  69  패스\n",
              "99  유남길  67  24  패스\n",
              "\n",
              "[100 rows x 4 columns]"
            ]
          },
          "execution_count": 43,
          "metadata": {},
          "output_type": "execute_result"
        }
      ],
      "source": [
        "# 프로젝트 코드\n",
        "import pandas as pd\n",
        "pd.options.display.max_rows = 6 \n",
        "url = './04_01_score.csv'\n",
        "df_ex1 = pd.read_csv(url)\n",
        "df_ex1['등수'] = df_ex1['점수'].rank(method='min', ascending=False).astype('int')\n",
        "cond1 = df_ex1['점수'] > 40\n",
        "df_ex1['비고'] = df_ex1['점수'].mask(cond1, '패스').mask(~cond1, '낙제')\n",
        "df_ex1"
      ]
    },
    {
      "cell_type": "code",
      "execution_count": 44,
      "metadata": {
        "colab": {
          "base_uri": "https://localhost:8080/",
          "height": 298
        },
        "id": "8--W5weCiQBp",
        "outputId": "a0cdb023-b32e-4316-f149-83b88b7a9b96"
      },
      "outputs": [
        {
          "data": {
            "text/html": [
              "<div>\n",
              "<style scoped>\n",
              "    .dataframe tbody tr th:only-of-type {\n",
              "        vertical-align: middle;\n",
              "    }\n",
              "\n",
              "    .dataframe tbody tr th {\n",
              "        vertical-align: top;\n",
              "    }\n",
              "\n",
              "    .dataframe thead th {\n",
              "        text-align: right;\n",
              "    }\n",
              "</style>\n",
              "<table border=\"1\" class=\"dataframe\">\n",
              "  <thead>\n",
              "    <tr style=\"text-align: right;\">\n",
              "      <th></th>\n",
              "      <th>이름</th>\n",
              "      <th>점수</th>\n",
              "      <th>등수</th>\n",
              "      <th>비고</th>\n",
              "      <th>학점</th>\n",
              "    </tr>\n",
              "  </thead>\n",
              "  <tbody>\n",
              "    <tr>\n",
              "      <th>0</th>\n",
              "      <td>노성빈</td>\n",
              "      <td>22</td>\n",
              "      <td>94</td>\n",
              "      <td>낙제</td>\n",
              "      <td>F</td>\n",
              "    </tr>\n",
              "    <tr>\n",
              "      <th>1</th>\n",
              "      <td>문주용</td>\n",
              "      <td>52</td>\n",
              "      <td>49</td>\n",
              "      <td>패스</td>\n",
              "      <td>C</td>\n",
              "    </tr>\n",
              "    <tr>\n",
              "      <th>2</th>\n",
              "      <td>최태주</td>\n",
              "      <td>71</td>\n",
              "      <td>19</td>\n",
              "      <td>패스</td>\n",
              "      <td>A</td>\n",
              "    </tr>\n",
              "    <tr>\n",
              "      <th>...</th>\n",
              "      <td>...</td>\n",
              "      <td>...</td>\n",
              "      <td>...</td>\n",
              "      <td>...</td>\n",
              "      <td>...</td>\n",
              "    </tr>\n",
              "    <tr>\n",
              "      <th>97</th>\n",
              "      <td>지도훈</td>\n",
              "      <td>24</td>\n",
              "      <td>90</td>\n",
              "      <td>낙제</td>\n",
              "      <td>F</td>\n",
              "    </tr>\n",
              "    <tr>\n",
              "      <th>98</th>\n",
              "      <td>류형석</td>\n",
              "      <td>41</td>\n",
              "      <td>69</td>\n",
              "      <td>패스</td>\n",
              "      <td>D</td>\n",
              "    </tr>\n",
              "    <tr>\n",
              "      <th>99</th>\n",
              "      <td>유남길</td>\n",
              "      <td>67</td>\n",
              "      <td>24</td>\n",
              "      <td>패스</td>\n",
              "      <td>B</td>\n",
              "    </tr>\n",
              "  </tbody>\n",
              "</table>\n",
              "<p>100 rows × 5 columns</p>\n",
              "</div>"
            ],
            "text/plain": [
              "     이름  점수  등수  비고 학점\n",
              "0   노성빈  22  94  낙제  F\n",
              "1   문주용  52  49  패스  C\n",
              "2   최태주  71  19  패스  A\n",
              "..  ...  ..  ..  .. ..\n",
              "97  지도훈  24  90  낙제  F\n",
              "98  류형석  41  69  패스  D\n",
              "99  유남길  67  24  패스  B\n",
              "\n",
              "[100 rows x 5 columns]"
            ]
          },
          "execution_count": 44,
          "metadata": {},
          "output_type": "execute_result"
        }
      ],
      "source": [
        "# 학점 열 만들기\n",
        "df_ex1['학점'] = pd.cut(df_ex1['점수'], bins=[0, 40, 50, 60, 70, 80], labels=['F', 'D', 'C', 'B', 'A'])\n",
        "df_ex1"
      ]
    },
    {
      "cell_type": "markdown",
      "metadata": {
        "id": "_D__WMkfibSG"
      },
      "source": [
        "## 8. category 자료형"
      ]
    },
    {
      "cell_type": "markdown",
      "metadata": {
        "id": "11Zps1XgWyP2"
      },
      "source": [
        "pandas에는 category 자료형을 다루는 수많은 함수와 속성(attribute)이 있다\n",
        "\n",
        "처음 판다스를 배우면 category에 대해서 얼마만큼 공부해야할지 고민이 되는 부분이다\n",
        "\n",
        "category 자료형을 사용하는 주 목적은 아래와 같으니 해당 목적이 필요할 때 공부하면 된다\n",
        "\n",
        "\n",
        "<img src=https://i.ibb.co/W0Zw2hj/04-08.png, width=500>\n",
        "\n",
        "category 자료형은 판다스 입문자용이 아니고 숙련자를 위한 자료형이니 느긋하게 마음을 갖기 바란다"
      ]
    },
    {
      "cell_type": "code",
      "execution_count": 45,
      "metadata": {
        "colab": {
          "base_uri": "https://localhost:8080/"
        },
        "id": "dNktFdXXfU8a",
        "outputId": "2d5d3fb4-e496-4bfe-a7ea-c3827c47008c"
      },
      "outputs": [
        {
          "data": {
            "text/plain": [
              "0            S\n",
              "1            M\n",
              "2           XL\n",
              "            ..\n",
              "29999997     S\n",
              "29999998     M\n",
              "29999999    XL\n",
              "Length: 30000000, dtype: object"
            ]
          },
          "execution_count": 45,
          "metadata": {},
          "output_type": "execute_result"
        }
      ],
      "source": [
        "# 수업 준비코드\n",
        "import pandas as pd\n",
        "pd.options.display.max_rows = 6 \n",
        "s = pd.Series(['S', 'M', 'XL']*10000000)\n",
        "s"
      ]
    },
    {
      "cell_type": "code",
      "execution_count": 46,
      "metadata": {
        "colab": {
          "base_uri": "https://localhost:8080/"
        },
        "id": "30l6TIHMfxQW",
        "outputId": "10c773a0-ca11-4605-e82c-ad7b30c201f3"
      },
      "outputs": [
        {
          "name": "stdout",
          "output_type": "stream",
          "text": [
            "240000128\n",
            "30000260\n"
          ]
        }
      ],
      "source": [
        "# category 자료형은 메모리를 크게 절약해준다\n",
        "print(s.memory_usage())\n",
        "print(s.astype('category').memory_usage())"
      ]
    },
    {
      "cell_type": "code",
      "execution_count": 47,
      "metadata": {
        "colab": {
          "base_uri": "https://localhost:8080/"
        },
        "id": "WI6zvxs0hIhL",
        "outputId": "15e77aad-aa78-406c-aa00-e2669a0b1662"
      },
      "outputs": [
        {
          "data": {
            "text/plain": [
              "0            S\n",
              "1            M\n",
              "2           XL\n",
              "            ..\n",
              "29999997     S\n",
              "29999998     M\n",
              "29999999    XL\n",
              "Length: 30000000, dtype: category\n",
              "Categories (3, object): ['S' < 'M' < 'XL']"
            ]
          },
          "execution_count": 47,
          "metadata": {},
          "output_type": "execute_result"
        }
      ],
      "source": [
        "# Categorical 함수로 category 자료형으로 바꾸면 순서를 부여할 수 있다\n",
        "s1 = pd.Series(pd.Categorical(s, categories=['S', 'M', 'XL'], ordered=True))\n",
        "s1"
      ]
    },
    {
      "cell_type": "code",
      "execution_count": 48,
      "metadata": {
        "colab": {
          "base_uri": "https://localhost:8080/"
        },
        "id": "DMghdfOFWFbz",
        "outputId": "cb4dd1db-6747-4abf-d9dd-820cb8c466bb"
      },
      "outputs": [
        {
          "data": {
            "text/plain": [
              "0            S\n",
              "8486343      S\n",
              "27171216     S\n",
              "            ..\n",
              "15000020    XL\n",
              "15000026    XL\n",
              "29999999    XL\n",
              "Length: 30000000, dtype: category\n",
              "Categories (3, object): ['S' < 'M' < 'XL']"
            ]
          },
          "execution_count": 48,
          "metadata": {},
          "output_type": "execute_result"
        }
      ],
      "source": [
        "# s1을 S와 M, XL 순서로 정렬가능(알파벳 순서로는 오름, 내림차순 모두 불가능)\n",
        "s1.sort_values()"
      ]
    },
    {
      "cell_type": "markdown",
      "metadata": {
        "id": "pz3aP8cJsiJV"
      },
      "source": [
        "## 9. 빈도수 파악하기(value_counts) 및 시각화(plot)"
      ]
    },
    {
      "cell_type": "markdown",
      "metadata": {},
      "source": [
        "### 학습 목표\n",
        "- 데이터 프레임과 시리즈에서 빈도수를 파악한다. (`value_counts` 함수)\n",
        "- 데이터 프레임과 시리즈에서 인덱스를 정렬한다. (`sort_index` 함수)\n",
        "- 데이터 프레임과 시리즈를 간단하게 시각화한다. (`plot` 함수)"
      ]
    },
    {
      "cell_type": "markdown",
      "metadata": {
        "id": "m6ZopwitApl_"
      },
      "source": [
        "> pandas value_counts\n",
        "\n",
        "\n",
        "<img src=https://i.ibb.co/PtQvx0Y/04-09.png, width=600>\n",
        "\n",
        "\n",
        "\n",
        "데이터 프레임이나 시리즈의 고유값의 개수를 파악하는 함수\n",
        "\n",
        "시리즈에 적용할 때는 아래와 같다\n",
        "\n",
        " \n",
        "```python\n",
        "s.value_counts(normalize=False, sort=True, ascending=False)\n",
        "```\n",
        "\n",
        "**normalize** (인수는 bool / 기본값은 False)\n",
        "\n",
        "True일때는 표준화해서 비율로 보여준다\n",
        "\n",
        " \n",
        "\n",
        "**sort** (인수는 bool / 기본값은 True)\n",
        "\n",
        "빈도에 따라 정렬한다\n",
        "\n",
        " \n",
        "\n",
        "**ascending** (인수는 bool / 기본값은 False)\n",
        "\n",
        "정렬 방식을 결정하는 인자, 기본값은 내림차순\n",
        "\n",
        "---\n",
        "\n",
        "데이터 프레임에 적용할 때는 아래와 같다\n",
        "\n",
        "\n",
        "```python\n",
        "df.value_counts(subset=None, normalize=False, sort=True, ascending=False)\n",
        "```\n",
        "\n",
        "\n",
        "\n",
        "\n",
        "**subset** (인수는 레이블 / 기본값은 None)\n",
        "\n",
        "고유값의 개수를 파악할 열을 지정하는 인자\n",
        "\n",
        " \n",
        "\n",
        " \n",
        "\n",
        "그외의 인자는 시리즈에 적용할 때와 동일하다\n",
        "\n",
        "[시리즈에서 value_counts 판다스 공식문서](https://pandas.pydata.org/docs/reference/api/pandas.Series.value_counts.html)\n",
        "\n",
        "[데이터프레임에서 value_counts 판다스 공식문서](https://pandas.pydata.org/docs/reference/api/pandas.DataFrame.value_counts.html#pandas.DataFrame.value_counts)\n",
        " "
      ]
    },
    {
      "cell_type": "code",
      "execution_count": 49,
      "metadata": {
        "colab": {
          "base_uri": "https://localhost:8080/",
          "height": 206
        },
        "id": "olUDY7FnteX-",
        "outputId": "8f99a162-be86-461f-c4da-41f74a8a6a28"
      },
      "outputs": [
        {
          "data": {
            "text/html": [
              "<div>\n",
              "<style scoped>\n",
              "    .dataframe tbody tr th:only-of-type {\n",
              "        vertical-align: middle;\n",
              "    }\n",
              "\n",
              "    .dataframe tbody tr th {\n",
              "        vertical-align: top;\n",
              "    }\n",
              "\n",
              "    .dataframe thead th {\n",
              "        text-align: right;\n",
              "    }\n",
              "</style>\n",
              "<table border=\"1\" class=\"dataframe\">\n",
              "  <thead>\n",
              "    <tr style=\"text-align: right;\">\n",
              "      <th></th>\n",
              "      <th>col1</th>\n",
              "      <th>col2</th>\n",
              "    </tr>\n",
              "  </thead>\n",
              "  <tbody>\n",
              "    <tr>\n",
              "      <th>0</th>\n",
              "      <td>A</td>\n",
              "      <td>a</td>\n",
              "    </tr>\n",
              "    <tr>\n",
              "      <th>1</th>\n",
              "      <td>A</td>\n",
              "      <td>b</td>\n",
              "    </tr>\n",
              "    <tr>\n",
              "      <th>2</th>\n",
              "      <td>C</td>\n",
              "      <td>a</td>\n",
              "    </tr>\n",
              "    <tr>\n",
              "      <th>3</th>\n",
              "      <td>B</td>\n",
              "      <td>b</td>\n",
              "    </tr>\n",
              "    <tr>\n",
              "      <th>4</th>\n",
              "      <td>A</td>\n",
              "      <td>a</td>\n",
              "    </tr>\n",
              "  </tbody>\n",
              "</table>\n",
              "</div>"
            ],
            "text/plain": [
              "  col1 col2\n",
              "0    A    a\n",
              "1    A    b\n",
              "2    C    a\n",
              "3    B    b\n",
              "4    A    a"
            ]
          },
          "execution_count": 49,
          "metadata": {},
          "output_type": "execute_result"
        }
      ],
      "source": [
        "# 실습 준비코드\n",
        "import pandas as pd\n",
        "data = [['A', 'a'], ['A', 'b'], ['C', 'a'], ['B', 'b'], ['A', 'a']]\n",
        "df = pd.DataFrame(data, columns=['col1', 'col2'])\n",
        "df"
      ]
    },
    {
      "cell_type": "code",
      "execution_count": 50,
      "metadata": {
        "colab": {
          "base_uri": "https://localhost:8080/"
        },
        "id": "S-NC1_2U-qEi",
        "outputId": "c9c67965-728a-43da-83e1-2e51ec8f9ae2"
      },
      "outputs": [
        {
          "data": {
            "text/plain": [
              "col1\n",
              "A    3\n",
              "C    1\n",
              "B    1\n",
              "Name: count, dtype: int64"
            ]
          },
          "execution_count": 50,
          "metadata": {},
          "output_type": "execute_result"
        }
      ],
      "source": [
        "# 시리즈에 value_counts 함수를 적용해 col1의 개수 파악\n",
        "df['col1'].value_counts()"
      ]
    },
    {
      "cell_type": "code",
      "execution_count": 51,
      "metadata": {
        "colab": {
          "base_uri": "https://localhost:8080/"
        },
        "id": "sLV9QPQj-0zJ",
        "outputId": "5c03326f-930e-4004-cc5d-efefbaefa86f"
      },
      "outputs": [
        {
          "data": {
            "text/plain": [
              "col1\n",
              "A    0.6\n",
              "C    0.2\n",
              "B    0.2\n",
              "Name: proportion, dtype: float64"
            ]
          },
          "execution_count": 51,
          "metadata": {},
          "output_type": "execute_result"
        }
      ],
      "source": [
        "# 위 결과를 비율로\n",
        "df['col1'].value_counts(normalize=True)"
      ]
    },
    {
      "cell_type": "code",
      "execution_count": 52,
      "metadata": {
        "colab": {
          "base_uri": "https://localhost:8080/"
        },
        "id": "faXEgjVW-4Cc",
        "outputId": "5199087c-2862-4ae4-8928-880466d40ff8"
      },
      "outputs": [
        {
          "data": {
            "text/plain": [
              "col1\n",
              "A    3\n",
              "B    1\n",
              "C    1\n",
              "Name: count, dtype: int64"
            ]
          },
          "execution_count": 52,
          "metadata": {},
          "output_type": "execute_result"
        }
      ],
      "source": [
        "# 데이터프레임에 value_counts 함수를 적용해 col1의 개수 파악\n",
        "df.value_counts('col1')"
      ]
    },
    {
      "cell_type": "code",
      "execution_count": 53,
      "metadata": {
        "colab": {
          "base_uri": "https://localhost:8080/"
        },
        "id": "R5VwvQpW-_6L",
        "outputId": "10effd7b-1e2b-489a-b6bd-dee43b080b9c"
      },
      "outputs": [
        {
          "data": {
            "text/plain": [
              "col1  col2\n",
              "A     a       2\n",
              "      b       1\n",
              "B     b       1\n",
              "C     a       1\n",
              "Name: count, dtype: int64"
            ]
          },
          "execution_count": 53,
          "metadata": {},
          "output_type": "execute_result"
        }
      ],
      "source": [
        "# 데이터프레임에 value_counts 함수를 적용해 col1과 col2의 조합 파악\n",
        "df.value_counts(['col1', 'col2'])"
      ]
    },
    {
      "cell_type": "code",
      "execution_count": 54,
      "metadata": {
        "colab": {
          "base_uri": "https://localhost:8080/"
        },
        "id": "7gTvB1BC_vg-",
        "outputId": "d9b19acd-b006-48f0-db74-6fff7021e5e4"
      },
      "outputs": [
        {
          "data": {
            "text/plain": [
              "col1  col2\n",
              "A     a       2\n",
              "      b       1\n",
              "B     b       1\n",
              "C     a       1\n",
              "Name: count, dtype: int64"
            ]
          },
          "execution_count": 54,
          "metadata": {},
          "output_type": "execute_result"
        }
      ],
      "source": [
        "# subset에 모든 열을 담는다면 기본값으로도 가능\n",
        "df.value_counts()"
      ]
    },
    {
      "cell_type": "markdown",
      "metadata": {
        "id": "a9ZkDJl5_00l"
      },
      "source": [
        "**프로젝트에서 각 학점별 인원수를 파악해보자**"
      ]
    },
    {
      "cell_type": "code",
      "execution_count": 55,
      "metadata": {
        "colab": {
          "base_uri": "https://localhost:8080/",
          "height": 298
        },
        "id": "fKaFxyUXADhh",
        "outputId": "0a631084-917f-433c-cb26-59abcff17048"
      },
      "outputs": [
        {
          "data": {
            "text/html": [
              "<div>\n",
              "<style scoped>\n",
              "    .dataframe tbody tr th:only-of-type {\n",
              "        vertical-align: middle;\n",
              "    }\n",
              "\n",
              "    .dataframe tbody tr th {\n",
              "        vertical-align: top;\n",
              "    }\n",
              "\n",
              "    .dataframe thead th {\n",
              "        text-align: right;\n",
              "    }\n",
              "</style>\n",
              "<table border=\"1\" class=\"dataframe\">\n",
              "  <thead>\n",
              "    <tr style=\"text-align: right;\">\n",
              "      <th></th>\n",
              "      <th>이름</th>\n",
              "      <th>점수</th>\n",
              "      <th>등수</th>\n",
              "      <th>비고</th>\n",
              "      <th>학점</th>\n",
              "    </tr>\n",
              "  </thead>\n",
              "  <tbody>\n",
              "    <tr>\n",
              "      <th>0</th>\n",
              "      <td>노성빈</td>\n",
              "      <td>22</td>\n",
              "      <td>94</td>\n",
              "      <td>낙제</td>\n",
              "      <td>F</td>\n",
              "    </tr>\n",
              "    <tr>\n",
              "      <th>1</th>\n",
              "      <td>문주용</td>\n",
              "      <td>52</td>\n",
              "      <td>49</td>\n",
              "      <td>패스</td>\n",
              "      <td>C</td>\n",
              "    </tr>\n",
              "    <tr>\n",
              "      <th>2</th>\n",
              "      <td>최태주</td>\n",
              "      <td>71</td>\n",
              "      <td>19</td>\n",
              "      <td>패스</td>\n",
              "      <td>A</td>\n",
              "    </tr>\n",
              "    <tr>\n",
              "      <th>...</th>\n",
              "      <td>...</td>\n",
              "      <td>...</td>\n",
              "      <td>...</td>\n",
              "      <td>...</td>\n",
              "      <td>...</td>\n",
              "    </tr>\n",
              "    <tr>\n",
              "      <th>97</th>\n",
              "      <td>지도훈</td>\n",
              "      <td>24</td>\n",
              "      <td>90</td>\n",
              "      <td>낙제</td>\n",
              "      <td>F</td>\n",
              "    </tr>\n",
              "    <tr>\n",
              "      <th>98</th>\n",
              "      <td>류형석</td>\n",
              "      <td>41</td>\n",
              "      <td>69</td>\n",
              "      <td>패스</td>\n",
              "      <td>D</td>\n",
              "    </tr>\n",
              "    <tr>\n",
              "      <th>99</th>\n",
              "      <td>유남길</td>\n",
              "      <td>67</td>\n",
              "      <td>24</td>\n",
              "      <td>패스</td>\n",
              "      <td>B</td>\n",
              "    </tr>\n",
              "  </tbody>\n",
              "</table>\n",
              "<p>100 rows × 5 columns</p>\n",
              "</div>"
            ],
            "text/plain": [
              "     이름  점수  등수  비고 학점\n",
              "0   노성빈  22  94  낙제  F\n",
              "1   문주용  52  49  패스  C\n",
              "2   최태주  71  19  패스  A\n",
              "..  ...  ..  ..  .. ..\n",
              "97  지도훈  24  90  낙제  F\n",
              "98  류형석  41  69  패스  D\n",
              "99  유남길  67  24  패스  B\n",
              "\n",
              "[100 rows x 5 columns]"
            ]
          },
          "execution_count": 55,
          "metadata": {},
          "output_type": "execute_result"
        }
      ],
      "source": [
        "# 프로젝트 코드\n",
        "import pandas as pd\n",
        "pd.options.display.max_rows = 6 \n",
        "url = './04_01_score.csv'\n",
        "df_ex1 = pd.read_csv(url)\n",
        "df_ex1['등수'] = df_ex1['점수'].rank(method='min', ascending=False).astype('int')\n",
        "cond1 = df_ex1['점수'] > 40\n",
        "df_ex1['비고'] = df_ex1['점수'].mask(cond1, '패스').mask(~cond1, '낙제')\n",
        "\n",
        "# 학점 열 만들기\n",
        "df_ex1['학점'] = pd.cut(df_ex1['점수'], bins=[0, 40, 50, 60, 70, 80], labels=['F', 'D', 'C', 'B', 'A'])\n",
        "df_ex1"
      ]
    },
    {
      "cell_type": "code",
      "execution_count": 56,
      "metadata": {
        "colab": {
          "base_uri": "https://localhost:8080/"
        },
        "id": "xgL9mtUQAKJw",
        "outputId": "4cb3f83e-bd96-42c2-fc43-92ec8422371b"
      },
      "outputs": [
        {
          "data": {
            "text/plain": [
              "학점\n",
              "F    30\n",
              "D    20\n",
              "A    20\n",
              "C    16\n",
              "B    14\n",
              "Name: count, dtype: int64"
            ]
          },
          "execution_count": 56,
          "metadata": {},
          "output_type": "execute_result"
        }
      ],
      "source": [
        "# 각 학점당 인원수 구하기\n",
        "df_ex1['학점'].value_counts()"
      ]
    },
    {
      "cell_type": "code",
      "execution_count": 57,
      "metadata": {
        "colab": {
          "base_uri": "https://localhost:8080/"
        },
        "id": "JpRgQaD1ASCq",
        "outputId": "65e7ba2e-f80b-4525-9a77-384cf8c3a0d0"
      },
      "outputs": [
        {
          "data": {
            "text/plain": [
              "학점\n",
              "F    0.30\n",
              "D    0.20\n",
              "A    0.20\n",
              "C    0.16\n",
              "B    0.14\n",
              "Name: proportion, dtype: float64"
            ]
          },
          "execution_count": 57,
          "metadata": {},
          "output_type": "execute_result"
        }
      ],
      "source": [
        "# 각 학점의 비율 구하기\n",
        "df_ex1['학점'].value_counts(normalize=True)"
      ]
    },
    {
      "cell_type": "code",
      "execution_count": 58,
      "metadata": {
        "colab": {
          "base_uri": "https://localhost:8080/"
        },
        "id": "iAU5ImMDH8-s",
        "outputId": "6f04e964-2b88-459f-b0ea-8bacbdcf3162"
      },
      "outputs": [
        {
          "data": {
            "text/plain": [
              "학점\n",
              "A    20\n",
              "B    14\n",
              "C    16\n",
              "D    20\n",
              "F    30\n",
              "Name: count, dtype: int64"
            ]
          },
          "execution_count": 58,
          "metadata": {},
          "output_type": "execute_result"
        }
      ],
      "source": [
        "# A부터 F순서를 원하면 index를 정렬하면 된다 (category라서 내림차순)\n",
        "df_ex1['학점'].value_counts().sort_index(ascending=False)"
      ]
    },
    {
      "cell_type": "code",
      "execution_count": 59,
      "metadata": {
        "colab": {
          "base_uri": "https://localhost:8080/"
        },
        "id": "g9JAUKsDb1Uk",
        "outputId": "d520dab2-d086-4d14-869e-5413bf9782b6"
      },
      "outputs": [
        {
          "data": {
            "text/plain": [
              "A    1\n",
              "C    2\n",
              "B    3\n",
              "D    4\n",
              "dtype: int64"
            ]
          },
          "execution_count": 59,
          "metadata": {},
          "output_type": "execute_result"
        }
      ],
      "source": [
        "import pandas as pd\n",
        "s = pd.Series([1, 2, 3, 4], index=list('ACBD'))\n",
        "s"
      ]
    },
    {
      "cell_type": "code",
      "execution_count": 62,
      "metadata": {
        "colab": {
          "base_uri": "https://localhost:8080/",
          "height": 281
        },
        "id": "2ksOapyWFkzZ",
        "outputId": "105e85a4-638e-487f-bbbd-db77117f6239"
      },
      "outputs": [
        {
          "data": {
            "text/plain": [
              "<Axes: xlabel='학점'>"
            ]
          },
          "execution_count": 62,
          "metadata": {},
          "output_type": "execute_result"
        },
        {
          "data": {
            "image/png": "[encoded data removed]",
            "text/plain": [
              "<Figure size 640x480 with 1 Axes>"
            ]
          },
          "metadata": {},
          "output_type": "display_data"
        }
      ],
      "source": [
        "# 각 학점당 숫자를 그래프로\n",
        "df_ex1['학점'].value_counts().sort_index(ascending=False).plot(kind='bar')\n",
        "#데이터분석은 시각화까지 완료가 되어야 함"
      ]
    },
    {
      "cell_type": "markdown",
      "metadata": {},
      "source": [
        "#### 한글폰트 시각화에 문제 발생 시 아래 코드를 실행 "
      ]
    },
    {
      "cell_type": "code",
      "execution_count": 61,
      "metadata": {},
      "outputs": [],
      "source": [
        "# Windows 한글 폰트 설정\n",
        "import matplotlib.pyplot as plt\n",
        "plt.rcParams['font.family'] = 'Malgun Gothic'\n",
        "plt.rcParams['axes.unicode_minus'] = False"
      ]
    },
    {
      "cell_type": "code",
      "execution_count": null,
      "metadata": {},
      "outputs": [],
      "source": [
        "# Mac 한글 폰트 설정\n",
        "import matplotlib.pyplot as plt\n",
        "plt.rcParams['font.family'] = 'AppleGothic.ttf'\n",
        "plt.rcParams['axes.unicode_minus'] = False"
      ]
    },
    {
      "cell_type": "code",
      "execution_count": null,
      "metadata": {},
      "outputs": [],
      "source": [
        "# Colab 한글 폰트 설정\n",
        "import matplotlib.font_manager as fm\n",
        "import matplotlib.pyplot as plt\n",
        "!apt-get -qq install fonts-nanum\n",
        "fe = fm.FontEntry(\n",
        "    fname=r'/usr/share/fonts/truetype/nanum/NanumGothic.ttf',\n",
        "    name='NanumGothic')\n",
        "fm.fontManager.ttflist.insert(0, fe)\n",
        "plt.rcParams.update({'font.size': 18, 'font.family': 'NanumGothic'})"
      ]
    },
    {
      "cell_type": "markdown",
      "metadata": {
        "id": "C-4CVJ7AuOCI"
      },
      "source": [
        "## 10. 요약"
      ]
    },
    {
      "cell_type": "code",
      "execution_count": null,
      "metadata": {
        "colab": {
          "base_uri": "https://localhost:8080/",
          "height": 281
        },
        "id": "kT91WrJvuOYz",
        "outputId": "18ba0c43-a60f-4456-b693-89a6d943d2a8"
      },
      "outputs": [],
      "source": [
        "# 프로젝트 코드\n",
        "import pandas as pd\n",
        "pd.options.display.max_rows = 6 \n",
        "url = './04_01_score.csv'\n",
        "\n",
        "# csv 파일에서 데이터 프레임 부르기\n",
        "df_ex1 = pd.read_csv(url)\n",
        "\n",
        "# 등수 매기기\n",
        "df_ex1['등수'] = df_ex1['점수'].rank(method='min', ascending=False).astype('int')\n",
        "\n",
        "# 낙제(40점이하)와 패스를 구분한 비고 열 만들기\n",
        "cond1 = df_ex1['점수'] > 40\n",
        "df_ex1['비고'] = df_ex1['점수'].mask(cond1, '패스').mask(~cond1, '낙제')\n",
        "\n",
        "# 학점 열 만들기\n",
        "bin = [0, 40, 50, 60, 70, 80]\n",
        "label = ['F', 'D', 'C', 'B', 'A']\n",
        "df_ex1['학점'] = pd.cut(df_ex1['점수'], bins=bin, labels=label)\n",
        "\n",
        "# 각 학점당 인원수 파악하고 그래프로 그리기\n",
        "df_ex1['학점'].value_counts().sort_index(ascending=False).plot(kind='bar')"
      ]
    },
    {
      "cell_type": "code",
      "execution_count": null,
      "metadata": {},
      "outputs": [],
      "source": []
    }
  ],
  "metadata": {
    "colab": {
      "provenance": []
    },
    "kernelspec": {
      "display_name": "Python 3",
      "name": "python3"
    },
    "language_info": {
      "codemirror_mode": {
        "name": "ipython",
        "version": 3
      },
      "file_extension": ".py",
      "mimetype": "text/x-python",
      "name": "python",
      "nbconvert_exporter": "python",
      "pygments_lexer": "ipython3",
      "version": "3.8.6rc1"
    }
  },
  "nbformat": 4,
  "nbformat_minor": 0
}
