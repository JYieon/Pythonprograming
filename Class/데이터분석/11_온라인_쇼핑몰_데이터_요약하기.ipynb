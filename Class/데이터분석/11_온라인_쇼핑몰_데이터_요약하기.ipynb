{
  "cells": [
    {
      "cell_type": "markdown",
      "metadata": {
        "id": "SdertD1ZLVVS"
      },
      "source": [
        "# Ch11. 온라인 쇼핑몰 데이터 요약하기"
      ]
    },
    {
      "cell_type": "markdown",
      "metadata": {
        "id": "G0L5fACFKu-T"
      },
      "source": [
        "## 1. 시계열 데이터란?"
      ]
    },
    {
      "cell_type": "markdown",
      "metadata": {
        "id": "2KW2dbJXKxIY"
      },
      "source": [
        "**시계열 데이터**\n",
        "- 날짜와 시간에 관련된 데이터\n",
        "- 판다스는 시계열 데이터를 다루는 것에 장점이 있다"
      ]
    },
    {
      "cell_type": "markdown",
      "metadata": {
        "id": "Pj3ABCzELIVJ"
      },
      "source": [
        "**판다스의 세가지 시계열 데이터**\n",
        "\n",
        "<img src=https://i.ibb.co/Kyt6ncD/11-01.png, width=600>"
      ]
    },
    {
      "cell_type": "markdown",
      "metadata": {
        "id": "jOqMck6kMJu4"
      },
      "source": [
        "**시계열 데이터에서 Timestamp가 가장 중요한 이유**\n",
        "\n",
        "<img src=https://i.ibb.co/crRJnCN/11-02.png, width=600>\n"
      ]
    },
    {
      "cell_type": "markdown",
      "metadata": {
        "id": "Rk8GD4i_LoLs"
      },
      "source": [
        "**Timestamp(datetime)에서 배워야할 것**\n",
        "\n",
        "- datetime으로 변환(to_datetime)\n",
        "- 주기\n",
        "- DatetimeIndex 생성(date_tange)\n",
        "- dt 접근자\n",
        "- 그룹집계(resample)"
      ]
    },
    {
      "cell_type": "markdown",
      "metadata": {
        "id": "59nE4Gv2LZCD"
      },
      "source": [
        "## 2. 시계열 데이터로 변환하기(to_datetime)"
      ]
    },
    {
      "cell_type": "markdown",
      "metadata": {},
      "source": [
        "### 학습 목표\n",
        "- datatime 자료형인 Timestamp로 변환한다. (`to_datetime` 함수)\n",
        "- 파일에서 부르면서 datetime 자료형으로 지정한다. (`parse_dates` 인자)\n",
        "- 시계열 인덱싱과 슬라이싱을 해본다."
      ]
    },
    {
      "cell_type": "markdown",
      "metadata": {
        "id": "7UjqbyGEWG8w"
      },
      "source": [
        "> pandas to_datetime\n",
        "\n",
        "자료형을 datetime으로 바꿔주는 함수\n",
        "\n",
        "<br><br>\n",
        "\n",
        "인자(parameter)\n",
        "\n",
        "**arg** (datetime으로 변환 가능한 데이터)\n",
        "\n",
        "datetime으로 변환할 데이터\n",
        "\n",
        " \n",
        "\n",
        "**errors** (인수는 ‘ignore’, ‘raise’, ‘coerce’ / 기본값 ‘raise’)\n",
        "\n",
        "에러 처리 방식\n",
        "\n",
        "- 'raise' : 변환할 수 없는 객체를 만나면 에러를 일으킨다\n",
        " \n",
        "- 'coerce' : 변환할 수 없는 객체를 만나면 해당 부분만 NaT으로 바꾸고 변환을 수행한다.\n",
        "- 'ignore' :  변환할 수 없는 객체를 만나면 모두 변환하지 않고 그냥 input을 그대로 반환한다\n",
        "  \n",
        "\n",
        "**format** (str, 기본값 None)\n",
        "\n",
        "문자열이 어떤 날짜형을 나타내는지 형식을 지정할 수 있다\n",
        "\n",
        "예) 2023년 1월 3일이 '03/01/2023'으로 표현되어 있는 데이터라면 '%d/%m/%Y'로 표현한다\n",
        "\n",
        " \n",
        "\n",
        "**unit** (str, 기본값은 'ns')\n",
        "\n",
        "Timestamp가 숫자로 주어질 때 숫자의 기본단위. 기본값은 nano second\n",
        "\n",
        " \n",
        "\n",
        "**origin** (scalar, 기본값 'unix')\n",
        "\n",
        "Timestamp가 숫자로 주어질 때 기준 날짜. unit에서 정한 단위만큼의 숫자를 기준 날짜에서 더한다\n",
        "\n",
        "예) origin으로 1970-01-01을 기준으로 정하고 unit가 D라면 숫자1은 기준열부터 1일 지난 후인 1970-01-02를 의미한다  \n",
        "\n",
        "\n",
        "- 'unix' (or POSIX) : origin 은 1970-01-01.\n",
        "- 'julian' : BC 4713년 1월 1일 정오. unit는 'D'여야 한다\n",
        "- Timestamp 로 변환가능한 문자열을 넣어도 된다\n",
        "\n",
        "<br><br>\n",
        "\n",
        "to_datetime 판다스 공식 문서 : https://pandas.pydata.org/docs/reference/api/pandas.to_datetime.html"
      ]
    },
    {
      "cell_type": "markdown",
      "metadata": {},
      "source": [
        "**astype 함수로 바꾸면 되는데 왜 to_datetime 함수를 쓰나요?**\n",
        "\n",
        "to_numeric 함수를 썼듯이, 세부적인 조정을 위해 to_datetime 을 주로 쓴다."
      ]
    },
    {
      "cell_type": "markdown",
      "metadata": {
        "id": "mZKuvlfVXcDj"
      },
      "source": [
        "**Timestamp와 datetime은 어떤 차이가 있나요?**\n",
        "\n",
        "1640962800 → 숫자로 나타낸 Timestamp\n",
        "\n",
        "2022-01-01 00:00:00 → datetime으로 나타낸 Timestamp\n",
        "\n",
        "날짜형식 Timestamp의  자료형이 datetime이다\n",
        "\n",
        "→ 숫자를 다루기 위한 단원은 아니기에 이번 단원의 Timestamp는 datetime이다 "
      ]
    },
    {
      "cell_type": "code",
      "execution_count": 1,
      "metadata": {
        "colab": {
          "base_uri": "https://localhost:8080/",
          "height": 238
        },
        "id": "tpkvRgCZrNLn",
        "outputId": "76a1d131-7a66-4139-8348-1a3c2f871217"
      },
      "outputs": [
        {
          "data": {
            "text/html": [
              "<div>\n",
              "<style scoped>\n",
              "    .dataframe tbody tr th:only-of-type {\n",
              "        vertical-align: middle;\n",
              "    }\n",
              "\n",
              "    .dataframe tbody tr th {\n",
              "        vertical-align: top;\n",
              "    }\n",
              "\n",
              "    .dataframe thead th {\n",
              "        text-align: right;\n",
              "    }\n",
              "</style>\n",
              "<table border=\"1\" class=\"dataframe\">\n",
              "  <thead>\n",
              "    <tr style=\"text-align: right;\">\n",
              "      <th></th>\n",
              "      <th>날짜</th>\n",
              "      <th>판매량</th>\n",
              "    </tr>\n",
              "  </thead>\n",
              "  <tbody>\n",
              "    <tr>\n",
              "      <th>0</th>\n",
              "      <td>2023-01-01</td>\n",
              "      <td>10</td>\n",
              "    </tr>\n",
              "    <tr>\n",
              "      <th>1</th>\n",
              "      <td>2023-01-02</td>\n",
              "      <td>50</td>\n",
              "    </tr>\n",
              "    <tr>\n",
              "      <th>2</th>\n",
              "      <td>2023-02-02</td>\n",
              "      <td>20</td>\n",
              "    </tr>\n",
              "    <tr>\n",
              "      <th>3</th>\n",
              "      <td>2023-Feb-03</td>\n",
              "      <td>30</td>\n",
              "    </tr>\n",
              "    <tr>\n",
              "      <th>4</th>\n",
              "      <td>2023-Feb-04</td>\n",
              "      <td>30</td>\n",
              "    </tr>\n",
              "    <tr>\n",
              "      <th>5</th>\n",
              "      <td>2023/Mar/01</td>\n",
              "      <td>30</td>\n",
              "    </tr>\n",
              "  </tbody>\n",
              "</table>\n",
              "</div>"
            ],
            "text/plain": [
              "            날짜  판매량\n",
              "0   2023-01-01   10\n",
              "1   2023-01-02   50\n",
              "2   2023-02-02   20\n",
              "3  2023-Feb-03   30\n",
              "4  2023-Feb-04   30\n",
              "5  2023/Mar/01   30"
            ]
          },
          "execution_count": 1,
          "metadata": {},
          "output_type": "execute_result"
        }
      ],
      "source": [
        "# 실습 준비코드\n",
        "import pandas as pd\n",
        "data = [['2023-01-01', 10], ['2023-01-02', 50], ['2023-02-02', 20], \n",
        "        ['2023-Feb-03', 30], ['2023-Feb-04', 30], ['2023/Mar/01', 30]]\n",
        "df = pd.DataFrame(data, columns=['날짜', '판매량'])\n",
        "df"
      ]
    },
    {
      "cell_type": "code",
      "execution_count": 2,
      "metadata": {
        "colab": {
          "base_uri": "https://localhost:8080/"
        },
        "id": "mCJkwigVtuWU",
        "outputId": "31d4a81f-52a2-4d88-c968-f772c55b474c"
      },
      "outputs": [
        {
          "data": {
            "text/plain": [
              "0   2023-01-01\n",
              "1   2023-01-02\n",
              "2   2023-02-02\n",
              "3   2023-02-03\n",
              "4   2023-02-04\n",
              "5   2023-03-01\n",
              "Name: 날짜, dtype: datetime64[ns]"
            ]
          },
          "execution_count": 2,
          "metadata": {},
          "output_type": "execute_result"
        }
      ],
      "source": [
        "# to_datetime 함수로 timestamp로 변경하기\n",
        "pd.to_datetime(df['날짜'], format='mixed')"
      ]
    },
    {
      "cell_type": "code",
      "execution_count": 3,
      "metadata": {
        "colab": {
          "base_uri": "https://localhost:8080/"
        },
        "id": "LHnmu_got20d",
        "outputId": "abe9982c-4bac-4284-abd6-0249f9c2ea22"
      },
      "outputs": [
        {
          "ename": "ValueError",
          "evalue": "time data \"2023-Feb-03\" doesn't match format \"%Y-%m-%d\", at position 3. You might want to try:\n    - passing `format` if your strings have a consistent format;\n    - passing `format='ISO8601'` if your strings are all ISO8601 but not necessarily in exactly the same format;\n    - passing `format='mixed'`, and the format will be inferred for each element individually. You might want to use `dayfirst` alongside this.",
          "output_type": "error",
          "traceback": [
            "\u001b[1;31m---------------------------------------------------------------------------\u001b[0m",
            "\u001b[1;31mValueError\u001b[0m                                Traceback (most recent call last)",
            "Cell \u001b[1;32mIn[3], line 2\u001b[0m\n\u001b[0;32m      1\u001b[0m \u001b[38;5;66;03m# astype 함수로 timestamp로 변경하기 (잘 쓰지 않는다)\u001b[39;00m\n\u001b[1;32m----> 2\u001b[0m \u001b[43mdf\u001b[49m\u001b[43m[\u001b[49m\u001b[38;5;124;43m'\u001b[39;49m\u001b[38;5;124;43m날짜\u001b[39;49m\u001b[38;5;124;43m'\u001b[39;49m\u001b[43m]\u001b[49m\u001b[38;5;241;43m.\u001b[39;49m\u001b[43mastype\u001b[49m\u001b[43m(\u001b[49m\u001b[38;5;124;43m'\u001b[39;49m\u001b[38;5;124;43mdatetime64[ns]\u001b[39;49m\u001b[38;5;124;43m'\u001b[39;49m\u001b[43m)\u001b[49m\n",
            "File \u001b[1;32mc:\\Users\\6206-14\\AppData\\Local\\Programs\\Python\\Python38\\lib\\site-packages\\pandas\\core\\generic.py:6324\u001b[0m, in \u001b[0;36mNDFrame.astype\u001b[1;34m(self, dtype, copy, errors)\u001b[0m\n\u001b[0;32m   6317\u001b[0m     results \u001b[38;5;241m=\u001b[39m [\n\u001b[0;32m   6318\u001b[0m         \u001b[38;5;28mself\u001b[39m\u001b[38;5;241m.\u001b[39miloc[:, i]\u001b[38;5;241m.\u001b[39mastype(dtype, copy\u001b[38;5;241m=\u001b[39mcopy)\n\u001b[0;32m   6319\u001b[0m         \u001b[38;5;28;01mfor\u001b[39;00m i \u001b[38;5;129;01min\u001b[39;00m \u001b[38;5;28mrange\u001b[39m(\u001b[38;5;28mlen\u001b[39m(\u001b[38;5;28mself\u001b[39m\u001b[38;5;241m.\u001b[39mcolumns))\n\u001b[0;32m   6320\u001b[0m     ]\n\u001b[0;32m   6322\u001b[0m \u001b[38;5;28;01melse\u001b[39;00m:\n\u001b[0;32m   6323\u001b[0m     \u001b[38;5;66;03m# else, only a single dtype is given\u001b[39;00m\n\u001b[1;32m-> 6324\u001b[0m     new_data \u001b[38;5;241m=\u001b[39m \u001b[38;5;28;43mself\u001b[39;49m\u001b[38;5;241;43m.\u001b[39;49m\u001b[43m_mgr\u001b[49m\u001b[38;5;241;43m.\u001b[39;49m\u001b[43mastype\u001b[49m\u001b[43m(\u001b[49m\u001b[43mdtype\u001b[49m\u001b[38;5;241;43m=\u001b[39;49m\u001b[43mdtype\u001b[49m\u001b[43m,\u001b[49m\u001b[43m \u001b[49m\u001b[43mcopy\u001b[49m\u001b[38;5;241;43m=\u001b[39;49m\u001b[43mcopy\u001b[49m\u001b[43m,\u001b[49m\u001b[43m \u001b[49m\u001b[43merrors\u001b[49m\u001b[38;5;241;43m=\u001b[39;49m\u001b[43merrors\u001b[49m\u001b[43m)\u001b[49m\n\u001b[0;32m   6325\u001b[0m     \u001b[38;5;28;01mreturn\u001b[39;00m \u001b[38;5;28mself\u001b[39m\u001b[38;5;241m.\u001b[39m_constructor(new_data)\u001b[38;5;241m.\u001b[39m__finalize__(\u001b[38;5;28mself\u001b[39m, method\u001b[38;5;241m=\u001b[39m\u001b[38;5;124m\"\u001b[39m\u001b[38;5;124mastype\u001b[39m\u001b[38;5;124m\"\u001b[39m)\n\u001b[0;32m   6327\u001b[0m \u001b[38;5;66;03m# GH 33113: handle empty frame or series\u001b[39;00m\n",
            "File \u001b[1;32mc:\\Users\\6206-14\\AppData\\Local\\Programs\\Python\\Python38\\lib\\site-packages\\pandas\\core\\internals\\managers.py:451\u001b[0m, in \u001b[0;36mBaseBlockManager.astype\u001b[1;34m(self, dtype, copy, errors)\u001b[0m\n\u001b[0;32m    448\u001b[0m \u001b[38;5;28;01melif\u001b[39;00m using_copy_on_write():\n\u001b[0;32m    449\u001b[0m     copy \u001b[38;5;241m=\u001b[39m \u001b[38;5;28;01mFalse\u001b[39;00m\n\u001b[1;32m--> 451\u001b[0m \u001b[38;5;28;01mreturn\u001b[39;00m \u001b[38;5;28;43mself\u001b[39;49m\u001b[38;5;241;43m.\u001b[39;49m\u001b[43mapply\u001b[49m\u001b[43m(\u001b[49m\n\u001b[0;32m    452\u001b[0m \u001b[43m    \u001b[49m\u001b[38;5;124;43m\"\u001b[39;49m\u001b[38;5;124;43mastype\u001b[39;49m\u001b[38;5;124;43m\"\u001b[39;49m\u001b[43m,\u001b[49m\n\u001b[0;32m    453\u001b[0m \u001b[43m    \u001b[49m\u001b[43mdtype\u001b[49m\u001b[38;5;241;43m=\u001b[39;49m\u001b[43mdtype\u001b[49m\u001b[43m,\u001b[49m\n\u001b[0;32m    454\u001b[0m \u001b[43m    \u001b[49m\u001b[43mcopy\u001b[49m\u001b[38;5;241;43m=\u001b[39;49m\u001b[43mcopy\u001b[49m\u001b[43m,\u001b[49m\n\u001b[0;32m    455\u001b[0m \u001b[43m    \u001b[49m\u001b[43merrors\u001b[49m\u001b[38;5;241;43m=\u001b[39;49m\u001b[43merrors\u001b[49m\u001b[43m,\u001b[49m\n\u001b[0;32m    456\u001b[0m \u001b[43m    \u001b[49m\u001b[43musing_cow\u001b[49m\u001b[38;5;241;43m=\u001b[39;49m\u001b[43musing_copy_on_write\u001b[49m\u001b[43m(\u001b[49m\u001b[43m)\u001b[49m\u001b[43m,\u001b[49m\n\u001b[0;32m    457\u001b[0m \u001b[43m\u001b[49m\u001b[43m)\u001b[49m\n",
            "File \u001b[1;32mc:\\Users\\6206-14\\AppData\\Local\\Programs\\Python\\Python38\\lib\\site-packages\\pandas\\core\\internals\\managers.py:352\u001b[0m, in \u001b[0;36mBaseBlockManager.apply\u001b[1;34m(self, f, align_keys, **kwargs)\u001b[0m\n\u001b[0;32m    350\u001b[0m         applied \u001b[38;5;241m=\u001b[39m b\u001b[38;5;241m.\u001b[39mapply(f, \u001b[38;5;241m*\u001b[39m\u001b[38;5;241m*\u001b[39mkwargs)\n\u001b[0;32m    351\u001b[0m     \u001b[38;5;28;01melse\u001b[39;00m:\n\u001b[1;32m--> 352\u001b[0m         applied \u001b[38;5;241m=\u001b[39m \u001b[38;5;28;43mgetattr\u001b[39;49m\u001b[43m(\u001b[49m\u001b[43mb\u001b[49m\u001b[43m,\u001b[49m\u001b[43m \u001b[49m\u001b[43mf\u001b[49m\u001b[43m)\u001b[49m\u001b[43m(\u001b[49m\u001b[38;5;241;43m*\u001b[39;49m\u001b[38;5;241;43m*\u001b[39;49m\u001b[43mkwargs\u001b[49m\u001b[43m)\u001b[49m\n\u001b[0;32m    353\u001b[0m     result_blocks \u001b[38;5;241m=\u001b[39m extend_blocks(applied, result_blocks)\n\u001b[0;32m    355\u001b[0m out \u001b[38;5;241m=\u001b[39m \u001b[38;5;28mtype\u001b[39m(\u001b[38;5;28mself\u001b[39m)\u001b[38;5;241m.\u001b[39mfrom_blocks(result_blocks, \u001b[38;5;28mself\u001b[39m\u001b[38;5;241m.\u001b[39maxes)\n",
            "File \u001b[1;32mc:\\Users\\6206-14\\AppData\\Local\\Programs\\Python\\Python38\\lib\\site-packages\\pandas\\core\\internals\\blocks.py:511\u001b[0m, in \u001b[0;36mBlock.astype\u001b[1;34m(self, dtype, copy, errors, using_cow)\u001b[0m\n\u001b[0;32m    491\u001b[0m \u001b[38;5;250m\u001b[39m\u001b[38;5;124;03m\"\"\"\u001b[39;00m\n\u001b[0;32m    492\u001b[0m \u001b[38;5;124;03mCoerce to the new dtype.\u001b[39;00m\n\u001b[0;32m    493\u001b[0m \n\u001b[1;32m   (...)\u001b[0m\n\u001b[0;32m    507\u001b[0m \u001b[38;5;124;03mBlock\u001b[39;00m\n\u001b[0;32m    508\u001b[0m \u001b[38;5;124;03m\"\"\"\u001b[39;00m\n\u001b[0;32m    509\u001b[0m values \u001b[38;5;241m=\u001b[39m \u001b[38;5;28mself\u001b[39m\u001b[38;5;241m.\u001b[39mvalues\n\u001b[1;32m--> 511\u001b[0m new_values \u001b[38;5;241m=\u001b[39m \u001b[43mastype_array_safe\u001b[49m\u001b[43m(\u001b[49m\u001b[43mvalues\u001b[49m\u001b[43m,\u001b[49m\u001b[43m \u001b[49m\u001b[43mdtype\u001b[49m\u001b[43m,\u001b[49m\u001b[43m \u001b[49m\u001b[43mcopy\u001b[49m\u001b[38;5;241;43m=\u001b[39;49m\u001b[43mcopy\u001b[49m\u001b[43m,\u001b[49m\u001b[43m \u001b[49m\u001b[43merrors\u001b[49m\u001b[38;5;241;43m=\u001b[39;49m\u001b[43merrors\u001b[49m\u001b[43m)\u001b[49m\n\u001b[0;32m    513\u001b[0m new_values \u001b[38;5;241m=\u001b[39m maybe_coerce_values(new_values)\n\u001b[0;32m    515\u001b[0m refs \u001b[38;5;241m=\u001b[39m \u001b[38;5;28;01mNone\u001b[39;00m\n",
            "File \u001b[1;32mc:\\Users\\6206-14\\AppData\\Local\\Programs\\Python\\Python38\\lib\\site-packages\\pandas\\core\\dtypes\\astype.py:242\u001b[0m, in \u001b[0;36mastype_array_safe\u001b[1;34m(values, dtype, copy, errors)\u001b[0m\n\u001b[0;32m    239\u001b[0m     dtype \u001b[38;5;241m=\u001b[39m dtype\u001b[38;5;241m.\u001b[39mnumpy_dtype\n\u001b[0;32m    241\u001b[0m \u001b[38;5;28;01mtry\u001b[39;00m:\n\u001b[1;32m--> 242\u001b[0m     new_values \u001b[38;5;241m=\u001b[39m \u001b[43mastype_array\u001b[49m\u001b[43m(\u001b[49m\u001b[43mvalues\u001b[49m\u001b[43m,\u001b[49m\u001b[43m \u001b[49m\u001b[43mdtype\u001b[49m\u001b[43m,\u001b[49m\u001b[43m \u001b[49m\u001b[43mcopy\u001b[49m\u001b[38;5;241;43m=\u001b[39;49m\u001b[43mcopy\u001b[49m\u001b[43m)\u001b[49m\n\u001b[0;32m    243\u001b[0m \u001b[38;5;28;01mexcept\u001b[39;00m (\u001b[38;5;167;01mValueError\u001b[39;00m, \u001b[38;5;167;01mTypeError\u001b[39;00m):\n\u001b[0;32m    244\u001b[0m     \u001b[38;5;66;03m# e.g. _astype_nansafe can fail on object-dtype of strings\u001b[39;00m\n\u001b[0;32m    245\u001b[0m     \u001b[38;5;66;03m#  trying to convert to float\u001b[39;00m\n\u001b[0;32m    246\u001b[0m     \u001b[38;5;28;01mif\u001b[39;00m errors \u001b[38;5;241m==\u001b[39m \u001b[38;5;124m\"\u001b[39m\u001b[38;5;124mignore\u001b[39m\u001b[38;5;124m\"\u001b[39m:\n",
            "File \u001b[1;32mc:\\Users\\6206-14\\AppData\\Local\\Programs\\Python\\Python38\\lib\\site-packages\\pandas\\core\\dtypes\\astype.py:187\u001b[0m, in \u001b[0;36mastype_array\u001b[1;34m(values, dtype, copy)\u001b[0m\n\u001b[0;32m    184\u001b[0m     values \u001b[38;5;241m=\u001b[39m values\u001b[38;5;241m.\u001b[39mastype(dtype, copy\u001b[38;5;241m=\u001b[39mcopy)\n\u001b[0;32m    186\u001b[0m \u001b[38;5;28;01melse\u001b[39;00m:\n\u001b[1;32m--> 187\u001b[0m     values \u001b[38;5;241m=\u001b[39m \u001b[43m_astype_nansafe\u001b[49m\u001b[43m(\u001b[49m\u001b[43mvalues\u001b[49m\u001b[43m,\u001b[49m\u001b[43m \u001b[49m\u001b[43mdtype\u001b[49m\u001b[43m,\u001b[49m\u001b[43m \u001b[49m\u001b[43mcopy\u001b[49m\u001b[38;5;241;43m=\u001b[39;49m\u001b[43mcopy\u001b[49m\u001b[43m)\u001b[49m\n\u001b[0;32m    189\u001b[0m \u001b[38;5;66;03m# in pandas we don't store numpy str dtypes, so convert to object\u001b[39;00m\n\u001b[0;32m    190\u001b[0m \u001b[38;5;28;01mif\u001b[39;00m \u001b[38;5;28misinstance\u001b[39m(dtype, np\u001b[38;5;241m.\u001b[39mdtype) \u001b[38;5;129;01mand\u001b[39;00m \u001b[38;5;28missubclass\u001b[39m(values\u001b[38;5;241m.\u001b[39mdtype\u001b[38;5;241m.\u001b[39mtype, \u001b[38;5;28mstr\u001b[39m):\n",
            "File \u001b[1;32mc:\\Users\\6206-14\\AppData\\Local\\Programs\\Python\\Python38\\lib\\site-packages\\pandas\\core\\dtypes\\astype.py:114\u001b[0m, in \u001b[0;36m_astype_nansafe\u001b[1;34m(arr, dtype, copy, skipna)\u001b[0m\n\u001b[0;32m    111\u001b[0m \u001b[38;5;28;01mif\u001b[39;00m is_datetime64_dtype(dtype):\n\u001b[0;32m    112\u001b[0m     \u001b[38;5;28;01mfrom\u001b[39;00m \u001b[38;5;21;01mpandas\u001b[39;00m \u001b[38;5;28;01mimport\u001b[39;00m to_datetime\n\u001b[1;32m--> 114\u001b[0m     dti \u001b[38;5;241m=\u001b[39m \u001b[43mto_datetime\u001b[49m\u001b[43m(\u001b[49m\u001b[43marr\u001b[49m\u001b[38;5;241;43m.\u001b[39;49m\u001b[43mravel\u001b[49m\u001b[43m(\u001b[49m\u001b[43m)\u001b[49m\u001b[43m)\u001b[49m\n\u001b[0;32m    115\u001b[0m     dta \u001b[38;5;241m=\u001b[39m dti\u001b[38;5;241m.\u001b[39m_data\u001b[38;5;241m.\u001b[39mreshape(arr\u001b[38;5;241m.\u001b[39mshape)\n\u001b[0;32m    116\u001b[0m     \u001b[38;5;28;01mreturn\u001b[39;00m dta\u001b[38;5;241m.\u001b[39mastype(dtype, copy\u001b[38;5;241m=\u001b[39m\u001b[38;5;28;01mFalse\u001b[39;00m)\u001b[38;5;241m.\u001b[39m_ndarray\n",
            "File \u001b[1;32mc:\\Users\\6206-14\\AppData\\Local\\Programs\\Python\\Python38\\lib\\site-packages\\pandas\\core\\tools\\datetimes.py:1082\u001b[0m, in \u001b[0;36mto_datetime\u001b[1;34m(arg, errors, dayfirst, yearfirst, utc, format, exact, unit, infer_datetime_format, origin, cache)\u001b[0m\n\u001b[0;32m   1080\u001b[0m         result \u001b[38;5;241m=\u001b[39m _convert_and_box_cache(argc, cache_array)\n\u001b[0;32m   1081\u001b[0m     \u001b[38;5;28;01melse\u001b[39;00m:\n\u001b[1;32m-> 1082\u001b[0m         result \u001b[38;5;241m=\u001b[39m \u001b[43mconvert_listlike\u001b[49m\u001b[43m(\u001b[49m\u001b[43margc\u001b[49m\u001b[43m,\u001b[49m\u001b[43m \u001b[49m\u001b[38;5;28;43mformat\u001b[39;49m\u001b[43m)\u001b[49m\n\u001b[0;32m   1083\u001b[0m \u001b[38;5;28;01melse\u001b[39;00m:\n\u001b[0;32m   1084\u001b[0m     result \u001b[38;5;241m=\u001b[39m convert_listlike(np\u001b[38;5;241m.\u001b[39marray([arg]), \u001b[38;5;28mformat\u001b[39m)[\u001b[38;5;241m0\u001b[39m]\n",
            "File \u001b[1;32mc:\\Users\\6206-14\\AppData\\Local\\Programs\\Python\\Python38\\lib\\site-packages\\pandas\\core\\tools\\datetimes.py:453\u001b[0m, in \u001b[0;36m_convert_listlike_datetimes\u001b[1;34m(arg, format, name, utc, unit, errors, dayfirst, yearfirst, exact)\u001b[0m\n\u001b[0;32m    451\u001b[0m \u001b[38;5;66;03m# `format` could be inferred, or user didn't ask for mixed-format parsing.\u001b[39;00m\n\u001b[0;32m    452\u001b[0m \u001b[38;5;28;01mif\u001b[39;00m \u001b[38;5;28mformat\u001b[39m \u001b[38;5;129;01mis\u001b[39;00m \u001b[38;5;129;01mnot\u001b[39;00m \u001b[38;5;28;01mNone\u001b[39;00m \u001b[38;5;129;01mand\u001b[39;00m \u001b[38;5;28mformat\u001b[39m \u001b[38;5;241m!=\u001b[39m \u001b[38;5;124m\"\u001b[39m\u001b[38;5;124mmixed\u001b[39m\u001b[38;5;124m\"\u001b[39m:\n\u001b[1;32m--> 453\u001b[0m     \u001b[38;5;28;01mreturn\u001b[39;00m \u001b[43m_array_strptime_with_fallback\u001b[49m\u001b[43m(\u001b[49m\u001b[43marg\u001b[49m\u001b[43m,\u001b[49m\u001b[43m \u001b[49m\u001b[43mname\u001b[49m\u001b[43m,\u001b[49m\u001b[43m \u001b[49m\u001b[43mutc\u001b[49m\u001b[43m,\u001b[49m\u001b[43m \u001b[49m\u001b[38;5;28;43mformat\u001b[39;49m\u001b[43m,\u001b[49m\u001b[43m \u001b[49m\u001b[43mexact\u001b[49m\u001b[43m,\u001b[49m\u001b[43m \u001b[49m\u001b[43merrors\u001b[49m\u001b[43m)\u001b[49m\n\u001b[0;32m    455\u001b[0m result, tz_parsed \u001b[38;5;241m=\u001b[39m objects_to_datetime64ns(\n\u001b[0;32m    456\u001b[0m     arg,\n\u001b[0;32m    457\u001b[0m     dayfirst\u001b[38;5;241m=\u001b[39mdayfirst,\n\u001b[1;32m   (...)\u001b[0m\n\u001b[0;32m    461\u001b[0m     allow_object\u001b[38;5;241m=\u001b[39m\u001b[38;5;28;01mTrue\u001b[39;00m,\n\u001b[0;32m    462\u001b[0m )\n\u001b[0;32m    464\u001b[0m \u001b[38;5;28;01mif\u001b[39;00m tz_parsed \u001b[38;5;129;01mis\u001b[39;00m \u001b[38;5;129;01mnot\u001b[39;00m \u001b[38;5;28;01mNone\u001b[39;00m:\n\u001b[0;32m    465\u001b[0m     \u001b[38;5;66;03m# We can take a shortcut since the datetime64 numpy array\u001b[39;00m\n\u001b[0;32m    466\u001b[0m     \u001b[38;5;66;03m# is in UTC\u001b[39;00m\n",
            "File \u001b[1;32mc:\\Users\\6206-14\\AppData\\Local\\Programs\\Python\\Python38\\lib\\site-packages\\pandas\\core\\tools\\datetimes.py:484\u001b[0m, in \u001b[0;36m_array_strptime_with_fallback\u001b[1;34m(arg, name, utc, fmt, exact, errors)\u001b[0m\n\u001b[0;32m    473\u001b[0m \u001b[38;5;28;01mdef\u001b[39;00m \u001b[38;5;21m_array_strptime_with_fallback\u001b[39m(\n\u001b[0;32m    474\u001b[0m     arg,\n\u001b[0;32m    475\u001b[0m     name,\n\u001b[1;32m   (...)\u001b[0m\n\u001b[0;32m    479\u001b[0m     errors: \u001b[38;5;28mstr\u001b[39m,\n\u001b[0;32m    480\u001b[0m ) \u001b[38;5;241m-\u001b[39m\u001b[38;5;241m>\u001b[39m Index:\n\u001b[0;32m    481\u001b[0m \u001b[38;5;250m    \u001b[39m\u001b[38;5;124;03m\"\"\"\u001b[39;00m\n\u001b[0;32m    482\u001b[0m \u001b[38;5;124;03m    Call array_strptime, with fallback behavior depending on 'errors'.\u001b[39;00m\n\u001b[0;32m    483\u001b[0m \u001b[38;5;124;03m    \"\"\"\u001b[39;00m\n\u001b[1;32m--> 484\u001b[0m     result, timezones \u001b[38;5;241m=\u001b[39m \u001b[43marray_strptime\u001b[49m\u001b[43m(\u001b[49m\u001b[43marg\u001b[49m\u001b[43m,\u001b[49m\u001b[43m \u001b[49m\u001b[43mfmt\u001b[49m\u001b[43m,\u001b[49m\u001b[43m \u001b[49m\u001b[43mexact\u001b[49m\u001b[38;5;241;43m=\u001b[39;49m\u001b[43mexact\u001b[49m\u001b[43m,\u001b[49m\u001b[43m \u001b[49m\u001b[43merrors\u001b[49m\u001b[38;5;241;43m=\u001b[39;49m\u001b[43merrors\u001b[49m\u001b[43m,\u001b[49m\u001b[43m \u001b[49m\u001b[43mutc\u001b[49m\u001b[38;5;241;43m=\u001b[39;49m\u001b[43mutc\u001b[49m\u001b[43m)\u001b[49m\n\u001b[0;32m    485\u001b[0m     \u001b[38;5;28;01mif\u001b[39;00m \u001b[38;5;28many\u001b[39m(tz \u001b[38;5;129;01mis\u001b[39;00m \u001b[38;5;129;01mnot\u001b[39;00m \u001b[38;5;28;01mNone\u001b[39;00m \u001b[38;5;28;01mfor\u001b[39;00m tz \u001b[38;5;129;01min\u001b[39;00m timezones):\n\u001b[0;32m    486\u001b[0m         \u001b[38;5;28;01mreturn\u001b[39;00m _return_parsed_timezone_results(result, timezones, utc, name)\n",
            "File \u001b[1;32mc:\\Users\\6206-14\\AppData\\Local\\Programs\\Python\\Python38\\lib\\site-packages\\pandas\\_libs\\tslibs\\strptime.pyx:530\u001b[0m, in \u001b[0;36mpandas._libs.tslibs.strptime.array_strptime\u001b[1;34m()\u001b[0m\n",
            "File \u001b[1;32mc:\\Users\\6206-14\\AppData\\Local\\Programs\\Python\\Python38\\lib\\site-packages\\pandas\\_libs\\tslibs\\strptime.pyx:351\u001b[0m, in \u001b[0;36mpandas._libs.tslibs.strptime.array_strptime\u001b[1;34m()\u001b[0m\n",
            "\u001b[1;31mValueError\u001b[0m: time data \"2023-Feb-03\" doesn't match format \"%Y-%m-%d\", at position 3. You might want to try:\n    - passing `format` if your strings have a consistent format;\n    - passing `format='ISO8601'` if your strings are all ISO8601 but not necessarily in exactly the same format;\n    - passing `format='mixed'`, and the format will be inferred for each element individually. You might want to use `dayfirst` alongside this."
          ]
        }
      ],
      "source": [
        "# astype 함수로 timestamp로 변경하기 (잘 쓰지 않는다)\n",
        "df['날짜'].astype('datetime64[ns]')\n",
        "# pandas가 변환하다가 영어를 만나면 에러"
      ]
    },
    {
      "cell_type": "code",
      "execution_count": 4,
      "metadata": {
        "colab": {
          "base_uri": "https://localhost:8080/"
        },
        "id": "NDtgmVMzxqSS",
        "outputId": "0c47ffd8-dc79-4bcf-9b77-b904cb746f74"
      },
      "outputs": [
        {
          "data": {
            "text/plain": [
              "0   2022-01-03\n",
              "1          NaT\n",
              "dtype: datetime64[ns]"
            ]
          },
          "execution_count": 4,
          "metadata": {},
          "output_type": "execute_result"
        }
      ],
      "source": [
        "# to_datetime 함수의 장점 (바꿀 수 없는 데이터는 NaT로 바꾼다)\n",
        "s = pd.Series(['2022-01/03', '이상윤'])\n",
        "pd.to_datetime(s, errors='coerce')"
      ]
    },
    {
      "cell_type": "markdown",
      "metadata": {
        "id": "DWKMqOpaloN7"
      },
      "source": [
        "**시계열 데이터의 인덱싱과 슬라이싱(DatetimeIndex로 만들어야 한다)**"
      ]
    },
    {
      "cell_type": "code",
      "execution_count": 5,
      "metadata": {
        "id": "PmSxSjqKtwVp"
      },
      "outputs": [
        {
          "data": {
            "text/html": [
              "<div>\n",
              "<style scoped>\n",
              "    .dataframe tbody tr th:only-of-type {\n",
              "        vertical-align: middle;\n",
              "    }\n",
              "\n",
              "    .dataframe tbody tr th {\n",
              "        vertical-align: top;\n",
              "    }\n",
              "\n",
              "    .dataframe thead th {\n",
              "        text-align: right;\n",
              "    }\n",
              "</style>\n",
              "<table border=\"1\" class=\"dataframe\">\n",
              "  <thead>\n",
              "    <tr style=\"text-align: right;\">\n",
              "      <th></th>\n",
              "      <th>날짜</th>\n",
              "      <th>판매량</th>\n",
              "    </tr>\n",
              "  </thead>\n",
              "  <tbody>\n",
              "    <tr>\n",
              "      <th>0</th>\n",
              "      <td>2023-01-01</td>\n",
              "      <td>10</td>\n",
              "    </tr>\n",
              "    <tr>\n",
              "      <th>1</th>\n",
              "      <td>2023-01-02</td>\n",
              "      <td>50</td>\n",
              "    </tr>\n",
              "    <tr>\n",
              "      <th>2</th>\n",
              "      <td>2023-02-02</td>\n",
              "      <td>20</td>\n",
              "    </tr>\n",
              "    <tr>\n",
              "      <th>3</th>\n",
              "      <td>2023-02-03</td>\n",
              "      <td>30</td>\n",
              "    </tr>\n",
              "    <tr>\n",
              "      <th>4</th>\n",
              "      <td>2023-02-04</td>\n",
              "      <td>30</td>\n",
              "    </tr>\n",
              "    <tr>\n",
              "      <th>5</th>\n",
              "      <td>2023-03-01</td>\n",
              "      <td>30</td>\n",
              "    </tr>\n",
              "  </tbody>\n",
              "</table>\n",
              "</div>"
            ],
            "text/plain": [
              "          날짜  판매량\n",
              "0 2023-01-01   10\n",
              "1 2023-01-02   50\n",
              "2 2023-02-02   20\n",
              "3 2023-02-03   30\n",
              "4 2023-02-04   30\n",
              "5 2023-03-01   30"
            ]
          },
          "execution_count": 5,
          "metadata": {},
          "output_type": "execute_result"
        }
      ],
      "source": [
        "# df를 복제한 df1으로 날짜열을 datetime으로 바꾸자\n",
        "df1 = df.copy()\n",
        "df1['날짜'] = pd.to_datetime(df1['날짜'], format='mixed')\n",
        "df1"
      ]
    },
    {
      "cell_type": "code",
      "execution_count": 6,
      "metadata": {
        "colab": {
          "base_uri": "https://localhost:8080/",
          "height": 269
        },
        "id": "Pgjp5vaJr-KU",
        "outputId": "c7242699-6ce1-4084-81ac-c60705d43fc2"
      },
      "outputs": [
        {
          "data": {
            "text/html": [
              "<div>\n",
              "<style scoped>\n",
              "    .dataframe tbody tr th:only-of-type {\n",
              "        vertical-align: middle;\n",
              "    }\n",
              "\n",
              "    .dataframe tbody tr th {\n",
              "        vertical-align: top;\n",
              "    }\n",
              "\n",
              "    .dataframe thead th {\n",
              "        text-align: right;\n",
              "    }\n",
              "</style>\n",
              "<table border=\"1\" class=\"dataframe\">\n",
              "  <thead>\n",
              "    <tr style=\"text-align: right;\">\n",
              "      <th></th>\n",
              "      <th>판매량</th>\n",
              "    </tr>\n",
              "    <tr>\n",
              "      <th>날짜</th>\n",
              "      <th></th>\n",
              "    </tr>\n",
              "  </thead>\n",
              "  <tbody>\n",
              "    <tr>\n",
              "      <th>2023-01-01</th>\n",
              "      <td>10</td>\n",
              "    </tr>\n",
              "    <tr>\n",
              "      <th>2023-01-02</th>\n",
              "      <td>50</td>\n",
              "    </tr>\n",
              "    <tr>\n",
              "      <th>2023-02-02</th>\n",
              "      <td>20</td>\n",
              "    </tr>\n",
              "    <tr>\n",
              "      <th>2023-02-03</th>\n",
              "      <td>30</td>\n",
              "    </tr>\n",
              "    <tr>\n",
              "      <th>2023-02-04</th>\n",
              "      <td>30</td>\n",
              "    </tr>\n",
              "    <tr>\n",
              "      <th>2023-03-01</th>\n",
              "      <td>30</td>\n",
              "    </tr>\n",
              "  </tbody>\n",
              "</table>\n",
              "</div>"
            ],
            "text/plain": [
              "            판매량\n",
              "날짜             \n",
              "2023-01-01   10\n",
              "2023-01-02   50\n",
              "2023-02-02   20\n",
              "2023-02-03   30\n",
              "2023-02-04   30\n",
              "2023-03-01   30"
            ]
          },
          "execution_count": 6,
          "metadata": {},
          "output_type": "execute_result"
        }
      ],
      "source": [
        "# 자료형을 바꾼 날짜열을 index로 지정\n",
        "df1 = df1.set_index('날짜')\n",
        "df1"
      ]
    },
    {
      "cell_type": "code",
      "execution_count": 7,
      "metadata": {
        "colab": {
          "base_uri": "https://localhost:8080/",
          "height": 143
        },
        "id": "yoKBc137u57M",
        "outputId": "c260521e-1d85-4f56-f49e-a5b68dcbc1a1"
      },
      "outputs": [
        {
          "data": {
            "text/html": [
              "<div>\n",
              "<style scoped>\n",
              "    .dataframe tbody tr th:only-of-type {\n",
              "        vertical-align: middle;\n",
              "    }\n",
              "\n",
              "    .dataframe tbody tr th {\n",
              "        vertical-align: top;\n",
              "    }\n",
              "\n",
              "    .dataframe thead th {\n",
              "        text-align: right;\n",
              "    }\n",
              "</style>\n",
              "<table border=\"1\" class=\"dataframe\">\n",
              "  <thead>\n",
              "    <tr style=\"text-align: right;\">\n",
              "      <th></th>\n",
              "      <th>판매량</th>\n",
              "    </tr>\n",
              "    <tr>\n",
              "      <th>날짜</th>\n",
              "      <th></th>\n",
              "    </tr>\n",
              "  </thead>\n",
              "  <tbody>\n",
              "    <tr>\n",
              "      <th>2023-02-02</th>\n",
              "      <td>20</td>\n",
              "    </tr>\n",
              "    <tr>\n",
              "      <th>2023-02-03</th>\n",
              "      <td>30</td>\n",
              "    </tr>\n",
              "    <tr>\n",
              "      <th>2023-02-04</th>\n",
              "      <td>30</td>\n",
              "    </tr>\n",
              "  </tbody>\n",
              "</table>\n",
              "</div>"
            ],
            "text/plain": [
              "            판매량\n",
              "날짜             \n",
              "2023-02-02   20\n",
              "2023-02-03   30\n",
              "2023-02-04   30"
            ]
          },
          "execution_count": 7,
          "metadata": {},
          "output_type": "execute_result"
        }
      ],
      "source": [
        "# 2023-02의 자료만 가져오기\n",
        "df1.loc['2023-02'] # 단수의 문자열이라 df1['2023-02']을 사용하는 것보다 loc사용"
      ]
    },
    {
      "cell_type": "code",
      "execution_count": 8,
      "metadata": {
        "colab": {
          "base_uri": "https://localhost:8080/",
          "height": 206
        },
        "id": "8KONrDN9vLv2",
        "outputId": "04c5a28a-ea59-4714-d44a-babebb44e754"
      },
      "outputs": [
        {
          "data": {
            "text/html": [
              "<div>\n",
              "<style scoped>\n",
              "    .dataframe tbody tr th:only-of-type {\n",
              "        vertical-align: middle;\n",
              "    }\n",
              "\n",
              "    .dataframe tbody tr th {\n",
              "        vertical-align: top;\n",
              "    }\n",
              "\n",
              "    .dataframe thead th {\n",
              "        text-align: right;\n",
              "    }\n",
              "</style>\n",
              "<table border=\"1\" class=\"dataframe\">\n",
              "  <thead>\n",
              "    <tr style=\"text-align: right;\">\n",
              "      <th></th>\n",
              "      <th>판매량</th>\n",
              "    </tr>\n",
              "    <tr>\n",
              "      <th>날짜</th>\n",
              "      <th></th>\n",
              "    </tr>\n",
              "  </thead>\n",
              "  <tbody>\n",
              "    <tr>\n",
              "      <th>2023-02-02</th>\n",
              "      <td>20</td>\n",
              "    </tr>\n",
              "    <tr>\n",
              "      <th>2023-02-03</th>\n",
              "      <td>30</td>\n",
              "    </tr>\n",
              "    <tr>\n",
              "      <th>2023-02-04</th>\n",
              "      <td>30</td>\n",
              "    </tr>\n",
              "    <tr>\n",
              "      <th>2023-03-01</th>\n",
              "      <td>30</td>\n",
              "    </tr>\n",
              "  </tbody>\n",
              "</table>\n",
              "</div>"
            ],
            "text/plain": [
              "            판매량\n",
              "날짜             \n",
              "2023-02-02   20\n",
              "2023-02-03   30\n",
              "2023-02-04   30\n",
              "2023-03-01   30"
            ]
          },
          "execution_count": 8,
          "metadata": {},
          "output_type": "execute_result"
        }
      ],
      "source": [
        "# 2023-02 부터 자료를 슬라이싱해서 가져오기\n",
        "df1.loc['2023-02':]"
      ]
    },
    {
      "cell_type": "markdown",
      "metadata": {
        "id": "Bcxf-h6Mr2NB"
      },
      "source": [
        "**파일에서 데이터 프레임을 불러올 때 datetime 자료형으로 지정하기**\n",
        "\n",
        "`read_csv`나 `read_excel`의 parse_dates 인자에 해당 열을 리스트로 입력한다(단독이어도 리스트로 입력)\n",
        "\n",
        "\n",
        "예) 시간열을 datetime 자료형으로 불러올 경우\n",
        "\n",
        "```python\n",
        "parse_dates=['시간']\n",
        "```\n",
        "\n",
        "\n"
      ]
    },
    {
      "cell_type": "code",
      "execution_count": 9,
      "metadata": {
        "id": "6pmMgptCRjxK"
      },
      "outputs": [],
      "source": [
        "# 프로젝트 코드\n",
        "import pandas as pd\n",
        "pd.options.display.max_rows = 6\n",
        "url = './11_01_shop_data.csv'"
      ]
    },
    {
      "cell_type": "code",
      "execution_count": 10,
      "metadata": {},
      "outputs": [
        {
          "data": {
            "text/html": [
              "<div>\n",
              "<style scoped>\n",
              "    .dataframe tbody tr th:only-of-type {\n",
              "        vertical-align: middle;\n",
              "    }\n",
              "\n",
              "    .dataframe tbody tr th {\n",
              "        vertical-align: top;\n",
              "    }\n",
              "\n",
              "    .dataframe thead th {\n",
              "        text-align: right;\n",
              "    }\n",
              "</style>\n",
              "<table border=\"1\" class=\"dataframe\">\n",
              "  <thead>\n",
              "    <tr style=\"text-align: right;\">\n",
              "      <th></th>\n",
              "      <th>시간</th>\n",
              "      <th>유저코드</th>\n",
              "      <th>카테고리</th>\n",
              "      <th>제품코드</th>\n",
              "      <th>가격</th>\n",
              "      <th>행동</th>\n",
              "    </tr>\n",
              "  </thead>\n",
              "  <tbody>\n",
              "    <tr>\n",
              "      <th>0</th>\n",
              "      <td>2022-06-01 00:00:01</td>\n",
              "      <td>u514028527</td>\n",
              "      <td>패션</td>\n",
              "      <td>p1307115</td>\n",
              "      <td>411.59</td>\n",
              "      <td>V</td>\n",
              "    </tr>\n",
              "    <tr>\n",
              "      <th>1</th>\n",
              "      <td>2022-06-01 00:00:13</td>\n",
              "      <td>u550193582</td>\n",
              "      <td>화장품</td>\n",
              "      <td>p12705151</td>\n",
              "      <td>51.22</td>\n",
              "      <td>V</td>\n",
              "    </tr>\n",
              "    <tr>\n",
              "      <th>2</th>\n",
              "      <td>2022-06-01 00:00:13</td>\n",
              "      <td>u551977964</td>\n",
              "      <td>식품</td>\n",
              "      <td>p4100249</td>\n",
              "      <td>583.80</td>\n",
              "      <td>V</td>\n",
              "    </tr>\n",
              "    <tr>\n",
              "      <th>...</th>\n",
              "      <td>...</td>\n",
              "      <td>...</td>\n",
              "      <td>...</td>\n",
              "      <td>...</td>\n",
              "      <td>...</td>\n",
              "      <td>...</td>\n",
              "    </tr>\n",
              "    <tr>\n",
              "      <th>81430</th>\n",
              "      <td>2022-06-07 23:59:47</td>\n",
              "      <td>u566067205</td>\n",
              "      <td>인테리어</td>\n",
              "      <td>p16300035</td>\n",
              "      <td>31.92</td>\n",
              "      <td>V</td>\n",
              "    </tr>\n",
              "    <tr>\n",
              "      <th>81431</th>\n",
              "      <td>2022-06-07 23:59:56</td>\n",
              "      <td>u553835872</td>\n",
              "      <td>가전</td>\n",
              "      <td>p1005192</td>\n",
              "      <td>205.67</td>\n",
              "      <td>V</td>\n",
              "    </tr>\n",
              "    <tr>\n",
              "      <th>81432</th>\n",
              "      <td>2022-06-07 23:59:59</td>\n",
              "      <td>u518620512</td>\n",
              "      <td>식품</td>\n",
              "      <td>p3600661</td>\n",
              "      <td>306.05</td>\n",
              "      <td>V</td>\n",
              "    </tr>\n",
              "  </tbody>\n",
              "</table>\n",
              "<p>81433 rows × 6 columns</p>\n",
              "</div>"
            ],
            "text/plain": [
              "                        시간        유저코드  카테고리       제품코드      가격 행동\n",
              "0      2022-06-01 00:00:01  u514028527    패션   p1307115  411.59  V\n",
              "1      2022-06-01 00:00:13  u550193582   화장품  p12705151   51.22  V\n",
              "2      2022-06-01 00:00:13  u551977964    식품   p4100249  583.80  V\n",
              "...                    ...         ...   ...        ...     ... ..\n",
              "81430  2022-06-07 23:59:47  u566067205  인테리어  p16300035   31.92  V\n",
              "81431  2022-06-07 23:59:56  u553835872    가전   p1005192  205.67  V\n",
              "81432  2022-06-07 23:59:59  u518620512    식품   p3600661  306.05  V\n",
              "\n",
              "[81433 rows x 6 columns]"
            ]
          },
          "execution_count": 10,
          "metadata": {},
          "output_type": "execute_result"
        }
      ],
      "source": [
        "# 단순히 불러올 경우\n",
        "df_ex1 = pd.read_csv(url)\n",
        "df_ex1"
      ]
    },
    {
      "cell_type": "code",
      "execution_count": 12,
      "metadata": {
        "colab": {
          "base_uri": "https://localhost:8080/",
          "height": 330
        },
        "id": "303OhLBYp5Q9",
        "outputId": "0c2b11a4-7c14-4a9b-a007-faad89df30e9"
      },
      "outputs": [
        {
          "data": {
            "text/html": [
              "<div>\n",
              "<style scoped>\n",
              "    .dataframe tbody tr th:only-of-type {\n",
              "        vertical-align: middle;\n",
              "    }\n",
              "\n",
              "    .dataframe tbody tr th {\n",
              "        vertical-align: top;\n",
              "    }\n",
              "\n",
              "    .dataframe thead th {\n",
              "        text-align: right;\n",
              "    }\n",
              "</style>\n",
              "<table border=\"1\" class=\"dataframe\">\n",
              "  <thead>\n",
              "    <tr style=\"text-align: right;\">\n",
              "      <th></th>\n",
              "      <th>유저코드</th>\n",
              "      <th>카테고리</th>\n",
              "      <th>제품코드</th>\n",
              "      <th>가격</th>\n",
              "      <th>행동</th>\n",
              "    </tr>\n",
              "    <tr>\n",
              "      <th>시간</th>\n",
              "      <th></th>\n",
              "      <th></th>\n",
              "      <th></th>\n",
              "      <th></th>\n",
              "      <th></th>\n",
              "    </tr>\n",
              "  </thead>\n",
              "  <tbody>\n",
              "    <tr>\n",
              "      <th>2022-06-01 00:00:01</th>\n",
              "      <td>u514028527</td>\n",
              "      <td>패션</td>\n",
              "      <td>p1307115</td>\n",
              "      <td>411.59</td>\n",
              "      <td>V</td>\n",
              "    </tr>\n",
              "    <tr>\n",
              "      <th>2022-06-01 00:00:13</th>\n",
              "      <td>u550193582</td>\n",
              "      <td>화장품</td>\n",
              "      <td>p12705151</td>\n",
              "      <td>51.22</td>\n",
              "      <td>V</td>\n",
              "    </tr>\n",
              "    <tr>\n",
              "      <th>2022-06-01 00:00:13</th>\n",
              "      <td>u551977964</td>\n",
              "      <td>식품</td>\n",
              "      <td>p4100249</td>\n",
              "      <td>583.80</td>\n",
              "      <td>V</td>\n",
              "    </tr>\n",
              "    <tr>\n",
              "      <th>...</th>\n",
              "      <td>...</td>\n",
              "      <td>...</td>\n",
              "      <td>...</td>\n",
              "      <td>...</td>\n",
              "      <td>...</td>\n",
              "    </tr>\n",
              "    <tr>\n",
              "      <th>2022-06-07 23:59:47</th>\n",
              "      <td>u566067205</td>\n",
              "      <td>인테리어</td>\n",
              "      <td>p16300035</td>\n",
              "      <td>31.92</td>\n",
              "      <td>V</td>\n",
              "    </tr>\n",
              "    <tr>\n",
              "      <th>2022-06-07 23:59:56</th>\n",
              "      <td>u553835872</td>\n",
              "      <td>가전</td>\n",
              "      <td>p1005192</td>\n",
              "      <td>205.67</td>\n",
              "      <td>V</td>\n",
              "    </tr>\n",
              "    <tr>\n",
              "      <th>2022-06-07 23:59:59</th>\n",
              "      <td>u518620512</td>\n",
              "      <td>식품</td>\n",
              "      <td>p3600661</td>\n",
              "      <td>306.05</td>\n",
              "      <td>V</td>\n",
              "    </tr>\n",
              "  </tbody>\n",
              "</table>\n",
              "<p>81433 rows × 5 columns</p>\n",
              "</div>"
            ],
            "text/plain": [
              "                           유저코드  카테고리       제품코드      가격 행동\n",
              "시간                                                         \n",
              "2022-06-01 00:00:01  u514028527    패션   p1307115  411.59  V\n",
              "2022-06-01 00:00:13  u550193582   화장품  p12705151   51.22  V\n",
              "2022-06-01 00:00:13  u551977964    식품   p4100249  583.80  V\n",
              "...                         ...   ...        ...     ... ..\n",
              "2022-06-07 23:59:47  u566067205  인테리어  p16300035   31.92  V\n",
              "2022-06-07 23:59:56  u553835872    가전   p1005192  205.67  V\n",
              "2022-06-07 23:59:59  u518620512    식품   p3600661  306.05  V\n",
              "\n",
              "[81433 rows x 5 columns]"
            ]
          },
          "execution_count": 12,
          "metadata": {},
          "output_type": "execute_result"
        }
      ],
      "source": [
        "# csv파일에서 부를때 datetime으로 지정하고 index로 지정하기\n",
        "df_ex1 = pd.read_csv(url, parse_dates=['시간'], index_col=0)\n",
        "df_ex1"
      ]
    },
    {
      "cell_type": "code",
      "execution_count": 13,
      "metadata": {},
      "outputs": [
        {
          "data": {
            "text/plain": [
              "array(['V', 'C', 'B'], dtype=object)"
            ]
          },
          "execution_count": 13,
          "metadata": {},
          "output_type": "execute_result"
        }
      ],
      "source": [
        "# 행동 열의 고유값 출력하기\n",
        "df_ex1['행동'].unique()"
      ]
    },
    {
      "cell_type": "code",
      "execution_count": 14,
      "metadata": {
        "colab": {
          "base_uri": "https://localhost:8080/",
          "height": 330
        },
        "id": "oKsf5Fr4qCVt",
        "outputId": "223c8eee-e9ed-44ad-90aa-7bedd39951fb"
      },
      "outputs": [
        {
          "data": {
            "text/html": [
              "<div>\n",
              "<style scoped>\n",
              "    .dataframe tbody tr th:only-of-type {\n",
              "        vertical-align: middle;\n",
              "    }\n",
              "\n",
              "    .dataframe tbody tr th {\n",
              "        vertical-align: top;\n",
              "    }\n",
              "\n",
              "    .dataframe thead th {\n",
              "        text-align: right;\n",
              "    }\n",
              "</style>\n",
              "<table border=\"1\" class=\"dataframe\">\n",
              "  <thead>\n",
              "    <tr style=\"text-align: right;\">\n",
              "      <th></th>\n",
              "      <th>유저코드</th>\n",
              "      <th>카테고리</th>\n",
              "      <th>제품코드</th>\n",
              "      <th>가격</th>\n",
              "      <th>행동</th>\n",
              "    </tr>\n",
              "    <tr>\n",
              "      <th>시간</th>\n",
              "      <th></th>\n",
              "      <th></th>\n",
              "      <th></th>\n",
              "      <th></th>\n",
              "      <th></th>\n",
              "    </tr>\n",
              "  </thead>\n",
              "  <tbody>\n",
              "    <tr>\n",
              "      <th>2022-06-01 00:00:01</th>\n",
              "      <td>u514028527</td>\n",
              "      <td>패션</td>\n",
              "      <td>p1307115</td>\n",
              "      <td>411.59</td>\n",
              "      <td>V</td>\n",
              "    </tr>\n",
              "    <tr>\n",
              "      <th>2022-06-01 00:00:13</th>\n",
              "      <td>u550193582</td>\n",
              "      <td>화장품</td>\n",
              "      <td>p12705151</td>\n",
              "      <td>51.22</td>\n",
              "      <td>V</td>\n",
              "    </tr>\n",
              "    <tr>\n",
              "      <th>2022-06-01 00:00:13</th>\n",
              "      <td>u551977964</td>\n",
              "      <td>식품</td>\n",
              "      <td>p4100249</td>\n",
              "      <td>583.80</td>\n",
              "      <td>V</td>\n",
              "    </tr>\n",
              "    <tr>\n",
              "      <th>...</th>\n",
              "      <td>...</td>\n",
              "      <td>...</td>\n",
              "      <td>...</td>\n",
              "      <td>...</td>\n",
              "      <td>...</td>\n",
              "    </tr>\n",
              "    <tr>\n",
              "      <th>2022-06-01 23:59:45</th>\n",
              "      <td>u566215254</td>\n",
              "      <td>화장품</td>\n",
              "      <td>p1004341</td>\n",
              "      <td>199.84</td>\n",
              "      <td>V</td>\n",
              "    </tr>\n",
              "    <tr>\n",
              "      <th>2022-06-01 23:59:47</th>\n",
              "      <td>u512604876</td>\n",
              "      <td>컴퓨터</td>\n",
              "      <td>p11600330</td>\n",
              "      <td>23.14</td>\n",
              "      <td>V</td>\n",
              "    </tr>\n",
              "    <tr>\n",
              "      <th>2022-06-01 23:59:56</th>\n",
              "      <td>u533241399</td>\n",
              "      <td>식품</td>\n",
              "      <td>p1004386</td>\n",
              "      <td>776.08</td>\n",
              "      <td>V</td>\n",
              "    </tr>\n",
              "  </tbody>\n",
              "</table>\n",
              "<p>16974 rows × 5 columns</p>\n",
              "</div>"
            ],
            "text/plain": [
              "                           유저코드 카테고리       제품코드      가격 행동\n",
              "시간                                                        \n",
              "2022-06-01 00:00:01  u514028527   패션   p1307115  411.59  V\n",
              "2022-06-01 00:00:13  u550193582  화장품  p12705151   51.22  V\n",
              "2022-06-01 00:00:13  u551977964   식품   p4100249  583.80  V\n",
              "...                         ...  ...        ...     ... ..\n",
              "2022-06-01 23:59:45  u566215254  화장품   p1004341  199.84  V\n",
              "2022-06-01 23:59:47  u512604876  컴퓨터  p11600330   23.14  V\n",
              "2022-06-01 23:59:56  u533241399   식품   p1004386  776.08  V\n",
              "\n",
              "[16974 rows x 5 columns]"
            ]
          },
          "execution_count": 14,
          "metadata": {},
          "output_type": "execute_result"
        }
      ],
      "source": [
        "# 2022년 6월 1일 데이터만 인덱싱\n",
        "df_ex1.loc['2022-06-01']"
      ]
    },
    {
      "cell_type": "code",
      "execution_count": 15,
      "metadata": {
        "colab": {
          "base_uri": "https://localhost:8080/",
          "height": 330
        },
        "id": "hJkzVonw2kgc",
        "outputId": "caba1fb9-8e6d-482c-8d0d-b5e18208ce64"
      },
      "outputs": [
        {
          "data": {
            "text/html": [
              "<div>\n",
              "<style scoped>\n",
              "    .dataframe tbody tr th:only-of-type {\n",
              "        vertical-align: middle;\n",
              "    }\n",
              "\n",
              "    .dataframe tbody tr th {\n",
              "        vertical-align: top;\n",
              "    }\n",
              "\n",
              "    .dataframe thead th {\n",
              "        text-align: right;\n",
              "    }\n",
              "</style>\n",
              "<table border=\"1\" class=\"dataframe\">\n",
              "  <thead>\n",
              "    <tr style=\"text-align: right;\">\n",
              "      <th></th>\n",
              "      <th>유저코드</th>\n",
              "      <th>카테고리</th>\n",
              "      <th>제품코드</th>\n",
              "      <th>가격</th>\n",
              "      <th>행동</th>\n",
              "    </tr>\n",
              "    <tr>\n",
              "      <th>시간</th>\n",
              "      <th></th>\n",
              "      <th></th>\n",
              "      <th></th>\n",
              "      <th></th>\n",
              "      <th></th>\n",
              "    </tr>\n",
              "  </thead>\n",
              "  <tbody>\n",
              "    <tr>\n",
              "      <th>2022-06-01 23:00:01</th>\n",
              "      <td>u512686201</td>\n",
              "      <td>컴퓨터</td>\n",
              "      <td>p1005073</td>\n",
              "      <td>1133.09</td>\n",
              "      <td>V</td>\n",
              "    </tr>\n",
              "    <tr>\n",
              "      <th>2022-06-01 23:00:01</th>\n",
              "      <td>u546852746</td>\n",
              "      <td>식품</td>\n",
              "      <td>p15100148</td>\n",
              "      <td>378.36</td>\n",
              "      <td>V</td>\n",
              "    </tr>\n",
              "    <tr>\n",
              "      <th>2022-06-01 23:00:05</th>\n",
              "      <td>u545634079</td>\n",
              "      <td>화장품</td>\n",
              "      <td>p1005235</td>\n",
              "      <td>437.51</td>\n",
              "      <td>V</td>\n",
              "    </tr>\n",
              "    <tr>\n",
              "      <th>...</th>\n",
              "      <td>...</td>\n",
              "      <td>...</td>\n",
              "      <td>...</td>\n",
              "      <td>...</td>\n",
              "      <td>...</td>\n",
              "    </tr>\n",
              "    <tr>\n",
              "      <th>2022-06-01 23:59:45</th>\n",
              "      <td>u566215254</td>\n",
              "      <td>화장품</td>\n",
              "      <td>p1004341</td>\n",
              "      <td>199.84</td>\n",
              "      <td>V</td>\n",
              "    </tr>\n",
              "    <tr>\n",
              "      <th>2022-06-01 23:59:47</th>\n",
              "      <td>u512604876</td>\n",
              "      <td>컴퓨터</td>\n",
              "      <td>p11600330</td>\n",
              "      <td>23.14</td>\n",
              "      <td>V</td>\n",
              "    </tr>\n",
              "    <tr>\n",
              "      <th>2022-06-01 23:59:56</th>\n",
              "      <td>u533241399</td>\n",
              "      <td>식품</td>\n",
              "      <td>p1004386</td>\n",
              "      <td>776.08</td>\n",
              "      <td>V</td>\n",
              "    </tr>\n",
              "  </tbody>\n",
              "</table>\n",
              "<p>830 rows × 5 columns</p>\n",
              "</div>"
            ],
            "text/plain": [
              "                           유저코드 카테고리       제품코드       가격 행동\n",
              "시간                                                         \n",
              "2022-06-01 23:00:01  u512686201  컴퓨터   p1005073  1133.09  V\n",
              "2022-06-01 23:00:01  u546852746   식품  p15100148   378.36  V\n",
              "2022-06-01 23:00:05  u545634079  화장품   p1005235   437.51  V\n",
              "...                         ...  ...        ...      ... ..\n",
              "2022-06-01 23:59:45  u566215254  화장품   p1004341   199.84  V\n",
              "2022-06-01 23:59:47  u512604876  컴퓨터  p11600330    23.14  V\n",
              "2022-06-01 23:59:56  u533241399   식품   p1004386   776.08  V\n",
              "\n",
              "[830 rows x 5 columns]"
            ]
          },
          "execution_count": 15,
          "metadata": {},
          "output_type": "execute_result"
        }
      ],
      "source": [
        "# 2022년 6월 1일 23시의 데이터만 인덱싱\n",
        "df_ex1.loc['2022-06-01 23']"
      ]
    },
    {
      "cell_type": "code",
      "execution_count": 16,
      "metadata": {
        "colab": {
          "base_uri": "https://localhost:8080/",
          "height": 330
        },
        "id": "lN-7nL7j2l5L",
        "outputId": "70adf9be-d6da-4ad3-ff98-eba8c5181b6b"
      },
      "outputs": [
        {
          "data": {
            "text/html": [
              "<div>\n",
              "<style scoped>\n",
              "    .dataframe tbody tr th:only-of-type {\n",
              "        vertical-align: middle;\n",
              "    }\n",
              "\n",
              "    .dataframe tbody tr th {\n",
              "        vertical-align: top;\n",
              "    }\n",
              "\n",
              "    .dataframe thead th {\n",
              "        text-align: right;\n",
              "    }\n",
              "</style>\n",
              "<table border=\"1\" class=\"dataframe\">\n",
              "  <thead>\n",
              "    <tr style=\"text-align: right;\">\n",
              "      <th></th>\n",
              "      <th>유저코드</th>\n",
              "      <th>카테고리</th>\n",
              "      <th>제품코드</th>\n",
              "      <th>가격</th>\n",
              "      <th>행동</th>\n",
              "    </tr>\n",
              "    <tr>\n",
              "      <th>시간</th>\n",
              "      <th></th>\n",
              "      <th></th>\n",
              "      <th></th>\n",
              "      <th></th>\n",
              "      <th></th>\n",
              "    </tr>\n",
              "  </thead>\n",
              "  <tbody>\n",
              "    <tr>\n",
              "      <th>2022-06-01 23:00:01</th>\n",
              "      <td>u512686201</td>\n",
              "      <td>컴퓨터</td>\n",
              "      <td>p1005073</td>\n",
              "      <td>1133.09</td>\n",
              "      <td>V</td>\n",
              "    </tr>\n",
              "    <tr>\n",
              "      <th>2022-06-01 23:00:01</th>\n",
              "      <td>u546852746</td>\n",
              "      <td>식품</td>\n",
              "      <td>p15100148</td>\n",
              "      <td>378.36</td>\n",
              "      <td>V</td>\n",
              "    </tr>\n",
              "    <tr>\n",
              "      <th>2022-06-01 23:00:05</th>\n",
              "      <td>u545634079</td>\n",
              "      <td>화장품</td>\n",
              "      <td>p1005235</td>\n",
              "      <td>437.51</td>\n",
              "      <td>V</td>\n",
              "    </tr>\n",
              "    <tr>\n",
              "      <th>...</th>\n",
              "      <td>...</td>\n",
              "      <td>...</td>\n",
              "      <td>...</td>\n",
              "      <td>...</td>\n",
              "      <td>...</td>\n",
              "    </tr>\n",
              "    <tr>\n",
              "      <th>2022-06-01 23:00:52</th>\n",
              "      <td>u538139300</td>\n",
              "      <td>식품</td>\n",
              "      <td>p12708848</td>\n",
              "      <td>128.70</td>\n",
              "      <td>V</td>\n",
              "    </tr>\n",
              "    <tr>\n",
              "      <th>2022-06-01 23:00:54</th>\n",
              "      <td>u513346578</td>\n",
              "      <td>식품</td>\n",
              "      <td>p14700312</td>\n",
              "      <td>317.61</td>\n",
              "      <td>V</td>\n",
              "    </tr>\n",
              "    <tr>\n",
              "      <th>2022-06-01 23:00:54</th>\n",
              "      <td>u561817477</td>\n",
              "      <td>식품</td>\n",
              "      <td>p10800025</td>\n",
              "      <td>54.00</td>\n",
              "      <td>V</td>\n",
              "    </tr>\n",
              "  </tbody>\n",
              "</table>\n",
              "<p>12 rows × 5 columns</p>\n",
              "</div>"
            ],
            "text/plain": [
              "                           유저코드 카테고리       제품코드       가격 행동\n",
              "시간                                                         \n",
              "2022-06-01 23:00:01  u512686201  컴퓨터   p1005073  1133.09  V\n",
              "2022-06-01 23:00:01  u546852746   식품  p15100148   378.36  V\n",
              "2022-06-01 23:00:05  u545634079  화장품   p1005235   437.51  V\n",
              "...                         ...  ...        ...      ... ..\n",
              "2022-06-01 23:00:52  u538139300   식품  p12708848   128.70  V\n",
              "2022-06-01 23:00:54  u513346578   식품  p14700312   317.61  V\n",
              "2022-06-01 23:00:54  u561817477   식품  p10800025    54.00  V\n",
              "\n",
              "[12 rows x 5 columns]"
            ]
          },
          "execution_count": 16,
          "metadata": {},
          "output_type": "execute_result"
        }
      ],
      "source": [
        "# 2022년 6월 1일 23시 00분의 데이터만 인덱싱\n",
        "df_ex1.loc['2022-06-01 23:00']"
      ]
    },
    {
      "cell_type": "code",
      "execution_count": 17,
      "metadata": {
        "colab": {
          "base_uri": "https://localhost:8080/",
          "height": 330
        },
        "id": "WETqI83E2ujm",
        "outputId": "0b2a46dc-afa5-4937-e0c1-543f95082a23"
      },
      "outputs": [
        {
          "data": {
            "text/html": [
              "<div>\n",
              "<style scoped>\n",
              "    .dataframe tbody tr th:only-of-type {\n",
              "        vertical-align: middle;\n",
              "    }\n",
              "\n",
              "    .dataframe tbody tr th {\n",
              "        vertical-align: top;\n",
              "    }\n",
              "\n",
              "    .dataframe thead th {\n",
              "        text-align: right;\n",
              "    }\n",
              "</style>\n",
              "<table border=\"1\" class=\"dataframe\">\n",
              "  <thead>\n",
              "    <tr style=\"text-align: right;\">\n",
              "      <th></th>\n",
              "      <th>유저코드</th>\n",
              "      <th>카테고리</th>\n",
              "      <th>제품코드</th>\n",
              "      <th>가격</th>\n",
              "      <th>행동</th>\n",
              "    </tr>\n",
              "    <tr>\n",
              "      <th>시간</th>\n",
              "      <th></th>\n",
              "      <th></th>\n",
              "      <th></th>\n",
              "      <th></th>\n",
              "      <th></th>\n",
              "    </tr>\n",
              "  </thead>\n",
              "  <tbody>\n",
              "    <tr>\n",
              "      <th>2022-06-02 00:00:02</th>\n",
              "      <td>u566601875</td>\n",
              "      <td>인테리어</td>\n",
              "      <td>p54900002</td>\n",
              "      <td>46.33</td>\n",
              "      <td>V</td>\n",
              "    </tr>\n",
              "    <tr>\n",
              "      <th>2022-06-02 00:00:10</th>\n",
              "      <td>u513357826</td>\n",
              "      <td>식품</td>\n",
              "      <td>p1701432</td>\n",
              "      <td>483.90</td>\n",
              "      <td>V</td>\n",
              "    </tr>\n",
              "    <tr>\n",
              "      <th>2022-06-02 00:00:19</th>\n",
              "      <td>u518692140</td>\n",
              "      <td>자동차</td>\n",
              "      <td>p1306586</td>\n",
              "      <td>630.39</td>\n",
              "      <td>V</td>\n",
              "    </tr>\n",
              "    <tr>\n",
              "      <th>...</th>\n",
              "      <td>...</td>\n",
              "      <td>...</td>\n",
              "      <td>...</td>\n",
              "      <td>...</td>\n",
              "      <td>...</td>\n",
              "    </tr>\n",
              "    <tr>\n",
              "      <th>2022-06-04 23:59:31</th>\n",
              "      <td>u567495419</td>\n",
              "      <td>인테리어</td>\n",
              "      <td>p1005233</td>\n",
              "      <td>149.04</td>\n",
              "      <td>V</td>\n",
              "    </tr>\n",
              "    <tr>\n",
              "      <th>2022-06-04 23:59:35</th>\n",
              "      <td>u515005323</td>\n",
              "      <td>식품</td>\n",
              "      <td>p2501674</td>\n",
              "      <td>59.18</td>\n",
              "      <td>V</td>\n",
              "    </tr>\n",
              "    <tr>\n",
              "      <th>2022-06-04 23:59:44</th>\n",
              "      <td>u557663879</td>\n",
              "      <td>식품</td>\n",
              "      <td>p1005008</td>\n",
              "      <td>84.69</td>\n",
              "      <td>V</td>\n",
              "    </tr>\n",
              "  </tbody>\n",
              "</table>\n",
              "<p>32770 rows × 5 columns</p>\n",
              "</div>"
            ],
            "text/plain": [
              "                           유저코드  카테고리       제품코드      가격 행동\n",
              "시간                                                         \n",
              "2022-06-02 00:00:02  u566601875  인테리어  p54900002   46.33  V\n",
              "2022-06-02 00:00:10  u513357826    식품   p1701432  483.90  V\n",
              "2022-06-02 00:00:19  u518692140   자동차   p1306586  630.39  V\n",
              "...                         ...   ...        ...     ... ..\n",
              "2022-06-04 23:59:31  u567495419  인테리어   p1005233  149.04  V\n",
              "2022-06-04 23:59:35  u515005323    식품   p2501674   59.18  V\n",
              "2022-06-04 23:59:44  u557663879    식품   p1005008   84.69  V\n",
              "\n",
              "[32770 rows x 5 columns]"
            ]
          },
          "execution_count": 17,
          "metadata": {},
          "output_type": "execute_result"
        }
      ],
      "source": [
        "# 2022-06-02 부터 2022-06-04까지 슬라이싱\n",
        "df_ex1.loc['2022-06-02':'2022-06-04']"
      ]
    },
    {
      "cell_type": "markdown",
      "metadata": {
        "id": "TSHS1OS0Tc0W"
      },
      "source": [
        "## 3. 시계열 배열 생성(date_range)과 주기\n"
      ]
    },
    {
      "cell_type": "markdown",
      "metadata": {},
      "source": [
        "### 학습 목표\n",
        "- 시계열 배열을 생성한다. (`data_range` 함수)\n",
        "- 시계열 데이터의 주기를 알게 된다."
      ]
    },
    {
      "cell_type": "markdown",
      "metadata": {
        "id": "b7FoM3LWX4fO"
      },
      "source": [
        "> pandas date_range\n",
        "\n",
        "특정 주기의 DatetimeIndex를 만드는 함수\n",
        " \n",
        "\n",
        "**start**\n",
        "\n",
        "배열의 시작\n",
        "\n",
        "**end**\n",
        "\n",
        "배열의 끝\n",
        "\n",
        "**periods** (int, optional)\n",
        "\n",
        "생성할 배열의 숫자\n",
        " \n",
        "**freq** (주기 / 기본값 ‘D’)\n",
        "\n",
        "생성할 데이터의 주기"
      ]
    },
    {
      "cell_type": "code",
      "execution_count": 18,
      "metadata": {
        "id": "dYKAizrZY2yA"
      },
      "outputs": [],
      "source": [
        "# 실습 준비 코드\n",
        "import pandas as pd"
      ]
    },
    {
      "cell_type": "code",
      "execution_count": 19,
      "metadata": {
        "colab": {
          "base_uri": "https://localhost:8080/"
        },
        "id": "qhCKsIswY_qj",
        "outputId": "a1e9fed7-324a-4324-c701-3ef958408c8e"
      },
      "outputs": [
        {
          "data": {
            "text/plain": [
              "DatetimeIndex(['2022-01-03', '2022-01-04', '2022-01-05', '2022-01-06',\n",
              "               '2022-01-07', '2022-01-08', '2022-01-09', '2022-01-10'],\n",
              "              dtype='datetime64[ns]', freq='D')"
            ]
          },
          "execution_count": 19,
          "metadata": {},
          "output_type": "execute_result"
        }
      ],
      "source": [
        "# 시작일과 끝일 사이의 모든 날짜\n",
        "pd.date_range('2022-01-03', '2022-01-10')"
      ]
    },
    {
      "cell_type": "code",
      "execution_count": 20,
      "metadata": {
        "colab": {
          "base_uri": "https://localhost:8080/"
        },
        "id": "TMGzHdyLZJUw",
        "outputId": "d3c99473-3f55-41a0-ad0f-3a1dc3148e34"
      },
      "outputs": [
        {
          "data": {
            "text/plain": [
              "DatetimeIndex(['2022-01-03', '2022-01-04', '2022-01-05'], dtype='datetime64[ns]', freq='D')"
            ]
          },
          "execution_count": 20,
          "metadata": {},
          "output_type": "execute_result"
        }
      ],
      "source": [
        "# 시작일부터 지정된 개수의 배열 (날짜)\n",
        "pd.date_range('2022-01-03', periods=3)"
      ]
    },
    {
      "cell_type": "code",
      "execution_count": 21,
      "metadata": {
        "colab": {
          "base_uri": "https://localhost:8080/"
        },
        "id": "tMh4PKKNZi-v",
        "outputId": "fb3b0006-839a-47e3-9a9b-058cbd4046a8"
      },
      "outputs": [
        {
          "data": {
            "text/plain": [
              "2022-01-03    0\n",
              "2022-01-04    1\n",
              "2022-01-05    2\n",
              "Freq: D, dtype: int64"
            ]
          },
          "execution_count": 21,
          "metadata": {},
          "output_type": "execute_result"
        }
      ],
      "source": [
        "# 결과가 index인 시리즈 만들기\n",
        "idx = pd.date_range('2022-01-03', periods=3)\n",
        "pd.Series([0, 1, 2], index=idx)"
      ]
    },
    {
      "cell_type": "code",
      "execution_count": 22,
      "metadata": {
        "colab": {
          "base_uri": "https://localhost:8080/"
        },
        "id": "3Uo5XaCaZVOm",
        "outputId": "9c8b27b4-8027-4ec9-9c62-a5759c315b79"
      },
      "outputs": [
        {
          "data": {
            "text/plain": [
              "0   2022-01-03\n",
              "1   2022-01-04\n",
              "2   2022-01-05\n",
              "dtype: datetime64[ns]"
            ]
          },
          "execution_count": 22,
          "metadata": {},
          "output_type": "execute_result"
        }
      ],
      "source": [
        "# DatetimeIndex이지만 시리즈로 만들 수 있고 데이터프레임의 열로 만들 수도 있다\n",
        "pd.Series(pd.date_range('2022-01-03', periods=3))"
      ]
    },
    {
      "cell_type": "markdown",
      "metadata": {
        "id": "V2sOtrPSTc99"
      },
      "source": [
        "**주기**\n",
        "\n",
        "<img src=https://i.ibb.co/44LnkqM/image.jpg, width=600>\n",
        "\n",
        "- 이 외의 주기가 필요하면 링크를 참조 :\n",
        "\n",
        " https://pandas.pydata.org/docs/user_guide/timeseries.html#timeseries-offset-aliases"
      ]
    },
    {
      "cell_type": "code",
      "execution_count": 23,
      "metadata": {
        "colab": {
          "base_uri": "https://localhost:8080/"
        },
        "id": "BB7CIDUIZtYE",
        "outputId": "019479e9-8b1c-4e6d-f742-d20df52b3f75"
      },
      "outputs": [
        {
          "data": {
            "text/plain": [
              "DatetimeIndex(['2022-01-31', '2022-02-28', '2022-03-31'], dtype='datetime64[ns]', freq='M')"
            ]
          },
          "execution_count": 23,
          "metadata": {},
          "output_type": "execute_result"
        }
      ],
      "source": [
        "# 주기 바꾸기 (월의 마지막날)\n",
        "pd.date_range('2022-01-03', periods=3, freq='M')"
      ]
    },
    {
      "cell_type": "code",
      "execution_count": 24,
      "metadata": {
        "colab": {
          "base_uri": "https://localhost:8080/"
        },
        "id": "I6sow1GybQFP",
        "outputId": "551395d0-c812-446c-e156-80915e09ad35"
      },
      "outputs": [
        {
          "data": {
            "text/plain": [
              "DatetimeIndex(['2022-02-01', '2022-03-01', '2022-04-01'], dtype='datetime64[ns]', freq='MS')"
            ]
          },
          "execution_count": 24,
          "metadata": {},
          "output_type": "execute_result"
        }
      ],
      "source": [
        "# 주기 바꾸기 (월의 첫날)\n",
        "pd.date_range('2022-01-03', periods=3, freq='MS')"
      ]
    },
    {
      "cell_type": "code",
      "execution_count": 25,
      "metadata": {
        "colab": {
          "base_uri": "https://localhost:8080/"
        },
        "id": "zmEcJLwxjoeO",
        "outputId": "c8d87e7d-c395-4b11-885f-8ef07ed6e6a0"
      },
      "outputs": [
        {
          "data": {
            "text/plain": [
              "DatetimeIndex(['2022-01-31', '2022-03-31', '2022-05-31'], dtype='datetime64[ns]', freq='2M')"
            ]
          },
          "execution_count": 25,
          "metadata": {},
          "output_type": "execute_result"
        }
      ],
      "source": [
        "# 주기 바꾸기 (2개월 주기의 마지막날)\n",
        "pd.date_range('2022-01-03', periods=3, freq='2M')"
      ]
    },
    {
      "cell_type": "code",
      "execution_count": 26,
      "metadata": {
        "colab": {
          "base_uri": "https://localhost:8080/"
        },
        "id": "ZKOGpFw8Z3B1",
        "outputId": "6c5ce0cb-3a8f-4d95-85b4-f0e5ce816929"
      },
      "outputs": [
        {
          "data": {
            "text/plain": [
              "DatetimeIndex(['2022-12-31', '2023-12-31', '2024-12-31'], dtype='datetime64[ns]', freq='A-DEC')"
            ]
          },
          "execution_count": 26,
          "metadata": {},
          "output_type": "execute_result"
        }
      ],
      "source": [
        "# 주기 바꾸기 (년도별 마지막날)\n",
        "pd.date_range('2022-01-03', periods=3, freq='Y')"
      ]
    },
    {
      "cell_type": "code",
      "execution_count": 27,
      "metadata": {
        "colab": {
          "base_uri": "https://localhost:8080/"
        },
        "id": "cxgq8cAwZ8RX",
        "outputId": "a9175a2e-494a-4796-c643-73dce0cc517e"
      },
      "outputs": [
        {
          "data": {
            "text/plain": [
              "DatetimeIndex(['2022-01-03 00:00:00', '2022-01-03 00:10:00',\n",
              "               '2022-01-03 00:20:00', '2022-01-03 00:30:00',\n",
              "               '2022-01-03 00:40:00', '2022-01-03 00:50:00',\n",
              "               '2022-01-03 01:00:00', '2022-01-03 01:10:00',\n",
              "               '2022-01-03 01:20:00', '2022-01-03 01:30:00'],\n",
              "              dtype='datetime64[ns]', freq='10T')"
            ]
          },
          "execution_count": 27,
          "metadata": {},
          "output_type": "execute_result"
        }
      ],
      "source": [
        "# 주기 바꾸기 (10분))\n",
        "pd.date_range('2022-01-03', periods=10, freq='10T')"
      ]
    },
    {
      "cell_type": "markdown",
      "metadata": {
        "id": "O596l1LEBBgP"
      },
      "source": [
        "## 4. dt 접근자"
      ]
    },
    {
      "cell_type": "markdown",
      "metadata": {
        "id": "UcZPfp8XbGAI"
      },
      "source": [
        "dt 접근자와 사용해서 datetime의 특정 데이터를 가져오는 속성과 함수들\n",
        "\n",
        "<img src=https://i.ibb.co/zr15b8r/dt.jpg, width=600>"
      ]
    },
    {
      "cell_type": "code",
      "execution_count": 28,
      "metadata": {
        "id": "xW6cXZUhHGfN"
      },
      "outputs": [],
      "source": [
        "# 실습 준비 코드\n",
        "import pandas as pd\n",
        "idx = pd.date_range('2022-01-03', periods=6, freq='43D 9H 10T')\n",
        "df1 = pd.DataFrame(idx, columns=['date'])\n",
        "df2 = pd.DataFrame([20, 20, 30, 20, 40, 10], index=idx, columns=['sales'])"
      ]
    },
    {
      "cell_type": "code",
      "execution_count": 29,
      "metadata": {
        "colab": {
          "base_uri": "https://localhost:8080/",
          "height": 238
        },
        "id": "vVBBn-s4Xl73",
        "outputId": "43a46967-4e08-4450-8ee6-692be32c6879"
      },
      "outputs": [
        {
          "data": {
            "text/html": [
              "<div>\n",
              "<style scoped>\n",
              "    .dataframe tbody tr th:only-of-type {\n",
              "        vertical-align: middle;\n",
              "    }\n",
              "\n",
              "    .dataframe tbody tr th {\n",
              "        vertical-align: top;\n",
              "    }\n",
              "\n",
              "    .dataframe thead th {\n",
              "        text-align: right;\n",
              "    }\n",
              "</style>\n",
              "<table border=\"1\" class=\"dataframe\">\n",
              "  <thead>\n",
              "    <tr style=\"text-align: right;\">\n",
              "      <th></th>\n",
              "      <th>date</th>\n",
              "    </tr>\n",
              "  </thead>\n",
              "  <tbody>\n",
              "    <tr>\n",
              "      <th>0</th>\n",
              "      <td>2022-01-03 00:00:00</td>\n",
              "    </tr>\n",
              "    <tr>\n",
              "      <th>1</th>\n",
              "      <td>2022-02-15 09:10:00</td>\n",
              "    </tr>\n",
              "    <tr>\n",
              "      <th>2</th>\n",
              "      <td>2022-03-30 18:20:00</td>\n",
              "    </tr>\n",
              "    <tr>\n",
              "      <th>3</th>\n",
              "      <td>2022-05-13 03:30:00</td>\n",
              "    </tr>\n",
              "    <tr>\n",
              "      <th>4</th>\n",
              "      <td>2022-06-25 12:40:00</td>\n",
              "    </tr>\n",
              "    <tr>\n",
              "      <th>5</th>\n",
              "      <td>2022-08-07 21:50:00</td>\n",
              "    </tr>\n",
              "  </tbody>\n",
              "</table>\n",
              "</div>"
            ],
            "text/plain": [
              "                 date\n",
              "0 2022-01-03 00:00:00\n",
              "1 2022-02-15 09:10:00\n",
              "2 2022-03-30 18:20:00\n",
              "3 2022-05-13 03:30:00\n",
              "4 2022-06-25 12:40:00\n",
              "5 2022-08-07 21:50:00"
            ]
          },
          "execution_count": 29,
          "metadata": {},
          "output_type": "execute_result"
        }
      ],
      "source": [
        "# 실습에 쓰일 df1\n",
        "df1"
      ]
    },
    {
      "cell_type": "code",
      "execution_count": 30,
      "metadata": {
        "colab": {
          "base_uri": "https://localhost:8080/"
        },
        "id": "zx_fn3ogYfAB",
        "outputId": "0d47b2de-f941-4063-9bfe-4d4c10c95c42"
      },
      "outputs": [
        {
          "data": {
            "text/plain": [
              "0     3\n",
              "1    15\n",
              "2    30\n",
              "3    13\n",
              "4    25\n",
              "5     7\n",
              "Name: date, dtype: int32"
            ]
          },
          "execution_count": 30,
          "metadata": {},
          "output_type": "execute_result"
        }
      ],
      "source": [
        "# df1의 date열의 날짜만 추출\n",
        "df1['date'].dt.day"
      ]
    },
    {
      "cell_type": "code",
      "execution_count": 31,
      "metadata": {
        "colab": {
          "base_uri": "https://localhost:8080/"
        },
        "id": "VGKC1JnsZFns",
        "outputId": "96fba065-5a9e-4537-935c-94fd72771d7a"
      },
      "outputs": [
        {
          "data": {
            "text/plain": [
              "0    0\n",
              "1    0\n",
              "2    0\n",
              "3    0\n",
              "4    0\n",
              "5    0\n",
              "Name: date, dtype: int32"
            ]
          },
          "execution_count": 31,
          "metadata": {},
          "output_type": "execute_result"
        }
      ],
      "source": [
        "df1['date'].dt.year # 연도\n",
        "df1['date'].dt.quarter # 쿼터\n",
        "df1['date'].dt.month # 월\n",
        "df1['date'].dt.day # 일\n",
        "df1['date'].dt.hour # 시각\n",
        "df1['date'].dt.minute # 분\n",
        "df1['date'].dt.second # 초"
      ]
    },
    {
      "cell_type": "code",
      "execution_count": 32,
      "metadata": {
        "colab": {
          "base_uri": "https://localhost:8080/"
        },
        "id": "8t4j8ed2Y6WQ",
        "outputId": "6114c948-76f7-4a53-9f16-6badd2ee862a"
      },
      "outputs": [
        {
          "data": {
            "text/plain": [
              "0    00:00:00\n",
              "1    09:10:00\n",
              "2    18:20:00\n",
              "3    03:30:00\n",
              "4    12:40:00\n",
              "5    21:50:00\n",
              "Name: date, dtype: object"
            ]
          },
          "execution_count": 32,
          "metadata": {},
          "output_type": "execute_result"
        }
      ],
      "source": [
        "# df1의 date열의 시간만 추출 (결과는 object)\n",
        "df1['date'].dt.time"
      ]
    },
    {
      "cell_type": "code",
      "execution_count": 33,
      "metadata": {
        "colab": {
          "base_uri": "https://localhost:8080/"
        },
        "id": "kPtcm5SsgRoW",
        "outputId": "6ac93716-1eba-44aa-c0b7-3fffe27780b4"
      },
      "outputs": [
        {
          "data": {
            "text/plain": [
              "0    2022-01-03\n",
              "1    2022-02-15\n",
              "2    2022-03-30\n",
              "3    2022-05-13\n",
              "4    2022-06-25\n",
              "5    2022-08-07\n",
              "Name: date, dtype: object"
            ]
          },
          "execution_count": 33,
          "metadata": {},
          "output_type": "execute_result"
        }
      ],
      "source": [
        "# df1의 date열의 날짜만 추출 (결과는 object)\n",
        "df1['date'].dt.date"
      ]
    },
    {
      "cell_type": "code",
      "execution_count": 34,
      "metadata": {
        "colab": {
          "base_uri": "https://localhost:8080/"
        },
        "id": "5Hz3ON6-Iqbu",
        "outputId": "5f971332-16f7-45db-dc97-e4acbc202833"
      },
      "outputs": [
        {
          "data": {
            "text/plain": [
              "0   2022-01-03\n",
              "1   2022-02-15\n",
              "2   2022-03-30\n",
              "3   2022-05-13\n",
              "4   2022-06-25\n",
              "5   2022-08-07\n",
              "Name: date, dtype: datetime64[ns]"
            ]
          },
          "execution_count": 34,
          "metadata": {},
          "output_type": "execute_result"
        }
      ],
      "source": [
        "# 날짜만 표시 (datetime의 시간을 00:00:00으로 만든다)\n",
        "df1['date'].dt.normalize()"
      ]
    },
    {
      "cell_type": "code",
      "execution_count": 35,
      "metadata": {
        "colab": {
          "base_uri": "https://localhost:8080/",
          "height": 238
        },
        "id": "ozFtlK4TItsl",
        "outputId": "f000f9f3-b503-4b47-f4a5-95fdf5c563ac"
      },
      "outputs": [
        {
          "data": {
            "text/html": [
              "<div>\n",
              "<style scoped>\n",
              "    .dataframe tbody tr th:only-of-type {\n",
              "        vertical-align: middle;\n",
              "    }\n",
              "\n",
              "    .dataframe tbody tr th {\n",
              "        vertical-align: top;\n",
              "    }\n",
              "\n",
              "    .dataframe thead th {\n",
              "        text-align: right;\n",
              "    }\n",
              "</style>\n",
              "<table border=\"1\" class=\"dataframe\">\n",
              "  <thead>\n",
              "    <tr style=\"text-align: right;\">\n",
              "      <th></th>\n",
              "      <th>year</th>\n",
              "      <th>week</th>\n",
              "      <th>day</th>\n",
              "    </tr>\n",
              "  </thead>\n",
              "  <tbody>\n",
              "    <tr>\n",
              "      <th>0</th>\n",
              "      <td>2022</td>\n",
              "      <td>1</td>\n",
              "      <td>1</td>\n",
              "    </tr>\n",
              "    <tr>\n",
              "      <th>1</th>\n",
              "      <td>2022</td>\n",
              "      <td>7</td>\n",
              "      <td>2</td>\n",
              "    </tr>\n",
              "    <tr>\n",
              "      <th>2</th>\n",
              "      <td>2022</td>\n",
              "      <td>13</td>\n",
              "      <td>3</td>\n",
              "    </tr>\n",
              "    <tr>\n",
              "      <th>3</th>\n",
              "      <td>2022</td>\n",
              "      <td>19</td>\n",
              "      <td>5</td>\n",
              "    </tr>\n",
              "    <tr>\n",
              "      <th>4</th>\n",
              "      <td>2022</td>\n",
              "      <td>25</td>\n",
              "      <td>6</td>\n",
              "    </tr>\n",
              "    <tr>\n",
              "      <th>5</th>\n",
              "      <td>2022</td>\n",
              "      <td>31</td>\n",
              "      <td>7</td>\n",
              "    </tr>\n",
              "  </tbody>\n",
              "</table>\n",
              "</div>"
            ],
            "text/plain": [
              "   year  week  day\n",
              "0  2022     1    1\n",
              "1  2022     7    2\n",
              "2  2022    13    3\n",
              "3  2022    19    5\n",
              "4  2022    25    6\n",
              "5  2022    31    7"
            ]
          },
          "execution_count": 35,
          "metadata": {},
          "output_type": "execute_result"
        }
      ],
      "source": [
        "# 연도 주 날짜를 데이터 프레임으로(주로 주를 추출할 때 쓴다)\n",
        "df1['date'].dt.isocalendar()"
      ]
    },
    {
      "cell_type": "code",
      "execution_count": 36,
      "metadata": {
        "colab": {
          "base_uri": "https://localhost:8080/",
          "height": 238
        },
        "id": "KnloJBH-YbDr",
        "outputId": "7e64f869-ae22-48e8-b95a-232a92d423c1"
      },
      "outputs": [
        {
          "data": {
            "text/html": [
              "<div>\n",
              "<style scoped>\n",
              "    .dataframe tbody tr th:only-of-type {\n",
              "        vertical-align: middle;\n",
              "    }\n",
              "\n",
              "    .dataframe tbody tr th {\n",
              "        vertical-align: top;\n",
              "    }\n",
              "\n",
              "    .dataframe thead th {\n",
              "        text-align: right;\n",
              "    }\n",
              "</style>\n",
              "<table border=\"1\" class=\"dataframe\">\n",
              "  <thead>\n",
              "    <tr style=\"text-align: right;\">\n",
              "      <th></th>\n",
              "      <th>sales</th>\n",
              "    </tr>\n",
              "  </thead>\n",
              "  <tbody>\n",
              "    <tr>\n",
              "      <th>2022-01-03 00:00:00</th>\n",
              "      <td>20</td>\n",
              "    </tr>\n",
              "    <tr>\n",
              "      <th>2022-02-15 09:10:00</th>\n",
              "      <td>20</td>\n",
              "    </tr>\n",
              "    <tr>\n",
              "      <th>2022-03-30 18:20:00</th>\n",
              "      <td>30</td>\n",
              "    </tr>\n",
              "    <tr>\n",
              "      <th>2022-05-13 03:30:00</th>\n",
              "      <td>20</td>\n",
              "    </tr>\n",
              "    <tr>\n",
              "      <th>2022-06-25 12:40:00</th>\n",
              "      <td>40</td>\n",
              "    </tr>\n",
              "    <tr>\n",
              "      <th>2022-08-07 21:50:00</th>\n",
              "      <td>10</td>\n",
              "    </tr>\n",
              "  </tbody>\n",
              "</table>\n",
              "</div>"
            ],
            "text/plain": [
              "                     sales\n",
              "2022-01-03 00:00:00     20\n",
              "2022-02-15 09:10:00     20\n",
              "2022-03-30 18:20:00     30\n",
              "2022-05-13 03:30:00     20\n",
              "2022-06-25 12:40:00     40\n",
              "2022-08-07 21:50:00     10"
            ]
          },
          "execution_count": 36,
          "metadata": {},
          "output_type": "execute_result"
        }
      ],
      "source": [
        "# 실습에 쓰일 df2\n",
        "df2"
      ]
    },
    {
      "cell_type": "code",
      "execution_count": 37,
      "metadata": {
        "colab": {
          "base_uri": "https://localhost:8080/"
        },
        "id": "p12oSjqGYMis",
        "outputId": "e441d488-00e6-481c-bc0d-3890380988c1"
      },
      "outputs": [
        {
          "data": {
            "text/plain": [
              "Index([2022, 2022, 2022, 2022, 2022, 2022], dtype='int32')"
            ]
          },
          "execution_count": 37,
          "metadata": {},
          "output_type": "execute_result"
        }
      ],
      "source": [
        "# df2의 index(DatetimeIndex)에서 연도만 추출 (dt접근자가 필요 없다)\n",
        "df2.index.year"
      ]
    },
    {
      "cell_type": "markdown",
      "metadata": {
        "id": "Nlt9c8tQOtZW"
      },
      "source": [
        "**지시자 (directive)**\n",
        "\n",
        "<img src=https://i.ibb.co/TBP9bPn/image.jpg, width=600>\n",
        "\n",
        "- 더 많은 지시자를 알고 싶다면 링크를 참조 : \n",
        "\n",
        " https://docs.python.org/3/library/datetime.html#strftime-and-strptime-behavior"
      ]
    },
    {
      "cell_type": "code",
      "execution_count": 38,
      "metadata": {
        "colab": {
          "base_uri": "https://localhost:8080/"
        },
        "id": "INfObw10JY9P",
        "outputId": "dd77bec9-cc5f-4566-9fee-6685ccb40ef9"
      },
      "outputs": [
        {
          "data": {
            "text/plain": [
              "0    22/01/03 [Mon]\n",
              "1    22/02/15 [Tue]\n",
              "2    22/03/30 [Wed]\n",
              "3    22/05/13 [Fri]\n",
              "4    22/06/25 [Sat]\n",
              "5    22/08/07 [Sun]\n",
              "Name: date, dtype: object"
            ]
          },
          "execution_count": 38,
          "metadata": {},
          "output_type": "execute_result"
        }
      ],
      "source": [
        "# 표기형식 바꾸기\n",
        "df1['date'].dt.strftime('%y/%m/%d [%a]')"
      ]
    },
    {
      "cell_type": "code",
      "execution_count": 39,
      "metadata": {
        "colab": {
          "base_uri": "https://localhost:8080/"
        },
        "id": "GEvgCXwjgjwp",
        "outputId": "a02044fd-e2bf-4ea1-bee7-6679267a998e"
      },
      "outputs": [
        {
          "data": {
            "text/plain": [
              "0    2022-01\n",
              "1    2022-02\n",
              "2    2022-03\n",
              "3    2022-05\n",
              "4    2022-06\n",
              "5    2022-08\n",
              "Name: date, dtype: object"
            ]
          },
          "execution_count": 39,
          "metadata": {},
          "output_type": "execute_result"
        }
      ],
      "source": [
        "# 연도와 합쳐진 월의 데이터를 가져올 때도 strftime을 쓴다\n",
        "df1['date'].dt.strftime('%Y-%m')"
      ]
    },
    {
      "cell_type": "code",
      "execution_count": 40,
      "metadata": {
        "colab": {
          "base_uri": "https://localhost:8080/"
        },
        "id": "hgk3p1CNIEKF",
        "outputId": "95dc2f11-41ab-4972-b7d1-0055474f966a"
      },
      "outputs": [
        {
          "data": {
            "text/plain": [
              "0    2022-01\n",
              "1    2022-02\n",
              "2    2022-03\n",
              "3    2022-05\n",
              "4    2022-06\n",
              "5    2022-08\n",
              "Name: date, dtype: period[M]"
            ]
          },
          "execution_count": 40,
          "metadata": {},
          "output_type": "execute_result"
        }
      ],
      "source": [
        "# 연도가 포함된 월을 얻고 싶다면 period 자료형을 사용하는 것이 더 정확하다\n",
        "df1['date'].dt.to_period('M')"
      ]
    },
    {
      "cell_type": "code",
      "execution_count": 41,
      "metadata": {
        "colab": {
          "base_uri": "https://localhost:8080/"
        },
        "id": "OevKsEuZHfR8",
        "outputId": "a0c55a0e-44cb-4923-eb93-7b8d4b0f1e30"
      },
      "outputs": [
        {
          "data": {
            "text/plain": [
              "0    2022Q1\n",
              "1    2022Q1\n",
              "2    2022Q1\n",
              "3    2022Q2\n",
              "4    2022Q2\n",
              "5    2022Q3\n",
              "Name: date, dtype: period[Q-DEC]"
            ]
          },
          "execution_count": 41,
          "metadata": {},
          "output_type": "execute_result"
        }
      ],
      "source": [
        "# 연도가 포함된 쿼터를 얻을 경우도 시계열을 유지하려면 period 자료형을 쓴다\n",
        "df1['date'].dt.to_period('Q')"
      ]
    },
    {
      "cell_type": "markdown",
      "metadata": {
        "id": "pQBj7yuC_x3Y"
      },
      "source": [
        "## 5. 시계열 데이터의 그룹집계(resample)"
      ]
    },
    {
      "cell_type": "code",
      "execution_count": 42,
      "metadata": {
        "colab": {
          "base_uri": "https://localhost:8080/",
          "height": 238
        },
        "id": "DbutT3f3_w9W",
        "outputId": "853d634a-4b5d-4907-ad3b-777a205adf11"
      },
      "outputs": [
        {
          "data": {
            "text/html": [
              "<div>\n",
              "<style scoped>\n",
              "    .dataframe tbody tr th:only-of-type {\n",
              "        vertical-align: middle;\n",
              "    }\n",
              "\n",
              "    .dataframe tbody tr th {\n",
              "        vertical-align: top;\n",
              "    }\n",
              "\n",
              "    .dataframe thead th {\n",
              "        text-align: right;\n",
              "    }\n",
              "</style>\n",
              "<table border=\"1\" class=\"dataframe\">\n",
              "  <thead>\n",
              "    <tr style=\"text-align: right;\">\n",
              "      <th></th>\n",
              "      <th>날짜</th>\n",
              "      <th>금액</th>\n",
              "      <th>구분</th>\n",
              "    </tr>\n",
              "  </thead>\n",
              "  <tbody>\n",
              "    <tr>\n",
              "      <th>0</th>\n",
              "      <td>2023-01-01 00:00:00</td>\n",
              "      <td>10000</td>\n",
              "      <td>입금</td>\n",
              "    </tr>\n",
              "    <tr>\n",
              "      <th>1</th>\n",
              "      <td>2023-01-21 09:10:00</td>\n",
              "      <td>20000</td>\n",
              "      <td>입금</td>\n",
              "    </tr>\n",
              "    <tr>\n",
              "      <th>2</th>\n",
              "      <td>2023-02-10 18:20:00</td>\n",
              "      <td>20000</td>\n",
              "      <td>출금</td>\n",
              "    </tr>\n",
              "    <tr>\n",
              "      <th>3</th>\n",
              "      <td>2023-03-03 03:30:00</td>\n",
              "      <td>20000</td>\n",
              "      <td>입금</td>\n",
              "    </tr>\n",
              "    <tr>\n",
              "      <th>4</th>\n",
              "      <td>2023-03-23 12:40:00</td>\n",
              "      <td>30000</td>\n",
              "      <td>입금</td>\n",
              "    </tr>\n",
              "    <tr>\n",
              "      <th>5</th>\n",
              "      <td>2023-04-12 21:50:00</td>\n",
              "      <td>10000</td>\n",
              "      <td>출금</td>\n",
              "    </tr>\n",
              "  </tbody>\n",
              "</table>\n",
              "</div>"
            ],
            "text/plain": [
              "                   날짜     금액  구분\n",
              "0 2023-01-01 00:00:00  10000  입금\n",
              "1 2023-01-21 09:10:00  20000  입금\n",
              "2 2023-02-10 18:20:00  20000  출금\n",
              "3 2023-03-03 03:30:00  20000  입금\n",
              "4 2023-03-23 12:40:00  30000  입금\n",
              "5 2023-04-12 21:50:00  10000  출금"
            ]
          },
          "execution_count": 42,
          "metadata": {},
          "output_type": "execute_result"
        }
      ],
      "source": [
        "# 실습 준비 코드\n",
        "import pandas as pd\n",
        "idx = pd.date_range('2023-01-01', periods=6, freq='20D 9H 10T')\n",
        "df1 = pd.DataFrame(idx, columns=['날짜'])\n",
        "df1['금액'] = [10000, 20000, 20000, 20000, 30000, 10000]\n",
        "df1['구분'] = ['입금', '입금', '출금', '입금', '입금', '출금']\n",
        "df2 = df1.set_index('날짜')\n",
        "df1"
      ]
    },
    {
      "cell_type": "markdown",
      "metadata": {
        "id": "u5vQvBsGEemg"
      },
      "source": [
        "만약 df1을 월별 집계를 한다면 df1의 날짜열에서 월의 데이터를 추출해\n",
        "`groupby`를 사용할 수도 있을 것이다"
      ]
    },
    {
      "cell_type": "code",
      "execution_count": 43,
      "metadata": {
        "colab": {
          "base_uri": "https://localhost:8080/",
          "height": 238
        },
        "id": "d9gfiJG1Ah_f",
        "outputId": "8ede4cb9-a479-4d9a-f1cf-6a8def4ee88a"
      },
      "outputs": [
        {
          "data": {
            "text/html": [
              "<div>\n",
              "<style scoped>\n",
              "    .dataframe tbody tr th:only-of-type {\n",
              "        vertical-align: middle;\n",
              "    }\n",
              "\n",
              "    .dataframe tbody tr th {\n",
              "        vertical-align: top;\n",
              "    }\n",
              "\n",
              "    .dataframe thead th {\n",
              "        text-align: right;\n",
              "    }\n",
              "</style>\n",
              "<table border=\"1\" class=\"dataframe\">\n",
              "  <thead>\n",
              "    <tr style=\"text-align: right;\">\n",
              "      <th></th>\n",
              "      <th>날짜</th>\n",
              "      <th>금액</th>\n",
              "      <th>구분</th>\n",
              "      <th>월</th>\n",
              "    </tr>\n",
              "  </thead>\n",
              "  <tbody>\n",
              "    <tr>\n",
              "      <th>0</th>\n",
              "      <td>2023-01-01 00:00:00</td>\n",
              "      <td>10000</td>\n",
              "      <td>입금</td>\n",
              "      <td>2023-01</td>\n",
              "    </tr>\n",
              "    <tr>\n",
              "      <th>1</th>\n",
              "      <td>2023-01-21 09:10:00</td>\n",
              "      <td>20000</td>\n",
              "      <td>입금</td>\n",
              "      <td>2023-01</td>\n",
              "    </tr>\n",
              "    <tr>\n",
              "      <th>2</th>\n",
              "      <td>2023-02-10 18:20:00</td>\n",
              "      <td>20000</td>\n",
              "      <td>출금</td>\n",
              "      <td>2023-02</td>\n",
              "    </tr>\n",
              "    <tr>\n",
              "      <th>3</th>\n",
              "      <td>2023-03-03 03:30:00</td>\n",
              "      <td>20000</td>\n",
              "      <td>입금</td>\n",
              "      <td>2023-03</td>\n",
              "    </tr>\n",
              "    <tr>\n",
              "      <th>4</th>\n",
              "      <td>2023-03-23 12:40:00</td>\n",
              "      <td>30000</td>\n",
              "      <td>입금</td>\n",
              "      <td>2023-03</td>\n",
              "    </tr>\n",
              "    <tr>\n",
              "      <th>5</th>\n",
              "      <td>2023-04-12 21:50:00</td>\n",
              "      <td>10000</td>\n",
              "      <td>출금</td>\n",
              "      <td>2023-04</td>\n",
              "    </tr>\n",
              "  </tbody>\n",
              "</table>\n",
              "</div>"
            ],
            "text/plain": [
              "                   날짜     금액  구분        월\n",
              "0 2023-01-01 00:00:00  10000  입금  2023-01\n",
              "1 2023-01-21 09:10:00  20000  입금  2023-01\n",
              "2 2023-02-10 18:20:00  20000  출금  2023-02\n",
              "3 2023-03-03 03:30:00  20000  입금  2023-03\n",
              "4 2023-03-23 12:40:00  30000  입금  2023-03\n",
              "5 2023-04-12 21:50:00  10000  출금  2023-04"
            ]
          },
          "execution_count": 43,
          "metadata": {},
          "output_type": "execute_result"
        }
      ],
      "source": [
        "# df1을 복제한 df로 월별 정보를 담은 월 열을 만든다\n",
        "df = df1.copy()\n",
        "df['월'] = df['날짜'].dt.strftime('%Y-%m')\n",
        "df"
      ]
    },
    {
      "cell_type": "code",
      "execution_count": 44,
      "metadata": {
        "colab": {
          "base_uri": "https://localhost:8080/"
        },
        "id": "BMrzQmp4AvvX",
        "outputId": "d9961dad-99fe-4554-f1c6-aff711a8d239"
      },
      "outputs": [
        {
          "data": {
            "text/plain": [
              "월\n",
              "2023-01    30000\n",
              "2023-02    20000\n",
              "2023-03    50000\n",
              "2023-04    10000\n",
              "Name: 금액, dtype: int64"
            ]
          },
          "execution_count": 44,
          "metadata": {},
          "output_type": "execute_result"
        }
      ],
      "source": [
        "# groupby로 월별 금액을 집계한다\n",
        "df.groupby('월')['금액'].sum()"
      ]
    },
    {
      "cell_type": "code",
      "execution_count": 45,
      "metadata": {
        "colab": {
          "base_uri": "https://localhost:8080/",
          "height": 206
        },
        "id": "K_0u4da2A2AG",
        "outputId": "8905e026-7c98-40fd-b92d-bf905246502e"
      },
      "outputs": [
        {
          "data": {
            "text/html": [
              "<div>\n",
              "<style scoped>\n",
              "    .dataframe tbody tr th:only-of-type {\n",
              "        vertical-align: middle;\n",
              "    }\n",
              "\n",
              "    .dataframe tbody tr th {\n",
              "        vertical-align: top;\n",
              "    }\n",
              "\n",
              "    .dataframe thead th {\n",
              "        text-align: right;\n",
              "    }\n",
              "</style>\n",
              "<table border=\"1\" class=\"dataframe\">\n",
              "  <thead>\n",
              "    <tr style=\"text-align: right;\">\n",
              "      <th>구분</th>\n",
              "      <th>입금</th>\n",
              "      <th>출금</th>\n",
              "    </tr>\n",
              "    <tr>\n",
              "      <th>월</th>\n",
              "      <th></th>\n",
              "      <th></th>\n",
              "    </tr>\n",
              "  </thead>\n",
              "  <tbody>\n",
              "    <tr>\n",
              "      <th>2023-01</th>\n",
              "      <td>30000.0</td>\n",
              "      <td>NaN</td>\n",
              "    </tr>\n",
              "    <tr>\n",
              "      <th>2023-02</th>\n",
              "      <td>NaN</td>\n",
              "      <td>20000.0</td>\n",
              "    </tr>\n",
              "    <tr>\n",
              "      <th>2023-03</th>\n",
              "      <td>50000.0</td>\n",
              "      <td>NaN</td>\n",
              "    </tr>\n",
              "    <tr>\n",
              "      <th>2023-04</th>\n",
              "      <td>NaN</td>\n",
              "      <td>10000.0</td>\n",
              "    </tr>\n",
              "  </tbody>\n",
              "</table>\n",
              "</div>"
            ],
            "text/plain": [
              "구분            입금       출금\n",
              "월                        \n",
              "2023-01  30000.0      NaN\n",
              "2023-02      NaN  20000.0\n",
              "2023-03  50000.0      NaN\n",
              "2023-04      NaN  10000.0"
            ]
          },
          "execution_count": 45,
          "metadata": {},
          "output_type": "execute_result"
        }
      ],
      "source": [
        "# groupby로 월과 구분으로 집계해 unstack으로 피벗테이블 처럼 만든다\n",
        "df.groupby(['월', '구분'])['금액'].sum().unstack()"
      ]
    },
    {
      "cell_type": "markdown",
      "metadata": {
        "id": "CI90ysjQE4Ax"
      },
      "source": [
        "위 방법이 일감으로 떠오르겠지만 판다스에서는 대부분 이런식의 그룹집계를 하지 않는다\n",
        "\n",
        "> 판다스에는 그룹집계에 탁월한 `resample` 함수가 있기 때문\n",
        "\n",
        "`groupby`자리에 `resample`을 사용하며 따로 열로 만들 것 없이 `resample`에 집계할 주기를 지정하면 된다\n",
        "\n"
      ]
    },
    {
      "cell_type": "code",
      "execution_count": 46,
      "metadata": {
        "colab": {
          "base_uri": "https://localhost:8080/"
        },
        "id": "Q3qYu5VwA9qP",
        "outputId": "1be99386-3213-4c66-e117-2c7bdc046fe6"
      },
      "outputs": [
        {
          "data": {
            "text/plain": [
              "날짜\n",
              "2023-01-31    30000\n",
              "2023-02-28    20000\n",
              "2023-03-31    50000\n",
              "2023-04-30    10000\n",
              "Freq: M, Name: 금액, dtype: int64"
            ]
          },
          "execution_count": 46,
          "metadata": {},
          "output_type": "execute_result"
        }
      ],
      "source": [
        "# 일자별 집계\n",
        "df1.resample(rule='M', on='날짜')['금액'].sum()"
      ]
    },
    {
      "cell_type": "code",
      "execution_count": 47,
      "metadata": {
        "colab": {
          "base_uri": "https://localhost:8080/"
        },
        "id": "UJvXWkRkBjCv",
        "outputId": "6ce1d586-a538-4203-e200-1797e7c6e1b1"
      },
      "outputs": [
        {
          "data": {
            "text/plain": [
              "날짜\n",
              "2023-01-01    30000\n",
              "2023-02-01    20000\n",
              "2023-03-01    50000\n",
              "2023-04-01    10000\n",
              "Freq: MS, Name: 금액, dtype: int64"
            ]
          },
          "execution_count": 47,
          "metadata": {},
          "output_type": "execute_result"
        }
      ],
      "source": [
        "# timestamp를 월의 첫날로 바꿔보자\n",
        "df1.resample('MS', on='날짜')['금액'].sum()"
      ]
    },
    {
      "cell_type": "code",
      "execution_count": 48,
      "metadata": {
        "colab": {
          "base_uri": "https://localhost:8080/",
          "height": 206
        },
        "id": "fG6XV3vXBHht",
        "outputId": "e208cf00-6207-4f0f-dead-dc5ac0af4035"
      },
      "outputs": [
        {
          "data": {
            "text/html": [
              "<div>\n",
              "<style scoped>\n",
              "    .dataframe tbody tr th:only-of-type {\n",
              "        vertical-align: middle;\n",
              "    }\n",
              "\n",
              "    .dataframe tbody tr th {\n",
              "        vertical-align: top;\n",
              "    }\n",
              "\n",
              "    .dataframe thead th {\n",
              "        text-align: right;\n",
              "    }\n",
              "</style>\n",
              "<table border=\"1\" class=\"dataframe\">\n",
              "  <thead>\n",
              "    <tr style=\"text-align: right;\">\n",
              "      <th>구분</th>\n",
              "      <th>입금</th>\n",
              "      <th>출금</th>\n",
              "    </tr>\n",
              "    <tr>\n",
              "      <th>날짜</th>\n",
              "      <th></th>\n",
              "      <th></th>\n",
              "    </tr>\n",
              "  </thead>\n",
              "  <tbody>\n",
              "    <tr>\n",
              "      <th>2023-01-31</th>\n",
              "      <td>30000.0</td>\n",
              "      <td>NaN</td>\n",
              "    </tr>\n",
              "    <tr>\n",
              "      <th>2023-02-28</th>\n",
              "      <td>0.0</td>\n",
              "      <td>20000.0</td>\n",
              "    </tr>\n",
              "    <tr>\n",
              "      <th>2023-03-31</th>\n",
              "      <td>50000.0</td>\n",
              "      <td>0.0</td>\n",
              "    </tr>\n",
              "    <tr>\n",
              "      <th>2023-04-30</th>\n",
              "      <td>NaN</td>\n",
              "      <td>10000.0</td>\n",
              "    </tr>\n",
              "  </tbody>\n",
              "</table>\n",
              "</div>"
            ],
            "text/plain": [
              "구분               입금       출금\n",
              "날짜                          \n",
              "2023-01-31  30000.0      NaN\n",
              "2023-02-28      0.0  20000.0\n",
              "2023-03-31  50000.0      0.0\n",
              "2023-04-30      NaN  10000.0"
            ]
          },
          "execution_count": 48,
          "metadata": {},
          "output_type": "execute_result"
        }
      ],
      "source": [
        "# 시계열 resample과 groupby를 함께 사용할 때 (groupby부터 사용한다)\n",
        "df1.groupby('구분').resample('M', on='날짜')['금액'].sum().unstack(level=0)"
      ]
    },
    {
      "cell_type": "code",
      "execution_count": 49,
      "metadata": {
        "colab": {
          "base_uri": "https://localhost:8080/",
          "height": 269
        },
        "id": "LMwCgsosC8Qs",
        "outputId": "87d74060-efa2-46b4-f8a5-ae2bb1938f3a"
      },
      "outputs": [
        {
          "data": {
            "text/html": [
              "<div>\n",
              "<style scoped>\n",
              "    .dataframe tbody tr th:only-of-type {\n",
              "        vertical-align: middle;\n",
              "    }\n",
              "\n",
              "    .dataframe tbody tr th {\n",
              "        vertical-align: top;\n",
              "    }\n",
              "\n",
              "    .dataframe thead th {\n",
              "        text-align: right;\n",
              "    }\n",
              "</style>\n",
              "<table border=\"1\" class=\"dataframe\">\n",
              "  <thead>\n",
              "    <tr style=\"text-align: right;\">\n",
              "      <th></th>\n",
              "      <th>금액</th>\n",
              "      <th>구분</th>\n",
              "    </tr>\n",
              "    <tr>\n",
              "      <th>날짜</th>\n",
              "      <th></th>\n",
              "      <th></th>\n",
              "    </tr>\n",
              "  </thead>\n",
              "  <tbody>\n",
              "    <tr>\n",
              "      <th>2023-01-01 00:00:00</th>\n",
              "      <td>10000</td>\n",
              "      <td>입금</td>\n",
              "    </tr>\n",
              "    <tr>\n",
              "      <th>2023-01-21 09:10:00</th>\n",
              "      <td>20000</td>\n",
              "      <td>입금</td>\n",
              "    </tr>\n",
              "    <tr>\n",
              "      <th>2023-02-10 18:20:00</th>\n",
              "      <td>20000</td>\n",
              "      <td>출금</td>\n",
              "    </tr>\n",
              "    <tr>\n",
              "      <th>2023-03-03 03:30:00</th>\n",
              "      <td>20000</td>\n",
              "      <td>입금</td>\n",
              "    </tr>\n",
              "    <tr>\n",
              "      <th>2023-03-23 12:40:00</th>\n",
              "      <td>30000</td>\n",
              "      <td>입금</td>\n",
              "    </tr>\n",
              "    <tr>\n",
              "      <th>2023-04-12 21:50:00</th>\n",
              "      <td>10000</td>\n",
              "      <td>출금</td>\n",
              "    </tr>\n",
              "  </tbody>\n",
              "</table>\n",
              "</div>"
            ],
            "text/plain": [
              "                        금액  구분\n",
              "날짜                            \n",
              "2023-01-01 00:00:00  10000  입금\n",
              "2023-01-21 09:10:00  20000  입금\n",
              "2023-02-10 18:20:00  20000  출금\n",
              "2023-03-03 03:30:00  20000  입금\n",
              "2023-03-23 12:40:00  30000  입금\n",
              "2023-04-12 21:50:00  10000  출금"
            ]
          },
          "execution_count": 49,
          "metadata": {},
          "output_type": "execute_result"
        }
      ],
      "source": [
        "# 실습에 쓰일 df2는 DatetimeIndex이다\n",
        "df2"
      ]
    },
    {
      "cell_type": "code",
      "execution_count": 50,
      "metadata": {
        "colab": {
          "base_uri": "https://localhost:8080/"
        },
        "id": "NcS_GnwDCtqt",
        "outputId": "4f89bae3-892a-4b72-84e9-9c9aa885f017"
      },
      "outputs": [
        {
          "data": {
            "text/plain": [
              "날짜\n",
              "2023-01-01    30000\n",
              "2023-02-01    20000\n",
              "2023-03-01    50000\n",
              "2023-04-01    10000\n",
              "Freq: MS, Name: 금액, dtype: int64"
            ]
          },
          "execution_count": 50,
          "metadata": {},
          "output_type": "execute_result"
        }
      ],
      "source": [
        "# DatetimeIndex일 때는 on의 지정이 필요없다\n",
        "df2.resample('MS')['금액'].sum()"
      ]
    },
    {
      "cell_type": "markdown",
      "metadata": {
        "id": "Ch9bG7y2Dhq7"
      },
      "source": [
        "프로젝트의 그룹집계로 프로젝트를 마무리\n",
        "\n",
        "온라인 쇼핑몰 데이터의 일자별 액션수를 집계해보자"
      ]
    },
    {
      "cell_type": "code",
      "execution_count": 51,
      "metadata": {
        "colab": {
          "base_uri": "https://localhost:8080/",
          "height": 392
        },
        "id": "U7uMeyuJCFUW",
        "outputId": "2d198731-5e5a-4479-f680-7b2b35fa2338"
      },
      "outputs": [
        {
          "data": {
            "text/html": [
              "<div>\n",
              "<style scoped>\n",
              "    .dataframe tbody tr th:only-of-type {\n",
              "        vertical-align: middle;\n",
              "    }\n",
              "\n",
              "    .dataframe tbody tr th {\n",
              "        vertical-align: top;\n",
              "    }\n",
              "\n",
              "    .dataframe thead th {\n",
              "        text-align: right;\n",
              "    }\n",
              "</style>\n",
              "<table border=\"1\" class=\"dataframe\">\n",
              "  <thead>\n",
              "    <tr style=\"text-align: right;\">\n",
              "      <th></th>\n",
              "      <th>유저코드</th>\n",
              "      <th>카테고리</th>\n",
              "      <th>제품코드</th>\n",
              "      <th>가격</th>\n",
              "      <th>행동</th>\n",
              "    </tr>\n",
              "    <tr>\n",
              "      <th>시간</th>\n",
              "      <th></th>\n",
              "      <th></th>\n",
              "      <th></th>\n",
              "      <th></th>\n",
              "      <th></th>\n",
              "    </tr>\n",
              "  </thead>\n",
              "  <tbody>\n",
              "    <tr>\n",
              "      <th>2022-06-01 00:00:01</th>\n",
              "      <td>u514028527</td>\n",
              "      <td>패션</td>\n",
              "      <td>p1307115</td>\n",
              "      <td>411.59</td>\n",
              "      <td>V</td>\n",
              "    </tr>\n",
              "    <tr>\n",
              "      <th>2022-06-01 00:00:13</th>\n",
              "      <td>u550193582</td>\n",
              "      <td>화장품</td>\n",
              "      <td>p12705151</td>\n",
              "      <td>51.22</td>\n",
              "      <td>V</td>\n",
              "    </tr>\n",
              "    <tr>\n",
              "      <th>2022-06-01 00:00:13</th>\n",
              "      <td>u551977964</td>\n",
              "      <td>식품</td>\n",
              "      <td>p4100249</td>\n",
              "      <td>583.80</td>\n",
              "      <td>V</td>\n",
              "    </tr>\n",
              "    <tr>\n",
              "      <th>2022-06-01 00:00:19</th>\n",
              "      <td>u542985695</td>\n",
              "      <td>식품</td>\n",
              "      <td>p12705928</td>\n",
              "      <td>139.58</td>\n",
              "      <td>V</td>\n",
              "    </tr>\n",
              "    <tr>\n",
              "      <th>...</th>\n",
              "      <td>...</td>\n",
              "      <td>...</td>\n",
              "      <td>...</td>\n",
              "      <td>...</td>\n",
              "      <td>...</td>\n",
              "    </tr>\n",
              "    <tr>\n",
              "      <th>2022-06-07 23:59:41</th>\n",
              "      <td>u548223253</td>\n",
              "      <td>식품</td>\n",
              "      <td>p4000169</td>\n",
              "      <td>102.94</td>\n",
              "      <td>V</td>\n",
              "    </tr>\n",
              "    <tr>\n",
              "      <th>2022-06-07 23:59:47</th>\n",
              "      <td>u566067205</td>\n",
              "      <td>인테리어</td>\n",
              "      <td>p16300035</td>\n",
              "      <td>31.92</td>\n",
              "      <td>V</td>\n",
              "    </tr>\n",
              "    <tr>\n",
              "      <th>2022-06-07 23:59:56</th>\n",
              "      <td>u553835872</td>\n",
              "      <td>가전</td>\n",
              "      <td>p1005192</td>\n",
              "      <td>205.67</td>\n",
              "      <td>V</td>\n",
              "    </tr>\n",
              "    <tr>\n",
              "      <th>2022-06-07 23:59:59</th>\n",
              "      <td>u518620512</td>\n",
              "      <td>식품</td>\n",
              "      <td>p3600661</td>\n",
              "      <td>306.05</td>\n",
              "      <td>V</td>\n",
              "    </tr>\n",
              "  </tbody>\n",
              "</table>\n",
              "<p>81433 rows × 5 columns</p>\n",
              "</div>"
            ],
            "text/plain": [
              "                           유저코드  카테고리       제품코드      가격 행동\n",
              "시간                                                         \n",
              "2022-06-01 00:00:01  u514028527    패션   p1307115  411.59  V\n",
              "2022-06-01 00:00:13  u550193582   화장품  p12705151   51.22  V\n",
              "2022-06-01 00:00:13  u551977964    식품   p4100249  583.80  V\n",
              "2022-06-01 00:00:19  u542985695    식품  p12705928  139.58  V\n",
              "...                         ...   ...        ...     ... ..\n",
              "2022-06-07 23:59:41  u548223253    식품   p4000169  102.94  V\n",
              "2022-06-07 23:59:47  u566067205  인테리어  p16300035   31.92  V\n",
              "2022-06-07 23:59:56  u553835872    가전   p1005192  205.67  V\n",
              "2022-06-07 23:59:59  u518620512    식품   p3600661  306.05  V\n",
              "\n",
              "[81433 rows x 5 columns]"
            ]
          },
          "execution_count": 51,
          "metadata": {},
          "output_type": "execute_result"
        }
      ],
      "source": [
        "# 프로젝트 코드\n",
        "import pandas as pd\n",
        "pd.options.display.max_rows = 8\n",
        "url = './11_01_shop_data.csv'\n",
        "# csv파일에서 부를때 datetime으로 지정하고 index로 지정하기\n",
        "df_ex1 = pd.read_csv(url, parse_dates=['시간'], index_col=0)\n",
        "df_ex1"
      ]
    },
    {
      "cell_type": "code",
      "execution_count": 52,
      "metadata": {
        "colab": {
          "base_uri": "https://localhost:8080/"
        },
        "id": "khfjbwj9Ca0q",
        "outputId": "0f3daa6c-c3ff-47f1-9f58-6b1b71f7ba8d"
      },
      "outputs": [
        {
          "data": {
            "text/plain": [
              "시간\n",
              "2022-06-01    16974\n",
              "2022-06-02    12815\n",
              "2022-06-03    10063\n",
              "2022-06-04     9892\n",
              "2022-06-05     9285\n",
              "2022-06-06     9141\n",
              "2022-06-07    13263\n",
              "Freq: D, Name: 가격, dtype: int64"
            ]
          },
          "execution_count": 52,
          "metadata": {},
          "output_type": "execute_result"
        }
      ],
      "source": [
        "# 일자별 총 행동의 횟수 집계\n",
        "df_ex1.resample('D')['가격'].count()"
      ]
    },
    {
      "cell_type": "code",
      "execution_count": 53,
      "metadata": {
        "colab": {
          "base_uri": "https://localhost:8080/",
          "height": 378
        },
        "id": "Lvs7YB_XELRc",
        "outputId": "946c74b5-3fb1-434f-bb06-283cffd3fec5"
      },
      "outputs": [
        {
          "data": {
            "text/plain": [
              "<Axes: >"
            ]
          },
          "execution_count": 53,
          "metadata": {},
          "output_type": "execute_result"
        },
        {
          "data": {
            "image/png": "[encoded data removed]",
            "text/plain": [
              "<Figure size 640x480 with 1 Axes>"
            ]
          },
          "metadata": {},
          "output_type": "display_data"
        }
      ],
      "source": [
        "# 간단하게 시각화\n",
        "df_ex1.resample('D')['가격'].count().rename_axis('').plot(kind='bar')"
      ]
    },
    {
      "cell_type": "markdown",
      "metadata": {
        "id": "rkwtbzNKD_wY"
      },
      "source": [
        "프로젝트 데이터의 행동 유형\n",
        "\n",
        "- V(view) : 페이지 보기\n",
        "- C(cart) : 장바구니 담기\n",
        "- B(buy) : 구매\n",
        "\n",
        "유형별로 횟수를 집계해보자"
      ]
    },
    {
      "cell_type": "code",
      "execution_count": 54,
      "metadata": {
        "colab": {
          "base_uri": "https://localhost:8080/",
          "height": 300
        },
        "id": "qBEXGR3LDtbE",
        "outputId": "10532f9f-cda5-47ee-cc95-714438aff20d"
      },
      "outputs": [
        {
          "data": {
            "text/html": [
              "<div>\n",
              "<style scoped>\n",
              "    .dataframe tbody tr th:only-of-type {\n",
              "        vertical-align: middle;\n",
              "    }\n",
              "\n",
              "    .dataframe tbody tr th {\n",
              "        vertical-align: top;\n",
              "    }\n",
              "\n",
              "    .dataframe thead th {\n",
              "        text-align: right;\n",
              "    }\n",
              "</style>\n",
              "<table border=\"1\" class=\"dataframe\">\n",
              "  <thead>\n",
              "    <tr style=\"text-align: right;\">\n",
              "      <th>행동</th>\n",
              "      <th>B</th>\n",
              "      <th>C</th>\n",
              "      <th>V</th>\n",
              "    </tr>\n",
              "    <tr>\n",
              "      <th>시간</th>\n",
              "      <th></th>\n",
              "      <th></th>\n",
              "      <th></th>\n",
              "    </tr>\n",
              "  </thead>\n",
              "  <tbody>\n",
              "    <tr>\n",
              "      <th>2022-06-01</th>\n",
              "      <td>75</td>\n",
              "      <td>91</td>\n",
              "      <td>16808</td>\n",
              "    </tr>\n",
              "    <tr>\n",
              "      <th>2022-06-02</th>\n",
              "      <td>72</td>\n",
              "      <td>87</td>\n",
              "      <td>12656</td>\n",
              "    </tr>\n",
              "    <tr>\n",
              "      <th>2022-06-03</th>\n",
              "      <td>61</td>\n",
              "      <td>81</td>\n",
              "      <td>9921</td>\n",
              "    </tr>\n",
              "    <tr>\n",
              "      <th>2022-06-04</th>\n",
              "      <td>63</td>\n",
              "      <td>63</td>\n",
              "      <td>9766</td>\n",
              "    </tr>\n",
              "    <tr>\n",
              "      <th>2022-06-05</th>\n",
              "      <td>46</td>\n",
              "      <td>64</td>\n",
              "      <td>9175</td>\n",
              "    </tr>\n",
              "    <tr>\n",
              "      <th>2022-06-06</th>\n",
              "      <td>35</td>\n",
              "      <td>60</td>\n",
              "      <td>9046</td>\n",
              "    </tr>\n",
              "    <tr>\n",
              "      <th>2022-06-07</th>\n",
              "      <td>60</td>\n",
              "      <td>93</td>\n",
              "      <td>13110</td>\n",
              "    </tr>\n",
              "  </tbody>\n",
              "</table>\n",
              "</div>"
            ],
            "text/plain": [
              "행동           B   C      V\n",
              "시간                       \n",
              "2022-06-01  75  91  16808\n",
              "2022-06-02  72  87  12656\n",
              "2022-06-03  61  81   9921\n",
              "2022-06-04  63  63   9766\n",
              "2022-06-05  46  64   9175\n",
              "2022-06-06  35  60   9046\n",
              "2022-06-07  60  93  13110"
            ]
          },
          "execution_count": 54,
          "metadata": {},
          "output_type": "execute_result"
        }
      ],
      "source": [
        "# 일자별 행동 유형별로 횟수를 집계\n",
        "df_ex1.groupby('행동').resample('D')['가격'].count().unstack(level=0)"
      ]
    },
    {
      "cell_type": "code",
      "execution_count": null,
      "metadata": {},
      "outputs": [],
      "source": []
    }
  ],
  "metadata": {
    "colab": {
      "provenance": []
    },
    "kernelspec": {
      "display_name": "Python 3",
      "name": "python3"
    },
    "language_info": {
      "codemirror_mode": {
        "name": "ipython",
        "version": 3
      },
      "file_extension": ".py",
      "mimetype": "text/x-python",
      "name": "python",
      "nbconvert_exporter": "python",
      "pygments_lexer": "ipython3",
      "version": "3.8.6rc1"
    }
  },
  "nbformat": 4,
  "nbformat_minor": 0
}
