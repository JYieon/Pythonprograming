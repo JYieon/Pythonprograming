{
 "cells": [
  {
   "cell_type": "code",
   "execution_count": 7,
   "metadata": {},
   "outputs": [],
   "source": [
    "import sqlite3\n",
    "conn = sqlite3.connect('blog.db')"
   ]
  },
  {
   "cell_type": "code",
   "execution_count": 8,
   "metadata": {},
   "outputs": [
    {
     "ename": "OperationalError",
     "evalue": "table blog already exists",
     "output_type": "error",
     "traceback": [
      "\u001b[1;31m---------------------------------------------------------------------------\u001b[0m",
      "\u001b[1;31mOperationalError\u001b[0m                          Traceback (most recent call last)",
      "Cell \u001b[1;32mIn[8], line 2\u001b[0m\n\u001b[0;32m      1\u001b[0m c \u001b[38;5;241m=\u001b[39m conn\u001b[38;5;241m.\u001b[39mcursor()  \u001b[38;5;66;03m# 커서 생성\u001b[39;00m\n\u001b[1;32m----> 2\u001b[0m \u001b[43mc\u001b[49m\u001b[38;5;241;43m.\u001b[39;49m\u001b[43mexecute\u001b[49m\u001b[43m(\u001b[49m\u001b[38;5;124;43m'''\u001b[39;49m\u001b[38;5;124;43mCREATE TABLE blog (id integer PRIMARY KEY, subject text, content text, date text)\u001b[39;49m\u001b[38;5;124;43m'''\u001b[39;49m\u001b[43m)\u001b[49m\n",
      "\u001b[1;31mOperationalError\u001b[0m: table blog already exists"
     ]
    }
   ],
   "source": [
    "c = conn.cursor()  # 커서 생성\n",
    "c.execute('''CREATE TABLE blog (id integer PRIMARY KEY, subject text, content text, date text)''')"
   ]
  },
  {
   "cell_type": "code",
   "execution_count": 9,
   "metadata": {},
   "outputs": [
    {
     "ename": "IntegrityError",
     "evalue": "UNIQUE constraint failed: blog.id",
     "output_type": "error",
     "traceback": [
      "\u001b[1;31m---------------------------------------------------------------------------\u001b[0m",
      "\u001b[1;31mIntegrityError\u001b[0m                            Traceback (most recent call last)",
      "Cell \u001b[1;32mIn[9], line 1\u001b[0m\n\u001b[1;32m----> 1\u001b[0m \u001b[43mc\u001b[49m\u001b[38;5;241;43m.\u001b[39;49m\u001b[43mexecute\u001b[49m\u001b[43m(\u001b[49m\u001b[38;5;124;43m\"\u001b[39;49m\u001b[38;5;124;43mINSERT INTO blog VALUES (1, \u001b[39;49m\u001b[38;5;124;43m'\u001b[39;49m\u001b[38;5;124;43m첫 번째 블로그\u001b[39;49m\u001b[38;5;124;43m'\u001b[39;49m\u001b[38;5;124;43m, \u001b[39;49m\u001b[38;5;124;43m'\u001b[39;49m\u001b[38;5;124;43m첫 번째 작성글입니다.\u001b[39;49m\u001b[38;5;124;43m'\u001b[39;49m\u001b[38;5;124;43m, \u001b[39;49m\u001b[38;5;124;43m'\u001b[39;49m\u001b[38;5;124;43m20221022\u001b[39;49m\u001b[38;5;124;43m'\u001b[39;49m\u001b[38;5;124;43m)\u001b[39;49m\u001b[38;5;124;43m\"\u001b[39;49m\u001b[43m)\u001b[49m\n\u001b[0;32m      2\u001b[0m conn\u001b[38;5;241m.\u001b[39mcommit()\n",
      "\u001b[1;31mIntegrityError\u001b[0m: UNIQUE constraint failed: blog.id"
     ]
    }
   ],
   "source": [
    "c.execute(\"INSERT INTO blog VALUES (1, '첫 번째 블로그', '첫 번째 작성글입니다.', '20221022')\")\n",
    "conn.commit()"
   ]
  },
  {
   "cell_type": "code",
   "execution_count": 10,
   "metadata": {},
   "outputs": [
    {
     "ename": "IntegrityError",
     "evalue": "UNIQUE constraint failed: blog.id",
     "output_type": "error",
     "traceback": [
      "\u001b[1;31m---------------------------------------------------------------------------\u001b[0m",
      "\u001b[1;31mIntegrityError\u001b[0m                            Traceback (most recent call last)",
      "Cell \u001b[1;32mIn[10], line 1\u001b[0m\n\u001b[1;32m----> 1\u001b[0m \u001b[43mc\u001b[49m\u001b[38;5;241;43m.\u001b[39;49m\u001b[43mexecute\u001b[49m\u001b[43m(\u001b[49m\u001b[38;5;124;43m\"\u001b[39;49m\u001b[38;5;124;43mINSERT INTO blog VALUES (2, \u001b[39;49m\u001b[38;5;124;43m'\u001b[39;49m\u001b[38;5;124;43m두 번째 블로그\u001b[39;49m\u001b[38;5;124;43m'\u001b[39;49m\u001b[38;5;124;43m, \u001b[39;49m\u001b[38;5;124;43m'\u001b[39;49m\u001b[38;5;124;43m두 번째 작성글입니다.\u001b[39;49m\u001b[38;5;124;43m'\u001b[39;49m\u001b[38;5;124;43m, \u001b[39;49m\u001b[38;5;124;43m'\u001b[39;49m\u001b[38;5;124;43m20221022\u001b[39;49m\u001b[38;5;124;43m'\u001b[39;49m\u001b[38;5;124;43m)\u001b[39;49m\u001b[38;5;124;43m\"\u001b[39;49m\u001b[43m)\u001b[49m\n\u001b[0;32m      2\u001b[0m conn\u001b[38;5;241m.\u001b[39mcommit()\n",
      "\u001b[1;31mIntegrityError\u001b[0m: UNIQUE constraint failed: blog.id"
     ]
    }
   ],
   "source": [
    "c.execute(\"INSERT INTO blog VALUES (2, '두 번째 블로그', '두 번째 작성글입니다.', '20221022')\")\n",
    "conn.commit()"
   ]
  },
  {
   "cell_type": "code",
   "execution_count": 7,
   "metadata": {},
   "outputs": [],
   "source": [
    "c.execute(\"INSERT INTO blog VALUES (3, '세 번째 블로그', '세 번째 작성글입니다.', '20221022')\")\n",
    "conn.commit()"
   ]
  },
  {
   "cell_type": "code",
   "execution_count": 11,
   "metadata": {},
   "outputs": [
    {
     "name": "stdout",
     "output_type": "stream",
     "text": [
      "[(1, '첫 번째 블로그', '첫 번째 작성글입니다.', '20221022'), (2, '두 번째 블로그', '두 번째 작성글입니다.', '20221022'), (3, '세 번째 블로그', '세 번째 작성글입니다.', '20221022')]\n"
     ]
    }
   ],
   "source": [
    "c.execute('SELECT * FROM blog')\n",
    "all = c.fetchall()\n",
    "print(all)"
   ]
  },
  {
   "cell_type": "code",
   "execution_count": 12,
   "metadata": {},
   "outputs": [],
   "source": [
    "conn.close()"
   ]
  },
  {
   "cell_type": "code",
   "execution_count": 11,
   "metadata": {},
   "outputs": [],
   "source": [
    "from tkinter import *\n",
    "\n",
    "root = Tk()                                   # tkinter 객체(창) 생성\n",
    "label = Label(root, text='Hello World !')     # root 창에 Label 컴포넌트(위젯) 추가\n",
    "label.pack()                                  # label 객체를 창에 표시\n",
    "\n",
    "root.mainloop()                               # root 창을 메인 루프에 태우기\n",
    "# 종료되지 않고 이벤트 수신 등의 역할을 수행"
   ]
  },
  {
   "cell_type": "code",
   "execution_count": 12,
   "metadata": {},
   "outputs": [],
   "source": [
    "from tkinter import *\n",
    "\n",
    "root = Tk()                                   # tkinter 객체(창) 생성\n",
    "root.geometry('300x200')\n",
    "label = Label(root, text='Hello World !')     # root 창에 Label 컴포넌트(위젯) 추가\n",
    "label.pack()                                  # label 객체를 창에 표시\n",
    "\n",
    "root.mainloop()                               # root 창을 메인 루프에 태우기\n",
    "# 종료되지 않고 이벤트 수신 등의 역할을 수행"
   ]
  },
  {
   "cell_type": "code",
   "execution_count": 13,
   "metadata": {},
   "outputs": [],
   "source": [
    "from tkinter import *\n",
    "\n",
    "root = Tk()                                # tkinter 객체(창) 생성\n",
    "root.geometry('200x200')\n",
    "listbox = Listbox(root)                    # root 창에 Listbox 컴포넌트(위젯) 추가\n",
    "listbox.pack()                             # Listbox 객체를 창에 표시\n",
    "\n",
    "for i in ['첫번째 요소', '두번째 요소', '세번째 요소', '네번째 요소']:\n",
    "    listbox.insert(END, i)                 # Listbox 마지막 위치에 새로운 데이터 추가\n",
    "\n",
    "root.mainloop()                            # root 창을 메인 루프에 태우기\n",
    "# 종료되지 않고 이벤트 수신 등의 역할을 수행"
   ]
  },
  {
   "cell_type": "code",
   "execution_count": 14,
   "metadata": {},
   "outputs": [],
   "source": [
    "from tkinter import *\n",
    "\n",
    "\n",
    "def event_for_listbox(event):\n",
    "    print(\"선택되었습니다 !\")\n",
    "\n",
    "\n",
    "root = Tk()                                # tkinter 객체(창) 생성\n",
    "root.geometry('200x200')\n",
    "listbox = Listbox(root)                    # root 창에 Listbox 컴포넌트(위젯) 추가\n",
    "listbox.pack()                             # Listbox 객체를 창에 표시\n",
    "\n",
    "for i in ['첫번째 요소', '두번째 요소', '세번째 요소', '네번째 요소']:\n",
    "    listbox.insert(END, i)                 # Listbox 마지막 위치에 새로운 데이터 추가\n",
    "\n",
    "listbox.bind('<<ListboxSelect>>', event_for_listbox)  # 리스트 박스 선택 시 event_for_listbox 함수 호출\n",
    "\n",
    "\n",
    "root.mainloop()                            # root 창을 메인 루프에 태우기\n",
    "# 종료되지 않고 이벤트 수신 등의 역할을 수행"
   ]
  },
  {
   "cell_type": "code",
   "execution_count": 16,
   "metadata": {},
   "outputs": [],
   "source": [
    "from tkinter import *\n",
    "\n",
    "root = Tk()\n",
    "root.geometry('200x200')\n",
    "\n",
    "entry = Entry(root)                          # root 창에 Listbox 컴포넌트(위젯) 추가\n",
    "entry.insert(0, \"데이터를 입력해 주세요\")    # 첫번째 데이터에 엔트리 입력값 저장\n",
    "entry.pack()                                 # 엔트리 객체를 창에 표시\n",
    "\n",
    "root.mainloop()"
   ]
  },
  {
   "cell_type": "code",
   "execution_count": 17,
   "metadata": {},
   "outputs": [],
   "source": [
    "from tkinter import *\n",
    "\n",
    "\n",
    "def event_for_entry(event):\n",
    "    print(f\"사용자 입력 값은 {entry.get()} 입니다 !\")\n",
    "\n",
    "\n",
    "root = Tk()\n",
    "root.geometry('200x200')\n",
    "\n",
    "entry = Entry(root)                          # root 창에 Listbox 컴포넌트(위젯) 추가\n",
    "entry.insert(0, \"데이터를 입력해 주세요\")    # 첫번째 데이터에 엔트리 입력값 저장\n",
    "entry.bind(\"<Return>\", event_for_entry)       # 엔트리 값 Return 시 event_for_entry 함수 호출\n",
    "entry.pack()                                 # 엔트리 객체를 창에 표시\n",
    "\n",
    "root.mainloop()"
   ]
  },
  {
   "cell_type": "code",
   "execution_count": 18,
   "metadata": {},
   "outputs": [],
   "source": [
    "from tkinter import *\n",
    "\n",
    "data = '''첫번째 데이터\n",
    "두번째 데이터\n",
    "세번째 데이터'''\n",
    "\n",
    "root = Tk()\n",
    "root.geometry('200x200')\n",
    "\n",
    "text = Text(root)                          # root 창에 Text 컴포넌트(위젯) 추가\n",
    "text.insert(1.0, data)                     # 첫번째 데이터에 Text 입력값 저장\n",
    "text.pack()                                # Text 객체를 창에 표시\n",
    "\n",
    "root.mainloop()"
   ]
  },
  {
   "cell_type": "code",
   "execution_count": 19,
   "metadata": {},
   "outputs": [
    {
     "name": "stdout",
     "output_type": "stream",
     "text": [
      "버튼이 클릭되었습니다 !\n"
     ]
    }
   ],
   "source": [
    "from tkinter import *\n",
    "\n",
    "\n",
    "def btn_click(event):\n",
    "    print(f\"버튼이 클릭되었습니다 !\")\n",
    "\n",
    "\n",
    "root = Tk()\n",
    "root.geometry('200x100')\n",
    "\n",
    "b1 = Button(root, text='나의 첫번째 버튼')    # root 창에 Text 컴포넌트(위젯) 추가\n",
    "b1.bind('<Button-1>', btn_click)              # Button 클릭 시  btn_click 함수 호출\n",
    "b1.pack()                                     # Button 객체를 창에 표시\n",
    "\n",
    "root.mainloop()"
   ]
  },
  {
   "cell_type": "code",
   "execution_count": 20,
   "metadata": {},
   "outputs": [],
   "source": [
    "from tkinter import *\n",
    "\n",
    "\n",
    "def btn_click(event):\n",
    "    print(f\"사용자 입력 값은 : \\n{text.get(1.0, END)} 입니다 !\")\n",
    "\n",
    "\n",
    "data = '''여러줄의 데이터를 입력하고 버튼을 클릭해주세요'''\n",
    "\n",
    "root = Tk()\n",
    "root.geometry('500x500')\n",
    "\n",
    "text = Text(root)                             # root 창에 Text 컴포넌트(위젯) 추가\n",
    "text.insert(1.0, data)                        # 첫번째 데이터에 Text 입력값 저장\n",
    "text.pack()                                   # Text 객체를 창에 표시\n",
    "\n",
    "b1 = Button(root, text='결과값 확인')         # root 창에 Text 컴포넌트(위젯) 추가\n",
    "b1.bind('<Button-1>', btn_click)              # Button 클릭 시  btn_click 함수 호출\n",
    "b1.pack()\n",
    "\n",
    "root.mainloop()"
   ]
  },
  {
   "cell_type": "code",
   "execution_count": 21,
   "metadata": {},
   "outputs": [],
   "source": [
    "from tkinter import *\n",
    "\n",
    "root = Tk()\n",
    "root.geometry('300x300')\n",
    "\n",
    "# 좌측 배치\n",
    "buttonLeft = Button(root, width=10, text='1')\n",
    "buttonLeft.pack(side='left')\n",
    "\n",
    "# 우측 배치\n",
    "buttonRight = Button(root, width=10, text='2')\n",
    "buttonRight.pack(side='right')\n",
    "\n",
    "# 상단 배치\n",
    "buttonTop = Button(root, width=10, text='3')\n",
    "buttonTop.pack(side='top')\n",
    "\n",
    "# 하단 배치\n",
    "buttonBottom = Button(root, width=10, text='4')\n",
    "buttonBottom.pack(side='bottom')\n",
    "\n",
    "# 중앙 배치\n",
    "buttonCenter = Button(root, width=10, text='5')\n",
    "buttonCenter.pack(expand=True)\n",
    "\n",
    "root.mainloop()"
   ]
  },
  {
   "cell_type": "code",
   "execution_count": 22,
   "metadata": {},
   "outputs": [],
   "source": [
    "from tkinter import *\n",
    "\n",
    "root = Tk()\n",
    "root.geometry('300x300')\n",
    "\n",
    "button1 = Button(root, width=10, text='1')\n",
    "button1.place(x=30, y=30)\n",
    "\n",
    "button2 = Button(root, width=10, text='2')\n",
    "button2.place(x=50, y=50)\n",
    "\n",
    "button3 = Button(root, width=10, text='3')\n",
    "button3.place(x=100, y=100)\n",
    "\n",
    "button4 = Button(root, width=10, text='4')\n",
    "button4.place(x=200, y=100)\n",
    "\n",
    "button5 = Button(root, width=10, text='5')\n",
    "button5.place(x=200, y=150)\n",
    "\n",
    "root.mainloop()"
   ]
  },
  {
   "cell_type": "code",
   "execution_count": 23,
   "metadata": {},
   "outputs": [],
   "source": [
    "from tkinter import *\n",
    "\n",
    "root = Tk()\n",
    "root.geometry('300x300')\n",
    "\n",
    "button1 = Button(root, width=10, text='1')\n",
    "button1.grid(row=0, column=0)\n",
    "\n",
    "button2 = Button(root, width=10, text='2')\n",
    "button2.grid(row=0, column=1)\n",
    "\n",
    "button3 = Button(root, width=10, text='3')\n",
    "button3.grid(row=0, column=2)\n",
    "\n",
    "button4 = Button(root, width=10, text='4')\n",
    "button4.grid(row=1, column=0)\n",
    "\n",
    "button5 = Button(root, width=10, text='5')\n",
    "button5.grid(row=1, column=1)\n",
    "\n",
    "button6 = Button(root, width=10, text='6')\n",
    "button6.grid(row=1, column=2)\n",
    "\n",
    "root.mainloop()"
   ]
  },
  {
   "cell_type": "code",
   "execution_count": 1,
   "metadata": {},
   "outputs": [
    {
     "name": "stdout",
     "output_type": "stream",
     "text": [
      "삭제되지 않았습니다.\n"
     ]
    }
   ],
   "source": [
    "from tkinter.messagebox import *\n",
    "\n",
    "if askyesno(\"확인\", \"정말 삭제하시겠습니까?\"):\n",
    "    # Yes : True 값 반환\n",
    "    print('삭제되었습니다.')\n",
    "else:\n",
    "    # No : False 값 반환\n",
    "    print('삭제되지 않았습니다.')"
   ]
  },
  {
   "cell_type": "code",
   "execution_count": 2,
   "metadata": {},
   "outputs": [
    {
     "data": {
      "text/plain": [
       "'ok'"
      ]
     },
     "execution_count": 2,
     "metadata": {},
     "output_type": "execute_result"
    }
   ],
   "source": [
    "from tkinter.messagebox import *\n",
    "\n",
    "showerror(\"오류\", \"오류가 발생했습니다\")"
   ]
  },
  {
   "cell_type": "code",
   "execution_count": 3,
   "metadata": {},
   "outputs": [
    {
     "name": "stdout",
     "output_type": "stream",
     "text": [
      "Collecting pyInstaller\n",
      "  Downloading pyinstaller-6.5.0-py3-none-win_amd64.whl.metadata (8.3 kB)\n",
      "Collecting setuptools>=42.0.0 (from pyInstaller)\n",
      "  Downloading setuptools-69.2.0-py3-none-any.whl.metadata (6.3 kB)\n",
      "Collecting altgraph (from pyInstaller)\n",
      "  Downloading altgraph-0.17.4-py2.py3-none-any.whl.metadata (7.3 kB)\n",
      "Collecting pyinstaller-hooks-contrib>=2024.3 (from pyInstaller)\n",
      "  Downloading pyinstaller_hooks_contrib-2024.3-py2.py3-none-any.whl.metadata (16 kB)\n",
      "Requirement already satisfied: packaging>=22.0 in c:\\users\\user\\appdata\\roaming\\python\\python38\\site-packages (from pyInstaller) (24.0)\n",
      "Requirement already satisfied: importlib-metadata>=4.6 in c:\\users\\user\\appdata\\roaming\\python\\python38\\site-packages (from pyInstaller) (7.0.2)\n",
      "Collecting pefile>=2022.5.30 (from pyInstaller)\n",
      "  Downloading pefile-2023.2.7-py3-none-any.whl.metadata (1.4 kB)\n",
      "Collecting pywin32-ctypes>=0.2.1 (from pyInstaller)\n",
      "  Downloading pywin32_ctypes-0.2.2-py3-none-any.whl.metadata (3.8 kB)\n",
      "Requirement already satisfied: zipp>=0.5 in c:\\users\\user\\appdata\\roaming\\python\\python38\\site-packages (from importlib-metadata>=4.6->pyInstaller) (3.18.1)\n",
      "Downloading pyinstaller-6.5.0-py3-none-win_amd64.whl (1.3 MB)\n",
      "   ---------------------------------------- 0.0/1.3 MB ? eta -:--:--\n",
      "   -------------------------------- ------- 1.1/1.3 MB 22.4 MB/s eta 0:00:01\n",
      "   ---------------------------------------  1.3/1.3 MB 16.5 MB/s eta 0:00:01\n",
      "   ---------------------------------------- 1.3/1.3 MB 10.4 MB/s eta 0:00:00\n",
      "Downloading pefile-2023.2.7-py3-none-any.whl (71 kB)\n",
      "   ---------------------------------------- 0.0/71.8 kB ? eta -:--:--\n",
      "   ---------------------------------------- 71.8/71.8 kB 4.1 MB/s eta 0:00:00\n",
      "Downloading pyinstaller_hooks_contrib-2024.3-py2.py3-none-any.whl (329 kB)\n",
      "   ---------------------------------------- 0.0/329.0 kB ? eta -:--:--\n",
      "   --------------------------------------- 329.0/329.0 kB 19.9 MB/s eta 0:00:00\n",
      "Downloading pywin32_ctypes-0.2.2-py3-none-any.whl (30 kB)\n",
      "Downloading setuptools-69.2.0-py3-none-any.whl (821 kB)\n",
      "   ---------------------------------------- 0.0/821.5 kB ? eta -:--:--\n",
      "   ------------------------------------- - 798.7/821.5 kB 16.8 MB/s eta 0:00:01\n",
      "   --------------------------------------- 821.5/821.5 kB 13.1 MB/s eta 0:00:00\n",
      "Downloading altgraph-0.17.4-py2.py3-none-any.whl (21 kB)\n",
      "Installing collected packages: altgraph, setuptools, pywin32-ctypes, pefile, pyinstaller-hooks-contrib, pyInstaller\n",
      "  Attempting uninstall: setuptools\n",
      "    Found existing installation: setuptools 41.2.0\n",
      "    Uninstalling setuptools-41.2.0:\n",
      "      Successfully uninstalled setuptools-41.2.0\n",
      "Successfully installed altgraph-0.17.4 pefile-2023.2.7 pyInstaller-6.5.0 pyinstaller-hooks-contrib-2024.3 pywin32-ctypes-0.2.2 setuptools-69.2.0\n"
     ]
    }
   ],
   "source": [
    "import sys\n",
    "\n",
    "!{sys.executable} -m pip install pyInstaller"
   ]
  },
  {
   "cell_type": "code",
   "execution_count": 24,
   "metadata": {},
   "outputs": [
    {
     "name": "stderr",
     "output_type": "stream",
     "text": [
      "374 INFO: PyInstaller: 6.5.0, contrib hooks: 2024.3\n",
      "374 INFO: Python: 3.11.5\n",
      "380 INFO: Platform: Windows-10-10.0.22631-SP0\n",
      "Script file '실행파일로변환하고자하는파이썬파일.py' does not exist.\n"
     ]
    }
   ],
   "source": [
    "!pyinstaller 실행파일로변환하고자하는파이썬파일.py"
   ]
  },
  {
   "cell_type": "code",
   "execution_count": 13,
   "metadata": {},
   "outputs": [],
   "source": [
    "def get_blog_list():\n",
    "    conn = sqlite3.connect('blog.db')\n",
    "    c = conn.cursor()\n",
    "    c.execute(\"SELECT * FROM blog\")\n",
    "    result = c.fetchall()\n",
    "    conn.close()\n",
    "    return result"
   ]
  },
  {
   "cell_type": "code",
   "execution_count": 14,
   "metadata": {},
   "outputs": [
    {
     "data": {
      "text/plain": [
       "[(1, '첫 번째 블로그', '첫 번째 작성글입니다.', '20221022'),\n",
       " (2, '두 번째 블로그', '두 번째 작성글입니다.', '20221022'),\n",
       " (3, '세 번째 블로그', '세 번째 작성글입니다.', '20221022')]"
      ]
     },
     "execution_count": 14,
     "metadata": {},
     "output_type": "execute_result"
    }
   ],
   "source": [
    "get_blog_list()"
   ]
  },
  {
   "cell_type": "code",
   "execution_count": 15,
   "metadata": {},
   "outputs": [],
   "source": [
    "def add_blog(subject, content):         # 제목, 내용\n",
    "    conn = sqlite3.connect('blog.db')\n",
    "    conn.row_factory = sqlite3.Row\n",
    "    c = conn.cursor()\n",
    "    today = time.strftime('%Y%m%d')     # 현재 시간\n",
    "    c.execute(\"INSERT INTO blog (subject, content, date) VALUES (?, ?, ?)\",\n",
    "              (subject, content, today))\n",
    "    conn.commit()\n",
    "    conn.close()"
   ]
  },
  {
   "cell_type": "code",
   "execution_count": 16,
   "metadata": {},
   "outputs": [],
   "source": [
    "def read_blog(_id):\n",
    "    conn = sqlite3.connect('blog.db')\n",
    "    conn.row_factory = sqlite3.Row\n",
    "    c = conn.cursor()\n",
    "    c.execute(\"SELECT * FROM blog WHERE id=?\", (_id,))\n",
    "    result = c.fetchone()\n",
    "    conn.close()\n",
    "    return result"
   ]
  },
  {
   "cell_type": "code",
   "execution_count": 17,
   "metadata": {},
   "outputs": [],
   "source": [
    "def modify_blog(_id, subject, content):\n",
    "    conn = sqlite3.connect('blog.db')\n",
    "    conn.row_factory = sqlite3.Row\n",
    "    c = conn.cursor()\n",
    "    c.execute(\"UPDATE blog SET subject=?, content=? WHERE id=?\",\n",
    "              (subject, content, _id))\n",
    "    conn.commit()\n",
    "    conn.close()"
   ]
  },
  {
   "cell_type": "code",
   "execution_count": 18,
   "metadata": {},
   "outputs": [],
   "source": [
    "def remove_blog(_id):\n",
    "    conn = sqlite3.connect('blog.db')\n",
    "    conn.row_factory = sqlite3.Row\n",
    "    c = conn.cursor()\n",
    "    c.execute(\"DELETE FROM blog WHERE id=?\", (_id,))\n",
    "    conn.commit()\n",
    "    conn.close()"
   ]
  },
  {
   "cell_type": "code",
   "execution_count": 19,
   "metadata": {},
   "outputs": [
    {
     "data": {
      "text/plain": [
       "''"
      ]
     },
     "execution_count": 19,
     "metadata": {},
     "output_type": "execute_result"
    }
   ],
   "source": [
    "from tkinter import *\n",
    "from tkinter.messagebox import *\n",
    "\n",
    "root = Tk()                                   # tkinter 객체(창) 생성\n",
    "root.title('나만의 블로그')                   # 제목 입력"
   ]
  },
  {
   "cell_type": "code",
   "execution_count": 20,
   "metadata": {},
   "outputs": [],
   "source": [
    "# 컴포넌트 생성\n",
    "listbox = Listbox(root, exportselection=False)    # 블로그 목록을 표시할 리스트 박스\n",
    "label = Label(root, text='제목')                  # '제목' 문자열을 표시할 라벨\n",
    "entry = Entry(root)                               # 제목에 해당하는 내용을 표시할 엔트리\n",
    "text = Text(root)                                 # 블로그 내용을 표시할 텍스트\n",
    "b1 = Button(root, text='생성')\n",
    "b2 = Button(root, text='수정')\n",
    "b3 = Button(root, text='삭제')"
   ]
  },
  {
   "cell_type": "code",
   "execution_count": 21,
   "metadata": {},
   "outputs": [],
   "source": [
    "# 컴포넌트 배치\n",
    "listbox.grid(row=0, column=0, columnspan=3, sticky='ew')\n",
    "label.grid(row=1, column=0)\n",
    "\n",
    "entry.grid(row=1, column=1, columnspan=2, sticky='ew')\n",
    "text.grid(row=2, column=0, columnspan=3)\n",
    "b1.grid(row=3, column=0, sticky='ew')\n",
    "b2.grid(row=3, column=1, sticky='ew')\n",
    "b3.grid(row=3, column=2, sticky='ew')"
   ]
  },
  {
   "cell_type": "code",
   "execution_count": 22,
   "metadata": {},
   "outputs": [],
   "source": [
    "# 블로그 데이터 관리 모델\n",
    "from blog_data_model import *"
   ]
  },
  {
   "cell_type": "code",
   "execution_count": 23,
   "metadata": {},
   "outputs": [],
   "source": [
    "# 블로그 행 인덱스 저장 리스트\n",
    "ROW_IDS = []"
   ]
  },
  {
   "cell_type": "code",
   "execution_count": 24,
   "metadata": {},
   "outputs": [],
   "source": [
    "def load_blog_list():\n",
    "    listbox.delete(0, END)                     # 리스트 박스 초기화\n",
    "    blog_list = get_blog_list()                # 블로그 리스트 가져오기\n",
    "\n",
    "    for i, blog in enumerate(blog_list):\n",
    "        ROW_IDS.append(blog[0])             # 블로그 행 인덱스(ID) 저장\n",
    "        listbox.insert(i, '[%s/%s/%s] %s' % (\n",
    "            blog[3][:4], blog[3][4:6], blog[3][6:], blog[2]))  # 리스트 박스에 추가"
   ]
  },
  {
   "cell_type": "code",
   "execution_count": 25,
   "metadata": {},
   "outputs": [
    {
     "data": {
      "text/plain": [
       "'1336183802880get_blog'"
      ]
     },
     "execution_count": 25,
     "metadata": {},
     "output_type": "execute_result"
    }
   ],
   "source": [
    "def get_blog(event):\n",
    "    _id = ROW_IDS[listbox.curselection()[0]]   # 마우스 커서가 선택한 요소의 위치(인덱스) 반환\n",
    "    blog = read_blog(_id)                      # 해당 위치 블로그 읽기\n",
    "    entry.delete(0, END)\n",
    "    entry.insert(0, blog[2])           # 엔트리에 제목 추가\n",
    "    text.delete(1.0, END)\n",
    "    text.insert(1.0, blog[3])          # 텍스트에 내용 추가\n",
    "\n",
    "\n",
    "listbox.bind('<<ListboxSelect>>', get_blog)    # 리스트 박스에 get_blog 함수 바인딩"
   ]
  },
  {
   "cell_type": "code",
   "execution_count": 26,
   "metadata": {},
   "outputs": [
    {
     "data": {
      "text/plain": [
       "'1336183865536btn_add'"
      ]
     },
     "execution_count": 26,
     "metadata": {},
     "output_type": "execute_result"
    }
   ],
   "source": [
    "def btn_add(event):\n",
    "    subject = entry.get().strip()              # 엔트리(제목란)에 입력한 값\n",
    "    content = text.get(1.0, END).strip()       # 텍스트(내용란)에 입력한 값\n",
    "\n",
    "    if not subject or not content:             # 제목 또는 내용이 없을 시 오류창 발생\n",
    "        showerror(\"오류\", \"제목 또는 내용을 입력해 주세요\")\n",
    "        return\n",
    "    add_blog(subject, content)                 # 블로그 추가\n",
    "\n",
    "\n",
    "b1.bind('<Button-1>', btn_add)                 # '생성' 버튼에 btn_add 함수 바인딩"
   ]
  },
  {
   "cell_type": "code",
   "execution_count": 27,
   "metadata": {},
   "outputs": [
    {
     "data": {
      "text/plain": [
       "'1336183884864btn_modify'"
      ]
     },
     "execution_count": 27,
     "metadata": {},
     "output_type": "execute_result"
    }
   ],
   "source": [
    "def btn_modify(event):\n",
    "    sel = listbox.curselection()              # 리스트 박스 선택 값 가져오기\n",
    "    if not sel:                               # 선택 값이 없을 경우\n",
    "        showerror(\"오류\", \"리스트를 먼저 선택해 주세요\")\n",
    "    else:                                     # 선택 값이 있을 경우\n",
    "        _id = ROW_IDS[sel[0]]\n",
    "    subject = entry.get().strip()             # 엔트리(제목란)에 수정한 값\n",
    "    content = text.get(1.0, END).strip()      # 텍스트(내용란)에 수정한 값\n",
    "\n",
    "    if not subject or not content:            # 제목 또는 내용이 없을 시 오류창 발생\n",
    "        showerror(\"오류\", \"제목 또는 내용을 입력해 주세요\")\n",
    "        return\n",
    "\n",
    "    modify_blog(_id, subject, content)        # 블로그 수정\n",
    "\n",
    "\n",
    "b2.bind('<Button-1>', btn_modify)             # '수정' 버튼에 btn_modify 함수 바인딩"
   ]
  },
  {
   "cell_type": "code",
   "execution_count": 29,
   "metadata": {},
   "outputs": [
    {
     "data": {
      "text/plain": [
       "'1336183828672btn_remove'"
      ]
     },
     "execution_count": 29,
     "metadata": {},
     "output_type": "execute_result"
    }
   ],
   "source": [
    "def btn_remove(event):\n",
    "    sel = listbox.curselection()                      # 리스트 박스 선택 값 가져오기\n",
    "    if not sel:\n",
    "        showerror(\"오류\", \"리스트를 먼저 선택해 주세요\")\n",
    "        return\n",
    "    else:\n",
    "        _id = ROW_IDS[sel[0]]\n",
    "\n",
    "    if askyesno(\"확인\", \"정말로 삭제하시겠습니까?\"):  # 확인 창 발생\n",
    "        remove_blog(_id)                              # 블로그 삭제\n",
    "\n",
    "\n",
    "b3.bind('<Button-1>', btn_remove)                     # '삭제' 버튼에 btn_remove 함수 바인딩"
   ]
  },
  {
   "cell_type": "code",
   "execution_count": 30,
   "metadata": {},
   "outputs": [],
   "source": [
    "def refresh():\n",
    "    ROW_IDS.clear()        # 블로그 ID 리스트 삭제\n",
    "    entry.delete(0, END)   # 제목 삭제\n",
    "    text.delete(1.0, END)  # 내용 삭제\n",
    "    load_blog_list()       # 블로그 리스트 불러오기"
   ]
  },
  {
   "cell_type": "code",
   "execution_count": 31,
   "metadata": {},
   "outputs": [],
   "source": [
    "# Pycharm 에서 실행 확인\n",
    "load_blog_list()\n",
    "root.mainloop()"
   ]
  },
  {
   "cell_type": "code",
   "execution_count": 57,
   "metadata": {},
   "outputs": [],
   "source": [
    "# 여기까지 모두 이해했다면, 이제는 PyInstaller를 사용하여 실행 파일로 변환해보겠습니다.\n",
    "# ipynb 로 실습한 내용을 모두 반영한 blog_data_model.py 파일과 240319_2.py 를 살펴보세요.\n",
    "# 모두 이해했다면 이제 !pyinstaller 240319_2.py 명령어로 실행 파일을 만들어보세요.\n",
    "# dist 폴더에 실행 파일이 생성되었을 것입니다."
   ]
  },
  {
   "cell_type": "code",
   "execution_count": 32,
   "metadata": {},
   "outputs": [
    {
     "name": "stderr",
     "output_type": "stream",
     "text": [
      "399 INFO: PyInstaller: 6.5.0, contrib hooks: 2024.3\n",
      "399 INFO: Python: 3.8.2\n",
      "399 INFO: Platform: Windows-10-10.0.22621-SP0\n",
      "399 INFO: wrote c:\\pythonpj\\Pythonprograming\\Class\\240319_2.spec\n",
      "406 INFO: Extending PYTHONPATH with paths\n",
      "['c:\\\\pythonpj\\\\Pythonprograming\\\\Class']\n",
      "805 INFO: checking Analysis\n",
      "805 INFO: Building Analysis because Analysis-00.toc is non existent\n",
      "805 INFO: Initializing module dependency graph...\n",
      "812 INFO: Caching module graph hooks...\n",
      "845 INFO: Analyzing base_library.zip ...\n",
      "1984 INFO: Loading module hook 'hook-heapq.py' from 'c:\\\\Users\\\\USER\\\\AppData\\\\Local\\\\Programs\\\\Python\\\\Python38\\\\lib\\\\site-packages\\\\PyInstaller\\\\hooks'...\n",
      "2099 INFO: Loading module hook 'hook-encodings.py' from 'c:\\\\Users\\\\USER\\\\AppData\\\\Local\\\\Programs\\\\Python\\\\Python38\\\\lib\\\\site-packages\\\\PyInstaller\\\\hooks'...\n",
      "3746 INFO: Loading module hook 'hook-pickle.py' from 'c:\\\\Users\\\\USER\\\\AppData\\\\Local\\\\Programs\\\\Python\\\\Python38\\\\lib\\\\site-packages\\\\PyInstaller\\\\hooks'...\n",
      "5982 INFO: Caching module dependency graph...\n",
      "6130 INFO: Running Analysis Analysis-00.toc\n",
      "6130 INFO: Looking for Python shared library...\n",
      "6162 INFO: Using Python shared library: c:\\Users\\USER\\AppData\\Local\\Programs\\Python\\Python38\\python38.dll\n",
      "6162 INFO: Analyzing c:\\pythonpj\\Pythonprograming\\Class\\240319_2.py\n",
      "6274 INFO: Loading module hook 'hook-_tkinter.py' from 'c:\\\\Users\\\\USER\\\\AppData\\\\Local\\\\Programs\\\\Python\\\\Python38\\\\lib\\\\site-packages\\\\PyInstaller\\\\hooks'...\n",
      "6280 INFO: Loading module hook 'hook-sqlite3.py' from 'c:\\\\Users\\\\USER\\\\AppData\\\\Local\\\\Programs\\\\Python\\\\Python38\\\\lib\\\\site-packages\\\\PyInstaller\\\\hooks'...\n",
      "6677 INFO: Processing module hooks...\n",
      "6694 INFO: Loading module hook 'hook-_tkinter.py' from 'c:\\\\Users\\\\USER\\\\AppData\\\\Local\\\\Programs\\\\Python\\\\Python38\\\\lib\\\\site-packages\\\\PyInstaller\\\\hooks'...\n",
      "6694 INFO: checking Tree\n",
      "6694 INFO: Building Tree because Tree-00.toc is non existent\n",
      "6694 INFO: Building Tree Tree-00.toc\n",
      "6867 INFO: checking Tree\n",
      "6867 INFO: Building Tree because Tree-01.toc is non existent\n",
      "6867 INFO: Building Tree Tree-01.toc\n",
      "6878 INFO: checking Tree\n",
      "6880 INFO: Building Tree because Tree-02.toc is non existent\n",
      "6880 INFO: Building Tree Tree-02.toc\n",
      "6899 INFO: Performing binary vs. data reclassification (919 entries)\n",
      "12725 INFO: Looking for ctypes DLLs\n",
      "12725 INFO: Analyzing run-time hooks ...\n",
      "12739 INFO: Including run-time hook 'c:\\\\Users\\\\USER\\\\AppData\\\\Local\\\\Programs\\\\Python\\\\Python38\\\\lib\\\\site-packages\\\\PyInstaller\\\\hooks\\\\rthooks\\\\pyi_rth__tkinter.py'\n",
      "12779 INFO: Looking for dynamic libraries\n",
      "12883 INFO: Extra DLL search directories (AddDllDirectory): []\n",
      "12883 INFO: Extra DLL search directories (PATH): []\n",
      "13516 INFO: Warnings written to c:\\pythonpj\\Pythonprograming\\Class\\build\\240319_2\\warn-240319_2.txt\n",
      "13542 INFO: Graph cross-reference written to c:\\pythonpj\\Pythonprograming\\Class\\build\\240319_2\\xref-240319_2.html\n",
      "13613 INFO: checking PYZ\n",
      "13613 INFO: Building PYZ because PYZ-00.toc is non existent\n",
      "13613 INFO: Building PYZ (ZlibArchive) c:\\pythonpj\\Pythonprograming\\Class\\build\\240319_2\\PYZ-00.pyz\n",
      "13931 INFO: Building PYZ (ZlibArchive) c:\\pythonpj\\Pythonprograming\\Class\\build\\240319_2\\PYZ-00.pyz completed successfully.\n",
      "13969 INFO: checking PKG\n",
      "13969 INFO: Building PKG because PKG-00.toc is non existent\n",
      "13969 INFO: Building PKG (CArchive) 240319_2.pkg\n",
      "13997 INFO: Building PKG (CArchive) 240319_2.pkg completed successfully.\n",
      "13997 INFO: Bootloader c:\\Users\\USER\\AppData\\Local\\Programs\\Python\\Python38\\lib\\site-packages\\PyInstaller\\bootloader\\Windows-64bit-intel\\run.exe\n",
      "13997 INFO: checking EXE\n",
      "13997 INFO: Building EXE because EXE-00.toc is non existent\n",
      "13997 INFO: Building EXE from EXE-00.toc\n",
      "13997 INFO: Copying bootloader EXE to c:\\pythonpj\\Pythonprograming\\Class\\build\\240319_2\\240319_2.exe\n",
      "14166 INFO: Copying icon to EXE\n",
      "14261 INFO: Copying 0 resources to EXE\n",
      "14261 INFO: Embedding manifest in EXE\n",
      "14348 INFO: Appending PKG archive to EXE\n",
      "14351 INFO: Fixing EXE headers\n",
      "15113 INFO: Building EXE from EXE-00.toc completed successfully.\n",
      "15126 INFO: checking COLLECT\n",
      "15126 INFO: Building COLLECT because COLLECT-00.toc is non existent\n",
      "15126 INFO: Building COLLECT COLLECT-00.toc\n",
      "17290 INFO: Building COLLECT COLLECT-00.toc completed successfully.\n"
     ]
    }
   ],
   "source": [
    "!pyinstaller 240319_2.py"
   ]
  },
  {
   "cell_type": "code",
   "execution_count": null,
   "metadata": {},
   "outputs": [],
   "source": []
  }
 ],
 "metadata": {
  "kernelspec": {
   "display_name": "Python 3",
   "language": "python",
   "name": "python3"
  },
  "language_info": {
   "codemirror_mode": {
    "name": "ipython",
    "version": 3
   },
   "file_extension": ".py",
   "mimetype": "text/x-python",
   "name": "python",
   "nbconvert_exporter": "python",
   "pygments_lexer": "ipython3",
   "version": "3.8.2"
  }
 },
 "nbformat": 4,
 "nbformat_minor": 2
}
