{
 "cells": [
  {
   "cell_type": "code",
   "execution_count": 14,
   "metadata": {},
   "outputs": [],
   "source": [
    "import csv"
   ]
  },
  {
   "cell_type": "code",
   "execution_count": 24,
   "metadata": {},
   "outputs": [
    {
     "name": "stdout",
     "output_type": "stream",
     "text": [
      "['9', '양말', '5000']\n",
      "['9', '양말', '5000']\n"
     ]
    }
   ],
   "source": [
    "result = []\n",
    "with open('../content/product_list.csv', 'r', encoding='euc-kr') as f:\n",
    "    reader = csv.reader(f)\n",
    "    for line in reader:\n",
    "        result.append(line)\n",
    "        print(line)"
   ]
  },
  {
   "cell_type": "code",
   "execution_count": 22,
   "metadata": {},
   "outputs": [],
   "source": [
    "# 방법 1\n",
    "with open('product_list.csv', 'w', newline='') as f:\n",
    "    writer = csv.writer(f)\n",
    "    writer.writerows(result)                # 이전 레코드\n",
    "    writer.writerow(['9', '양말', '5000'])  # 신규 레코드"
   ]
  },
  {
   "cell_type": "code",
   "execution_count": 23,
   "metadata": {},
   "outputs": [],
   "source": [
    "# 방법 2\n",
    "result.append(['9', '양말', '5000'])\n",
    "\n",
    "with open('../content/product_list.csv', 'w', newline='') as f:\n",
    "    writer = csv.writer(f)\n",
    "    writer.writerows(result)"
   ]
  },
  {
   "cell_type": "code",
   "execution_count": 25,
   "metadata": {},
   "outputs": [],
   "source": [
    "import sqlite3"
   ]
  },
  {
   "cell_type": "code",
   "execution_count": 26,
   "metadata": {},
   "outputs": [
    {
     "data": {
      "text/plain": [
       "'2.6.0'"
      ]
     },
     "execution_count": 26,
     "metadata": {},
     "output_type": "execute_result"
    }
   ],
   "source": [
    "sqlite3.version"
   ]
  },
  {
   "cell_type": "code",
   "execution_count": 27,
   "metadata": {},
   "outputs": [
    {
     "data": {
      "text/plain": [
       "'3.28.0'"
      ]
     },
     "execution_count": 27,
     "metadata": {},
     "output_type": "execute_result"
    }
   ],
   "source": [
    "sqlite3.sqlite_version"
   ]
  },
  {
   "cell_type": "code",
   "execution_count": 28,
   "metadata": {},
   "outputs": [],
   "source": [
    "conn = sqlite3.connect('test.db')"
   ]
  },
  {
   "cell_type": "code",
   "execution_count": 29,
   "metadata": {},
   "outputs": [],
   "source": [
    "# 커서 생성\n",
    "c = conn.cursor()"
   ]
  },
  {
   "cell_type": "code",
   "execution_count": 30,
   "metadata": {},
   "outputs": [
    {
     "data": {
      "text/plain": [
       "<sqlite3.Cursor at 0x1b52d1a2110>"
      ]
     },
     "execution_count": 30,
     "metadata": {},
     "output_type": "execute_result"
    }
   ],
   "source": [
    "# 쿼리문 작성\n",
    "query = '''CREATE TABLE test (ID INTEGER PRIMARY KEY, PRODUCT_NAME TEXT, PRICE INTEGER)'''\n",
    "c.execute(query)"
   ]
  },
  {
   "cell_type": "code",
   "execution_count": 31,
   "metadata": {},
   "outputs": [],
   "source": [
    "# DB 연결 해제\n",
    "conn.close()"
   ]
  },
  {
   "cell_type": "code",
   "execution_count": 32,
   "metadata": {},
   "outputs": [
    {
     "name": "stdout",
     "output_type": "stream",
     "text": [
      "Requirement already satisfied: pandas in c:\\users\\user\\appdata\\local\\programs\\python\\python38\\lib\\site-packages (2.0.3)\n",
      "Requirement already satisfied: python-dateutil>=2.8.2 in c:\\users\\user\\appdata\\roaming\\python\\python38\\site-packages (from pandas) (2.9.0.post0)\n",
      "Requirement already satisfied: pytz>=2020.1 in c:\\users\\user\\appdata\\local\\programs\\python\\python38\\lib\\site-packages (from pandas) (2024.1)\n",
      "Requirement already satisfied: tzdata>=2022.1 in c:\\users\\user\\appdata\\local\\programs\\python\\python38\\lib\\site-packages (from pandas) (2024.1)\n",
      "Requirement already satisfied: numpy>=1.20.3 in c:\\users\\user\\appdata\\local\\programs\\python\\python38\\lib\\site-packages (from pandas) (1.24.4)\n",
      "Requirement already satisfied: six>=1.5 in c:\\users\\user\\appdata\\roaming\\python\\python38\\site-packages (from python-dateutil>=2.8.2->pandas) (1.16.0)\n"
     ]
    }
   ],
   "source": [
    "import sys\n",
    "!{sys.executable} -m pip install pandas\n",
    "import pandas as pd"
   ]
  },
  {
   "cell_type": "code",
   "execution_count": 39,
   "metadata": {},
   "outputs": [],
   "source": [
    "# 연습용 DB 연결\n",
    "conn = sqlite3.connect(\"chadwick.db\")"
   ]
  },
  {
   "cell_type": "code",
   "execution_count": 40,
   "metadata": {},
   "outputs": [],
   "source": [
    "# 커서 생성\n",
    "c = conn.cursor()"
   ]
  },
  {
   "cell_type": "code",
   "execution_count": 41,
   "metadata": {},
   "outputs": [
    {
     "data": {
      "text/plain": [
       "<sqlite3.Cursor at 0x1b53557ac70>"
      ]
     },
     "execution_count": 41,
     "metadata": {},
     "output_type": "execute_result"
    }
   ],
   "source": [
    "# 전체 테이블 현황 조회\n",
    "c.execute('''SELECT * FROM sqlite_master WHERE type=\"table\"''')"
   ]
  },
  {
   "cell_type": "code",
   "execution_count": 42,
   "metadata": {},
   "outputs": [
    {
     "data": {
      "text/html": [
       "<div>\n",
       "<style scoped>\n",
       "    .dataframe tbody tr th:only-of-type {\n",
       "        vertical-align: middle;\n",
       "    }\n",
       "\n",
       "    .dataframe tbody tr th {\n",
       "        vertical-align: top;\n",
       "    }\n",
       "\n",
       "    .dataframe thead th {\n",
       "        text-align: right;\n",
       "    }\n",
       "</style>\n",
       "<table border=\"1\" class=\"dataframe\">\n",
       "  <thead>\n",
       "    <tr style=\"text-align: right;\">\n",
       "      <th></th>\n",
       "    </tr>\n",
       "  </thead>\n",
       "  <tbody>\n",
       "  </tbody>\n",
       "</table>\n",
       "</div>"
      ],
      "text/plain": [
       "Empty DataFrame\n",
       "Columns: []\n",
       "Index: []"
      ]
     },
     "execution_count": 42,
     "metadata": {},
     "output_type": "execute_result"
    }
   ],
   "source": [
    "pd.DataFrame(c.fetchall())"
   ]
  },
  {
   "cell_type": "code",
   "execution_count": 43,
   "metadata": {},
   "outputs": [
    {
     "ename": "OperationalError",
     "evalue": "no such table: Parks",
     "output_type": "error",
     "traceback": [
      "\u001b[1;31m---------------------------------------------------------------------------\u001b[0m",
      "\u001b[1;31mOperationalError\u001b[0m                          Traceback (most recent call last)",
      "Cell \u001b[1;32mIn[43], line 2\u001b[0m\n\u001b[0;32m      1\u001b[0m \u001b[38;5;66;03m# 전체 데이터 조회\u001b[39;00m\n\u001b[1;32m----> 2\u001b[0m \u001b[43mc\u001b[49m\u001b[38;5;241;43m.\u001b[39;49m\u001b[43mexecute\u001b[49m\u001b[43m(\u001b[49m\u001b[38;5;124;43m'''\u001b[39;49m\u001b[38;5;124;43mSELECT * FROM Parks\u001b[39;49m\u001b[38;5;124;43m'''\u001b[39;49m\u001b[43m)\u001b[49m\n",
      "\u001b[1;31mOperationalError\u001b[0m: no such table: Parks"
     ]
    }
   ],
   "source": [
    "# 전체 데이터 조회\n",
    "c.execute('''SELECT * FROM Parks''')"
   ]
  },
  {
   "cell_type": "code",
   "execution_count": 24,
   "metadata": {},
   "outputs": [
    {
     "data": {
      "text/html": [
       "<div>\n",
       "<style scoped>\n",
       "    .dataframe tbody tr th:only-of-type {\n",
       "        vertical-align: middle;\n",
       "    }\n",
       "\n",
       "    .dataframe tbody tr th {\n",
       "        vertical-align: top;\n",
       "    }\n",
       "\n",
       "    .dataframe thead th {\n",
       "        text-align: right;\n",
       "    }\n",
       "</style>\n",
       "<table border=\"1\" class=\"dataframe\">\n",
       "  <thead>\n",
       "    <tr style=\"text-align: right;\">\n",
       "      <th></th>\n",
       "      <th>0</th>\n",
       "      <th>1</th>\n",
       "      <th>2</th>\n",
       "      <th>3</th>\n",
       "      <th>4</th>\n",
       "      <th>5</th>\n",
       "    </tr>\n",
       "  </thead>\n",
       "  <tbody>\n",
       "    <tr>\n",
       "      <th>0</th>\n",
       "      <td>ALB01</td>\n",
       "      <td>Riverside Park</td>\n",
       "      <td>None</td>\n",
       "      <td>Albany</td>\n",
       "      <td>NY</td>\n",
       "      <td>US</td>\n",
       "    </tr>\n",
       "    <tr>\n",
       "      <th>1</th>\n",
       "      <td>ALT01</td>\n",
       "      <td>Columbia Park</td>\n",
       "      <td>None</td>\n",
       "      <td>Altoona</td>\n",
       "      <td>PA</td>\n",
       "      <td>US</td>\n",
       "    </tr>\n",
       "    <tr>\n",
       "      <th>2</th>\n",
       "      <td>ANA01</td>\n",
       "      <td>Angel Stadium of Anaheim</td>\n",
       "      <td>Edison Field; Anaheim Stadium</td>\n",
       "      <td>Anaheim</td>\n",
       "      <td>CA</td>\n",
       "      <td>US</td>\n",
       "    </tr>\n",
       "    <tr>\n",
       "      <th>3</th>\n",
       "      <td>ARL01</td>\n",
       "      <td>Arlington Stadium</td>\n",
       "      <td>None</td>\n",
       "      <td>Arlington</td>\n",
       "      <td>TX</td>\n",
       "      <td>US</td>\n",
       "    </tr>\n",
       "    <tr>\n",
       "      <th>4</th>\n",
       "      <td>ARL02</td>\n",
       "      <td>Rangers Ballpark in Arlington</td>\n",
       "      <td>The Ballpark in Arlington; Ameriquest Fl</td>\n",
       "      <td>Arlington</td>\n",
       "      <td>TX</td>\n",
       "      <td>US</td>\n",
       "    </tr>\n",
       "    <tr>\n",
       "      <th>...</th>\n",
       "      <td>...</td>\n",
       "      <td>...</td>\n",
       "      <td>...</td>\n",
       "      <td>...</td>\n",
       "      <td>...</td>\n",
       "      <td>...</td>\n",
       "    </tr>\n",
       "    <tr>\n",
       "      <th>250</th>\n",
       "      <td>WIL02</td>\n",
       "      <td>BB&amp;T Ballpark at Bowman Field</td>\n",
       "      <td>None</td>\n",
       "      <td>Williamsport</td>\n",
       "      <td>PA</td>\n",
       "      <td>US</td>\n",
       "    </tr>\n",
       "    <tr>\n",
       "      <th>251</th>\n",
       "      <td>WNY01</td>\n",
       "      <td>West New York Field Club Grounds</td>\n",
       "      <td>None</td>\n",
       "      <td>West New York</td>\n",
       "      <td>NJ</td>\n",
       "      <td>US</td>\n",
       "    </tr>\n",
       "    <tr>\n",
       "      <th>252</th>\n",
       "      <td>WOR01</td>\n",
       "      <td>Agricultural County Fair Grounds I</td>\n",
       "      <td>None</td>\n",
       "      <td>Worcester</td>\n",
       "      <td>MA</td>\n",
       "      <td>US</td>\n",
       "    </tr>\n",
       "    <tr>\n",
       "      <th>253</th>\n",
       "      <td>WOR02</td>\n",
       "      <td>Agricultural County Fair Grounds II</td>\n",
       "      <td>None</td>\n",
       "      <td>Worcester</td>\n",
       "      <td>MA</td>\n",
       "      <td>US</td>\n",
       "    </tr>\n",
       "    <tr>\n",
       "      <th>254</th>\n",
       "      <td>WOR03</td>\n",
       "      <td>Worcester Driving Park Grounds</td>\n",
       "      <td>None</td>\n",
       "      <td>Worcester</td>\n",
       "      <td>MA</td>\n",
       "      <td>US</td>\n",
       "    </tr>\n",
       "  </tbody>\n",
       "</table>\n",
       "<p>255 rows × 6 columns</p>\n",
       "</div>"
      ],
      "text/plain": [
       "         0                                    1  \\\n",
       "0    ALB01                       Riverside Park   \n",
       "1    ALT01                        Columbia Park   \n",
       "2    ANA01             Angel Stadium of Anaheim   \n",
       "3    ARL01                    Arlington Stadium   \n",
       "4    ARL02        Rangers Ballpark in Arlington   \n",
       "..     ...                                  ...   \n",
       "250  WIL02        BB&T Ballpark at Bowman Field   \n",
       "251  WNY01     West New York Field Club Grounds   \n",
       "252  WOR01   Agricultural County Fair Grounds I   \n",
       "253  WOR02  Agricultural County Fair Grounds II   \n",
       "254  WOR03       Worcester Driving Park Grounds   \n",
       "\n",
       "                                            2              3   4   5  \n",
       "0                                        None         Albany  NY  US  \n",
       "1                                        None        Altoona  PA  US  \n",
       "2               Edison Field; Anaheim Stadium        Anaheim  CA  US  \n",
       "3                                        None      Arlington  TX  US  \n",
       "4    The Ballpark in Arlington; Ameriquest Fl      Arlington  TX  US  \n",
       "..                                        ...            ...  ..  ..  \n",
       "250                                      None   Williamsport  PA  US  \n",
       "251                                      None  West New York  NJ  US  \n",
       "252                                      None      Worcester  MA  US  \n",
       "253                                      None      Worcester  MA  US  \n",
       "254                                      None      Worcester  MA  US  \n",
       "\n",
       "[255 rows x 6 columns]"
      ]
     },
     "execution_count": 24,
     "metadata": {},
     "output_type": "execute_result"
    }
   ],
   "source": [
    "# 전체 로우 선택\n",
    "pd.DataFrame(c.fetchall())"
   ]
  },
  {
   "cell_type": "code",
   "execution_count": 44,
   "metadata": {},
   "outputs": [
    {
     "data": {
      "text/html": [
       "<div>\n",
       "<style scoped>\n",
       "    .dataframe tbody tr th:only-of-type {\n",
       "        vertical-align: middle;\n",
       "    }\n",
       "\n",
       "    .dataframe tbody tr th {\n",
       "        vertical-align: top;\n",
       "    }\n",
       "\n",
       "    .dataframe thead th {\n",
       "        text-align: right;\n",
       "    }\n",
       "</style>\n",
       "<table border=\"1\" class=\"dataframe\">\n",
       "  <thead>\n",
       "    <tr style=\"text-align: right;\">\n",
       "      <th></th>\n",
       "    </tr>\n",
       "  </thead>\n",
       "  <tbody>\n",
       "  </tbody>\n",
       "</table>\n",
       "</div>"
      ],
      "text/plain": [
       "Empty DataFrame\n",
       "Columns: []\n",
       "Index: []"
      ]
     },
     "execution_count": 44,
     "metadata": {},
     "output_type": "execute_result"
    }
   ],
   "source": [
    "# 1개 로우 선택\n",
    "pd.DataFrame(c.fetchone())"
   ]
  },
  {
   "cell_type": "code",
   "execution_count": 45,
   "metadata": {},
   "outputs": [
    {
     "data": {
      "text/html": [
       "<div>\n",
       "<style scoped>\n",
       "    .dataframe tbody tr th:only-of-type {\n",
       "        vertical-align: middle;\n",
       "    }\n",
       "\n",
       "    .dataframe tbody tr th {\n",
       "        vertical-align: top;\n",
       "    }\n",
       "\n",
       "    .dataframe thead th {\n",
       "        text-align: right;\n",
       "    }\n",
       "</style>\n",
       "<table border=\"1\" class=\"dataframe\">\n",
       "  <thead>\n",
       "    <tr style=\"text-align: right;\">\n",
       "      <th></th>\n",
       "    </tr>\n",
       "  </thead>\n",
       "  <tbody>\n",
       "  </tbody>\n",
       "</table>\n",
       "</div>"
      ],
      "text/plain": [
       "Empty DataFrame\n",
       "Columns: []\n",
       "Index: []"
      ]
     },
     "execution_count": 45,
     "metadata": {},
     "output_type": "execute_result"
    }
   ],
   "source": [
    "# 지정 로우 선택\n",
    "pd.DataFrame(c.fetchmany(size=3))"
   ]
  },
  {
   "cell_type": "code",
   "execution_count": 46,
   "metadata": {},
   "outputs": [
    {
     "ename": "OperationalError",
     "evalue": "no such table: Parks",
     "output_type": "error",
     "traceback": [
      "\u001b[1;31m---------------------------------------------------------------------------\u001b[0m",
      "\u001b[1;31mOperationalError\u001b[0m                          Traceback (most recent call last)",
      "Cell \u001b[1;32mIn[46], line 2\u001b[0m\n\u001b[0;32m      1\u001b[0m \u001b[38;5;66;03m# 컬럼(키) 확인\u001b[39;00m\n\u001b[1;32m----> 2\u001b[0m cur \u001b[38;5;241m=\u001b[39m \u001b[43mc\u001b[49m\u001b[38;5;241;43m.\u001b[39;49m\u001b[43mexecute\u001b[49m\u001b[43m(\u001b[49m\u001b[38;5;124;43m'''\u001b[39;49m\u001b[38;5;124;43mSELECT * FROM Parks\u001b[39;49m\u001b[38;5;124;43m'''\u001b[39;49m\u001b[43m)\u001b[49m\n\u001b[0;32m      3\u001b[0m cur\u001b[38;5;241m.\u001b[39mdescription\n",
      "\u001b[1;31mOperationalError\u001b[0m: no such table: Parks"
     ]
    }
   ],
   "source": [
    "# 컬럼(키) 확인\n",
    "cur = c.execute('''SELECT * FROM Parks''')\n",
    "cur.description"
   ]
  },
  {
   "cell_type": "code",
   "execution_count": 28,
   "metadata": {},
   "outputs": [
    {
     "data": {
      "text/html": [
       "<div>\n",
       "<style scoped>\n",
       "    .dataframe tbody tr th:only-of-type {\n",
       "        vertical-align: middle;\n",
       "    }\n",
       "\n",
       "    .dataframe tbody tr th {\n",
       "        vertical-align: top;\n",
       "    }\n",
       "\n",
       "    .dataframe thead th {\n",
       "        text-align: right;\n",
       "    }\n",
       "</style>\n",
       "<table border=\"1\" class=\"dataframe\">\n",
       "  <thead>\n",
       "    <tr style=\"text-align: right;\">\n",
       "      <th></th>\n",
       "      <th>0</th>\n",
       "      <th>1</th>\n",
       "      <th>2</th>\n",
       "      <th>3</th>\n",
       "      <th>4</th>\n",
       "      <th>5</th>\n",
       "    </tr>\n",
       "  </thead>\n",
       "  <tbody>\n",
       "    <tr>\n",
       "      <th>0</th>\n",
       "      <td>ALB01</td>\n",
       "      <td>Riverside Park</td>\n",
       "      <td>None</td>\n",
       "      <td>Albany</td>\n",
       "      <td>NY</td>\n",
       "      <td>US</td>\n",
       "    </tr>\n",
       "    <tr>\n",
       "      <th>1</th>\n",
       "      <td>BUF01</td>\n",
       "      <td>Riverside Grounds</td>\n",
       "      <td>None</td>\n",
       "      <td>Buffalo</td>\n",
       "      <td>NY</td>\n",
       "      <td>US</td>\n",
       "    </tr>\n",
       "    <tr>\n",
       "      <th>2</th>\n",
       "      <td>BUF02</td>\n",
       "      <td>Olympic Park I</td>\n",
       "      <td>None</td>\n",
       "      <td>Buffalo</td>\n",
       "      <td>NY</td>\n",
       "      <td>US</td>\n",
       "    </tr>\n",
       "    <tr>\n",
       "      <th>3</th>\n",
       "      <td>BUF03</td>\n",
       "      <td>Olympic Park II</td>\n",
       "      <td>None</td>\n",
       "      <td>Buffalo</td>\n",
       "      <td>NY</td>\n",
       "      <td>US</td>\n",
       "    </tr>\n",
       "    <tr>\n",
       "      <th>4</th>\n",
       "      <td>BUF04</td>\n",
       "      <td>International Fair Association Grounds</td>\n",
       "      <td>Federal League Park</td>\n",
       "      <td>Buffalo</td>\n",
       "      <td>NY</td>\n",
       "      <td>US</td>\n",
       "    </tr>\n",
       "    <tr>\n",
       "      <th>5</th>\n",
       "      <td>ELM01</td>\n",
       "      <td>Maple Avenue Driving Park</td>\n",
       "      <td>None</td>\n",
       "      <td>Elmira</td>\n",
       "      <td>NY</td>\n",
       "      <td>US</td>\n",
       "    </tr>\n",
       "    <tr>\n",
       "      <th>6</th>\n",
       "      <td>IRO01</td>\n",
       "      <td>Windsor Beach</td>\n",
       "      <td>None</td>\n",
       "      <td>Irondequoit</td>\n",
       "      <td>NY</td>\n",
       "      <td>US</td>\n",
       "    </tr>\n",
       "    <tr>\n",
       "      <th>7</th>\n",
       "      <td>MAS01</td>\n",
       "      <td>Long Island Grounds</td>\n",
       "      <td>None</td>\n",
       "      <td>Maspeth</td>\n",
       "      <td>NY</td>\n",
       "      <td>US</td>\n",
       "    </tr>\n",
       "    <tr>\n",
       "      <th>8</th>\n",
       "      <td>NYC01</td>\n",
       "      <td>Union Grounds</td>\n",
       "      <td>None</td>\n",
       "      <td>Brooklyn</td>\n",
       "      <td>NY</td>\n",
       "      <td>US</td>\n",
       "    </tr>\n",
       "    <tr>\n",
       "      <th>9</th>\n",
       "      <td>NYC02</td>\n",
       "      <td>Capitoline Grounds</td>\n",
       "      <td>None</td>\n",
       "      <td>Brooklyn</td>\n",
       "      <td>NY</td>\n",
       "      <td>US</td>\n",
       "    </tr>\n",
       "    <tr>\n",
       "      <th>10</th>\n",
       "      <td>NYC03</td>\n",
       "      <td>Polo Grounds I (Southeast Diamond)</td>\n",
       "      <td>None</td>\n",
       "      <td>New York</td>\n",
       "      <td>NY</td>\n",
       "      <td>US</td>\n",
       "    </tr>\n",
       "    <tr>\n",
       "      <th>11</th>\n",
       "      <td>NYC04</td>\n",
       "      <td>Polo Grounds II (Southwest Diamond)</td>\n",
       "      <td>None</td>\n",
       "      <td>New York</td>\n",
       "      <td>NY</td>\n",
       "      <td>US</td>\n",
       "    </tr>\n",
       "    <tr>\n",
       "      <th>12</th>\n",
       "      <td>NYC05</td>\n",
       "      <td>Washington Park I</td>\n",
       "      <td>None</td>\n",
       "      <td>Brooklyn</td>\n",
       "      <td>NY</td>\n",
       "      <td>US</td>\n",
       "    </tr>\n",
       "    <tr>\n",
       "      <th>13</th>\n",
       "      <td>NYC06</td>\n",
       "      <td>Metropolitan Park</td>\n",
       "      <td>None</td>\n",
       "      <td>New York</td>\n",
       "      <td>NY</td>\n",
       "      <td>US</td>\n",
       "    </tr>\n",
       "    <tr>\n",
       "      <th>14</th>\n",
       "      <td>NYC07</td>\n",
       "      <td>Grauer's Ridgewood Park</td>\n",
       "      <td>Ridgewood Park I</td>\n",
       "      <td>Queens</td>\n",
       "      <td>NY</td>\n",
       "      <td>US</td>\n",
       "    </tr>\n",
       "    <tr>\n",
       "      <th>15</th>\n",
       "      <td>NYC08</td>\n",
       "      <td>Washington Park II</td>\n",
       "      <td>None</td>\n",
       "      <td>Brooklyn</td>\n",
       "      <td>NY</td>\n",
       "      <td>US</td>\n",
       "    </tr>\n",
       "    <tr>\n",
       "      <th>16</th>\n",
       "      <td>NYC09</td>\n",
       "      <td>Polo Grounds III</td>\n",
       "      <td>None</td>\n",
       "      <td>New York</td>\n",
       "      <td>NY</td>\n",
       "      <td>US</td>\n",
       "    </tr>\n",
       "    <tr>\n",
       "      <th>17</th>\n",
       "      <td>NYC10</td>\n",
       "      <td>Polo Grounds IV</td>\n",
       "      <td>None</td>\n",
       "      <td>New York</td>\n",
       "      <td>NY</td>\n",
       "      <td>US</td>\n",
       "    </tr>\n",
       "    <tr>\n",
       "      <th>18</th>\n",
       "      <td>NYC11</td>\n",
       "      <td>Eastern Park</td>\n",
       "      <td>None</td>\n",
       "      <td>Brooklyn</td>\n",
       "      <td>NY</td>\n",
       "      <td>US</td>\n",
       "    </tr>\n",
       "    <tr>\n",
       "      <th>19</th>\n",
       "      <td>NYC12</td>\n",
       "      <td>Washington Park III</td>\n",
       "      <td>None</td>\n",
       "      <td>Brooklyn</td>\n",
       "      <td>NY</td>\n",
       "      <td>US</td>\n",
       "    </tr>\n",
       "    <tr>\n",
       "      <th>20</th>\n",
       "      <td>NYC13</td>\n",
       "      <td>Hilltop Park</td>\n",
       "      <td>None</td>\n",
       "      <td>New York</td>\n",
       "      <td>NY</td>\n",
       "      <td>US</td>\n",
       "    </tr>\n",
       "    <tr>\n",
       "      <th>21</th>\n",
       "      <td>NYC14</td>\n",
       "      <td>Polo Grounds V</td>\n",
       "      <td>None</td>\n",
       "      <td>New York</td>\n",
       "      <td>NY</td>\n",
       "      <td>US</td>\n",
       "    </tr>\n",
       "    <tr>\n",
       "      <th>22</th>\n",
       "      <td>NYC15</td>\n",
       "      <td>Ebbets Field</td>\n",
       "      <td>None</td>\n",
       "      <td>Brooklyn</td>\n",
       "      <td>NY</td>\n",
       "      <td>US</td>\n",
       "    </tr>\n",
       "    <tr>\n",
       "      <th>23</th>\n",
       "      <td>NYC16</td>\n",
       "      <td>Yankee Stadium I</td>\n",
       "      <td>None</td>\n",
       "      <td>New York</td>\n",
       "      <td>NY</td>\n",
       "      <td>US</td>\n",
       "    </tr>\n",
       "    <tr>\n",
       "      <th>24</th>\n",
       "      <td>NYC17</td>\n",
       "      <td>Shea Stadium</td>\n",
       "      <td>William A. Shea Stadium</td>\n",
       "      <td>New York</td>\n",
       "      <td>NY</td>\n",
       "      <td>US</td>\n",
       "    </tr>\n",
       "    <tr>\n",
       "      <th>25</th>\n",
       "      <td>NYC18</td>\n",
       "      <td>Wallace's Ridgewood Park</td>\n",
       "      <td>Ridgewood Park II</td>\n",
       "      <td>Queens</td>\n",
       "      <td>NY</td>\n",
       "      <td>US</td>\n",
       "    </tr>\n",
       "    <tr>\n",
       "      <th>26</th>\n",
       "      <td>NYC19</td>\n",
       "      <td>Washington Park IV</td>\n",
       "      <td>None</td>\n",
       "      <td>Brooklyn</td>\n",
       "      <td>NY</td>\n",
       "      <td>US</td>\n",
       "    </tr>\n",
       "    <tr>\n",
       "      <th>27</th>\n",
       "      <td>NYC20</td>\n",
       "      <td>Citi Field</td>\n",
       "      <td>None</td>\n",
       "      <td>New York</td>\n",
       "      <td>NY</td>\n",
       "      <td>US</td>\n",
       "    </tr>\n",
       "    <tr>\n",
       "      <th>28</th>\n",
       "      <td>NYC21</td>\n",
       "      <td>Yankee Stadium II</td>\n",
       "      <td>None</td>\n",
       "      <td>New York</td>\n",
       "      <td>NY</td>\n",
       "      <td>US</td>\n",
       "    </tr>\n",
       "    <tr>\n",
       "      <th>29</th>\n",
       "      <td>ROC01</td>\n",
       "      <td>Culver Field I</td>\n",
       "      <td>None</td>\n",
       "      <td>Rochester</td>\n",
       "      <td>NY</td>\n",
       "      <td>US</td>\n",
       "    </tr>\n",
       "    <tr>\n",
       "      <th>30</th>\n",
       "      <td>ROC02</td>\n",
       "      <td>Culver Field II</td>\n",
       "      <td>None</td>\n",
       "      <td>Rochester</td>\n",
       "      <td>NY</td>\n",
       "      <td>US</td>\n",
       "    </tr>\n",
       "    <tr>\n",
       "      <th>31</th>\n",
       "      <td>ROC03</td>\n",
       "      <td>Ontario Beach Grounds</td>\n",
       "      <td>None</td>\n",
       "      <td>Rochester</td>\n",
       "      <td>NY</td>\n",
       "      <td>US</td>\n",
       "    </tr>\n",
       "    <tr>\n",
       "      <th>32</th>\n",
       "      <td>SAI01</td>\n",
       "      <td>St. George Cricket Grounds</td>\n",
       "      <td>None</td>\n",
       "      <td>New York</td>\n",
       "      <td>NY</td>\n",
       "      <td>US</td>\n",
       "    </tr>\n",
       "    <tr>\n",
       "      <th>33</th>\n",
       "      <td>SYR01</td>\n",
       "      <td>Star Park I</td>\n",
       "      <td>Newell Park</td>\n",
       "      <td>Syracuse</td>\n",
       "      <td>NY</td>\n",
       "      <td>US</td>\n",
       "    </tr>\n",
       "    <tr>\n",
       "      <th>34</th>\n",
       "      <td>SYR02</td>\n",
       "      <td>Star Park II</td>\n",
       "      <td>None</td>\n",
       "      <td>Syracuse</td>\n",
       "      <td>NY</td>\n",
       "      <td>US</td>\n",
       "    </tr>\n",
       "    <tr>\n",
       "      <th>35</th>\n",
       "      <td>SYR03</td>\n",
       "      <td>Iron Pier</td>\n",
       "      <td>None</td>\n",
       "      <td>Syracuse</td>\n",
       "      <td>NY</td>\n",
       "      <td>US</td>\n",
       "    </tr>\n",
       "    <tr>\n",
       "      <th>36</th>\n",
       "      <td>THR01</td>\n",
       "      <td>Three Rivers Park</td>\n",
       "      <td>None</td>\n",
       "      <td>Three Rivers</td>\n",
       "      <td>NY</td>\n",
       "      <td>US</td>\n",
       "    </tr>\n",
       "    <tr>\n",
       "      <th>37</th>\n",
       "      <td>TRO01</td>\n",
       "      <td>Haymakers' Grounds</td>\n",
       "      <td>None</td>\n",
       "      <td>Troy</td>\n",
       "      <td>NY</td>\n",
       "      <td>US</td>\n",
       "    </tr>\n",
       "    <tr>\n",
       "      <th>38</th>\n",
       "      <td>TRO02</td>\n",
       "      <td>Putnam Grounds</td>\n",
       "      <td>None</td>\n",
       "      <td>Troy</td>\n",
       "      <td>NY</td>\n",
       "      <td>US</td>\n",
       "    </tr>\n",
       "    <tr>\n",
       "      <th>39</th>\n",
       "      <td>WAT01</td>\n",
       "      <td>Troy Ball Club Grounds</td>\n",
       "      <td>None</td>\n",
       "      <td>Watervliet</td>\n",
       "      <td>NY</td>\n",
       "      <td>US</td>\n",
       "    </tr>\n",
       "  </tbody>\n",
       "</table>\n",
       "</div>"
      ],
      "text/plain": [
       "        0                                       1                        2  \\\n",
       "0   ALB01                          Riverside Park                     None   \n",
       "1   BUF01                       Riverside Grounds                     None   \n",
       "2   BUF02                          Olympic Park I                     None   \n",
       "3   BUF03                         Olympic Park II                     None   \n",
       "4   BUF04  International Fair Association Grounds      Federal League Park   \n",
       "5   ELM01               Maple Avenue Driving Park                     None   \n",
       "6   IRO01                           Windsor Beach                     None   \n",
       "7   MAS01                     Long Island Grounds                     None   \n",
       "8   NYC01                           Union Grounds                     None   \n",
       "9   NYC02                      Capitoline Grounds                     None   \n",
       "10  NYC03      Polo Grounds I (Southeast Diamond)                     None   \n",
       "11  NYC04     Polo Grounds II (Southwest Diamond)                     None   \n",
       "12  NYC05                       Washington Park I                     None   \n",
       "13  NYC06                       Metropolitan Park                     None   \n",
       "14  NYC07                 Grauer's Ridgewood Park         Ridgewood Park I   \n",
       "15  NYC08                      Washington Park II                     None   \n",
       "16  NYC09                        Polo Grounds III                     None   \n",
       "17  NYC10                         Polo Grounds IV                     None   \n",
       "18  NYC11                            Eastern Park                     None   \n",
       "19  NYC12                     Washington Park III                     None   \n",
       "20  NYC13                            Hilltop Park                     None   \n",
       "21  NYC14                          Polo Grounds V                     None   \n",
       "22  NYC15                            Ebbets Field                     None   \n",
       "23  NYC16                        Yankee Stadium I                     None   \n",
       "24  NYC17                            Shea Stadium  William A. Shea Stadium   \n",
       "25  NYC18                Wallace's Ridgewood Park        Ridgewood Park II   \n",
       "26  NYC19                      Washington Park IV                     None   \n",
       "27  NYC20                              Citi Field                     None   \n",
       "28  NYC21                       Yankee Stadium II                     None   \n",
       "29  ROC01                          Culver Field I                     None   \n",
       "30  ROC02                         Culver Field II                     None   \n",
       "31  ROC03                   Ontario Beach Grounds                     None   \n",
       "32  SAI01              St. George Cricket Grounds                     None   \n",
       "33  SYR01                             Star Park I              Newell Park   \n",
       "34  SYR02                            Star Park II                     None   \n",
       "35  SYR03                               Iron Pier                     None   \n",
       "36  THR01                       Three Rivers Park                     None   \n",
       "37  TRO01                      Haymakers' Grounds                     None   \n",
       "38  TRO02                          Putnam Grounds                     None   \n",
       "39  WAT01                  Troy Ball Club Grounds                     None   \n",
       "\n",
       "               3   4   5  \n",
       "0         Albany  NY  US  \n",
       "1        Buffalo  NY  US  \n",
       "2        Buffalo  NY  US  \n",
       "3        Buffalo  NY  US  \n",
       "4        Buffalo  NY  US  \n",
       "5         Elmira  NY  US  \n",
       "6    Irondequoit  NY  US  \n",
       "7        Maspeth  NY  US  \n",
       "8       Brooklyn  NY  US  \n",
       "9       Brooklyn  NY  US  \n",
       "10      New York  NY  US  \n",
       "11      New York  NY  US  \n",
       "12      Brooklyn  NY  US  \n",
       "13      New York  NY  US  \n",
       "14        Queens  NY  US  \n",
       "15      Brooklyn  NY  US  \n",
       "16      New York  NY  US  \n",
       "17      New York  NY  US  \n",
       "18      Brooklyn  NY  US  \n",
       "19      Brooklyn  NY  US  \n",
       "20      New York  NY  US  \n",
       "21      New York  NY  US  \n",
       "22      Brooklyn  NY  US  \n",
       "23      New York  NY  US  \n",
       "24      New York  NY  US  \n",
       "25        Queens  NY  US  \n",
       "26      Brooklyn  NY  US  \n",
       "27      New York  NY  US  \n",
       "28      New York  NY  US  \n",
       "29     Rochester  NY  US  \n",
       "30     Rochester  NY  US  \n",
       "31     Rochester  NY  US  \n",
       "32      New York  NY  US  \n",
       "33      Syracuse  NY  US  \n",
       "34      Syracuse  NY  US  \n",
       "35      Syracuse  NY  US  \n",
       "36  Three Rivers  NY  US  \n",
       "37          Troy  NY  US  \n",
       "38          Troy  NY  US  \n",
       "39    Watervliet  NY  US  "
      ]
     },
     "execution_count": 28,
     "metadata": {},
     "output_type": "execute_result"
    }
   ],
   "source": [
    "# 특정 row 만 가져오기\n",
    "c.execute('''SELECT * FROM Parks WHERE state = ?''', ('NY',))\n",
    "pd.DataFrame(c.fetchall())"
   ]
  },
  {
   "cell_type": "code",
   "execution_count": 33,
   "metadata": {},
   "outputs": [],
   "source": [
    "# DB 연결 해제\n",
    "conn.close()"
   ]
  },
  {
   "cell_type": "code",
   "execution_count": 35,
   "metadata": {},
   "outputs": [],
   "source": [
    "# 연습용 DB 연결\n",
    "conn = sqlite3.connect(\"test.db\")"
   ]
  },
  {
   "cell_type": "code",
   "execution_count": 36,
   "metadata": {},
   "outputs": [],
   "source": [
    "# 커서 생성\n",
    "c = conn.cursor()"
   ]
  },
  {
   "cell_type": "code",
   "execution_count": 37,
   "metadata": {},
   "outputs": [
    {
     "data": {
      "text/plain": [
       "<sqlite3.Cursor at 0x2917f3127c0>"
      ]
     },
     "execution_count": 37,
     "metadata": {},
     "output_type": "execute_result"
    }
   ],
   "source": [
    "# 테이블 생성\n",
    "query = '''CREATE TABLE test (ID INTEGER PRIMARY KEY, PRODUCT_NAME TEXT, PRICE INTEGER)'''\n",
    "c.execute(query)"
   ]
  },
  {
   "cell_type": "code",
   "execution_count": 38,
   "metadata": {},
   "outputs": [
    {
     "name": "stdout",
     "output_type": "stream",
     "text": [
      "[('table', 'test', 'test', 2, 'CREATE TABLE test (ID INTEGER PRIMARY KEY, PRODUCT_NAME TEXT, PRICE INTEGER)')]\n"
     ]
    }
   ],
   "source": [
    "# 테이블 생성확인\n",
    "c.execute('''SELECT * FROM sqlite_master WHERE type=\"table\"''')\n",
    "print(c.fetchall())"
   ]
  },
  {
   "cell_type": "code",
   "execution_count": 39,
   "metadata": {},
   "outputs": [
    {
     "data": {
      "text/plain": [
       "<sqlite3.Cursor at 0x2917f3127c0>"
      ]
     },
     "execution_count": 39,
     "metadata": {},
     "output_type": "execute_result"
    }
   ],
   "source": [
    "# 데이터 삽입\n",
    "c.execute(\"INSERT INTO test VALUES(1,'모자',150000)\")"
   ]
  },
  {
   "cell_type": "code",
   "execution_count": 40,
   "metadata": {},
   "outputs": [],
   "source": [
    "conn.commit()"
   ]
  },
  {
   "cell_type": "code",
   "execution_count": 41,
   "metadata": {},
   "outputs": [],
   "source": [
    "# 데이터 삽입\n",
    "c.execute(\"INSERT INTO test VALUES(2,'코트',200000)\")\n",
    "conn.commit()"
   ]
  },
  {
   "cell_type": "code",
   "execution_count": 42,
   "metadata": {},
   "outputs": [],
   "source": [
    "# 데이터 삽입\n",
    "c.execute(\"INSERT INTO test(PRODUCT_NAME, PRICE, ID) VALUES(?,?,?)\", ('티셔츠', 20000, 3))\n",
    "conn.commit()"
   ]
  },
  {
   "cell_type": "code",
   "execution_count": 43,
   "metadata": {},
   "outputs": [],
   "source": [
    "# 데이터 삽입\n",
    "c.execute(\"INSERT INTO test(ID, PRICE, PRODUCT_NAME) VALUES(?,?,?)\", (4, 55000, '블라우스'))\n",
    "conn.commit()"
   ]
  },
  {
   "cell_type": "code",
   "execution_count": 44,
   "metadata": {},
   "outputs": [],
   "source": [
    "# 테이블 내용 삭제\n",
    "c.execute(\"DELETE FROM test\")\n",
    "conn.commit()"
   ]
  },
  {
   "cell_type": "code",
   "execution_count": 45,
   "metadata": {},
   "outputs": [],
   "source": [
    "# 추가할 상품 리스트\n",
    "product_list = [[1, '모자', 15000],\n",
    "                [2, '코트', 200000],\n",
    "                [3, '티셔츠', 20000],\n",
    "                [4, '블라우스', 55000],\n",
    "                [5, '가디건', 45000],\n",
    "                [6, '청바지', 50000],\n",
    "                [7, '구두', 150000],\n",
    "                [8, '가방', 170000]]"
   ]
  },
  {
   "cell_type": "code",
   "execution_count": 46,
   "metadata": {},
   "outputs": [],
   "source": [
    "# 데이터 여러줄 삽입\n",
    "c.executemany(\"INSERT INTO test(ID, PRODUCT_NAME, PRICE) VALUES(?,?,?)\", product_list)\n",
    "conn.commit()"
   ]
  },
  {
   "cell_type": "code",
   "execution_count": 47,
   "metadata": {},
   "outputs": [],
   "source": [
    "c.execute(\"UPDATE test SET PRODUCT_NAME = ? WHERE ID = ?\", ('슬랙스', 6))\n",
    "conn.commit()"
   ]
  },
  {
   "cell_type": "code",
   "execution_count": 48,
   "metadata": {},
   "outputs": [],
   "source": [
    "c.execute(\"UPDATE test SET PRICE = :price WHERE ID = :id\", {\"price\": 55000, \"id\": 6})\n",
    "conn.commit()"
   ]
  },
  {
   "cell_type": "code",
   "execution_count": 49,
   "metadata": {},
   "outputs": [],
   "source": [
    "c.execute(\"UPDATE test SET PRODUCT_NAME = '%s' WHERE ID = '%s'\" % ('트랜치코트', 2))\n",
    "conn.commit()"
   ]
  },
  {
   "cell_type": "code",
   "execution_count": 50,
   "metadata": {},
   "outputs": [],
   "source": [
    "c.execute(\"DELETE FROM test WHERE ID =?\", (8,))\n",
    "conn.commit()"
   ]
  },
  {
   "cell_type": "code",
   "execution_count": 51,
   "metadata": {},
   "outputs": [],
   "source": [
    "c.execute(\"DELETE FROM test WHERE PRODUCT_NAME = :product_name\", {'product_name': '슬랙스'})\n",
    "conn.commit()"
   ]
  },
  {
   "cell_type": "code",
   "execution_count": 52,
   "metadata": {},
   "outputs": [],
   "source": [
    "c.execute(\"DELETE FROM test\")\n",
    "conn.commit()"
   ]
  },
  {
   "cell_type": "code",
   "execution_count": 53,
   "metadata": {},
   "outputs": [],
   "source": [
    "# DB 연결 해제\n",
    "conn.close()"
   ]
  },
  {
   "cell_type": "code",
   "execution_count": 54,
   "metadata": {},
   "outputs": [],
   "source": [
    "# 연습용 DB 연결\n",
    "conn = sqlite3.connect(\"test.db\")\n",
    "# 커서 생성\n",
    "c = conn.cursor()"
   ]
  },
  {
   "cell_type": "code",
   "execution_count": 55,
   "metadata": {},
   "outputs": [],
   "source": [
    "# 추가할 상품 리스트\n",
    "product_list = [[1, '모자', 15000],\n",
    "                [2, '코트', 200000],\n",
    "                [3, '티셔츠', 20000],\n",
    "                [4, '블라우스', 55000],\n",
    "                [5, '가디건', 45000],\n",
    "                [6, '청바지', 50000],\n",
    "                [7, '구두', 150000],\n",
    "                [8, '가방', 170000]]"
   ]
  },
  {
   "cell_type": "code",
   "execution_count": 56,
   "metadata": {},
   "outputs": [],
   "source": [
    "# 데이터 여러줄 삽입\n",
    "c.executemany(\"INSERT OR REPLACE INTO test(ID, PRODUCT_NAME, PRICE) VALUES(?,?,?)\", product_list)\n",
    "conn.commit()"
   ]
  },
  {
   "cell_type": "code",
   "execution_count": 57,
   "metadata": {},
   "outputs": [
    {
     "name": "stdout",
     "output_type": "stream",
     "text": [
      "BEGIN TRANSACTION;\n",
      "CREATE TABLE test (ID INTEGER PRIMARY KEY, PRODUCT_NAME TEXT, PRICE INTEGER);\n",
      "INSERT INTO \"test\" VALUES(1,'모자',15000);\n",
      "INSERT INTO \"test\" VALUES(2,'코트',200000);\n",
      "INSERT INTO \"test\" VALUES(3,'티셔츠',20000);\n",
      "INSERT INTO \"test\" VALUES(4,'블라우스',55000);\n",
      "INSERT INTO \"test\" VALUES(5,'가디건',45000);\n",
      "INSERT INTO \"test\" VALUES(6,'청바지',50000);\n",
      "INSERT INTO \"test\" VALUES(7,'구두',150000);\n",
      "INSERT INTO \"test\" VALUES(8,'가방',170000);\n",
      "COMMIT;\n"
     ]
    }
   ],
   "source": [
    "# iterdump 내용 확인\n",
    "for line in conn.iterdump():\n",
    "    print(line)"
   ]
  },
  {
   "cell_type": "code",
   "execution_count": 58,
   "metadata": {},
   "outputs": [
    {
     "name": "stdout",
     "output_type": "stream",
     "text": [
      "Completed.\n"
     ]
    }
   ],
   "source": [
    "# 데이터 베이스 백업 파일 생성\n",
    "with conn:\n",
    "    with open('backup.sql', 'w') as f:\n",
    "        for line in conn.iterdump():\n",
    "            f.write('%s\\n' % line)\n",
    "        print('Completed.')"
   ]
  },
  {
   "cell_type": "code",
   "execution_count": 59,
   "metadata": {},
   "outputs": [],
   "source": [
    "# 테이블 삭제\n",
    "c.execute(\"DROP TABLE test\")\n",
    "conn.commit()"
   ]
  },
  {
   "cell_type": "code",
   "execution_count": 60,
   "metadata": {},
   "outputs": [],
   "source": [
    "# 백업 SQL 파일 로딩\n",
    "with open('backup.sql', 'r') as sql_file:\n",
    "    sql_script = sql_file.read()"
   ]
  },
  {
   "cell_type": "code",
   "execution_count": 61,
   "metadata": {},
   "outputs": [
    {
     "data": {
      "text/plain": [
       "'BEGIN TRANSACTION;\\nCREATE TABLE test (ID INTEGER PRIMARY KEY, PRODUCT_NAME TEXT, PRICE INTEGER);\\nINSERT INTO \"test\" VALUES(1,\\'모자\\',15000);\\nINSERT INTO \"test\" VALUES(2,\\'코트\\',200000);\\nINSERT INTO \"test\" VALUES(3,\\'티셔츠\\',20000);\\nINSERT INTO \"test\" VALUES(4,\\'블라우스\\',55000);\\nINSERT INTO \"test\" VALUES(5,\\'가디건\\',45000);\\nINSERT INTO \"test\" VALUES(6,\\'청바지\\',50000);\\nINSERT INTO \"test\" VALUES(7,\\'구두\\',150000);\\nINSERT INTO \"test\" VALUES(8,\\'가방\\',170000);\\nCOMMIT;\\n'"
      ]
     },
     "execution_count": 61,
     "metadata": {},
     "output_type": "execute_result"
    }
   ],
   "source": [
    "sql_script"
   ]
  },
  {
   "cell_type": "code",
   "execution_count": 62,
   "metadata": {},
   "outputs": [],
   "source": [
    "# SQL 스크립트 실행\n",
    "c.executescript(sql_script)\n",
    "conn.commit()"
   ]
  },
  {
   "cell_type": "code",
   "execution_count": 63,
   "metadata": {},
   "outputs": [],
   "source": [
    "# 데이터 베이스 연결 해제\n",
    "conn.close()"
   ]
  },
  {
   "cell_type": "code",
   "execution_count": 64,
   "metadata": {},
   "outputs": [],
   "source": [
    "#  쇼핑몰 데이터 베이스\n",
    "conn = sqlite3.connect(\"shopping_mall.db\")\n",
    "\n",
    "#  커서 생성\n",
    "c = conn.cursor()"
   ]
  },
  {
   "cell_type": "code",
   "execution_count": 65,
   "metadata": {},
   "outputs": [
    {
     "name": "stdout",
     "output_type": "stream",
     "text": [
      "    ID   상품명      가격\n",
      "0    1    모자   15000\n",
      "1    2    코트  200000\n",
      "2    3   티셔츠   20000\n",
      "3    4  블라우스   55000\n",
      "4    5   가디건   45000\n",
      "5    6   청바지   50000\n",
      "6    7    구두  150000\n",
      "7    8    가방  170000\n",
      "8    9    양말    5000\n",
      "9    9    양말    5000\n",
      "10   9    양말    5000\n"
     ]
    }
   ],
   "source": [
    "product_list = pd.read_csv('product_list.csv', encoding='euc-kr')\n",
    "print(product_list)"
   ]
  },
  {
   "cell_type": "code",
   "execution_count": 66,
   "metadata": {},
   "outputs": [
    {
     "data": {
      "text/plain": [
       "11"
      ]
     },
     "execution_count": 66,
     "metadata": {},
     "output_type": "execute_result"
    }
   ],
   "source": [
    "# 상품 리스트 테이블 추가\n",
    "product_list.to_sql('productList', conn, if_exists='append', index=False)"
   ]
  },
  {
   "cell_type": "code",
   "execution_count": 67,
   "metadata": {},
   "outputs": [],
   "source": [
    "# 테이블 삭제\n",
    "c.execute(\"DROP TABLE productList\")\n",
    "conn.commit()"
   ]
  },
  {
   "cell_type": "code",
   "execution_count": 68,
   "metadata": {},
   "outputs": [],
   "source": [
    "product_list = [['모자', 15000],\n",
    "                ['코트', 200000],\n",
    "                ['티셔츠', 20000],\n",
    "                ['블라우스', 55000],\n",
    "                ['가디건', 45000],\n",
    "                ['청바지', 50000],\n",
    "                ['구두', 150000],\n",
    "                ['가방', 170000],\n",
    "                ['양말', 5000]]\n",
    "\n",
    "# 테이블 생성\n",
    "c.execute(\"CREATE TABLE IF NOT EXISTS productList(ID INTEGER PRIMARY KEY AUTOINCREMENT, 상품명 TEXT, 가격 INTEGER)\")\n",
    "\n",
    "# 레코드 추가\n",
    "c.executemany(\"INSERT INTO productList (상품명,가격) values (?,?)\", product_list)\n",
    "conn.commit()"
   ]
  },
  {
   "cell_type": "code",
   "execution_count": 69,
   "metadata": {},
   "outputs": [],
   "source": [
    "c.execute(\"CREATE TABLE IF NOT EXISTS orderList(ID INTEGER PRIMARY KEY AUTOINCREMENT, 상품명 TEXT, 개수 INTEGER, 가격 INTEGER, 총합 INTEGER)\")\n",
    "conn.commit()"
   ]
  },
  {
   "cell_type": "code",
   "execution_count": 70,
   "metadata": {},
   "outputs": [
    {
     "name": "stdout",
     "output_type": "stream",
     "text": [
      "------------------상품목록------------------\n",
      "상품번호 : 1 , 상품명 : 모자 , 가격 : 15000\n",
      "상품번호 : 2 , 상품명 : 코트 , 가격 : 200000\n",
      "상품번호 : 3 , 상품명 : 티셔츠 , 가격 : 20000\n",
      "상품번호 : 4 , 상품명 : 블라우스 , 가격 : 55000\n",
      "상품번호 : 5 , 상품명 : 가디건 , 가격 : 45000\n",
      "상품번호 : 6 , 상품명 : 청바지 , 가격 : 50000\n",
      "상품번호 : 7 , 상품명 : 구두 , 가격 : 150000\n",
      "상품번호 : 8 , 상품명 : 가방 , 가격 : 170000\n",
      "상품번호 : 9 , 상품명 : 양말 , 가격 : 5000\n",
      "--------------------------------------------\n",
      "\n",
      "\n",
      "\n",
      "현재까지 구매한 내역 보기\n",
      "--------------------주문목록--------------------\n",
      "상품명 : 가디건 , 주문수량 : 2 , 단가 : 45000 , 구매가격 : 90000\n",
      "------------------------------------------------\n",
      "\n",
      "상품을 추가 구매하시겠습니까?\n",
      "중단하려면 'x'을 눌러주세요.\n",
      "계속 하시려면 엔터키를 눌러주세요. \n"
     ]
    }
   ],
   "source": [
    "while True:\n",
    "\n",
    "    # 상품 목록을 표시\n",
    "    print(\"------------------상품목록------------------\")\n",
    "    for row in c.execute('SELECT ID, 상품명, 가격 FROM productList'):\n",
    "        print('상품번호 :', row[0], ', 상품명 :', row[1], ', 가격 :', row[2])\n",
    "    print(\"--------------------------------------------\")\n",
    "\n",
    "    # 사용자 상품 선택\n",
    "    print('')\n",
    "    num = input(\"구매하실 상품의 번호를 입력해주세요: \")\n",
    "    c.execute(\"SELECT 상품명, 가격 FROM productList WHERE id = ?\", (num,))\n",
    "    result = c.fetchone()\n",
    "\n",
    "    # 상품 번호와 주문 수량을 입력\n",
    "    print('')\n",
    "    count = int(input(\"구매할 수량을 입력해주세요: \"))\n",
    "    total = count * int(result[1])\n",
    "\n",
    "    # 주문 데이터를 db에 추가\n",
    "    c.execute(\"INSERT INTO orderList (상품명, 개수, 가격, 총합) VALUES (?,?,?,?)\", (result[0], count, result[1], total))\n",
    "\n",
    "    # 현재까지 주문 내역을 출력\n",
    "    print('')\n",
    "    print(\"현재까지 구매한 내역 보기\")\n",
    "    print(\"--------------------주문목록--------------------\")\n",
    "    for row in c.execute('SELECT * FROM orderList'):\n",
    "        print('상품명 :', row[1], ', 주문수량 :', row[2], ', 단가 :', row[3], ', 구매가격 :', row[4])\n",
    "    print(\"------------------------------------------------\")\n",
    "\n",
    "    # 사용자 추가 구매 여부\n",
    "    print('')\n",
    "    print(\"상품을 추가 구매하시겠습니까?\\n중단하려면 'x'을 눌러주세요.\\n계속 하시려면 엔터키를 눌러주세요. \")\n",
    "    if (input() == \"x\"):\n",
    "        break\n",
    " "
   ]
  },
  {
   "cell_type": "code",
   "execution_count": 71,
   "metadata": {},
   "outputs": [
    {
     "name": "stdout",
     "output_type": "stream",
     "text": [
      "총 구매가격 :  90000 원\n",
      "\n"
     ]
    }
   ],
   "source": [
    "# 주문 내역에서 총 구매 가격 계산\n",
    "print(\"총 구매가격\", end='')\n",
    "\n",
    "for row in c.execute('SELECT sum(총합) FROM orderList'):\n",
    "    print(' : ', row[0], '원')\n",
    "print('')\n",
    "\n",
    "# 주문 내역 초기화\n",
    "c.execute(\"DELETE FROM orderList\")\n",
    "\n",
    "# 데이터 베이스 연결 해제\n",
    "conn.close()"
   ]
  },
  {
   "cell_type": "code",
   "execution_count": 72,
   "metadata": {},
   "outputs": [
    {
     "name": "stdout",
     "output_type": "stream",
     "text": [
      "------------------상품목록------------------\n",
      "상품번호 : 1 , 상품명 : 모자 , 가격 : 15000\n",
      "상품번호 : 2 , 상품명 : 코트 , 가격 : 200000\n",
      "상품번호 : 3 , 상품명 : 티셔츠 , 가격 : 20000\n",
      "상품번호 : 4 , 상품명 : 블라우스 , 가격 : 55000\n",
      "상품번호 : 5 , 상품명 : 가디건 , 가격 : 45000\n",
      "상품번호 : 6 , 상품명 : 청바지 , 가격 : 50000\n",
      "상품번호 : 7 , 상품명 : 구두 , 가격 : 150000\n",
      "상품번호 : 8 , 상품명 : 가방 , 가격 : 170000\n",
      "상품번호 : 9 , 상품명 : 양말 , 가격 : 5000\n",
      "--------------------------------------------\n",
      "\n",
      "\n",
      "\n",
      "현재까지 구매한 내역 보기\n",
      "--------------------주문목록--------------------\n",
      "상품명 : 코트 , 주문수량 : 4 , 단가 : 200000 , 구매가격 : 800000\n",
      "------------------------------------------------\n",
      "\n",
      "상품을 추가 구매하시겠습니까?\n",
      "중단하려면 'x'을 눌러주세요.\n",
      "계속 하시려면 엔터키를 눌러주세요. \n",
      "총 구매가격 :  800000 원\n",
      "\n"
     ]
    }
   ],
   "source": [
    "import sqlite3\n",
    "\n",
    "#  쇼핑몰 데이터 베이스\n",
    "conn = sqlite3.connect(\"shopping_mall.db\", isolation_level=None)\n",
    "#  커서 생성\n",
    "c = conn.cursor()\n",
    "\n",
    "\n",
    "while True:\n",
    "\n",
    "    # 상품 목록을 표시\n",
    "    print(\"------------------상품목록------------------\")\n",
    "    for row in c.execute('SELECT ID, 상품명, 가격 FROM productList'):\n",
    "        print('상품번호 :', row[0], ', 상품명 :', row[1], ', 가격 :', row[2])\n",
    "    print(\"--------------------------------------------\")\n",
    "\n",
    "    # 사용자 상품 선택\n",
    "    print('')\n",
    "    num = input(\"구매하실 상품의 번호를 입력해주세요: \")\n",
    "    c.execute(\"SELECT 상품명, 가격 FROM productList WHERE id = ?\", (num,))\n",
    "    result = c.fetchone()\n",
    "\n",
    "    # 상품 번호와 주문 수량을 입력\n",
    "    print('')\n",
    "    count = int(input(\"구매할 수량을 입력해주세요: \"))\n",
    "    total = count * int(result[1])  # 주문 수량에 따른 가격\n",
    "\n",
    "    # 주문 데이터를 db에 추가\n",
    "    c.execute(\"INSERT INTO orderList (상품명, 개수, 가격, 총합) VALUES (?,?,?,?)\", (result[0], count, result[1], total))\n",
    "\n",
    "    # 현재까지 주문 내역을 출력\n",
    "    print('')\n",
    "    print(\"현재까지 구매한 내역 보기\")\n",
    "    print(\"--------------------주문목록--------------------\")\n",
    "    for row in c.execute('SELECT * FROM orderList'):\n",
    "        print('상품명 :', row[1], ', 주문수량 :', row[2], ', 단가 :', row[3], ', 구매가격 :', row[4])\n",
    "    print(\"------------------------------------------------\")\n",
    "\n",
    "    # 사용자 추가 구매 여부\n",
    "    print('')\n",
    "    print(\"상품을 추가 구매하시겠습니까?\\n중단하려면 'x'을 눌러주세요.\\n계속 하시려면 엔터키를 눌러주세요. \")\n",
    "    if (input() == \"x\"):\n",
    "        break\n",
    "\n",
    "# 주문 내역에서 총 구매 가격 계산\n",
    "print(\"총 구매가격\", end='')\n",
    "\n",
    "for row in c.execute('SELECT sum(총합) FROM orderList'):\n",
    "    print(' : ', row[0], '원')\n",
    "print('')\n",
    "\n",
    "# 주문 내역 초기화\n",
    "c.execute(\"DELETE FROM orderList\")\n",
    "\n",
    "# 데이터 베이스 연결 해제\n",
    "conn.close()"
   ]
  },
  {
   "cell_type": "code",
   "execution_count": null,
   "metadata": {},
   "outputs": [],
   "source": []
  }
 ],
 "metadata": {
  "kernelspec": {
   "display_name": "Python 3",
   "language": "python",
   "name": "python3"
  },
  "language_info": {
   "codemirror_mode": {
    "name": "ipython",
    "version": 3
   },
   "file_extension": ".py",
   "mimetype": "text/x-python",
   "name": "python",
   "nbconvert_exporter": "python",
   "pygments_lexer": "ipython3",
   "version": "3.8.2"
  }
 },
 "nbformat": 4,
 "nbformat_minor": 2
}
